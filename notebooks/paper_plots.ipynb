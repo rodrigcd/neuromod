{
 "cells": [
  {
   "cell_type": "code",
   "execution_count": 1,
   "id": "f3d9c841-c9e8-4ada-8520-d3e458bc52ea",
   "metadata": {},
   "outputs": [],
   "source": [
    "import numpy as np\n",
    "import matplotlib.pyplot as plt\n",
    "import glob"
   ]
  },
  {
   "cell_type": "code",
   "execution_count": 2,
   "id": "828ce3d5-cef8-42f5-8a4f-b5f44c7803ad",
   "metadata": {},
   "outputs": [
    {
     "data": {
      "text/html": [
       "<div class=\"bk-root\">\n",
       "        <a href=\"https://bokeh.org\" target=\"_blank\" class=\"bk-logo bk-logo-small bk-logo-notebook\"></a>\n",
       "        <span id=\"1002\">Loading BokehJS ...</span>\n",
       "    </div>\n"
      ]
     },
     "metadata": {},
     "output_type": "display_data"
    },
    {
     "data": {
      "application/javascript": [
       "(function(root) {\n",
       "  function now() {\n",
       "    return new Date();\n",
       "  }\n",
       "\n",
       "  const force = true;\n",
       "\n",
       "  if (typeof root._bokeh_onload_callbacks === \"undefined\" || force === true) {\n",
       "    root._bokeh_onload_callbacks = [];\n",
       "    root._bokeh_is_loading = undefined;\n",
       "  }\n",
       "\n",
       "const JS_MIME_TYPE = 'application/javascript';\n",
       "  const HTML_MIME_TYPE = 'text/html';\n",
       "  const EXEC_MIME_TYPE = 'application/vnd.bokehjs_exec.v0+json';\n",
       "  const CLASS_NAME = 'output_bokeh rendered_html';\n",
       "\n",
       "  /**\n",
       "   * Render data to the DOM node\n",
       "   */\n",
       "  function render(props, node) {\n",
       "    const script = document.createElement(\"script\");\n",
       "    node.appendChild(script);\n",
       "  }\n",
       "\n",
       "  /**\n",
       "   * Handle when an output is cleared or removed\n",
       "   */\n",
       "  function handleClearOutput(event, handle) {\n",
       "    const cell = handle.cell;\n",
       "\n",
       "    const id = cell.output_area._bokeh_element_id;\n",
       "    const server_id = cell.output_area._bokeh_server_id;\n",
       "    // Clean up Bokeh references\n",
       "    if (id != null && id in Bokeh.index) {\n",
       "      Bokeh.index[id].model.document.clear();\n",
       "      delete Bokeh.index[id];\n",
       "    }\n",
       "\n",
       "    if (server_id !== undefined) {\n",
       "      // Clean up Bokeh references\n",
       "      const cmd_clean = \"from bokeh.io.state import curstate; print(curstate().uuid_to_server['\" + server_id + \"'].get_sessions()[0].document.roots[0]._id)\";\n",
       "      cell.notebook.kernel.execute(cmd_clean, {\n",
       "        iopub: {\n",
       "          output: function(msg) {\n",
       "            const id = msg.content.text.trim();\n",
       "            if (id in Bokeh.index) {\n",
       "              Bokeh.index[id].model.document.clear();\n",
       "              delete Bokeh.index[id];\n",
       "            }\n",
       "          }\n",
       "        }\n",
       "      });\n",
       "      // Destroy server and session\n",
       "      const cmd_destroy = \"import bokeh.io.notebook as ion; ion.destroy_server('\" + server_id + \"')\";\n",
       "      cell.notebook.kernel.execute(cmd_destroy);\n",
       "    }\n",
       "  }\n",
       "\n",
       "  /**\n",
       "   * Handle when a new output is added\n",
       "   */\n",
       "  function handleAddOutput(event, handle) {\n",
       "    const output_area = handle.output_area;\n",
       "    const output = handle.output;\n",
       "\n",
       "    // limit handleAddOutput to display_data with EXEC_MIME_TYPE content only\n",
       "    if ((output.output_type != \"display_data\") || (!Object.prototype.hasOwnProperty.call(output.data, EXEC_MIME_TYPE))) {\n",
       "      return\n",
       "    }\n",
       "\n",
       "    const toinsert = output_area.element.find(\".\" + CLASS_NAME.split(' ')[0]);\n",
       "\n",
       "    if (output.metadata[EXEC_MIME_TYPE][\"id\"] !== undefined) {\n",
       "      toinsert[toinsert.length - 1].firstChild.textContent = output.data[JS_MIME_TYPE];\n",
       "      // store reference to embed id on output_area\n",
       "      output_area._bokeh_element_id = output.metadata[EXEC_MIME_TYPE][\"id\"];\n",
       "    }\n",
       "    if (output.metadata[EXEC_MIME_TYPE][\"server_id\"] !== undefined) {\n",
       "      const bk_div = document.createElement(\"div\");\n",
       "      bk_div.innerHTML = output.data[HTML_MIME_TYPE];\n",
       "      const script_attrs = bk_div.children[0].attributes;\n",
       "      for (let i = 0; i < script_attrs.length; i++) {\n",
       "        toinsert[toinsert.length - 1].firstChild.setAttribute(script_attrs[i].name, script_attrs[i].value);\n",
       "        toinsert[toinsert.length - 1].firstChild.textContent = bk_div.children[0].textContent\n",
       "      }\n",
       "      // store reference to server id on output_area\n",
       "      output_area._bokeh_server_id = output.metadata[EXEC_MIME_TYPE][\"server_id\"];\n",
       "    }\n",
       "  }\n",
       "\n",
       "  function register_renderer(events, OutputArea) {\n",
       "\n",
       "    function append_mime(data, metadata, element) {\n",
       "      // create a DOM node to render to\n",
       "      const toinsert = this.create_output_subarea(\n",
       "        metadata,\n",
       "        CLASS_NAME,\n",
       "        EXEC_MIME_TYPE\n",
       "      );\n",
       "      this.keyboard_manager.register_events(toinsert);\n",
       "      // Render to node\n",
       "      const props = {data: data, metadata: metadata[EXEC_MIME_TYPE]};\n",
       "      render(props, toinsert[toinsert.length - 1]);\n",
       "      element.append(toinsert);\n",
       "      return toinsert\n",
       "    }\n",
       "\n",
       "    /* Handle when an output is cleared or removed */\n",
       "    events.on('clear_output.CodeCell', handleClearOutput);\n",
       "    events.on('delete.Cell', handleClearOutput);\n",
       "\n",
       "    /* Handle when a new output is added */\n",
       "    events.on('output_added.OutputArea', handleAddOutput);\n",
       "\n",
       "    /**\n",
       "     * Register the mime type and append_mime function with output_area\n",
       "     */\n",
       "    OutputArea.prototype.register_mime_type(EXEC_MIME_TYPE, append_mime, {\n",
       "      /* Is output safe? */\n",
       "      safe: true,\n",
       "      /* Index of renderer in `output_area.display_order` */\n",
       "      index: 0\n",
       "    });\n",
       "  }\n",
       "\n",
       "  // register the mime type if in Jupyter Notebook environment and previously unregistered\n",
       "  if (root.Jupyter !== undefined) {\n",
       "    const events = require('base/js/events');\n",
       "    const OutputArea = require('notebook/js/outputarea').OutputArea;\n",
       "\n",
       "    if (OutputArea.prototype.mime_types().indexOf(EXEC_MIME_TYPE) == -1) {\n",
       "      register_renderer(events, OutputArea);\n",
       "    }\n",
       "  }\n",
       "  if (typeof (root._bokeh_timeout) === \"undefined\" || force === true) {\n",
       "    root._bokeh_timeout = Date.now() + 5000;\n",
       "    root._bokeh_failed_load = false;\n",
       "  }\n",
       "\n",
       "  const NB_LOAD_WARNING = {'data': {'text/html':\n",
       "     \"<div style='background-color: #fdd'>\\n\"+\n",
       "     \"<p>\\n\"+\n",
       "     \"BokehJS does not appear to have successfully loaded. If loading BokehJS from CDN, this \\n\"+\n",
       "     \"may be due to a slow or bad network connection. Possible fixes:\\n\"+\n",
       "     \"</p>\\n\"+\n",
       "     \"<ul>\\n\"+\n",
       "     \"<li>re-rerun `output_notebook()` to attempt to load from CDN again, or</li>\\n\"+\n",
       "     \"<li>use INLINE resources instead, as so:</li>\\n\"+\n",
       "     \"</ul>\\n\"+\n",
       "     \"<code>\\n\"+\n",
       "     \"from bokeh.resources import INLINE\\n\"+\n",
       "     \"output_notebook(resources=INLINE)\\n\"+\n",
       "     \"</code>\\n\"+\n",
       "     \"</div>\"}};\n",
       "\n",
       "  function display_loaded() {\n",
       "    const el = document.getElementById(\"1002\");\n",
       "    if (el != null) {\n",
       "      el.textContent = \"BokehJS is loading...\";\n",
       "    }\n",
       "    if (root.Bokeh !== undefined) {\n",
       "      if (el != null) {\n",
       "        el.textContent = \"BokehJS \" + root.Bokeh.version + \" successfully loaded.\";\n",
       "      }\n",
       "    } else if (Date.now() < root._bokeh_timeout) {\n",
       "      setTimeout(display_loaded, 100)\n",
       "    }\n",
       "  }\n",
       "\n",
       "  function run_callbacks() {\n",
       "    try {\n",
       "      root._bokeh_onload_callbacks.forEach(function(callback) {\n",
       "        if (callback != null)\n",
       "          callback();\n",
       "      });\n",
       "    } finally {\n",
       "      delete root._bokeh_onload_callbacks\n",
       "    }\n",
       "    console.debug(\"Bokeh: all callbacks have finished\");\n",
       "  }\n",
       "\n",
       "  function load_libs(css_urls, js_urls, callback) {\n",
       "    if (css_urls == null) css_urls = [];\n",
       "    if (js_urls == null) js_urls = [];\n",
       "\n",
       "    root._bokeh_onload_callbacks.push(callback);\n",
       "    if (root._bokeh_is_loading > 0) {\n",
       "      console.debug(\"Bokeh: BokehJS is being loaded, scheduling callback at\", now());\n",
       "      return null;\n",
       "    }\n",
       "    if (js_urls == null || js_urls.length === 0) {\n",
       "      run_callbacks();\n",
       "      return null;\n",
       "    }\n",
       "    console.debug(\"Bokeh: BokehJS not loaded, scheduling load and callback at\", now());\n",
       "    root._bokeh_is_loading = css_urls.length + js_urls.length;\n",
       "\n",
       "    function on_load() {\n",
       "      root._bokeh_is_loading--;\n",
       "      if (root._bokeh_is_loading === 0) {\n",
       "        console.debug(\"Bokeh: all BokehJS libraries/stylesheets loaded\");\n",
       "        run_callbacks()\n",
       "      }\n",
       "    }\n",
       "\n",
       "    function on_error(url) {\n",
       "      console.error(\"failed to load \" + url);\n",
       "    }\n",
       "\n",
       "    for (let i = 0; i < css_urls.length; i++) {\n",
       "      const url = css_urls[i];\n",
       "      const element = document.createElement(\"link\");\n",
       "      element.onload = on_load;\n",
       "      element.onerror = on_error.bind(null, url);\n",
       "      element.rel = \"stylesheet\";\n",
       "      element.type = \"text/css\";\n",
       "      element.href = url;\n",
       "      console.debug(\"Bokeh: injecting link tag for BokehJS stylesheet: \", url);\n",
       "      document.body.appendChild(element);\n",
       "    }\n",
       "\n",
       "    for (let i = 0; i < js_urls.length; i++) {\n",
       "      const url = js_urls[i];\n",
       "      const element = document.createElement('script');\n",
       "      element.onload = on_load;\n",
       "      element.onerror = on_error.bind(null, url);\n",
       "      element.async = false;\n",
       "      element.src = url;\n",
       "      console.debug(\"Bokeh: injecting script tag for BokehJS library: \", url);\n",
       "      document.head.appendChild(element);\n",
       "    }\n",
       "  };\n",
       "\n",
       "  function inject_raw_css(css) {\n",
       "    const element = document.createElement(\"style\");\n",
       "    element.appendChild(document.createTextNode(css));\n",
       "    document.body.appendChild(element);\n",
       "  }\n",
       "\n",
       "  const js_urls = [\"https://cdn.bokeh.org/bokeh/release/bokeh-2.4.3.min.js\", \"https://cdn.bokeh.org/bokeh/release/bokeh-gl-2.4.3.min.js\", \"https://cdn.bokeh.org/bokeh/release/bokeh-widgets-2.4.3.min.js\", \"https://cdn.bokeh.org/bokeh/release/bokeh-tables-2.4.3.min.js\", \"https://cdn.bokeh.org/bokeh/release/bokeh-mathjax-2.4.3.min.js\"];\n",
       "  const css_urls = [];\n",
       "\n",
       "  const inline_js = [    function(Bokeh) {\n",
       "      Bokeh.set_log_level(\"info\");\n",
       "    },\n",
       "function(Bokeh) {\n",
       "    }\n",
       "  ];\n",
       "\n",
       "  function run_inline_js() {\n",
       "    if (root.Bokeh !== undefined || force === true) {\n",
       "          for (let i = 0; i < inline_js.length; i++) {\n",
       "      inline_js[i].call(root, root.Bokeh);\n",
       "    }\n",
       "if (force === true) {\n",
       "        display_loaded();\n",
       "      }} else if (Date.now() < root._bokeh_timeout) {\n",
       "      setTimeout(run_inline_js, 100);\n",
       "    } else if (!root._bokeh_failed_load) {\n",
       "      console.log(\"Bokeh: BokehJS failed to load within specified timeout.\");\n",
       "      root._bokeh_failed_load = true;\n",
       "    } else if (force !== true) {\n",
       "      const cell = $(document.getElementById(\"1002\")).parents('.cell').data().cell;\n",
       "      cell.output_area.append_execute_result(NB_LOAD_WARNING)\n",
       "    }\n",
       "  }\n",
       "\n",
       "  if (root._bokeh_is_loading === 0) {\n",
       "    console.debug(\"Bokeh: BokehJS loaded, going straight to plotting\");\n",
       "    run_inline_js();\n",
       "  } else {\n",
       "    load_libs(css_urls, js_urls, function() {\n",
       "      console.debug(\"Bokeh: BokehJS plotting callback run at\", now());\n",
       "      run_inline_js();\n",
       "    });\n",
       "  }\n",
       "}(window));"
      ],
      "application/vnd.bokehjs_load.v0+json": "(function(root) {\n  function now() {\n    return new Date();\n  }\n\n  const force = true;\n\n  if (typeof root._bokeh_onload_callbacks === \"undefined\" || force === true) {\n    root._bokeh_onload_callbacks = [];\n    root._bokeh_is_loading = undefined;\n  }\n\n\n  if (typeof (root._bokeh_timeout) === \"undefined\" || force === true) {\n    root._bokeh_timeout = Date.now() + 5000;\n    root._bokeh_failed_load = false;\n  }\n\n  const NB_LOAD_WARNING = {'data': {'text/html':\n     \"<div style='background-color: #fdd'>\\n\"+\n     \"<p>\\n\"+\n     \"BokehJS does not appear to have successfully loaded. If loading BokehJS from CDN, this \\n\"+\n     \"may be due to a slow or bad network connection. Possible fixes:\\n\"+\n     \"</p>\\n\"+\n     \"<ul>\\n\"+\n     \"<li>re-rerun `output_notebook()` to attempt to load from CDN again, or</li>\\n\"+\n     \"<li>use INLINE resources instead, as so:</li>\\n\"+\n     \"</ul>\\n\"+\n     \"<code>\\n\"+\n     \"from bokeh.resources import INLINE\\n\"+\n     \"output_notebook(resources=INLINE)\\n\"+\n     \"</code>\\n\"+\n     \"</div>\"}};\n\n  function display_loaded() {\n    const el = document.getElementById(\"1002\");\n    if (el != null) {\n      el.textContent = \"BokehJS is loading...\";\n    }\n    if (root.Bokeh !== undefined) {\n      if (el != null) {\n        el.textContent = \"BokehJS \" + root.Bokeh.version + \" successfully loaded.\";\n      }\n    } else if (Date.now() < root._bokeh_timeout) {\n      setTimeout(display_loaded, 100)\n    }\n  }\n\n  function run_callbacks() {\n    try {\n      root._bokeh_onload_callbacks.forEach(function(callback) {\n        if (callback != null)\n          callback();\n      });\n    } finally {\n      delete root._bokeh_onload_callbacks\n    }\n    console.debug(\"Bokeh: all callbacks have finished\");\n  }\n\n  function load_libs(css_urls, js_urls, callback) {\n    if (css_urls == null) css_urls = [];\n    if (js_urls == null) js_urls = [];\n\n    root._bokeh_onload_callbacks.push(callback);\n    if (root._bokeh_is_loading > 0) {\n      console.debug(\"Bokeh: BokehJS is being loaded, scheduling callback at\", now());\n      return null;\n    }\n    if (js_urls == null || js_urls.length === 0) {\n      run_callbacks();\n      return null;\n    }\n    console.debug(\"Bokeh: BokehJS not loaded, scheduling load and callback at\", now());\n    root._bokeh_is_loading = css_urls.length + js_urls.length;\n\n    function on_load() {\n      root._bokeh_is_loading--;\n      if (root._bokeh_is_loading === 0) {\n        console.debug(\"Bokeh: all BokehJS libraries/stylesheets loaded\");\n        run_callbacks()\n      }\n    }\n\n    function on_error(url) {\n      console.error(\"failed to load \" + url);\n    }\n\n    for (let i = 0; i < css_urls.length; i++) {\n      const url = css_urls[i];\n      const element = document.createElement(\"link\");\n      element.onload = on_load;\n      element.onerror = on_error.bind(null, url);\n      element.rel = \"stylesheet\";\n      element.type = \"text/css\";\n      element.href = url;\n      console.debug(\"Bokeh: injecting link tag for BokehJS stylesheet: \", url);\n      document.body.appendChild(element);\n    }\n\n    for (let i = 0; i < js_urls.length; i++) {\n      const url = js_urls[i];\n      const element = document.createElement('script');\n      element.onload = on_load;\n      element.onerror = on_error.bind(null, url);\n      element.async = false;\n      element.src = url;\n      console.debug(\"Bokeh: injecting script tag for BokehJS library: \", url);\n      document.head.appendChild(element);\n    }\n  };\n\n  function inject_raw_css(css) {\n    const element = document.createElement(\"style\");\n    element.appendChild(document.createTextNode(css));\n    document.body.appendChild(element);\n  }\n\n  const js_urls = [\"https://cdn.bokeh.org/bokeh/release/bokeh-2.4.3.min.js\", \"https://cdn.bokeh.org/bokeh/release/bokeh-gl-2.4.3.min.js\", \"https://cdn.bokeh.org/bokeh/release/bokeh-widgets-2.4.3.min.js\", \"https://cdn.bokeh.org/bokeh/release/bokeh-tables-2.4.3.min.js\", \"https://cdn.bokeh.org/bokeh/release/bokeh-mathjax-2.4.3.min.js\"];\n  const css_urls = [];\n\n  const inline_js = [    function(Bokeh) {\n      Bokeh.set_log_level(\"info\");\n    },\nfunction(Bokeh) {\n    }\n  ];\n\n  function run_inline_js() {\n    if (root.Bokeh !== undefined || force === true) {\n          for (let i = 0; i < inline_js.length; i++) {\n      inline_js[i].call(root, root.Bokeh);\n    }\nif (force === true) {\n        display_loaded();\n      }} else if (Date.now() < root._bokeh_timeout) {\n      setTimeout(run_inline_js, 100);\n    } else if (!root._bokeh_failed_load) {\n      console.log(\"Bokeh: BokehJS failed to load within specified timeout.\");\n      root._bokeh_failed_load = true;\n    } else if (force !== true) {\n      const cell = $(document.getElementById(\"1002\")).parents('.cell').data().cell;\n      cell.output_area.append_execute_result(NB_LOAD_WARNING)\n    }\n  }\n\n  if (root._bokeh_is_loading === 0) {\n    console.debug(\"Bokeh: BokehJS loaded, going straight to plotting\");\n    run_inline_js();\n  } else {\n    load_libs(css_urls, js_urls, function() {\n      console.debug(\"Bokeh: BokehJS plotting callback run at\", now());\n      run_inline_js();\n    });\n  }\n}(window));"
     },
     "metadata": {},
     "output_type": "display_data"
    }
   ],
   "source": [
    "from metamod.utils import ResultsManager, single_task_plot, task_switch_plot, cat_assimilation_plot, task_engagement_plot, \\\n",
    "    load_single_layer_vars, single_neuron_param_plot, SingleLayerManager, single_neuron_baseline_plot"
   ]
  },
  {
   "cell_type": "markdown",
   "id": "5129fb2c-69ee-463b-9a1b-18050955daec",
   "metadata": {},
   "source": [
    "# Single Neuron Baseline"
   ]
  },
  {
   "cell_type": "code",
   "execution_count": null,
   "id": "f21bbb2d-a319-49a2-b356-dffc14d37a66",
   "metadata": {},
   "outputs": [],
   "source": [
    "results_path = \"../results/testing_single_neuron_15-01-2023_17-58-53-108\"\n",
    "result_manager = SingleLayerManager(results_path)"
   ]
  },
  {
   "cell_type": "code",
   "execution_count": null,
   "id": "2eeb021f-c5c7-4f53-b176-d564a873e173",
   "metadata": {},
   "outputs": [],
   "source": [
    "figsize = (8, 6/5*4)\n",
    "fontsize = 16\n",
    "line_width = 3.5\n",
    "subplot_labels = np.array([[\"(a)\", \"(b)\"], [\"(c)\", \"(d)\"]])\n",
    "single_neuron_baseline_plot(result_manager, figsize=figsize, fontsize=fontsize, line_width=line_width, subplot_labels=subplot_labels)\n",
    "plt.savefig(\"paper_figures/paper_single_neuron.pdf\", bbox_inches=\"tight\")"
   ]
  },
  {
   "cell_type": "markdown",
   "id": "2bb7dfa9-4a56-48ff-9ebf-e4b19024c754",
   "metadata": {},
   "source": [
    "# Single Neuron param sweep"
   ]
  },
  {
   "cell_type": "code",
   "execution_count": null,
   "id": "dbc1105b-4966-473d-b70f-78006f440fb2",
   "metadata": {},
   "outputs": [],
   "source": [
    "results_per_var, ranges = load_single_layer_vars()"
   ]
  },
  {
   "cell_type": "code",
   "execution_count": null,
   "id": "2e49dc53-5a3c-4deb-bcf3-e075557e1634",
   "metadata": {},
   "outputs": [],
   "source": [
    "figsize = (8, 6/5*4)\n",
    "fontsize = 16\n",
    "line_width = 3.5\n",
    "selected_vars = [\"gamma\", \"sigmas\"]\n",
    "var_label = [r\"$\\gamma=$\", r\"$\\sigma_{x}=$\"]\n",
    "x_lim_vars = [(0, 300), (0, 300)]\n",
    "subplot_labels = np.array([[\"(a)\", \"(b)\"], [\"(c)\", \"(d)\"]])"
   ]
  },
  {
   "cell_type": "code",
   "execution_count": null,
   "id": "df46fa72-7fdb-44e5-aadf-6dc7b9759ad0",
   "metadata": {},
   "outputs": [],
   "source": [
    "single_neuron_param_plot(results_per_var, figsize=figsize, fontsize=fontsize, line_width=line_width, selected_vars=selected_vars,\n",
    "                         x_lim_vars=x_lim_vars, var_label=var_label, subplot_labels=subplot_labels)\n",
    "plt.savefig(\"paper_figures/sample_param_sweep.pdf\", bbox_inches=\"tight\")"
   ]
  },
  {
   "cell_type": "code",
   "execution_count": null,
   "id": "40afcfe3-2a73-4aa6-bdbd-1ced65fbcfbc",
   "metadata": {},
   "outputs": [],
   "source": [
    "figsize = (12, 6/5*4)\n",
    "fontsize = 16\n",
    "line_width = 3.5\n",
    "selected_vars = [\"betas\", \"reg_coef\", \"n_steps\"]\n",
    "var_label = [r\"$\\beta=$\", r\"$\\lambda_{x}=$\", r\"$T=$\"]\n",
    "x_lim_vars = [(0, 600), (0, 300), (0, 1)]\n",
    "subplot_labels = np.array([[\"(a)\", \"(b)\", \"(c)\"], [\"(d)\", \"(e)\", \"(f)\"]])"
   ]
  },
  {
   "cell_type": "code",
   "execution_count": null,
   "id": "4f611453-a459-4509-8068-2b85ebc462f3",
   "metadata": {},
   "outputs": [],
   "source": [
    "single_neuron_param_plot(results_per_var, figsize=figsize, fontsize=fontsize, line_width=line_width, selected_vars=selected_vars,\n",
    "                         x_lim_vars=x_lim_vars, var_label=var_label, subplot_labels=subplot_labels)\n",
    "plt.savefig(\"paper_figures/param_sweep.pdf\", bbox_inches=\"tight\")"
   ]
  },
  {
   "cell_type": "markdown",
   "id": "c950547a-32c9-4866-a168-92be0b6f1b7c",
   "metadata": {},
   "source": [
    "# Single task"
   ]
  },
  {
   "cell_type": "code",
   "execution_count": null,
   "id": "36b50f4e-ea1c-4bf0-9b6d-83784c536146",
   "metadata": {},
   "outputs": [],
   "source": [
    "#semantic_dir_list = glob.glob(\"../results/two_layer_linear/run_id_*_Semantic*\")\n",
    "#semantic_dir_list = glob.glob(\"../results/small_weights/run_id_*_Semantic*\")\n",
    "#mnist_dir_list = glob.glob(\"../results/two_layer_linear/run_id_*_MNIST*\")\n",
    "#gaussian_dir_list = glob.glob(\"../results/two_layer_linear/run_id_*_AffineCorrelatedGaussian*\")\n",
    "\n",
    "#semantic_dir_list = glob.glob(\"../results/small_reg/run_id_*_Semantic*\")\n",
    "#mnist_dir_list = glob.glob(\"../results/small_reg/run_id_*_MNIST*\")\n",
    "#gaussian_dir_list = glob.glob(\"../results/small_reg/run_id_*_AffineCorrelatedGaussian*\")\n",
    "\n",
    "semantic_dir_list = glob.glob(\"../results/single_task_more_iters/run_id_*_Semantic*\")\n",
    "mnist_dir_list = glob.glob(\"../results/single_task_more_iters/run_id_*_MNIST*\")\n",
    "gaussian_dir_list = glob.glob(\"../results/single_task_more_iters/run_id_*_AffineCorrelatedGaussian*\")"
   ]
  },
  {
   "cell_type": "code",
   "execution_count": null,
   "id": "60fd02f7-c38a-470b-8faa-271584542440",
   "metadata": {},
   "outputs": [],
   "source": [
    "semantic_dir_list, mnist_dir_list, gaussian_dir_list"
   ]
  },
  {
   "cell_type": "code",
   "execution_count": null,
   "id": "0daffc27-ba89-48b7-ac3e-6d2ed685441d",
   "metadata": {},
   "outputs": [],
   "source": [
    "results = []\n",
    "for result_dir in mnist_dir_list:\n",
    "    results.append(ResultsManager(result_dir))"
   ]
  },
  {
   "cell_type": "code",
   "execution_count": null,
   "id": "f71ffa33-954c-4926-b491-fcd9cc3a0252",
   "metadata": {},
   "outputs": [],
   "source": [
    "results[-2].show_keys()"
   ]
  },
  {
   "cell_type": "code",
   "execution_count": null,
   "id": "17c6842e-59ac-4364-8287-accd3368affe",
   "metadata": {},
   "outputs": [],
   "source": [
    "results[-1].results.keys()\n",
    "results[-1].params[\"model_params\"]"
   ]
  },
  {
   "cell_type": "markdown",
   "id": "797d1fe3-c60a-41e4-9633-a2ec39eed3a9",
   "metadata": {},
   "source": [
    "# Single tasks plots"
   ]
  },
  {
   "cell_type": "code",
   "execution_count": null,
   "id": "e3d3dd0a-9303-4db6-bde9-4fbf05c04c43",
   "metadata": {},
   "outputs": [],
   "source": [
    "f, ax = plt.subplots(2, 2, figsize=(8, 6/5*4))\n",
    "f.subplots_adjust(wspace=0.23)\n",
    "ax = ax.flatten()\n",
    "subplot_labels = np.array([[\"(a)\", \"(b)\"], [\"(c)\", \"(d)\"]])\n",
    "subplot_labels = subplot_labels.flatten()\n",
    "ax = single_task_plot(results, ax=ax, fontsize=16, line_width=3, x_lim=(0, 6000), skip_xlabel=True, label_in_title=False, subplot_labels=subplot_labels)\n",
    "plt.savefig(\"paper_figures/single_task_mnist.pdf\", bbox_inches=\"tight\")"
   ]
  },
  {
   "cell_type": "code",
   "execution_count": null,
   "id": "3100ffc5-591b-4075-bd48-3c7627ed4b40",
   "metadata": {},
   "outputs": [],
   "source": [
    "results = []\n",
    "for result_dir in gaussian_dir_list:\n",
    "    results.append(ResultsManager(result_dir))\n",
    "\n",
    "f, ax = plt.subplots(1, 4, figsize=(16, 6/5*2))\n",
    "ax = ax.flatten()\n",
    "subplot_labels = np.array([[\"(a)\", \"(b)\"], [\"(c)\", \"(d)\"]])\n",
    "subplot_labels = subplot_labels.flatten()\n",
    "ax = single_task_plot(results, ax=ax, fontsize=15, line_width=3.5, x_lim=(0, 2000), skip_xlabel=False, label_in_title=True, subplot_labels=subplot_labels)\n",
    "plt.savefig(\"paper_figures/single_task_gaussian.pdf\", bbox_inches=\"tight\")"
   ]
  },
  {
   "cell_type": "code",
   "execution_count": null,
   "id": "55cb965e-2ca7-412d-94d0-3e860e7fb599",
   "metadata": {},
   "outputs": [],
   "source": [
    "results = []\n",
    "for result_dir in semantic_dir_list:\n",
    "    results.append(ResultsManager(result_dir))\n",
    "\n",
    "f, ax = plt.subplots(1, 4, figsize=(16, 6/5*2))\n",
    "ax = ax.flatten()\n",
    "ax = single_task_plot(results, ax=ax, fontsize=15, line_width=3.5, x_lim=(0, 16000), skip_xlabel=False, label_in_title=True, subplot_labels=subplot_labels)\n",
    "plt.savefig(\"paper_figures/single_task_semantic.pdf\", bbox_inches=\"tight\")"
   ]
  },
  {
   "cell_type": "markdown",
   "id": "9cec74d3-93bf-42b7-9bbb-85e733f72fd6",
   "metadata": {},
   "source": [
    "# Task switch plot"
   ]
  },
  {
   "cell_type": "code",
   "execution_count": null,
   "id": "35f5cd19-0f2f-47a6-bb72-f1e876fed988",
   "metadata": {},
   "outputs": [],
   "source": [
    "#results_path = \"../results/task_switch_main/slow_switch_run0_AffineCorrelatedGaussian_27-12-2022_20-36-08-225\"\n",
    "#results_path = \"../results/task_switch_with_reg/slow_switch_run0_AffineCorrelatedGaussian_17-01-2023_21-57-52-931\"\n",
    "results_path = \"../results/task_switch_less_reg_longer/slow_switch_run0_AffineCorrelatedGaussian_18-01-2023_19-32-18-232\"\n",
    "\n",
    "results = ResultsManager(results_path, verbose=True)"
   ]
  },
  {
   "cell_type": "code",
   "execution_count": null,
   "id": "a73faa24-25d8-41d1-8dc1-da95573c062a",
   "metadata": {},
   "outputs": [],
   "source": [
    "results.params[\"model_params\"][\"reg_coef\"]\n",
    "0.01*2*8"
   ]
  },
  {
   "cell_type": "code",
   "execution_count": null,
   "id": "1a77f221-29d1-42df-b6b6-a4a21234dcc6",
   "metadata": {},
   "outputs": [],
   "source": [
    "figsize = (8, 6/5*4)\n",
    "fontsize = 15\n",
    "line_width = 3.5\n",
    "zoom_xlim = (16000, 18200)\n",
    "zoom_ylim = (-0.05, 0.5)\n",
    "subplot_labels = np.array([\"(a)\", \"(b)\", \"(c)\"])\n",
    "hspace = 0.55\n",
    "legend_pos = (0, 1.17)\n",
    "legend_pos2 = (0.15, 1)\n",
    "line_pos_y = 1.7\n",
    "\n",
    "f = task_switch_plot(results, figsize=figsize, fontsize=fontsize, line_width=line_width, zoom_xlim=zoom_xlim, zoom_ylim=zoom_ylim, \n",
    "                     subplot_labels=subplot_labels, hspace=hspace, legend_pos=legend_pos, legend_pos2=legend_pos2, line_pos_y=line_pos_y)\n",
    "plt.savefig(\"paper_figures/task_switch.pdf\", bbox_inches=\"tight\")"
   ]
  },
  {
   "cell_type": "markdown",
   "id": "198f2e70-5419-4719-a0f3-98fd1fcaf0a8",
   "metadata": {},
   "source": [
    "# Category assimilation"
   ]
  },
  {
   "cell_type": "code",
   "execution_count": 3,
   "id": "5c95eb27-8b66-43af-8d79-0b91b6aa89fe",
   "metadata": {},
   "outputs": [],
   "source": [
    "# results_path1_list = glob.glob(\"../results/category_assimilation/*Semantic*\")\n",
    "# results_path2_list = glob.glob(\"../results/category_assimilation/*MNIST*\")\n",
    "\n",
    "results_path1_list = glob.glob(\"../results/cat_small_weights/*Semantic*\")\n",
    "results_path2_list = glob.glob(\"../results/cat_small_weights/*MNIST*\")"
   ]
  },
  {
   "cell_type": "code",
   "execution_count": 4,
   "id": "100a970a-8f70-4f82-ae4b-b083d92b03cb",
   "metadata": {},
   "outputs": [
    {
     "data": {
      "text/plain": [
       "(['../results/cat_small_weights/run_id_4_Semantic_20-01-2023_00-52-26-876',\n",
       "  '../results/cat_small_weights/run_id_2_Semantic_20-01-2023_01-28-53-238',\n",
       "  '../results/cat_small_weights/run_id_8_Semantic_20-01-2023_14-34-38-665',\n",
       "  '../results/cat_small_weights/run_id_6_Semantic_20-01-2023_00-51-52-178',\n",
       "  '../results/cat_small_weights/run_id_0_Semantic_20-01-2023_03-14-38-069'],\n",
       " ['../results/cat_small_weights/run_id_1_MNIST_20-01-2023_04-21-08-620',\n",
       "  '../results/cat_small_weights/run_id_7_MNIST_20-01-2023_02-09-32-754',\n",
       "  '../results/cat_small_weights/run_id_3_MNIST_20-01-2023_04-25-33-268',\n",
       "  '../results/cat_small_weights/run_id_9_MNIST_20-01-2023_02-09-16-580',\n",
       "  '../results/cat_small_weights/run_id_5_MNIST_20-01-2023_04-24-39-606'])"
      ]
     },
     "execution_count": 4,
     "metadata": {},
     "output_type": "execute_result"
    }
   ],
   "source": [
    "results_path1_list, results_path2_list"
   ]
  },
  {
   "cell_type": "code",
   "execution_count": null,
   "id": "e2c29510-b8b3-40a6-a7d3-0abf68dcb363",
   "metadata": {},
   "outputs": [],
   "source": [
    "results = []\n",
    "results_list1 = [ResultsManager(path_) for path_ in results_path1_list]\n",
    "results_list2 = [ResultsManager(path_) for path_ in results_path2_list]\n",
    "results = [results_list1, results_list2]"
   ]
  },
  {
   "cell_type": "code",
   "execution_count": null,
   "id": "652efd85-3450-42eb-9514-8bb042f7c9fe",
   "metadata": {},
   "outputs": [],
   "source": [
    "figsize = (8, 6/5*4)\n",
    "fontsize = 16\n",
    "line_width = 3\n",
    "subplot_labels = np.array([[\"(a)\", \"(b)\"], [\"(c)\", \"(d)\"]])\n",
    "xlim1 = (0, 10500)"
   ]
  },
  {
   "cell_type": "code",
   "execution_count": null,
   "id": "9599dc76-878a-4a4e-96c4-cbd03ac85b0e",
   "metadata": {},
   "outputs": [],
   "source": [
    "cat_assimilation_plot(results[0], results[1], figsize=figsize, fontsize=fontsize, line_width=line_width,\n",
    "                     subplot_labels=subplot_labels, xlim1=xlim1)\n",
    "plt.savefig(\"paper_figures/category_assimilation.pdf\", bbox_inches=\"tight\")"
   ]
  },
  {
   "cell_type": "markdown",
   "id": "6e005a42-bb2a-412c-b405-745fbc875d98",
   "metadata": {},
   "source": [
    "# Task engagement"
   ]
  },
  {
   "cell_type": "code",
   "execution_count": 3,
   "id": "b91db3c2-9269-4ebb-b8ed-f7b1f637f116",
   "metadata": {},
   "outputs": [],
   "source": [
    "results_path1_list = glob.glob(\"../results/task_engagement/*MNIST-3_active*\")\n",
    "results_path2_list = glob.glob(\"../results/task_engagement/*MNIST-3_attention*\")\n",
    "results_path3_list = glob.glob(\"../results/task_engagement/*MNIST-3_vector*\")"
   ]
  },
  {
   "cell_type": "code",
   "execution_count": 4,
   "id": "1cff1752-4c56-4fe1-8060-105c3c7c398b",
   "metadata": {},
   "outputs": [
    {
     "data": {
      "text/plain": [
       "(['../results/task_engagement/run_id_9_MNIST-3_active_09-01-2023_06-40-14-613',\n",
       "  '../results/task_engagement/run_id_1_MNIST-3_active_09-01-2023_08-06-05-232',\n",
       "  '../results/task_engagement/run_id_5_MNIST-3_active_09-01-2023_06-39-11-205',\n",
       "  '../results/task_engagement/run_id_3_MNIST-3_active_09-01-2023_07-55-50-474',\n",
       "  '../results/task_engagement/run_id_7_MNIST-3_active_09-01-2023_06-32-09-738'],\n",
       " ['../results/task_engagement/run_id_7_MNIST-3_attention_09-01-2023_06-42-18-124',\n",
       "  '../results/task_engagement/run_id_9_MNIST-3_attention_09-01-2023_06-38-32-157',\n",
       "  '../results/task_engagement/run_id_5_MNIST-3_attention_09-01-2023_06-42-30-713',\n",
       "  '../results/task_engagement/run_id_1_MNIST-3_attention_09-01-2023_06-41-03-247',\n",
       "  '../results/task_engagement/run_id_3_MNIST-3_attention_09-01-2023_06-42-11-639'],\n",
       " ['../results/task_engagement/run_id_3_MNIST-3_vector_20-01-2023_03-56-04-097',\n",
       "  '../results/task_engagement/run_id_1_MNIST-3_vector_20-01-2023_03-59-04-500'])"
      ]
     },
     "execution_count": 4,
     "metadata": {},
     "output_type": "execute_result"
    }
   ],
   "source": [
    "results_path1_list, results_path2_list, results_path3_list"
   ]
  },
  {
   "cell_type": "code",
   "execution_count": 5,
   "id": "25e0eab7-c385-49f6-9f28-3488ebed7759",
   "metadata": {},
   "outputs": [],
   "source": [
    "results = []\n",
    "results_list1 = [ResultsManager(path_) for path_ in results_path1_list]\n",
    "results_list2 = [ResultsManager(path_) for path_ in results_path2_list]\n",
    "results_list3 = [ResultsManager(path_) for path_ in results_path3_list]\n",
    "results = [results_list1, results_list2, results_list3]"
   ]
  },
  {
   "cell_type": "code",
   "execution_count": 6,
   "id": "78109a5e-e50c-4a3a-9b5c-1baf0b795777",
   "metadata": {},
   "outputs": [],
   "source": [
    "figsize = (8, 6/5*5)\n",
    "fontsize = 15\n",
    "line_width = 3\n",
    "ylim2 = [0.9, 2.1]\n",
    "ylim3 = [0.4, 1.8]\n",
    "subplot_labels = np.array([[\"(a)\", \"(b)\"], [\"(c)\", \"(d)\"], [\"(e)\", \"(f)\"]])"
   ]
  },
  {
   "cell_type": "code",
   "execution_count": 7,
   "id": "fc1f9b57-d313-45e6-8f06-99c0c9ed1d1e",
   "metadata": {},
   "outputs": [
    {
     "data": {
      "image/png": "[encoded data removed]",
      "text/plain": [
       "<Figure size 800x600 with 6 Axes>"
      ]
     },
     "metadata": {},
     "output_type": "display_data"
    }
   ],
   "source": [
    "task_engagement_plot(results[0], results[1], results[2], figsize=figsize, fontsize=fontsize, line_width=line_width, ylim2=ylim2, subplot_labels=subplot_labels, ylim3=ylim3)\n",
    "plt.savefig(\"paper_figures/task_engagement.pdf\", bbox_inches=\"tight\")"
   ]
  },
  {
   "cell_type": "code",
   "execution_count": null,
   "id": "4280eb0b-3ab6-4b1a-bc92-c8d8fccc5024",
   "metadata": {},
   "outputs": [],
   "source": []
  },
  {
   "cell_type": "code",
   "execution_count": null,
   "id": "ce65b34d-c4f4-4c1d-8b81-8284c4c30ee5",
   "metadata": {},
   "outputs": [],
   "source": []
  }
 ],
 "metadata": {
  "kernelspec": {
   "display_name": "Python 3 (ipykernel)",
   "language": "python",
   "name": "python3"
  },
  "language_info": {
   "codemirror_mode": {
    "name": "ipython",
    "version": 3
   },
   "file_extension": ".py",
   "mimetype": "text/x-python",
   "name": "python",
   "nbconvert_exporter": "python",
   "pygments_lexer": "ipython3",
   "version": "3.10.8"
  }
 },
 "nbformat": 4,
 "nbformat_minor": 5
}
