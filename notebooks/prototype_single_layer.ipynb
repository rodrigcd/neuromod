{
 "cells": [
  {
   "cell_type": "code",
   "execution_count": 1,
   "metadata": {
    "ExecuteTime": {
     "end_time": "2022-10-18T16:34:20.905225Z",
     "start_time": "2022-10-18T16:34:20.586654Z"
    }
   },
   "outputs": [
    {
     "data": {
      "text/html": [
       "<style>.container { width:100% !important; }</style>"
      ],
      "text/plain": [
       "<IPython.core.display.HTML object>"
      ]
     },
     "metadata": {},
     "output_type": "display_data"
    },
    {
     "data": {
      "text/html": [
       "<div class=\"bk-root\">\n",
       "        <a href=\"https://bokeh.org\" target=\"_blank\" class=\"bk-logo bk-logo-small bk-logo-notebook\"></a>\n",
       "        <span id=\"1002\">Loading BokehJS ...</span>\n",
       "    </div>\n"
      ]
     },
     "metadata": {},
     "output_type": "display_data"
    },
    {
     "data": {
      "application/javascript": [
       "(function(root) {\n",
       "  function now() {\n",
       "    return new Date();\n",
       "  }\n",
       "\n",
       "  const force = true;\n",
       "\n",
       "  if (typeof root._bokeh_onload_callbacks === \"undefined\" || force === true) {\n",
       "    root._bokeh_onload_callbacks = [];\n",
       "    root._bokeh_is_loading = undefined;\n",
       "  }\n",
       "\n",
       "const JS_MIME_TYPE = 'application/javascript';\n",
       "  const HTML_MIME_TYPE = 'text/html';\n",
       "  const EXEC_MIME_TYPE = 'application/vnd.bokehjs_exec.v0+json';\n",
       "  const CLASS_NAME = 'output_bokeh rendered_html';\n",
       "\n",
       "  /**\n",
       "   * Render data to the DOM node\n",
       "   */\n",
       "  function render(props, node) {\n",
       "    const script = document.createElement(\"script\");\n",
       "    node.appendChild(script);\n",
       "  }\n",
       "\n",
       "  /**\n",
       "   * Handle when an output is cleared or removed\n",
       "   */\n",
       "  function handleClearOutput(event, handle) {\n",
       "    const cell = handle.cell;\n",
       "\n",
       "    const id = cell.output_area._bokeh_element_id;\n",
       "    const server_id = cell.output_area._bokeh_server_id;\n",
       "    // Clean up Bokeh references\n",
       "    if (id != null && id in Bokeh.index) {\n",
       "      Bokeh.index[id].model.document.clear();\n",
       "      delete Bokeh.index[id];\n",
       "    }\n",
       "\n",
       "    if (server_id !== undefined) {\n",
       "      // Clean up Bokeh references\n",
       "      const cmd_clean = \"from bokeh.io.state import curstate; print(curstate().uuid_to_server['\" + server_id + \"'].get_sessions()[0].document.roots[0]._id)\";\n",
       "      cell.notebook.kernel.execute(cmd_clean, {\n",
       "        iopub: {\n",
       "          output: function(msg) {\n",
       "            const id = msg.content.text.trim();\n",
       "            if (id in Bokeh.index) {\n",
       "              Bokeh.index[id].model.document.clear();\n",
       "              delete Bokeh.index[id];\n",
       "            }\n",
       "          }\n",
       "        }\n",
       "      });\n",
       "      // Destroy server and session\n",
       "      const cmd_destroy = \"import bokeh.io.notebook as ion; ion.destroy_server('\" + server_id + \"')\";\n",
       "      cell.notebook.kernel.execute(cmd_destroy);\n",
       "    }\n",
       "  }\n",
       "\n",
       "  /**\n",
       "   * Handle when a new output is added\n",
       "   */\n",
       "  function handleAddOutput(event, handle) {\n",
       "    const output_area = handle.output_area;\n",
       "    const output = handle.output;\n",
       "\n",
       "    // limit handleAddOutput to display_data with EXEC_MIME_TYPE content only\n",
       "    if ((output.output_type != \"display_data\") || (!Object.prototype.hasOwnProperty.call(output.data, EXEC_MIME_TYPE))) {\n",
       "      return\n",
       "    }\n",
       "\n",
       "    const toinsert = output_area.element.find(\".\" + CLASS_NAME.split(' ')[0]);\n",
       "\n",
       "    if (output.metadata[EXEC_MIME_TYPE][\"id\"] !== undefined) {\n",
       "      toinsert[toinsert.length - 1].firstChild.textContent = output.data[JS_MIME_TYPE];\n",
       "      // store reference to embed id on output_area\n",
       "      output_area._bokeh_element_id = output.metadata[EXEC_MIME_TYPE][\"id\"];\n",
       "    }\n",
       "    if (output.metadata[EXEC_MIME_TYPE][\"server_id\"] !== undefined) {\n",
       "      const bk_div = document.createElement(\"div\");\n",
       "      bk_div.innerHTML = output.data[HTML_MIME_TYPE];\n",
       "      const script_attrs = bk_div.children[0].attributes;\n",
       "      for (let i = 0; i < script_attrs.length; i++) {\n",
       "        toinsert[toinsert.length - 1].firstChild.setAttribute(script_attrs[i].name, script_attrs[i].value);\n",
       "        toinsert[toinsert.length - 1].firstChild.textContent = bk_div.children[0].textContent\n",
       "      }\n",
       "      // store reference to server id on output_area\n",
       "      output_area._bokeh_server_id = output.metadata[EXEC_MIME_TYPE][\"server_id\"];\n",
       "    }\n",
       "  }\n",
       "\n",
       "  function register_renderer(events, OutputArea) {\n",
       "\n",
       "    function append_mime(data, metadata, element) {\n",
       "      // create a DOM node to render to\n",
       "      const toinsert = this.create_output_subarea(\n",
       "        metadata,\n",
       "        CLASS_NAME,\n",
       "        EXEC_MIME_TYPE\n",
       "      );\n",
       "      this.keyboard_manager.register_events(toinsert);\n",
       "      // Render to node\n",
       "      const props = {data: data, metadata: metadata[EXEC_MIME_TYPE]};\n",
       "      render(props, toinsert[toinsert.length - 1]);\n",
       "      element.append(toinsert);\n",
       "      return toinsert\n",
       "    }\n",
       "\n",
       "    /* Handle when an output is cleared or removed */\n",
       "    events.on('clear_output.CodeCell', handleClearOutput);\n",
       "    events.on('delete.Cell', handleClearOutput);\n",
       "\n",
       "    /* Handle when a new output is added */\n",
       "    events.on('output_added.OutputArea', handleAddOutput);\n",
       "\n",
       "    /**\n",
       "     * Register the mime type and append_mime function with output_area\n",
       "     */\n",
       "    OutputArea.prototype.register_mime_type(EXEC_MIME_TYPE, append_mime, {\n",
       "      /* Is output safe? */\n",
       "      safe: true,\n",
       "      /* Index of renderer in `output_area.display_order` */\n",
       "      index: 0\n",
       "    });\n",
       "  }\n",
       "\n",
       "  // register the mime type if in Jupyter Notebook environment and previously unregistered\n",
       "  if (root.Jupyter !== undefined) {\n",
       "    const events = require('base/js/events');\n",
       "    const OutputArea = require('notebook/js/outputarea').OutputArea;\n",
       "\n",
       "    if (OutputArea.prototype.mime_types().indexOf(EXEC_MIME_TYPE) == -1) {\n",
       "      register_renderer(events, OutputArea);\n",
       "    }\n",
       "  }\n",
       "  if (typeof (root._bokeh_timeout) === \"undefined\" || force === true) {\n",
       "    root._bokeh_timeout = Date.now() + 5000;\n",
       "    root._bokeh_failed_load = false;\n",
       "  }\n",
       "\n",
       "  const NB_LOAD_WARNING = {'data': {'text/html':\n",
       "     \"<div style='background-color: #fdd'>\\n\"+\n",
       "     \"<p>\\n\"+\n",
       "     \"BokehJS does not appear to have successfully loaded. If loading BokehJS from CDN, this \\n\"+\n",
       "     \"may be due to a slow or bad network connection. Possible fixes:\\n\"+\n",
       "     \"</p>\\n\"+\n",
       "     \"<ul>\\n\"+\n",
       "     \"<li>re-rerun `output_notebook()` to attempt to load from CDN again, or</li>\\n\"+\n",
       "     \"<li>use INLINE resources instead, as so:</li>\\n\"+\n",
       "     \"</ul>\\n\"+\n",
       "     \"<code>\\n\"+\n",
       "     \"from bokeh.resources import INLINE\\n\"+\n",
       "     \"output_notebook(resources=INLINE)\\n\"+\n",
       "     \"</code>\\n\"+\n",
       "     \"</div>\"}};\n",
       "\n",
       "  function display_loaded() {\n",
       "    const el = document.getElementById(\"1002\");\n",
       "    if (el != null) {\n",
       "      el.textContent = \"BokehJS is loading...\";\n",
       "    }\n",
       "    if (root.Bokeh !== undefined) {\n",
       "      if (el != null) {\n",
       "        el.textContent = \"BokehJS \" + root.Bokeh.version + \" successfully loaded.\";\n",
       "      }\n",
       "    } else if (Date.now() < root._bokeh_timeout) {\n",
       "      setTimeout(display_loaded, 100)\n",
       "    }\n",
       "  }\n",
       "\n",
       "  function run_callbacks() {\n",
       "    try {\n",
       "      root._bokeh_onload_callbacks.forEach(function(callback) {\n",
       "        if (callback != null)\n",
       "          callback();\n",
       "      });\n",
       "    } finally {\n",
       "      delete root._bokeh_onload_callbacks\n",
       "    }\n",
       "    console.debug(\"Bokeh: all callbacks have finished\");\n",
       "  }\n",
       "\n",
       "  function load_libs(css_urls, js_urls, callback) {\n",
       "    if (css_urls == null) css_urls = [];\n",
       "    if (js_urls == null) js_urls = [];\n",
       "\n",
       "    root._bokeh_onload_callbacks.push(callback);\n",
       "    if (root._bokeh_is_loading > 0) {\n",
       "      console.debug(\"Bokeh: BokehJS is being loaded, scheduling callback at\", now());\n",
       "      return null;\n",
       "    }\n",
       "    if (js_urls == null || js_urls.length === 0) {\n",
       "      run_callbacks();\n",
       "      return null;\n",
       "    }\n",
       "    console.debug(\"Bokeh: BokehJS not loaded, scheduling load and callback at\", now());\n",
       "    root._bokeh_is_loading = css_urls.length + js_urls.length;\n",
       "\n",
       "    function on_load() {\n",
       "      root._bokeh_is_loading--;\n",
       "      if (root._bokeh_is_loading === 0) {\n",
       "        console.debug(\"Bokeh: all BokehJS libraries/stylesheets loaded\");\n",
       "        run_callbacks()\n",
       "      }\n",
       "    }\n",
       "\n",
       "    function on_error(url) {\n",
       "      console.error(\"failed to load \" + url);\n",
       "    }\n",
       "\n",
       "    for (let i = 0; i < css_urls.length; i++) {\n",
       "      const url = css_urls[i];\n",
       "      const element = document.createElement(\"link\");\n",
       "      element.onload = on_load;\n",
       "      element.onerror = on_error.bind(null, url);\n",
       "      element.rel = \"stylesheet\";\n",
       "      element.type = \"text/css\";\n",
       "      element.href = url;\n",
       "      console.debug(\"Bokeh: injecting link tag for BokehJS stylesheet: \", url);\n",
       "      document.body.appendChild(element);\n",
       "    }\n",
       "\n",
       "    for (let i = 0; i < js_urls.length; i++) {\n",
       "      const url = js_urls[i];\n",
       "      const element = document.createElement('script');\n",
       "      element.onload = on_load;\n",
       "      element.onerror = on_error.bind(null, url);\n",
       "      element.async = false;\n",
       "      element.src = url;\n",
       "      console.debug(\"Bokeh: injecting script tag for BokehJS library: \", url);\n",
       "      document.head.appendChild(element);\n",
       "    }\n",
       "  };\n",
       "\n",
       "  function inject_raw_css(css) {\n",
       "    const element = document.createElement(\"style\");\n",
       "    element.appendChild(document.createTextNode(css));\n",
       "    document.body.appendChild(element);\n",
       "  }\n",
       "\n",
       "  const js_urls = [\"https://cdn.bokeh.org/bokeh/release/bokeh-2.4.3.min.js\", \"https://cdn.bokeh.org/bokeh/release/bokeh-gl-2.4.3.min.js\", \"https://cdn.bokeh.org/bokeh/release/bokeh-widgets-2.4.3.min.js\", \"https://cdn.bokeh.org/bokeh/release/bokeh-tables-2.4.3.min.js\", \"https://cdn.bokeh.org/bokeh/release/bokeh-mathjax-2.4.3.min.js\"];\n",
       "  const css_urls = [];\n",
       "\n",
       "  const inline_js = [    function(Bokeh) {\n",
       "      Bokeh.set_log_level(\"info\");\n",
       "    },\n",
       "function(Bokeh) {\n",
       "    }\n",
       "  ];\n",
       "\n",
       "  function run_inline_js() {\n",
       "    if (root.Bokeh !== undefined || force === true) {\n",
       "          for (let i = 0; i < inline_js.length; i++) {\n",
       "      inline_js[i].call(root, root.Bokeh);\n",
       "    }\n",
       "if (force === true) {\n",
       "        display_loaded();\n",
       "      }} else if (Date.now() < root._bokeh_timeout) {\n",
       "      setTimeout(run_inline_js, 100);\n",
       "    } else if (!root._bokeh_failed_load) {\n",
       "      console.log(\"Bokeh: BokehJS failed to load within specified timeout.\");\n",
       "      root._bokeh_failed_load = true;\n",
       "    } else if (force !== true) {\n",
       "      const cell = $(document.getElementById(\"1002\")).parents('.cell').data().cell;\n",
       "      cell.output_area.append_execute_result(NB_LOAD_WARNING)\n",
       "    }\n",
       "  }\n",
       "\n",
       "  if (root._bokeh_is_loading === 0) {\n",
       "    console.debug(\"Bokeh: BokehJS loaded, going straight to plotting\");\n",
       "    run_inline_js();\n",
       "  } else {\n",
       "    load_libs(css_urls, js_urls, function() {\n",
       "      console.debug(\"Bokeh: BokehJS plotting callback run at\", now());\n",
       "      run_inline_js();\n",
       "    });\n",
       "  }\n",
       "}(window));"
      ],
      "application/vnd.bokehjs_load.v0+json": "(function(root) {\n  function now() {\n    return new Date();\n  }\n\n  const force = true;\n\n  if (typeof root._bokeh_onload_callbacks === \"undefined\" || force === true) {\n    root._bokeh_onload_callbacks = [];\n    root._bokeh_is_loading = undefined;\n  }\n\n\n  if (typeof (root._bokeh_timeout) === \"undefined\" || force === true) {\n    root._bokeh_timeout = Date.now() + 5000;\n    root._bokeh_failed_load = false;\n  }\n\n  const NB_LOAD_WARNING = {'data': {'text/html':\n     \"<div style='background-color: #fdd'>\\n\"+\n     \"<p>\\n\"+\n     \"BokehJS does not appear to have successfully loaded. If loading BokehJS from CDN, this \\n\"+\n     \"may be due to a slow or bad network connection. Possible fixes:\\n\"+\n     \"</p>\\n\"+\n     \"<ul>\\n\"+\n     \"<li>re-rerun `output_notebook()` to attempt to load from CDN again, or</li>\\n\"+\n     \"<li>use INLINE resources instead, as so:</li>\\n\"+\n     \"</ul>\\n\"+\n     \"<code>\\n\"+\n     \"from bokeh.resources import INLINE\\n\"+\n     \"output_notebook(resources=INLINE)\\n\"+\n     \"</code>\\n\"+\n     \"</div>\"}};\n\n  function display_loaded() {\n    const el = document.getElementById(\"1002\");\n    if (el != null) {\n      el.textContent = \"BokehJS is loading...\";\n    }\n    if (root.Bokeh !== undefined) {\n      if (el != null) {\n        el.textContent = \"BokehJS \" + root.Bokeh.version + \" successfully loaded.\";\n      }\n    } else if (Date.now() < root._bokeh_timeout) {\n      setTimeout(display_loaded, 100)\n    }\n  }\n\n  function run_callbacks() {\n    try {\n      root._bokeh_onload_callbacks.forEach(function(callback) {\n        if (callback != null)\n          callback();\n      });\n    } finally {\n      delete root._bokeh_onload_callbacks\n    }\n    console.debug(\"Bokeh: all callbacks have finished\");\n  }\n\n  function load_libs(css_urls, js_urls, callback) {\n    if (css_urls == null) css_urls = [];\n    if (js_urls == null) js_urls = [];\n\n    root._bokeh_onload_callbacks.push(callback);\n    if (root._bokeh_is_loading > 0) {\n      console.debug(\"Bokeh: BokehJS is being loaded, scheduling callback at\", now());\n      return null;\n    }\n    if (js_urls == null || js_urls.length === 0) {\n      run_callbacks();\n      return null;\n    }\n    console.debug(\"Bokeh: BokehJS not loaded, scheduling load and callback at\", now());\n    root._bokeh_is_loading = css_urls.length + js_urls.length;\n\n    function on_load() {\n      root._bokeh_is_loading--;\n      if (root._bokeh_is_loading === 0) {\n        console.debug(\"Bokeh: all BokehJS libraries/stylesheets loaded\");\n        run_callbacks()\n      }\n    }\n\n    function on_error(url) {\n      console.error(\"failed to load \" + url);\n    }\n\n    for (let i = 0; i < css_urls.length; i++) {\n      const url = css_urls[i];\n      const element = document.createElement(\"link\");\n      element.onload = on_load;\n      element.onerror = on_error.bind(null, url);\n      element.rel = \"stylesheet\";\n      element.type = \"text/css\";\n      element.href = url;\n      console.debug(\"Bokeh: injecting link tag for BokehJS stylesheet: \", url);\n      document.body.appendChild(element);\n    }\n\n    for (let i = 0; i < js_urls.length; i++) {\n      const url = js_urls[i];\n      const element = document.createElement('script');\n      element.onload = on_load;\n      element.onerror = on_error.bind(null, url);\n      element.async = false;\n      element.src = url;\n      console.debug(\"Bokeh: injecting script tag for BokehJS library: \", url);\n      document.head.appendChild(element);\n    }\n  };\n\n  function inject_raw_css(css) {\n    const element = document.createElement(\"style\");\n    element.appendChild(document.createTextNode(css));\n    document.body.appendChild(element);\n  }\n\n  const js_urls = [\"https://cdn.bokeh.org/bokeh/release/bokeh-2.4.3.min.js\", \"https://cdn.bokeh.org/bokeh/release/bokeh-gl-2.4.3.min.js\", \"https://cdn.bokeh.org/bokeh/release/bokeh-widgets-2.4.3.min.js\", \"https://cdn.bokeh.org/bokeh/release/bokeh-tables-2.4.3.min.js\", \"https://cdn.bokeh.org/bokeh/release/bokeh-mathjax-2.4.3.min.js\"];\n  const css_urls = [];\n\n  const inline_js = [    function(Bokeh) {\n      Bokeh.set_log_level(\"info\");\n    },\nfunction(Bokeh) {\n    }\n  ];\n\n  function run_inline_js() {\n    if (root.Bokeh !== undefined || force === true) {\n          for (let i = 0; i < inline_js.length; i++) {\n      inline_js[i].call(root, root.Bokeh);\n    }\nif (force === true) {\n        display_loaded();\n      }} else if (Date.now() < root._bokeh_timeout) {\n      setTimeout(run_inline_js, 100);\n    } else if (!root._bokeh_failed_load) {\n      console.log(\"Bokeh: BokehJS failed to load within specified timeout.\");\n      root._bokeh_failed_load = true;\n    } else if (force !== true) {\n      const cell = $(document.getElementById(\"1002\")).parents('.cell').data().cell;\n      cell.output_area.append_execute_result(NB_LOAD_WARNING)\n    }\n  }\n\n  if (root._bokeh_is_loading === 0) {\n    console.debug(\"Bokeh: BokehJS loaded, going straight to plotting\");\n    run_inline_js();\n  } else {\n    load_libs(css_urls, js_urls, function() {\n      console.debug(\"Bokeh: BokehJS plotting callback run at\", now());\n      run_inline_js();\n    });\n  }\n}(window));"
     },
     "metadata": {},
     "output_type": "display_data"
    }
   ],
   "source": [
    "from IPython.display import display, HTML\n",
    "display(HTML(\"<style>.container { width:100% !important; }</style>\"))\n",
    "\n",
    "import numpy as np\n",
    "from tqdm import tqdm\n",
    "\n",
    "from bokeh.plotting import figure, show, output_file, save\n",
    "from bokeh.layouts import gridplot\n",
    "from bokeh.io import output_notebook\n",
    "from bokeh.palettes import Viridis, Category10, Category20\n",
    "from bokeh.io import export_svg\n",
    "output_notebook()"
   ]
  },
  {
   "cell_type": "code",
   "execution_count": 2,
   "metadata": {
    "ExecuteTime": {
     "end_time": "2022-10-18T16:34:22.192897Z",
     "start_time": "2022-10-18T16:34:21.557216Z"
    }
   },
   "outputs": [
    {
     "data": {
      "text/html": [
       "<div class=\"bk-root\">\n",
       "        <a href=\"https://bokeh.org\" target=\"_blank\" class=\"bk-logo bk-logo-small bk-logo-notebook\"></a>\n",
       "        <span id=\"1003\">Loading BokehJS ...</span>\n",
       "    </div>\n"
      ]
     },
     "metadata": {},
     "output_type": "display_data"
    },
    {
     "data": {
      "application/javascript": [
       "(function(root) {\n",
       "  function now() {\n",
       "    return new Date();\n",
       "  }\n",
       "\n",
       "  const force = true;\n",
       "\n",
       "  if (typeof root._bokeh_onload_callbacks === \"undefined\" || force === true) {\n",
       "    root._bokeh_onload_callbacks = [];\n",
       "    root._bokeh_is_loading = undefined;\n",
       "  }\n",
       "\n",
       "const JS_MIME_TYPE = 'application/javascript';\n",
       "  const HTML_MIME_TYPE = 'text/html';\n",
       "  const EXEC_MIME_TYPE = 'application/vnd.bokehjs_exec.v0+json';\n",
       "  const CLASS_NAME = 'output_bokeh rendered_html';\n",
       "\n",
       "  /**\n",
       "   * Render data to the DOM node\n",
       "   */\n",
       "  function render(props, node) {\n",
       "    const script = document.createElement(\"script\");\n",
       "    node.appendChild(script);\n",
       "  }\n",
       "\n",
       "  /**\n",
       "   * Handle when an output is cleared or removed\n",
       "   */\n",
       "  function handleClearOutput(event, handle) {\n",
       "    const cell = handle.cell;\n",
       "\n",
       "    const id = cell.output_area._bokeh_element_id;\n",
       "    const server_id = cell.output_area._bokeh_server_id;\n",
       "    // Clean up Bokeh references\n",
       "    if (id != null && id in Bokeh.index) {\n",
       "      Bokeh.index[id].model.document.clear();\n",
       "      delete Bokeh.index[id];\n",
       "    }\n",
       "\n",
       "    if (server_id !== undefined) {\n",
       "      // Clean up Bokeh references\n",
       "      const cmd_clean = \"from bokeh.io.state import curstate; print(curstate().uuid_to_server['\" + server_id + \"'].get_sessions()[0].document.roots[0]._id)\";\n",
       "      cell.notebook.kernel.execute(cmd_clean, {\n",
       "        iopub: {\n",
       "          output: function(msg) {\n",
       "            const id = msg.content.text.trim();\n",
       "            if (id in Bokeh.index) {\n",
       "              Bokeh.index[id].model.document.clear();\n",
       "              delete Bokeh.index[id];\n",
       "            }\n",
       "          }\n",
       "        }\n",
       "      });\n",
       "      // Destroy server and session\n",
       "      const cmd_destroy = \"import bokeh.io.notebook as ion; ion.destroy_server('\" + server_id + \"')\";\n",
       "      cell.notebook.kernel.execute(cmd_destroy);\n",
       "    }\n",
       "  }\n",
       "\n",
       "  /**\n",
       "   * Handle when a new output is added\n",
       "   */\n",
       "  function handleAddOutput(event, handle) {\n",
       "    const output_area = handle.output_area;\n",
       "    const output = handle.output;\n",
       "\n",
       "    // limit handleAddOutput to display_data with EXEC_MIME_TYPE content only\n",
       "    if ((output.output_type != \"display_data\") || (!Object.prototype.hasOwnProperty.call(output.data, EXEC_MIME_TYPE))) {\n",
       "      return\n",
       "    }\n",
       "\n",
       "    const toinsert = output_area.element.find(\".\" + CLASS_NAME.split(' ')[0]);\n",
       "\n",
       "    if (output.metadata[EXEC_MIME_TYPE][\"id\"] !== undefined) {\n",
       "      toinsert[toinsert.length - 1].firstChild.textContent = output.data[JS_MIME_TYPE];\n",
       "      // store reference to embed id on output_area\n",
       "      output_area._bokeh_element_id = output.metadata[EXEC_MIME_TYPE][\"id\"];\n",
       "    }\n",
       "    if (output.metadata[EXEC_MIME_TYPE][\"server_id\"] !== undefined) {\n",
       "      const bk_div = document.createElement(\"div\");\n",
       "      bk_div.innerHTML = output.data[HTML_MIME_TYPE];\n",
       "      const script_attrs = bk_div.children[0].attributes;\n",
       "      for (let i = 0; i < script_attrs.length; i++) {\n",
       "        toinsert[toinsert.length - 1].firstChild.setAttribute(script_attrs[i].name, script_attrs[i].value);\n",
       "        toinsert[toinsert.length - 1].firstChild.textContent = bk_div.children[0].textContent\n",
       "      }\n",
       "      // store reference to server id on output_area\n",
       "      output_area._bokeh_server_id = output.metadata[EXEC_MIME_TYPE][\"server_id\"];\n",
       "    }\n",
       "  }\n",
       "\n",
       "  function register_renderer(events, OutputArea) {\n",
       "\n",
       "    function append_mime(data, metadata, element) {\n",
       "      // create a DOM node to render to\n",
       "      const toinsert = this.create_output_subarea(\n",
       "        metadata,\n",
       "        CLASS_NAME,\n",
       "        EXEC_MIME_TYPE\n",
       "      );\n",
       "      this.keyboard_manager.register_events(toinsert);\n",
       "      // Render to node\n",
       "      const props = {data: data, metadata: metadata[EXEC_MIME_TYPE]};\n",
       "      render(props, toinsert[toinsert.length - 1]);\n",
       "      element.append(toinsert);\n",
       "      return toinsert\n",
       "    }\n",
       "\n",
       "    /* Handle when an output is cleared or removed */\n",
       "    events.on('clear_output.CodeCell', handleClearOutput);\n",
       "    events.on('delete.Cell', handleClearOutput);\n",
       "\n",
       "    /* Handle when a new output is added */\n",
       "    events.on('output_added.OutputArea', handleAddOutput);\n",
       "\n",
       "    /**\n",
       "     * Register the mime type and append_mime function with output_area\n",
       "     */\n",
       "    OutputArea.prototype.register_mime_type(EXEC_MIME_TYPE, append_mime, {\n",
       "      /* Is output safe? */\n",
       "      safe: true,\n",
       "      /* Index of renderer in `output_area.display_order` */\n",
       "      index: 0\n",
       "    });\n",
       "  }\n",
       "\n",
       "  // register the mime type if in Jupyter Notebook environment and previously unregistered\n",
       "  if (root.Jupyter !== undefined) {\n",
       "    const events = require('base/js/events');\n",
       "    const OutputArea = require('notebook/js/outputarea').OutputArea;\n",
       "\n",
       "    if (OutputArea.prototype.mime_types().indexOf(EXEC_MIME_TYPE) == -1) {\n",
       "      register_renderer(events, OutputArea);\n",
       "    }\n",
       "  }\n",
       "  if (typeof (root._bokeh_timeout) === \"undefined\" || force === true) {\n",
       "    root._bokeh_timeout = Date.now() + 5000;\n",
       "    root._bokeh_failed_load = false;\n",
       "  }\n",
       "\n",
       "  const NB_LOAD_WARNING = {'data': {'text/html':\n",
       "     \"<div style='background-color: #fdd'>\\n\"+\n",
       "     \"<p>\\n\"+\n",
       "     \"BokehJS does not appear to have successfully loaded. If loading BokehJS from CDN, this \\n\"+\n",
       "     \"may be due to a slow or bad network connection. Possible fixes:\\n\"+\n",
       "     \"</p>\\n\"+\n",
       "     \"<ul>\\n\"+\n",
       "     \"<li>re-rerun `output_notebook()` to attempt to load from CDN again, or</li>\\n\"+\n",
       "     \"<li>use INLINE resources instead, as so:</li>\\n\"+\n",
       "     \"</ul>\\n\"+\n",
       "     \"<code>\\n\"+\n",
       "     \"from bokeh.resources import INLINE\\n\"+\n",
       "     \"output_notebook(resources=INLINE)\\n\"+\n",
       "     \"</code>\\n\"+\n",
       "     \"</div>\"}};\n",
       "\n",
       "  function display_loaded() {\n",
       "    const el = document.getElementById(\"1003\");\n",
       "    if (el != null) {\n",
       "      el.textContent = \"BokehJS is loading...\";\n",
       "    }\n",
       "    if (root.Bokeh !== undefined) {\n",
       "      if (el != null) {\n",
       "        el.textContent = \"BokehJS \" + root.Bokeh.version + \" successfully loaded.\";\n",
       "      }\n",
       "    } else if (Date.now() < root._bokeh_timeout) {\n",
       "      setTimeout(display_loaded, 100)\n",
       "    }\n",
       "  }\n",
       "\n",
       "  function run_callbacks() {\n",
       "    try {\n",
       "      root._bokeh_onload_callbacks.forEach(function(callback) {\n",
       "        if (callback != null)\n",
       "          callback();\n",
       "      });\n",
       "    } finally {\n",
       "      delete root._bokeh_onload_callbacks\n",
       "    }\n",
       "    console.debug(\"Bokeh: all callbacks have finished\");\n",
       "  }\n",
       "\n",
       "  function load_libs(css_urls, js_urls, callback) {\n",
       "    if (css_urls == null) css_urls = [];\n",
       "    if (js_urls == null) js_urls = [];\n",
       "\n",
       "    root._bokeh_onload_callbacks.push(callback);\n",
       "    if (root._bokeh_is_loading > 0) {\n",
       "      console.debug(\"Bokeh: BokehJS is being loaded, scheduling callback at\", now());\n",
       "      return null;\n",
       "    }\n",
       "    if (js_urls == null || js_urls.length === 0) {\n",
       "      run_callbacks();\n",
       "      return null;\n",
       "    }\n",
       "    console.debug(\"Bokeh: BokehJS not loaded, scheduling load and callback at\", now());\n",
       "    root._bokeh_is_loading = css_urls.length + js_urls.length;\n",
       "\n",
       "    function on_load() {\n",
       "      root._bokeh_is_loading--;\n",
       "      if (root._bokeh_is_loading === 0) {\n",
       "        console.debug(\"Bokeh: all BokehJS libraries/stylesheets loaded\");\n",
       "        run_callbacks()\n",
       "      }\n",
       "    }\n",
       "\n",
       "    function on_error(url) {\n",
       "      console.error(\"failed to load \" + url);\n",
       "    }\n",
       "\n",
       "    for (let i = 0; i < css_urls.length; i++) {\n",
       "      const url = css_urls[i];\n",
       "      const element = document.createElement(\"link\");\n",
       "      element.onload = on_load;\n",
       "      element.onerror = on_error.bind(null, url);\n",
       "      element.rel = \"stylesheet\";\n",
       "      element.type = \"text/css\";\n",
       "      element.href = url;\n",
       "      console.debug(\"Bokeh: injecting link tag for BokehJS stylesheet: \", url);\n",
       "      document.body.appendChild(element);\n",
       "    }\n",
       "\n",
       "    for (let i = 0; i < js_urls.length; i++) {\n",
       "      const url = js_urls[i];\n",
       "      const element = document.createElement('script');\n",
       "      element.onload = on_load;\n",
       "      element.onerror = on_error.bind(null, url);\n",
       "      element.async = false;\n",
       "      element.src = url;\n",
       "      console.debug(\"Bokeh: injecting script tag for BokehJS library: \", url);\n",
       "      document.head.appendChild(element);\n",
       "    }\n",
       "  };\n",
       "\n",
       "  function inject_raw_css(css) {\n",
       "    const element = document.createElement(\"style\");\n",
       "    element.appendChild(document.createTextNode(css));\n",
       "    document.body.appendChild(element);\n",
       "  }\n",
       "\n",
       "  const js_urls = [\"https://cdn.bokeh.org/bokeh/release/bokeh-2.4.3.min.js\", \"https://cdn.bokeh.org/bokeh/release/bokeh-gl-2.4.3.min.js\", \"https://cdn.bokeh.org/bokeh/release/bokeh-widgets-2.4.3.min.js\", \"https://cdn.bokeh.org/bokeh/release/bokeh-tables-2.4.3.min.js\", \"https://cdn.bokeh.org/bokeh/release/bokeh-mathjax-2.4.3.min.js\"];\n",
       "  const css_urls = [];\n",
       "\n",
       "  const inline_js = [    function(Bokeh) {\n",
       "      Bokeh.set_log_level(\"info\");\n",
       "    },\n",
       "function(Bokeh) {\n",
       "    }\n",
       "  ];\n",
       "\n",
       "  function run_inline_js() {\n",
       "    if (root.Bokeh !== undefined || force === true) {\n",
       "          for (let i = 0; i < inline_js.length; i++) {\n",
       "      inline_js[i].call(root, root.Bokeh);\n",
       "    }\n",
       "if (force === true) {\n",
       "        display_loaded();\n",
       "      }} else if (Date.now() < root._bokeh_timeout) {\n",
       "      setTimeout(run_inline_js, 100);\n",
       "    } else if (!root._bokeh_failed_load) {\n",
       "      console.log(\"Bokeh: BokehJS failed to load within specified timeout.\");\n",
       "      root._bokeh_failed_load = true;\n",
       "    } else if (force !== true) {\n",
       "      const cell = $(document.getElementById(\"1003\")).parents('.cell').data().cell;\n",
       "      cell.output_area.append_execute_result(NB_LOAD_WARNING)\n",
       "    }\n",
       "  }\n",
       "\n",
       "  if (root._bokeh_is_loading === 0) {\n",
       "    console.debug(\"Bokeh: BokehJS loaded, going straight to plotting\");\n",
       "    run_inline_js();\n",
       "  } else {\n",
       "    load_libs(css_urls, js_urls, function() {\n",
       "      console.debug(\"Bokeh: BokehJS plotting callback run at\", now());\n",
       "      run_inline_js();\n",
       "    });\n",
       "  }\n",
       "}(window));"
      ],
      "application/vnd.bokehjs_load.v0+json": "(function(root) {\n  function now() {\n    return new Date();\n  }\n\n  const force = true;\n\n  if (typeof root._bokeh_onload_callbacks === \"undefined\" || force === true) {\n    root._bokeh_onload_callbacks = [];\n    root._bokeh_is_loading = undefined;\n  }\n\n\n  if (typeof (root._bokeh_timeout) === \"undefined\" || force === true) {\n    root._bokeh_timeout = Date.now() + 5000;\n    root._bokeh_failed_load = false;\n  }\n\n  const NB_LOAD_WARNING = {'data': {'text/html':\n     \"<div style='background-color: #fdd'>\\n\"+\n     \"<p>\\n\"+\n     \"BokehJS does not appear to have successfully loaded. If loading BokehJS from CDN, this \\n\"+\n     \"may be due to a slow or bad network connection. Possible fixes:\\n\"+\n     \"</p>\\n\"+\n     \"<ul>\\n\"+\n     \"<li>re-rerun `output_notebook()` to attempt to load from CDN again, or</li>\\n\"+\n     \"<li>use INLINE resources instead, as so:</li>\\n\"+\n     \"</ul>\\n\"+\n     \"<code>\\n\"+\n     \"from bokeh.resources import INLINE\\n\"+\n     \"output_notebook(resources=INLINE)\\n\"+\n     \"</code>\\n\"+\n     \"</div>\"}};\n\n  function display_loaded() {\n    const el = document.getElementById(\"1003\");\n    if (el != null) {\n      el.textContent = \"BokehJS is loading...\";\n    }\n    if (root.Bokeh !== undefined) {\n      if (el != null) {\n        el.textContent = \"BokehJS \" + root.Bokeh.version + \" successfully loaded.\";\n      }\n    } else if (Date.now() < root._bokeh_timeout) {\n      setTimeout(display_loaded, 100)\n    }\n  }\n\n  function run_callbacks() {\n    try {\n      root._bokeh_onload_callbacks.forEach(function(callback) {\n        if (callback != null)\n          callback();\n      });\n    } finally {\n      delete root._bokeh_onload_callbacks\n    }\n    console.debug(\"Bokeh: all callbacks have finished\");\n  }\n\n  function load_libs(css_urls, js_urls, callback) {\n    if (css_urls == null) css_urls = [];\n    if (js_urls == null) js_urls = [];\n\n    root._bokeh_onload_callbacks.push(callback);\n    if (root._bokeh_is_loading > 0) {\n      console.debug(\"Bokeh: BokehJS is being loaded, scheduling callback at\", now());\n      return null;\n    }\n    if (js_urls == null || js_urls.length === 0) {\n      run_callbacks();\n      return null;\n    }\n    console.debug(\"Bokeh: BokehJS not loaded, scheduling load and callback at\", now());\n    root._bokeh_is_loading = css_urls.length + js_urls.length;\n\n    function on_load() {\n      root._bokeh_is_loading--;\n      if (root._bokeh_is_loading === 0) {\n        console.debug(\"Bokeh: all BokehJS libraries/stylesheets loaded\");\n        run_callbacks()\n      }\n    }\n\n    function on_error(url) {\n      console.error(\"failed to load \" + url);\n    }\n\n    for (let i = 0; i < css_urls.length; i++) {\n      const url = css_urls[i];\n      const element = document.createElement(\"link\");\n      element.onload = on_load;\n      element.onerror = on_error.bind(null, url);\n      element.rel = \"stylesheet\";\n      element.type = \"text/css\";\n      element.href = url;\n      console.debug(\"Bokeh: injecting link tag for BokehJS stylesheet: \", url);\n      document.body.appendChild(element);\n    }\n\n    for (let i = 0; i < js_urls.length; i++) {\n      const url = js_urls[i];\n      const element = document.createElement('script');\n      element.onload = on_load;\n      element.onerror = on_error.bind(null, url);\n      element.async = false;\n      element.src = url;\n      console.debug(\"Bokeh: injecting script tag for BokehJS library: \", url);\n      document.head.appendChild(element);\n    }\n  };\n\n  function inject_raw_css(css) {\n    const element = document.createElement(\"style\");\n    element.appendChild(document.createTextNode(css));\n    document.body.appendChild(element);\n  }\n\n  const js_urls = [\"https://cdn.bokeh.org/bokeh/release/bokeh-2.4.3.min.js\", \"https://cdn.bokeh.org/bokeh/release/bokeh-gl-2.4.3.min.js\", \"https://cdn.bokeh.org/bokeh/release/bokeh-widgets-2.4.3.min.js\", \"https://cdn.bokeh.org/bokeh/release/bokeh-tables-2.4.3.min.js\", \"https://cdn.bokeh.org/bokeh/release/bokeh-mathjax-2.4.3.min.js\"];\n  const css_urls = [];\n\n  const inline_js = [    function(Bokeh) {\n      Bokeh.set_log_level(\"info\");\n    },\nfunction(Bokeh) {\n    }\n  ];\n\n  function run_inline_js() {\n    if (root.Bokeh !== undefined || force === true) {\n          for (let i = 0; i < inline_js.length; i++) {\n      inline_js[i].call(root, root.Bokeh);\n    }\nif (force === true) {\n        display_loaded();\n      }} else if (Date.now() < root._bokeh_timeout) {\n      setTimeout(run_inline_js, 100);\n    } else if (!root._bokeh_failed_load) {\n      console.log(\"Bokeh: BokehJS failed to load within specified timeout.\");\n      root._bokeh_failed_load = true;\n    } else if (force !== true) {\n      const cell = $(document.getElementById(\"1003\")).parents('.cell').data().cell;\n      cell.output_area.append_execute_result(NB_LOAD_WARNING)\n    }\n  }\n\n  if (root._bokeh_is_loading === 0) {\n    console.debug(\"Bokeh: BokehJS loaded, going straight to plotting\");\n    run_inline_js();\n  } else {\n    load_libs(css_urls, js_urls, function() {\n      console.debug(\"Bokeh: BokehJS plotting callback run at\", now());\n      run_inline_js();\n    });\n  }\n}(window));"
     },
     "metadata": {},
     "output_type": "display_data"
    }
   ],
   "source": [
    "from metamod.control import SingleLayerEq, SingleLayerControl\n",
    "from metamod.tasks import AffineCorrelatedGaussian, TwoGaussians\n",
    "from metamod.trainers import single_layer_training\n",
    "from metamod.networks import SingleLayerNet\n",
    "from metamod.utils import plot_lines, plot_weight_ev, check_dir, save_var, get_date_time"
   ]
  },
  {
   "cell_type": "code",
   "execution_count": 3,
   "metadata": {
    "ExecuteTime": {
     "end_time": "2022-10-18T16:34:22.708796Z",
     "start_time": "2022-10-18T16:34:22.701753Z"
    }
   },
   "outputs": [],
   "source": [
    "run_name = \"testing_single_neuron\"\n",
    "results_path = \"../results\""
   ]
  },
  {
   "cell_type": "code",
   "execution_count": 4,
   "metadata": {
    "ExecuteTime": {
     "end_time": "2022-10-18T16:34:23.143985Z",
     "start_time": "2022-10-18T16:34:23.141670Z"
    }
   },
   "outputs": [],
   "source": [
    "results_dict = {}"
   ]
  },
  {
   "cell_type": "code",
   "execution_count": 5,
   "metadata": {
    "ExecuteTime": {
     "end_time": "2022-10-18T16:34:23.343309Z",
     "start_time": "2022-10-18T16:34:23.341049Z"
    }
   },
   "outputs": [],
   "source": [
    "#dataset_params = {\"mu_vec\": (3.0, 1.0), \n",
    "#                  \"batch_size\": 256, \n",
    "#                  \"dependence_parameter\": 0.8, \n",
    "#                  \"sigma_vec\":(1.0, 1.0)}\n",
    "\n",
    "#dataset = AffineCorrelatedGaussian(**dataset_params)\n",
    "\n",
    "dataset_params = {\"mu\": 2.0, \n",
    "                  \"batch_size\": 128, \n",
    "                  \"std\": 1.0}\n",
    "dataset = TwoGaussians(**dataset_params)"
   ]
  },
  {
   "cell_type": "code",
   "execution_count": 6,
   "metadata": {
    "ExecuteTime": {
     "end_time": "2022-10-18T16:34:25.903442Z",
     "start_time": "2022-10-18T16:34:23.512686Z"
    }
   },
   "outputs": [],
   "source": [
    "model_params = {\"learning_rate\": 1e-3,\n",
    "                \"reg_coef\": 0.1,\n",
    "                \"intrinsic_noise\": 0.0,\n",
    "                \"input_dim\": dataset.input_dim,\n",
    "                \"output_dim\": dataset.output_dim,\n",
    "                \"W_0\": np.zeros((1, 1))}\n",
    "\n",
    "model = SingleLayerNet(**model_params)"
   ]
  },
  {
   "cell_type": "code",
   "execution_count": 7,
   "metadata": {
    "ExecuteTime": {
     "end_time": "2022-10-18T16:34:29.153628Z",
     "start_time": "2022-10-18T16:34:25.904517Z"
    }
   },
   "outputs": [
    {
     "name": "stderr",
     "output_type": "stream",
     "text": [
      "100%|███████████████████████████████████████████████████████████████████████████████████████████████████████████████████████████████████████████████████████████████████████████| 600/600 [00:00<00:00, 675.11it/s]\n"
     ]
    }
   ],
   "source": [
    "n_steps = 600\n",
    "save_weights_every = 20\n",
    "\n",
    "iters, loss, weights_iter, weights = single_layer_training(model=model, dataset=dataset, n_steps=n_steps, save_weights_every=save_weights_every)\n",
    "\n",
    "results_dict[\"iters\"] = iters\n",
    "results_dict[\"Loss_t_sim\"] = loss\n",
    "results_dict[\"weights_sim\"] = weights\n",
    "results_dict[\"weights_iters_sim\"] = weights_iter"
   ]
  },
  {
   "cell_type": "code",
   "execution_count": 8,
   "metadata": {
    "ExecuteTime": {
     "end_time": "2022-10-18T16:34:29.157446Z",
     "start_time": "2022-10-18T16:34:29.154803Z"
    }
   },
   "outputs": [
    {
     "data": {
      "text/plain": [
       "(30, 1, 1)"
      ]
     },
     "execution_count": 8,
     "metadata": {},
     "output_type": "execute_result"
    }
   ],
   "source": [
    "weights.shape"
   ]
  },
  {
   "cell_type": "code",
   "execution_count": 9,
   "metadata": {
    "ExecuteTime": {
     "end_time": "2022-10-18T16:34:29.163851Z",
     "start_time": "2022-10-18T16:34:29.158424Z"
    }
   },
   "outputs": [],
   "source": [
    "init_W = weights[0, ...]\n",
    "\n",
    "init_weights = init_W\n",
    "input_corr, output_corr, input_output_corr, expected_y, expected_x = dataset.get_correlation_matrix()\n",
    "\n",
    "time_span = np.arange(0, len(iters))*model_params[\"learning_rate\"]\n",
    "results_dict[\"time_span\"] = time_span"
   ]
  },
  {
   "cell_type": "code",
   "execution_count": 10,
   "metadata": {},
   "outputs": [
    {
     "data": {
      "text/plain": [
       "(1, 1)"
      ]
     },
     "execution_count": 10,
     "metadata": {},
     "output_type": "execute_result"
    }
   ],
   "source": [
    "init_W.shape"
   ]
  },
  {
   "cell_type": "code",
   "execution_count": 11,
   "metadata": {
    "ExecuteTime": {
     "end_time": "2022-10-18T16:34:29.166717Z",
     "start_time": "2022-10-18T16:34:29.164694Z"
    }
   },
   "outputs": [],
   "source": [
    "equation_params = {\"in_cov\": input_corr,\n",
    "                   \"out_cov\": output_corr,\n",
    "                   \"in_out_cov\": input_output_corr,\n",
    "                   # \"expected_y\": expected_y,\n",
    "                   # \"expected_x\": expected_x,\n",
    "                   \"init_weights\": init_weights,\n",
    "                   \"n_steps\": n_steps,\n",
    "                   \"reg_coef\": model_params[\"reg_coef\"],\n",
    "                   \"intrinsic_noise\": model_params[\"intrinsic_noise\"],\n",
    "                   \"learning_rate\": model_params[\"learning_rate\"],\n",
    "                   \"time_constant\": 1.0}"
   ]
  },
  {
   "cell_type": "code",
   "execution_count": 12,
   "metadata": {
    "ExecuteTime": {
     "end_time": "2022-10-18T16:34:29.169575Z",
     "start_time": "2022-10-18T16:34:29.167556Z"
    }
   },
   "outputs": [],
   "source": [
    "solver = SingleLayerEq(**equation_params)"
   ]
  },
  {
   "cell_type": "code",
   "execution_count": 13,
   "metadata": {
    "ExecuteTime": {
     "end_time": "2022-10-18T16:34:29.172237Z",
     "start_time": "2022-10-18T16:34:29.170353Z"
    }
   },
   "outputs": [],
   "source": [
    "control_params = {**equation_params,\n",
    "                  \"control_lower_bound\": 0.0,\n",
    "                  \"control_upper_bound\": 0.5,\n",
    "                  \"gamma\": 0.99,\n",
    "                  \"cost_coef\": 0.3,\n",
    "                  \"reward_convertion\": 1.0,\n",
    "                  \"init_g\": None,\n",
    "                  \"control_lr\": 10.0}"
   ]
  },
  {
   "cell_type": "code",
   "execution_count": 14,
   "metadata": {
    "ExecuteTime": {
     "end_time": "2022-10-18T16:34:29.176174Z",
     "start_time": "2022-10-18T16:34:29.173724Z"
    }
   },
   "outputs": [],
   "source": [
    "control = SingleLayerControl(**control_params)"
   ]
  },
  {
   "cell_type": "code",
   "execution_count": 15,
   "metadata": {
    "ExecuteTime": {
     "end_time": "2022-10-18T16:34:29.179835Z",
     "start_time": "2022-10-18T16:34:29.177582Z"
    }
   },
   "outputs": [
    {
     "name": "stdout",
     "output_type": "stream",
     "text": [
      "(30, 1, 1) torch.Size([600, 1, 1])\n"
     ]
    }
   ],
   "source": [
    "sim_weights = weights\n",
    "print(sim_weights.shape, control.g_tilda.shape)"
   ]
  },
  {
   "cell_type": "code",
   "execution_count": 16,
   "metadata": {
    "ExecuteTime": {
     "end_time": "2022-10-18T16:34:29.939356Z",
     "start_time": "2022-10-18T16:34:29.180732Z"
    }
   },
   "outputs": [],
   "source": [
    "W_t= solver.get_weights(time_span, get_numpy=True)\n",
    "Loss_t = solver.get_loss_function(W_t, get_numpy=True)\n",
    "\n",
    "results_dict[\"W_t_eq\"] = W_t\n",
    "results_dict[\"Loss_t_eq\"] = Loss_t"
   ]
  },
  {
   "cell_type": "code",
   "execution_count": 17,
   "metadata": {
    "ExecuteTime": {
     "end_time": "2022-10-18T16:34:31.285075Z",
     "start_time": "2022-10-18T16:34:29.940312Z"
    }
   },
   "outputs": [],
   "source": [
    "W_t_control = control.get_weights(time_span, get_numpy=True)\n",
    "Loss_t_control = control.get_loss_function(W_t_control, get_numpy=True)\n",
    "\n",
    "results_dict[\"W_t_control_init\"] = W_t_control\n",
    "results_dict[\"Loss_t_control_init\"] = Loss_t_control\n",
    "results_dict[\"control_signal_init\"] = control.g_tilda"
   ]
  },
  {
   "cell_type": "code",
   "execution_count": 18,
   "metadata": {
    "ExecuteTime": {
     "end_time": "2022-10-18T16:34:31.364595Z",
     "start_time": "2022-10-18T16:34:31.286237Z"
    }
   },
   "outputs": [
    {
     "data": {
      "text/html": [
       "\n",
       "  <div class=\"bk-root\" id=\"97e89b78-5f6b-4008-8691-e56f445c030c\" data-root-id=\"1004\"></div>\n"
      ]
     },
     "metadata": {},
     "output_type": "display_data"
    },
    {
     "data": {
      "application/javascript": [
       "(function(root) {\n",
       "  function embed_document(root) {\n",
       "  const docs_json = {\"82960353-5ea7-4f93-bb25-7b374613a151\":{\"defs\":[],\"roots\":{\"references\":[{\"attributes\":{\"below\":[{\"id\":\"1013\"}],\"center\":[{\"id\":\"1016\"},{\"id\":\"1020\"},{\"id\":\"1052\"}],\"height\":500,\"left\":[{\"id\":\"1017\"}],\"renderers\":[{\"id\":\"1039\"},{\"id\":\"1058\"},{\"id\":\"1078\"}],\"title\":{\"id\":\"1041\"},\"toolbar\":{\"id\":\"1028\"},\"width\":800,\"x_range\":{\"id\":\"1005\"},\"x_scale\":{\"id\":\"1009\"},\"y_range\":{\"id\":\"1007\"},\"y_scale\":{\"id\":\"1011\"}},\"id\":\"1004\",\"subtype\":\"Figure\",\"type\":\"Plot\"},{\"attributes\":{\"line_alpha\":0.2,\"line_color\":\"#1f77b4\",\"line_width\":3,\"x\":{\"field\":\"x\"},\"y\":{\"field\":\"y\"}},\"id\":\"1038\",\"type\":\"Line\"},{\"attributes\":{\"axis\":{\"id\":\"1013\"},\"coordinates\":null,\"group\":null,\"ticker\":null},\"id\":\"1016\",\"type\":\"Grid\"},{\"attributes\":{},\"id\":\"1048\",\"type\":\"AllLabels\"},{\"attributes\":{\"label\":{\"value\":\"Real Non-linear\"},\"renderers\":[{\"id\":\"1039\"}]},\"id\":\"1053\",\"type\":\"LegendItem\"},{\"attributes\":{},\"id\":\"1011\",\"type\":\"LinearScale\"},{\"attributes\":{},\"id\":\"1044\",\"type\":\"BasicTickFormatter\"},{\"attributes\":{\"line_alpha\":0.3,\"line_color\":\"#1f77b4\",\"line_width\":3,\"x\":{\"field\":\"x\"},\"y\":{\"field\":\"y\"}},\"id\":\"1036\",\"type\":\"Line\"},{\"attributes\":{},\"id\":\"1025\",\"type\":\"ResetTool\"},{\"attributes\":{},\"id\":\"1049\",\"type\":\"UnionRenderers\"},{\"attributes\":{},\"id\":\"1024\",\"type\":\"SaveTool\"},{\"attributes\":{},\"id\":\"1005\",\"type\":\"DataRange1d\"},{\"attributes\":{\"overlay\":{\"id\":\"1027\"}},\"id\":\"1023\",\"type\":\"BoxZoomTool\"},{\"attributes\":{\"coordinates\":null,\"group\":null},\"id\":\"1041\",\"type\":\"Title\"},{\"attributes\":{\"data\":{\"x\":[0,1,2,3,4,5,6,7,8,9,10,11,12,13,14,15,16,17,18,19,20,21,22,23,24,25,26,27,28,29,30,31,32,33,34,35,36,37,38,39,40,41,42,43,44,45,46,47,48,49,50,51,52,53,54,55,56,57,58,59,60,61,62,63,64,65,66,67,68,69,70,71,72,73,74,75,76,77,78,79,80,81,82,83,84,85,86,87,88,89,90,91,92,93,94,95,96,97,98,99,100,101,102,103,104,105,106,107,108,109,110,111,112,113,114,115,116,117,118,119,120,121,122,123,124,125,126,127,128,129,130,131,132,133,134,135,136,137,138,139,140,141,142,143,144,145,146,147,148,149,150,151,152,153,154,155,156,157,158,159,160,161,162,163,164,165,166,167,168,169,170,171,172,173,174,175,176,177,178,179,180,181,182,183,184,185,186,187,188,189,190,191,192,193,194,195,196,197,198,199,200,201,202,203,204,205,206,207,208,209,210,211,212,213,214,215,216,217,218,219,220,221,222,223,224,225,226,227,228,229,230,231,232,233,234,235,236,237,238,239,240,241,242,243,244,245,246,247,248,249,250,251,252,253,254,255,256,257,258,259,260,261,262,263,264,265,266,267,268,269,270,271,272,273,274,275,276,277,278,279,280,281,282,283,284,285,286,287,288,289,290,291,292,293,294,295,296,297,298,299,300,301,302,303,304,305,306,307,308,309,310,311,312,313,314,315,316,317,318,319,320,321,322,323,324,325,326,327,328,329,330,331,332,333,334,335,336,337,338,339,340,341,342,343,344,345,346,347,348,349,350,351,352,353,354,355,356,357,358,359,360,361,362,363,364,365,366,367,368,369,370,371,372,373,374,375,376,377,378,379,380,381,382,383,384,385,386,387,388,389,390,391,392,393,394,395,396,397,398,399,400,401,402,403,404,405,406,407,408,409,410,411,412,413,414,415,416,417,418,419,420,421,422,423,424,425,426,427,428,429,430,431,432,433,434,435,436,437,438,439,440,441,442,443,444,445,446,447,448,449,450,451,452,453,454,455,456,457,458,459,460,461,462,463,464,465,466,467,468,469,470,471,472,473,474,475,476,477,478,479,480,481,482,483,484,485,486,487,488,489,490,491,492,493,494,495,496,497,498,499,500,501,502,503,504,505,506,507,508,509,510,511,512,513,514,515,516,517,518,519,520,521,522,523,524,525,526,527,528,529,530,531,532,533,534,535,536,537,538,539,540,541,542,543,544,545,546,547,548,549,550,551,552,553,554,555,556,557,558,559,560,561,562,563,564,565,566,567,568,569,570,571,572,573,574,575,576,577,578,579,580,581,582,583,584,585,586,587,588,589,590,591,592,593,594,595,596,597,598,599],\"y\":{\"__ndarray__\":\"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\",\"dtype\":\"float32\",\"order\":\"little\",\"shape\":[600]}},\"selected\":{\"id\":\"1050\"},\"selection_policy\":{\"id\":\"1049\"}},\"id\":\"1035\",\"type\":\"ColumnDataSource\"},{\"attributes\":{},\"id\":\"1021\",\"type\":\"PanTool\"},{\"attributes\":{},\"id\":\"1050\",\"type\":\"Selection\"},{\"attributes\":{},\"id\":\"1026\",\"type\":\"HelpTool\"},{\"attributes\":{\"source\":{\"id\":\"1074\"}},\"id\":\"1079\",\"type\":\"CDSView\"},{\"attributes\":{},\"id\":\"1007\",\"type\":\"DataRange1d\"},{\"attributes\":{\"source\":{\"id\":\"1035\"}},\"id\":\"1040\",\"type\":\"CDSView\"},{\"attributes\":{},\"id\":\"1070\",\"type\":\"UnionRenderers\"},{\"attributes\":{\"coordinates\":null,\"data_source\":{\"id\":\"1035\"},\"glyph\":{\"id\":\"1036\"},\"group\":null,\"hover_glyph\":null,\"muted_glyph\":{\"id\":\"1038\"},\"nonselection_glyph\":{\"id\":\"1037\"},\"view\":{\"id\":\"1040\"}},\"id\":\"1039\",\"type\":\"GlyphRenderer\"},{\"attributes\":{\"source\":{\"id\":\"1054\"}},\"id\":\"1059\",\"type\":\"CDSView\"},{\"attributes\":{\"line_color\":\"#1f77b4\",\"line_width\":3,\"x\":{\"field\":\"x\"},\"y\":{\"field\":\"y\"}},\"id\":\"1055\",\"type\":\"Line\"},{\"attributes\":{\"line_color\":\"#ff7f0e\",\"line_width\":3,\"x\":{\"field\":\"x\"},\"y\":{\"field\":\"y\"}},\"id\":\"1075\",\"type\":\"Line\"},{\"attributes\":{},\"id\":\"1045\",\"type\":\"AllLabels\"},{\"attributes\":{\"coordinates\":null,\"data_source\":{\"id\":\"1054\"},\"glyph\":{\"id\":\"1055\"},\"group\":null,\"hover_glyph\":null,\"muted_glyph\":{\"id\":\"1057\"},\"nonselection_glyph\":{\"id\":\"1056\"},\"view\":{\"id\":\"1059\"}},\"id\":\"1058\",\"type\":\"GlyphRenderer\"},{\"attributes\":{\"line_alpha\":0.1,\"line_color\":\"#1f77b4\",\"line_width\":3,\"x\":{\"field\":\"x\"},\"y\":{\"field\":\"y\"}},\"id\":\"1037\",\"type\":\"Line\"},{\"attributes\":{\"data\":{\"x\":[0,1,2,3,4,5,6,7,8,9,10,11,12,13,14,15,16,17,18,19,20,21,22,23,24,25,26,27,28,29,30,31,32,33,34,35,36,37,38,39,40,41,42,43,44,45,46,47,48,49,50,51,52,53,54,55,56,57,58,59,60,61,62,63,64,65,66,67,68,69,70,71,72,73,74,75,76,77,78,79,80,81,82,83,84,85,86,87,88,89,90,91,92,93,94,95,96,97,98,99,100,101,102,103,104,105,106,107,108,109,110,111,112,113,114,115,116,117,118,119,120,121,122,123,124,125,126,127,128,129,130,131,132,133,134,135,136,137,138,139,140,141,142,143,144,145,146,147,148,149,150,151,152,153,154,155,156,157,158,159,160,161,162,163,164,165,166,167,168,169,170,171,172,173,174,175,176,177,178,179,180,181,182,183,184,185,186,187,188,189,190,191,192,193,194,195,196,197,198,199,200,201,202,203,204,205,206,207,208,209,210,211,212,213,214,215,216,217,218,219,220,221,222,223,224,225,226,227,228,229,230,231,232,233,234,235,236,237,238,239,240,241,242,243,244,245,246,247,248,249,250,251,252,253,254,255,256,257,258,259,260,261,262,263,264,265,266,267,268,269,270,271,272,273,274,275,276,277,278,279,280,281,282,283,284,285,286,287,288,289,290,291,292,293,294,295,296,297,298,299,300,301,302,303,304,305,306,307,308,309,310,311,312,313,314,315,316,317,318,319,320,321,322,323,324,325,326,327,328,329,330,331,332,333,334,335,336,337,338,339,340,341,342,343,344,345,346,347,348,349,350,351,352,353,354,355,356,357,358,359,360,361,362,363,364,365,366,367,368,369,370,371,372,373,374,375,376,377,378,379,380,381,382,383,384,385,386,387,388,389,390,391,392,393,394,395,396,397,398,399,400,401,402,403,404,405,406,407,408,409,410,411,412,413,414,415,416,417,418,419,420,421,422,423,424,425,426,427,428,429,430,431,432,433,434,435,436,437,438,439,440,441,442,443,444,445,446,447,448,449,450,451,452,453,454,455,456,457,458,459,460,461,462,463,464,465,466,467,468,469,470,471,472,473,474,475,476,477,478,479,480,481,482,483,484,485,486,487,488,489,490,491,492,493,494,495,496,497,498,499,500,501,502,503,504,505,506,507,508,509,510,511,512,513,514,515,516,517,518,519,520,521,522,523,524,525,526,527,528,529,530,531,532,533,534,535,536,537,538,539,540,541,542,543,544,545,546,547,548,549,550,551,552,553,554,555,556,557,558,559,560,561,562,563,564,565,566,567,568,569,570,571,572,573,574,575,576,577,578,579,580,581,582,583,584,585,586,587,588,589,590,591,592,593,594,595,596,597,598,599],\"y\":{\"__ndarray__\":\"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\",\"dtype\":\"float32\",\"order\":\"little\",\"shape\":[600]}},\"selected\":{\"id\":\"1071\"},\"selection_policy\":{\"id\":\"1070\"}},\"id\":\"1054\",\"type\":\"ColumnDataSource\"},{\"attributes\":{\"data\":{\"x\":[0,1,2,3,4,5,6,7,8,9,10,11,12,13,14,15,16,17,18,19,20,21,22,23,24,25,26,27,28,29,30,31,32,33,34,35,36,37,38,39,40,41,42,43,44,45,46,47,48,49,50,51,52,53,54,55,56,57,58,59,60,61,62,63,64,65,66,67,68,69,70,71,72,73,74,75,76,77,78,79,80,81,82,83,84,85,86,87,88,89,90,91,92,93,94,95,96,97,98,99,100,101,102,103,104,105,106,107,108,109,110,111,112,113,114,115,116,117,118,119,120,121,122,123,124,125,126,127,128,129,130,131,132,133,134,135,136,137,138,139,140,141,142,143,144,145,146,147,148,149,150,151,152,153,154,155,156,157,158,159,160,161,162,163,164,165,166,167,168,169,170,171,172,173,174,175,176,177,178,179,180,181,182,183,184,185,186,187,188,189,190,191,192,193,194,195,196,197,198,199,200,201,202,203,204,205,206,207,208,209,210,211,212,213,214,215,216,217,218,219,220,221,222,223,224,225,226,227,228,229,230,231,232,233,234,235,236,237,238,239,240,241,242,243,244,245,246,247,248,249,250,251,252,253,254,255,256,257,258,259,260,261,262,263,264,265,266,267,268,269,270,271,272,273,274,275,276,277,278,279,280,281,282,283,284,285,286,287,288,289,290,291,292,293,294,295,296,297,298,299,300,301,302,303,304,305,306,307,308,309,310,311,312,313,314,315,316,317,318,319,320,321,322,323,324,325,326,327,328,329,330,331,332,333,334,335,336,337,338,339,340,341,342,343,344,345,346,347,348,349,350,351,352,353,354,355,356,357,358,359,360,361,362,363,364,365,366,367,368,369,370,371,372,373,374,375,376,377,378,379,380,381,382,383,384,385,386,387,388,389,390,391,392,393,394,395,396,397,398,399,400,401,402,403,404,405,406,407,408,409,410,411,412,413,414,415,416,417,418,419,420,421,422,423,424,425,426,427,428,429,430,431,432,433,434,435,436,437,438,439,440,441,442,443,444,445,446,447,448,449,450,451,452,453,454,455,456,457,458,459,460,461,462,463,464,465,466,467,468,469,470,471,472,473,474,475,476,477,478,479,480,481,482,483,484,485,486,487,488,489,490,491,492,493,494,495,496,497,498,499,500,501,502,503,504,505,506,507,508,509,510,511,512,513,514,515,516,517,518,519,520,521,522,523,524,525,526,527,528,529,530,531,532,533,534,535,536,537,538,539,540,541,542,543,544,545,546,547,548,549,550,551,552,553,554,555,556,557,558,559,560,561,562,563,564,565,566,567,568,569,570,571,572,573,574,575,576,577,578,579,580,581,582,583,584,585,586,587,588,589,590,591,592,593,594,595,596,597,598,599],\"y\":{\"__ndarray__\":\"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\",\"dtype\":\"float32\",\"order\":\"little\",\"shape\":[600]}},\"selected\":{\"id\":\"1093\"},\"selection_policy\":{\"id\":\"1092\"}},\"id\":\"1074\",\"type\":\"ColumnDataSource\"},{\"attributes\":{\"coordinates\":null,\"data_source\":{\"id\":\"1074\"},\"glyph\":{\"id\":\"1075\"},\"group\":null,\"hover_glyph\":null,\"muted_glyph\":{\"id\":\"1077\"},\"nonselection_glyph\":{\"id\":\"1076\"},\"view\":{\"id\":\"1079\"}},\"id\":\"1078\",\"type\":\"GlyphRenderer\"},{\"attributes\":{\"label\":{\"value\":\"Approximation\"},\"renderers\":[{\"id\":\"1058\"}]},\"id\":\"1073\",\"type\":\"LegendItem\"},{\"attributes\":{\"label\":{\"value\":\"Init Control\"},\"renderers\":[{\"id\":\"1078\"}]},\"id\":\"1095\",\"type\":\"LegendItem\"},{\"attributes\":{\"line_alpha\":0.2,\"line_color\":\"#1f77b4\",\"line_width\":3,\"x\":{\"field\":\"x\"},\"y\":{\"field\":\"y\"}},\"id\":\"1057\",\"type\":\"Line\"},{\"attributes\":{\"line_alpha\":0.2,\"line_color\":\"#ff7f0e\",\"line_width\":3,\"x\":{\"field\":\"x\"},\"y\":{\"field\":\"y\"}},\"id\":\"1077\",\"type\":\"Line\"},{\"attributes\":{\"line_alpha\":0.1,\"line_color\":\"#1f77b4\",\"line_width\":3,\"x\":{\"field\":\"x\"},\"y\":{\"field\":\"y\"}},\"id\":\"1056\",\"type\":\"Line\"},{\"attributes\":{\"line_alpha\":0.1,\"line_color\":\"#ff7f0e\",\"line_width\":3,\"x\":{\"field\":\"x\"},\"y\":{\"field\":\"y\"}},\"id\":\"1076\",\"type\":\"Line\"},{\"attributes\":{\"bottom_units\":\"screen\",\"coordinates\":null,\"fill_alpha\":0.5,\"fill_color\":\"lightgrey\",\"group\":null,\"left_units\":\"screen\",\"level\":\"overlay\",\"line_alpha\":1.0,\"line_color\":\"black\",\"line_dash\":[4,4],\"line_width\":2,\"right_units\":\"screen\",\"syncable\":false,\"top_units\":\"screen\"},\"id\":\"1027\",\"type\":\"BoxAnnotation\"},{\"attributes\":{},\"id\":\"1093\",\"type\":\"Selection\"},{\"attributes\":{\"axis_label\":\"Loss\",\"coordinates\":null,\"formatter\":{\"id\":\"1044\"},\"group\":null,\"major_label_policy\":{\"id\":\"1045\"},\"ticker\":{\"id\":\"1018\"}},\"id\":\"1017\",\"type\":\"LinearAxis\"},{\"attributes\":{\"axis\":{\"id\":\"1017\"},\"coordinates\":null,\"dimension\":1,\"group\":null,\"ticker\":null},\"id\":\"1020\",\"type\":\"Grid\"},{\"attributes\":{},\"id\":\"1022\",\"type\":\"WheelZoomTool\"},{\"attributes\":{},\"id\":\"1092\",\"type\":\"UnionRenderers\"},{\"attributes\":{\"axis_label\":\"iters\",\"coordinates\":null,\"formatter\":{\"id\":\"1047\"},\"group\":null,\"major_label_policy\":{\"id\":\"1048\"},\"ticker\":{\"id\":\"1014\"}},\"id\":\"1013\",\"type\":\"LinearAxis\"},{\"attributes\":{},\"id\":\"1018\",\"type\":\"BasicTicker\"},{\"attributes\":{},\"id\":\"1047\",\"type\":\"BasicTickFormatter\"},{\"attributes\":{},\"id\":\"1009\",\"type\":\"LinearScale\"},{\"attributes\":{},\"id\":\"1071\",\"type\":\"Selection\"},{\"attributes\":{\"tools\":[{\"id\":\"1021\"},{\"id\":\"1022\"},{\"id\":\"1023\"},{\"id\":\"1024\"},{\"id\":\"1025\"},{\"id\":\"1026\"}]},\"id\":\"1028\",\"type\":\"Toolbar\"},{\"attributes\":{\"coordinates\":null,\"group\":null,\"items\":[{\"id\":\"1053\"},{\"id\":\"1073\"},{\"id\":\"1095\"}]},\"id\":\"1052\",\"type\":\"Legend\"},{\"attributes\":{},\"id\":\"1014\",\"type\":\"BasicTicker\"}],\"root_ids\":[\"1004\"]},\"title\":\"Bokeh Application\",\"version\":\"2.4.3\"}};\n",
       "  const render_items = [{\"docid\":\"82960353-5ea7-4f93-bb25-7b374613a151\",\"root_ids\":[\"1004\"],\"roots\":{\"1004\":\"97e89b78-5f6b-4008-8691-e56f445c030c\"}}];\n",
       "  root.Bokeh.embed.embed_items_notebook(docs_json, render_items);\n",
       "  }\n",
       "  if (root.Bokeh !== undefined) {\n",
       "    embed_document(root);\n",
       "  } else {\n",
       "    let attempts = 0;\n",
       "    const timer = setInterval(function(root) {\n",
       "      if (root.Bokeh !== undefined) {\n",
       "        clearInterval(timer);\n",
       "        embed_document(root);\n",
       "      } else {\n",
       "        attempts++;\n",
       "        if (attempts > 100) {\n",
       "          clearInterval(timer);\n",
       "          console.log(\"Bokeh: ERROR: Unable to run BokehJS code because BokehJS library is missing\");\n",
       "        }\n",
       "      }\n",
       "    }, 10, root)\n",
       "  }\n",
       "})(window);"
      ],
      "application/vnd.bokehjs_exec.v0+json": ""
     },
     "metadata": {
      "application/vnd.bokehjs_exec.v0+json": {
       "id": "1004"
      }
     },
     "output_type": "display_data"
    }
   ],
   "source": [
    "losses = (loss, Loss_t, Loss_t_control)\n",
    "colors = (Category10[10][0], Category10[10][0], Category10[10][1])\n",
    "legends = (\"Real Non-linear\", \"Approximation\", \"Init Control\")\n",
    "alphas = (0.3, 1, 1)\n",
    "\n",
    "s = plot_lines(iters, losses, legends, alphas, colors)\n",
    "show(s)"
   ]
  },
  {
   "cell_type": "code",
   "execution_count": 19,
   "metadata": {
    "ExecuteTime": {
     "end_time": "2022-10-18T16:34:31.368228Z",
     "start_time": "2022-10-18T16:34:31.365539Z"
    }
   },
   "outputs": [],
   "source": [
    "flat_W_t = np.reshape(weights, (weights.shape[0], -1))\n",
    "flat_eq_W_t = np.reshape(W_t, (W_t.shape[0], -1))\n"
   ]
  },
  {
   "cell_type": "code",
   "execution_count": 20,
   "metadata": {
    "ExecuteTime": {
     "end_time": "2022-10-18T16:34:31.851093Z",
     "start_time": "2022-10-18T16:34:31.370675Z"
    }
   },
   "outputs": [
    {
     "data": {
      "text/html": [
       "\n",
       "  <div class=\"bk-root\" id=\"ab1a3376-2eb0-4772-b04a-2da0467cd695\" data-root-id=\"1186\"></div>\n"
      ]
     },
     "metadata": {},
     "output_type": "display_data"
    },
    {
     "data": {
      "application/javascript": [
       "(function(root) {\n",
       "  function embed_document(root) {\n",
       "  const docs_json = {\"299be088-70b2-4728-897d-033ac56eab54\":{\"defs\":[],\"roots\":{\"references\":[{\"attributes\":{\"below\":[{\"id\":\"1197\"}],\"center\":[{\"id\":\"1200\"},{\"id\":\"1204\"},{\"id\":\"1235\"}],\"left\":[{\"id\":\"1201\"}],\"renderers\":[{\"id\":\"1223\"},{\"id\":\"1241\"}],\"title\":{\"id\":\"1187\"},\"toolbar\":{\"id\":\"1212\"},\"x_range\":{\"id\":\"1189\"},\"x_scale\":{\"id\":\"1193\"},\"y_range\":{\"id\":\"1191\"},\"y_scale\":{\"id\":\"1195\"}},\"id\":\"1186\",\"subtype\":\"Figure\",\"type\":\"Plot\"},{\"attributes\":{},\"id\":\"1232\",\"type\":\"UnionRenderers\"},{\"attributes\":{\"line_alpha\":0.1,\"line_color\":\"#1f77b4\",\"line_width\":3,\"x\":{\"field\":\"x\"},\"y\":{\"field\":\"y\"}},\"id\":\"1239\",\"type\":\"Line\"},{\"attributes\":{},\"id\":\"1206\",\"type\":\"WheelZoomTool\"},{\"attributes\":{\"line_alpha\":0.2,\"line_color\":\"#1f77b4\",\"line_width\":3,\"x\":{\"field\":\"x\"},\"y\":{\"field\":\"y\"}},\"id\":\"1240\",\"type\":\"Line\"},{\"attributes\":{\"label\":{\"value\":\"Equation\"},\"renderers\":[{\"id\":\"1241\"}]},\"id\":\"1255\",\"type\":\"LegendItem\"},{\"attributes\":{\"coordinates\":null,\"group\":null,\"text\":\"W\"},\"id\":\"1187\",\"type\":\"Title\"},{\"attributes\":{\"data\":{\"x\":[0,1,2,3,4,5,6,7,8,9,10,11,12,13,14,15,16,17,18,19,20,21,22,23,24,25,26,27,28,29,30,31,32,33,34,35,36,37,38,39,40,41,42,43,44,45,46,47,48,49,50,51,52,53,54,55,56,57,58,59,60,61,62,63,64,65,66,67,68,69,70,71,72,73,74,75,76,77,78,79,80,81,82,83,84,85,86,87,88,89,90,91,92,93,94,95,96,97,98,99,100,101,102,103,104,105,106,107,108,109,110,111,112,113,114,115,116,117,118,119,120,121,122,123,124,125,126,127,128,129,130,131,132,133,134,135,136,137,138,139,140,141,142,143,144,145,146,147,148,149,150,151,152,153,154,155,156,157,158,159,160,161,162,163,164,165,166,167,168,169,170,171,172,173,174,175,176,177,178,179,180,181,182,183,184,185,186,187,188,189,190,191,192,193,194,195,196,197,198,199,200,201,202,203,204,205,206,207,208,209,210,211,212,213,214,215,216,217,218,219,220,221,222,223,224,225,226,227,228,229,230,231,232,233,234,235,236,237,238,239,240,241,242,243,244,245,246,247,248,249,250,251,252,253,254,255,256,257,258,259,260,261,262,263,264,265,266,267,268,269,270,271,272,273,274,275,276,277,278,279,280,281,282,283,284,285,286,287,288,289,290,291,292,293,294,295,296,297,298,299,300,301,302,303,304,305,306,307,308,309,310,311,312,313,314,315,316,317,318,319,320,321,322,323,324,325,326,327,328,329,330,331,332,333,334,335,336,337,338,339,340,341,342,343,344,345,346,347,348,349,350,351,352,353,354,355,356,357,358,359,360,361,362,363,364,365,366,367,368,369,370,371,372,373,374,375,376,377,378,379,380,381,382,383,384,385,386,387,388,389,390,391,392,393,394,395,396,397,398,399,400,401,402,403,404,405,406,407,408,409,410,411,412,413,414,415,416,417,418,419,420,421,422,423,424,425,426,427,428,429,430,431,432,433,434,435,436,437,438,439,440,441,442,443,444,445,446,447,448,449,450,451,452,453,454,455,456,457,458,459,460,461,462,463,464,465,466,467,468,469,470,471,472,473,474,475,476,477,478,479,480,481,482,483,484,485,486,487,488,489,490,491,492,493,494,495,496,497,498,499,500,501,502,503,504,505,506,507,508,509,510,511,512,513,514,515,516,517,518,519,520,521,522,523,524,525,526,527,528,529,530,531,532,533,534,535,536,537,538,539,540,541,542,543,544,545,546,547,548,549,550,551,552,553,554,555,556,557,558,559,560,561,562,563,564,565,566,567,568,569,570,571,572,573,574,575,576,577,578,579,580,581,582,583,584,585,586,587,588,589,590,591,592,593,594,595,596,597,598,599],\"y\":{\"__ndarray__\":\"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\",\"dtype\":\"float32\",\"order\":\"little\",\"shape\":[600]}},\"selected\":{\"id\":\"1253\"},\"selection_policy\":{\"id\":\"1252\"}},\"id\":\"1237\",\"type\":\"ColumnDataSource\"},{\"attributes\":{\"coordinates\":null,\"data_source\":{\"id\":\"1237\"},\"glyph\":{\"id\":\"1238\"},\"group\":null,\"hover_glyph\":null,\"muted_glyph\":{\"id\":\"1240\"},\"nonselection_glyph\":{\"id\":\"1239\"},\"view\":{\"id\":\"1242\"}},\"id\":\"1241\",\"type\":\"GlyphRenderer\"},{\"attributes\":{},\"id\":\"1210\",\"type\":\"HelpTool\"},{\"attributes\":{\"line_color\":\"#1f77b4\",\"line_width\":3,\"x\":{\"field\":\"x\"},\"y\":{\"field\":\"y\"}},\"id\":\"1238\",\"type\":\"Line\"},{\"attributes\":{\"source\":{\"id\":\"1237\"}},\"id\":\"1242\",\"type\":\"CDSView\"},{\"attributes\":{},\"id\":\"1209\",\"type\":\"ResetTool\"},{\"attributes\":{\"label\":{\"value\":\"Simulation\"},\"renderers\":[{\"id\":\"1223\"}]},\"id\":\"1236\",\"type\":\"LegendItem\"},{\"attributes\":{},\"id\":\"1205\",\"type\":\"PanTool\"},{\"attributes\":{},\"id\":\"1208\",\"type\":\"SaveTool\"},{\"attributes\":{},\"id\":\"1195\",\"type\":\"LinearScale\"},{\"attributes\":{\"overlay\":{\"id\":\"1211\"}},\"id\":\"1207\",\"type\":\"BoxZoomTool\"},{\"attributes\":{\"coordinates\":null,\"group\":null,\"items\":[{\"id\":\"1236\"},{\"id\":\"1255\"}],\"location\":\"bottom_right\"},\"id\":\"1235\",\"type\":\"Legend\"},{\"attributes\":{\"data\":{\"x\":[0,20,40,60,80,100,120,140,160,180,200,220,240,260,280,300,320,340,360,380,400,420,440,460,480,500,520,540,560,580],\"y\":{\"__ndarray__\":\"ZCUHO9R0JD0/IJc94U/XPWdeCD5jBiI+4HE5PstTTj5BNWE+AXdyPlAPgT7w9Ic+0jGOPlLakz5k7Zg+wHedPqqxoT7ymaU+5cuoPnPTqz6Vs64+AA+xPnUlsz7+OLU+Iwy3PqjduD5rfLo+VNy7ProgvT70H74+\",\"dtype\":\"float32\",\"order\":\"little\",\"shape\":[30]}},\"selected\":{\"id\":\"1233\"},\"selection_policy\":{\"id\":\"1232\"}},\"id\":\"1219\",\"type\":\"ColumnDataSource\"},{\"attributes\":{\"line_alpha\":0.1,\"line_color\":\"#1f77b4\",\"line_dash\":[4,4],\"line_width\":6,\"x\":{\"field\":\"x\"},\"y\":{\"field\":\"y\"}},\"id\":\"1221\",\"type\":\"Line\"},{\"attributes\":{},\"id\":\"1193\",\"type\":\"LinearScale\"},{\"attributes\":{\"coordinates\":null,\"data_source\":{\"id\":\"1219\"},\"glyph\":{\"id\":\"1220\"},\"group\":null,\"hover_glyph\":null,\"muted_glyph\":{\"id\":\"1222\"},\"nonselection_glyph\":{\"id\":\"1221\"},\"view\":{\"id\":\"1224\"}},\"id\":\"1223\",\"type\":\"GlyphRenderer\"},{\"attributes\":{\"axis_label\":\"Weights\",\"coordinates\":null,\"formatter\":{\"id\":\"1227\"},\"group\":null,\"major_label_policy\":{\"id\":\"1228\"},\"ticker\":{\"id\":\"1202\"}},\"id\":\"1201\",\"type\":\"LinearAxis\"},{\"attributes\":{},\"id\":\"1198\",\"type\":\"BasicTicker\"},{\"attributes\":{\"axis_label\":\"iters\",\"coordinates\":null,\"formatter\":{\"id\":\"1230\"},\"group\":null,\"major_label_policy\":{\"id\":\"1231\"},\"ticker\":{\"id\":\"1198\"}},\"id\":\"1197\",\"type\":\"LinearAxis\"},{\"attributes\":{\"axis\":{\"id\":\"1197\"},\"coordinates\":null,\"group\":null,\"ticker\":null},\"id\":\"1200\",\"type\":\"Grid\"},{\"attributes\":{},\"id\":\"1231\",\"type\":\"AllLabels\"},{\"attributes\":{\"tools\":[{\"id\":\"1205\"},{\"id\":\"1206\"},{\"id\":\"1207\"},{\"id\":\"1208\"},{\"id\":\"1209\"},{\"id\":\"1210\"}]},\"id\":\"1212\",\"type\":\"Toolbar\"},{\"attributes\":{},\"id\":\"1233\",\"type\":\"Selection\"},{\"attributes\":{},\"id\":\"1228\",\"type\":\"AllLabels\"},{\"attributes\":{\"line_alpha\":0.5,\"line_color\":\"#1f77b4\",\"line_dash\":[4,4],\"line_width\":6,\"x\":{\"field\":\"x\"},\"y\":{\"field\":\"y\"}},\"id\":\"1220\",\"type\":\"Line\"},{\"attributes\":{\"source\":{\"id\":\"1219\"}},\"id\":\"1224\",\"type\":\"CDSView\"},{\"attributes\":{\"line_alpha\":0.2,\"line_color\":\"#1f77b4\",\"line_dash\":[4,4],\"line_width\":6,\"x\":{\"field\":\"x\"},\"y\":{\"field\":\"y\"}},\"id\":\"1222\",\"type\":\"Line\"},{\"attributes\":{\"bottom_units\":\"screen\",\"coordinates\":null,\"fill_alpha\":0.5,\"fill_color\":\"lightgrey\",\"group\":null,\"left_units\":\"screen\",\"level\":\"overlay\",\"line_alpha\":1.0,\"line_color\":\"black\",\"line_dash\":[4,4],\"line_width\":2,\"right_units\":\"screen\",\"syncable\":false,\"top_units\":\"screen\"},\"id\":\"1211\",\"type\":\"BoxAnnotation\"},{\"attributes\":{},\"id\":\"1189\",\"type\":\"DataRange1d\"},{\"attributes\":{},\"id\":\"1230\",\"type\":\"BasicTickFormatter\"},{\"attributes\":{},\"id\":\"1253\",\"type\":\"Selection\"},{\"attributes\":{},\"id\":\"1191\",\"type\":\"DataRange1d\"},{\"attributes\":{\"axis\":{\"id\":\"1201\"},\"coordinates\":null,\"dimension\":1,\"group\":null,\"ticker\":null},\"id\":\"1204\",\"type\":\"Grid\"},{\"attributes\":{},\"id\":\"1252\",\"type\":\"UnionRenderers\"},{\"attributes\":{},\"id\":\"1202\",\"type\":\"BasicTicker\"},{\"attributes\":{},\"id\":\"1227\",\"type\":\"BasicTickFormatter\"}],\"root_ids\":[\"1186\"]},\"title\":\"Bokeh Application\",\"version\":\"2.4.3\"}};\n",
       "  const render_items = [{\"docid\":\"299be088-70b2-4728-897d-033ac56eab54\",\"root_ids\":[\"1186\"],\"roots\":{\"1186\":\"ab1a3376-2eb0-4772-b04a-2da0467cd695\"}}];\n",
       "  root.Bokeh.embed.embed_items_notebook(docs_json, render_items);\n",
       "  }\n",
       "  if (root.Bokeh !== undefined) {\n",
       "    embed_document(root);\n",
       "  } else {\n",
       "    let attempts = 0;\n",
       "    const timer = setInterval(function(root) {\n",
       "      if (root.Bokeh !== undefined) {\n",
       "        clearInterval(timer);\n",
       "        embed_document(root);\n",
       "      } else {\n",
       "        attempts++;\n",
       "        if (attempts > 100) {\n",
       "          clearInterval(timer);\n",
       "          console.log(\"Bokeh: ERROR: Unable to run BokehJS code because BokehJS library is missing\");\n",
       "        }\n",
       "      }\n",
       "    }, 10, root)\n",
       "  }\n",
       "})(window);"
      ],
      "application/vnd.bokehjs_exec.v0+json": ""
     },
     "metadata": {
      "application/vnd.bokehjs_exec.v0+json": {
       "id": "1186"
      }
     },
     "output_type": "display_data"
    }
   ],
   "source": [
    "weight_plot = plot_weight_ev(flat_W_t, flat_eq_W_t, iters=weights_iter, iters_set2=iters, title=\"W\")\n",
    "show(weight_plot)"
   ]
  },
  {
   "cell_type": "markdown",
   "metadata": {
    "ExecuteTime": {
     "end_time": "2022-10-11T16:47:21.704342Z",
     "start_time": "2022-10-11T16:47:21.700812Z"
    }
   },
   "source": [
    "## Optimizing control signal"
   ]
  },
  {
   "cell_type": "code",
   "execution_count": 21,
   "metadata": {
    "ExecuteTime": {
     "end_time": "2022-10-18T16:34:31.855800Z",
     "start_time": "2022-10-18T16:34:31.852910Z"
    }
   },
   "outputs": [],
   "source": [
    "iter_control = 700\n",
    "control_params[\"iters_control\"] = iter_control\n",
    "cumulated_reward = []"
   ]
  },
  {
   "cell_type": "code",
   "execution_count": 22,
   "metadata": {
    "ExecuteTime": {
     "end_time": "2022-10-18T16:37:11.352104Z",
     "start_time": "2022-10-18T16:34:31.858273Z"
    },
    "scrolled": true
   },
   "outputs": [
    {
     "name": "stderr",
     "output_type": "stream",
     "text": [
      "100%|████████████████████████████████████████████████████████████████████████████████████████████████████████████████████████████████████████████████████████████████████████████| 700/700 [02:01<00:00,  5.77it/s]\n"
     ]
    }
   ],
   "source": [
    "for i in tqdm(range(iter_control)):\n",
    "    R = control.train_step(get_numpy=True)\n",
    "    # print(\"cumulated reward:\", R)\n",
    "    cumulated_reward.append(R)\n",
    "cumulated_reward = np.array(cumulated_reward).astype(float)\n",
    "results_dict[\"cumulated_reward_opt\"] = cumulated_reward\n",
    "control_params[\"control\"] = control"
   ]
  },
  {
   "cell_type": "code",
   "execution_count": 23,
   "metadata": {
    "ExecuteTime": {
     "end_time": "2022-10-18T16:37:11.430746Z",
     "start_time": "2022-10-18T16:37:11.353022Z"
    }
   },
   "outputs": [
    {
     "data": {
      "text/html": [
       "\n",
       "  <div class=\"bk-root\" id=\"fe1c941e-ad69-4e12-99a5-92aa845f95d6\" data-root-id=\"1343\"></div>\n"
      ]
     },
     "metadata": {},
     "output_type": "display_data"
    },
    {
     "data": {
      "application/javascript": [
       "(function(root) {\n",
       "  function embed_document(root) {\n",
       "  const docs_json = {\"1e37022b-a409-45ee-9da3-5a6d44a7ef70\":{\"defs\":[],\"roots\":{\"references\":[{\"attributes\":{\"below\":[{\"id\":\"1352\"}],\"center\":[{\"id\":\"1355\"},{\"id\":\"1359\"},{\"id\":\"1391\"}],\"height\":500,\"left\":[{\"id\":\"1356\"}],\"renderers\":[{\"id\":\"1378\"}],\"title\":{\"id\":\"1380\"},\"toolbar\":{\"id\":\"1367\"},\"width\":800,\"x_range\":{\"id\":\"1344\"},\"x_scale\":{\"id\":\"1348\"},\"y_range\":{\"id\":\"1346\"},\"y_scale\":{\"id\":\"1350\"}},\"id\":\"1343\",\"subtype\":\"Figure\",\"type\":\"Plot\"},{\"attributes\":{},\"id\":\"1353\",\"type\":\"BasicTicker\"},{\"attributes\":{\"coordinates\":null,\"group\":null},\"id\":\"1380\",\"type\":\"Title\"},{\"attributes\":{},\"id\":\"1389\",\"type\":\"Selection\"},{\"attributes\":{},\"id\":\"1361\",\"type\":\"WheelZoomTool\"},{\"attributes\":{\"axis\":{\"id\":\"1352\"},\"coordinates\":null,\"group\":null,\"ticker\":null},\"id\":\"1355\",\"type\":\"Grid\"},{\"attributes\":{\"line_color\":\"#1f77b4\",\"line_width\":3,\"x\":{\"field\":\"x\"},\"y\":{\"field\":\"y\"}},\"id\":\"1375\",\"type\":\"Line\"},{\"attributes\":{},\"id\":\"1350\",\"type\":\"LinearScale\"},{\"attributes\":{},\"id\":\"1360\",\"type\":\"PanTool\"},{\"attributes\":{\"overlay\":{\"id\":\"1366\"}},\"id\":\"1362\",\"type\":\"BoxZoomTool\"},{\"attributes\":{},\"id\":\"1346\",\"type\":\"DataRange1d\"},{\"attributes\":{},\"id\":\"1363\",\"type\":\"SaveTool\"},{\"attributes\":{\"data\":{\"x\":[0,1,2,3,4,5,6,7,8,9,10,11,12,13,14,15,16,17,18,19,20,21,22,23,24,25,26,27,28,29,30,31,32,33,34,35,36,37,38,39,40,41,42,43,44,45,46,47,48,49,50,51,52,53,54,55,56,57,58,59,60,61,62,63,64,65,66,67,68,69,70,71,72,73,74,75,76,77,78,79,80,81,82,83,84,85,86,87,88,89,90,91,92,93,94,95,96,97,98,99,100,101,102,103,104,105,106,107,108,109,110,111,112,113,114,115,116,117,118,119,120,121,122,123,124,125,126,127,128,129,130,131,132,133,134,135,136,137,138,139,140,141,142,143,144,145,146,147,148,149,150,151,152,153,154,155,156,157,158,159,160,161,162,163,164,165,166,167,168,169,170,171,172,173,174,175,176,177,178,179,180,181,182,183,184,185,186,187,188,189,190,191,192,193,194,195,196,197,198,199,200,201,202,203,204,205,206,207,208,209,210,211,212,213,214,215,216,217,218,219,220,221,222,223,224,225,226,227,228,229,230,231,232,233,234,235,236,237,238,239,240,241,242,243,244,245,246,247,248,249,250,251,252,253,254,255,256,257,258,259,260,261,262,263,264,265,266,267,268,269,270,271,272,273,274,275,276,277,278,279,280,281,282,283,284,285,286,287,288,289,290,291,292,293,294,295,296,297,298,299,300,301,302,303,304,305,306,307,308,309,310,311,312,313,314,315,316,317,318,319,320,321,322,323,324,325,326,327,328,329,330,331,332,333,334,335,336,337,338,339,340,341,342,343,344,345,346,347,348,349,350,351,352,353,354,355,356,357,358,359,360,361,362,363,364,365,366,367,368,369,370,371,372,373,374,375,376,377,378,379,380,381,382,383,384,385,386,387,388,389,390,391,392,393,394,395,396,397,398,399,400,401,402,403,404,405,406,407,408,409,410,411,412,413,414,415,416,417,418,419,420,421,422,423,424,425,426,427,428,429,430,431,432,433,434,435,436,437,438,439,440,441,442,443,444,445,446,447,448,449,450,451,452,453,454,455,456,457,458,459,460,461,462,463,464,465,466,467,468,469,470,471,472,473,474,475,476,477,478,479,480,481,482,483,484,485,486,487,488,489,490,491,492,493,494,495,496,497,498,499,500,501,502,503,504,505,506,507,508,509,510,511,512,513,514,515,516,517,518,519,520,521,522,523,524,525,526,527,528,529,530,531,532,533,534,535,536,537,538,539,540,541,542,543,544,545,546,547,548,549,550,551,552,553,554,555,556,557,558,559,560,561,562,563,564,565,566,567,568,569,570,571,572,573,574,575,576,577,578,579,580,581,582,583,584,585,586,587,588,589,590,591,592,593,594,595,596,597,598,599,600,601,602,603,604,605,606,607,608,609,610,611,612,613,614,615,616,617,618,619,620,621,622,623,624,625,626,627,628,629,630,631,632,633,634,635,636,637,638,639,640,641,642,643,644,645,646,647,648,649,650,651,652,653,654,655,656,657,658,659,660,661,662,663,664,665,666,667,668,669,670,671,672,673,674,675,676,677,678,679,680,681,682,683,684,685,686,687,688,689,690,691,692,693,694,695,696,697,698,699],\"y\":{\"__ndarray__\":\"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\",\"dtype\":\"float64\",\"order\":\"little\",\"shape\":[700]}},\"selected\":{\"id\":\"1389\"},\"selection_policy\":{\"id\":\"1388\"}},\"id\":\"1374\",\"type\":\"ColumnDataSource\"},{\"attributes\":{\"axis\":{\"id\":\"1356\"},\"coordinates\":null,\"dimension\":1,\"group\":null,\"ticker\":null},\"id\":\"1359\",\"type\":\"Grid\"},{\"attributes\":{},\"id\":\"1344\",\"type\":\"DataRange1d\"},{\"attributes\":{},\"id\":\"1357\",\"type\":\"BasicTicker\"},{\"attributes\":{},\"id\":\"1348\",\"type\":\"LinearScale\"},{\"attributes\":{\"source\":{\"id\":\"1374\"}},\"id\":\"1379\",\"type\":\"CDSView\"},{\"attributes\":{\"axis_label\":\"gradient steps on control\",\"coordinates\":null,\"formatter\":{\"id\":\"1386\"},\"group\":null,\"major_label_policy\":{\"id\":\"1387\"},\"ticker\":{\"id\":\"1353\"}},\"id\":\"1352\",\"type\":\"LinearAxis\"},{\"attributes\":{},\"id\":\"1365\",\"type\":\"HelpTool\"},{\"attributes\":{},\"id\":\"1387\",\"type\":\"AllLabels\"},{\"attributes\":{},\"id\":\"1364\",\"type\":\"ResetTool\"},{\"attributes\":{},\"id\":\"1384\",\"type\":\"AllLabels\"},{\"attributes\":{\"bottom_units\":\"screen\",\"coordinates\":null,\"fill_alpha\":0.5,\"fill_color\":\"lightgrey\",\"group\":null,\"left_units\":\"screen\",\"level\":\"overlay\",\"line_alpha\":1.0,\"line_color\":\"black\",\"line_dash\":[4,4],\"line_width\":2,\"right_units\":\"screen\",\"syncable\":false,\"top_units\":\"screen\"},\"id\":\"1366\",\"type\":\"BoxAnnotation\"},{\"attributes\":{\"axis_label\":\"Cumulated reward\",\"coordinates\":null,\"formatter\":{\"id\":\"1383\"},\"group\":null,\"major_label_policy\":{\"id\":\"1384\"},\"ticker\":{\"id\":\"1357\"}},\"id\":\"1356\",\"type\":\"LinearAxis\"},{\"attributes\":{},\"id\":\"1386\",\"type\":\"BasicTickFormatter\"},{\"attributes\":{},\"id\":\"1383\",\"type\":\"BasicTickFormatter\"},{\"attributes\":{\"tools\":[{\"id\":\"1360\"},{\"id\":\"1361\"},{\"id\":\"1362\"},{\"id\":\"1363\"},{\"id\":\"1364\"},{\"id\":\"1365\"}]},\"id\":\"1367\",\"type\":\"Toolbar\"},{\"attributes\":{\"label\":{\"value\":\"\"},\"renderers\":[{\"id\":\"1378\"}]},\"id\":\"1392\",\"type\":\"LegendItem\"},{\"attributes\":{\"coordinates\":null,\"data_source\":{\"id\":\"1374\"},\"glyph\":{\"id\":\"1375\"},\"group\":null,\"hover_glyph\":null,\"muted_glyph\":{\"id\":\"1377\"},\"nonselection_glyph\":{\"id\":\"1376\"},\"view\":{\"id\":\"1379\"}},\"id\":\"1378\",\"type\":\"GlyphRenderer\"},{\"attributes\":{\"line_alpha\":0.1,\"line_color\":\"#1f77b4\",\"line_width\":3,\"x\":{\"field\":\"x\"},\"y\":{\"field\":\"y\"}},\"id\":\"1376\",\"type\":\"Line\"},{\"attributes\":{},\"id\":\"1388\",\"type\":\"UnionRenderers\"},{\"attributes\":{\"coordinates\":null,\"group\":null,\"items\":[{\"id\":\"1392\"}]},\"id\":\"1391\",\"type\":\"Legend\"},{\"attributes\":{\"line_alpha\":0.2,\"line_color\":\"#1f77b4\",\"line_width\":3,\"x\":{\"field\":\"x\"},\"y\":{\"field\":\"y\"}},\"id\":\"1377\",\"type\":\"Line\"}],\"root_ids\":[\"1343\"]},\"title\":\"Bokeh Application\",\"version\":\"2.4.3\"}};\n",
       "  const render_items = [{\"docid\":\"1e37022b-a409-45ee-9da3-5a6d44a7ef70\",\"root_ids\":[\"1343\"],\"roots\":{\"1343\":\"fe1c941e-ad69-4e12-99a5-92aa845f95d6\"}}];\n",
       "  root.Bokeh.embed.embed_items_notebook(docs_json, render_items);\n",
       "  }\n",
       "  if (root.Bokeh !== undefined) {\n",
       "    embed_document(root);\n",
       "  } else {\n",
       "    let attempts = 0;\n",
       "    const timer = setInterval(function(root) {\n",
       "      if (root.Bokeh !== undefined) {\n",
       "        clearInterval(timer);\n",
       "        embed_document(root);\n",
       "      } else {\n",
       "        attempts++;\n",
       "        if (attempts > 100) {\n",
       "          clearInterval(timer);\n",
       "          console.log(\"Bokeh: ERROR: Unable to run BokehJS code because BokehJS library is missing\");\n",
       "        }\n",
       "      }\n",
       "    }, 10, root)\n",
       "  }\n",
       "})(window);"
      ],
      "application/vnd.bokehjs_exec.v0+json": ""
     },
     "metadata": {
      "application/vnd.bokehjs_exec.v0+json": {
       "id": "1343"
      }
     },
     "output_type": "display_data"
    }
   ],
   "source": [
    "opt = plot_lines(np.arange(iter_control), (cumulated_reward,), x_axis_label=\"gradient steps on control\", y_axis_label=\"Cumulated reward\")\n",
    "show(opt)"
   ]
  },
  {
   "cell_type": "code",
   "execution_count": 24,
   "metadata": {
    "ExecuteTime": {
     "end_time": "2022-10-18T16:37:12.615333Z",
     "start_time": "2022-10-18T16:37:11.431665Z"
    }
   },
   "outputs": [],
   "source": [
    "W_t_opt = control.get_weights(time_span, get_numpy=True)\n",
    "Loss_t_opt = control.get_loss_function(W_t_opt, get_numpy=True)\n",
    "\n",
    "results_dict[\"W_t_control_opt\"] = W_t_opt\n",
    "results_dict[\"Loss_t_control_opt\"] = Loss_t_opt"
   ]
  },
  {
   "cell_type": "code",
   "execution_count": 25,
   "metadata": {
    "ExecuteTime": {
     "end_time": "2022-10-18T16:37:12.723992Z",
     "start_time": "2022-10-18T16:37:12.616336Z"
    }
   },
   "outputs": [
    {
     "data": {
      "text/html": [
       "\n",
       "  <div class=\"bk-root\" id=\"cbcc333d-da12-46ee-9dec-11523f02f7dd\" data-root-id=\"1486\"></div>\n"
      ]
     },
     "metadata": {},
     "output_type": "display_data"
    },
    {
     "data": {
      "application/javascript": [
       "(function(root) {\n",
       "  function embed_document(root) {\n",
       "  const docs_json = {\"79349cb7-fabc-4441-ad81-402bcde5e23f\":{\"defs\":[],\"roots\":{\"references\":[{\"attributes\":{\"below\":[{\"id\":\"1495\"}],\"center\":[{\"id\":\"1498\"},{\"id\":\"1502\"},{\"id\":\"1534\"}],\"height\":500,\"left\":[{\"id\":\"1499\"}],\"renderers\":[{\"id\":\"1521\"},{\"id\":\"1540\"},{\"id\":\"1560\"}],\"title\":{\"id\":\"1523\"},\"toolbar\":{\"id\":\"1510\"},\"width\":800,\"x_range\":{\"id\":\"1487\"},\"x_scale\":{\"id\":\"1491\"},\"y_range\":{\"id\":\"1489\"},\"y_scale\":{\"id\":\"1493\"}},\"id\":\"1486\",\"subtype\":\"Figure\",\"type\":\"Plot\"},{\"attributes\":{\"axis_label\":\"Loss\",\"coordinates\":null,\"formatter\":{\"id\":\"1526\"},\"group\":null,\"major_label_policy\":{\"id\":\"1527\"},\"ticker\":{\"id\":\"1500\"}},\"id\":\"1499\",\"type\":\"LinearAxis\"},{\"attributes\":{\"source\":{\"id\":\"1536\"}},\"id\":\"1541\",\"type\":\"CDSView\"},{\"attributes\":{},\"id\":\"1508\",\"type\":\"HelpTool\"},{\"attributes\":{\"line_color\":\"#1f77b4\",\"line_width\":3,\"x\":{\"field\":\"x\"},\"y\":{\"field\":\"y\"}},\"id\":\"1537\",\"type\":\"Line\"},{\"attributes\":{\"line_color\":\"#ff7f0e\",\"line_width\":3,\"x\":{\"field\":\"x\"},\"y\":{\"field\":\"y\"}},\"id\":\"1557\",\"type\":\"Line\"},{\"attributes\":{\"coordinates\":null,\"data_source\":{\"id\":\"1536\"},\"glyph\":{\"id\":\"1537\"},\"group\":null,\"hover_glyph\":null,\"muted_glyph\":{\"id\":\"1539\"},\"nonselection_glyph\":{\"id\":\"1538\"},\"view\":{\"id\":\"1541\"}},\"id\":\"1540\",\"type\":\"GlyphRenderer\"},{\"attributes\":{\"coordinates\":null,\"data_source\":{\"id\":\"1556\"},\"glyph\":{\"id\":\"1557\"},\"group\":null,\"hover_glyph\":null,\"muted_glyph\":{\"id\":\"1559\"},\"nonselection_glyph\":{\"id\":\"1558\"},\"view\":{\"id\":\"1561\"}},\"id\":\"1560\",\"type\":\"GlyphRenderer\"},{\"attributes\":{\"data\":{\"x\":[0,1,2,3,4,5,6,7,8,9,10,11,12,13,14,15,16,17,18,19,20,21,22,23,24,25,26,27,28,29,30,31,32,33,34,35,36,37,38,39,40,41,42,43,44,45,46,47,48,49,50,51,52,53,54,55,56,57,58,59,60,61,62,63,64,65,66,67,68,69,70,71,72,73,74,75,76,77,78,79,80,81,82,83,84,85,86,87,88,89,90,91,92,93,94,95,96,97,98,99,100,101,102,103,104,105,106,107,108,109,110,111,112,113,114,115,116,117,118,119,120,121,122,123,124,125,126,127,128,129,130,131,132,133,134,135,136,137,138,139,140,141,142,143,144,145,146,147,148,149,150,151,152,153,154,155,156,157,158,159,160,161,162,163,164,165,166,167,168,169,170,171,172,173,174,175,176,177,178,179,180,181,182,183,184,185,186,187,188,189,190,191,192,193,194,195,196,197,198,199,200,201,202,203,204,205,206,207,208,209,210,211,212,213,214,215,216,217,218,219,220,221,222,223,224,225,226,227,228,229,230,231,232,233,234,235,236,237,238,239,240,241,242,243,244,245,246,247,248,249,250,251,252,253,254,255,256,257,258,259,260,261,262,263,264,265,266,267,268,269,270,271,272,273,274,275,276,277,278,279,280,281,282,283,284,285,286,287,288,289,290,291,292,293,294,295,296,297,298,299,300,301,302,303,304,305,306,307,308,309,310,311,312,313,314,315,316,317,318,319,320,321,322,323,324,325,326,327,328,329,330,331,332,333,334,335,336,337,338,339,340,341,342,343,344,345,346,347,348,349,350,351,352,353,354,355,356,357,358,359,360,361,362,363,364,365,366,367,368,369,370,371,372,373,374,375,376,377,378,379,380,381,382,383,384,385,386,387,388,389,390,391,392,393,394,395,396,397,398,399,400,401,402,403,404,405,406,407,408,409,410,411,412,413,414,415,416,417,418,419,420,421,422,423,424,425,426,427,428,429,430,431,432,433,434,435,436,437,438,439,440,441,442,443,444,445,446,447,448,449,450,451,452,453,454,455,456,457,458,459,460,461,462,463,464,465,466,467,468,469,470,471,472,473,474,475,476,477,478,479,480,481,482,483,484,485,486,487,488,489,490,491,492,493,494,495,496,497,498,499,500,501,502,503,504,505,506,507,508,509,510,511,512,513,514,515,516,517,518,519,520,521,522,523,524,525,526,527,528,529,530,531,532,533,534,535,536,537,538,539,540,541,542,543,544,545,546,547,548,549,550,551,552,553,554,555,556,557,558,559,560,561,562,563,564,565,566,567,568,569,570,571,572,573,574,575,576,577,578,579,580,581,582,583,584,585,586,587,588,589,590,591,592,593,594,595,596,597,598,599],\"y\":{\"__ndarray__\":\"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\",\"dtype\":\"float32\",\"order\":\"little\",\"shape\":[600]}},\"selected\":{\"id\":\"1553\"},\"selection_policy\":{\"id\":\"1552\"}},\"id\":\"1536\",\"type\":\"ColumnDataSource\"},{\"attributes\":{\"data\":{\"x\":[0,1,2,3,4,5,6,7,8,9,10,11,12,13,14,15,16,17,18,19,20,21,22,23,24,25,26,27,28,29,30,31,32,33,34,35,36,37,38,39,40,41,42,43,44,45,46,47,48,49,50,51,52,53,54,55,56,57,58,59,60,61,62,63,64,65,66,67,68,69,70,71,72,73,74,75,76,77,78,79,80,81,82,83,84,85,86,87,88,89,90,91,92,93,94,95,96,97,98,99,100,101,102,103,104,105,106,107,108,109,110,111,112,113,114,115,116,117,118,119,120,121,122,123,124,125,126,127,128,129,130,131,132,133,134,135,136,137,138,139,140,141,142,143,144,145,146,147,148,149,150,151,152,153,154,155,156,157,158,159,160,161,162,163,164,165,166,167,168,169,170,171,172,173,174,175,176,177,178,179,180,181,182,183,184,185,186,187,188,189,190,191,192,193,194,195,196,197,198,199,200,201,202,203,204,205,206,207,208,209,210,211,212,213,214,215,216,217,218,219,220,221,222,223,224,225,226,227,228,229,230,231,232,233,234,235,236,237,238,239,240,241,242,243,244,245,246,247,248,249,250,251,252,253,254,255,256,257,258,259,260,261,262,263,264,265,266,267,268,269,270,271,272,273,274,275,276,277,278,279,280,281,282,283,284,285,286,287,288,289,290,291,292,293,294,295,296,297,298,299,300,301,302,303,304,305,306,307,308,309,310,311,312,313,314,315,316,317,318,319,320,321,322,323,324,325,326,327,328,329,330,331,332,333,334,335,336,337,338,339,340,341,342,343,344,345,346,347,348,349,350,351,352,353,354,355,356,357,358,359,360,361,362,363,364,365,366,367,368,369,370,371,372,373,374,375,376,377,378,379,380,381,382,383,384,385,386,387,388,389,390,391,392,393,394,395,396,397,398,399,400,401,402,403,404,405,406,407,408,409,410,411,412,413,414,415,416,417,418,419,420,421,422,423,424,425,426,427,428,429,430,431,432,433,434,435,436,437,438,439,440,441,442,443,444,445,446,447,448,449,450,451,452,453,454,455,456,457,458,459,460,461,462,463,464,465,466,467,468,469,470,471,472,473,474,475,476,477,478,479,480,481,482,483,484,485,486,487,488,489,490,491,492,493,494,495,496,497,498,499,500,501,502,503,504,505,506,507,508,509,510,511,512,513,514,515,516,517,518,519,520,521,522,523,524,525,526,527,528,529,530,531,532,533,534,535,536,537,538,539,540,541,542,543,544,545,546,547,548,549,550,551,552,553,554,555,556,557,558,559,560,561,562,563,564,565,566,567,568,569,570,571,572,573,574,575,576,577,578,579,580,581,582,583,584,585,586,587,588,589,590,591,592,593,594,595,596,597,598,599],\"y\":{\"__ndarray__\":\"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\",\"dtype\":\"float32\",\"order\":\"little\",\"shape\":[600]}},\"selected\":{\"id\":\"1575\"},\"selection_policy\":{\"id\":\"1574\"}},\"id\":\"1556\",\"type\":\"ColumnDataSource\"},{\"attributes\":{},\"id\":\"1507\",\"type\":\"ResetTool\"},{\"attributes\":{},\"id\":\"1526\",\"type\":\"BasicTickFormatter\"},{\"attributes\":{},\"id\":\"1531\",\"type\":\"UnionRenderers\"},{\"attributes\":{\"label\":{\"value\":\"Approximation\"},\"renderers\":[{\"id\":\"1540\"}]},\"id\":\"1555\",\"type\":\"LegendItem\"},{\"attributes\":{},\"id\":\"1503\",\"type\":\"PanTool\"},{\"attributes\":{\"label\":{\"value\":\"Approximated Optimized Control\"},\"renderers\":[{\"id\":\"1560\"}]},\"id\":\"1577\",\"type\":\"LegendItem\"},{\"attributes\":{\"line_alpha\":0.2,\"line_color\":\"#1f77b4\",\"line_width\":3,\"x\":{\"field\":\"x\"},\"y\":{\"field\":\"y\"}},\"id\":\"1539\",\"type\":\"Line\"},{\"attributes\":{\"line_alpha\":0.2,\"line_color\":\"#ff7f0e\",\"line_width\":3,\"x\":{\"field\":\"x\"},\"y\":{\"field\":\"y\"}},\"id\":\"1559\",\"type\":\"Line\"},{\"attributes\":{\"line_alpha\":0.1,\"line_color\":\"#1f77b4\",\"line_width\":3,\"x\":{\"field\":\"x\"},\"y\":{\"field\":\"y\"}},\"id\":\"1538\",\"type\":\"Line\"},{\"attributes\":{\"line_alpha\":0.1,\"line_color\":\"#ff7f0e\",\"line_width\":3,\"x\":{\"field\":\"x\"},\"y\":{\"field\":\"y\"}},\"id\":\"1558\",\"type\":\"Line\"},{\"attributes\":{\"data\":{\"x\":[0,1,2,3,4,5,6,7,8,9,10,11,12,13,14,15,16,17,18,19,20,21,22,23,24,25,26,27,28,29,30,31,32,33,34,35,36,37,38,39,40,41,42,43,44,45,46,47,48,49,50,51,52,53,54,55,56,57,58,59,60,61,62,63,64,65,66,67,68,69,70,71,72,73,74,75,76,77,78,79,80,81,82,83,84,85,86,87,88,89,90,91,92,93,94,95,96,97,98,99,100,101,102,103,104,105,106,107,108,109,110,111,112,113,114,115,116,117,118,119,120,121,122,123,124,125,126,127,128,129,130,131,132,133,134,135,136,137,138,139,140,141,142,143,144,145,146,147,148,149,150,151,152,153,154,155,156,157,158,159,160,161,162,163,164,165,166,167,168,169,170,171,172,173,174,175,176,177,178,179,180,181,182,183,184,185,186,187,188,189,190,191,192,193,194,195,196,197,198,199,200,201,202,203,204,205,206,207,208,209,210,211,212,213,214,215,216,217,218,219,220,221,222,223,224,225,226,227,228,229,230,231,232,233,234,235,236,237,238,239,240,241,242,243,244,245,246,247,248,249,250,251,252,253,254,255,256,257,258,259,260,261,262,263,264,265,266,267,268,269,270,271,272,273,274,275,276,277,278,279,280,281,282,283,284,285,286,287,288,289,290,291,292,293,294,295,296,297,298,299,300,301,302,303,304,305,306,307,308,309,310,311,312,313,314,315,316,317,318,319,320,321,322,323,324,325,326,327,328,329,330,331,332,333,334,335,336,337,338,339,340,341,342,343,344,345,346,347,348,349,350,351,352,353,354,355,356,357,358,359,360,361,362,363,364,365,366,367,368,369,370,371,372,373,374,375,376,377,378,379,380,381,382,383,384,385,386,387,388,389,390,391,392,393,394,395,396,397,398,399,400,401,402,403,404,405,406,407,408,409,410,411,412,413,414,415,416,417,418,419,420,421,422,423,424,425,426,427,428,429,430,431,432,433,434,435,436,437,438,439,440,441,442,443,444,445,446,447,448,449,450,451,452,453,454,455,456,457,458,459,460,461,462,463,464,465,466,467,468,469,470,471,472,473,474,475,476,477,478,479,480,481,482,483,484,485,486,487,488,489,490,491,492,493,494,495,496,497,498,499,500,501,502,503,504,505,506,507,508,509,510,511,512,513,514,515,516,517,518,519,520,521,522,523,524,525,526,527,528,529,530,531,532,533,534,535,536,537,538,539,540,541,542,543,544,545,546,547,548,549,550,551,552,553,554,555,556,557,558,559,560,561,562,563,564,565,566,567,568,569,570,571,572,573,574,575,576,577,578,579,580,581,582,583,584,585,586,587,588,589,590,591,592,593,594,595,596,597,598,599],\"y\":{\"__ndarray__\":\"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\",\"dtype\":\"float32\",\"order\":\"little\",\"shape\":[600]}},\"selected\":{\"id\":\"1532\"},\"selection_policy\":{\"id\":\"1531\"}},\"id\":\"1517\",\"type\":\"ColumnDataSource\"},{\"attributes\":{},\"id\":\"1504\",\"type\":\"WheelZoomTool\"},{\"attributes\":{},\"id\":\"1553\",\"type\":\"Selection\"},{\"attributes\":{\"tools\":[{\"id\":\"1503\"},{\"id\":\"1504\"},{\"id\":\"1505\"},{\"id\":\"1506\"},{\"id\":\"1507\"},{\"id\":\"1508\"}]},\"id\":\"1510\",\"type\":\"Toolbar\"},{\"attributes\":{},\"id\":\"1530\",\"type\":\"AllLabels\"},{\"attributes\":{},\"id\":\"1506\",\"type\":\"SaveTool\"},{\"attributes\":{\"line_alpha\":0.2,\"line_color\":\"#1f77b4\",\"line_width\":3,\"x\":{\"field\":\"x\"},\"y\":{\"field\":\"y\"}},\"id\":\"1520\",\"type\":\"Line\"},{\"attributes\":{},\"id\":\"1500\",\"type\":\"BasicTicker\"},{\"attributes\":{},\"id\":\"1491\",\"type\":\"LinearScale\"},{\"attributes\":{},\"id\":\"1489\",\"type\":\"DataRange1d\"},{\"attributes\":{},\"id\":\"1575\",\"type\":\"Selection\"},{\"attributes\":{\"bottom_units\":\"screen\",\"coordinates\":null,\"fill_alpha\":0.5,\"fill_color\":\"lightgrey\",\"group\":null,\"left_units\":\"screen\",\"level\":\"overlay\",\"line_alpha\":1.0,\"line_color\":\"black\",\"line_dash\":[4,4],\"line_width\":2,\"right_units\":\"screen\",\"syncable\":false,\"top_units\":\"screen\"},\"id\":\"1509\",\"type\":\"BoxAnnotation\"},{\"attributes\":{\"line_alpha\":0.1,\"line_color\":\"#1f77b4\",\"line_width\":3,\"x\":{\"field\":\"x\"},\"y\":{\"field\":\"y\"}},\"id\":\"1519\",\"type\":\"Line\"},{\"attributes\":{},\"id\":\"1487\",\"type\":\"DataRange1d\"},{\"attributes\":{},\"id\":\"1493\",\"type\":\"LinearScale\"},{\"attributes\":{\"source\":{\"id\":\"1517\"}},\"id\":\"1522\",\"type\":\"CDSView\"},{\"attributes\":{},\"id\":\"1496\",\"type\":\"BasicTicker\"},{\"attributes\":{\"label\":{\"value\":\"Real Non-linear\"},\"renderers\":[{\"id\":\"1521\"}]},\"id\":\"1535\",\"type\":\"LegendItem\"},{\"attributes\":{\"line_alpha\":0.3,\"line_color\":\"#1f77b4\",\"line_width\":3,\"x\":{\"field\":\"x\"},\"y\":{\"field\":\"y\"}},\"id\":\"1518\",\"type\":\"Line\"},{\"attributes\":{},\"id\":\"1574\",\"type\":\"UnionRenderers\"},{\"attributes\":{\"coordinates\":null,\"group\":null},\"id\":\"1523\",\"type\":\"Title\"},{\"attributes\":{\"overlay\":{\"id\":\"1509\"}},\"id\":\"1505\",\"type\":\"BoxZoomTool\"},{\"attributes\":{\"axis\":{\"id\":\"1495\"},\"coordinates\":null,\"group\":null,\"ticker\":null},\"id\":\"1498\",\"type\":\"Grid\"},{\"attributes\":{\"coordinates\":null,\"group\":null,\"items\":[{\"id\":\"1535\"},{\"id\":\"1555\"},{\"id\":\"1577\"}]},\"id\":\"1534\",\"type\":\"Legend\"},{\"attributes\":{\"axis_label\":\"iters\",\"coordinates\":null,\"formatter\":{\"id\":\"1529\"},\"group\":null,\"major_label_policy\":{\"id\":\"1530\"},\"ticker\":{\"id\":\"1496\"}},\"id\":\"1495\",\"type\":\"LinearAxis\"},{\"attributes\":{},\"id\":\"1529\",\"type\":\"BasicTickFormatter\"},{\"attributes\":{},\"id\":\"1532\",\"type\":\"Selection\"},{\"attributes\":{\"axis\":{\"id\":\"1499\"},\"coordinates\":null,\"dimension\":1,\"group\":null,\"ticker\":null},\"id\":\"1502\",\"type\":\"Grid\"},{\"attributes\":{},\"id\":\"1527\",\"type\":\"AllLabels\"},{\"attributes\":{},\"id\":\"1552\",\"type\":\"UnionRenderers\"},{\"attributes\":{\"source\":{\"id\":\"1556\"}},\"id\":\"1561\",\"type\":\"CDSView\"},{\"attributes\":{\"coordinates\":null,\"data_source\":{\"id\":\"1517\"},\"glyph\":{\"id\":\"1518\"},\"group\":null,\"hover_glyph\":null,\"muted_glyph\":{\"id\":\"1520\"},\"nonselection_glyph\":{\"id\":\"1519\"},\"view\":{\"id\":\"1522\"}},\"id\":\"1521\",\"type\":\"GlyphRenderer\"}],\"root_ids\":[\"1486\"]},\"title\":\"Bokeh Application\",\"version\":\"2.4.3\"}};\n",
       "  const render_items = [{\"docid\":\"79349cb7-fabc-4441-ad81-402bcde5e23f\",\"root_ids\":[\"1486\"],\"roots\":{\"1486\":\"cbcc333d-da12-46ee-9dec-11523f02f7dd\"}}];\n",
       "  root.Bokeh.embed.embed_items_notebook(docs_json, render_items);\n",
       "  }\n",
       "  if (root.Bokeh !== undefined) {\n",
       "    embed_document(root);\n",
       "  } else {\n",
       "    let attempts = 0;\n",
       "    const timer = setInterval(function(root) {\n",
       "      if (root.Bokeh !== undefined) {\n",
       "        clearInterval(timer);\n",
       "        embed_document(root);\n",
       "      } else {\n",
       "        attempts++;\n",
       "        if (attempts > 100) {\n",
       "          clearInterval(timer);\n",
       "          console.log(\"Bokeh: ERROR: Unable to run BokehJS code because BokehJS library is missing\");\n",
       "        }\n",
       "      }\n",
       "    }, 10, root)\n",
       "  }\n",
       "})(window);"
      ],
      "application/vnd.bokehjs_exec.v0+json": ""
     },
     "metadata": {
      "application/vnd.bokehjs_exec.v0+json": {
       "id": "1486"
      }
     },
     "output_type": "display_data"
    }
   ],
   "source": [
    "losses = (loss, Loss_t, Loss_t_opt)\n",
    "colors = (Category10[10][0], Category10[10][0], Category10[10][1])\n",
    "legends = (\"Real Non-linear\", \"Approximation\", \"Approximated Optimized Control\")\n",
    "alphas = (0.3, 1, 1)\n",
    "\n",
    "s = plot_lines(iters, losses, legends, alphas, colors)\n",
    "show(s)"
   ]
  },
  {
   "cell_type": "code",
   "execution_count": 26,
   "metadata": {
    "ExecuteTime": {
     "end_time": "2022-10-18T16:37:12.726990Z",
     "start_time": "2022-10-18T16:37:12.724984Z"
    }
   },
   "outputs": [],
   "source": [
    "g_tilda = control.g_tilda.detach()\n",
    "control_signal = g_tilda\n",
    "W_0 = control_params[\"init_weights\"]\n",
    "results_dict[\"control_signal\"] = control_signal"
   ]
  },
  {
   "cell_type": "code",
   "execution_count": 27,
   "metadata": {
    "ExecuteTime": {
     "end_time": "2022-10-18T16:37:12.733301Z",
     "start_time": "2022-10-18T16:37:12.731075Z"
    }
   },
   "outputs": [],
   "source": [
    "reset_model_params = model_params.copy()\n",
    "reset_model_params[\"W_0\"] = W_0\n",
    "\n",
    "reset_model = SingleLayerNet(**reset_model_params)"
   ]
  },
  {
   "cell_type": "code",
   "execution_count": 28,
   "metadata": {
    "ExecuteTime": {
     "end_time": "2022-10-18T16:37:16.745269Z",
     "start_time": "2022-10-18T16:37:12.734988Z"
    }
   },
   "outputs": [
    {
     "name": "stderr",
     "output_type": "stream",
     "text": [
      "100%|██████████████████████████████████████████████████████████████████████████████████████████████████████████████████████████████████████████████████████████████████████████| 600/600 [00:00<00:00, 1567.94it/s]\n"
     ]
    }
   ],
   "source": [
    "iters, loss_OPT, weights_iter_OPT, weights_OPT = single_layer_training(model=reset_model,\n",
    "                                                                       dataset=dataset,\n",
    "                                                                       n_steps=n_steps,\n",
    "                                                                       save_weights_every=save_weights_every,\n",
    "                                                                       control_signal=control_signal)\n",
    "results_dict[\"Loss_t_sim_OPT\"] = loss_OPT\n",
    "results_dict[\"weights_sim_OPT\"] = weights_OPT\n",
    "results_dict[\"weights_iters_sim_OPT\"] = weights_iter_OPT\n",
    "results_dict[\"iters_OPT\"] = iters"
   ]
  },
  {
   "cell_type": "code",
   "execution_count": 29,
   "metadata": {
    "ExecuteTime": {
     "end_time": "2022-10-18T16:37:16.873109Z",
     "start_time": "2022-10-18T16:37:16.746556Z"
    }
   },
   "outputs": [
    {
     "data": {
      "text/html": [
       "\n",
       "  <div class=\"bk-root\" id=\"70cdd261-ca69-4c82-8a80-772596913c27\" data-root-id=\"1706\"></div>\n"
      ]
     },
     "metadata": {},
     "output_type": "display_data"
    },
    {
     "data": {
      "application/javascript": [
       "(function(root) {\n",
       "  function embed_document(root) {\n",
       "  const docs_json = {\"feba081d-cc7a-4554-b7a9-f0f188e581d1\":{\"defs\":[],\"roots\":{\"references\":[{\"attributes\":{\"below\":[{\"id\":\"1715\"}],\"center\":[{\"id\":\"1718\"},{\"id\":\"1722\"},{\"id\":\"1754\"}],\"height\":500,\"left\":[{\"id\":\"1719\"}],\"renderers\":[{\"id\":\"1741\"},{\"id\":\"1760\"},{\"id\":\"1780\"},{\"id\":\"1802\"}],\"title\":{\"id\":\"1743\"},\"toolbar\":{\"id\":\"1730\"},\"width\":800,\"x_range\":{\"id\":\"1707\"},\"x_scale\":{\"id\":\"1711\"},\"y_range\":{\"id\":\"1709\"},\"y_scale\":{\"id\":\"1713\"}},\"id\":\"1706\",\"subtype\":\"Figure\",\"type\":\"Plot\"},{\"attributes\":{\"coordinates\":null,\"group\":null,\"items\":[{\"id\":\"1755\"},{\"id\":\"1775\"},{\"id\":\"1797\"},{\"id\":\"1821\"}]},\"id\":\"1754\",\"type\":\"Legend\"},{\"attributes\":{\"line_alpha\":0.1,\"line_color\":\"#ff7f0e\",\"line_width\":3,\"x\":{\"field\":\"x\"},\"y\":{\"field\":\"y\"}},\"id\":\"1800\",\"type\":\"Line\"},{\"attributes\":{},\"id\":\"1711\",\"type\":\"LinearScale\"},{\"attributes\":{\"line_alpha\":0.2,\"line_color\":\"#1f77b4\",\"line_width\":3,\"x\":{\"field\":\"x\"},\"y\":{\"field\":\"y\"}},\"id\":\"1740\",\"type\":\"Line\"},{\"attributes\":{\"line_alpha\":0.2,\"line_color\":\"#1f77b4\",\"line_width\":3,\"x\":{\"field\":\"x\"},\"y\":{\"field\":\"y\"}},\"id\":\"1759\",\"type\":\"Line\"},{\"attributes\":{\"line_alpha\":0.1,\"line_color\":\"#1f77b4\",\"line_width\":3,\"x\":{\"field\":\"x\"},\"y\":{\"field\":\"y\"}},\"id\":\"1739\",\"type\":\"Line\"},{\"attributes\":{\"data\":{\"x\":[0,1,2,3,4,5,6,7,8,9,10,11,12,13,14,15,16,17,18,19,20,21,22,23,24,25,26,27,28,29,30,31,32,33,34,35,36,37,38,39,40,41,42,43,44,45,46,47,48,49,50,51,52,53,54,55,56,57,58,59,60,61,62,63,64,65,66,67,68,69,70,71,72,73,74,75,76,77,78,79,80,81,82,83,84,85,86,87,88,89,90,91,92,93,94,95,96,97,98,99,100,101,102,103,104,105,106,107,108,109,110,111,112,113,114,115,116,117,118,119,120,121,122,123,124,125,126,127,128,129,130,131,132,133,134,135,136,137,138,139,140,141,142,143,144,145,146,147,148,149,150,151,152,153,154,155,156,157,158,159,160,161,162,163,164,165,166,167,168,169,170,171,172,173,174,175,176,177,178,179,180,181,182,183,184,185,186,187,188,189,190,191,192,193,194,195,196,197,198,199,200,201,202,203,204,205,206,207,208,209,210,211,212,213,214,215,216,217,218,219,220,221,222,223,224,225,226,227,228,229,230,231,232,233,234,235,236,237,238,239,240,241,242,243,244,245,246,247,248,249,250,251,252,253,254,255,256,257,258,259,260,261,262,263,264,265,266,267,268,269,270,271,272,273,274,275,276,277,278,279,280,281,282,283,284,285,286,287,288,289,290,291,292,293,294,295,296,297,298,299,300,301,302,303,304,305,306,307,308,309,310,311,312,313,314,315,316,317,318,319,320,321,322,323,324,325,326,327,328,329,330,331,332,333,334,335,336,337,338,339,340,341,342,343,344,345,346,347,348,349,350,351,352,353,354,355,356,357,358,359,360,361,362,363,364,365,366,367,368,369,370,371,372,373,374,375,376,377,378,379,380,381,382,383,384,385,386,387,388,389,390,391,392,393,394,395,396,397,398,399,400,401,402,403,404,405,406,407,408,409,410,411,412,413,414,415,416,417,418,419,420,421,422,423,424,425,426,427,428,429,430,431,432,433,434,435,436,437,438,439,440,441,442,443,444,445,446,447,448,449,450,451,452,453,454,455,456,457,458,459,460,461,462,463,464,465,466,467,468,469,470,471,472,473,474,475,476,477,478,479,480,481,482,483,484,485,486,487,488,489,490,491,492,493,494,495,496,497,498,499,500,501,502,503,504,505,506,507,508,509,510,511,512,513,514,515,516,517,518,519,520,521,522,523,524,525,526,527,528,529,530,531,532,533,534,535,536,537,538,539,540,541,542,543,544,545,546,547,548,549,550,551,552,553,554,555,556,557,558,559,560,561,562,563,564,565,566,567,568,569,570,571,572,573,574,575,576,577,578,579,580,581,582,583,584,585,586,587,588,589,590,591,592,593,594,595,596,597,598,599],\"y\":{\"__ndarray__\":\"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\",\"dtype\":\"float32\",\"order\":\"little\",\"shape\":[600]}},\"selected\":{\"id\":\"1795\"},\"selection_policy\":{\"id\":\"1794\"}},\"id\":\"1776\",\"type\":\"ColumnDataSource\"},{\"attributes\":{\"line_alpha\":0.1,\"line_color\":\"#1f77b4\",\"line_width\":3,\"x\":{\"field\":\"x\"},\"y\":{\"field\":\"y\"}},\"id\":\"1758\",\"type\":\"Line\"},{\"attributes\":{},\"id\":\"1724\",\"type\":\"WheelZoomTool\"},{\"attributes\":{\"coordinates\":null,\"group\":null},\"id\":\"1743\",\"type\":\"Title\"},{\"attributes\":{\"label\":{\"value\":\"Approximation\"},\"renderers\":[{\"id\":\"1760\"}]},\"id\":\"1775\",\"type\":\"LegendItem\"},{\"attributes\":{\"line_alpha\":0.2,\"line_color\":\"#ff7f0e\",\"line_width\":3,\"x\":{\"field\":\"x\"},\"y\":{\"field\":\"y\"}},\"id\":\"1779\",\"type\":\"Line\"},{\"attributes\":{\"label\":{\"value\":\"Approximated Optimized Control\"},\"renderers\":[{\"id\":\"1780\"}]},\"id\":\"1797\",\"type\":\"LegendItem\"},{\"attributes\":{\"line_alpha\":0.1,\"line_color\":\"#ff7f0e\",\"line_width\":3,\"x\":{\"field\":\"x\"},\"y\":{\"field\":\"y\"}},\"id\":\"1778\",\"type\":\"Line\"},{\"attributes\":{},\"id\":\"1747\",\"type\":\"AllLabels\"},{\"attributes\":{\"overlay\":{\"id\":\"1729\"}},\"id\":\"1725\",\"type\":\"BoxZoomTool\"},{\"attributes\":{\"tools\":[{\"id\":\"1723\"},{\"id\":\"1724\"},{\"id\":\"1725\"},{\"id\":\"1726\"},{\"id\":\"1727\"},{\"id\":\"1728\"}]},\"id\":\"1730\",\"type\":\"Toolbar\"},{\"attributes\":{\"axis_label\":\"iters\",\"coordinates\":null,\"formatter\":{\"id\":\"1749\"},\"group\":null,\"major_label_policy\":{\"id\":\"1750\"},\"ticker\":{\"id\":\"1716\"}},\"id\":\"1715\",\"type\":\"LinearAxis\"},{\"attributes\":{},\"id\":\"1772\",\"type\":\"UnionRenderers\"},{\"attributes\":{\"source\":{\"id\":\"1737\"}},\"id\":\"1742\",\"type\":\"CDSView\"},{\"attributes\":{\"label\":{\"value\":\"Optimized Non-linear\"},\"renderers\":[{\"id\":\"1802\"}]},\"id\":\"1821\",\"type\":\"LegendItem\"},{\"attributes\":{},\"id\":\"1773\",\"type\":\"Selection\"},{\"attributes\":{},\"id\":\"1723\",\"type\":\"PanTool\"},{\"attributes\":{},\"id\":\"1727\",\"type\":\"ResetTool\"},{\"attributes\":{},\"id\":\"1795\",\"type\":\"Selection\"},{\"attributes\":{},\"id\":\"1752\",\"type\":\"Selection\"},{\"attributes\":{},\"id\":\"1818\",\"type\":\"UnionRenderers\"},{\"attributes\":{\"axis_label\":\"Loss\",\"coordinates\":null,\"formatter\":{\"id\":\"1746\"},\"group\":null,\"major_label_policy\":{\"id\":\"1747\"},\"ticker\":{\"id\":\"1720\"}},\"id\":\"1719\",\"type\":\"LinearAxis\"},{\"attributes\":{},\"id\":\"1720\",\"type\":\"BasicTicker\"},{\"attributes\":{},\"id\":\"1726\",\"type\":\"SaveTool\"},{\"attributes\":{\"data\":{\"x\":[0,1,2,3,4,5,6,7,8,9,10,11,12,13,14,15,16,17,18,19,20,21,22,23,24,25,26,27,28,29,30,31,32,33,34,35,36,37,38,39,40,41,42,43,44,45,46,47,48,49,50,51,52,53,54,55,56,57,58,59,60,61,62,63,64,65,66,67,68,69,70,71,72,73,74,75,76,77,78,79,80,81,82,83,84,85,86,87,88,89,90,91,92,93,94,95,96,97,98,99,100,101,102,103,104,105,106,107,108,109,110,111,112,113,114,115,116,117,118,119,120,121,122,123,124,125,126,127,128,129,130,131,132,133,134,135,136,137,138,139,140,141,142,143,144,145,146,147,148,149,150,151,152,153,154,155,156,157,158,159,160,161,162,163,164,165,166,167,168,169,170,171,172,173,174,175,176,177,178,179,180,181,182,183,184,185,186,187,188,189,190,191,192,193,194,195,196,197,198,199,200,201,202,203,204,205,206,207,208,209,210,211,212,213,214,215,216,217,218,219,220,221,222,223,224,225,226,227,228,229,230,231,232,233,234,235,236,237,238,239,240,241,242,243,244,245,246,247,248,249,250,251,252,253,254,255,256,257,258,259,260,261,262,263,264,265,266,267,268,269,270,271,272,273,274,275,276,277,278,279,280,281,282,283,284,285,286,287,288,289,290,291,292,293,294,295,296,297,298,299,300,301,302,303,304,305,306,307,308,309,310,311,312,313,314,315,316,317,318,319,320,321,322,323,324,325,326,327,328,329,330,331,332,333,334,335,336,337,338,339,340,341,342,343,344,345,346,347,348,349,350,351,352,353,354,355,356,357,358,359,360,361,362,363,364,365,366,367,368,369,370,371,372,373,374,375,376,377,378,379,380,381,382,383,384,385,386,387,388,389,390,391,392,393,394,395,396,397,398,399,400,401,402,403,404,405,406,407,408,409,410,411,412,413,414,415,416,417,418,419,420,421,422,423,424,425,426,427,428,429,430,431,432,433,434,435,436,437,438,439,440,441,442,443,444,445,446,447,448,449,450,451,452,453,454,455,456,457,458,459,460,461,462,463,464,465,466,467,468,469,470,471,472,473,474,475,476,477,478,479,480,481,482,483,484,485,486,487,488,489,490,491,492,493,494,495,496,497,498,499,500,501,502,503,504,505,506,507,508,509,510,511,512,513,514,515,516,517,518,519,520,521,522,523,524,525,526,527,528,529,530,531,532,533,534,535,536,537,538,539,540,541,542,543,544,545,546,547,548,549,550,551,552,553,554,555,556,557,558,559,560,561,562,563,564,565,566,567,568,569,570,571,572,573,574,575,576,577,578,579,580,581,582,583,584,585,586,587,588,589,590,591,592,593,594,595,596,597,598,599],\"y\":{\"__ndarray__\":\"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\",\"dtype\":\"float32\",\"order\":\"little\",\"shape\":[600]}},\"selected\":{\"id\":\"1752\"},\"selection_policy\":{\"id\":\"1751\"}},\"id\":\"1737\",\"type\":\"ColumnDataSource\"},{\"attributes\":{},\"id\":\"1751\",\"type\":\"UnionRenderers\"},{\"attributes\":{},\"id\":\"1819\",\"type\":\"Selection\"},{\"attributes\":{},\"id\":\"1709\",\"type\":\"DataRange1d\"},{\"attributes\":{},\"id\":\"1728\",\"type\":\"HelpTool\"},{\"attributes\":{\"line_alpha\":0.3,\"line_color\":\"#1f77b4\",\"line_width\":3,\"x\":{\"field\":\"x\"},\"y\":{\"field\":\"y\"}},\"id\":\"1738\",\"type\":\"Line\"},{\"attributes\":{\"bottom_units\":\"screen\",\"coordinates\":null,\"fill_alpha\":0.5,\"fill_color\":\"lightgrey\",\"group\":null,\"left_units\":\"screen\",\"level\":\"overlay\",\"line_alpha\":1.0,\"line_color\":\"black\",\"line_dash\":[4,4],\"line_width\":2,\"right_units\":\"screen\",\"syncable\":false,\"top_units\":\"screen\"},\"id\":\"1729\",\"type\":\"BoxAnnotation\"},{\"attributes\":{},\"id\":\"1707\",\"type\":\"DataRange1d\"},{\"attributes\":{\"source\":{\"id\":\"1798\"}},\"id\":\"1803\",\"type\":\"CDSView\"},{\"attributes\":{},\"id\":\"1746\",\"type\":\"BasicTickFormatter\"},{\"attributes\":{\"line_alpha\":0.3,\"line_color\":\"#ff7f0e\",\"line_width\":3,\"x\":{\"field\":\"x\"},\"y\":{\"field\":\"y\"}},\"id\":\"1799\",\"type\":\"Line\"},{\"attributes\":{\"label\":{\"value\":\"Real Non-linear\"},\"renderers\":[{\"id\":\"1741\"}]},\"id\":\"1755\",\"type\":\"LegendItem\"},{\"attributes\":{\"coordinates\":null,\"data_source\":{\"id\":\"1737\"},\"glyph\":{\"id\":\"1738\"},\"group\":null,\"hover_glyph\":null,\"muted_glyph\":{\"id\":\"1740\"},\"nonselection_glyph\":{\"id\":\"1739\"},\"view\":{\"id\":\"1742\"}},\"id\":\"1741\",\"type\":\"GlyphRenderer\"},{\"attributes\":{\"source\":{\"id\":\"1776\"}},\"id\":\"1781\",\"type\":\"CDSView\"},{\"attributes\":{\"source\":{\"id\":\"1756\"}},\"id\":\"1761\",\"type\":\"CDSView\"},{\"attributes\":{},\"id\":\"1716\",\"type\":\"BasicTicker\"},{\"attributes\":{\"coordinates\":null,\"data_source\":{\"id\":\"1798\"},\"glyph\":{\"id\":\"1799\"},\"group\":null,\"hover_glyph\":null,\"muted_glyph\":{\"id\":\"1801\"},\"nonselection_glyph\":{\"id\":\"1800\"},\"view\":{\"id\":\"1803\"}},\"id\":\"1802\",\"type\":\"GlyphRenderer\"},{\"attributes\":{\"line_color\":\"#1f77b4\",\"line_width\":3,\"x\":{\"field\":\"x\"},\"y\":{\"field\":\"y\"}},\"id\":\"1757\",\"type\":\"Line\"},{\"attributes\":{\"axis\":{\"id\":\"1715\"},\"coordinates\":null,\"group\":null,\"ticker\":null},\"id\":\"1718\",\"type\":\"Grid\"},{\"attributes\":{\"data\":{\"x\":[0,1,2,3,4,5,6,7,8,9,10,11,12,13,14,15,16,17,18,19,20,21,22,23,24,25,26,27,28,29,30,31,32,33,34,35,36,37,38,39,40,41,42,43,44,45,46,47,48,49,50,51,52,53,54,55,56,57,58,59,60,61,62,63,64,65,66,67,68,69,70,71,72,73,74,75,76,77,78,79,80,81,82,83,84,85,86,87,88,89,90,91,92,93,94,95,96,97,98,99,100,101,102,103,104,105,106,107,108,109,110,111,112,113,114,115,116,117,118,119,120,121,122,123,124,125,126,127,128,129,130,131,132,133,134,135,136,137,138,139,140,141,142,143,144,145,146,147,148,149,150,151,152,153,154,155,156,157,158,159,160,161,162,163,164,165,166,167,168,169,170,171,172,173,174,175,176,177,178,179,180,181,182,183,184,185,186,187,188,189,190,191,192,193,194,195,196,197,198,199,200,201,202,203,204,205,206,207,208,209,210,211,212,213,214,215,216,217,218,219,220,221,222,223,224,225,226,227,228,229,230,231,232,233,234,235,236,237,238,239,240,241,242,243,244,245,246,247,248,249,250,251,252,253,254,255,256,257,258,259,260,261,262,263,264,265,266,267,268,269,270,271,272,273,274,275,276,277,278,279,280,281,282,283,284,285,286,287,288,289,290,291,292,293,294,295,296,297,298,299,300,301,302,303,304,305,306,307,308,309,310,311,312,313,314,315,316,317,318,319,320,321,322,323,324,325,326,327,328,329,330,331,332,333,334,335,336,337,338,339,340,341,342,343,344,345,346,347,348,349,350,351,352,353,354,355,356,357,358,359,360,361,362,363,364,365,366,367,368,369,370,371,372,373,374,375,376,377,378,379,380,381,382,383,384,385,386,387,388,389,390,391,392,393,394,395,396,397,398,399,400,401,402,403,404,405,406,407,408,409,410,411,412,413,414,415,416,417,418,419,420,421,422,423,424,425,426,427,428,429,430,431,432,433,434,435,436,437,438,439,440,441,442,443,444,445,446,447,448,449,450,451,452,453,454,455,456,457,458,459,460,461,462,463,464,465,466,467,468,469,470,471,472,473,474,475,476,477,478,479,480,481,482,483,484,485,486,487,488,489,490,491,492,493,494,495,496,497,498,499,500,501,502,503,504,505,506,507,508,509,510,511,512,513,514,515,516,517,518,519,520,521,522,523,524,525,526,527,528,529,530,531,532,533,534,535,536,537,538,539,540,541,542,543,544,545,546,547,548,549,550,551,552,553,554,555,556,557,558,559,560,561,562,563,564,565,566,567,568,569,570,571,572,573,574,575,576,577,578,579,580,581,582,583,584,585,586,587,588,589,590,591,592,593,594,595,596,597,598,599],\"y\":{\"__ndarray__\":\"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\",\"dtype\":\"float32\",\"order\":\"little\",\"shape\":[600]}},\"selected\":{\"id\":\"1819\"},\"selection_policy\":{\"id\":\"1818\"}},\"id\":\"1798\",\"type\":\"ColumnDataSource\"},{\"attributes\":{},\"id\":\"1749\",\"type\":\"BasicTickFormatter\"},{\"attributes\":{},\"id\":\"1750\",\"type\":\"AllLabels\"},{\"attributes\":{\"axis\":{\"id\":\"1719\"},\"coordinates\":null,\"dimension\":1,\"group\":null,\"ticker\":null},\"id\":\"1722\",\"type\":\"Grid\"},{\"attributes\":{\"coordinates\":null,\"data_source\":{\"id\":\"1756\"},\"glyph\":{\"id\":\"1757\"},\"group\":null,\"hover_glyph\":null,\"muted_glyph\":{\"id\":\"1759\"},\"nonselection_glyph\":{\"id\":\"1758\"},\"view\":{\"id\":\"1761\"}},\"id\":\"1760\",\"type\":\"GlyphRenderer\"},{\"attributes\":{\"line_color\":\"#ff7f0e\",\"line_width\":3,\"x\":{\"field\":\"x\"},\"y\":{\"field\":\"y\"}},\"id\":\"1777\",\"type\":\"Line\"},{\"attributes\":{},\"id\":\"1794\",\"type\":\"UnionRenderers\"},{\"attributes\":{\"data\":{\"x\":[0,1,2,3,4,5,6,7,8,9,10,11,12,13,14,15,16,17,18,19,20,21,22,23,24,25,26,27,28,29,30,31,32,33,34,35,36,37,38,39,40,41,42,43,44,45,46,47,48,49,50,51,52,53,54,55,56,57,58,59,60,61,62,63,64,65,66,67,68,69,70,71,72,73,74,75,76,77,78,79,80,81,82,83,84,85,86,87,88,89,90,91,92,93,94,95,96,97,98,99,100,101,102,103,104,105,106,107,108,109,110,111,112,113,114,115,116,117,118,119,120,121,122,123,124,125,126,127,128,129,130,131,132,133,134,135,136,137,138,139,140,141,142,143,144,145,146,147,148,149,150,151,152,153,154,155,156,157,158,159,160,161,162,163,164,165,166,167,168,169,170,171,172,173,174,175,176,177,178,179,180,181,182,183,184,185,186,187,188,189,190,191,192,193,194,195,196,197,198,199,200,201,202,203,204,205,206,207,208,209,210,211,212,213,214,215,216,217,218,219,220,221,222,223,224,225,226,227,228,229,230,231,232,233,234,235,236,237,238,239,240,241,242,243,244,245,246,247,248,249,250,251,252,253,254,255,256,257,258,259,260,261,262,263,264,265,266,267,268,269,270,271,272,273,274,275,276,277,278,279,280,281,282,283,284,285,286,287,288,289,290,291,292,293,294,295,296,297,298,299,300,301,302,303,304,305,306,307,308,309,310,311,312,313,314,315,316,317,318,319,320,321,322,323,324,325,326,327,328,329,330,331,332,333,334,335,336,337,338,339,340,341,342,343,344,345,346,347,348,349,350,351,352,353,354,355,356,357,358,359,360,361,362,363,364,365,366,367,368,369,370,371,372,373,374,375,376,377,378,379,380,381,382,383,384,385,386,387,388,389,390,391,392,393,394,395,396,397,398,399,400,401,402,403,404,405,406,407,408,409,410,411,412,413,414,415,416,417,418,419,420,421,422,423,424,425,426,427,428,429,430,431,432,433,434,435,436,437,438,439,440,441,442,443,444,445,446,447,448,449,450,451,452,453,454,455,456,457,458,459,460,461,462,463,464,465,466,467,468,469,470,471,472,473,474,475,476,477,478,479,480,481,482,483,484,485,486,487,488,489,490,491,492,493,494,495,496,497,498,499,500,501,502,503,504,505,506,507,508,509,510,511,512,513,514,515,516,517,518,519,520,521,522,523,524,525,526,527,528,529,530,531,532,533,534,535,536,537,538,539,540,541,542,543,544,545,546,547,548,549,550,551,552,553,554,555,556,557,558,559,560,561,562,563,564,565,566,567,568,569,570,571,572,573,574,575,576,577,578,579,580,581,582,583,584,585,586,587,588,589,590,591,592,593,594,595,596,597,598,599],\"y\":{\"__ndarray__\":\"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\",\"dtype\":\"float32\",\"order\":\"little\",\"shape\":[600]}},\"selected\":{\"id\":\"1773\"},\"selection_policy\":{\"id\":\"1772\"}},\"id\":\"1756\",\"type\":\"ColumnDataSource\"},{\"attributes\":{},\"id\":\"1713\",\"type\":\"LinearScale\"},{\"attributes\":{\"line_alpha\":0.2,\"line_color\":\"#ff7f0e\",\"line_width\":3,\"x\":{\"field\":\"x\"},\"y\":{\"field\":\"y\"}},\"id\":\"1801\",\"type\":\"Line\"},{\"attributes\":{\"coordinates\":null,\"data_source\":{\"id\":\"1776\"},\"glyph\":{\"id\":\"1777\"},\"group\":null,\"hover_glyph\":null,\"muted_glyph\":{\"id\":\"1779\"},\"nonselection_glyph\":{\"id\":\"1778\"},\"view\":{\"id\":\"1781\"}},\"id\":\"1780\",\"type\":\"GlyphRenderer\"}],\"root_ids\":[\"1706\"]},\"title\":\"Bokeh Application\",\"version\":\"2.4.3\"}};\n",
       "  const render_items = [{\"docid\":\"feba081d-cc7a-4554-b7a9-f0f188e581d1\",\"root_ids\":[\"1706\"],\"roots\":{\"1706\":\"70cdd261-ca69-4c82-8a80-772596913c27\"}}];\n",
       "  root.Bokeh.embed.embed_items_notebook(docs_json, render_items);\n",
       "  }\n",
       "  if (root.Bokeh !== undefined) {\n",
       "    embed_document(root);\n",
       "  } else {\n",
       "    let attempts = 0;\n",
       "    const timer = setInterval(function(root) {\n",
       "      if (root.Bokeh !== undefined) {\n",
       "        clearInterval(timer);\n",
       "        embed_document(root);\n",
       "      } else {\n",
       "        attempts++;\n",
       "        if (attempts > 100) {\n",
       "          clearInterval(timer);\n",
       "          console.log(\"Bokeh: ERROR: Unable to run BokehJS code because BokehJS library is missing\");\n",
       "        }\n",
       "      }\n",
       "    }, 10, root)\n",
       "  }\n",
       "})(window);"
      ],
      "application/vnd.bokehjs_exec.v0+json": ""
     },
     "metadata": {
      "application/vnd.bokehjs_exec.v0+json": {
       "id": "1706"
      }
     },
     "output_type": "display_data"
    }
   ],
   "source": [
    "losses = (loss, Loss_t, Loss_t_opt, loss_OPT)\n",
    "colors = (Category10[10][0], Category10[10][0], Category10[10][1], Category10[10][1])\n",
    "legends = (\"Real Non-linear\", \"Approximation\", \"Approximated Optimized Control\", \"Optimized Non-linear\")\n",
    "alphas = (0.3, 1, 1, 0.3)\n",
    "\n",
    "s = plot_lines(iters, losses, legends, alphas, colors)\n",
    "show(s)"
   ]
  },
  {
   "cell_type": "code",
   "execution_count": 30,
   "metadata": {},
   "outputs": [],
   "source": [
    "baseline_reward_rate = -control_params[\"reward_convertion\"]*Loss_t\n",
    "control_reward_rate = -control_params[\"reward_convertion\"]*Loss_t_opt - control.control_cost(get_numpy=True)"
   ]
  },
  {
   "cell_type": "code",
   "execution_count": 31,
   "metadata": {},
   "outputs": [
    {
     "data": {
      "text/html": [
       "\n",
       "  <div class=\"bk-root\" id=\"49c97b44-1f9d-4668-a39b-158dceb58160\" data-root-id=\"1977\"></div>\n"
      ]
     },
     "metadata": {},
     "output_type": "display_data"
    },
    {
     "data": {
      "application/javascript": [
       "(function(root) {\n",
       "  function embed_document(root) {\n",
       "  const docs_json = {\"f9a04f7f-931a-44b6-855b-3846089aa47d\":{\"defs\":[],\"roots\":{\"references\":[{\"attributes\":{\"below\":[{\"id\":\"1986\"}],\"center\":[{\"id\":\"1989\"},{\"id\":\"1993\"},{\"id\":\"2025\"}],\"height\":500,\"left\":[{\"id\":\"1990\"}],\"renderers\":[{\"id\":\"2012\"},{\"id\":\"2031\"}],\"title\":{\"id\":\"2014\"},\"toolbar\":{\"id\":\"2001\"},\"width\":800,\"x_range\":{\"id\":\"1978\"},\"x_scale\":{\"id\":\"1982\"},\"y_range\":{\"id\":\"1980\"},\"y_scale\":{\"id\":\"1984\"}},\"id\":\"1977\",\"subtype\":\"Figure\",\"type\":\"Plot\"},{\"attributes\":{},\"id\":\"2044\",\"type\":\"Selection\"},{\"attributes\":{\"axis\":{\"id\":\"1990\"},\"coordinates\":null,\"dimension\":1,\"group\":null,\"ticker\":null},\"id\":\"1993\",\"type\":\"Grid\"},{\"attributes\":{},\"id\":\"2017\",\"type\":\"BasicTickFormatter\"},{\"attributes\":{},\"id\":\"2018\",\"type\":\"AllLabels\"},{\"attributes\":{},\"id\":\"1978\",\"type\":\"DataRange1d\"},{\"attributes\":{\"line_color\":\"#1f77b4\",\"line_width\":3,\"x\":{\"field\":\"x\"},\"y\":{\"field\":\"y\"}},\"id\":\"2009\",\"type\":\"Line\"},{\"attributes\":{},\"id\":\"2021\",\"type\":\"AllLabels\"},{\"attributes\":{},\"id\":\"1995\",\"type\":\"WheelZoomTool\"},{\"attributes\":{\"axis\":{\"id\":\"1986\"},\"coordinates\":null,\"group\":null,\"ticker\":null},\"id\":\"1989\",\"type\":\"Grid\"},{\"attributes\":{\"tools\":[{\"id\":\"1994\"},{\"id\":\"1995\"},{\"id\":\"1996\"},{\"id\":\"1997\"},{\"id\":\"1998\"},{\"id\":\"1999\"}]},\"id\":\"2001\",\"type\":\"Toolbar\"},{\"attributes\":{},\"id\":\"1987\",\"type\":\"BasicTicker\"},{\"attributes\":{},\"id\":\"2022\",\"type\":\"UnionRenderers\"},{\"attributes\":{},\"id\":\"1984\",\"type\":\"LinearScale\"},{\"attributes\":{},\"id\":\"1980\",\"type\":\"DataRange1d\"},{\"attributes\":{},\"id\":\"2023\",\"type\":\"Selection\"},{\"attributes\":{},\"id\":\"1982\",\"type\":\"LinearScale\"},{\"attributes\":{\"label\":{\"value\":\"Baseline iRR\"},\"renderers\":[{\"id\":\"2012\"}]},\"id\":\"2026\",\"type\":\"LegendItem\"},{\"attributes\":{},\"id\":\"2043\",\"type\":\"UnionRenderers\"},{\"attributes\":{\"source\":{\"id\":\"2027\"}},\"id\":\"2032\",\"type\":\"CDSView\"},{\"attributes\":{\"line_color\":\"#ff7f0e\",\"line_width\":3,\"x\":{\"field\":\"x\"},\"y\":{\"field\":\"y\"}},\"id\":\"2028\",\"type\":\"Line\"},{\"attributes\":{},\"id\":\"1994\",\"type\":\"PanTool\"},{\"attributes\":{\"overlay\":{\"id\":\"2000\"}},\"id\":\"1996\",\"type\":\"BoxZoomTool\"},{\"attributes\":{\"coordinates\":null,\"data_source\":{\"id\":\"2027\"},\"glyph\":{\"id\":\"2028\"},\"group\":null,\"hover_glyph\":null,\"muted_glyph\":{\"id\":\"2030\"},\"nonselection_glyph\":{\"id\":\"2029\"},\"view\":{\"id\":\"2032\"}},\"id\":\"2031\",\"type\":\"GlyphRenderer\"},{\"attributes\":{},\"id\":\"1991\",\"type\":\"BasicTicker\"},{\"attributes\":{},\"id\":\"2020\",\"type\":\"BasicTickFormatter\"},{\"attributes\":{\"data\":{\"x\":[0,1,2,3,4,5,6,7,8,9,10,11,12,13,14,15,16,17,18,19,20,21,22,23,24,25,26,27,28,29,30,31,32,33,34,35,36,37,38,39,40,41,42,43,44,45,46,47,48,49,50,51,52,53,54,55,56,57,58,59,60,61,62,63,64,65,66,67,68,69,70,71,72,73,74,75,76,77,78,79,80,81,82,83,84,85,86,87,88,89,90,91,92,93,94,95,96,97,98,99,100,101,102,103,104,105,106,107,108,109,110,111,112,113,114,115,116,117,118,119,120,121,122,123,124,125,126,127,128,129,130,131,132,133,134,135,136,137,138,139,140,141,142,143,144,145,146,147,148,149,150,151,152,153,154,155,156,157,158,159,160,161,162,163,164,165,166,167,168,169,170,171,172,173,174,175,176,177,178,179,180,181,182,183,184,185,186,187,188,189,190,191,192,193,194,195,196,197,198,199,200,201,202,203,204,205,206,207,208,209,210,211,212,213,214,215,216,217,218,219,220,221,222,223,224,225,226,227,228,229,230,231,232,233,234,235,236,237,238,239,240,241,242,243,244,245,246,247,248,249,250,251,252,253,254,255,256,257,258,259,260,261,262,263,264,265,266,267,268,269,270,271,272,273,274,275,276,277,278,279,280,281,282,283,284,285,286,287,288,289,290,291,292,293,294,295,296,297,298,299,300,301,302,303,304,305,306,307,308,309,310,311,312,313,314,315,316,317,318,319,320,321,322,323,324,325,326,327,328,329,330,331,332,333,334,335,336,337,338,339,340,341,342,343,344,345,346,347,348,349,350,351,352,353,354,355,356,357,358,359,360,361,362,363,364,365,366,367,368,369,370,371,372,373,374,375,376,377,378,379,380,381,382,383,384,385,386,387,388,389,390,391,392,393,394,395,396,397,398,399,400,401,402,403,404,405,406,407,408,409,410,411,412,413,414,415,416,417,418,419,420,421,422,423,424,425,426,427,428,429,430,431,432,433,434,435,436,437,438,439,440,441,442,443,444,445,446,447,448,449,450,451,452,453,454,455,456,457,458,459,460,461,462,463,464,465,466,467,468,469,470,471,472,473,474,475,476,477,478,479,480,481,482,483,484,485,486,487,488,489,490,491,492,493,494,495,496,497,498,499,500,501,502,503,504,505,506,507,508,509,510,511,512,513,514,515,516,517,518,519,520,521,522,523,524,525,526,527,528,529,530,531,532,533,534,535,536,537,538,539,540,541,542,543,544,545,546,547,548,549,550,551,552,553,554,555,556,557,558,559,560,561,562,563,564,565,566,567,568,569,570,571,572,573,574,575,576,577,578,579,580,581,582,583,584,585,586,587,588,589,590,591,592,593,594,595,596,597,598,599],\"y\":{\"__ndarray__\":\"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\",\"dtype\":\"float32\",\"order\":\"little\",\"shape\":[600]}},\"selected\":{\"id\":\"2044\"},\"selection_policy\":{\"id\":\"2043\"}},\"id\":\"2027\",\"type\":\"ColumnDataSource\"},{\"attributes\":{\"line_alpha\":0.1,\"line_color\":\"#1f77b4\",\"line_width\":3,\"x\":{\"field\":\"x\"},\"y\":{\"field\":\"y\"}},\"id\":\"2010\",\"type\":\"Line\"},{\"attributes\":{},\"id\":\"1997\",\"type\":\"SaveTool\"},{\"attributes\":{\"coordinates\":null,\"group\":null,\"items\":[{\"id\":\"2026\"},{\"id\":\"2046\"}]},\"id\":\"2025\",\"type\":\"Legend\"},{\"attributes\":{\"label\":{\"value\":\"Control iRR\"},\"renderers\":[{\"id\":\"2031\"}]},\"id\":\"2046\",\"type\":\"LegendItem\"},{\"attributes\":{\"line_alpha\":0.2,\"line_color\":\"#ff7f0e\",\"line_width\":3,\"x\":{\"field\":\"x\"},\"y\":{\"field\":\"y\"}},\"id\":\"2030\",\"type\":\"Line\"},{\"attributes\":{\"line_alpha\":0.1,\"line_color\":\"#ff7f0e\",\"line_width\":3,\"x\":{\"field\":\"x\"},\"y\":{\"field\":\"y\"}},\"id\":\"2029\",\"type\":\"Line\"},{\"attributes\":{\"data\":{\"x\":[0,1,2,3,4,5,6,7,8,9,10,11,12,13,14,15,16,17,18,19,20,21,22,23,24,25,26,27,28,29,30,31,32,33,34,35,36,37,38,39,40,41,42,43,44,45,46,47,48,49,50,51,52,53,54,55,56,57,58,59,60,61,62,63,64,65,66,67,68,69,70,71,72,73,74,75,76,77,78,79,80,81,82,83,84,85,86,87,88,89,90,91,92,93,94,95,96,97,98,99,100,101,102,103,104,105,106,107,108,109,110,111,112,113,114,115,116,117,118,119,120,121,122,123,124,125,126,127,128,129,130,131,132,133,134,135,136,137,138,139,140,141,142,143,144,145,146,147,148,149,150,151,152,153,154,155,156,157,158,159,160,161,162,163,164,165,166,167,168,169,170,171,172,173,174,175,176,177,178,179,180,181,182,183,184,185,186,187,188,189,190,191,192,193,194,195,196,197,198,199,200,201,202,203,204,205,206,207,208,209,210,211,212,213,214,215,216,217,218,219,220,221,222,223,224,225,226,227,228,229,230,231,232,233,234,235,236,237,238,239,240,241,242,243,244,245,246,247,248,249,250,251,252,253,254,255,256,257,258,259,260,261,262,263,264,265,266,267,268,269,270,271,272,273,274,275,276,277,278,279,280,281,282,283,284,285,286,287,288,289,290,291,292,293,294,295,296,297,298,299,300,301,302,303,304,305,306,307,308,309,310,311,312,313,314,315,316,317,318,319,320,321,322,323,324,325,326,327,328,329,330,331,332,333,334,335,336,337,338,339,340,341,342,343,344,345,346,347,348,349,350,351,352,353,354,355,356,357,358,359,360,361,362,363,364,365,366,367,368,369,370,371,372,373,374,375,376,377,378,379,380,381,382,383,384,385,386,387,388,389,390,391,392,393,394,395,396,397,398,399,400,401,402,403,404,405,406,407,408,409,410,411,412,413,414,415,416,417,418,419,420,421,422,423,424,425,426,427,428,429,430,431,432,433,434,435,436,437,438,439,440,441,442,443,444,445,446,447,448,449,450,451,452,453,454,455,456,457,458,459,460,461,462,463,464,465,466,467,468,469,470,471,472,473,474,475,476,477,478,479,480,481,482,483,484,485,486,487,488,489,490,491,492,493,494,495,496,497,498,499,500,501,502,503,504,505,506,507,508,509,510,511,512,513,514,515,516,517,518,519,520,521,522,523,524,525,526,527,528,529,530,531,532,533,534,535,536,537,538,539,540,541,542,543,544,545,546,547,548,549,550,551,552,553,554,555,556,557,558,559,560,561,562,563,564,565,566,567,568,569,570,571,572,573,574,575,576,577,578,579,580,581,582,583,584,585,586,587,588,589,590,591,592,593,594,595,596,597,598,599],\"y\":{\"__ndarray__\":\"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\",\"dtype\":\"float32\",\"order\":\"little\",\"shape\":[600]}},\"selected\":{\"id\":\"2023\"},\"selection_policy\":{\"id\":\"2022\"}},\"id\":\"2008\",\"type\":\"ColumnDataSource\"},{\"attributes\":{\"coordinates\":null,\"data_source\":{\"id\":\"2008\"},\"glyph\":{\"id\":\"2009\"},\"group\":null,\"hover_glyph\":null,\"muted_glyph\":{\"id\":\"2011\"},\"nonselection_glyph\":{\"id\":\"2010\"},\"view\":{\"id\":\"2013\"}},\"id\":\"2012\",\"type\":\"GlyphRenderer\"},{\"attributes\":{\"bottom_units\":\"screen\",\"coordinates\":null,\"fill_alpha\":0.5,\"fill_color\":\"lightgrey\",\"group\":null,\"left_units\":\"screen\",\"level\":\"overlay\",\"line_alpha\":1.0,\"line_color\":\"black\",\"line_dash\":[4,4],\"line_width\":2,\"right_units\":\"screen\",\"syncable\":false,\"top_units\":\"screen\"},\"id\":\"2000\",\"type\":\"BoxAnnotation\"},{\"attributes\":{},\"id\":\"1998\",\"type\":\"ResetTool\"},{\"attributes\":{\"line_alpha\":0.2,\"line_color\":\"#1f77b4\",\"line_width\":3,\"x\":{\"field\":\"x\"},\"y\":{\"field\":\"y\"}},\"id\":\"2011\",\"type\":\"Line\"},{\"attributes\":{\"source\":{\"id\":\"2008\"}},\"id\":\"2013\",\"type\":\"CDSView\"},{\"attributes\":{},\"id\":\"1999\",\"type\":\"HelpTool\"},{\"attributes\":{\"coordinates\":null,\"group\":null},\"id\":\"2014\",\"type\":\"Title\"},{\"attributes\":{\"axis_label\":\"iters\",\"coordinates\":null,\"formatter\":{\"id\":\"2020\"},\"group\":null,\"major_label_policy\":{\"id\":\"2021\"},\"ticker\":{\"id\":\"1987\"}},\"id\":\"1986\",\"type\":\"LinearAxis\"},{\"attributes\":{\"axis_label\":\"Loss\",\"coordinates\":null,\"formatter\":{\"id\":\"2017\"},\"group\":null,\"major_label_policy\":{\"id\":\"2018\"},\"ticker\":{\"id\":\"1991\"}},\"id\":\"1990\",\"type\":\"LinearAxis\"}],\"root_ids\":[\"1977\"]},\"title\":\"Bokeh Application\",\"version\":\"2.4.3\"}};\n",
       "  const render_items = [{\"docid\":\"f9a04f7f-931a-44b6-855b-3846089aa47d\",\"root_ids\":[\"1977\"],\"roots\":{\"1977\":\"49c97b44-1f9d-4668-a39b-158dceb58160\"}}];\n",
       "  root.Bokeh.embed.embed_items_notebook(docs_json, render_items);\n",
       "  }\n",
       "  if (root.Bokeh !== undefined) {\n",
       "    embed_document(root);\n",
       "  } else {\n",
       "    let attempts = 0;\n",
       "    const timer = setInterval(function(root) {\n",
       "      if (root.Bokeh !== undefined) {\n",
       "        clearInterval(timer);\n",
       "        embed_document(root);\n",
       "      } else {\n",
       "        attempts++;\n",
       "        if (attempts > 100) {\n",
       "          clearInterval(timer);\n",
       "          console.log(\"Bokeh: ERROR: Unable to run BokehJS code because BokehJS library is missing\");\n",
       "        }\n",
       "      }\n",
       "    }, 10, root)\n",
       "  }\n",
       "})(window);"
      ],
      "application/vnd.bokehjs_exec.v0+json": ""
     },
     "metadata": {
      "application/vnd.bokehjs_exec.v0+json": {
       "id": "1977"
      }
     },
     "output_type": "display_data"
    }
   ],
   "source": [
    "results_dict[\"baseline_iRR\"] = baseline_reward_rate\n",
    "results_dict[\"control_iRR\"] = control_reward_rate\n",
    "losses = (baseline_reward_rate, control_reward_rate)\n",
    "colors = (Category10[10][0], Category10[10][1])\n",
    "legends = (\"Baseline iRR\", \"Control iRR\")\n",
    "alphas = (1, 1)\n",
    "\n",
    "s = plot_lines(iters, losses, legends, alphas, colors)\n",
    "show(s)"
   ]
  },
  {
   "cell_type": "code",
   "execution_count": 32,
   "metadata": {},
   "outputs": [
    {
     "data": {
      "text/html": [
       "\n",
       "  <div class=\"bk-root\" id=\"5e635e18-bf5f-4b3f-9fca-1f57bea6b142\" data-root-id=\"2195\"></div>\n"
      ]
     },
     "metadata": {},
     "output_type": "display_data"
    },
    {
     "data": {
      "application/javascript": [
       "(function(root) {\n",
       "  function embed_document(root) {\n",
       "  const docs_json = {\"5bb50ea2-520d-424d-939c-f55fc4c50370\":{\"defs\":[],\"roots\":{\"references\":[{\"attributes\":{\"below\":[{\"id\":\"2204\"}],\"center\":[{\"id\":\"2207\"},{\"id\":\"2211\"},{\"id\":\"2243\"}],\"height\":500,\"left\":[{\"id\":\"2208\"}],\"renderers\":[{\"id\":\"2230\"}],\"title\":{\"id\":\"2232\"},\"toolbar\":{\"id\":\"2219\"},\"width\":800,\"x_range\":{\"id\":\"2196\"},\"x_scale\":{\"id\":\"2200\"},\"y_range\":{\"id\":\"2198\"},\"y_scale\":{\"id\":\"2202\"}},\"id\":\"2195\",\"subtype\":\"Figure\",\"type\":\"Plot\"},{\"attributes\":{\"axis\":{\"id\":\"2208\"},\"coordinates\":null,\"dimension\":1,\"group\":null,\"ticker\":null},\"id\":\"2211\",\"type\":\"Grid\"},{\"attributes\":{\"axis_label\":\"Loss\",\"coordinates\":null,\"formatter\":{\"id\":\"2235\"},\"group\":null,\"major_label_policy\":{\"id\":\"2236\"},\"ticker\":{\"id\":\"2209\"}},\"id\":\"2208\",\"type\":\"LinearAxis\"},{\"attributes\":{\"line_color\":\"#1f77b4\",\"line_width\":3,\"x\":{\"field\":\"x\"},\"y\":{\"field\":\"y\"}},\"id\":\"2227\",\"type\":\"Line\"},{\"attributes\":{\"data\":{\"x\":[0,1,2,3,4,5,6,7,8,9,10,11,12,13,14,15,16,17,18,19,20,21,22,23,24,25,26,27,28,29,30,31,32,33,34,35,36,37,38,39,40,41,42,43,44,45,46,47,48,49,50,51,52,53,54,55,56,57,58,59,60,61,62,63,64,65,66,67,68,69,70,71,72,73,74,75,76,77,78,79,80,81,82,83,84,85,86,87,88,89,90,91,92,93,94,95,96,97,98,99,100,101,102,103,104,105,106,107,108,109,110,111,112,113,114,115,116,117,118,119,120,121,122,123,124,125,126,127,128,129,130,131,132,133,134,135,136,137,138,139,140,141,142,143,144,145,146,147,148,149,150,151,152,153,154,155,156,157,158,159,160,161,162,163,164,165,166,167,168,169,170,171,172,173,174,175,176,177,178,179,180,181,182,183,184,185,186,187,188,189,190,191,192,193,194,195,196,197,198,199,200,201,202,203,204,205,206,207,208,209,210,211,212,213,214,215,216,217,218,219,220,221,222,223,224,225,226,227,228,229,230,231,232,233,234,235,236,237,238,239,240,241,242,243,244,245,246,247,248,249,250,251,252,253,254,255,256,257,258,259,260,261,262,263,264,265,266,267,268,269,270,271,272,273,274,275,276,277,278,279,280,281,282,283,284,285,286,287,288,289,290,291,292,293,294,295,296,297,298,299,300,301,302,303,304,305,306,307,308,309,310,311,312,313,314,315,316,317,318,319,320,321,322,323,324,325,326,327,328,329,330,331,332,333,334,335,336,337,338,339,340,341,342,343,344,345,346,347,348,349,350,351,352,353,354,355,356,357,358,359,360,361,362,363,364,365,366,367,368,369,370,371,372,373,374,375,376,377,378,379,380,381,382,383,384,385,386,387,388,389,390,391,392,393,394,395,396,397,398,399,400,401,402,403,404,405,406,407,408,409,410,411,412,413,414,415,416,417,418,419,420,421,422,423,424,425,426,427,428,429,430,431,432,433,434,435,436,437,438,439,440,441,442,443,444,445,446,447,448,449,450,451,452,453,454,455,456,457,458,459,460,461,462,463,464,465,466,467,468,469,470,471,472,473,474,475,476,477,478,479,480,481,482,483,484,485,486,487,488,489,490,491,492,493,494,495,496,497,498,499,500,501,502,503,504,505,506,507,508,509,510,511,512,513,514,515,516,517,518,519,520,521,522,523,524,525,526,527,528,529,530,531,532,533,534,535,536,537,538,539,540,541,542,543,544,545,546,547,548,549,550,551,552,553,554,555,556,557,558,559,560,561,562,563,564,565,566,567,568,569,570,571,572,573,574,575,576,577,578,579,580,581,582,583,584,585,586,587,588,589,590,591,592,593,594,595,596,597,598,599],\"y\":{\"__ndarray__\":\"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\",\"dtype\":\"float32\",\"order\":\"little\",\"shape\":[600]}},\"selected\":{\"id\":\"2241\"},\"selection_policy\":{\"id\":\"2240\"}},\"id\":\"2226\",\"type\":\"ColumnDataSource\"},{\"attributes\":{\"axis\":{\"id\":\"2204\"},\"coordinates\":null,\"group\":null,\"ticker\":null},\"id\":\"2207\",\"type\":\"Grid\"},{\"attributes\":{},\"id\":\"2235\",\"type\":\"BasicTickFormatter\"},{\"attributes\":{},\"id\":\"2196\",\"type\":\"DataRange1d\"},{\"attributes\":{\"coordinates\":null,\"data_source\":{\"id\":\"2226\"},\"glyph\":{\"id\":\"2227\"},\"group\":null,\"hover_glyph\":null,\"muted_glyph\":{\"id\":\"2229\"},\"nonselection_glyph\":{\"id\":\"2228\"},\"view\":{\"id\":\"2231\"}},\"id\":\"2230\",\"type\":\"GlyphRenderer\"},{\"attributes\":{},\"id\":\"2202\",\"type\":\"LinearScale\"},{\"attributes\":{},\"id\":\"2236\",\"type\":\"AllLabels\"},{\"attributes\":{},\"id\":\"2205\",\"type\":\"BasicTicker\"},{\"attributes\":{\"bottom_units\":\"screen\",\"coordinates\":null,\"fill_alpha\":0.5,\"fill_color\":\"lightgrey\",\"group\":null,\"left_units\":\"screen\",\"level\":\"overlay\",\"line_alpha\":1.0,\"line_color\":\"black\",\"line_dash\":[4,4],\"line_width\":2,\"right_units\":\"screen\",\"syncable\":false,\"top_units\":\"screen\"},\"id\":\"2218\",\"type\":\"BoxAnnotation\"},{\"attributes\":{},\"id\":\"2238\",\"type\":\"BasicTickFormatter\"},{\"attributes\":{},\"id\":\"2240\",\"type\":\"UnionRenderers\"},{\"attributes\":{\"axis_label\":\"iters\",\"coordinates\":null,\"formatter\":{\"id\":\"2238\"},\"group\":null,\"major_label_policy\":{\"id\":\"2239\"},\"ticker\":{\"id\":\"2205\"}},\"id\":\"2204\",\"type\":\"LinearAxis\"},{\"attributes\":{\"line_alpha\":0.2,\"line_color\":\"#1f77b4\",\"line_width\":3,\"x\":{\"field\":\"x\"},\"y\":{\"field\":\"y\"}},\"id\":\"2229\",\"type\":\"Line\"},{\"attributes\":{},\"id\":\"2200\",\"type\":\"LinearScale\"},{\"attributes\":{},\"id\":\"2198\",\"type\":\"DataRange1d\"},{\"attributes\":{},\"id\":\"2241\",\"type\":\"Selection\"},{\"attributes\":{\"tools\":[{\"id\":\"2212\"},{\"id\":\"2213\"},{\"id\":\"2214\"},{\"id\":\"2215\"},{\"id\":\"2216\"},{\"id\":\"2217\"}]},\"id\":\"2219\",\"type\":\"Toolbar\"},{\"attributes\":{\"line_alpha\":0.1,\"line_color\":\"#1f77b4\",\"line_width\":3,\"x\":{\"field\":\"x\"},\"y\":{\"field\":\"y\"}},\"id\":\"2228\",\"type\":\"Line\"},{\"attributes\":{},\"id\":\"2212\",\"type\":\"PanTool\"},{\"attributes\":{},\"id\":\"2239\",\"type\":\"AllLabels\"},{\"attributes\":{\"coordinates\":null,\"group\":null,\"items\":[{\"id\":\"2244\"}]},\"id\":\"2243\",\"type\":\"Legend\"},{\"attributes\":{\"coordinates\":null,\"group\":null},\"id\":\"2232\",\"type\":\"Title\"},{\"attributes\":{\"overlay\":{\"id\":\"2218\"}},\"id\":\"2214\",\"type\":\"BoxZoomTool\"},{\"attributes\":{\"source\":{\"id\":\"2226\"}},\"id\":\"2231\",\"type\":\"CDSView\"},{\"attributes\":{},\"id\":\"2217\",\"type\":\"HelpTool\"},{\"attributes\":{},\"id\":\"2216\",\"type\":\"ResetTool\"},{\"attributes\":{},\"id\":\"2215\",\"type\":\"SaveTool\"},{\"attributes\":{\"label\":{\"value\":\"net diff iRR\"},\"renderers\":[{\"id\":\"2230\"}]},\"id\":\"2244\",\"type\":\"LegendItem\"},{\"attributes\":{},\"id\":\"2213\",\"type\":\"WheelZoomTool\"},{\"attributes\":{},\"id\":\"2209\",\"type\":\"BasicTicker\"}],\"root_ids\":[\"2195\"]},\"title\":\"Bokeh Application\",\"version\":\"2.4.3\"}};\n",
       "  const render_items = [{\"docid\":\"5bb50ea2-520d-424d-939c-f55fc4c50370\",\"root_ids\":[\"2195\"],\"roots\":{\"2195\":\"5e635e18-bf5f-4b3f-9fca-1f57bea6b142\"}}];\n",
       "  root.Bokeh.embed.embed_items_notebook(docs_json, render_items);\n",
       "  }\n",
       "  if (root.Bokeh !== undefined) {\n",
       "    embed_document(root);\n",
       "  } else {\n",
       "    let attempts = 0;\n",
       "    const timer = setInterval(function(root) {\n",
       "      if (root.Bokeh !== undefined) {\n",
       "        clearInterval(timer);\n",
       "        embed_document(root);\n",
       "      } else {\n",
       "        attempts++;\n",
       "        if (attempts > 100) {\n",
       "          clearInterval(timer);\n",
       "          console.log(\"Bokeh: ERROR: Unable to run BokehJS code because BokehJS library is missing\");\n",
       "        }\n",
       "      }\n",
       "    }, 10, root)\n",
       "  }\n",
       "})(window);"
      ],
      "application/vnd.bokehjs_exec.v0+json": ""
     },
     "metadata": {
      "application/vnd.bokehjs_exec.v0+json": {
       "id": "2195"
      }
     },
     "output_type": "display_data"
    }
   ],
   "source": [
    "losses = (control_reward_rate - baseline_reward_rate,)\n",
    "colors = (Category10[10][0],)\n",
    "legends = (\"net diff iRR\",)\n",
    "alphas = (1,)\n",
    "\n",
    "s = plot_lines(iters, losses, legends, alphas, colors)\n",
    "show(s)"
   ]
  },
  {
   "cell_type": "code",
   "execution_count": 33,
   "metadata": {
    "ExecuteTime": {
     "end_time": "2022-10-18T16:37:16.876743Z",
     "start_time": "2022-10-18T16:37:16.874178Z"
    }
   },
   "outputs": [
    {
     "data": {
      "text/plain": [
       "dict_keys(['iters', 'Loss_t_sim', 'weights_sim', 'weights_iters_sim', 'time_span', 'W_t_eq', 'Loss_t_eq', 'W_t_control_init', 'Loss_t_control_init', 'control_signal_init', 'cumulated_reward_opt', 'W_t_control_opt', 'Loss_t_control_opt', 'control_signal', 'Loss_t_sim_OPT', 'weights_sim_OPT', 'weights_iters_sim_OPT', 'iters_OPT', 'baseline_iRR', 'control_iRR'])"
      ]
     },
     "execution_count": 33,
     "metadata": {},
     "output_type": "execute_result"
    }
   ],
   "source": [
    "results_dict.keys()"
   ]
  },
  {
   "cell_type": "code",
   "execution_count": 34,
   "metadata": {
    "ExecuteTime": {
     "end_time": "2022-10-18T16:37:16.880110Z",
     "start_time": "2022-10-18T16:37:16.877818Z"
    }
   },
   "outputs": [],
   "source": [
    "params_dict = {\"dataset_params\": dataset_params,\n",
    "               \"model_params\": model_params,\n",
    "               \"equation_params\": equation_params,\n",
    "               \"control_params\": control_params,\n",
    "               \"reset_params\": reset_model_params}"
   ]
  },
  {
   "cell_type": "code",
   "execution_count": 35,
   "metadata": {
    "ExecuteTime": {
     "end_time": "2022-10-18T16:37:16.883114Z",
     "start_time": "2022-10-18T16:37:16.881109Z"
    }
   },
   "outputs": [],
   "source": [
    "import os\n",
    "time_str = get_date_time()\n",
    "saving_path = os.path.join(results_path, run_name+\"_\"+time_str)"
   ]
  },
  {
   "cell_type": "code",
   "execution_count": 36,
   "metadata": {
    "ExecuteTime": {
     "end_time": "2022-10-18T16:37:16.897322Z",
     "start_time": "2022-10-18T16:37:16.884072Z"
    }
   },
   "outputs": [],
   "source": [
    "save_var(results_dict, \"results.pkl\", results_path=saving_path)\n",
    "save_var(params_dict, \"params.pkl\", results_path=saving_path)"
   ]
  },
  {
   "cell_type": "code",
   "execution_count": 37,
   "metadata": {
    "ExecuteTime": {
     "end_time": "2022-10-18T16:37:16.900601Z",
     "start_time": "2022-10-18T16:37:16.898231Z"
    }
   },
   "outputs": [],
   "source": [
    "# save_var(params_dict, \"params.pkl\", results_path=saving_path)"
   ]
  },
  {
   "cell_type": "code",
   "execution_count": null,
   "metadata": {},
   "outputs": [],
   "source": []
  }
 ],
 "metadata": {
  "kernelspec": {
   "display_name": "Python 3 (ipykernel)",
   "language": "python",
   "name": "python3"
  },
  "language_info": {
   "codemirror_mode": {
    "name": "ipython",
    "version": 3
   },
   "file_extension": ".py",
   "mimetype": "text/x-python",
   "name": "python",
   "nbconvert_exporter": "python",
   "pygments_lexer": "ipython3",
   "version": "3.10.8"
  }
 },
 "nbformat": 4,
 "nbformat_minor": 4
}
