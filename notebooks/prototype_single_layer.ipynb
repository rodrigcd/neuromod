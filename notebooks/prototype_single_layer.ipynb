{
 "cells": [
  {
   "cell_type": "code",
   "execution_count": 1,
   "metadata": {
    "ExecuteTime": {
     "end_time": "2022-10-18T16:34:20.905225Z",
     "start_time": "2022-10-18T16:34:20.586654Z"
    }
   },
   "outputs": [
    {
     "data": {
      "text/html": [
       "<style>.container { width:100% !important; }</style>"
      ],
      "text/plain": [
       "<IPython.core.display.HTML object>"
      ]
     },
     "metadata": {},
     "output_type": "display_data"
    },
    {
     "data": {
      "text/html": [
       "<div class=\"bk-root\">\n",
       "        <a href=\"https://bokeh.org\" target=\"_blank\" class=\"bk-logo bk-logo-small bk-logo-notebook\"></a>\n",
       "        <span id=\"1002\">Loading BokehJS ...</span>\n",
       "    </div>\n"
      ]
     },
     "metadata": {},
     "output_type": "display_data"
    },
    {
     "data": {
      "application/javascript": [
       "(function(root) {\n",
       "  function now() {\n",
       "    return new Date();\n",
       "  }\n",
       "\n",
       "  const force = true;\n",
       "\n",
       "  if (typeof root._bokeh_onload_callbacks === \"undefined\" || force === true) {\n",
       "    root._bokeh_onload_callbacks = [];\n",
       "    root._bokeh_is_loading = undefined;\n",
       "  }\n",
       "\n",
       "const JS_MIME_TYPE = 'application/javascript';\n",
       "  const HTML_MIME_TYPE = 'text/html';\n",
       "  const EXEC_MIME_TYPE = 'application/vnd.bokehjs_exec.v0+json';\n",
       "  const CLASS_NAME = 'output_bokeh rendered_html';\n",
       "\n",
       "  /**\n",
       "   * Render data to the DOM node\n",
       "   */\n",
       "  function render(props, node) {\n",
       "    const script = document.createElement(\"script\");\n",
       "    node.appendChild(script);\n",
       "  }\n",
       "\n",
       "  /**\n",
       "   * Handle when an output is cleared or removed\n",
       "   */\n",
       "  function handleClearOutput(event, handle) {\n",
       "    const cell = handle.cell;\n",
       "\n",
       "    const id = cell.output_area._bokeh_element_id;\n",
       "    const server_id = cell.output_area._bokeh_server_id;\n",
       "    // Clean up Bokeh references\n",
       "    if (id != null && id in Bokeh.index) {\n",
       "      Bokeh.index[id].model.document.clear();\n",
       "      delete Bokeh.index[id];\n",
       "    }\n",
       "\n",
       "    if (server_id !== undefined) {\n",
       "      // Clean up Bokeh references\n",
       "      const cmd_clean = \"from bokeh.io.state import curstate; print(curstate().uuid_to_server['\" + server_id + \"'].get_sessions()[0].document.roots[0]._id)\";\n",
       "      cell.notebook.kernel.execute(cmd_clean, {\n",
       "        iopub: {\n",
       "          output: function(msg) {\n",
       "            const id = msg.content.text.trim();\n",
       "            if (id in Bokeh.index) {\n",
       "              Bokeh.index[id].model.document.clear();\n",
       "              delete Bokeh.index[id];\n",
       "            }\n",
       "          }\n",
       "        }\n",
       "      });\n",
       "      // Destroy server and session\n",
       "      const cmd_destroy = \"import bokeh.io.notebook as ion; ion.destroy_server('\" + server_id + \"')\";\n",
       "      cell.notebook.kernel.execute(cmd_destroy);\n",
       "    }\n",
       "  }\n",
       "\n",
       "  /**\n",
       "   * Handle when a new output is added\n",
       "   */\n",
       "  function handleAddOutput(event, handle) {\n",
       "    const output_area = handle.output_area;\n",
       "    const output = handle.output;\n",
       "\n",
       "    // limit handleAddOutput to display_data with EXEC_MIME_TYPE content only\n",
       "    if ((output.output_type != \"display_data\") || (!Object.prototype.hasOwnProperty.call(output.data, EXEC_MIME_TYPE))) {\n",
       "      return\n",
       "    }\n",
       "\n",
       "    const toinsert = output_area.element.find(\".\" + CLASS_NAME.split(' ')[0]);\n",
       "\n",
       "    if (output.metadata[EXEC_MIME_TYPE][\"id\"] !== undefined) {\n",
       "      toinsert[toinsert.length - 1].firstChild.textContent = output.data[JS_MIME_TYPE];\n",
       "      // store reference to embed id on output_area\n",
       "      output_area._bokeh_element_id = output.metadata[EXEC_MIME_TYPE][\"id\"];\n",
       "    }\n",
       "    if (output.metadata[EXEC_MIME_TYPE][\"server_id\"] !== undefined) {\n",
       "      const bk_div = document.createElement(\"div\");\n",
       "      bk_div.innerHTML = output.data[HTML_MIME_TYPE];\n",
       "      const script_attrs = bk_div.children[0].attributes;\n",
       "      for (let i = 0; i < script_attrs.length; i++) {\n",
       "        toinsert[toinsert.length - 1].firstChild.setAttribute(script_attrs[i].name, script_attrs[i].value);\n",
       "        toinsert[toinsert.length - 1].firstChild.textContent = bk_div.children[0].textContent\n",
       "      }\n",
       "      // store reference to server id on output_area\n",
       "      output_area._bokeh_server_id = output.metadata[EXEC_MIME_TYPE][\"server_id\"];\n",
       "    }\n",
       "  }\n",
       "\n",
       "  function register_renderer(events, OutputArea) {\n",
       "\n",
       "    function append_mime(data, metadata, element) {\n",
       "      // create a DOM node to render to\n",
       "      const toinsert = this.create_output_subarea(\n",
       "        metadata,\n",
       "        CLASS_NAME,\n",
       "        EXEC_MIME_TYPE\n",
       "      );\n",
       "      this.keyboard_manager.register_events(toinsert);\n",
       "      // Render to node\n",
       "      const props = {data: data, metadata: metadata[EXEC_MIME_TYPE]};\n",
       "      render(props, toinsert[toinsert.length - 1]);\n",
       "      element.append(toinsert);\n",
       "      return toinsert\n",
       "    }\n",
       "\n",
       "    /* Handle when an output is cleared or removed */\n",
       "    events.on('clear_output.CodeCell', handleClearOutput);\n",
       "    events.on('delete.Cell', handleClearOutput);\n",
       "\n",
       "    /* Handle when a new output is added */\n",
       "    events.on('output_added.OutputArea', handleAddOutput);\n",
       "\n",
       "    /**\n",
       "     * Register the mime type and append_mime function with output_area\n",
       "     */\n",
       "    OutputArea.prototype.register_mime_type(EXEC_MIME_TYPE, append_mime, {\n",
       "      /* Is output safe? */\n",
       "      safe: true,\n",
       "      /* Index of renderer in `output_area.display_order` */\n",
       "      index: 0\n",
       "    });\n",
       "  }\n",
       "\n",
       "  // register the mime type if in Jupyter Notebook environment and previously unregistered\n",
       "  if (root.Jupyter !== undefined) {\n",
       "    const events = require('base/js/events');\n",
       "    const OutputArea = require('notebook/js/outputarea').OutputArea;\n",
       "\n",
       "    if (OutputArea.prototype.mime_types().indexOf(EXEC_MIME_TYPE) == -1) {\n",
       "      register_renderer(events, OutputArea);\n",
       "    }\n",
       "  }\n",
       "  if (typeof (root._bokeh_timeout) === \"undefined\" || force === true) {\n",
       "    root._bokeh_timeout = Date.now() + 5000;\n",
       "    root._bokeh_failed_load = false;\n",
       "  }\n",
       "\n",
       "  const NB_LOAD_WARNING = {'data': {'text/html':\n",
       "     \"<div style='background-color: #fdd'>\\n\"+\n",
       "     \"<p>\\n\"+\n",
       "     \"BokehJS does not appear to have successfully loaded. If loading BokehJS from CDN, this \\n\"+\n",
       "     \"may be due to a slow or bad network connection. Possible fixes:\\n\"+\n",
       "     \"</p>\\n\"+\n",
       "     \"<ul>\\n\"+\n",
       "     \"<li>re-rerun `output_notebook()` to attempt to load from CDN again, or</li>\\n\"+\n",
       "     \"<li>use INLINE resources instead, as so:</li>\\n\"+\n",
       "     \"</ul>\\n\"+\n",
       "     \"<code>\\n\"+\n",
       "     \"from bokeh.resources import INLINE\\n\"+\n",
       "     \"output_notebook(resources=INLINE)\\n\"+\n",
       "     \"</code>\\n\"+\n",
       "     \"</div>\"}};\n",
       "\n",
       "  function display_loaded() {\n",
       "    const el = document.getElementById(\"1002\");\n",
       "    if (el != null) {\n",
       "      el.textContent = \"BokehJS is loading...\";\n",
       "    }\n",
       "    if (root.Bokeh !== undefined) {\n",
       "      if (el != null) {\n",
       "        el.textContent = \"BokehJS \" + root.Bokeh.version + \" successfully loaded.\";\n",
       "      }\n",
       "    } else if (Date.now() < root._bokeh_timeout) {\n",
       "      setTimeout(display_loaded, 100)\n",
       "    }\n",
       "  }\n",
       "\n",
       "  function run_callbacks() {\n",
       "    try {\n",
       "      root._bokeh_onload_callbacks.forEach(function(callback) {\n",
       "        if (callback != null)\n",
       "          callback();\n",
       "      });\n",
       "    } finally {\n",
       "      delete root._bokeh_onload_callbacks\n",
       "    }\n",
       "    console.debug(\"Bokeh: all callbacks have finished\");\n",
       "  }\n",
       "\n",
       "  function load_libs(css_urls, js_urls, callback) {\n",
       "    if (css_urls == null) css_urls = [];\n",
       "    if (js_urls == null) js_urls = [];\n",
       "\n",
       "    root._bokeh_onload_callbacks.push(callback);\n",
       "    if (root._bokeh_is_loading > 0) {\n",
       "      console.debug(\"Bokeh: BokehJS is being loaded, scheduling callback at\", now());\n",
       "      return null;\n",
       "    }\n",
       "    if (js_urls == null || js_urls.length === 0) {\n",
       "      run_callbacks();\n",
       "      return null;\n",
       "    }\n",
       "    console.debug(\"Bokeh: BokehJS not loaded, scheduling load and callback at\", now());\n",
       "    root._bokeh_is_loading = css_urls.length + js_urls.length;\n",
       "\n",
       "    function on_load() {\n",
       "      root._bokeh_is_loading--;\n",
       "      if (root._bokeh_is_loading === 0) {\n",
       "        console.debug(\"Bokeh: all BokehJS libraries/stylesheets loaded\");\n",
       "        run_callbacks()\n",
       "      }\n",
       "    }\n",
       "\n",
       "    function on_error(url) {\n",
       "      console.error(\"failed to load \" + url);\n",
       "    }\n",
       "\n",
       "    for (let i = 0; i < css_urls.length; i++) {\n",
       "      const url = css_urls[i];\n",
       "      const element = document.createElement(\"link\");\n",
       "      element.onload = on_load;\n",
       "      element.onerror = on_error.bind(null, url);\n",
       "      element.rel = \"stylesheet\";\n",
       "      element.type = \"text/css\";\n",
       "      element.href = url;\n",
       "      console.debug(\"Bokeh: injecting link tag for BokehJS stylesheet: \", url);\n",
       "      document.body.appendChild(element);\n",
       "    }\n",
       "\n",
       "    for (let i = 0; i < js_urls.length; i++) {\n",
       "      const url = js_urls[i];\n",
       "      const element = document.createElement('script');\n",
       "      element.onload = on_load;\n",
       "      element.onerror = on_error.bind(null, url);\n",
       "      element.async = false;\n",
       "      element.src = url;\n",
       "      console.debug(\"Bokeh: injecting script tag for BokehJS library: \", url);\n",
       "      document.head.appendChild(element);\n",
       "    }\n",
       "  };\n",
       "\n",
       "  function inject_raw_css(css) {\n",
       "    const element = document.createElement(\"style\");\n",
       "    element.appendChild(document.createTextNode(css));\n",
       "    document.body.appendChild(element);\n",
       "  }\n",
       "\n",
       "  const js_urls = [\"https://cdn.bokeh.org/bokeh/release/bokeh-2.4.3.min.js\", \"https://cdn.bokeh.org/bokeh/release/bokeh-gl-2.4.3.min.js\", \"https://cdn.bokeh.org/bokeh/release/bokeh-widgets-2.4.3.min.js\", \"https://cdn.bokeh.org/bokeh/release/bokeh-tables-2.4.3.min.js\", \"https://cdn.bokeh.org/bokeh/release/bokeh-mathjax-2.4.3.min.js\"];\n",
       "  const css_urls = [];\n",
       "\n",
       "  const inline_js = [    function(Bokeh) {\n",
       "      Bokeh.set_log_level(\"info\");\n",
       "    },\n",
       "function(Bokeh) {\n",
       "    }\n",
       "  ];\n",
       "\n",
       "  function run_inline_js() {\n",
       "    if (root.Bokeh !== undefined || force === true) {\n",
       "          for (let i = 0; i < inline_js.length; i++) {\n",
       "      inline_js[i].call(root, root.Bokeh);\n",
       "    }\n",
       "if (force === true) {\n",
       "        display_loaded();\n",
       "      }} else if (Date.now() < root._bokeh_timeout) {\n",
       "      setTimeout(run_inline_js, 100);\n",
       "    } else if (!root._bokeh_failed_load) {\n",
       "      console.log(\"Bokeh: BokehJS failed to load within specified timeout.\");\n",
       "      root._bokeh_failed_load = true;\n",
       "    } else if (force !== true) {\n",
       "      const cell = $(document.getElementById(\"1002\")).parents('.cell').data().cell;\n",
       "      cell.output_area.append_execute_result(NB_LOAD_WARNING)\n",
       "    }\n",
       "  }\n",
       "\n",
       "  if (root._bokeh_is_loading === 0) {\n",
       "    console.debug(\"Bokeh: BokehJS loaded, going straight to plotting\");\n",
       "    run_inline_js();\n",
       "  } else {\n",
       "    load_libs(css_urls, js_urls, function() {\n",
       "      console.debug(\"Bokeh: BokehJS plotting callback run at\", now());\n",
       "      run_inline_js();\n",
       "    });\n",
       "  }\n",
       "}(window));"
      ],
      "application/vnd.bokehjs_load.v0+json": "(function(root) {\n  function now() {\n    return new Date();\n  }\n\n  const force = true;\n\n  if (typeof root._bokeh_onload_callbacks === \"undefined\" || force === true) {\n    root._bokeh_onload_callbacks = [];\n    root._bokeh_is_loading = undefined;\n  }\n\n\n  if (typeof (root._bokeh_timeout) === \"undefined\" || force === true) {\n    root._bokeh_timeout = Date.now() + 5000;\n    root._bokeh_failed_load = false;\n  }\n\n  const NB_LOAD_WARNING = {'data': {'text/html':\n     \"<div style='background-color: #fdd'>\\n\"+\n     \"<p>\\n\"+\n     \"BokehJS does not appear to have successfully loaded. If loading BokehJS from CDN, this \\n\"+\n     \"may be due to a slow or bad network connection. Possible fixes:\\n\"+\n     \"</p>\\n\"+\n     \"<ul>\\n\"+\n     \"<li>re-rerun `output_notebook()` to attempt to load from CDN again, or</li>\\n\"+\n     \"<li>use INLINE resources instead, as so:</li>\\n\"+\n     \"</ul>\\n\"+\n     \"<code>\\n\"+\n     \"from bokeh.resources import INLINE\\n\"+\n     \"output_notebook(resources=INLINE)\\n\"+\n     \"</code>\\n\"+\n     \"</div>\"}};\n\n  function display_loaded() {\n    const el = document.getElementById(\"1002\");\n    if (el != null) {\n      el.textContent = \"BokehJS is loading...\";\n    }\n    if (root.Bokeh !== undefined) {\n      if (el != null) {\n        el.textContent = \"BokehJS \" + root.Bokeh.version + \" successfully loaded.\";\n      }\n    } else if (Date.now() < root._bokeh_timeout) {\n      setTimeout(display_loaded, 100)\n    }\n  }\n\n  function run_callbacks() {\n    try {\n      root._bokeh_onload_callbacks.forEach(function(callback) {\n        if (callback != null)\n          callback();\n      });\n    } finally {\n      delete root._bokeh_onload_callbacks\n    }\n    console.debug(\"Bokeh: all callbacks have finished\");\n  }\n\n  function load_libs(css_urls, js_urls, callback) {\n    if (css_urls == null) css_urls = [];\n    if (js_urls == null) js_urls = [];\n\n    root._bokeh_onload_callbacks.push(callback);\n    if (root._bokeh_is_loading > 0) {\n      console.debug(\"Bokeh: BokehJS is being loaded, scheduling callback at\", now());\n      return null;\n    }\n    if (js_urls == null || js_urls.length === 0) {\n      run_callbacks();\n      return null;\n    }\n    console.debug(\"Bokeh: BokehJS not loaded, scheduling load and callback at\", now());\n    root._bokeh_is_loading = css_urls.length + js_urls.length;\n\n    function on_load() {\n      root._bokeh_is_loading--;\n      if (root._bokeh_is_loading === 0) {\n        console.debug(\"Bokeh: all BokehJS libraries/stylesheets loaded\");\n        run_callbacks()\n      }\n    }\n\n    function on_error(url) {\n      console.error(\"failed to load \" + url);\n    }\n\n    for (let i = 0; i < css_urls.length; i++) {\n      const url = css_urls[i];\n      const element = document.createElement(\"link\");\n      element.onload = on_load;\n      element.onerror = on_error.bind(null, url);\n      element.rel = \"stylesheet\";\n      element.type = \"text/css\";\n      element.href = url;\n      console.debug(\"Bokeh: injecting link tag for BokehJS stylesheet: \", url);\n      document.body.appendChild(element);\n    }\n\n    for (let i = 0; i < js_urls.length; i++) {\n      const url = js_urls[i];\n      const element = document.createElement('script');\n      element.onload = on_load;\n      element.onerror = on_error.bind(null, url);\n      element.async = false;\n      element.src = url;\n      console.debug(\"Bokeh: injecting script tag for BokehJS library: \", url);\n      document.head.appendChild(element);\n    }\n  };\n\n  function inject_raw_css(css) {\n    const element = document.createElement(\"style\");\n    element.appendChild(document.createTextNode(css));\n    document.body.appendChild(element);\n  }\n\n  const js_urls = [\"https://cdn.bokeh.org/bokeh/release/bokeh-2.4.3.min.js\", \"https://cdn.bokeh.org/bokeh/release/bokeh-gl-2.4.3.min.js\", \"https://cdn.bokeh.org/bokeh/release/bokeh-widgets-2.4.3.min.js\", \"https://cdn.bokeh.org/bokeh/release/bokeh-tables-2.4.3.min.js\", \"https://cdn.bokeh.org/bokeh/release/bokeh-mathjax-2.4.3.min.js\"];\n  const css_urls = [];\n\n  const inline_js = [    function(Bokeh) {\n      Bokeh.set_log_level(\"info\");\n    },\nfunction(Bokeh) {\n    }\n  ];\n\n  function run_inline_js() {\n    if (root.Bokeh !== undefined || force === true) {\n          for (let i = 0; i < inline_js.length; i++) {\n      inline_js[i].call(root, root.Bokeh);\n    }\nif (force === true) {\n        display_loaded();\n      }} else if (Date.now() < root._bokeh_timeout) {\n      setTimeout(run_inline_js, 100);\n    } else if (!root._bokeh_failed_load) {\n      console.log(\"Bokeh: BokehJS failed to load within specified timeout.\");\n      root._bokeh_failed_load = true;\n    } else if (force !== true) {\n      const cell = $(document.getElementById(\"1002\")).parents('.cell').data().cell;\n      cell.output_area.append_execute_result(NB_LOAD_WARNING)\n    }\n  }\n\n  if (root._bokeh_is_loading === 0) {\n    console.debug(\"Bokeh: BokehJS loaded, going straight to plotting\");\n    run_inline_js();\n  } else {\n    load_libs(css_urls, js_urls, function() {\n      console.debug(\"Bokeh: BokehJS plotting callback run at\", now());\n      run_inline_js();\n    });\n  }\n}(window));"
     },
     "metadata": {},
     "output_type": "display_data"
    }
   ],
   "source": [
    "from IPython.display import display, HTML\n",
    "display(HTML(\"<style>.container { width:100% !important; }</style>\"))\n",
    "\n",
    "import numpy as np\n",
    "from tqdm import tqdm\n",
    "\n",
    "from bokeh.plotting import figure, show, output_file, save\n",
    "from bokeh.layouts import gridplot\n",
    "from bokeh.io import output_notebook\n",
    "from bokeh.palettes import Viridis, Category10, Category20\n",
    "from bokeh.io import export_svg\n",
    "output_notebook()"
   ]
  },
  {
   "cell_type": "code",
   "execution_count": 2,
   "metadata": {
    "ExecuteTime": {
     "end_time": "2022-10-18T16:34:22.192897Z",
     "start_time": "2022-10-18T16:34:21.557216Z"
    }
   },
   "outputs": [
    {
     "data": {
      "text/html": [
       "<div class=\"bk-root\">\n",
       "        <a href=\"https://bokeh.org\" target=\"_blank\" class=\"bk-logo bk-logo-small bk-logo-notebook\"></a>\n",
       "        <span id=\"1003\">Loading BokehJS ...</span>\n",
       "    </div>\n"
      ]
     },
     "metadata": {},
     "output_type": "display_data"
    },
    {
     "data": {
      "application/javascript": [
       "(function(root) {\n",
       "  function now() {\n",
       "    return new Date();\n",
       "  }\n",
       "\n",
       "  const force = true;\n",
       "\n",
       "  if (typeof root._bokeh_onload_callbacks === \"undefined\" || force === true) {\n",
       "    root._bokeh_onload_callbacks = [];\n",
       "    root._bokeh_is_loading = undefined;\n",
       "  }\n",
       "\n",
       "const JS_MIME_TYPE = 'application/javascript';\n",
       "  const HTML_MIME_TYPE = 'text/html';\n",
       "  const EXEC_MIME_TYPE = 'application/vnd.bokehjs_exec.v0+json';\n",
       "  const CLASS_NAME = 'output_bokeh rendered_html';\n",
       "\n",
       "  /**\n",
       "   * Render data to the DOM node\n",
       "   */\n",
       "  function render(props, node) {\n",
       "    const script = document.createElement(\"script\");\n",
       "    node.appendChild(script);\n",
       "  }\n",
       "\n",
       "  /**\n",
       "   * Handle when an output is cleared or removed\n",
       "   */\n",
       "  function handleClearOutput(event, handle) {\n",
       "    const cell = handle.cell;\n",
       "\n",
       "    const id = cell.output_area._bokeh_element_id;\n",
       "    const server_id = cell.output_area._bokeh_server_id;\n",
       "    // Clean up Bokeh references\n",
       "    if (id != null && id in Bokeh.index) {\n",
       "      Bokeh.index[id].model.document.clear();\n",
       "      delete Bokeh.index[id];\n",
       "    }\n",
       "\n",
       "    if (server_id !== undefined) {\n",
       "      // Clean up Bokeh references\n",
       "      const cmd_clean = \"from bokeh.io.state import curstate; print(curstate().uuid_to_server['\" + server_id + \"'].get_sessions()[0].document.roots[0]._id)\";\n",
       "      cell.notebook.kernel.execute(cmd_clean, {\n",
       "        iopub: {\n",
       "          output: function(msg) {\n",
       "            const id = msg.content.text.trim();\n",
       "            if (id in Bokeh.index) {\n",
       "              Bokeh.index[id].model.document.clear();\n",
       "              delete Bokeh.index[id];\n",
       "            }\n",
       "          }\n",
       "        }\n",
       "      });\n",
       "      // Destroy server and session\n",
       "      const cmd_destroy = \"import bokeh.io.notebook as ion; ion.destroy_server('\" + server_id + \"')\";\n",
       "      cell.notebook.kernel.execute(cmd_destroy);\n",
       "    }\n",
       "  }\n",
       "\n",
       "  /**\n",
       "   * Handle when a new output is added\n",
       "   */\n",
       "  function handleAddOutput(event, handle) {\n",
       "    const output_area = handle.output_area;\n",
       "    const output = handle.output;\n",
       "\n",
       "    // limit handleAddOutput to display_data with EXEC_MIME_TYPE content only\n",
       "    if ((output.output_type != \"display_data\") || (!Object.prototype.hasOwnProperty.call(output.data, EXEC_MIME_TYPE))) {\n",
       "      return\n",
       "    }\n",
       "\n",
       "    const toinsert = output_area.element.find(\".\" + CLASS_NAME.split(' ')[0]);\n",
       "\n",
       "    if (output.metadata[EXEC_MIME_TYPE][\"id\"] !== undefined) {\n",
       "      toinsert[toinsert.length - 1].firstChild.textContent = output.data[JS_MIME_TYPE];\n",
       "      // store reference to embed id on output_area\n",
       "      output_area._bokeh_element_id = output.metadata[EXEC_MIME_TYPE][\"id\"];\n",
       "    }\n",
       "    if (output.metadata[EXEC_MIME_TYPE][\"server_id\"] !== undefined) {\n",
       "      const bk_div = document.createElement(\"div\");\n",
       "      bk_div.innerHTML = output.data[HTML_MIME_TYPE];\n",
       "      const script_attrs = bk_div.children[0].attributes;\n",
       "      for (let i = 0; i < script_attrs.length; i++) {\n",
       "        toinsert[toinsert.length - 1].firstChild.setAttribute(script_attrs[i].name, script_attrs[i].value);\n",
       "        toinsert[toinsert.length - 1].firstChild.textContent = bk_div.children[0].textContent\n",
       "      }\n",
       "      // store reference to server id on output_area\n",
       "      output_area._bokeh_server_id = output.metadata[EXEC_MIME_TYPE][\"server_id\"];\n",
       "    }\n",
       "  }\n",
       "\n",
       "  function register_renderer(events, OutputArea) {\n",
       "\n",
       "    function append_mime(data, metadata, element) {\n",
       "      // create a DOM node to render to\n",
       "      const toinsert = this.create_output_subarea(\n",
       "        metadata,\n",
       "        CLASS_NAME,\n",
       "        EXEC_MIME_TYPE\n",
       "      );\n",
       "      this.keyboard_manager.register_events(toinsert);\n",
       "      // Render to node\n",
       "      const props = {data: data, metadata: metadata[EXEC_MIME_TYPE]};\n",
       "      render(props, toinsert[toinsert.length - 1]);\n",
       "      element.append(toinsert);\n",
       "      return toinsert\n",
       "    }\n",
       "\n",
       "    /* Handle when an output is cleared or removed */\n",
       "    events.on('clear_output.CodeCell', handleClearOutput);\n",
       "    events.on('delete.Cell', handleClearOutput);\n",
       "\n",
       "    /* Handle when a new output is added */\n",
       "    events.on('output_added.OutputArea', handleAddOutput);\n",
       "\n",
       "    /**\n",
       "     * Register the mime type and append_mime function with output_area\n",
       "     */\n",
       "    OutputArea.prototype.register_mime_type(EXEC_MIME_TYPE, append_mime, {\n",
       "      /* Is output safe? */\n",
       "      safe: true,\n",
       "      /* Index of renderer in `output_area.display_order` */\n",
       "      index: 0\n",
       "    });\n",
       "  }\n",
       "\n",
       "  // register the mime type if in Jupyter Notebook environment and previously unregistered\n",
       "  if (root.Jupyter !== undefined) {\n",
       "    const events = require('base/js/events');\n",
       "    const OutputArea = require('notebook/js/outputarea').OutputArea;\n",
       "\n",
       "    if (OutputArea.prototype.mime_types().indexOf(EXEC_MIME_TYPE) == -1) {\n",
       "      register_renderer(events, OutputArea);\n",
       "    }\n",
       "  }\n",
       "  if (typeof (root._bokeh_timeout) === \"undefined\" || force === true) {\n",
       "    root._bokeh_timeout = Date.now() + 5000;\n",
       "    root._bokeh_failed_load = false;\n",
       "  }\n",
       "\n",
       "  const NB_LOAD_WARNING = {'data': {'text/html':\n",
       "     \"<div style='background-color: #fdd'>\\n\"+\n",
       "     \"<p>\\n\"+\n",
       "     \"BokehJS does not appear to have successfully loaded. If loading BokehJS from CDN, this \\n\"+\n",
       "     \"may be due to a slow or bad network connection. Possible fixes:\\n\"+\n",
       "     \"</p>\\n\"+\n",
       "     \"<ul>\\n\"+\n",
       "     \"<li>re-rerun `output_notebook()` to attempt to load from CDN again, or</li>\\n\"+\n",
       "     \"<li>use INLINE resources instead, as so:</li>\\n\"+\n",
       "     \"</ul>\\n\"+\n",
       "     \"<code>\\n\"+\n",
       "     \"from bokeh.resources import INLINE\\n\"+\n",
       "     \"output_notebook(resources=INLINE)\\n\"+\n",
       "     \"</code>\\n\"+\n",
       "     \"</div>\"}};\n",
       "\n",
       "  function display_loaded() {\n",
       "    const el = document.getElementById(\"1003\");\n",
       "    if (el != null) {\n",
       "      el.textContent = \"BokehJS is loading...\";\n",
       "    }\n",
       "    if (root.Bokeh !== undefined) {\n",
       "      if (el != null) {\n",
       "        el.textContent = \"BokehJS \" + root.Bokeh.version + \" successfully loaded.\";\n",
       "      }\n",
       "    } else if (Date.now() < root._bokeh_timeout) {\n",
       "      setTimeout(display_loaded, 100)\n",
       "    }\n",
       "  }\n",
       "\n",
       "  function run_callbacks() {\n",
       "    try {\n",
       "      root._bokeh_onload_callbacks.forEach(function(callback) {\n",
       "        if (callback != null)\n",
       "          callback();\n",
       "      });\n",
       "    } finally {\n",
       "      delete root._bokeh_onload_callbacks\n",
       "    }\n",
       "    console.debug(\"Bokeh: all callbacks have finished\");\n",
       "  }\n",
       "\n",
       "  function load_libs(css_urls, js_urls, callback) {\n",
       "    if (css_urls == null) css_urls = [];\n",
       "    if (js_urls == null) js_urls = [];\n",
       "\n",
       "    root._bokeh_onload_callbacks.push(callback);\n",
       "    if (root._bokeh_is_loading > 0) {\n",
       "      console.debug(\"Bokeh: BokehJS is being loaded, scheduling callback at\", now());\n",
       "      return null;\n",
       "    }\n",
       "    if (js_urls == null || js_urls.length === 0) {\n",
       "      run_callbacks();\n",
       "      return null;\n",
       "    }\n",
       "    console.debug(\"Bokeh: BokehJS not loaded, scheduling load and callback at\", now());\n",
       "    root._bokeh_is_loading = css_urls.length + js_urls.length;\n",
       "\n",
       "    function on_load() {\n",
       "      root._bokeh_is_loading--;\n",
       "      if (root._bokeh_is_loading === 0) {\n",
       "        console.debug(\"Bokeh: all BokehJS libraries/stylesheets loaded\");\n",
       "        run_callbacks()\n",
       "      }\n",
       "    }\n",
       "\n",
       "    function on_error(url) {\n",
       "      console.error(\"failed to load \" + url);\n",
       "    }\n",
       "\n",
       "    for (let i = 0; i < css_urls.length; i++) {\n",
       "      const url = css_urls[i];\n",
       "      const element = document.createElement(\"link\");\n",
       "      element.onload = on_load;\n",
       "      element.onerror = on_error.bind(null, url);\n",
       "      element.rel = \"stylesheet\";\n",
       "      element.type = \"text/css\";\n",
       "      element.href = url;\n",
       "      console.debug(\"Bokeh: injecting link tag for BokehJS stylesheet: \", url);\n",
       "      document.body.appendChild(element);\n",
       "    }\n",
       "\n",
       "    for (let i = 0; i < js_urls.length; i++) {\n",
       "      const url = js_urls[i];\n",
       "      const element = document.createElement('script');\n",
       "      element.onload = on_load;\n",
       "      element.onerror = on_error.bind(null, url);\n",
       "      element.async = false;\n",
       "      element.src = url;\n",
       "      console.debug(\"Bokeh: injecting script tag for BokehJS library: \", url);\n",
       "      document.head.appendChild(element);\n",
       "    }\n",
       "  };\n",
       "\n",
       "  function inject_raw_css(css) {\n",
       "    const element = document.createElement(\"style\");\n",
       "    element.appendChild(document.createTextNode(css));\n",
       "    document.body.appendChild(element);\n",
       "  }\n",
       "\n",
       "  const js_urls = [\"https://cdn.bokeh.org/bokeh/release/bokeh-2.4.3.min.js\", \"https://cdn.bokeh.org/bokeh/release/bokeh-gl-2.4.3.min.js\", \"https://cdn.bokeh.org/bokeh/release/bokeh-widgets-2.4.3.min.js\", \"https://cdn.bokeh.org/bokeh/release/bokeh-tables-2.4.3.min.js\", \"https://cdn.bokeh.org/bokeh/release/bokeh-mathjax-2.4.3.min.js\"];\n",
       "  const css_urls = [];\n",
       "\n",
       "  const inline_js = [    function(Bokeh) {\n",
       "      Bokeh.set_log_level(\"info\");\n",
       "    },\n",
       "function(Bokeh) {\n",
       "    }\n",
       "  ];\n",
       "\n",
       "  function run_inline_js() {\n",
       "    if (root.Bokeh !== undefined || force === true) {\n",
       "          for (let i = 0; i < inline_js.length; i++) {\n",
       "      inline_js[i].call(root, root.Bokeh);\n",
       "    }\n",
       "if (force === true) {\n",
       "        display_loaded();\n",
       "      }} else if (Date.now() < root._bokeh_timeout) {\n",
       "      setTimeout(run_inline_js, 100);\n",
       "    } else if (!root._bokeh_failed_load) {\n",
       "      console.log(\"Bokeh: BokehJS failed to load within specified timeout.\");\n",
       "      root._bokeh_failed_load = true;\n",
       "    } else if (force !== true) {\n",
       "      const cell = $(document.getElementById(\"1003\")).parents('.cell').data().cell;\n",
       "      cell.output_area.append_execute_result(NB_LOAD_WARNING)\n",
       "    }\n",
       "  }\n",
       "\n",
       "  if (root._bokeh_is_loading === 0) {\n",
       "    console.debug(\"Bokeh: BokehJS loaded, going straight to plotting\");\n",
       "    run_inline_js();\n",
       "  } else {\n",
       "    load_libs(css_urls, js_urls, function() {\n",
       "      console.debug(\"Bokeh: BokehJS plotting callback run at\", now());\n",
       "      run_inline_js();\n",
       "    });\n",
       "  }\n",
       "}(window));"
      ],
      "application/vnd.bokehjs_load.v0+json": "(function(root) {\n  function now() {\n    return new Date();\n  }\n\n  const force = true;\n\n  if (typeof root._bokeh_onload_callbacks === \"undefined\" || force === true) {\n    root._bokeh_onload_callbacks = [];\n    root._bokeh_is_loading = undefined;\n  }\n\n\n  if (typeof (root._bokeh_timeout) === \"undefined\" || force === true) {\n    root._bokeh_timeout = Date.now() + 5000;\n    root._bokeh_failed_load = false;\n  }\n\n  const NB_LOAD_WARNING = {'data': {'text/html':\n     \"<div style='background-color: #fdd'>\\n\"+\n     \"<p>\\n\"+\n     \"BokehJS does not appear to have successfully loaded. If loading BokehJS from CDN, this \\n\"+\n     \"may be due to a slow or bad network connection. Possible fixes:\\n\"+\n     \"</p>\\n\"+\n     \"<ul>\\n\"+\n     \"<li>re-rerun `output_notebook()` to attempt to load from CDN again, or</li>\\n\"+\n     \"<li>use INLINE resources instead, as so:</li>\\n\"+\n     \"</ul>\\n\"+\n     \"<code>\\n\"+\n     \"from bokeh.resources import INLINE\\n\"+\n     \"output_notebook(resources=INLINE)\\n\"+\n     \"</code>\\n\"+\n     \"</div>\"}};\n\n  function display_loaded() {\n    const el = document.getElementById(\"1003\");\n    if (el != null) {\n      el.textContent = \"BokehJS is loading...\";\n    }\n    if (root.Bokeh !== undefined) {\n      if (el != null) {\n        el.textContent = \"BokehJS \" + root.Bokeh.version + \" successfully loaded.\";\n      }\n    } else if (Date.now() < root._bokeh_timeout) {\n      setTimeout(display_loaded, 100)\n    }\n  }\n\n  function run_callbacks() {\n    try {\n      root._bokeh_onload_callbacks.forEach(function(callback) {\n        if (callback != null)\n          callback();\n      });\n    } finally {\n      delete root._bokeh_onload_callbacks\n    }\n    console.debug(\"Bokeh: all callbacks have finished\");\n  }\n\n  function load_libs(css_urls, js_urls, callback) {\n    if (css_urls == null) css_urls = [];\n    if (js_urls == null) js_urls = [];\n\n    root._bokeh_onload_callbacks.push(callback);\n    if (root._bokeh_is_loading > 0) {\n      console.debug(\"Bokeh: BokehJS is being loaded, scheduling callback at\", now());\n      return null;\n    }\n    if (js_urls == null || js_urls.length === 0) {\n      run_callbacks();\n      return null;\n    }\n    console.debug(\"Bokeh: BokehJS not loaded, scheduling load and callback at\", now());\n    root._bokeh_is_loading = css_urls.length + js_urls.length;\n\n    function on_load() {\n      root._bokeh_is_loading--;\n      if (root._bokeh_is_loading === 0) {\n        console.debug(\"Bokeh: all BokehJS libraries/stylesheets loaded\");\n        run_callbacks()\n      }\n    }\n\n    function on_error(url) {\n      console.error(\"failed to load \" + url);\n    }\n\n    for (let i = 0; i < css_urls.length; i++) {\n      const url = css_urls[i];\n      const element = document.createElement(\"link\");\n      element.onload = on_load;\n      element.onerror = on_error.bind(null, url);\n      element.rel = \"stylesheet\";\n      element.type = \"text/css\";\n      element.href = url;\n      console.debug(\"Bokeh: injecting link tag for BokehJS stylesheet: \", url);\n      document.body.appendChild(element);\n    }\n\n    for (let i = 0; i < js_urls.length; i++) {\n      const url = js_urls[i];\n      const element = document.createElement('script');\n      element.onload = on_load;\n      element.onerror = on_error.bind(null, url);\n      element.async = false;\n      element.src = url;\n      console.debug(\"Bokeh: injecting script tag for BokehJS library: \", url);\n      document.head.appendChild(element);\n    }\n  };\n\n  function inject_raw_css(css) {\n    const element = document.createElement(\"style\");\n    element.appendChild(document.createTextNode(css));\n    document.body.appendChild(element);\n  }\n\n  const js_urls = [\"https://cdn.bokeh.org/bokeh/release/bokeh-2.4.3.min.js\", \"https://cdn.bokeh.org/bokeh/release/bokeh-gl-2.4.3.min.js\", \"https://cdn.bokeh.org/bokeh/release/bokeh-widgets-2.4.3.min.js\", \"https://cdn.bokeh.org/bokeh/release/bokeh-tables-2.4.3.min.js\", \"https://cdn.bokeh.org/bokeh/release/bokeh-mathjax-2.4.3.min.js\"];\n  const css_urls = [];\n\n  const inline_js = [    function(Bokeh) {\n      Bokeh.set_log_level(\"info\");\n    },\nfunction(Bokeh) {\n    }\n  ];\n\n  function run_inline_js() {\n    if (root.Bokeh !== undefined || force === true) {\n          for (let i = 0; i < inline_js.length; i++) {\n      inline_js[i].call(root, root.Bokeh);\n    }\nif (force === true) {\n        display_loaded();\n      }} else if (Date.now() < root._bokeh_timeout) {\n      setTimeout(run_inline_js, 100);\n    } else if (!root._bokeh_failed_load) {\n      console.log(\"Bokeh: BokehJS failed to load within specified timeout.\");\n      root._bokeh_failed_load = true;\n    } else if (force !== true) {\n      const cell = $(document.getElementById(\"1003\")).parents('.cell').data().cell;\n      cell.output_area.append_execute_result(NB_LOAD_WARNING)\n    }\n  }\n\n  if (root._bokeh_is_loading === 0) {\n    console.debug(\"Bokeh: BokehJS loaded, going straight to plotting\");\n    run_inline_js();\n  } else {\n    load_libs(css_urls, js_urls, function() {\n      console.debug(\"Bokeh: BokehJS plotting callback run at\", now());\n      run_inline_js();\n    });\n  }\n}(window));"
     },
     "metadata": {},
     "output_type": "display_data"
    }
   ],
   "source": [
    "from metamod.control import SingleLayerEq, SingleLayerControl\n",
    "from metamod.tasks import AffineCorrelatedGaussian, TwoGaussians\n",
    "from metamod.trainers import single_layer_training\n",
    "from metamod.networks import SingleLayerNet\n",
    "from metamod.utils import plot_lines, plot_weight_ev, check_dir, save_var, get_date_time"
   ]
  },
  {
   "cell_type": "code",
   "execution_count": 3,
   "metadata": {
    "ExecuteTime": {
     "end_time": "2022-10-18T16:34:22.708796Z",
     "start_time": "2022-10-18T16:34:22.701753Z"
    }
   },
   "outputs": [],
   "source": [
    "run_name = \"testing_single_layer\"\n",
    "results_path = \"../results\""
   ]
  },
  {
   "cell_type": "code",
   "execution_count": 4,
   "metadata": {
    "ExecuteTime": {
     "end_time": "2022-10-18T16:34:23.143985Z",
     "start_time": "2022-10-18T16:34:23.141670Z"
    }
   },
   "outputs": [],
   "source": [
    "results_dict = {}"
   ]
  },
  {
   "cell_type": "code",
   "execution_count": 5,
   "metadata": {
    "ExecuteTime": {
     "end_time": "2022-10-18T16:34:23.343309Z",
     "start_time": "2022-10-18T16:34:23.341049Z"
    }
   },
   "outputs": [],
   "source": [
    "#dataset_params = {\"mu_vec\": (3.0, 1.0), \n",
    "#                  \"batch_size\": 256, \n",
    "#                  \"dependence_parameter\": 0.8, \n",
    "#                  \"sigma_vec\":(1.0, 1.0)}\n",
    "\n",
    "#dataset = AffineCorrelatedGaussian(**dataset_params)\n",
    "\n",
    "dataset_params = {\"mu\": 2.0, \n",
    "                  \"batch_size\": 128, \n",
    "                  \"std\": 1.0}\n",
    "dataset = TwoGaussians(**dataset_params)"
   ]
  },
  {
   "cell_type": "code",
   "execution_count": 6,
   "metadata": {
    "ExecuteTime": {
     "end_time": "2022-10-18T16:34:25.903442Z",
     "start_time": "2022-10-18T16:34:23.512686Z"
    }
   },
   "outputs": [],
   "source": [
    "model_params = {\"learning_rate\": 1e-3,\n",
    "                \"reg_coef\": 0.1,\n",
    "                \"intrinsic_noise\": 0.0,\n",
    "                \"input_dim\": dataset.input_dim,\n",
    "                \"output_dim\": dataset.output_dim,\n",
    "                \"W_0\": np.zeros((1, 1))}\n",
    "\n",
    "model = SingleLayerNet(**model_params)"
   ]
  },
  {
   "cell_type": "code",
   "execution_count": 7,
   "metadata": {
    "ExecuteTime": {
     "end_time": "2022-10-18T16:34:29.153628Z",
     "start_time": "2022-10-18T16:34:25.904517Z"
    }
   },
   "outputs": [
    {
     "name": "stderr",
     "output_type": "stream",
     "text": [
      "100%|███████████████████████████████████████████████████████████████████████████████████████████████████████████████████████████████████████████████████████████████████████████| 600/600 [00:01<00:00, 411.24it/s]\n"
     ]
    }
   ],
   "source": [
    "n_steps = 600\n",
    "save_weights_every = 20\n",
    "\n",
    "iters, loss, weights_iter, weights = single_layer_training(model=model, dataset=dataset, n_steps=n_steps, save_weights_every=save_weights_every)\n",
    "\n",
    "results_dict[\"iters\"] = iters\n",
    "results_dict[\"Loss_t_sim\"] = loss\n",
    "results_dict[\"weights_sim\"] = weights\n",
    "results_dict[\"weights_iters_sim\"] = weights_iter"
   ]
  },
  {
   "cell_type": "code",
   "execution_count": 8,
   "metadata": {
    "ExecuteTime": {
     "end_time": "2022-10-18T16:34:29.157446Z",
     "start_time": "2022-10-18T16:34:29.154803Z"
    }
   },
   "outputs": [
    {
     "data": {
      "text/plain": [
       "(30, 1, 1)"
      ]
     },
     "execution_count": 8,
     "metadata": {},
     "output_type": "execute_result"
    }
   ],
   "source": [
    "weights.shape"
   ]
  },
  {
   "cell_type": "code",
   "execution_count": 9,
   "metadata": {
    "ExecuteTime": {
     "end_time": "2022-10-18T16:34:29.163851Z",
     "start_time": "2022-10-18T16:34:29.158424Z"
    }
   },
   "outputs": [],
   "source": [
    "init_W = weights[0, ...]\n",
    "\n",
    "init_weights = init_W\n",
    "input_corr, output_corr, input_output_corr, expected_y, expected_x = dataset.get_correlation_matrix()\n",
    "\n",
    "time_span = np.arange(0, len(iters))*model_params[\"learning_rate\"]\n",
    "results_dict[\"time_span\"] = time_span"
   ]
  },
  {
   "cell_type": "code",
   "execution_count": 10,
   "metadata": {},
   "outputs": [
    {
     "data": {
      "text/plain": [
       "(1, 1)"
      ]
     },
     "execution_count": 10,
     "metadata": {},
     "output_type": "execute_result"
    }
   ],
   "source": [
    "init_W.shape"
   ]
  },
  {
   "cell_type": "code",
   "execution_count": 11,
   "metadata": {
    "ExecuteTime": {
     "end_time": "2022-10-18T16:34:29.166717Z",
     "start_time": "2022-10-18T16:34:29.164694Z"
    }
   },
   "outputs": [],
   "source": [
    "equation_params = {\"in_cov\": input_corr,\n",
    "                   \"out_cov\": output_corr,\n",
    "                   \"in_out_cov\": input_output_corr,\n",
    "                   # \"expected_y\": expected_y,\n",
    "                   # \"expected_x\": expected_x,\n",
    "                   \"init_weights\": init_weights,\n",
    "                   \"n_steps\": n_steps,\n",
    "                   \"reg_coef\": model_params[\"reg_coef\"],\n",
    "                   \"intrinsic_noise\": model_params[\"intrinsic_noise\"],\n",
    "                   \"learning_rate\": model_params[\"learning_rate\"],\n",
    "                   \"time_constant\": 1.0}"
   ]
  },
  {
   "cell_type": "code",
   "execution_count": 12,
   "metadata": {
    "ExecuteTime": {
     "end_time": "2022-10-18T16:34:29.169575Z",
     "start_time": "2022-10-18T16:34:29.167556Z"
    }
   },
   "outputs": [],
   "source": [
    "solver = SingleLayerEq(**equation_params)"
   ]
  },
  {
   "cell_type": "code",
   "execution_count": 13,
   "metadata": {
    "ExecuteTime": {
     "end_time": "2022-10-18T16:34:29.172237Z",
     "start_time": "2022-10-18T16:34:29.170353Z"
    }
   },
   "outputs": [],
   "source": [
    "control_params = {**equation_params,\n",
    "                  \"control_lower_bound\": 0.0,\n",
    "                  \"control_upper_bound\": None,\n",
    "                  \"gamma\": 0.99,\n",
    "                  \"cost_coef\": 0.3,\n",
    "                  \"reward_convertion\": 1.0,\n",
    "                  \"init_g\": None,\n",
    "                  \"control_lr\": 10.0}"
   ]
  },
  {
   "cell_type": "code",
   "execution_count": 14,
   "metadata": {
    "ExecuteTime": {
     "end_time": "2022-10-18T16:34:29.176174Z",
     "start_time": "2022-10-18T16:34:29.173724Z"
    }
   },
   "outputs": [],
   "source": [
    "control = SingleLayerControl(**control_params)"
   ]
  },
  {
   "cell_type": "code",
   "execution_count": 15,
   "metadata": {
    "ExecuteTime": {
     "end_time": "2022-10-18T16:34:29.179835Z",
     "start_time": "2022-10-18T16:34:29.177582Z"
    }
   },
   "outputs": [
    {
     "name": "stdout",
     "output_type": "stream",
     "text": [
      "(30, 1, 1) torch.Size([600, 1, 1])\n"
     ]
    }
   ],
   "source": [
    "sim_weights = weights\n",
    "print(sim_weights.shape, control.g_tilda.shape)"
   ]
  },
  {
   "cell_type": "code",
   "execution_count": 16,
   "metadata": {
    "ExecuteTime": {
     "end_time": "2022-10-18T16:34:29.939356Z",
     "start_time": "2022-10-18T16:34:29.180732Z"
    }
   },
   "outputs": [],
   "source": [
    "W_t= solver.get_weights(time_span, get_numpy=True)\n",
    "Loss_t = solver.get_loss_function(W_t, get_numpy=True)\n",
    "\n",
    "results_dict[\"W_t_eq\"] = W_t\n",
    "results_dict[\"Loss_t_eq\"] = Loss_t"
   ]
  },
  {
   "cell_type": "code",
   "execution_count": 17,
   "metadata": {
    "ExecuteTime": {
     "end_time": "2022-10-18T16:34:31.285075Z",
     "start_time": "2022-10-18T16:34:29.940312Z"
    }
   },
   "outputs": [],
   "source": [
    "W_t_control = control.get_weights(time_span, get_numpy=True)\n",
    "Loss_t_control = control.get_loss_function(W_t_control, get_numpy=True)\n",
    "\n",
    "results_dict[\"W_t_control_init\"] = W_t_control\n",
    "results_dict[\"Loss_t_control_init\"] = Loss_t_control\n",
    "results_dict[\"control_signal_init\"] = control.g_tilda"
   ]
  },
  {
   "cell_type": "code",
   "execution_count": 18,
   "metadata": {
    "ExecuteTime": {
     "end_time": "2022-10-18T16:34:31.364595Z",
     "start_time": "2022-10-18T16:34:31.286237Z"
    }
   },
   "outputs": [
    {
     "data": {
      "text/html": [
       "\n",
       "  <div class=\"bk-root\" id=\"f875c508-a6a3-4e3b-84b0-b99485a85d3f\" data-root-id=\"1004\"></div>\n"
      ]
     },
     "metadata": {},
     "output_type": "display_data"
    },
    {
     "data": {
      "application/javascript": [
       "(function(root) {\n",
       "  function embed_document(root) {\n",
       "  const docs_json = {\"bd439710-564a-4807-accd-db9a9829fb26\":{\"defs\":[],\"roots\":{\"references\":[{\"attributes\":{\"below\":[{\"id\":\"1013\"}],\"center\":[{\"id\":\"1016\"},{\"id\":\"1020\"},{\"id\":\"1052\"}],\"height\":500,\"left\":[{\"id\":\"1017\"}],\"renderers\":[{\"id\":\"1039\"},{\"id\":\"1058\"},{\"id\":\"1078\"}],\"title\":{\"id\":\"1041\"},\"toolbar\":{\"id\":\"1028\"},\"width\":800,\"x_range\":{\"id\":\"1005\"},\"x_scale\":{\"id\":\"1009\"},\"y_range\":{\"id\":\"1007\"},\"y_scale\":{\"id\":\"1011\"}},\"id\":\"1004\",\"subtype\":\"Figure\",\"type\":\"Plot\"},{\"attributes\":{\"line_color\":\"#1f77b4\",\"line_width\":3,\"x\":{\"field\":\"x\"},\"y\":{\"field\":\"y\"}},\"id\":\"1055\",\"type\":\"Line\"},{\"attributes\":{\"line_color\":\"#ff7f0e\",\"line_width\":3,\"x\":{\"field\":\"x\"},\"y\":{\"field\":\"y\"}},\"id\":\"1075\",\"type\":\"Line\"},{\"attributes\":{\"bottom_units\":\"screen\",\"coordinates\":null,\"fill_alpha\":0.5,\"fill_color\":\"lightgrey\",\"group\":null,\"left_units\":\"screen\",\"level\":\"overlay\",\"line_alpha\":1.0,\"line_color\":\"black\",\"line_dash\":[4,4],\"line_width\":2,\"right_units\":\"screen\",\"syncable\":false,\"top_units\":\"screen\"},\"id\":\"1027\",\"type\":\"BoxAnnotation\"},{\"attributes\":{\"data\":{\"x\":[0,1,2,3,4,5,6,7,8,9,10,11,12,13,14,15,16,17,18,19,20,21,22,23,24,25,26,27,28,29,30,31,32,33,34,35,36,37,38,39,40,41,42,43,44,45,46,47,48,49,50,51,52,53,54,55,56,57,58,59,60,61,62,63,64,65,66,67,68,69,70,71,72,73,74,75,76,77,78,79,80,81,82,83,84,85,86,87,88,89,90,91,92,93,94,95,96,97,98,99,100,101,102,103,104,105,106,107,108,109,110,111,112,113,114,115,116,117,118,119,120,121,122,123,124,125,126,127,128,129,130,131,132,133,134,135,136,137,138,139,140,141,142,143,144,145,146,147,148,149,150,151,152,153,154,155,156,157,158,159,160,161,162,163,164,165,166,167,168,169,170,171,172,173,174,175,176,177,178,179,180,181,182,183,184,185,186,187,188,189,190,191,192,193,194,195,196,197,198,199,200,201,202,203,204,205,206,207,208,209,210,211,212,213,214,215,216,217,218,219,220,221,222,223,224,225,226,227,228,229,230,231,232,233,234,235,236,237,238,239,240,241,242,243,244,245,246,247,248,249,250,251,252,253,254,255,256,257,258,259,260,261,262,263,264,265,266,267,268,269,270,271,272,273,274,275,276,277,278,279,280,281,282,283,284,285,286,287,288,289,290,291,292,293,294,295,296,297,298,299,300,301,302,303,304,305,306,307,308,309,310,311,312,313,314,315,316,317,318,319,320,321,322,323,324,325,326,327,328,329,330,331,332,333,334,335,336,337,338,339,340,341,342,343,344,345,346,347,348,349,350,351,352,353,354,355,356,357,358,359,360,361,362,363,364,365,366,367,368,369,370,371,372,373,374,375,376,377,378,379,380,381,382,383,384,385,386,387,388,389,390,391,392,393,394,395,396,397,398,399,400,401,402,403,404,405,406,407,408,409,410,411,412,413,414,415,416,417,418,419,420,421,422,423,424,425,426,427,428,429,430,431,432,433,434,435,436,437,438,439,440,441,442,443,444,445,446,447,448,449,450,451,452,453,454,455,456,457,458,459,460,461,462,463,464,465,466,467,468,469,470,471,472,473,474,475,476,477,478,479,480,481,482,483,484,485,486,487,488,489,490,491,492,493,494,495,496,497,498,499,500,501,502,503,504,505,506,507,508,509,510,511,512,513,514,515,516,517,518,519,520,521,522,523,524,525,526,527,528,529,530,531,532,533,534,535,536,537,538,539,540,541,542,543,544,545,546,547,548,549,550,551,552,553,554,555,556,557,558,559,560,561,562,563,564,565,566,567,568,569,570,571,572,573,574,575,576,577,578,579,580,581,582,583,584,585,586,587,588,589,590,591,592,593,594,595,596,597,598,599],\"y\":{\"__ndarray__\":\"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\",\"dtype\":\"float32\",\"order\":\"little\",\"shape\":[600]}},\"selected\":{\"id\":\"1071\"},\"selection_policy\":{\"id\":\"1070\"}},\"id\":\"1054\",\"type\":\"ColumnDataSource\"},{\"attributes\":{\"data\":{\"x\":[0,1,2,3,4,5,6,7,8,9,10,11,12,13,14,15,16,17,18,19,20,21,22,23,24,25,26,27,28,29,30,31,32,33,34,35,36,37,38,39,40,41,42,43,44,45,46,47,48,49,50,51,52,53,54,55,56,57,58,59,60,61,62,63,64,65,66,67,68,69,70,71,72,73,74,75,76,77,78,79,80,81,82,83,84,85,86,87,88,89,90,91,92,93,94,95,96,97,98,99,100,101,102,103,104,105,106,107,108,109,110,111,112,113,114,115,116,117,118,119,120,121,122,123,124,125,126,127,128,129,130,131,132,133,134,135,136,137,138,139,140,141,142,143,144,145,146,147,148,149,150,151,152,153,154,155,156,157,158,159,160,161,162,163,164,165,166,167,168,169,170,171,172,173,174,175,176,177,178,179,180,181,182,183,184,185,186,187,188,189,190,191,192,193,194,195,196,197,198,199,200,201,202,203,204,205,206,207,208,209,210,211,212,213,214,215,216,217,218,219,220,221,222,223,224,225,226,227,228,229,230,231,232,233,234,235,236,237,238,239,240,241,242,243,244,245,246,247,248,249,250,251,252,253,254,255,256,257,258,259,260,261,262,263,264,265,266,267,268,269,270,271,272,273,274,275,276,277,278,279,280,281,282,283,284,285,286,287,288,289,290,291,292,293,294,295,296,297,298,299,300,301,302,303,304,305,306,307,308,309,310,311,312,313,314,315,316,317,318,319,320,321,322,323,324,325,326,327,328,329,330,331,332,333,334,335,336,337,338,339,340,341,342,343,344,345,346,347,348,349,350,351,352,353,354,355,356,357,358,359,360,361,362,363,364,365,366,367,368,369,370,371,372,373,374,375,376,377,378,379,380,381,382,383,384,385,386,387,388,389,390,391,392,393,394,395,396,397,398,399,400,401,402,403,404,405,406,407,408,409,410,411,412,413,414,415,416,417,418,419,420,421,422,423,424,425,426,427,428,429,430,431,432,433,434,435,436,437,438,439,440,441,442,443,444,445,446,447,448,449,450,451,452,453,454,455,456,457,458,459,460,461,462,463,464,465,466,467,468,469,470,471,472,473,474,475,476,477,478,479,480,481,482,483,484,485,486,487,488,489,490,491,492,493,494,495,496,497,498,499,500,501,502,503,504,505,506,507,508,509,510,511,512,513,514,515,516,517,518,519,520,521,522,523,524,525,526,527,528,529,530,531,532,533,534,535,536,537,538,539,540,541,542,543,544,545,546,547,548,549,550,551,552,553,554,555,556,557,558,559,560,561,562,563,564,565,566,567,568,569,570,571,572,573,574,575,576,577,578,579,580,581,582,583,584,585,586,587,588,589,590,591,592,593,594,595,596,597,598,599],\"y\":{\"__ndarray__\":\"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\",\"dtype\":\"float32\",\"order\":\"little\",\"shape\":[600]}},\"selected\":{\"id\":\"1093\"},\"selection_policy\":{\"id\":\"1092\"}},\"id\":\"1074\",\"type\":\"ColumnDataSource\"},{\"attributes\":{\"source\":{\"id\":\"1054\"}},\"id\":\"1059\",\"type\":\"CDSView\"},{\"attributes\":{\"label\":{\"value\":\"Approximation\"},\"renderers\":[{\"id\":\"1058\"}]},\"id\":\"1073\",\"type\":\"LegendItem\"},{\"attributes\":{\"label\":{\"value\":\"Init Control\"},\"renderers\":[{\"id\":\"1078\"}]},\"id\":\"1095\",\"type\":\"LegendItem\"},{\"attributes\":{\"line_alpha\":0.2,\"line_color\":\"#1f77b4\",\"line_width\":3,\"x\":{\"field\":\"x\"},\"y\":{\"field\":\"y\"}},\"id\":\"1057\",\"type\":\"Line\"},{\"attributes\":{\"line_alpha\":0.2,\"line_color\":\"#ff7f0e\",\"line_width\":3,\"x\":{\"field\":\"x\"},\"y\":{\"field\":\"y\"}},\"id\":\"1077\",\"type\":\"Line\"},{\"attributes\":{\"line_alpha\":0.1,\"line_color\":\"#1f77b4\",\"line_width\":3,\"x\":{\"field\":\"x\"},\"y\":{\"field\":\"y\"}},\"id\":\"1056\",\"type\":\"Line\"},{\"attributes\":{\"line_alpha\":0.1,\"line_color\":\"#ff7f0e\",\"line_width\":3,\"x\":{\"field\":\"x\"},\"y\":{\"field\":\"y\"}},\"id\":\"1076\",\"type\":\"Line\"},{\"attributes\":{},\"id\":\"1044\",\"type\":\"BasicTickFormatter\"},{\"attributes\":{\"axis_label\":\"Loss\",\"coordinates\":null,\"formatter\":{\"id\":\"1044\"},\"group\":null,\"major_label_policy\":{\"id\":\"1045\"},\"ticker\":{\"id\":\"1018\"}},\"id\":\"1017\",\"type\":\"LinearAxis\"},{\"attributes\":{\"coordinates\":null,\"data_source\":{\"id\":\"1035\"},\"glyph\":{\"id\":\"1036\"},\"group\":null,\"hover_glyph\":null,\"muted_glyph\":{\"id\":\"1038\"},\"nonselection_glyph\":{\"id\":\"1037\"},\"view\":{\"id\":\"1040\"}},\"id\":\"1039\",\"type\":\"GlyphRenderer\"},{\"attributes\":{\"coordinates\":null,\"group\":null},\"id\":\"1041\",\"type\":\"Title\"},{\"attributes\":{\"axis\":{\"id\":\"1017\"},\"coordinates\":null,\"dimension\":1,\"group\":null,\"ticker\":null},\"id\":\"1020\",\"type\":\"Grid\"},{\"attributes\":{\"source\":{\"id\":\"1074\"}},\"id\":\"1079\",\"type\":\"CDSView\"},{\"attributes\":{},\"id\":\"1093\",\"type\":\"Selection\"},{\"attributes\":{},\"id\":\"1018\",\"type\":\"BasicTicker\"},{\"attributes\":{\"axis_label\":\"iters\",\"coordinates\":null,\"formatter\":{\"id\":\"1047\"},\"group\":null,\"major_label_policy\":{\"id\":\"1048\"},\"ticker\":{\"id\":\"1014\"}},\"id\":\"1013\",\"type\":\"LinearAxis\"},{\"attributes\":{},\"id\":\"1092\",\"type\":\"UnionRenderers\"},{\"attributes\":{},\"id\":\"1005\",\"type\":\"DataRange1d\"},{\"attributes\":{\"line_alpha\":0.1,\"line_color\":\"#1f77b4\",\"line_width\":3,\"x\":{\"field\":\"x\"},\"y\":{\"field\":\"y\"}},\"id\":\"1037\",\"type\":\"Line\"},{\"attributes\":{},\"id\":\"1071\",\"type\":\"Selection\"},{\"attributes\":{\"line_alpha\":0.2,\"line_color\":\"#1f77b4\",\"line_width\":3,\"x\":{\"field\":\"x\"},\"y\":{\"field\":\"y\"}},\"id\":\"1038\",\"type\":\"Line\"},{\"attributes\":{\"source\":{\"id\":\"1035\"}},\"id\":\"1040\",\"type\":\"CDSView\"},{\"attributes\":{},\"id\":\"1049\",\"type\":\"UnionRenderers\"},{\"attributes\":{},\"id\":\"1022\",\"type\":\"WheelZoomTool\"},{\"attributes\":{\"tools\":[{\"id\":\"1021\"},{\"id\":\"1022\"},{\"id\":\"1023\"},{\"id\":\"1024\"},{\"id\":\"1025\"},{\"id\":\"1026\"}]},\"id\":\"1028\",\"type\":\"Toolbar\"},{\"attributes\":{\"line_alpha\":0.3,\"line_color\":\"#1f77b4\",\"line_width\":3,\"x\":{\"field\":\"x\"},\"y\":{\"field\":\"y\"}},\"id\":\"1036\",\"type\":\"Line\"},{\"attributes\":{\"coordinates\":null,\"group\":null,\"items\":[{\"id\":\"1053\"},{\"id\":\"1073\"},{\"id\":\"1095\"}]},\"id\":\"1052\",\"type\":\"Legend\"},{\"attributes\":{},\"id\":\"1048\",\"type\":\"AllLabels\"},{\"attributes\":{},\"id\":\"1025\",\"type\":\"ResetTool\"},{\"attributes\":{\"data\":{\"x\":[0,1,2,3,4,5,6,7,8,9,10,11,12,13,14,15,16,17,18,19,20,21,22,23,24,25,26,27,28,29,30,31,32,33,34,35,36,37,38,39,40,41,42,43,44,45,46,47,48,49,50,51,52,53,54,55,56,57,58,59,60,61,62,63,64,65,66,67,68,69,70,71,72,73,74,75,76,77,78,79,80,81,82,83,84,85,86,87,88,89,90,91,92,93,94,95,96,97,98,99,100,101,102,103,104,105,106,107,108,109,110,111,112,113,114,115,116,117,118,119,120,121,122,123,124,125,126,127,128,129,130,131,132,133,134,135,136,137,138,139,140,141,142,143,144,145,146,147,148,149,150,151,152,153,154,155,156,157,158,159,160,161,162,163,164,165,166,167,168,169,170,171,172,173,174,175,176,177,178,179,180,181,182,183,184,185,186,187,188,189,190,191,192,193,194,195,196,197,198,199,200,201,202,203,204,205,206,207,208,209,210,211,212,213,214,215,216,217,218,219,220,221,222,223,224,225,226,227,228,229,230,231,232,233,234,235,236,237,238,239,240,241,242,243,244,245,246,247,248,249,250,251,252,253,254,255,256,257,258,259,260,261,262,263,264,265,266,267,268,269,270,271,272,273,274,275,276,277,278,279,280,281,282,283,284,285,286,287,288,289,290,291,292,293,294,295,296,297,298,299,300,301,302,303,304,305,306,307,308,309,310,311,312,313,314,315,316,317,318,319,320,321,322,323,324,325,326,327,328,329,330,331,332,333,334,335,336,337,338,339,340,341,342,343,344,345,346,347,348,349,350,351,352,353,354,355,356,357,358,359,360,361,362,363,364,365,366,367,368,369,370,371,372,373,374,375,376,377,378,379,380,381,382,383,384,385,386,387,388,389,390,391,392,393,394,395,396,397,398,399,400,401,402,403,404,405,406,407,408,409,410,411,412,413,414,415,416,417,418,419,420,421,422,423,424,425,426,427,428,429,430,431,432,433,434,435,436,437,438,439,440,441,442,443,444,445,446,447,448,449,450,451,452,453,454,455,456,457,458,459,460,461,462,463,464,465,466,467,468,469,470,471,472,473,474,475,476,477,478,479,480,481,482,483,484,485,486,487,488,489,490,491,492,493,494,495,496,497,498,499,500,501,502,503,504,505,506,507,508,509,510,511,512,513,514,515,516,517,518,519,520,521,522,523,524,525,526,527,528,529,530,531,532,533,534,535,536,537,538,539,540,541,542,543,544,545,546,547,548,549,550,551,552,553,554,555,556,557,558,559,560,561,562,563,564,565,566,567,568,569,570,571,572,573,574,575,576,577,578,579,580,581,582,583,584,585,586,587,588,589,590,591,592,593,594,595,596,597,598,599],\"y\":{\"__ndarray__\":\"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\",\"dtype\":\"float32\",\"order\":\"little\",\"shape\":[600]}},\"selected\":{\"id\":\"1050\"},\"selection_policy\":{\"id\":\"1049\"}},\"id\":\"1035\",\"type\":\"ColumnDataSource\"},{\"attributes\":{},\"id\":\"1024\",\"type\":\"SaveTool\"},{\"attributes\":{},\"id\":\"1045\",\"type\":\"AllLabels\"},{\"attributes\":{\"overlay\":{\"id\":\"1027\"}},\"id\":\"1023\",\"type\":\"BoxZoomTool\"},{\"attributes\":{},\"id\":\"1021\",\"type\":\"PanTool\"},{\"attributes\":{},\"id\":\"1047\",\"type\":\"BasicTickFormatter\"},{\"attributes\":{},\"id\":\"1026\",\"type\":\"HelpTool\"},{\"attributes\":{},\"id\":\"1009\",\"type\":\"LinearScale\"},{\"attributes\":{\"label\":{\"value\":\"Real Non-linear\"},\"renderers\":[{\"id\":\"1039\"}]},\"id\":\"1053\",\"type\":\"LegendItem\"},{\"attributes\":{},\"id\":\"1011\",\"type\":\"LinearScale\"},{\"attributes\":{},\"id\":\"1007\",\"type\":\"DataRange1d\"},{\"attributes\":{},\"id\":\"1050\",\"type\":\"Selection\"},{\"attributes\":{\"coordinates\":null,\"data_source\":{\"id\":\"1074\"},\"glyph\":{\"id\":\"1075\"},\"group\":null,\"hover_glyph\":null,\"muted_glyph\":{\"id\":\"1077\"},\"nonselection_glyph\":{\"id\":\"1076\"},\"view\":{\"id\":\"1079\"}},\"id\":\"1078\",\"type\":\"GlyphRenderer\"},{\"attributes\":{},\"id\":\"1070\",\"type\":\"UnionRenderers\"},{\"attributes\":{},\"id\":\"1014\",\"type\":\"BasicTicker\"},{\"attributes\":{\"axis\":{\"id\":\"1013\"},\"coordinates\":null,\"group\":null,\"ticker\":null},\"id\":\"1016\",\"type\":\"Grid\"},{\"attributes\":{\"coordinates\":null,\"data_source\":{\"id\":\"1054\"},\"glyph\":{\"id\":\"1055\"},\"group\":null,\"hover_glyph\":null,\"muted_glyph\":{\"id\":\"1057\"},\"nonselection_glyph\":{\"id\":\"1056\"},\"view\":{\"id\":\"1059\"}},\"id\":\"1058\",\"type\":\"GlyphRenderer\"}],\"root_ids\":[\"1004\"]},\"title\":\"Bokeh Application\",\"version\":\"2.4.3\"}};\n",
       "  const render_items = [{\"docid\":\"bd439710-564a-4807-accd-db9a9829fb26\",\"root_ids\":[\"1004\"],\"roots\":{\"1004\":\"f875c508-a6a3-4e3b-84b0-b99485a85d3f\"}}];\n",
       "  root.Bokeh.embed.embed_items_notebook(docs_json, render_items);\n",
       "  }\n",
       "  if (root.Bokeh !== undefined) {\n",
       "    embed_document(root);\n",
       "  } else {\n",
       "    let attempts = 0;\n",
       "    const timer = setInterval(function(root) {\n",
       "      if (root.Bokeh !== undefined) {\n",
       "        clearInterval(timer);\n",
       "        embed_document(root);\n",
       "      } else {\n",
       "        attempts++;\n",
       "        if (attempts > 100) {\n",
       "          clearInterval(timer);\n",
       "          console.log(\"Bokeh: ERROR: Unable to run BokehJS code because BokehJS library is missing\");\n",
       "        }\n",
       "      }\n",
       "    }, 10, root)\n",
       "  }\n",
       "})(window);"
      ],
      "application/vnd.bokehjs_exec.v0+json": ""
     },
     "metadata": {
      "application/vnd.bokehjs_exec.v0+json": {
       "id": "1004"
      }
     },
     "output_type": "display_data"
    }
   ],
   "source": [
    "losses = (loss, Loss_t, Loss_t_control)\n",
    "colors = (Category10[10][0], Category10[10][0], Category10[10][1])\n",
    "legends = (\"Real Non-linear\", \"Approximation\", \"Init Control\")\n",
    "alphas = (0.3, 1, 1)\n",
    "\n",
    "s = plot_lines(iters, losses, legends, alphas, colors)\n",
    "show(s)"
   ]
  },
  {
   "cell_type": "code",
   "execution_count": 19,
   "metadata": {
    "ExecuteTime": {
     "end_time": "2022-10-18T16:34:31.368228Z",
     "start_time": "2022-10-18T16:34:31.365539Z"
    }
   },
   "outputs": [],
   "source": [
    "flat_W_t = np.reshape(weights, (weights.shape[0], -1))\n",
    "flat_eq_W_t = np.reshape(W_t, (W_t.shape[0], -1))\n"
   ]
  },
  {
   "cell_type": "code",
   "execution_count": 20,
   "metadata": {
    "ExecuteTime": {
     "end_time": "2022-10-18T16:34:31.851093Z",
     "start_time": "2022-10-18T16:34:31.370675Z"
    }
   },
   "outputs": [
    {
     "data": {
      "text/html": [
       "\n",
       "  <div class=\"bk-root\" id=\"97a019d4-deb4-4bb2-9632-dfbd876f2c14\" data-root-id=\"1186\"></div>\n"
      ]
     },
     "metadata": {},
     "output_type": "display_data"
    },
    {
     "data": {
      "application/javascript": [
       "(function(root) {\n",
       "  function embed_document(root) {\n",
       "  const docs_json = {\"bb849b49-61b4-4285-a4a5-2d230c0137cd\":{\"defs\":[],\"roots\":{\"references\":[{\"attributes\":{\"below\":[{\"id\":\"1197\"}],\"center\":[{\"id\":\"1200\"},{\"id\":\"1204\"},{\"id\":\"1235\"}],\"left\":[{\"id\":\"1201\"}],\"renderers\":[{\"id\":\"1223\"},{\"id\":\"1241\"}],\"title\":{\"id\":\"1187\"},\"toolbar\":{\"id\":\"1212\"},\"x_range\":{\"id\":\"1189\"},\"x_scale\":{\"id\":\"1193\"},\"y_range\":{\"id\":\"1191\"},\"y_scale\":{\"id\":\"1195\"}},\"id\":\"1186\",\"subtype\":\"Figure\",\"type\":\"Plot\"},{\"attributes\":{\"axis_label\":\"Weights\",\"coordinates\":null,\"formatter\":{\"id\":\"1227\"},\"group\":null,\"major_label_policy\":{\"id\":\"1228\"},\"ticker\":{\"id\":\"1202\"}},\"id\":\"1201\",\"type\":\"LinearAxis\"},{\"attributes\":{\"line_alpha\":0.5,\"line_color\":\"#1f77b4\",\"line_dash\":[4,4],\"line_width\":6,\"x\":{\"field\":\"x\"},\"y\":{\"field\":\"y\"}},\"id\":\"1220\",\"type\":\"Line\"},{\"attributes\":{\"line_alpha\":0.1,\"line_color\":\"#1f77b4\",\"line_width\":3,\"x\":{\"field\":\"x\"},\"y\":{\"field\":\"y\"}},\"id\":\"1239\",\"type\":\"Line\"},{\"attributes\":{},\"id\":\"1202\",\"type\":\"BasicTicker\"},{\"attributes\":{\"line_alpha\":0.2,\"line_color\":\"#1f77b4\",\"line_width\":3,\"x\":{\"field\":\"x\"},\"y\":{\"field\":\"y\"}},\"id\":\"1240\",\"type\":\"Line\"},{\"attributes\":{\"label\":{\"value\":\"Equation\"},\"renderers\":[{\"id\":\"1241\"}]},\"id\":\"1255\",\"type\":\"LegendItem\"},{\"attributes\":{},\"id\":\"1195\",\"type\":\"LinearScale\"},{\"attributes\":{\"source\":{\"id\":\"1237\"}},\"id\":\"1242\",\"type\":\"CDSView\"},{\"attributes\":{\"axis_label\":\"iters\",\"coordinates\":null,\"formatter\":{\"id\":\"1230\"},\"group\":null,\"major_label_policy\":{\"id\":\"1231\"},\"ticker\":{\"id\":\"1198\"}},\"id\":\"1197\",\"type\":\"LinearAxis\"},{\"attributes\":{\"coordinates\":null,\"group\":null,\"text\":\"W\"},\"id\":\"1187\",\"type\":\"Title\"},{\"attributes\":{},\"id\":\"1191\",\"type\":\"DataRange1d\"},{\"attributes\":{\"data\":{\"x\":[0,20,40,60,80,100,120,140,160,180,200,220,240,260,280,300,320,340,360,380,400,420,440,460,480,500,520,540,560,580],\"y\":{\"__ndarray__\":\"NOgGO75OIz1YV5g9NEDXPavsBz4rXiE+lL84PqnCTT4e5mA+aQxyPq3DgD7J3Ic+1BOOPojRkz5D9Jg+55SdPvy9oT58pqU+iwCpPksRrD487K4+NUSxPgx/sz7VpbU+gsq3PmJduT6Brro+PSC8PupBvT5EUb4+\",\"dtype\":\"float32\",\"order\":\"little\",\"shape\":[30]}},\"selected\":{\"id\":\"1233\"},\"selection_policy\":{\"id\":\"1232\"}},\"id\":\"1219\",\"type\":\"ColumnDataSource\"},{\"attributes\":{},\"id\":\"1193\",\"type\":\"LinearScale\"},{\"attributes\":{\"tools\":[{\"id\":\"1205\"},{\"id\":\"1206\"},{\"id\":\"1207\"},{\"id\":\"1208\"},{\"id\":\"1209\"},{\"id\":\"1210\"}]},\"id\":\"1212\",\"type\":\"Toolbar\"},{\"attributes\":{\"coordinates\":null,\"group\":null,\"items\":[{\"id\":\"1236\"},{\"id\":\"1255\"}],\"location\":\"bottom_right\"},\"id\":\"1235\",\"type\":\"Legend\"},{\"attributes\":{\"overlay\":{\"id\":\"1211\"}},\"id\":\"1207\",\"type\":\"BoxZoomTool\"},{\"attributes\":{},\"id\":\"1205\",\"type\":\"PanTool\"},{\"attributes\":{},\"id\":\"1210\",\"type\":\"HelpTool\"},{\"attributes\":{\"line_alpha\":0.1,\"line_color\":\"#1f77b4\",\"line_dash\":[4,4],\"line_width\":6,\"x\":{\"field\":\"x\"},\"y\":{\"field\":\"y\"}},\"id\":\"1221\",\"type\":\"Line\"},{\"attributes\":{},\"id\":\"1209\",\"type\":\"ResetTool\"},{\"attributes\":{\"coordinates\":null,\"data_source\":{\"id\":\"1219\"},\"glyph\":{\"id\":\"1220\"},\"group\":null,\"hover_glyph\":null,\"muted_glyph\":{\"id\":\"1222\"},\"nonselection_glyph\":{\"id\":\"1221\"},\"view\":{\"id\":\"1224\"}},\"id\":\"1223\",\"type\":\"GlyphRenderer\"},{\"attributes\":{},\"id\":\"1227\",\"type\":\"BasicTickFormatter\"},{\"attributes\":{\"bottom_units\":\"screen\",\"coordinates\":null,\"fill_alpha\":0.5,\"fill_color\":\"lightgrey\",\"group\":null,\"left_units\":\"screen\",\"level\":\"overlay\",\"line_alpha\":1.0,\"line_color\":\"black\",\"line_dash\":[4,4],\"line_width\":2,\"right_units\":\"screen\",\"syncable\":false,\"top_units\":\"screen\"},\"id\":\"1211\",\"type\":\"BoxAnnotation\"},{\"attributes\":{},\"id\":\"1198\",\"type\":\"BasicTicker\"},{\"attributes\":{},\"id\":\"1231\",\"type\":\"AllLabels\"},{\"attributes\":{\"data\":{\"x\":[0,1,2,3,4,5,6,7,8,9,10,11,12,13,14,15,16,17,18,19,20,21,22,23,24,25,26,27,28,29,30,31,32,33,34,35,36,37,38,39,40,41,42,43,44,45,46,47,48,49,50,51,52,53,54,55,56,57,58,59,60,61,62,63,64,65,66,67,68,69,70,71,72,73,74,75,76,77,78,79,80,81,82,83,84,85,86,87,88,89,90,91,92,93,94,95,96,97,98,99,100,101,102,103,104,105,106,107,108,109,110,111,112,113,114,115,116,117,118,119,120,121,122,123,124,125,126,127,128,129,130,131,132,133,134,135,136,137,138,139,140,141,142,143,144,145,146,147,148,149,150,151,152,153,154,155,156,157,158,159,160,161,162,163,164,165,166,167,168,169,170,171,172,173,174,175,176,177,178,179,180,181,182,183,184,185,186,187,188,189,190,191,192,193,194,195,196,197,198,199,200,201,202,203,204,205,206,207,208,209,210,211,212,213,214,215,216,217,218,219,220,221,222,223,224,225,226,227,228,229,230,231,232,233,234,235,236,237,238,239,240,241,242,243,244,245,246,247,248,249,250,251,252,253,254,255,256,257,258,259,260,261,262,263,264,265,266,267,268,269,270,271,272,273,274,275,276,277,278,279,280,281,282,283,284,285,286,287,288,289,290,291,292,293,294,295,296,297,298,299,300,301,302,303,304,305,306,307,308,309,310,311,312,313,314,315,316,317,318,319,320,321,322,323,324,325,326,327,328,329,330,331,332,333,334,335,336,337,338,339,340,341,342,343,344,345,346,347,348,349,350,351,352,353,354,355,356,357,358,359,360,361,362,363,364,365,366,367,368,369,370,371,372,373,374,375,376,377,378,379,380,381,382,383,384,385,386,387,388,389,390,391,392,393,394,395,396,397,398,399,400,401,402,403,404,405,406,407,408,409,410,411,412,413,414,415,416,417,418,419,420,421,422,423,424,425,426,427,428,429,430,431,432,433,434,435,436,437,438,439,440,441,442,443,444,445,446,447,448,449,450,451,452,453,454,455,456,457,458,459,460,461,462,463,464,465,466,467,468,469,470,471,472,473,474,475,476,477,478,479,480,481,482,483,484,485,486,487,488,489,490,491,492,493,494,495,496,497,498,499,500,501,502,503,504,505,506,507,508,509,510,511,512,513,514,515,516,517,518,519,520,521,522,523,524,525,526,527,528,529,530,531,532,533,534,535,536,537,538,539,540,541,542,543,544,545,546,547,548,549,550,551,552,553,554,555,556,557,558,559,560,561,562,563,564,565,566,567,568,569,570,571,572,573,574,575,576,577,578,579,580,581,582,583,584,585,586,587,588,589,590,591,592,593,594,595,596,597,598,599],\"y\":{\"__ndarray__\":\"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\",\"dtype\":\"float32\",\"order\":\"little\",\"shape\":[600]}},\"selected\":{\"id\":\"1253\"},\"selection_policy\":{\"id\":\"1252\"}},\"id\":\"1237\",\"type\":\"ColumnDataSource\"},{\"attributes\":{},\"id\":\"1208\",\"type\":\"SaveTool\"},{\"attributes\":{\"line_color\":\"#1f77b4\",\"line_width\":3,\"x\":{\"field\":\"x\"},\"y\":{\"field\":\"y\"}},\"id\":\"1238\",\"type\":\"Line\"},{\"attributes\":{\"coordinates\":null,\"data_source\":{\"id\":\"1237\"},\"glyph\":{\"id\":\"1238\"},\"group\":null,\"hover_glyph\":null,\"muted_glyph\":{\"id\":\"1240\"},\"nonselection_glyph\":{\"id\":\"1239\"},\"view\":{\"id\":\"1242\"}},\"id\":\"1241\",\"type\":\"GlyphRenderer\"},{\"attributes\":{\"label\":{\"value\":\"Simulation\"},\"renderers\":[{\"id\":\"1223\"}]},\"id\":\"1236\",\"type\":\"LegendItem\"},{\"attributes\":{},\"id\":\"1232\",\"type\":\"UnionRenderers\"},{\"attributes\":{\"line_alpha\":0.2,\"line_color\":\"#1f77b4\",\"line_dash\":[4,4],\"line_width\":6,\"x\":{\"field\":\"x\"},\"y\":{\"field\":\"y\"}},\"id\":\"1222\",\"type\":\"Line\"},{\"attributes\":{},\"id\":\"1206\",\"type\":\"WheelZoomTool\"},{\"attributes\":{},\"id\":\"1233\",\"type\":\"Selection\"},{\"attributes\":{},\"id\":\"1230\",\"type\":\"BasicTickFormatter\"},{\"attributes\":{},\"id\":\"1228\",\"type\":\"AllLabels\"},{\"attributes\":{},\"id\":\"1253\",\"type\":\"Selection\"},{\"attributes\":{\"axis\":{\"id\":\"1197\"},\"coordinates\":null,\"group\":null,\"ticker\":null},\"id\":\"1200\",\"type\":\"Grid\"},{\"attributes\":{\"axis\":{\"id\":\"1201\"},\"coordinates\":null,\"dimension\":1,\"group\":null,\"ticker\":null},\"id\":\"1204\",\"type\":\"Grid\"},{\"attributes\":{},\"id\":\"1252\",\"type\":\"UnionRenderers\"},{\"attributes\":{},\"id\":\"1189\",\"type\":\"DataRange1d\"},{\"attributes\":{\"source\":{\"id\":\"1219\"}},\"id\":\"1224\",\"type\":\"CDSView\"}],\"root_ids\":[\"1186\"]},\"title\":\"Bokeh Application\",\"version\":\"2.4.3\"}};\n",
       "  const render_items = [{\"docid\":\"bb849b49-61b4-4285-a4a5-2d230c0137cd\",\"root_ids\":[\"1186\"],\"roots\":{\"1186\":\"97a019d4-deb4-4bb2-9632-dfbd876f2c14\"}}];\n",
       "  root.Bokeh.embed.embed_items_notebook(docs_json, render_items);\n",
       "  }\n",
       "  if (root.Bokeh !== undefined) {\n",
       "    embed_document(root);\n",
       "  } else {\n",
       "    let attempts = 0;\n",
       "    const timer = setInterval(function(root) {\n",
       "      if (root.Bokeh !== undefined) {\n",
       "        clearInterval(timer);\n",
       "        embed_document(root);\n",
       "      } else {\n",
       "        attempts++;\n",
       "        if (attempts > 100) {\n",
       "          clearInterval(timer);\n",
       "          console.log(\"Bokeh: ERROR: Unable to run BokehJS code because BokehJS library is missing\");\n",
       "        }\n",
       "      }\n",
       "    }, 10, root)\n",
       "  }\n",
       "})(window);"
      ],
      "application/vnd.bokehjs_exec.v0+json": ""
     },
     "metadata": {
      "application/vnd.bokehjs_exec.v0+json": {
       "id": "1186"
      }
     },
     "output_type": "display_data"
    }
   ],
   "source": [
    "weight_plot = plot_weight_ev(flat_W_t, flat_eq_W_t, iters=weights_iter, iters_set2=iters, title=\"W\")\n",
    "show(weight_plot)"
   ]
  },
  {
   "cell_type": "markdown",
   "metadata": {
    "ExecuteTime": {
     "end_time": "2022-10-11T16:47:21.704342Z",
     "start_time": "2022-10-11T16:47:21.700812Z"
    }
   },
   "source": [
    "## Optimizing control signal"
   ]
  },
  {
   "cell_type": "code",
   "execution_count": 21,
   "metadata": {
    "ExecuteTime": {
     "end_time": "2022-10-18T16:34:31.855800Z",
     "start_time": "2022-10-18T16:34:31.852910Z"
    }
   },
   "outputs": [],
   "source": [
    "iter_control = 700\n",
    "control_params[\"iters_control\"] = iter_control\n",
    "cumulated_reward = []"
   ]
  },
  {
   "cell_type": "code",
   "execution_count": 22,
   "metadata": {
    "ExecuteTime": {
     "end_time": "2022-10-18T16:37:11.352104Z",
     "start_time": "2022-10-18T16:34:31.858273Z"
    },
    "scrolled": true
   },
   "outputs": [
    {
     "name": "stderr",
     "output_type": "stream",
     "text": [
      "100%|████████████████████████████████████████████████████████████████████████████████████████████████████████████████████████████████████████████████████████████████████████████| 700/700 [02:09<00:00,  5.39it/s]\n"
     ]
    }
   ],
   "source": [
    "for i in tqdm(range(iter_control)):\n",
    "    R = control.train_step(get_numpy=True)\n",
    "    # print(\"cumulated reward:\", R)\n",
    "    cumulated_reward.append(R)\n",
    "cumulated_reward = np.array(cumulated_reward).astype(float)\n",
    "results_dict[\"cumulated_reward_opt\"] = cumulated_reward"
   ]
  },
  {
   "cell_type": "code",
   "execution_count": 23,
   "metadata": {
    "ExecuteTime": {
     "end_time": "2022-10-18T16:37:11.430746Z",
     "start_time": "2022-10-18T16:37:11.353022Z"
    }
   },
   "outputs": [
    {
     "data": {
      "text/html": [
       "\n",
       "  <div class=\"bk-root\" id=\"62d3db9c-09d1-4e29-a776-af237a04e07d\" data-root-id=\"1343\"></div>\n"
      ]
     },
     "metadata": {},
     "output_type": "display_data"
    },
    {
     "data": {
      "application/javascript": [
       "(function(root) {\n",
       "  function embed_document(root) {\n",
       "  const docs_json = {\"39c03870-de0b-45a2-be94-5514e55f79e8\":{\"defs\":[],\"roots\":{\"references\":[{\"attributes\":{\"below\":[{\"id\":\"1352\"}],\"center\":[{\"id\":\"1355\"},{\"id\":\"1359\"},{\"id\":\"1391\"}],\"height\":500,\"left\":[{\"id\":\"1356\"}],\"renderers\":[{\"id\":\"1378\"}],\"title\":{\"id\":\"1380\"},\"toolbar\":{\"id\":\"1367\"},\"width\":800,\"x_range\":{\"id\":\"1344\"},\"x_scale\":{\"id\":\"1348\"},\"y_range\":{\"id\":\"1346\"},\"y_scale\":{\"id\":\"1350\"}},\"id\":\"1343\",\"subtype\":\"Figure\",\"type\":\"Plot\"},{\"attributes\":{\"bottom_units\":\"screen\",\"coordinates\":null,\"fill_alpha\":0.5,\"fill_color\":\"lightgrey\",\"group\":null,\"left_units\":\"screen\",\"level\":\"overlay\",\"line_alpha\":1.0,\"line_color\":\"black\",\"line_dash\":[4,4],\"line_width\":2,\"right_units\":\"screen\",\"syncable\":false,\"top_units\":\"screen\"},\"id\":\"1366\",\"type\":\"BoxAnnotation\"},{\"attributes\":{},\"id\":\"1384\",\"type\":\"AllLabels\"},{\"attributes\":{\"axis_label\":\"Cumulated reward\",\"coordinates\":null,\"formatter\":{\"id\":\"1383\"},\"group\":null,\"major_label_policy\":{\"id\":\"1384\"},\"ticker\":{\"id\":\"1357\"}},\"id\":\"1356\",\"type\":\"LinearAxis\"},{\"attributes\":{\"coordinates\":null,\"data_source\":{\"id\":\"1374\"},\"glyph\":{\"id\":\"1375\"},\"group\":null,\"hover_glyph\":null,\"muted_glyph\":{\"id\":\"1377\"},\"nonselection_glyph\":{\"id\":\"1376\"},\"view\":{\"id\":\"1379\"}},\"id\":\"1378\",\"type\":\"GlyphRenderer\"},{\"attributes\":{\"tools\":[{\"id\":\"1360\"},{\"id\":\"1361\"},{\"id\":\"1362\"},{\"id\":\"1363\"},{\"id\":\"1364\"},{\"id\":\"1365\"}]},\"id\":\"1367\",\"type\":\"Toolbar\"},{\"attributes\":{},\"id\":\"1348\",\"type\":\"LinearScale\"},{\"attributes\":{\"line_alpha\":0.2,\"line_color\":\"#1f77b4\",\"line_width\":3,\"x\":{\"field\":\"x\"},\"y\":{\"field\":\"y\"}},\"id\":\"1377\",\"type\":\"Line\"},{\"attributes\":{},\"id\":\"1350\",\"type\":\"LinearScale\"},{\"attributes\":{\"line_alpha\":0.1,\"line_color\":\"#1f77b4\",\"line_width\":3,\"x\":{\"field\":\"x\"},\"y\":{\"field\":\"y\"}},\"id\":\"1376\",\"type\":\"Line\"},{\"attributes\":{\"label\":{\"value\":\"\"},\"renderers\":[{\"id\":\"1378\"}]},\"id\":\"1392\",\"type\":\"LegendItem\"},{\"attributes\":{\"coordinates\":null,\"group\":null,\"items\":[{\"id\":\"1392\"}]},\"id\":\"1391\",\"type\":\"Legend\"},{\"attributes\":{},\"id\":\"1361\",\"type\":\"WheelZoomTool\"},{\"attributes\":{},\"id\":\"1388\",\"type\":\"UnionRenderers\"},{\"attributes\":{},\"id\":\"1353\",\"type\":\"BasicTicker\"},{\"attributes\":{\"coordinates\":null,\"group\":null},\"id\":\"1380\",\"type\":\"Title\"},{\"attributes\":{\"axis_label\":\"gradient steps on control\",\"coordinates\":null,\"formatter\":{\"id\":\"1386\"},\"group\":null,\"major_label_policy\":{\"id\":\"1387\"},\"ticker\":{\"id\":\"1353\"}},\"id\":\"1352\",\"type\":\"LinearAxis\"},{\"attributes\":{\"axis\":{\"id\":\"1352\"},\"coordinates\":null,\"group\":null,\"ticker\":null},\"id\":\"1355\",\"type\":\"Grid\"},{\"attributes\":{},\"id\":\"1389\",\"type\":\"Selection\"},{\"attributes\":{\"line_color\":\"#1f77b4\",\"line_width\":3,\"x\":{\"field\":\"x\"},\"y\":{\"field\":\"y\"}},\"id\":\"1375\",\"type\":\"Line\"},{\"attributes\":{},\"id\":\"1344\",\"type\":\"DataRange1d\"},{\"attributes\":{},\"id\":\"1387\",\"type\":\"AllLabels\"},{\"attributes\":{\"data\":{\"x\":[0,1,2,3,4,5,6,7,8,9,10,11,12,13,14,15,16,17,18,19,20,21,22,23,24,25,26,27,28,29,30,31,32,33,34,35,36,37,38,39,40,41,42,43,44,45,46,47,48,49,50,51,52,53,54,55,56,57,58,59,60,61,62,63,64,65,66,67,68,69,70,71,72,73,74,75,76,77,78,79,80,81,82,83,84,85,86,87,88,89,90,91,92,93,94,95,96,97,98,99,100,101,102,103,104,105,106,107,108,109,110,111,112,113,114,115,116,117,118,119,120,121,122,123,124,125,126,127,128,129,130,131,132,133,134,135,136,137,138,139,140,141,142,143,144,145,146,147,148,149,150,151,152,153,154,155,156,157,158,159,160,161,162,163,164,165,166,167,168,169,170,171,172,173,174,175,176,177,178,179,180,181,182,183,184,185,186,187,188,189,190,191,192,193,194,195,196,197,198,199,200,201,202,203,204,205,206,207,208,209,210,211,212,213,214,215,216,217,218,219,220,221,222,223,224,225,226,227,228,229,230,231,232,233,234,235,236,237,238,239,240,241,242,243,244,245,246,247,248,249,250,251,252,253,254,255,256,257,258,259,260,261,262,263,264,265,266,267,268,269,270,271,272,273,274,275,276,277,278,279,280,281,282,283,284,285,286,287,288,289,290,291,292,293,294,295,296,297,298,299,300,301,302,303,304,305,306,307,308,309,310,311,312,313,314,315,316,317,318,319,320,321,322,323,324,325,326,327,328,329,330,331,332,333,334,335,336,337,338,339,340,341,342,343,344,345,346,347,348,349,350,351,352,353,354,355,356,357,358,359,360,361,362,363,364,365,366,367,368,369,370,371,372,373,374,375,376,377,378,379,380,381,382,383,384,385,386,387,388,389,390,391,392,393,394,395,396,397,398,399,400,401,402,403,404,405,406,407,408,409,410,411,412,413,414,415,416,417,418,419,420,421,422,423,424,425,426,427,428,429,430,431,432,433,434,435,436,437,438,439,440,441,442,443,444,445,446,447,448,449,450,451,452,453,454,455,456,457,458,459,460,461,462,463,464,465,466,467,468,469,470,471,472,473,474,475,476,477,478,479,480,481,482,483,484,485,486,487,488,489,490,491,492,493,494,495,496,497,498,499,500,501,502,503,504,505,506,507,508,509,510,511,512,513,514,515,516,517,518,519,520,521,522,523,524,525,526,527,528,529,530,531,532,533,534,535,536,537,538,539,540,541,542,543,544,545,546,547,548,549,550,551,552,553,554,555,556,557,558,559,560,561,562,563,564,565,566,567,568,569,570,571,572,573,574,575,576,577,578,579,580,581,582,583,584,585,586,587,588,589,590,591,592,593,594,595,596,597,598,599,600,601,602,603,604,605,606,607,608,609,610,611,612,613,614,615,616,617,618,619,620,621,622,623,624,625,626,627,628,629,630,631,632,633,634,635,636,637,638,639,640,641,642,643,644,645,646,647,648,649,650,651,652,653,654,655,656,657,658,659,660,661,662,663,664,665,666,667,668,669,670,671,672,673,674,675,676,677,678,679,680,681,682,683,684,685,686,687,688,689,690,691,692,693,694,695,696,697,698,699],\"y\":{\"__ndarray__\":\"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\",\"dtype\":\"float64\",\"order\":\"little\",\"shape\":[700]}},\"selected\":{\"id\":\"1389\"},\"selection_policy\":{\"id\":\"1388\"}},\"id\":\"1374\",\"type\":\"ColumnDataSource\"},{\"attributes\":{\"axis\":{\"id\":\"1356\"},\"coordinates\":null,\"dimension\":1,\"group\":null,\"ticker\":null},\"id\":\"1359\",\"type\":\"Grid\"},{\"attributes\":{},\"id\":\"1357\",\"type\":\"BasicTicker\"},{\"attributes\":{},\"id\":\"1346\",\"type\":\"DataRange1d\"},{\"attributes\":{},\"id\":\"1365\",\"type\":\"HelpTool\"},{\"attributes\":{},\"id\":\"1360\",\"type\":\"PanTool\"},{\"attributes\":{\"overlay\":{\"id\":\"1366\"}},\"id\":\"1362\",\"type\":\"BoxZoomTool\"},{\"attributes\":{},\"id\":\"1363\",\"type\":\"SaveTool\"},{\"attributes\":{},\"id\":\"1386\",\"type\":\"BasicTickFormatter\"},{\"attributes\":{},\"id\":\"1364\",\"type\":\"ResetTool\"},{\"attributes\":{\"source\":{\"id\":\"1374\"}},\"id\":\"1379\",\"type\":\"CDSView\"},{\"attributes\":{},\"id\":\"1383\",\"type\":\"BasicTickFormatter\"}],\"root_ids\":[\"1343\"]},\"title\":\"Bokeh Application\",\"version\":\"2.4.3\"}};\n",
       "  const render_items = [{\"docid\":\"39c03870-de0b-45a2-be94-5514e55f79e8\",\"root_ids\":[\"1343\"],\"roots\":{\"1343\":\"62d3db9c-09d1-4e29-a776-af237a04e07d\"}}];\n",
       "  root.Bokeh.embed.embed_items_notebook(docs_json, render_items);\n",
       "  }\n",
       "  if (root.Bokeh !== undefined) {\n",
       "    embed_document(root);\n",
       "  } else {\n",
       "    let attempts = 0;\n",
       "    const timer = setInterval(function(root) {\n",
       "      if (root.Bokeh !== undefined) {\n",
       "        clearInterval(timer);\n",
       "        embed_document(root);\n",
       "      } else {\n",
       "        attempts++;\n",
       "        if (attempts > 100) {\n",
       "          clearInterval(timer);\n",
       "          console.log(\"Bokeh: ERROR: Unable to run BokehJS code because BokehJS library is missing\");\n",
       "        }\n",
       "      }\n",
       "    }, 10, root)\n",
       "  }\n",
       "})(window);"
      ],
      "application/vnd.bokehjs_exec.v0+json": ""
     },
     "metadata": {
      "application/vnd.bokehjs_exec.v0+json": {
       "id": "1343"
      }
     },
     "output_type": "display_data"
    }
   ],
   "source": [
    "opt = plot_lines(np.arange(iter_control), (cumulated_reward,), x_axis_label=\"gradient steps on control\", y_axis_label=\"Cumulated reward\")\n",
    "show(opt)"
   ]
  },
  {
   "cell_type": "code",
   "execution_count": 24,
   "metadata": {
    "ExecuteTime": {
     "end_time": "2022-10-18T16:37:12.615333Z",
     "start_time": "2022-10-18T16:37:11.431665Z"
    }
   },
   "outputs": [],
   "source": [
    "W_t_opt = control.get_weights(time_span, get_numpy=True)\n",
    "Loss_t_opt = control.get_loss_function(W_t_opt, get_numpy=True)\n",
    "\n",
    "results_dict[\"W_t_control_opt\"] = W_t_opt\n",
    "results_dict[\"Loss_t_control_opt\"] = Loss_t_opt"
   ]
  },
  {
   "cell_type": "code",
   "execution_count": 25,
   "metadata": {
    "ExecuteTime": {
     "end_time": "2022-10-18T16:37:12.723992Z",
     "start_time": "2022-10-18T16:37:12.616336Z"
    }
   },
   "outputs": [
    {
     "data": {
      "text/html": [
       "\n",
       "  <div class=\"bk-root\" id=\"f0cb32b3-679b-44f8-8c13-2f9fa9ac38b8\" data-root-id=\"1486\"></div>\n"
      ]
     },
     "metadata": {},
     "output_type": "display_data"
    },
    {
     "data": {
      "application/javascript": [
       "(function(root) {\n",
       "  function embed_document(root) {\n",
       "  const docs_json = {\"0f4375f9-7cc2-4fa3-86b6-560a2dce1135\":{\"defs\":[],\"roots\":{\"references\":[{\"attributes\":{\"below\":[{\"id\":\"1495\"}],\"center\":[{\"id\":\"1498\"},{\"id\":\"1502\"},{\"id\":\"1534\"}],\"height\":500,\"left\":[{\"id\":\"1499\"}],\"renderers\":[{\"id\":\"1521\"},{\"id\":\"1540\"},{\"id\":\"1560\"}],\"title\":{\"id\":\"1523\"},\"toolbar\":{\"id\":\"1510\"},\"width\":800,\"x_range\":{\"id\":\"1487\"},\"x_scale\":{\"id\":\"1491\"},\"y_range\":{\"id\":\"1489\"},\"y_scale\":{\"id\":\"1493\"}},\"id\":\"1486\",\"subtype\":\"Figure\",\"type\":\"Plot\"},{\"attributes\":{\"label\":{\"value\":\"Approximated Optimized Control\"},\"renderers\":[{\"id\":\"1560\"}]},\"id\":\"1577\",\"type\":\"LegendItem\"},{\"attributes\":{\"line_alpha\":0.2,\"line_color\":\"#ff7f0e\",\"line_width\":3,\"x\":{\"field\":\"x\"},\"y\":{\"field\":\"y\"}},\"id\":\"1559\",\"type\":\"Line\"},{\"attributes\":{\"line_alpha\":0.1,\"line_color\":\"#ff7f0e\",\"line_width\":3,\"x\":{\"field\":\"x\"},\"y\":{\"field\":\"y\"}},\"id\":\"1558\",\"type\":\"Line\"},{\"attributes\":{},\"id\":\"1491\",\"type\":\"LinearScale\"},{\"attributes\":{},\"id\":\"1508\",\"type\":\"HelpTool\"},{\"attributes\":{},\"id\":\"1489\",\"type\":\"DataRange1d\"},{\"attributes\":{\"coordinates\":null,\"data_source\":{\"id\":\"1556\"},\"glyph\":{\"id\":\"1557\"},\"group\":null,\"hover_glyph\":null,\"muted_glyph\":{\"id\":\"1559\"},\"nonselection_glyph\":{\"id\":\"1558\"},\"view\":{\"id\":\"1561\"}},\"id\":\"1560\",\"type\":\"GlyphRenderer\"},{\"attributes\":{},\"id\":\"1493\",\"type\":\"LinearScale\"},{\"attributes\":{},\"id\":\"1503\",\"type\":\"PanTool\"},{\"attributes\":{\"overlay\":{\"id\":\"1509\"}},\"id\":\"1505\",\"type\":\"BoxZoomTool\"},{\"attributes\":{\"line_alpha\":0.1,\"line_color\":\"#1f77b4\",\"line_width\":3,\"x\":{\"field\":\"x\"},\"y\":{\"field\":\"y\"}},\"id\":\"1519\",\"type\":\"Line\"},{\"attributes\":{\"coordinates\":null,\"group\":null},\"id\":\"1523\",\"type\":\"Title\"},{\"attributes\":{\"coordinates\":null,\"group\":null,\"items\":[{\"id\":\"1535\"},{\"id\":\"1555\"},{\"id\":\"1577\"}]},\"id\":\"1534\",\"type\":\"Legend\"},{\"attributes\":{},\"id\":\"1496\",\"type\":\"BasicTicker\"},{\"attributes\":{\"coordinates\":null,\"data_source\":{\"id\":\"1517\"},\"glyph\":{\"id\":\"1518\"},\"group\":null,\"hover_glyph\":null,\"muted_glyph\":{\"id\":\"1520\"},\"nonselection_glyph\":{\"id\":\"1519\"},\"view\":{\"id\":\"1522\"}},\"id\":\"1521\",\"type\":\"GlyphRenderer\"},{\"attributes\":{},\"id\":\"1531\",\"type\":\"UnionRenderers\"},{\"attributes\":{\"tools\":[{\"id\":\"1503\"},{\"id\":\"1504\"},{\"id\":\"1505\"},{\"id\":\"1506\"},{\"id\":\"1507\"},{\"id\":\"1508\"}]},\"id\":\"1510\",\"type\":\"Toolbar\"},{\"attributes\":{\"axis\":{\"id\":\"1499\"},\"coordinates\":null,\"dimension\":1,\"group\":null,\"ticker\":null},\"id\":\"1502\",\"type\":\"Grid\"},{\"attributes\":{},\"id\":\"1487\",\"type\":\"DataRange1d\"},{\"attributes\":{},\"id\":\"1504\",\"type\":\"WheelZoomTool\"},{\"attributes\":{\"source\":{\"id\":\"1517\"}},\"id\":\"1522\",\"type\":\"CDSView\"},{\"attributes\":{},\"id\":\"1500\",\"type\":\"BasicTicker\"},{\"attributes\":{},\"id\":\"1532\",\"type\":\"Selection\"},{\"attributes\":{\"label\":{\"value\":\"Real Non-linear\"},\"renderers\":[{\"id\":\"1521\"}]},\"id\":\"1535\",\"type\":\"LegendItem\"},{\"attributes\":{\"coordinates\":null,\"data_source\":{\"id\":\"1536\"},\"glyph\":{\"id\":\"1537\"},\"group\":null,\"hover_glyph\":null,\"muted_glyph\":{\"id\":\"1539\"},\"nonselection_glyph\":{\"id\":\"1538\"},\"view\":{\"id\":\"1541\"}},\"id\":\"1540\",\"type\":\"GlyphRenderer\"},{\"attributes\":{\"axis_label\":\"Loss\",\"coordinates\":null,\"formatter\":{\"id\":\"1526\"},\"group\":null,\"major_label_policy\":{\"id\":\"1527\"},\"ticker\":{\"id\":\"1500\"}},\"id\":\"1499\",\"type\":\"LinearAxis\"},{\"attributes\":{\"line_color\":\"#1f77b4\",\"line_width\":3,\"x\":{\"field\":\"x\"},\"y\":{\"field\":\"y\"}},\"id\":\"1537\",\"type\":\"Line\"},{\"attributes\":{},\"id\":\"1526\",\"type\":\"BasicTickFormatter\"},{\"attributes\":{\"label\":{\"value\":\"Approximation\"},\"renderers\":[{\"id\":\"1540\"}]},\"id\":\"1555\",\"type\":\"LegendItem\"},{\"attributes\":{\"data\":{\"x\":[0,1,2,3,4,5,6,7,8,9,10,11,12,13,14,15,16,17,18,19,20,21,22,23,24,25,26,27,28,29,30,31,32,33,34,35,36,37,38,39,40,41,42,43,44,45,46,47,48,49,50,51,52,53,54,55,56,57,58,59,60,61,62,63,64,65,66,67,68,69,70,71,72,73,74,75,76,77,78,79,80,81,82,83,84,85,86,87,88,89,90,91,92,93,94,95,96,97,98,99,100,101,102,103,104,105,106,107,108,109,110,111,112,113,114,115,116,117,118,119,120,121,122,123,124,125,126,127,128,129,130,131,132,133,134,135,136,137,138,139,140,141,142,143,144,145,146,147,148,149,150,151,152,153,154,155,156,157,158,159,160,161,162,163,164,165,166,167,168,169,170,171,172,173,174,175,176,177,178,179,180,181,182,183,184,185,186,187,188,189,190,191,192,193,194,195,196,197,198,199,200,201,202,203,204,205,206,207,208,209,210,211,212,213,214,215,216,217,218,219,220,221,222,223,224,225,226,227,228,229,230,231,232,233,234,235,236,237,238,239,240,241,242,243,244,245,246,247,248,249,250,251,252,253,254,255,256,257,258,259,260,261,262,263,264,265,266,267,268,269,270,271,272,273,274,275,276,277,278,279,280,281,282,283,284,285,286,287,288,289,290,291,292,293,294,295,296,297,298,299,300,301,302,303,304,305,306,307,308,309,310,311,312,313,314,315,316,317,318,319,320,321,322,323,324,325,326,327,328,329,330,331,332,333,334,335,336,337,338,339,340,341,342,343,344,345,346,347,348,349,350,351,352,353,354,355,356,357,358,359,360,361,362,363,364,365,366,367,368,369,370,371,372,373,374,375,376,377,378,379,380,381,382,383,384,385,386,387,388,389,390,391,392,393,394,395,396,397,398,399,400,401,402,403,404,405,406,407,408,409,410,411,412,413,414,415,416,417,418,419,420,421,422,423,424,425,426,427,428,429,430,431,432,433,434,435,436,437,438,439,440,441,442,443,444,445,446,447,448,449,450,451,452,453,454,455,456,457,458,459,460,461,462,463,464,465,466,467,468,469,470,471,472,473,474,475,476,477,478,479,480,481,482,483,484,485,486,487,488,489,490,491,492,493,494,495,496,497,498,499,500,501,502,503,504,505,506,507,508,509,510,511,512,513,514,515,516,517,518,519,520,521,522,523,524,525,526,527,528,529,530,531,532,533,534,535,536,537,538,539,540,541,542,543,544,545,546,547,548,549,550,551,552,553,554,555,556,557,558,559,560,561,562,563,564,565,566,567,568,569,570,571,572,573,574,575,576,577,578,579,580,581,582,583,584,585,586,587,588,589,590,591,592,593,594,595,596,597,598,599],\"y\":{\"__ndarray__\":\"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\",\"dtype\":\"float32\",\"order\":\"little\",\"shape\":[600]}},\"selected\":{\"id\":\"1553\"},\"selection_policy\":{\"id\":\"1552\"}},\"id\":\"1536\",\"type\":\"ColumnDataSource\"},{\"attributes\":{},\"id\":\"1575\",\"type\":\"Selection\"},{\"attributes\":{\"line_alpha\":0.3,\"line_color\":\"#1f77b4\",\"line_width\":3,\"x\":{\"field\":\"x\"},\"y\":{\"field\":\"y\"}},\"id\":\"1518\",\"type\":\"Line\"},{\"attributes\":{\"source\":{\"id\":\"1556\"}},\"id\":\"1561\",\"type\":\"CDSView\"},{\"attributes\":{},\"id\":\"1574\",\"type\":\"UnionRenderers\"},{\"attributes\":{\"line_alpha\":0.2,\"line_color\":\"#1f77b4\",\"line_width\":3,\"x\":{\"field\":\"x\"},\"y\":{\"field\":\"y\"}},\"id\":\"1539\",\"type\":\"Line\"},{\"attributes\":{\"axis\":{\"id\":\"1495\"},\"coordinates\":null,\"group\":null,\"ticker\":null},\"id\":\"1498\",\"type\":\"Grid\"},{\"attributes\":{\"line_alpha\":0.1,\"line_color\":\"#1f77b4\",\"line_width\":3,\"x\":{\"field\":\"x\"},\"y\":{\"field\":\"y\"}},\"id\":\"1538\",\"type\":\"Line\"},{\"attributes\":{},\"id\":\"1529\",\"type\":\"BasicTickFormatter\"},{\"attributes\":{\"source\":{\"id\":\"1536\"}},\"id\":\"1541\",\"type\":\"CDSView\"},{\"attributes\":{\"line_color\":\"#ff7f0e\",\"line_width\":3,\"x\":{\"field\":\"x\"},\"y\":{\"field\":\"y\"}},\"id\":\"1557\",\"type\":\"Line\"},{\"attributes\":{},\"id\":\"1527\",\"type\":\"AllLabels\"},{\"attributes\":{},\"id\":\"1552\",\"type\":\"UnionRenderers\"},{\"attributes\":{\"data\":{\"x\":[0,1,2,3,4,5,6,7,8,9,10,11,12,13,14,15,16,17,18,19,20,21,22,23,24,25,26,27,28,29,30,31,32,33,34,35,36,37,38,39,40,41,42,43,44,45,46,47,48,49,50,51,52,53,54,55,56,57,58,59,60,61,62,63,64,65,66,67,68,69,70,71,72,73,74,75,76,77,78,79,80,81,82,83,84,85,86,87,88,89,90,91,92,93,94,95,96,97,98,99,100,101,102,103,104,105,106,107,108,109,110,111,112,113,114,115,116,117,118,119,120,121,122,123,124,125,126,127,128,129,130,131,132,133,134,135,136,137,138,139,140,141,142,143,144,145,146,147,148,149,150,151,152,153,154,155,156,157,158,159,160,161,162,163,164,165,166,167,168,169,170,171,172,173,174,175,176,177,178,179,180,181,182,183,184,185,186,187,188,189,190,191,192,193,194,195,196,197,198,199,200,201,202,203,204,205,206,207,208,209,210,211,212,213,214,215,216,217,218,219,220,221,222,223,224,225,226,227,228,229,230,231,232,233,234,235,236,237,238,239,240,241,242,243,244,245,246,247,248,249,250,251,252,253,254,255,256,257,258,259,260,261,262,263,264,265,266,267,268,269,270,271,272,273,274,275,276,277,278,279,280,281,282,283,284,285,286,287,288,289,290,291,292,293,294,295,296,297,298,299,300,301,302,303,304,305,306,307,308,309,310,311,312,313,314,315,316,317,318,319,320,321,322,323,324,325,326,327,328,329,330,331,332,333,334,335,336,337,338,339,340,341,342,343,344,345,346,347,348,349,350,351,352,353,354,355,356,357,358,359,360,361,362,363,364,365,366,367,368,369,370,371,372,373,374,375,376,377,378,379,380,381,382,383,384,385,386,387,388,389,390,391,392,393,394,395,396,397,398,399,400,401,402,403,404,405,406,407,408,409,410,411,412,413,414,415,416,417,418,419,420,421,422,423,424,425,426,427,428,429,430,431,432,433,434,435,436,437,438,439,440,441,442,443,444,445,446,447,448,449,450,451,452,453,454,455,456,457,458,459,460,461,462,463,464,465,466,467,468,469,470,471,472,473,474,475,476,477,478,479,480,481,482,483,484,485,486,487,488,489,490,491,492,493,494,495,496,497,498,499,500,501,502,503,504,505,506,507,508,509,510,511,512,513,514,515,516,517,518,519,520,521,522,523,524,525,526,527,528,529,530,531,532,533,534,535,536,537,538,539,540,541,542,543,544,545,546,547,548,549,550,551,552,553,554,555,556,557,558,559,560,561,562,563,564,565,566,567,568,569,570,571,572,573,574,575,576,577,578,579,580,581,582,583,584,585,586,587,588,589,590,591,592,593,594,595,596,597,598,599],\"y\":{\"__ndarray__\":\"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\",\"dtype\":\"float32\",\"order\":\"little\",\"shape\":[600]}},\"selected\":{\"id\":\"1575\"},\"selection_policy\":{\"id\":\"1574\"}},\"id\":\"1556\",\"type\":\"ColumnDataSource\"},{\"attributes\":{},\"id\":\"1507\",\"type\":\"ResetTool\"},{\"attributes\":{\"line_alpha\":0.2,\"line_color\":\"#1f77b4\",\"line_width\":3,\"x\":{\"field\":\"x\"},\"y\":{\"field\":\"y\"}},\"id\":\"1520\",\"type\":\"Line\"},{\"attributes\":{\"data\":{\"x\":[0,1,2,3,4,5,6,7,8,9,10,11,12,13,14,15,16,17,18,19,20,21,22,23,24,25,26,27,28,29,30,31,32,33,34,35,36,37,38,39,40,41,42,43,44,45,46,47,48,49,50,51,52,53,54,55,56,57,58,59,60,61,62,63,64,65,66,67,68,69,70,71,72,73,74,75,76,77,78,79,80,81,82,83,84,85,86,87,88,89,90,91,92,93,94,95,96,97,98,99,100,101,102,103,104,105,106,107,108,109,110,111,112,113,114,115,116,117,118,119,120,121,122,123,124,125,126,127,128,129,130,131,132,133,134,135,136,137,138,139,140,141,142,143,144,145,146,147,148,149,150,151,152,153,154,155,156,157,158,159,160,161,162,163,164,165,166,167,168,169,170,171,172,173,174,175,176,177,178,179,180,181,182,183,184,185,186,187,188,189,190,191,192,193,194,195,196,197,198,199,200,201,202,203,204,205,206,207,208,209,210,211,212,213,214,215,216,217,218,219,220,221,222,223,224,225,226,227,228,229,230,231,232,233,234,235,236,237,238,239,240,241,242,243,244,245,246,247,248,249,250,251,252,253,254,255,256,257,258,259,260,261,262,263,264,265,266,267,268,269,270,271,272,273,274,275,276,277,278,279,280,281,282,283,284,285,286,287,288,289,290,291,292,293,294,295,296,297,298,299,300,301,302,303,304,305,306,307,308,309,310,311,312,313,314,315,316,317,318,319,320,321,322,323,324,325,326,327,328,329,330,331,332,333,334,335,336,337,338,339,340,341,342,343,344,345,346,347,348,349,350,351,352,353,354,355,356,357,358,359,360,361,362,363,364,365,366,367,368,369,370,371,372,373,374,375,376,377,378,379,380,381,382,383,384,385,386,387,388,389,390,391,392,393,394,395,396,397,398,399,400,401,402,403,404,405,406,407,408,409,410,411,412,413,414,415,416,417,418,419,420,421,422,423,424,425,426,427,428,429,430,431,432,433,434,435,436,437,438,439,440,441,442,443,444,445,446,447,448,449,450,451,452,453,454,455,456,457,458,459,460,461,462,463,464,465,466,467,468,469,470,471,472,473,474,475,476,477,478,479,480,481,482,483,484,485,486,487,488,489,490,491,492,493,494,495,496,497,498,499,500,501,502,503,504,505,506,507,508,509,510,511,512,513,514,515,516,517,518,519,520,521,522,523,524,525,526,527,528,529,530,531,532,533,534,535,536,537,538,539,540,541,542,543,544,545,546,547,548,549,550,551,552,553,554,555,556,557,558,559,560,561,562,563,564,565,566,567,568,569,570,571,572,573,574,575,576,577,578,579,580,581,582,583,584,585,586,587,588,589,590,591,592,593,594,595,596,597,598,599],\"y\":{\"__ndarray__\":\"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\",\"dtype\":\"float32\",\"order\":\"little\",\"shape\":[600]}},\"selected\":{\"id\":\"1532\"},\"selection_policy\":{\"id\":\"1531\"}},\"id\":\"1517\",\"type\":\"ColumnDataSource\"},{\"attributes\":{},\"id\":\"1530\",\"type\":\"AllLabels\"},{\"attributes\":{\"bottom_units\":\"screen\",\"coordinates\":null,\"fill_alpha\":0.5,\"fill_color\":\"lightgrey\",\"group\":null,\"left_units\":\"screen\",\"level\":\"overlay\",\"line_alpha\":1.0,\"line_color\":\"black\",\"line_dash\":[4,4],\"line_width\":2,\"right_units\":\"screen\",\"syncable\":false,\"top_units\":\"screen\"},\"id\":\"1509\",\"type\":\"BoxAnnotation\"},{\"attributes\":{},\"id\":\"1553\",\"type\":\"Selection\"},{\"attributes\":{\"axis_label\":\"iters\",\"coordinates\":null,\"formatter\":{\"id\":\"1529\"},\"group\":null,\"major_label_policy\":{\"id\":\"1530\"},\"ticker\":{\"id\":\"1496\"}},\"id\":\"1495\",\"type\":\"LinearAxis\"},{\"attributes\":{},\"id\":\"1506\",\"type\":\"SaveTool\"}],\"root_ids\":[\"1486\"]},\"title\":\"Bokeh Application\",\"version\":\"2.4.3\"}};\n",
       "  const render_items = [{\"docid\":\"0f4375f9-7cc2-4fa3-86b6-560a2dce1135\",\"root_ids\":[\"1486\"],\"roots\":{\"1486\":\"f0cb32b3-679b-44f8-8c13-2f9fa9ac38b8\"}}];\n",
       "  root.Bokeh.embed.embed_items_notebook(docs_json, render_items);\n",
       "  }\n",
       "  if (root.Bokeh !== undefined) {\n",
       "    embed_document(root);\n",
       "  } else {\n",
       "    let attempts = 0;\n",
       "    const timer = setInterval(function(root) {\n",
       "      if (root.Bokeh !== undefined) {\n",
       "        clearInterval(timer);\n",
       "        embed_document(root);\n",
       "      } else {\n",
       "        attempts++;\n",
       "        if (attempts > 100) {\n",
       "          clearInterval(timer);\n",
       "          console.log(\"Bokeh: ERROR: Unable to run BokehJS code because BokehJS library is missing\");\n",
       "        }\n",
       "      }\n",
       "    }, 10, root)\n",
       "  }\n",
       "})(window);"
      ],
      "application/vnd.bokehjs_exec.v0+json": ""
     },
     "metadata": {
      "application/vnd.bokehjs_exec.v0+json": {
       "id": "1486"
      }
     },
     "output_type": "display_data"
    }
   ],
   "source": [
    "losses = (loss, Loss_t, Loss_t_opt)\n",
    "colors = (Category10[10][0], Category10[10][0], Category10[10][1])\n",
    "legends = (\"Real Non-linear\", \"Approximation\", \"Approximated Optimized Control\")\n",
    "alphas = (0.3, 1, 1)\n",
    "\n",
    "s = plot_lines(iters, losses, legends, alphas, colors)\n",
    "show(s)"
   ]
  },
  {
   "cell_type": "code",
   "execution_count": 26,
   "metadata": {
    "ExecuteTime": {
     "end_time": "2022-10-18T16:37:12.726990Z",
     "start_time": "2022-10-18T16:37:12.724984Z"
    }
   },
   "outputs": [],
   "source": [
    "g_tilda = control.g_tilda.detach()\n",
    "control_signal = g_tilda\n",
    "W_0 = control_params[\"init_weights\"]\n",
    "results_dict[\"control_signal\"] = control_signal"
   ]
  },
  {
   "cell_type": "code",
   "execution_count": 27,
   "metadata": {
    "ExecuteTime": {
     "end_time": "2022-10-18T16:37:12.733301Z",
     "start_time": "2022-10-18T16:37:12.731075Z"
    }
   },
   "outputs": [],
   "source": [
    "reset_model_params = model_params.copy()\n",
    "reset_model_params[\"W_0\"] = W_0\n",
    "\n",
    "reset_model = SingleLayerNet(**reset_model_params)"
   ]
  },
  {
   "cell_type": "code",
   "execution_count": 28,
   "metadata": {
    "ExecuteTime": {
     "end_time": "2022-10-18T16:37:16.745269Z",
     "start_time": "2022-10-18T16:37:12.734988Z"
    }
   },
   "outputs": [
    {
     "name": "stderr",
     "output_type": "stream",
     "text": [
      "100%|██████████████████████████████████████████████████████████████████████████████████████████████████████████████████████████████████████████████████████████████████████████| 600/600 [00:00<00:00, 1552.96it/s]\n"
     ]
    }
   ],
   "source": [
    "iters, loss_OPT, weights_iter_OPT, weights_OPT = single_layer_training(model=reset_model,\n",
    "                                                                       dataset=dataset,\n",
    "                                                                       n_steps=n_steps,\n",
    "                                                                       save_weights_every=save_weights_every,\n",
    "                                                                       control_signal=control_signal)\n",
    "results_dict[\"Loss_t_sim_OPT\"] = loss_OPT\n",
    "results_dict[\"weights_sim_OPT\"] = weights_OPT\n",
    "results_dict[\"weights_iters_sim_OPT\"] = weights_iter_OPT\n",
    "results_dict[\"iters_OPT\"] = iters"
   ]
  },
  {
   "cell_type": "code",
   "execution_count": 29,
   "metadata": {
    "ExecuteTime": {
     "end_time": "2022-10-18T16:37:16.873109Z",
     "start_time": "2022-10-18T16:37:16.746556Z"
    }
   },
   "outputs": [
    {
     "data": {
      "text/html": [
       "\n",
       "  <div class=\"bk-root\" id=\"e2133c8e-248c-4a5f-9333-45bfb4d0ff90\" data-root-id=\"1706\"></div>\n"
      ]
     },
     "metadata": {},
     "output_type": "display_data"
    },
    {
     "data": {
      "application/javascript": [
       "(function(root) {\n",
       "  function embed_document(root) {\n",
       "  const docs_json = {\"48ffbbe1-c49f-48fa-b632-43d44c25d5ce\":{\"defs\":[],\"roots\":{\"references\":[{\"attributes\":{\"below\":[{\"id\":\"1715\"}],\"center\":[{\"id\":\"1718\"},{\"id\":\"1722\"},{\"id\":\"1754\"}],\"height\":500,\"left\":[{\"id\":\"1719\"}],\"renderers\":[{\"id\":\"1741\"},{\"id\":\"1760\"},{\"id\":\"1780\"},{\"id\":\"1802\"}],\"title\":{\"id\":\"1743\"},\"toolbar\":{\"id\":\"1730\"},\"width\":800,\"x_range\":{\"id\":\"1707\"},\"x_scale\":{\"id\":\"1711\"},\"y_range\":{\"id\":\"1709\"},\"y_scale\":{\"id\":\"1713\"}},\"id\":\"1706\",\"subtype\":\"Figure\",\"type\":\"Plot\"},{\"attributes\":{},\"id\":\"1724\",\"type\":\"WheelZoomTool\"},{\"attributes\":{\"line_alpha\":0.3,\"line_color\":\"#1f77b4\",\"line_width\":3,\"x\":{\"field\":\"x\"},\"y\":{\"field\":\"y\"}},\"id\":\"1738\",\"type\":\"Line\"},{\"attributes\":{},\"id\":\"1795\",\"type\":\"Selection\"},{\"attributes\":{\"data\":{\"x\":[0,1,2,3,4,5,6,7,8,9,10,11,12,13,14,15,16,17,18,19,20,21,22,23,24,25,26,27,28,29,30,31,32,33,34,35,36,37,38,39,40,41,42,43,44,45,46,47,48,49,50,51,52,53,54,55,56,57,58,59,60,61,62,63,64,65,66,67,68,69,70,71,72,73,74,75,76,77,78,79,80,81,82,83,84,85,86,87,88,89,90,91,92,93,94,95,96,97,98,99,100,101,102,103,104,105,106,107,108,109,110,111,112,113,114,115,116,117,118,119,120,121,122,123,124,125,126,127,128,129,130,131,132,133,134,135,136,137,138,139,140,141,142,143,144,145,146,147,148,149,150,151,152,153,154,155,156,157,158,159,160,161,162,163,164,165,166,167,168,169,170,171,172,173,174,175,176,177,178,179,180,181,182,183,184,185,186,187,188,189,190,191,192,193,194,195,196,197,198,199,200,201,202,203,204,205,206,207,208,209,210,211,212,213,214,215,216,217,218,219,220,221,222,223,224,225,226,227,228,229,230,231,232,233,234,235,236,237,238,239,240,241,242,243,244,245,246,247,248,249,250,251,252,253,254,255,256,257,258,259,260,261,262,263,264,265,266,267,268,269,270,271,272,273,274,275,276,277,278,279,280,281,282,283,284,285,286,287,288,289,290,291,292,293,294,295,296,297,298,299,300,301,302,303,304,305,306,307,308,309,310,311,312,313,314,315,316,317,318,319,320,321,322,323,324,325,326,327,328,329,330,331,332,333,334,335,336,337,338,339,340,341,342,343,344,345,346,347,348,349,350,351,352,353,354,355,356,357,358,359,360,361,362,363,364,365,366,367,368,369,370,371,372,373,374,375,376,377,378,379,380,381,382,383,384,385,386,387,388,389,390,391,392,393,394,395,396,397,398,399,400,401,402,403,404,405,406,407,408,409,410,411,412,413,414,415,416,417,418,419,420,421,422,423,424,425,426,427,428,429,430,431,432,433,434,435,436,437,438,439,440,441,442,443,444,445,446,447,448,449,450,451,452,453,454,455,456,457,458,459,460,461,462,463,464,465,466,467,468,469,470,471,472,473,474,475,476,477,478,479,480,481,482,483,484,485,486,487,488,489,490,491,492,493,494,495,496,497,498,499,500,501,502,503,504,505,506,507,508,509,510,511,512,513,514,515,516,517,518,519,520,521,522,523,524,525,526,527,528,529,530,531,532,533,534,535,536,537,538,539,540,541,542,543,544,545,546,547,548,549,550,551,552,553,554,555,556,557,558,559,560,561,562,563,564,565,566,567,568,569,570,571,572,573,574,575,576,577,578,579,580,581,582,583,584,585,586,587,588,589,590,591,592,593,594,595,596,597,598,599],\"y\":{\"__ndarray__\":\"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\",\"dtype\":\"float32\",\"order\":\"little\",\"shape\":[600]}},\"selected\":{\"id\":\"1752\"},\"selection_policy\":{\"id\":\"1751\"}},\"id\":\"1737\",\"type\":\"ColumnDataSource\"},{\"attributes\":{\"line_alpha\":0.3,\"line_color\":\"#ff7f0e\",\"line_width\":3,\"x\":{\"field\":\"x\"},\"y\":{\"field\":\"y\"}},\"id\":\"1799\",\"type\":\"Line\"},{\"attributes\":{\"source\":{\"id\":\"1737\"}},\"id\":\"1742\",\"type\":\"CDSView\"},{\"attributes\":{\"axis_label\":\"iters\",\"coordinates\":null,\"formatter\":{\"id\":\"1749\"},\"group\":null,\"major_label_policy\":{\"id\":\"1750\"},\"ticker\":{\"id\":\"1716\"}},\"id\":\"1715\",\"type\":\"LinearAxis\"},{\"attributes\":{},\"id\":\"1727\",\"type\":\"ResetTool\"},{\"attributes\":{},\"id\":\"1711\",\"type\":\"LinearScale\"},{\"attributes\":{\"coordinates\":null,\"data_source\":{\"id\":\"1798\"},\"glyph\":{\"id\":\"1799\"},\"group\":null,\"hover_glyph\":null,\"muted_glyph\":{\"id\":\"1801\"},\"nonselection_glyph\":{\"id\":\"1800\"},\"view\":{\"id\":\"1803\"}},\"id\":\"1802\",\"type\":\"GlyphRenderer\"},{\"attributes\":{},\"id\":\"1707\",\"type\":\"DataRange1d\"},{\"attributes\":{\"data\":{\"x\":[0,1,2,3,4,5,6,7,8,9,10,11,12,13,14,15,16,17,18,19,20,21,22,23,24,25,26,27,28,29,30,31,32,33,34,35,36,37,38,39,40,41,42,43,44,45,46,47,48,49,50,51,52,53,54,55,56,57,58,59,60,61,62,63,64,65,66,67,68,69,70,71,72,73,74,75,76,77,78,79,80,81,82,83,84,85,86,87,88,89,90,91,92,93,94,95,96,97,98,99,100,101,102,103,104,105,106,107,108,109,110,111,112,113,114,115,116,117,118,119,120,121,122,123,124,125,126,127,128,129,130,131,132,133,134,135,136,137,138,139,140,141,142,143,144,145,146,147,148,149,150,151,152,153,154,155,156,157,158,159,160,161,162,163,164,165,166,167,168,169,170,171,172,173,174,175,176,177,178,179,180,181,182,183,184,185,186,187,188,189,190,191,192,193,194,195,196,197,198,199,200,201,202,203,204,205,206,207,208,209,210,211,212,213,214,215,216,217,218,219,220,221,222,223,224,225,226,227,228,229,230,231,232,233,234,235,236,237,238,239,240,241,242,243,244,245,246,247,248,249,250,251,252,253,254,255,256,257,258,259,260,261,262,263,264,265,266,267,268,269,270,271,272,273,274,275,276,277,278,279,280,281,282,283,284,285,286,287,288,289,290,291,292,293,294,295,296,297,298,299,300,301,302,303,304,305,306,307,308,309,310,311,312,313,314,315,316,317,318,319,320,321,322,323,324,325,326,327,328,329,330,331,332,333,334,335,336,337,338,339,340,341,342,343,344,345,346,347,348,349,350,351,352,353,354,355,356,357,358,359,360,361,362,363,364,365,366,367,368,369,370,371,372,373,374,375,376,377,378,379,380,381,382,383,384,385,386,387,388,389,390,391,392,393,394,395,396,397,398,399,400,401,402,403,404,405,406,407,408,409,410,411,412,413,414,415,416,417,418,419,420,421,422,423,424,425,426,427,428,429,430,431,432,433,434,435,436,437,438,439,440,441,442,443,444,445,446,447,448,449,450,451,452,453,454,455,456,457,458,459,460,461,462,463,464,465,466,467,468,469,470,471,472,473,474,475,476,477,478,479,480,481,482,483,484,485,486,487,488,489,490,491,492,493,494,495,496,497,498,499,500,501,502,503,504,505,506,507,508,509,510,511,512,513,514,515,516,517,518,519,520,521,522,523,524,525,526,527,528,529,530,531,532,533,534,535,536,537,538,539,540,541,542,543,544,545,546,547,548,549,550,551,552,553,554,555,556,557,558,559,560,561,562,563,564,565,566,567,568,569,570,571,572,573,574,575,576,577,578,579,580,581,582,583,584,585,586,587,588,589,590,591,592,593,594,595,596,597,598,599],\"y\":{\"__ndarray__\":\"I/38PhrK+D5rmfQ+5LXwPtMS6z7j0ug+UfnjPvNP4T4OoN0+WwTXPm7f1z4fhtM+XDTTPpXJyj6nysk+DpDEPnvywz5Y/cA+mIHBPlV/vD6/r7U+iDC5PkfgsD6/Aq8+Mw63PpLkqz6d76g+7fKuPovdoD538KY+6oqiPlnfmz6nO6A+u06gPijXlj4/HZ0+J7aZPh6RmD6F8JA+lN6UPg6dmD4or40++tmQPgiXkT5zA40+TTyPPhhAhj6mSYk+gth/PinNiz43IoE+VfSGPu4Zgj5jH3Q+MsV/Ph+MgD7o/oI++N9sPvzoej4fRn0+6jFrPjEHdz7MOG8+WHR6PrYSaz4k5V4+uddhPtiUZj6Mg2o+GahmPqzIdj49kW8+It1VPr6aVz7wW2Q+yaNSPpYnST641UE+6oZvPtKKWD77cmM+Ml5HPtE2Vj4TdVo+vi9GPg8EXj40kkw+wqNSPv4rUj7ahUQ+sPVXPgL4Rz7Evz4+JR05Po+mRz4M9Tg+YVpBPkTIOj4RQiI+zF88PvjVRz7kADQ+X+Y9PlPSRD7ktDs+GCE9PqtNLj73NDc+5Oo9Pn0KKT4igyc+DVwvPq6hLD6x0h4+RWw3PrLcMz406xo+JcsVPsHUKz71QT8+Ac4yPvm8Pz5UyRw+Kc8gPoKxKz41cBg+cFkoPjluKT7kpjQ+nPArPk7rEj7Kghk+r+AyPuZSLD43Mww+3WQZPjkKLT7luCU+JxUQPi+sEj7ToyI+jvoMPgUkET4UFRc+nVoTPjj8Fz7Iqhk+qQkrPggxJz6fnio+TgQYPiSAGD7G5Ac+YEYbPqGkFD4FABY+j8IMPlQSGz7kMAo+mSEjPs8KGD4juxk+n4YhPtaPGD5e4wU+fzwTPj7EBj4ylys+dZgUPsFYFz7OEAc+1VsRPoyKFD7ulQo+s3vxPcnZAj7EcAw+uHwRPkA+Cz4oTB8+/QsdPl6lCz6QgwI+tVEdPgC4Ez4U8As+tuQSPo8nDT4gRxg+VbH1PdWOCD4sSgs+bvolPpzVCT4jYOw9O1kEPnsICj4Jbvg9CjoIPo7jHz4TBgo+URr1PbypET624QM+TSv+PSLfAD5Q9eA9MJkIPnwRCz7ywQo+zC8FPnej5T0xPwI+1zMGPvp23T0PNQY+iFb4PdHf3j030eM9XUHuPYq3Cj5EQfs9asIHPoEr/T0RzAw+g10FPmVK5T0uXQI+MDANPr6rDj62vuI9mFYNPm6H6j26rRA+IkwMPohu2T36bfs98P/mPS7TCD47JAc+AmAHPorg6z3jGPc9nID2PQIQDz4Rj/89+pztPXNt6j1fFwo+a8TuPeR0Cz4NIvY9lzD3PTBQ5z2iOOM9dHT+PepY0j1KE/w9WQkKPmVF9T1A/OA9mYbYPcwK7D0sa8g9QvzPPYew5T0cC9Q9RB/1PU+AAT6pbBU+x8wDPp6j+T0D1d09vCIHPuoT2T3QJdw9VP0OPkbGwT2Kr/c9l5YHPuO91z00dtg9HqjsPYMT4T0K+9c9kHjBPdVw8T2c3vE9rd/gPelv+T0LIMs9AjjXPXLvzz3S9wU+UCP1PYJN4D1B1ME9T0nNPXqK0j3y2gA+7kgIPhlT2T2i6fU9POv3Pc+M8j1cOP49pqPkPeMtxj1/5/Q9+RIFPmr37j18Qq49UGTMPQaA1j3wS/M96B2qPUxw0T2KBMs9rvfgPTAR+j1PWdY9SM8APlQg+j2uxeg9iQbaPeFV6z3budM96DzvPa1E5z1po+89HhnzPckstD3bD9E9nKHTPStL1T2UV+09oCjjPXnF9z3eLN49jDvdPW7+AD7pP/Y9TtPQPS1V0T15FuE9B+f4PTXxAD4cowQ+9/XZPQFBzj1b9tc91OPCPRMNAT4N1c89a0/bPaki+z0fU/M9T3YLPuMw3z2V2q095xnUPRlZ8z0B0tk9JDjVPdlH6T2ClsU9IPgEPlFa7T3+qP49GGfOPSRg5T1zjvk9ZqPRPd4z9D0rPfw9vlLVPektuD0Ehdg9Y2HiPZqYEz7tFPE992fTPdub0D3xssk9E+rkPfEp2j36K9w9M677PWzc1T3py6890uPJPUwN7j1OY+09WNPpPS8NBz7S6/g9SYwEPkVyET6oxMI9pSbhPRFN6T0KJ/E9NCv9PZoi2z1gqOA9cE7fPcAK5z1NmNM9KerzPSCxFD6g5hA+TozoPTJZ1z2urs49tPLgPREQ8D2rFvw9GjrWPdVoxT1MAOE9MhvNPQHj1T3pmtQ9MlsBPu5jzD15C/k9eefjPXqb5T2ENNw9oAwIPqEXyD3+9u09qKXvPVcEzD3Qg/c977XLPRnu8D0J49Q9vGfYPV0hzD3ITs49MlnVPW8F0D3mow4+DE0IPhAvCj44+bU99LIDPkVH6j3eIMg9IHbbPRuryz3oA/I9DITsPU594T1JscU9jKTgPWxl2T3tVf89oPzwPaC98T2H4wM+NGzfPQws+j3Xj+092WPyPaHtyD0S/gk+w+TpPeMaBz4x3+k9OWDuPbBJ6D095Oc9r/y4PcPUvz2+O8g92uMHPqLVuD3IRO09Pi0IPiTv1D3kdeU9YHPIPYtc3j2ppPY948DePd8J5z3VmNw9u0rwPZ7z1z0mvuM9DUfBPf9R4D3DBuc9bny9PRTEzj1+M8Y9yxbfPZ1t7D2ewuk9xy3HPXX3yz1rgtc9l6P2PYC31T1+ceQ9BDTXPWf19T1uPus9weq5PRFt6D2ICeM99ETRPbvj0T3PItM9ScPoPTYq8j0K0eg9ubsDPgHQyD3n6NM93mXfPRgmEj6vBAU+UTa8PfCC2T29BOk9hpnEPXtbuz17KwQ+tW8HPkAqAT5dBOg9moPXPUh0AD5F7c096NL8PeOF4D3kYMA9NXi8PYZa0D08z709/9fhPd3/3z2g7v89qKDiPdWvyD3c2dI9vOfXPdx+0z39nsc99fTRPaAt+z3Q1sY9af7RPTG8Cj44e/89tOH3Paxhwz0gA/A9khTFPTQI0z07iQs+nr7UPUQdDz5xr+w9t6kBPqkp+z1B2OI9F4nuPej+0z2XHek9TNnGPexWvj13S8I9aYX3PWGQyj0UG/E9OkjkPWzv8j2OPc09b1ffPRy3yT2qtOI9ySwEPjpy+z2VBAU+s+nnPXs08T3sXuk99328PeRA7T2IGrM98LHPPQBf/z10a/k9+cTlPeoDzT2uNQI+\",\"dtype\":\"float32\",\"order\":\"little\",\"shape\":[600]}},\"selected\":{\"id\":\"1819\"},\"selection_policy\":{\"id\":\"1818\"}},\"id\":\"1798\",\"type\":\"ColumnDataSource\"},{\"attributes\":{\"source\":{\"id\":\"1798\"}},\"id\":\"1803\",\"type\":\"CDSView\"},{\"attributes\":{\"coordinates\":null,\"data_source\":{\"id\":\"1776\"},\"glyph\":{\"id\":\"1777\"},\"group\":null,\"hover_glyph\":null,\"muted_glyph\":{\"id\":\"1779\"},\"nonselection_glyph\":{\"id\":\"1778\"},\"view\":{\"id\":\"1781\"}},\"id\":\"1780\",\"type\":\"GlyphRenderer\"},{\"attributes\":{},\"id\":\"1773\",\"type\":\"Selection\"},{\"attributes\":{\"line_alpha\":0.2,\"line_color\":\"#ff7f0e\",\"line_width\":3,\"x\":{\"field\":\"x\"},\"y\":{\"field\":\"y\"}},\"id\":\"1801\",\"type\":\"Line\"},{\"attributes\":{\"line_alpha\":0.1,\"line_color\":\"#ff7f0e\",\"line_width\":3,\"x\":{\"field\":\"x\"},\"y\":{\"field\":\"y\"}},\"id\":\"1800\",\"type\":\"Line\"},{\"attributes\":{\"coordinates\":null,\"group\":null},\"id\":\"1743\",\"type\":\"Title\"},{\"attributes\":{\"axis\":{\"id\":\"1719\"},\"coordinates\":null,\"dimension\":1,\"group\":null,\"ticker\":null},\"id\":\"1722\",\"type\":\"Grid\"},{\"attributes\":{},\"id\":\"1726\",\"type\":\"SaveTool\"},{\"attributes\":{\"line_color\":\"#ff7f0e\",\"line_width\":3,\"x\":{\"field\":\"x\"},\"y\":{\"field\":\"y\"}},\"id\":\"1777\",\"type\":\"Line\"},{\"attributes\":{},\"id\":\"1720\",\"type\":\"BasicTicker\"},{\"attributes\":{\"label\":{\"value\":\"Real Non-linear\"},\"renderers\":[{\"id\":\"1741\"}]},\"id\":\"1755\",\"type\":\"LegendItem\"},{\"attributes\":{\"label\":{\"value\":\"Optimized Non-linear\"},\"renderers\":[{\"id\":\"1802\"}]},\"id\":\"1821\",\"type\":\"LegendItem\"},{\"attributes\":{\"line_alpha\":0.1,\"line_color\":\"#1f77b4\",\"line_width\":3,\"x\":{\"field\":\"x\"},\"y\":{\"field\":\"y\"}},\"id\":\"1739\",\"type\":\"Line\"},{\"attributes\":{\"coordinates\":null,\"data_source\":{\"id\":\"1756\"},\"glyph\":{\"id\":\"1757\"},\"group\":null,\"hover_glyph\":null,\"muted_glyph\":{\"id\":\"1759\"},\"nonselection_glyph\":{\"id\":\"1758\"},\"view\":{\"id\":\"1761\"}},\"id\":\"1760\",\"type\":\"GlyphRenderer\"},{\"attributes\":{},\"id\":\"1794\",\"type\":\"UnionRenderers\"},{\"attributes\":{},\"id\":\"1819\",\"type\":\"Selection\"},{\"attributes\":{\"line_color\":\"#1f77b4\",\"line_width\":3,\"x\":{\"field\":\"x\"},\"y\":{\"field\":\"y\"}},\"id\":\"1757\",\"type\":\"Line\"},{\"attributes\":{\"data\":{\"x\":[0,1,2,3,4,5,6,7,8,9,10,11,12,13,14,15,16,17,18,19,20,21,22,23,24,25,26,27,28,29,30,31,32,33,34,35,36,37,38,39,40,41,42,43,44,45,46,47,48,49,50,51,52,53,54,55,56,57,58,59,60,61,62,63,64,65,66,67,68,69,70,71,72,73,74,75,76,77,78,79,80,81,82,83,84,85,86,87,88,89,90,91,92,93,94,95,96,97,98,99,100,101,102,103,104,105,106,107,108,109,110,111,112,113,114,115,116,117,118,119,120,121,122,123,124,125,126,127,128,129,130,131,132,133,134,135,136,137,138,139,140,141,142,143,144,145,146,147,148,149,150,151,152,153,154,155,156,157,158,159,160,161,162,163,164,165,166,167,168,169,170,171,172,173,174,175,176,177,178,179,180,181,182,183,184,185,186,187,188,189,190,191,192,193,194,195,196,197,198,199,200,201,202,203,204,205,206,207,208,209,210,211,212,213,214,215,216,217,218,219,220,221,222,223,224,225,226,227,228,229,230,231,232,233,234,235,236,237,238,239,240,241,242,243,244,245,246,247,248,249,250,251,252,253,254,255,256,257,258,259,260,261,262,263,264,265,266,267,268,269,270,271,272,273,274,275,276,277,278,279,280,281,282,283,284,285,286,287,288,289,290,291,292,293,294,295,296,297,298,299,300,301,302,303,304,305,306,307,308,309,310,311,312,313,314,315,316,317,318,319,320,321,322,323,324,325,326,327,328,329,330,331,332,333,334,335,336,337,338,339,340,341,342,343,344,345,346,347,348,349,350,351,352,353,354,355,356,357,358,359,360,361,362,363,364,365,366,367,368,369,370,371,372,373,374,375,376,377,378,379,380,381,382,383,384,385,386,387,388,389,390,391,392,393,394,395,396,397,398,399,400,401,402,403,404,405,406,407,408,409,410,411,412,413,414,415,416,417,418,419,420,421,422,423,424,425,426,427,428,429,430,431,432,433,434,435,436,437,438,439,440,441,442,443,444,445,446,447,448,449,450,451,452,453,454,455,456,457,458,459,460,461,462,463,464,465,466,467,468,469,470,471,472,473,474,475,476,477,478,479,480,481,482,483,484,485,486,487,488,489,490,491,492,493,494,495,496,497,498,499,500,501,502,503,504,505,506,507,508,509,510,511,512,513,514,515,516,517,518,519,520,521,522,523,524,525,526,527,528,529,530,531,532,533,534,535,536,537,538,539,540,541,542,543,544,545,546,547,548,549,550,551,552,553,554,555,556,557,558,559,560,561,562,563,564,565,566,567,568,569,570,571,572,573,574,575,576,577,578,579,580,581,582,583,584,585,586,587,588,589,590,591,592,593,594,595,596,597,598,599],\"y\":{\"__ndarray__\":\"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\",\"dtype\":\"float32\",\"order\":\"little\",\"shape\":[600]}},\"selected\":{\"id\":\"1795\"},\"selection_policy\":{\"id\":\"1794\"}},\"id\":\"1776\",\"type\":\"ColumnDataSource\"},{\"attributes\":{\"source\":{\"id\":\"1776\"}},\"id\":\"1781\",\"type\":\"CDSView\"},{\"attributes\":{\"label\":{\"value\":\"Approximated Optimized Control\"},\"renderers\":[{\"id\":\"1780\"}]},\"id\":\"1797\",\"type\":\"LegendItem\"},{\"attributes\":{\"data\":{\"x\":[0,1,2,3,4,5,6,7,8,9,10,11,12,13,14,15,16,17,18,19,20,21,22,23,24,25,26,27,28,29,30,31,32,33,34,35,36,37,38,39,40,41,42,43,44,45,46,47,48,49,50,51,52,53,54,55,56,57,58,59,60,61,62,63,64,65,66,67,68,69,70,71,72,73,74,75,76,77,78,79,80,81,82,83,84,85,86,87,88,89,90,91,92,93,94,95,96,97,98,99,100,101,102,103,104,105,106,107,108,109,110,111,112,113,114,115,116,117,118,119,120,121,122,123,124,125,126,127,128,129,130,131,132,133,134,135,136,137,138,139,140,141,142,143,144,145,146,147,148,149,150,151,152,153,154,155,156,157,158,159,160,161,162,163,164,165,166,167,168,169,170,171,172,173,174,175,176,177,178,179,180,181,182,183,184,185,186,187,188,189,190,191,192,193,194,195,196,197,198,199,200,201,202,203,204,205,206,207,208,209,210,211,212,213,214,215,216,217,218,219,220,221,222,223,224,225,226,227,228,229,230,231,232,233,234,235,236,237,238,239,240,241,242,243,244,245,246,247,248,249,250,251,252,253,254,255,256,257,258,259,260,261,262,263,264,265,266,267,268,269,270,271,272,273,274,275,276,277,278,279,280,281,282,283,284,285,286,287,288,289,290,291,292,293,294,295,296,297,298,299,300,301,302,303,304,305,306,307,308,309,310,311,312,313,314,315,316,317,318,319,320,321,322,323,324,325,326,327,328,329,330,331,332,333,334,335,336,337,338,339,340,341,342,343,344,345,346,347,348,349,350,351,352,353,354,355,356,357,358,359,360,361,362,363,364,365,366,367,368,369,370,371,372,373,374,375,376,377,378,379,380,381,382,383,384,385,386,387,388,389,390,391,392,393,394,395,396,397,398,399,400,401,402,403,404,405,406,407,408,409,410,411,412,413,414,415,416,417,418,419,420,421,422,423,424,425,426,427,428,429,430,431,432,433,434,435,436,437,438,439,440,441,442,443,444,445,446,447,448,449,450,451,452,453,454,455,456,457,458,459,460,461,462,463,464,465,466,467,468,469,470,471,472,473,474,475,476,477,478,479,480,481,482,483,484,485,486,487,488,489,490,491,492,493,494,495,496,497,498,499,500,501,502,503,504,505,506,507,508,509,510,511,512,513,514,515,516,517,518,519,520,521,522,523,524,525,526,527,528,529,530,531,532,533,534,535,536,537,538,539,540,541,542,543,544,545,546,547,548,549,550,551,552,553,554,555,556,557,558,559,560,561,562,563,564,565,566,567,568,569,570,571,572,573,574,575,576,577,578,579,580,581,582,583,584,585,586,587,588,589,590,591,592,593,594,595,596,597,598,599],\"y\":{\"__ndarray__\":\"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\",\"dtype\":\"float32\",\"order\":\"little\",\"shape\":[600]}},\"selected\":{\"id\":\"1773\"},\"selection_policy\":{\"id\":\"1772\"}},\"id\":\"1756\",\"type\":\"ColumnDataSource\"},{\"attributes\":{\"line_alpha\":0.2,\"line_color\":\"#ff7f0e\",\"line_width\":3,\"x\":{\"field\":\"x\"},\"y\":{\"field\":\"y\"}},\"id\":\"1779\",\"type\":\"Line\"},{\"attributes\":{\"source\":{\"id\":\"1756\"}},\"id\":\"1761\",\"type\":\"CDSView\"},{\"attributes\":{\"line_alpha\":0.1,\"line_color\":\"#ff7f0e\",\"line_width\":3,\"x\":{\"field\":\"x\"},\"y\":{\"field\":\"y\"}},\"id\":\"1778\",\"type\":\"Line\"},{\"attributes\":{},\"id\":\"1752\",\"type\":\"Selection\"},{\"attributes\":{\"label\":{\"value\":\"Approximation\"},\"renderers\":[{\"id\":\"1760\"}]},\"id\":\"1775\",\"type\":\"LegendItem\"},{\"attributes\":{},\"id\":\"1751\",\"type\":\"UnionRenderers\"},{\"attributes\":{\"line_alpha\":0.2,\"line_color\":\"#1f77b4\",\"line_width\":3,\"x\":{\"field\":\"x\"},\"y\":{\"field\":\"y\"}},\"id\":\"1759\",\"type\":\"Line\"},{\"attributes\":{\"bottom_units\":\"screen\",\"coordinates\":null,\"fill_alpha\":0.5,\"fill_color\":\"lightgrey\",\"group\":null,\"left_units\":\"screen\",\"level\":\"overlay\",\"line_alpha\":1.0,\"line_color\":\"black\",\"line_dash\":[4,4],\"line_width\":2,\"right_units\":\"screen\",\"syncable\":false,\"top_units\":\"screen\"},\"id\":\"1729\",\"type\":\"BoxAnnotation\"},{\"attributes\":{\"line_alpha\":0.1,\"line_color\":\"#1f77b4\",\"line_width\":3,\"x\":{\"field\":\"x\"},\"y\":{\"field\":\"y\"}},\"id\":\"1758\",\"type\":\"Line\"},{\"attributes\":{},\"id\":\"1723\",\"type\":\"PanTool\"},{\"attributes\":{},\"id\":\"1746\",\"type\":\"BasicTickFormatter\"},{\"attributes\":{},\"id\":\"1709\",\"type\":\"DataRange1d\"},{\"attributes\":{},\"id\":\"1713\",\"type\":\"LinearScale\"},{\"attributes\":{},\"id\":\"1772\",\"type\":\"UnionRenderers\"},{\"attributes\":{},\"id\":\"1747\",\"type\":\"AllLabels\"},{\"attributes\":{\"tools\":[{\"id\":\"1723\"},{\"id\":\"1724\"},{\"id\":\"1725\"},{\"id\":\"1726\"},{\"id\":\"1727\"},{\"id\":\"1728\"}]},\"id\":\"1730\",\"type\":\"Toolbar\"},{\"attributes\":{},\"id\":\"1749\",\"type\":\"BasicTickFormatter\"},{\"attributes\":{\"overlay\":{\"id\":\"1729\"}},\"id\":\"1725\",\"type\":\"BoxZoomTool\"},{\"attributes\":{},\"id\":\"1818\",\"type\":\"UnionRenderers\"},{\"attributes\":{},\"id\":\"1728\",\"type\":\"HelpTool\"},{\"attributes\":{},\"id\":\"1750\",\"type\":\"AllLabels\"},{\"attributes\":{\"axis_label\":\"Loss\",\"coordinates\":null,\"formatter\":{\"id\":\"1746\"},\"group\":null,\"major_label_policy\":{\"id\":\"1747\"},\"ticker\":{\"id\":\"1720\"}},\"id\":\"1719\",\"type\":\"LinearAxis\"},{\"attributes\":{},\"id\":\"1716\",\"type\":\"BasicTicker\"},{\"attributes\":{\"coordinates\":null,\"data_source\":{\"id\":\"1737\"},\"glyph\":{\"id\":\"1738\"},\"group\":null,\"hover_glyph\":null,\"muted_glyph\":{\"id\":\"1740\"},\"nonselection_glyph\":{\"id\":\"1739\"},\"view\":{\"id\":\"1742\"}},\"id\":\"1741\",\"type\":\"GlyphRenderer\"},{\"attributes\":{\"line_alpha\":0.2,\"line_color\":\"#1f77b4\",\"line_width\":3,\"x\":{\"field\":\"x\"},\"y\":{\"field\":\"y\"}},\"id\":\"1740\",\"type\":\"Line\"},{\"attributes\":{\"axis\":{\"id\":\"1715\"},\"coordinates\":null,\"group\":null,\"ticker\":null},\"id\":\"1718\",\"type\":\"Grid\"},{\"attributes\":{\"coordinates\":null,\"group\":null,\"items\":[{\"id\":\"1755\"},{\"id\":\"1775\"},{\"id\":\"1797\"},{\"id\":\"1821\"}]},\"id\":\"1754\",\"type\":\"Legend\"}],\"root_ids\":[\"1706\"]},\"title\":\"Bokeh Application\",\"version\":\"2.4.3\"}};\n",
       "  const render_items = [{\"docid\":\"48ffbbe1-c49f-48fa-b632-43d44c25d5ce\",\"root_ids\":[\"1706\"],\"roots\":{\"1706\":\"e2133c8e-248c-4a5f-9333-45bfb4d0ff90\"}}];\n",
       "  root.Bokeh.embed.embed_items_notebook(docs_json, render_items);\n",
       "  }\n",
       "  if (root.Bokeh !== undefined) {\n",
       "    embed_document(root);\n",
       "  } else {\n",
       "    let attempts = 0;\n",
       "    const timer = setInterval(function(root) {\n",
       "      if (root.Bokeh !== undefined) {\n",
       "        clearInterval(timer);\n",
       "        embed_document(root);\n",
       "      } else {\n",
       "        attempts++;\n",
       "        if (attempts > 100) {\n",
       "          clearInterval(timer);\n",
       "          console.log(\"Bokeh: ERROR: Unable to run BokehJS code because BokehJS library is missing\");\n",
       "        }\n",
       "      }\n",
       "    }, 10, root)\n",
       "  }\n",
       "})(window);"
      ],
      "application/vnd.bokehjs_exec.v0+json": ""
     },
     "metadata": {
      "application/vnd.bokehjs_exec.v0+json": {
       "id": "1706"
      }
     },
     "output_type": "display_data"
    }
   ],
   "source": [
    "losses = (loss, Loss_t, Loss_t_opt, loss_OPT)\n",
    "colors = (Category10[10][0], Category10[10][0], Category10[10][1], Category10[10][1])\n",
    "legends = (\"Real Non-linear\", \"Approximation\", \"Approximated Optimized Control\", \"Optimized Non-linear\")\n",
    "alphas = (0.3, 1, 1, 0.3)\n",
    "\n",
    "s = plot_lines(iters, losses, legends, alphas, colors)\n",
    "show(s)"
   ]
  },
  {
   "cell_type": "code",
   "execution_count": 30,
   "metadata": {
    "ExecuteTime": {
     "end_time": "2022-10-18T16:37:16.876743Z",
     "start_time": "2022-10-18T16:37:16.874178Z"
    }
   },
   "outputs": [
    {
     "data": {
      "text/plain": [
       "dict_keys(['iters', 'Loss_t_sim', 'weights_sim', 'weights_iters_sim', 'time_span', 'W_t_eq', 'Loss_t_eq', 'W_t_control_init', 'Loss_t_control_init', 'control_signal_init', 'cumulated_reward_opt', 'W_t_control_opt', 'Loss_t_control_opt', 'control_signal', 'Loss_t_sim_OPT', 'weights_sim_OPT', 'weights_iters_sim_OPT', 'iters_OPT'])"
      ]
     },
     "execution_count": 30,
     "metadata": {},
     "output_type": "execute_result"
    }
   ],
   "source": [
    "results_dict.keys()"
   ]
  },
  {
   "cell_type": "code",
   "execution_count": 31,
   "metadata": {
    "ExecuteTime": {
     "end_time": "2022-10-18T16:37:16.880110Z",
     "start_time": "2022-10-18T16:37:16.877818Z"
    }
   },
   "outputs": [],
   "source": [
    "params_dict = {\"dataset_params\": dataset_params,\n",
    "               \"model_params\": model_params,\n",
    "               \"equation_params\": equation_params,\n",
    "               \"control_params\": control_params}"
   ]
  },
  {
   "cell_type": "code",
   "execution_count": 32,
   "metadata": {
    "ExecuteTime": {
     "end_time": "2022-10-18T16:37:16.883114Z",
     "start_time": "2022-10-18T16:37:16.881109Z"
    }
   },
   "outputs": [],
   "source": [
    "import os\n",
    "time_str = get_date_time()\n",
    "saving_path = os.path.join(results_path, run_name+\"_\"+time_str)"
   ]
  },
  {
   "cell_type": "code",
   "execution_count": 33,
   "metadata": {
    "ExecuteTime": {
     "end_time": "2022-10-18T16:37:16.897322Z",
     "start_time": "2022-10-18T16:37:16.884072Z"
    }
   },
   "outputs": [],
   "source": [
    "# save_var(results_dict, \"results.pkl\", results_path=saving_path)"
   ]
  },
  {
   "cell_type": "code",
   "execution_count": 34,
   "metadata": {
    "ExecuteTime": {
     "end_time": "2022-10-18T16:37:16.900601Z",
     "start_time": "2022-10-18T16:37:16.898231Z"
    }
   },
   "outputs": [],
   "source": [
    "# save_var(params_dict, \"params.pkl\", results_path=saving_path)"
   ]
  },
  {
   "cell_type": "code",
   "execution_count": null,
   "metadata": {},
   "outputs": [],
   "source": []
  }
 ],
 "metadata": {
  "kernelspec": {
   "display_name": "Python 3 (ipykernel)",
   "language": "python",
   "name": "python3"
  },
  "language_info": {
   "codemirror_mode": {
    "name": "ipython",
    "version": 3
   },
   "file_extension": ".py",
   "mimetype": "text/x-python",
   "name": "python",
   "nbconvert_exporter": "python",
   "pygments_lexer": "ipython3",
   "version": "3.10.8"
  }
 },
 "nbformat": 4,
 "nbformat_minor": 4
}
