{
 "cells": [
  {
   "cell_type": "code",
   "execution_count": 2,
   "metadata": {
    "ExecuteTime": {
     "end_time": "2022-10-18T16:34:20.905225Z",
     "start_time": "2022-10-18T16:34:20.586654Z"
    }
   },
   "outputs": [
    {
     "data": {
      "text/html": [
       "<style>.container { width:100% !important; }</style>"
      ],
      "text/plain": [
       "<IPython.core.display.HTML object>"
      ]
     },
     "metadata": {},
     "output_type": "display_data"
    },
    {
     "data": {
      "text/html": [
       "<div class=\"bk-root\">\n",
       "        <a href=\"https://bokeh.org\" target=\"_blank\" class=\"bk-logo bk-logo-small bk-logo-notebook\"></a>\n",
       "        <span id=\"1002\">Loading BokehJS ...</span>\n",
       "    </div>\n"
      ]
     },
     "metadata": {},
     "output_type": "display_data"
    },
    {
     "data": {
      "application/javascript": [
       "(function(root) {\n",
       "  function now() {\n",
       "    return new Date();\n",
       "  }\n",
       "\n",
       "  const force = true;\n",
       "\n",
       "  if (typeof root._bokeh_onload_callbacks === \"undefined\" || force === true) {\n",
       "    root._bokeh_onload_callbacks = [];\n",
       "    root._bokeh_is_loading = undefined;\n",
       "  }\n",
       "\n",
       "const JS_MIME_TYPE = 'application/javascript';\n",
       "  const HTML_MIME_TYPE = 'text/html';\n",
       "  const EXEC_MIME_TYPE = 'application/vnd.bokehjs_exec.v0+json';\n",
       "  const CLASS_NAME = 'output_bokeh rendered_html';\n",
       "\n",
       "  /**\n",
       "   * Render data to the DOM node\n",
       "   */\n",
       "  function render(props, node) {\n",
       "    const script = document.createElement(\"script\");\n",
       "    node.appendChild(script);\n",
       "  }\n",
       "\n",
       "  /**\n",
       "   * Handle when an output is cleared or removed\n",
       "   */\n",
       "  function handleClearOutput(event, handle) {\n",
       "    const cell = handle.cell;\n",
       "\n",
       "    const id = cell.output_area._bokeh_element_id;\n",
       "    const server_id = cell.output_area._bokeh_server_id;\n",
       "    // Clean up Bokeh references\n",
       "    if (id != null && id in Bokeh.index) {\n",
       "      Bokeh.index[id].model.document.clear();\n",
       "      delete Bokeh.index[id];\n",
       "    }\n",
       "\n",
       "    if (server_id !== undefined) {\n",
       "      // Clean up Bokeh references\n",
       "      const cmd_clean = \"from bokeh.io.state import curstate; print(curstate().uuid_to_server['\" + server_id + \"'].get_sessions()[0].document.roots[0]._id)\";\n",
       "      cell.notebook.kernel.execute(cmd_clean, {\n",
       "        iopub: {\n",
       "          output: function(msg) {\n",
       "            const id = msg.content.text.trim();\n",
       "            if (id in Bokeh.index) {\n",
       "              Bokeh.index[id].model.document.clear();\n",
       "              delete Bokeh.index[id];\n",
       "            }\n",
       "          }\n",
       "        }\n",
       "      });\n",
       "      // Destroy server and session\n",
       "      const cmd_destroy = \"import bokeh.io.notebook as ion; ion.destroy_server('\" + server_id + \"')\";\n",
       "      cell.notebook.kernel.execute(cmd_destroy);\n",
       "    }\n",
       "  }\n",
       "\n",
       "  /**\n",
       "   * Handle when a new output is added\n",
       "   */\n",
       "  function handleAddOutput(event, handle) {\n",
       "    const output_area = handle.output_area;\n",
       "    const output = handle.output;\n",
       "\n",
       "    // limit handleAddOutput to display_data with EXEC_MIME_TYPE content only\n",
       "    if ((output.output_type != \"display_data\") || (!Object.prototype.hasOwnProperty.call(output.data, EXEC_MIME_TYPE))) {\n",
       "      return\n",
       "    }\n",
       "\n",
       "    const toinsert = output_area.element.find(\".\" + CLASS_NAME.split(' ')[0]);\n",
       "\n",
       "    if (output.metadata[EXEC_MIME_TYPE][\"id\"] !== undefined) {\n",
       "      toinsert[toinsert.length - 1].firstChild.textContent = output.data[JS_MIME_TYPE];\n",
       "      // store reference to embed id on output_area\n",
       "      output_area._bokeh_element_id = output.metadata[EXEC_MIME_TYPE][\"id\"];\n",
       "    }\n",
       "    if (output.metadata[EXEC_MIME_TYPE][\"server_id\"] !== undefined) {\n",
       "      const bk_div = document.createElement(\"div\");\n",
       "      bk_div.innerHTML = output.data[HTML_MIME_TYPE];\n",
       "      const script_attrs = bk_div.children[0].attributes;\n",
       "      for (let i = 0; i < script_attrs.length; i++) {\n",
       "        toinsert[toinsert.length - 1].firstChild.setAttribute(script_attrs[i].name, script_attrs[i].value);\n",
       "        toinsert[toinsert.length - 1].firstChild.textContent = bk_div.children[0].textContent\n",
       "      }\n",
       "      // store reference to server id on output_area\n",
       "      output_area._bokeh_server_id = output.metadata[EXEC_MIME_TYPE][\"server_id\"];\n",
       "    }\n",
       "  }\n",
       "\n",
       "  function register_renderer(events, OutputArea) {\n",
       "\n",
       "    function append_mime(data, metadata, element) {\n",
       "      // create a DOM node to render to\n",
       "      const toinsert = this.create_output_subarea(\n",
       "        metadata,\n",
       "        CLASS_NAME,\n",
       "        EXEC_MIME_TYPE\n",
       "      );\n",
       "      this.keyboard_manager.register_events(toinsert);\n",
       "      // Render to node\n",
       "      const props = {data: data, metadata: metadata[EXEC_MIME_TYPE]};\n",
       "      render(props, toinsert[toinsert.length - 1]);\n",
       "      element.append(toinsert);\n",
       "      return toinsert\n",
       "    }\n",
       "\n",
       "    /* Handle when an output is cleared or removed */\n",
       "    events.on('clear_output.CodeCell', handleClearOutput);\n",
       "    events.on('delete.Cell', handleClearOutput);\n",
       "\n",
       "    /* Handle when a new output is added */\n",
       "    events.on('output_added.OutputArea', handleAddOutput);\n",
       "\n",
       "    /**\n",
       "     * Register the mime type and append_mime function with output_area\n",
       "     */\n",
       "    OutputArea.prototype.register_mime_type(EXEC_MIME_TYPE, append_mime, {\n",
       "      /* Is output safe? */\n",
       "      safe: true,\n",
       "      /* Index of renderer in `output_area.display_order` */\n",
       "      index: 0\n",
       "    });\n",
       "  }\n",
       "\n",
       "  // register the mime type if in Jupyter Notebook environment and previously unregistered\n",
       "  if (root.Jupyter !== undefined) {\n",
       "    const events = require('base/js/events');\n",
       "    const OutputArea = require('notebook/js/outputarea').OutputArea;\n",
       "\n",
       "    if (OutputArea.prototype.mime_types().indexOf(EXEC_MIME_TYPE) == -1) {\n",
       "      register_renderer(events, OutputArea);\n",
       "    }\n",
       "  }\n",
       "  if (typeof (root._bokeh_timeout) === \"undefined\" || force === true) {\n",
       "    root._bokeh_timeout = Date.now() + 5000;\n",
       "    root._bokeh_failed_load = false;\n",
       "  }\n",
       "\n",
       "  const NB_LOAD_WARNING = {'data': {'text/html':\n",
       "     \"<div style='background-color: #fdd'>\\n\"+\n",
       "     \"<p>\\n\"+\n",
       "     \"BokehJS does not appear to have successfully loaded. If loading BokehJS from CDN, this \\n\"+\n",
       "     \"may be due to a slow or bad network connection. Possible fixes:\\n\"+\n",
       "     \"</p>\\n\"+\n",
       "     \"<ul>\\n\"+\n",
       "     \"<li>re-rerun `output_notebook()` to attempt to load from CDN again, or</li>\\n\"+\n",
       "     \"<li>use INLINE resources instead, as so:</li>\\n\"+\n",
       "     \"</ul>\\n\"+\n",
       "     \"<code>\\n\"+\n",
       "     \"from bokeh.resources import INLINE\\n\"+\n",
       "     \"output_notebook(resources=INLINE)\\n\"+\n",
       "     \"</code>\\n\"+\n",
       "     \"</div>\"}};\n",
       "\n",
       "  function display_loaded() {\n",
       "    const el = document.getElementById(\"1002\");\n",
       "    if (el != null) {\n",
       "      el.textContent = \"BokehJS is loading...\";\n",
       "    }\n",
       "    if (root.Bokeh !== undefined) {\n",
       "      if (el != null) {\n",
       "        el.textContent = \"BokehJS \" + root.Bokeh.version + \" successfully loaded.\";\n",
       "      }\n",
       "    } else if (Date.now() < root._bokeh_timeout) {\n",
       "      setTimeout(display_loaded, 100)\n",
       "    }\n",
       "  }\n",
       "\n",
       "  function run_callbacks() {\n",
       "    try {\n",
       "      root._bokeh_onload_callbacks.forEach(function(callback) {\n",
       "        if (callback != null)\n",
       "          callback();\n",
       "      });\n",
       "    } finally {\n",
       "      delete root._bokeh_onload_callbacks\n",
       "    }\n",
       "    console.debug(\"Bokeh: all callbacks have finished\");\n",
       "  }\n",
       "\n",
       "  function load_libs(css_urls, js_urls, callback) {\n",
       "    if (css_urls == null) css_urls = [];\n",
       "    if (js_urls == null) js_urls = [];\n",
       "\n",
       "    root._bokeh_onload_callbacks.push(callback);\n",
       "    if (root._bokeh_is_loading > 0) {\n",
       "      console.debug(\"Bokeh: BokehJS is being loaded, scheduling callback at\", now());\n",
       "      return null;\n",
       "    }\n",
       "    if (js_urls == null || js_urls.length === 0) {\n",
       "      run_callbacks();\n",
       "      return null;\n",
       "    }\n",
       "    console.debug(\"Bokeh: BokehJS not loaded, scheduling load and callback at\", now());\n",
       "    root._bokeh_is_loading = css_urls.length + js_urls.length;\n",
       "\n",
       "    function on_load() {\n",
       "      root._bokeh_is_loading--;\n",
       "      if (root._bokeh_is_loading === 0) {\n",
       "        console.debug(\"Bokeh: all BokehJS libraries/stylesheets loaded\");\n",
       "        run_callbacks()\n",
       "      }\n",
       "    }\n",
       "\n",
       "    function on_error(url) {\n",
       "      console.error(\"failed to load \" + url);\n",
       "    }\n",
       "\n",
       "    for (let i = 0; i < css_urls.length; i++) {\n",
       "      const url = css_urls[i];\n",
       "      const element = document.createElement(\"link\");\n",
       "      element.onload = on_load;\n",
       "      element.onerror = on_error.bind(null, url);\n",
       "      element.rel = \"stylesheet\";\n",
       "      element.type = \"text/css\";\n",
       "      element.href = url;\n",
       "      console.debug(\"Bokeh: injecting link tag for BokehJS stylesheet: \", url);\n",
       "      document.body.appendChild(element);\n",
       "    }\n",
       "\n",
       "    for (let i = 0; i < js_urls.length; i++) {\n",
       "      const url = js_urls[i];\n",
       "      const element = document.createElement('script');\n",
       "      element.onload = on_load;\n",
       "      element.onerror = on_error.bind(null, url);\n",
       "      element.async = false;\n",
       "      element.src = url;\n",
       "      console.debug(\"Bokeh: injecting script tag for BokehJS library: \", url);\n",
       "      document.head.appendChild(element);\n",
       "    }\n",
       "  };\n",
       "\n",
       "  function inject_raw_css(css) {\n",
       "    const element = document.createElement(\"style\");\n",
       "    element.appendChild(document.createTextNode(css));\n",
       "    document.body.appendChild(element);\n",
       "  }\n",
       "\n",
       "  const js_urls = [\"https://cdn.bokeh.org/bokeh/release/bokeh-2.4.3.min.js\", \"https://cdn.bokeh.org/bokeh/release/bokeh-gl-2.4.3.min.js\", \"https://cdn.bokeh.org/bokeh/release/bokeh-widgets-2.4.3.min.js\", \"https://cdn.bokeh.org/bokeh/release/bokeh-tables-2.4.3.min.js\", \"https://cdn.bokeh.org/bokeh/release/bokeh-mathjax-2.4.3.min.js\"];\n",
       "  const css_urls = [];\n",
       "\n",
       "  const inline_js = [    function(Bokeh) {\n",
       "      Bokeh.set_log_level(\"info\");\n",
       "    },\n",
       "function(Bokeh) {\n",
       "    }\n",
       "  ];\n",
       "\n",
       "  function run_inline_js() {\n",
       "    if (root.Bokeh !== undefined || force === true) {\n",
       "          for (let i = 0; i < inline_js.length; i++) {\n",
       "      inline_js[i].call(root, root.Bokeh);\n",
       "    }\n",
       "if (force === true) {\n",
       "        display_loaded();\n",
       "      }} else if (Date.now() < root._bokeh_timeout) {\n",
       "      setTimeout(run_inline_js, 100);\n",
       "    } else if (!root._bokeh_failed_load) {\n",
       "      console.log(\"Bokeh: BokehJS failed to load within specified timeout.\");\n",
       "      root._bokeh_failed_load = true;\n",
       "    } else if (force !== true) {\n",
       "      const cell = $(document.getElementById(\"1002\")).parents('.cell').data().cell;\n",
       "      cell.output_area.append_execute_result(NB_LOAD_WARNING)\n",
       "    }\n",
       "  }\n",
       "\n",
       "  if (root._bokeh_is_loading === 0) {\n",
       "    console.debug(\"Bokeh: BokehJS loaded, going straight to plotting\");\n",
       "    run_inline_js();\n",
       "  } else {\n",
       "    load_libs(css_urls, js_urls, function() {\n",
       "      console.debug(\"Bokeh: BokehJS plotting callback run at\", now());\n",
       "      run_inline_js();\n",
       "    });\n",
       "  }\n",
       "}(window));"
      ],
      "application/vnd.bokehjs_load.v0+json": "(function(root) {\n  function now() {\n    return new Date();\n  }\n\n  const force = true;\n\n  if (typeof root._bokeh_onload_callbacks === \"undefined\" || force === true) {\n    root._bokeh_onload_callbacks = [];\n    root._bokeh_is_loading = undefined;\n  }\n\n\n  if (typeof (root._bokeh_timeout) === \"undefined\" || force === true) {\n    root._bokeh_timeout = Date.now() + 5000;\n    root._bokeh_failed_load = false;\n  }\n\n  const NB_LOAD_WARNING = {'data': {'text/html':\n     \"<div style='background-color: #fdd'>\\n\"+\n     \"<p>\\n\"+\n     \"BokehJS does not appear to have successfully loaded. If loading BokehJS from CDN, this \\n\"+\n     \"may be due to a slow or bad network connection. Possible fixes:\\n\"+\n     \"</p>\\n\"+\n     \"<ul>\\n\"+\n     \"<li>re-rerun `output_notebook()` to attempt to load from CDN again, or</li>\\n\"+\n     \"<li>use INLINE resources instead, as so:</li>\\n\"+\n     \"</ul>\\n\"+\n     \"<code>\\n\"+\n     \"from bokeh.resources import INLINE\\n\"+\n     \"output_notebook(resources=INLINE)\\n\"+\n     \"</code>\\n\"+\n     \"</div>\"}};\n\n  function display_loaded() {\n    const el = document.getElementById(\"1002\");\n    if (el != null) {\n      el.textContent = \"BokehJS is loading...\";\n    }\n    if (root.Bokeh !== undefined) {\n      if (el != null) {\n        el.textContent = \"BokehJS \" + root.Bokeh.version + \" successfully loaded.\";\n      }\n    } else if (Date.now() < root._bokeh_timeout) {\n      setTimeout(display_loaded, 100)\n    }\n  }\n\n  function run_callbacks() {\n    try {\n      root._bokeh_onload_callbacks.forEach(function(callback) {\n        if (callback != null)\n          callback();\n      });\n    } finally {\n      delete root._bokeh_onload_callbacks\n    }\n    console.debug(\"Bokeh: all callbacks have finished\");\n  }\n\n  function load_libs(css_urls, js_urls, callback) {\n    if (css_urls == null) css_urls = [];\n    if (js_urls == null) js_urls = [];\n\n    root._bokeh_onload_callbacks.push(callback);\n    if (root._bokeh_is_loading > 0) {\n      console.debug(\"Bokeh: BokehJS is being loaded, scheduling callback at\", now());\n      return null;\n    }\n    if (js_urls == null || js_urls.length === 0) {\n      run_callbacks();\n      return null;\n    }\n    console.debug(\"Bokeh: BokehJS not loaded, scheduling load and callback at\", now());\n    root._bokeh_is_loading = css_urls.length + js_urls.length;\n\n    function on_load() {\n      root._bokeh_is_loading--;\n      if (root._bokeh_is_loading === 0) {\n        console.debug(\"Bokeh: all BokehJS libraries/stylesheets loaded\");\n        run_callbacks()\n      }\n    }\n\n    function on_error(url) {\n      console.error(\"failed to load \" + url);\n    }\n\n    for (let i = 0; i < css_urls.length; i++) {\n      const url = css_urls[i];\n      const element = document.createElement(\"link\");\n      element.onload = on_load;\n      element.onerror = on_error.bind(null, url);\n      element.rel = \"stylesheet\";\n      element.type = \"text/css\";\n      element.href = url;\n      console.debug(\"Bokeh: injecting link tag for BokehJS stylesheet: \", url);\n      document.body.appendChild(element);\n    }\n\n    for (let i = 0; i < js_urls.length; i++) {\n      const url = js_urls[i];\n      const element = document.createElement('script');\n      element.onload = on_load;\n      element.onerror = on_error.bind(null, url);\n      element.async = false;\n      element.src = url;\n      console.debug(\"Bokeh: injecting script tag for BokehJS library: \", url);\n      document.head.appendChild(element);\n    }\n  };\n\n  function inject_raw_css(css) {\n    const element = document.createElement(\"style\");\n    element.appendChild(document.createTextNode(css));\n    document.body.appendChild(element);\n  }\n\n  const js_urls = [\"https://cdn.bokeh.org/bokeh/release/bokeh-2.4.3.min.js\", \"https://cdn.bokeh.org/bokeh/release/bokeh-gl-2.4.3.min.js\", \"https://cdn.bokeh.org/bokeh/release/bokeh-widgets-2.4.3.min.js\", \"https://cdn.bokeh.org/bokeh/release/bokeh-tables-2.4.3.min.js\", \"https://cdn.bokeh.org/bokeh/release/bokeh-mathjax-2.4.3.min.js\"];\n  const css_urls = [];\n\n  const inline_js = [    function(Bokeh) {\n      Bokeh.set_log_level(\"info\");\n    },\nfunction(Bokeh) {\n    }\n  ];\n\n  function run_inline_js() {\n    if (root.Bokeh !== undefined || force === true) {\n          for (let i = 0; i < inline_js.length; i++) {\n      inline_js[i].call(root, root.Bokeh);\n    }\nif (force === true) {\n        display_loaded();\n      }} else if (Date.now() < root._bokeh_timeout) {\n      setTimeout(run_inline_js, 100);\n    } else if (!root._bokeh_failed_load) {\n      console.log(\"Bokeh: BokehJS failed to load within specified timeout.\");\n      root._bokeh_failed_load = true;\n    } else if (force !== true) {\n      const cell = $(document.getElementById(\"1002\")).parents('.cell').data().cell;\n      cell.output_area.append_execute_result(NB_LOAD_WARNING)\n    }\n  }\n\n  if (root._bokeh_is_loading === 0) {\n    console.debug(\"Bokeh: BokehJS loaded, going straight to plotting\");\n    run_inline_js();\n  } else {\n    load_libs(css_urls, js_urls, function() {\n      console.debug(\"Bokeh: BokehJS plotting callback run at\", now());\n      run_inline_js();\n    });\n  }\n}(window));"
     },
     "metadata": {},
     "output_type": "display_data"
    }
   ],
   "source": [
    "from IPython.display import display, HTML\n",
    "display(HTML(\"<style>.container { width:100% !important; }</style>\"))\n",
    "\n",
    "import numpy as np\n",
    "from tqdm import tqdm\n",
    "\n",
    "from bokeh.plotting import figure, show, output_file, save\n",
    "from bokeh.layouts import gridplot\n",
    "from bokeh.io import output_notebook\n",
    "from bokeh.palettes import Viridis, Category10, Category20\n",
    "from bokeh.io import export_svg\n",
    "output_notebook()"
   ]
  },
  {
   "cell_type": "code",
   "execution_count": 3,
   "metadata": {
    "ExecuteTime": {
     "end_time": "2022-10-18T16:34:22.192897Z",
     "start_time": "2022-10-18T16:34:21.557216Z"
    }
   },
   "outputs": [
    {
     "data": {
      "text/html": [
       "<div class=\"bk-root\">\n",
       "        <a href=\"https://bokeh.org\" target=\"_blank\" class=\"bk-logo bk-logo-small bk-logo-notebook\"></a>\n",
       "        <span id=\"1003\">Loading BokehJS ...</span>\n",
       "    </div>\n"
      ]
     },
     "metadata": {},
     "output_type": "display_data"
    },
    {
     "data": {
      "application/javascript": [
       "(function(root) {\n",
       "  function now() {\n",
       "    return new Date();\n",
       "  }\n",
       "\n",
       "  const force = true;\n",
       "\n",
       "  if (typeof root._bokeh_onload_callbacks === \"undefined\" || force === true) {\n",
       "    root._bokeh_onload_callbacks = [];\n",
       "    root._bokeh_is_loading = undefined;\n",
       "  }\n",
       "\n",
       "const JS_MIME_TYPE = 'application/javascript';\n",
       "  const HTML_MIME_TYPE = 'text/html';\n",
       "  const EXEC_MIME_TYPE = 'application/vnd.bokehjs_exec.v0+json';\n",
       "  const CLASS_NAME = 'output_bokeh rendered_html';\n",
       "\n",
       "  /**\n",
       "   * Render data to the DOM node\n",
       "   */\n",
       "  function render(props, node) {\n",
       "    const script = document.createElement(\"script\");\n",
       "    node.appendChild(script);\n",
       "  }\n",
       "\n",
       "  /**\n",
       "   * Handle when an output is cleared or removed\n",
       "   */\n",
       "  function handleClearOutput(event, handle) {\n",
       "    const cell = handle.cell;\n",
       "\n",
       "    const id = cell.output_area._bokeh_element_id;\n",
       "    const server_id = cell.output_area._bokeh_server_id;\n",
       "    // Clean up Bokeh references\n",
       "    if (id != null && id in Bokeh.index) {\n",
       "      Bokeh.index[id].model.document.clear();\n",
       "      delete Bokeh.index[id];\n",
       "    }\n",
       "\n",
       "    if (server_id !== undefined) {\n",
       "      // Clean up Bokeh references\n",
       "      const cmd_clean = \"from bokeh.io.state import curstate; print(curstate().uuid_to_server['\" + server_id + \"'].get_sessions()[0].document.roots[0]._id)\";\n",
       "      cell.notebook.kernel.execute(cmd_clean, {\n",
       "        iopub: {\n",
       "          output: function(msg) {\n",
       "            const id = msg.content.text.trim();\n",
       "            if (id in Bokeh.index) {\n",
       "              Bokeh.index[id].model.document.clear();\n",
       "              delete Bokeh.index[id];\n",
       "            }\n",
       "          }\n",
       "        }\n",
       "      });\n",
       "      // Destroy server and session\n",
       "      const cmd_destroy = \"import bokeh.io.notebook as ion; ion.destroy_server('\" + server_id + \"')\";\n",
       "      cell.notebook.kernel.execute(cmd_destroy);\n",
       "    }\n",
       "  }\n",
       "\n",
       "  /**\n",
       "   * Handle when a new output is added\n",
       "   */\n",
       "  function handleAddOutput(event, handle) {\n",
       "    const output_area = handle.output_area;\n",
       "    const output = handle.output;\n",
       "\n",
       "    // limit handleAddOutput to display_data with EXEC_MIME_TYPE content only\n",
       "    if ((output.output_type != \"display_data\") || (!Object.prototype.hasOwnProperty.call(output.data, EXEC_MIME_TYPE))) {\n",
       "      return\n",
       "    }\n",
       "\n",
       "    const toinsert = output_area.element.find(\".\" + CLASS_NAME.split(' ')[0]);\n",
       "\n",
       "    if (output.metadata[EXEC_MIME_TYPE][\"id\"] !== undefined) {\n",
       "      toinsert[toinsert.length - 1].firstChild.textContent = output.data[JS_MIME_TYPE];\n",
       "      // store reference to embed id on output_area\n",
       "      output_area._bokeh_element_id = output.metadata[EXEC_MIME_TYPE][\"id\"];\n",
       "    }\n",
       "    if (output.metadata[EXEC_MIME_TYPE][\"server_id\"] !== undefined) {\n",
       "      const bk_div = document.createElement(\"div\");\n",
       "      bk_div.innerHTML = output.data[HTML_MIME_TYPE];\n",
       "      const script_attrs = bk_div.children[0].attributes;\n",
       "      for (let i = 0; i < script_attrs.length; i++) {\n",
       "        toinsert[toinsert.length - 1].firstChild.setAttribute(script_attrs[i].name, script_attrs[i].value);\n",
       "        toinsert[toinsert.length - 1].firstChild.textContent = bk_div.children[0].textContent\n",
       "      }\n",
       "      // store reference to server id on output_area\n",
       "      output_area._bokeh_server_id = output.metadata[EXEC_MIME_TYPE][\"server_id\"];\n",
       "    }\n",
       "  }\n",
       "\n",
       "  function register_renderer(events, OutputArea) {\n",
       "\n",
       "    function append_mime(data, metadata, element) {\n",
       "      // create a DOM node to render to\n",
       "      const toinsert = this.create_output_subarea(\n",
       "        metadata,\n",
       "        CLASS_NAME,\n",
       "        EXEC_MIME_TYPE\n",
       "      );\n",
       "      this.keyboard_manager.register_events(toinsert);\n",
       "      // Render to node\n",
       "      const props = {data: data, metadata: metadata[EXEC_MIME_TYPE]};\n",
       "      render(props, toinsert[toinsert.length - 1]);\n",
       "      element.append(toinsert);\n",
       "      return toinsert\n",
       "    }\n",
       "\n",
       "    /* Handle when an output is cleared or removed */\n",
       "    events.on('clear_output.CodeCell', handleClearOutput);\n",
       "    events.on('delete.Cell', handleClearOutput);\n",
       "\n",
       "    /* Handle when a new output is added */\n",
       "    events.on('output_added.OutputArea', handleAddOutput);\n",
       "\n",
       "    /**\n",
       "     * Register the mime type and append_mime function with output_area\n",
       "     */\n",
       "    OutputArea.prototype.register_mime_type(EXEC_MIME_TYPE, append_mime, {\n",
       "      /* Is output safe? */\n",
       "      safe: true,\n",
       "      /* Index of renderer in `output_area.display_order` */\n",
       "      index: 0\n",
       "    });\n",
       "  }\n",
       "\n",
       "  // register the mime type if in Jupyter Notebook environment and previously unregistered\n",
       "  if (root.Jupyter !== undefined) {\n",
       "    const events = require('base/js/events');\n",
       "    const OutputArea = require('notebook/js/outputarea').OutputArea;\n",
       "\n",
       "    if (OutputArea.prototype.mime_types().indexOf(EXEC_MIME_TYPE) == -1) {\n",
       "      register_renderer(events, OutputArea);\n",
       "    }\n",
       "  }\n",
       "  if (typeof (root._bokeh_timeout) === \"undefined\" || force === true) {\n",
       "    root._bokeh_timeout = Date.now() + 5000;\n",
       "    root._bokeh_failed_load = false;\n",
       "  }\n",
       "\n",
       "  const NB_LOAD_WARNING = {'data': {'text/html':\n",
       "     \"<div style='background-color: #fdd'>\\n\"+\n",
       "     \"<p>\\n\"+\n",
       "     \"BokehJS does not appear to have successfully loaded. If loading BokehJS from CDN, this \\n\"+\n",
       "     \"may be due to a slow or bad network connection. Possible fixes:\\n\"+\n",
       "     \"</p>\\n\"+\n",
       "     \"<ul>\\n\"+\n",
       "     \"<li>re-rerun `output_notebook()` to attempt to load from CDN again, or</li>\\n\"+\n",
       "     \"<li>use INLINE resources instead, as so:</li>\\n\"+\n",
       "     \"</ul>\\n\"+\n",
       "     \"<code>\\n\"+\n",
       "     \"from bokeh.resources import INLINE\\n\"+\n",
       "     \"output_notebook(resources=INLINE)\\n\"+\n",
       "     \"</code>\\n\"+\n",
       "     \"</div>\"}};\n",
       "\n",
       "  function display_loaded() {\n",
       "    const el = document.getElementById(\"1003\");\n",
       "    if (el != null) {\n",
       "      el.textContent = \"BokehJS is loading...\";\n",
       "    }\n",
       "    if (root.Bokeh !== undefined) {\n",
       "      if (el != null) {\n",
       "        el.textContent = \"BokehJS \" + root.Bokeh.version + \" successfully loaded.\";\n",
       "      }\n",
       "    } else if (Date.now() < root._bokeh_timeout) {\n",
       "      setTimeout(display_loaded, 100)\n",
       "    }\n",
       "  }\n",
       "\n",
       "  function run_callbacks() {\n",
       "    try {\n",
       "      root._bokeh_onload_callbacks.forEach(function(callback) {\n",
       "        if (callback != null)\n",
       "          callback();\n",
       "      });\n",
       "    } finally {\n",
       "      delete root._bokeh_onload_callbacks\n",
       "    }\n",
       "    console.debug(\"Bokeh: all callbacks have finished\");\n",
       "  }\n",
       "\n",
       "  function load_libs(css_urls, js_urls, callback) {\n",
       "    if (css_urls == null) css_urls = [];\n",
       "    if (js_urls == null) js_urls = [];\n",
       "\n",
       "    root._bokeh_onload_callbacks.push(callback);\n",
       "    if (root._bokeh_is_loading > 0) {\n",
       "      console.debug(\"Bokeh: BokehJS is being loaded, scheduling callback at\", now());\n",
       "      return null;\n",
       "    }\n",
       "    if (js_urls == null || js_urls.length === 0) {\n",
       "      run_callbacks();\n",
       "      return null;\n",
       "    }\n",
       "    console.debug(\"Bokeh: BokehJS not loaded, scheduling load and callback at\", now());\n",
       "    root._bokeh_is_loading = css_urls.length + js_urls.length;\n",
       "\n",
       "    function on_load() {\n",
       "      root._bokeh_is_loading--;\n",
       "      if (root._bokeh_is_loading === 0) {\n",
       "        console.debug(\"Bokeh: all BokehJS libraries/stylesheets loaded\");\n",
       "        run_callbacks()\n",
       "      }\n",
       "    }\n",
       "\n",
       "    function on_error(url) {\n",
       "      console.error(\"failed to load \" + url);\n",
       "    }\n",
       "\n",
       "    for (let i = 0; i < css_urls.length; i++) {\n",
       "      const url = css_urls[i];\n",
       "      const element = document.createElement(\"link\");\n",
       "      element.onload = on_load;\n",
       "      element.onerror = on_error.bind(null, url);\n",
       "      element.rel = \"stylesheet\";\n",
       "      element.type = \"text/css\";\n",
       "      element.href = url;\n",
       "      console.debug(\"Bokeh: injecting link tag for BokehJS stylesheet: \", url);\n",
       "      document.body.appendChild(element);\n",
       "    }\n",
       "\n",
       "    for (let i = 0; i < js_urls.length; i++) {\n",
       "      const url = js_urls[i];\n",
       "      const element = document.createElement('script');\n",
       "      element.onload = on_load;\n",
       "      element.onerror = on_error.bind(null, url);\n",
       "      element.async = false;\n",
       "      element.src = url;\n",
       "      console.debug(\"Bokeh: injecting script tag for BokehJS library: \", url);\n",
       "      document.head.appendChild(element);\n",
       "    }\n",
       "  };\n",
       "\n",
       "  function inject_raw_css(css) {\n",
       "    const element = document.createElement(\"style\");\n",
       "    element.appendChild(document.createTextNode(css));\n",
       "    document.body.appendChild(element);\n",
       "  }\n",
       "\n",
       "  const js_urls = [\"https://cdn.bokeh.org/bokeh/release/bokeh-2.4.3.min.js\", \"https://cdn.bokeh.org/bokeh/release/bokeh-gl-2.4.3.min.js\", \"https://cdn.bokeh.org/bokeh/release/bokeh-widgets-2.4.3.min.js\", \"https://cdn.bokeh.org/bokeh/release/bokeh-tables-2.4.3.min.js\", \"https://cdn.bokeh.org/bokeh/release/bokeh-mathjax-2.4.3.min.js\"];\n",
       "  const css_urls = [];\n",
       "\n",
       "  const inline_js = [    function(Bokeh) {\n",
       "      Bokeh.set_log_level(\"info\");\n",
       "    },\n",
       "function(Bokeh) {\n",
       "    }\n",
       "  ];\n",
       "\n",
       "  function run_inline_js() {\n",
       "    if (root.Bokeh !== undefined || force === true) {\n",
       "          for (let i = 0; i < inline_js.length; i++) {\n",
       "      inline_js[i].call(root, root.Bokeh);\n",
       "    }\n",
       "if (force === true) {\n",
       "        display_loaded();\n",
       "      }} else if (Date.now() < root._bokeh_timeout) {\n",
       "      setTimeout(run_inline_js, 100);\n",
       "    } else if (!root._bokeh_failed_load) {\n",
       "      console.log(\"Bokeh: BokehJS failed to load within specified timeout.\");\n",
       "      root._bokeh_failed_load = true;\n",
       "    } else if (force !== true) {\n",
       "      const cell = $(document.getElementById(\"1003\")).parents('.cell').data().cell;\n",
       "      cell.output_area.append_execute_result(NB_LOAD_WARNING)\n",
       "    }\n",
       "  }\n",
       "\n",
       "  if (root._bokeh_is_loading === 0) {\n",
       "    console.debug(\"Bokeh: BokehJS loaded, going straight to plotting\");\n",
       "    run_inline_js();\n",
       "  } else {\n",
       "    load_libs(css_urls, js_urls, function() {\n",
       "      console.debug(\"Bokeh: BokehJS plotting callback run at\", now());\n",
       "      run_inline_js();\n",
       "    });\n",
       "  }\n",
       "}(window));"
      ],
      "application/vnd.bokehjs_load.v0+json": "(function(root) {\n  function now() {\n    return new Date();\n  }\n\n  const force = true;\n\n  if (typeof root._bokeh_onload_callbacks === \"undefined\" || force === true) {\n    root._bokeh_onload_callbacks = [];\n    root._bokeh_is_loading = undefined;\n  }\n\n\n  if (typeof (root._bokeh_timeout) === \"undefined\" || force === true) {\n    root._bokeh_timeout = Date.now() + 5000;\n    root._bokeh_failed_load = false;\n  }\n\n  const NB_LOAD_WARNING = {'data': {'text/html':\n     \"<div style='background-color: #fdd'>\\n\"+\n     \"<p>\\n\"+\n     \"BokehJS does not appear to have successfully loaded. If loading BokehJS from CDN, this \\n\"+\n     \"may be due to a slow or bad network connection. Possible fixes:\\n\"+\n     \"</p>\\n\"+\n     \"<ul>\\n\"+\n     \"<li>re-rerun `output_notebook()` to attempt to load from CDN again, or</li>\\n\"+\n     \"<li>use INLINE resources instead, as so:</li>\\n\"+\n     \"</ul>\\n\"+\n     \"<code>\\n\"+\n     \"from bokeh.resources import INLINE\\n\"+\n     \"output_notebook(resources=INLINE)\\n\"+\n     \"</code>\\n\"+\n     \"</div>\"}};\n\n  function display_loaded() {\n    const el = document.getElementById(\"1003\");\n    if (el != null) {\n      el.textContent = \"BokehJS is loading...\";\n    }\n    if (root.Bokeh !== undefined) {\n      if (el != null) {\n        el.textContent = \"BokehJS \" + root.Bokeh.version + \" successfully loaded.\";\n      }\n    } else if (Date.now() < root._bokeh_timeout) {\n      setTimeout(display_loaded, 100)\n    }\n  }\n\n  function run_callbacks() {\n    try {\n      root._bokeh_onload_callbacks.forEach(function(callback) {\n        if (callback != null)\n          callback();\n      });\n    } finally {\n      delete root._bokeh_onload_callbacks\n    }\n    console.debug(\"Bokeh: all callbacks have finished\");\n  }\n\n  function load_libs(css_urls, js_urls, callback) {\n    if (css_urls == null) css_urls = [];\n    if (js_urls == null) js_urls = [];\n\n    root._bokeh_onload_callbacks.push(callback);\n    if (root._bokeh_is_loading > 0) {\n      console.debug(\"Bokeh: BokehJS is being loaded, scheduling callback at\", now());\n      return null;\n    }\n    if (js_urls == null || js_urls.length === 0) {\n      run_callbacks();\n      return null;\n    }\n    console.debug(\"Bokeh: BokehJS not loaded, scheduling load and callback at\", now());\n    root._bokeh_is_loading = css_urls.length + js_urls.length;\n\n    function on_load() {\n      root._bokeh_is_loading--;\n      if (root._bokeh_is_loading === 0) {\n        console.debug(\"Bokeh: all BokehJS libraries/stylesheets loaded\");\n        run_callbacks()\n      }\n    }\n\n    function on_error(url) {\n      console.error(\"failed to load \" + url);\n    }\n\n    for (let i = 0; i < css_urls.length; i++) {\n      const url = css_urls[i];\n      const element = document.createElement(\"link\");\n      element.onload = on_load;\n      element.onerror = on_error.bind(null, url);\n      element.rel = \"stylesheet\";\n      element.type = \"text/css\";\n      element.href = url;\n      console.debug(\"Bokeh: injecting link tag for BokehJS stylesheet: \", url);\n      document.body.appendChild(element);\n    }\n\n    for (let i = 0; i < js_urls.length; i++) {\n      const url = js_urls[i];\n      const element = document.createElement('script');\n      element.onload = on_load;\n      element.onerror = on_error.bind(null, url);\n      element.async = false;\n      element.src = url;\n      console.debug(\"Bokeh: injecting script tag for BokehJS library: \", url);\n      document.head.appendChild(element);\n    }\n  };\n\n  function inject_raw_css(css) {\n    const element = document.createElement(\"style\");\n    element.appendChild(document.createTextNode(css));\n    document.body.appendChild(element);\n  }\n\n  const js_urls = [\"https://cdn.bokeh.org/bokeh/release/bokeh-2.4.3.min.js\", \"https://cdn.bokeh.org/bokeh/release/bokeh-gl-2.4.3.min.js\", \"https://cdn.bokeh.org/bokeh/release/bokeh-widgets-2.4.3.min.js\", \"https://cdn.bokeh.org/bokeh/release/bokeh-tables-2.4.3.min.js\", \"https://cdn.bokeh.org/bokeh/release/bokeh-mathjax-2.4.3.min.js\"];\n  const css_urls = [];\n\n  const inline_js = [    function(Bokeh) {\n      Bokeh.set_log_level(\"info\");\n    },\nfunction(Bokeh) {\n    }\n  ];\n\n  function run_inline_js() {\n    if (root.Bokeh !== undefined || force === true) {\n          for (let i = 0; i < inline_js.length; i++) {\n      inline_js[i].call(root, root.Bokeh);\n    }\nif (force === true) {\n        display_loaded();\n      }} else if (Date.now() < root._bokeh_timeout) {\n      setTimeout(run_inline_js, 100);\n    } else if (!root._bokeh_failed_load) {\n      console.log(\"Bokeh: BokehJS failed to load within specified timeout.\");\n      root._bokeh_failed_load = true;\n    } else if (force !== true) {\n      const cell = $(document.getElementById(\"1003\")).parents('.cell').data().cell;\n      cell.output_area.append_execute_result(NB_LOAD_WARNING)\n    }\n  }\n\n  if (root._bokeh_is_loading === 0) {\n    console.debug(\"Bokeh: BokehJS loaded, going straight to plotting\");\n    run_inline_js();\n  } else {\n    load_libs(css_urls, js_urls, function() {\n      console.debug(\"Bokeh: BokehJS plotting callback run at\", now());\n      run_inline_js();\n    });\n  }\n}(window));"
     },
     "metadata": {},
     "output_type": "display_data"
    }
   ],
   "source": [
    "from metamod.control import SingleLayerEq, SingleLayerControl\n",
    "from metamod.tasks import AffineCorrelatedGaussian, TwoGaussians\n",
    "from metamod.trainers import single_layer_training\n",
    "from metamod.networks import SingleLayerNet\n",
    "from metamod.utils import plot_lines, plot_weight_ev, check_dir, save_var, get_date_time"
   ]
  },
  {
   "cell_type": "code",
   "execution_count": 4,
   "metadata": {
    "ExecuteTime": {
     "end_time": "2022-10-18T16:34:22.708796Z",
     "start_time": "2022-10-18T16:34:22.701753Z"
    }
   },
   "outputs": [],
   "source": [
    "run_name = \"testing_square_loss_single_neuron\"\n",
    "results_path = \"../results\""
   ]
  },
  {
   "cell_type": "code",
   "execution_count": 5,
   "metadata": {
    "ExecuteTime": {
     "end_time": "2022-10-18T16:34:23.143985Z",
     "start_time": "2022-10-18T16:34:23.141670Z"
    }
   },
   "outputs": [],
   "source": [
    "results_dict = {}"
   ]
  },
  {
   "cell_type": "code",
   "execution_count": 6,
   "metadata": {
    "ExecuteTime": {
     "end_time": "2022-10-18T16:34:23.343309Z",
     "start_time": "2022-10-18T16:34:23.341049Z"
    }
   },
   "outputs": [],
   "source": [
    "#dataset_params = {\"mu_vec\": (3.0, 1.0), \n",
    "#                  \"batch_size\": 256, \n",
    "#                  \"dependence_parameter\": 0.8, \n",
    "#                  \"sigma_vec\":(1.0, 1.0)}\n",
    "\n",
    "#dataset = AffineCorrelatedGaussian(**dataset_params)\n",
    "\n",
    "dataset_params = {\"mu\": 2.0, \n",
    "                  \"batch_size\": 128, \n",
    "                  \"std\": 1.0}\n",
    "dataset = TwoGaussians(**dataset_params)"
   ]
  },
  {
   "cell_type": "code",
   "execution_count": 7,
   "metadata": {
    "ExecuteTime": {
     "end_time": "2022-10-18T16:34:25.903442Z",
     "start_time": "2022-10-18T16:34:23.512686Z"
    }
   },
   "outputs": [],
   "source": [
    "model_params = {\"learning_rate\": 1e-3,\n",
    "                \"reg_coef\": 0.1,\n",
    "                \"intrinsic_noise\": 0.0,\n",
    "                \"input_dim\": dataset.input_dim,\n",
    "                \"output_dim\": dataset.output_dim,\n",
    "                \"W_0\": np.zeros((1, 1))}\n",
    "\n",
    "model = SingleLayerNet(**model_params)"
   ]
  },
  {
   "cell_type": "code",
   "execution_count": 8,
   "metadata": {
    "ExecuteTime": {
     "end_time": "2022-10-18T16:34:29.153628Z",
     "start_time": "2022-10-18T16:34:25.904517Z"
    }
   },
   "outputs": [
    {
     "name": "stderr",
     "output_type": "stream",
     "text": [
      "100%|███████████████████████████████████████████████████████████████████████████████████████████████████████████████████████████████████████████████████████████████████████████| 600/600 [00:01<00:00, 431.34it/s]\n"
     ]
    }
   ],
   "source": [
    "n_steps = 600\n",
    "save_weights_every = 20\n",
    "\n",
    "iters, loss, weights_iter, weights = single_layer_training(model=model, dataset=dataset, n_steps=n_steps, save_weights_every=save_weights_every)\n",
    "\n",
    "results_dict[\"iters\"] = iters\n",
    "results_dict[\"Loss_t_sim\"] = loss\n",
    "results_dict[\"weights_sim\"] = weights\n",
    "results_dict[\"weights_iters_sim\"] = weights_iter"
   ]
  },
  {
   "cell_type": "code",
   "execution_count": 9,
   "metadata": {
    "ExecuteTime": {
     "end_time": "2022-10-18T16:34:29.157446Z",
     "start_time": "2022-10-18T16:34:29.154803Z"
    }
   },
   "outputs": [
    {
     "data": {
      "text/plain": [
       "(30, 1, 1)"
      ]
     },
     "execution_count": 9,
     "metadata": {},
     "output_type": "execute_result"
    }
   ],
   "source": [
    "weights.shape"
   ]
  },
  {
   "cell_type": "code",
   "execution_count": 10,
   "metadata": {
    "ExecuteTime": {
     "end_time": "2022-10-18T16:34:29.163851Z",
     "start_time": "2022-10-18T16:34:29.158424Z"
    }
   },
   "outputs": [],
   "source": [
    "init_W = weights[0, ...]\n",
    "\n",
    "init_weights = init_W\n",
    "input_corr, output_corr, input_output_corr, expected_y, expected_x = dataset.get_correlation_matrix()\n",
    "\n",
    "time_span = np.arange(0, len(iters))*model_params[\"learning_rate\"]\n",
    "results_dict[\"time_span\"] = time_span"
   ]
  },
  {
   "cell_type": "code",
   "execution_count": 11,
   "metadata": {},
   "outputs": [
    {
     "data": {
      "text/plain": [
       "(1, 1)"
      ]
     },
     "execution_count": 11,
     "metadata": {},
     "output_type": "execute_result"
    }
   ],
   "source": [
    "init_W.shape"
   ]
  },
  {
   "cell_type": "code",
   "execution_count": 12,
   "metadata": {
    "ExecuteTime": {
     "end_time": "2022-10-18T16:34:29.166717Z",
     "start_time": "2022-10-18T16:34:29.164694Z"
    }
   },
   "outputs": [],
   "source": [
    "equation_params = {\"in_cov\": input_corr,\n",
    "                   \"out_cov\": output_corr,\n",
    "                   \"in_out_cov\": input_output_corr,\n",
    "                   # \"expected_y\": expected_y,\n",
    "                   # \"expected_x\": expected_x,\n",
    "                   \"init_weights\": init_weights,\n",
    "                   \"n_steps\": n_steps,\n",
    "                   \"reg_coef\": model_params[\"reg_coef\"],\n",
    "                   \"intrinsic_noise\": model_params[\"intrinsic_noise\"],\n",
    "                   \"learning_rate\": model_params[\"learning_rate\"],\n",
    "                   \"time_constant\": 1.0}"
   ]
  },
  {
   "cell_type": "code",
   "execution_count": 13,
   "metadata": {
    "ExecuteTime": {
     "end_time": "2022-10-18T16:34:29.169575Z",
     "start_time": "2022-10-18T16:34:29.167556Z"
    }
   },
   "outputs": [],
   "source": [
    "solver = SingleLayerEq(**equation_params)"
   ]
  },
  {
   "cell_type": "code",
   "execution_count": 14,
   "metadata": {
    "ExecuteTime": {
     "end_time": "2022-10-18T16:34:29.172237Z",
     "start_time": "2022-10-18T16:34:29.170353Z"
    }
   },
   "outputs": [],
   "source": [
    "control_params = {**equation_params,\n",
    "                  \"control_lower_bound\": 0.0,\n",
    "                  \"control_upper_bound\": 0.5,\n",
    "                  \"gamma\": 0.99,\n",
    "                  \"cost_coef\": 0.3,\n",
    "                  \"reward_convertion\": 1.0,\n",
    "                  \"init_g\": None,\n",
    "                  \"control_lr\": 10.0,\n",
    "                  \"square_control_loss\": True}"
   ]
  },
  {
   "cell_type": "code",
   "execution_count": 15,
   "metadata": {
    "ExecuteTime": {
     "end_time": "2022-10-18T16:34:29.176174Z",
     "start_time": "2022-10-18T16:34:29.173724Z"
    }
   },
   "outputs": [],
   "source": [
    "control = SingleLayerControl(**control_params)"
   ]
  },
  {
   "cell_type": "code",
   "execution_count": 16,
   "metadata": {
    "ExecuteTime": {
     "end_time": "2022-10-18T16:34:29.179835Z",
     "start_time": "2022-10-18T16:34:29.177582Z"
    }
   },
   "outputs": [
    {
     "name": "stdout",
     "output_type": "stream",
     "text": [
      "(30, 1, 1) torch.Size([600, 1, 1])\n"
     ]
    }
   ],
   "source": [
    "sim_weights = weights\n",
    "print(sim_weights.shape, control.g_tilda.shape)"
   ]
  },
  {
   "cell_type": "code",
   "execution_count": 17,
   "metadata": {
    "ExecuteTime": {
     "end_time": "2022-10-18T16:34:29.939356Z",
     "start_time": "2022-10-18T16:34:29.180732Z"
    }
   },
   "outputs": [],
   "source": [
    "W_t= solver.get_weights(time_span, get_numpy=True)\n",
    "Loss_t = solver.get_loss_function(W_t, get_numpy=True)\n",
    "\n",
    "results_dict[\"W_t_eq\"] = W_t\n",
    "results_dict[\"Loss_t_eq\"] = Loss_t"
   ]
  },
  {
   "cell_type": "code",
   "execution_count": 18,
   "metadata": {
    "ExecuteTime": {
     "end_time": "2022-10-18T16:34:31.285075Z",
     "start_time": "2022-10-18T16:34:29.940312Z"
    }
   },
   "outputs": [],
   "source": [
    "W_t_control = control.get_weights(time_span, get_numpy=True)\n",
    "Loss_t_control = control.get_loss_function(W_t_control, get_numpy=True)\n",
    "\n",
    "results_dict[\"W_t_control_init\"] = W_t_control\n",
    "results_dict[\"Loss_t_control_init\"] = Loss_t_control\n",
    "results_dict[\"control_signal_init\"] = control.g_tilda"
   ]
  },
  {
   "cell_type": "code",
   "execution_count": 19,
   "metadata": {
    "ExecuteTime": {
     "end_time": "2022-10-18T16:34:31.364595Z",
     "start_time": "2022-10-18T16:34:31.286237Z"
    }
   },
   "outputs": [
    {
     "data": {
      "text/html": [
       "\n",
       "  <div class=\"bk-root\" id=\"a9079f36-a6f0-4a11-b01e-d272e4f654f4\" data-root-id=\"1004\"></div>\n"
      ]
     },
     "metadata": {},
     "output_type": "display_data"
    },
    {
     "data": {
      "application/javascript": [
       "(function(root) {\n",
       "  function embed_document(root) {\n",
       "  const docs_json = {\"11c3fc3b-964a-406f-9d13-05e36b0741d1\":{\"defs\":[],\"roots\":{\"references\":[{\"attributes\":{\"below\":[{\"id\":\"1013\"}],\"center\":[{\"id\":\"1016\"},{\"id\":\"1020\"},{\"id\":\"1052\"}],\"height\":500,\"left\":[{\"id\":\"1017\"}],\"renderers\":[{\"id\":\"1039\"},{\"id\":\"1058\"},{\"id\":\"1078\"}],\"title\":{\"id\":\"1041\"},\"toolbar\":{\"id\":\"1028\"},\"width\":800,\"x_range\":{\"id\":\"1005\"},\"x_scale\":{\"id\":\"1009\"},\"y_range\":{\"id\":\"1007\"},\"y_scale\":{\"id\":\"1011\"}},\"id\":\"1004\",\"subtype\":\"Figure\",\"type\":\"Plot\"},{\"attributes\":{},\"id\":\"1048\",\"type\":\"AllLabels\"},{\"attributes\":{},\"id\":\"1092\",\"type\":\"UnionRenderers\"},{\"attributes\":{\"data\":{\"x\":[0,1,2,3,4,5,6,7,8,9,10,11,12,13,14,15,16,17,18,19,20,21,22,23,24,25,26,27,28,29,30,31,32,33,34,35,36,37,38,39,40,41,42,43,44,45,46,47,48,49,50,51,52,53,54,55,56,57,58,59,60,61,62,63,64,65,66,67,68,69,70,71,72,73,74,75,76,77,78,79,80,81,82,83,84,85,86,87,88,89,90,91,92,93,94,95,96,97,98,99,100,101,102,103,104,105,106,107,108,109,110,111,112,113,114,115,116,117,118,119,120,121,122,123,124,125,126,127,128,129,130,131,132,133,134,135,136,137,138,139,140,141,142,143,144,145,146,147,148,149,150,151,152,153,154,155,156,157,158,159,160,161,162,163,164,165,166,167,168,169,170,171,172,173,174,175,176,177,178,179,180,181,182,183,184,185,186,187,188,189,190,191,192,193,194,195,196,197,198,199,200,201,202,203,204,205,206,207,208,209,210,211,212,213,214,215,216,217,218,219,220,221,222,223,224,225,226,227,228,229,230,231,232,233,234,235,236,237,238,239,240,241,242,243,244,245,246,247,248,249,250,251,252,253,254,255,256,257,258,259,260,261,262,263,264,265,266,267,268,269,270,271,272,273,274,275,276,277,278,279,280,281,282,283,284,285,286,287,288,289,290,291,292,293,294,295,296,297,298,299,300,301,302,303,304,305,306,307,308,309,310,311,312,313,314,315,316,317,318,319,320,321,322,323,324,325,326,327,328,329,330,331,332,333,334,335,336,337,338,339,340,341,342,343,344,345,346,347,348,349,350,351,352,353,354,355,356,357,358,359,360,361,362,363,364,365,366,367,368,369,370,371,372,373,374,375,376,377,378,379,380,381,382,383,384,385,386,387,388,389,390,391,392,393,394,395,396,397,398,399,400,401,402,403,404,405,406,407,408,409,410,411,412,413,414,415,416,417,418,419,420,421,422,423,424,425,426,427,428,429,430,431,432,433,434,435,436,437,438,439,440,441,442,443,444,445,446,447,448,449,450,451,452,453,454,455,456,457,458,459,460,461,462,463,464,465,466,467,468,469,470,471,472,473,474,475,476,477,478,479,480,481,482,483,484,485,486,487,488,489,490,491,492,493,494,495,496,497,498,499,500,501,502,503,504,505,506,507,508,509,510,511,512,513,514,515,516,517,518,519,520,521,522,523,524,525,526,527,528,529,530,531,532,533,534,535,536,537,538,539,540,541,542,543,544,545,546,547,548,549,550,551,552,553,554,555,556,557,558,559,560,561,562,563,564,565,566,567,568,569,570,571,572,573,574,575,576,577,578,579,580,581,582,583,584,585,586,587,588,589,590,591,592,593,594,595,596,597,598,599],\"y\":{\"__ndarray__\":\"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\",\"dtype\":\"float32\",\"order\":\"little\",\"shape\":[600]}},\"selected\":{\"id\":\"1050\"},\"selection_policy\":{\"id\":\"1049\"}},\"id\":\"1035\",\"type\":\"ColumnDataSource\"},{\"attributes\":{},\"id\":\"1021\",\"type\":\"PanTool\"},{\"attributes\":{},\"id\":\"1093\",\"type\":\"Selection\"},{\"attributes\":{},\"id\":\"1047\",\"type\":\"BasicTickFormatter\"},{\"attributes\":{\"line_alpha\":0.3,\"line_color\":\"#1f77b4\",\"line_width\":3,\"x\":{\"field\":\"x\"},\"y\":{\"field\":\"y\"}},\"id\":\"1036\",\"type\":\"Line\"},{\"attributes\":{},\"id\":\"1022\",\"type\":\"WheelZoomTool\"},{\"attributes\":{\"axis\":{\"id\":\"1013\"},\"coordinates\":null,\"group\":null,\"ticker\":null},\"id\":\"1016\",\"type\":\"Grid\"},{\"attributes\":{},\"id\":\"1014\",\"type\":\"BasicTicker\"},{\"attributes\":{},\"id\":\"1045\",\"type\":\"AllLabels\"},{\"attributes\":{},\"id\":\"1071\",\"type\":\"Selection\"},{\"attributes\":{},\"id\":\"1044\",\"type\":\"BasicTickFormatter\"},{\"attributes\":{},\"id\":\"1009\",\"type\":\"LinearScale\"},{\"attributes\":{},\"id\":\"1005\",\"type\":\"DataRange1d\"},{\"attributes\":{\"coordinates\":null,\"data_source\":{\"id\":\"1074\"},\"glyph\":{\"id\":\"1075\"},\"group\":null,\"hover_glyph\":null,\"muted_glyph\":{\"id\":\"1077\"},\"nonselection_glyph\":{\"id\":\"1076\"},\"view\":{\"id\":\"1079\"}},\"id\":\"1078\",\"type\":\"GlyphRenderer\"},{\"attributes\":{},\"id\":\"1070\",\"type\":\"UnionRenderers\"},{\"attributes\":{},\"id\":\"1007\",\"type\":\"DataRange1d\"},{\"attributes\":{\"line_alpha\":0.2,\"line_color\":\"#ff7f0e\",\"line_width\":3,\"x\":{\"field\":\"x\"},\"y\":{\"field\":\"y\"}},\"id\":\"1077\",\"type\":\"Line\"},{\"attributes\":{},\"id\":\"1011\",\"type\":\"LinearScale\"},{\"attributes\":{},\"id\":\"1049\",\"type\":\"UnionRenderers\"},{\"attributes\":{\"coordinates\":null,\"group\":null},\"id\":\"1041\",\"type\":\"Title\"},{\"attributes\":{\"bottom_units\":\"screen\",\"coordinates\":null,\"fill_alpha\":0.5,\"fill_color\":\"lightgrey\",\"group\":null,\"left_units\":\"screen\",\"level\":\"overlay\",\"line_alpha\":1.0,\"line_color\":\"black\",\"line_dash\":[4,4],\"line_width\":2,\"right_units\":\"screen\",\"syncable\":false,\"top_units\":\"screen\"},\"id\":\"1027\",\"type\":\"BoxAnnotation\"},{\"attributes\":{\"line_alpha\":0.1,\"line_color\":\"#1f77b4\",\"line_width\":3,\"x\":{\"field\":\"x\"},\"y\":{\"field\":\"y\"}},\"id\":\"1037\",\"type\":\"Line\"},{\"attributes\":{\"axis\":{\"id\":\"1017\"},\"coordinates\":null,\"dimension\":1,\"group\":null,\"ticker\":null},\"id\":\"1020\",\"type\":\"Grid\"},{\"attributes\":{},\"id\":\"1026\",\"type\":\"HelpTool\"},{\"attributes\":{\"overlay\":{\"id\":\"1027\"}},\"id\":\"1023\",\"type\":\"BoxZoomTool\"},{\"attributes\":{\"source\":{\"id\":\"1074\"}},\"id\":\"1079\",\"type\":\"CDSView\"},{\"attributes\":{\"axis_label\":\"iters\",\"coordinates\":null,\"formatter\":{\"id\":\"1047\"},\"group\":null,\"major_label_policy\":{\"id\":\"1048\"},\"ticker\":{\"id\":\"1014\"}},\"id\":\"1013\",\"type\":\"LinearAxis\"},{\"attributes\":{\"axis_label\":\"Loss\",\"coordinates\":null,\"formatter\":{\"id\":\"1044\"},\"group\":null,\"major_label_policy\":{\"id\":\"1045\"},\"ticker\":{\"id\":\"1018\"}},\"id\":\"1017\",\"type\":\"LinearAxis\"},{\"attributes\":{\"coordinates\":null,\"data_source\":{\"id\":\"1035\"},\"glyph\":{\"id\":\"1036\"},\"group\":null,\"hover_glyph\":null,\"muted_glyph\":{\"id\":\"1038\"},\"nonselection_glyph\":{\"id\":\"1037\"},\"view\":{\"id\":\"1040\"}},\"id\":\"1039\",\"type\":\"GlyphRenderer\"},{\"attributes\":{},\"id\":\"1018\",\"type\":\"BasicTicker\"},{\"attributes\":{\"label\":{\"value\":\"Real Non-linear\"},\"renderers\":[{\"id\":\"1039\"}]},\"id\":\"1053\",\"type\":\"LegendItem\"},{\"attributes\":{\"label\":{\"value\":\"Init Control\"},\"renderers\":[{\"id\":\"1078\"}]},\"id\":\"1095\",\"type\":\"LegendItem\"},{\"attributes\":{\"line_color\":\"#1f77b4\",\"line_width\":3,\"x\":{\"field\":\"x\"},\"y\":{\"field\":\"y\"}},\"id\":\"1055\",\"type\":\"Line\"},{\"attributes\":{\"line_color\":\"#ff7f0e\",\"line_width\":3,\"x\":{\"field\":\"x\"},\"y\":{\"field\":\"y\"}},\"id\":\"1075\",\"type\":\"Line\"},{\"attributes\":{},\"id\":\"1024\",\"type\":\"SaveTool\"},{\"attributes\":{\"source\":{\"id\":\"1054\"}},\"id\":\"1059\",\"type\":\"CDSView\"},{\"attributes\":{},\"id\":\"1025\",\"type\":\"ResetTool\"},{\"attributes\":{\"tools\":[{\"id\":\"1021\"},{\"id\":\"1022\"},{\"id\":\"1023\"},{\"id\":\"1024\"},{\"id\":\"1025\"},{\"id\":\"1026\"}]},\"id\":\"1028\",\"type\":\"Toolbar\"},{\"attributes\":{\"data\":{\"x\":[0,1,2,3,4,5,6,7,8,9,10,11,12,13,14,15,16,17,18,19,20,21,22,23,24,25,26,27,28,29,30,31,32,33,34,35,36,37,38,39,40,41,42,43,44,45,46,47,48,49,50,51,52,53,54,55,56,57,58,59,60,61,62,63,64,65,66,67,68,69,70,71,72,73,74,75,76,77,78,79,80,81,82,83,84,85,86,87,88,89,90,91,92,93,94,95,96,97,98,99,100,101,102,103,104,105,106,107,108,109,110,111,112,113,114,115,116,117,118,119,120,121,122,123,124,125,126,127,128,129,130,131,132,133,134,135,136,137,138,139,140,141,142,143,144,145,146,147,148,149,150,151,152,153,154,155,156,157,158,159,160,161,162,163,164,165,166,167,168,169,170,171,172,173,174,175,176,177,178,179,180,181,182,183,184,185,186,187,188,189,190,191,192,193,194,195,196,197,198,199,200,201,202,203,204,205,206,207,208,209,210,211,212,213,214,215,216,217,218,219,220,221,222,223,224,225,226,227,228,229,230,231,232,233,234,235,236,237,238,239,240,241,242,243,244,245,246,247,248,249,250,251,252,253,254,255,256,257,258,259,260,261,262,263,264,265,266,267,268,269,270,271,272,273,274,275,276,277,278,279,280,281,282,283,284,285,286,287,288,289,290,291,292,293,294,295,296,297,298,299,300,301,302,303,304,305,306,307,308,309,310,311,312,313,314,315,316,317,318,319,320,321,322,323,324,325,326,327,328,329,330,331,332,333,334,335,336,337,338,339,340,341,342,343,344,345,346,347,348,349,350,351,352,353,354,355,356,357,358,359,360,361,362,363,364,365,366,367,368,369,370,371,372,373,374,375,376,377,378,379,380,381,382,383,384,385,386,387,388,389,390,391,392,393,394,395,396,397,398,399,400,401,402,403,404,405,406,407,408,409,410,411,412,413,414,415,416,417,418,419,420,421,422,423,424,425,426,427,428,429,430,431,432,433,434,435,436,437,438,439,440,441,442,443,444,445,446,447,448,449,450,451,452,453,454,455,456,457,458,459,460,461,462,463,464,465,466,467,468,469,470,471,472,473,474,475,476,477,478,479,480,481,482,483,484,485,486,487,488,489,490,491,492,493,494,495,496,497,498,499,500,501,502,503,504,505,506,507,508,509,510,511,512,513,514,515,516,517,518,519,520,521,522,523,524,525,526,527,528,529,530,531,532,533,534,535,536,537,538,539,540,541,542,543,544,545,546,547,548,549,550,551,552,553,554,555,556,557,558,559,560,561,562,563,564,565,566,567,568,569,570,571,572,573,574,575,576,577,578,579,580,581,582,583,584,585,586,587,588,589,590,591,592,593,594,595,596,597,598,599],\"y\":{\"__ndarray__\":\"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\",\"dtype\":\"float32\",\"order\":\"little\",\"shape\":[600]}},\"selected\":{\"id\":\"1071\"},\"selection_policy\":{\"id\":\"1070\"}},\"id\":\"1054\",\"type\":\"ColumnDataSource\"},{\"attributes\":{\"data\":{\"x\":[0,1,2,3,4,5,6,7,8,9,10,11,12,13,14,15,16,17,18,19,20,21,22,23,24,25,26,27,28,29,30,31,32,33,34,35,36,37,38,39,40,41,42,43,44,45,46,47,48,49,50,51,52,53,54,55,56,57,58,59,60,61,62,63,64,65,66,67,68,69,70,71,72,73,74,75,76,77,78,79,80,81,82,83,84,85,86,87,88,89,90,91,92,93,94,95,96,97,98,99,100,101,102,103,104,105,106,107,108,109,110,111,112,113,114,115,116,117,118,119,120,121,122,123,124,125,126,127,128,129,130,131,132,133,134,135,136,137,138,139,140,141,142,143,144,145,146,147,148,149,150,151,152,153,154,155,156,157,158,159,160,161,162,163,164,165,166,167,168,169,170,171,172,173,174,175,176,177,178,179,180,181,182,183,184,185,186,187,188,189,190,191,192,193,194,195,196,197,198,199,200,201,202,203,204,205,206,207,208,209,210,211,212,213,214,215,216,217,218,219,220,221,222,223,224,225,226,227,228,229,230,231,232,233,234,235,236,237,238,239,240,241,242,243,244,245,246,247,248,249,250,251,252,253,254,255,256,257,258,259,260,261,262,263,264,265,266,267,268,269,270,271,272,273,274,275,276,277,278,279,280,281,282,283,284,285,286,287,288,289,290,291,292,293,294,295,296,297,298,299,300,301,302,303,304,305,306,307,308,309,310,311,312,313,314,315,316,317,318,319,320,321,322,323,324,325,326,327,328,329,330,331,332,333,334,335,336,337,338,339,340,341,342,343,344,345,346,347,348,349,350,351,352,353,354,355,356,357,358,359,360,361,362,363,364,365,366,367,368,369,370,371,372,373,374,375,376,377,378,379,380,381,382,383,384,385,386,387,388,389,390,391,392,393,394,395,396,397,398,399,400,401,402,403,404,405,406,407,408,409,410,411,412,413,414,415,416,417,418,419,420,421,422,423,424,425,426,427,428,429,430,431,432,433,434,435,436,437,438,439,440,441,442,443,444,445,446,447,448,449,450,451,452,453,454,455,456,457,458,459,460,461,462,463,464,465,466,467,468,469,470,471,472,473,474,475,476,477,478,479,480,481,482,483,484,485,486,487,488,489,490,491,492,493,494,495,496,497,498,499,500,501,502,503,504,505,506,507,508,509,510,511,512,513,514,515,516,517,518,519,520,521,522,523,524,525,526,527,528,529,530,531,532,533,534,535,536,537,538,539,540,541,542,543,544,545,546,547,548,549,550,551,552,553,554,555,556,557,558,559,560,561,562,563,564,565,566,567,568,569,570,571,572,573,574,575,576,577,578,579,580,581,582,583,584,585,586,587,588,589,590,591,592,593,594,595,596,597,598,599],\"y\":{\"__ndarray__\":\"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\",\"dtype\":\"float32\",\"order\":\"little\",\"shape\":[600]}},\"selected\":{\"id\":\"1093\"},\"selection_policy\":{\"id\":\"1092\"}},\"id\":\"1074\",\"type\":\"ColumnDataSource\"},{\"attributes\":{},\"id\":\"1050\",\"type\":\"Selection\"},{\"attributes\":{\"coordinates\":null,\"data_source\":{\"id\":\"1054\"},\"glyph\":{\"id\":\"1055\"},\"group\":null,\"hover_glyph\":null,\"muted_glyph\":{\"id\":\"1057\"},\"nonselection_glyph\":{\"id\":\"1056\"},\"view\":{\"id\":\"1059\"}},\"id\":\"1058\",\"type\":\"GlyphRenderer\"},{\"attributes\":{\"source\":{\"id\":\"1035\"}},\"id\":\"1040\",\"type\":\"CDSView\"},{\"attributes\":{\"label\":{\"value\":\"Approximation\"},\"renderers\":[{\"id\":\"1058\"}]},\"id\":\"1073\",\"type\":\"LegendItem\"},{\"attributes\":{\"coordinates\":null,\"group\":null,\"items\":[{\"id\":\"1053\"},{\"id\":\"1073\"},{\"id\":\"1095\"}]},\"id\":\"1052\",\"type\":\"Legend\"},{\"attributes\":{\"line_alpha\":0.2,\"line_color\":\"#1f77b4\",\"line_width\":3,\"x\":{\"field\":\"x\"},\"y\":{\"field\":\"y\"}},\"id\":\"1057\",\"type\":\"Line\"},{\"attributes\":{\"line_alpha\":0.2,\"line_color\":\"#1f77b4\",\"line_width\":3,\"x\":{\"field\":\"x\"},\"y\":{\"field\":\"y\"}},\"id\":\"1038\",\"type\":\"Line\"},{\"attributes\":{\"line_alpha\":0.1,\"line_color\":\"#1f77b4\",\"line_width\":3,\"x\":{\"field\":\"x\"},\"y\":{\"field\":\"y\"}},\"id\":\"1056\",\"type\":\"Line\"},{\"attributes\":{\"line_alpha\":0.1,\"line_color\":\"#ff7f0e\",\"line_width\":3,\"x\":{\"field\":\"x\"},\"y\":{\"field\":\"y\"}},\"id\":\"1076\",\"type\":\"Line\"}],\"root_ids\":[\"1004\"]},\"title\":\"Bokeh Application\",\"version\":\"2.4.3\"}};\n",
       "  const render_items = [{\"docid\":\"11c3fc3b-964a-406f-9d13-05e36b0741d1\",\"root_ids\":[\"1004\"],\"roots\":{\"1004\":\"a9079f36-a6f0-4a11-b01e-d272e4f654f4\"}}];\n",
       "  root.Bokeh.embed.embed_items_notebook(docs_json, render_items);\n",
       "  }\n",
       "  if (root.Bokeh !== undefined) {\n",
       "    embed_document(root);\n",
       "  } else {\n",
       "    let attempts = 0;\n",
       "    const timer = setInterval(function(root) {\n",
       "      if (root.Bokeh !== undefined) {\n",
       "        clearInterval(timer);\n",
       "        embed_document(root);\n",
       "      } else {\n",
       "        attempts++;\n",
       "        if (attempts > 100) {\n",
       "          clearInterval(timer);\n",
       "          console.log(\"Bokeh: ERROR: Unable to run BokehJS code because BokehJS library is missing\");\n",
       "        }\n",
       "      }\n",
       "    }, 10, root)\n",
       "  }\n",
       "})(window);"
      ],
      "application/vnd.bokehjs_exec.v0+json": ""
     },
     "metadata": {
      "application/vnd.bokehjs_exec.v0+json": {
       "id": "1004"
      }
     },
     "output_type": "display_data"
    }
   ],
   "source": [
    "losses = (loss, Loss_t, Loss_t_control)\n",
    "colors = (Category10[10][0], Category10[10][0], Category10[10][1])\n",
    "legends = (\"Real Non-linear\", \"Approximation\", \"Init Control\")\n",
    "alphas = (0.3, 1, 1)\n",
    "\n",
    "s = plot_lines(iters, losses, legends, alphas, colors)\n",
    "show(s)"
   ]
  },
  {
   "cell_type": "code",
   "execution_count": 20,
   "metadata": {
    "ExecuteTime": {
     "end_time": "2022-10-18T16:34:31.368228Z",
     "start_time": "2022-10-18T16:34:31.365539Z"
    }
   },
   "outputs": [],
   "source": [
    "flat_W_t = np.reshape(weights, (weights.shape[0], -1))\n",
    "flat_eq_W_t = np.reshape(W_t, (W_t.shape[0], -1))\n"
   ]
  },
  {
   "cell_type": "code",
   "execution_count": 21,
   "metadata": {
    "ExecuteTime": {
     "end_time": "2022-10-18T16:34:31.851093Z",
     "start_time": "2022-10-18T16:34:31.370675Z"
    }
   },
   "outputs": [
    {
     "data": {
      "text/html": [
       "\n",
       "  <div class=\"bk-root\" id=\"709e560e-0b52-4e22-922c-36503d22e3a3\" data-root-id=\"1186\"></div>\n"
      ]
     },
     "metadata": {},
     "output_type": "display_data"
    },
    {
     "data": {
      "application/javascript": [
       "(function(root) {\n",
       "  function embed_document(root) {\n",
       "  const docs_json = {\"e69100b6-38fb-4a8c-b57a-3a665c722b6f\":{\"defs\":[],\"roots\":{\"references\":[{\"attributes\":{\"below\":[{\"id\":\"1197\"}],\"center\":[{\"id\":\"1200\"},{\"id\":\"1204\"},{\"id\":\"1235\"}],\"left\":[{\"id\":\"1201\"}],\"renderers\":[{\"id\":\"1223\"},{\"id\":\"1241\"}],\"title\":{\"id\":\"1187\"},\"toolbar\":{\"id\":\"1212\"},\"x_range\":{\"id\":\"1189\"},\"x_scale\":{\"id\":\"1193\"},\"y_range\":{\"id\":\"1191\"},\"y_scale\":{\"id\":\"1195\"}},\"id\":\"1186\",\"subtype\":\"Figure\",\"type\":\"Plot\"},{\"attributes\":{},\"id\":\"1253\",\"type\":\"Selection\"},{\"attributes\":{},\"id\":\"1252\",\"type\":\"UnionRenderers\"},{\"attributes\":{\"coordinates\":null,\"group\":null,\"items\":[{\"id\":\"1236\"},{\"id\":\"1255\"}],\"location\":\"bottom_right\"},\"id\":\"1235\",\"type\":\"Legend\"},{\"attributes\":{},\"id\":\"1206\",\"type\":\"WheelZoomTool\"},{\"attributes\":{\"coordinates\":null,\"data_source\":{\"id\":\"1219\"},\"glyph\":{\"id\":\"1220\"},\"group\":null,\"hover_glyph\":null,\"muted_glyph\":{\"id\":\"1222\"},\"nonselection_glyph\":{\"id\":\"1221\"},\"view\":{\"id\":\"1224\"}},\"id\":\"1223\",\"type\":\"GlyphRenderer\"},{\"attributes\":{\"line_alpha\":0.1,\"line_color\":\"#1f77b4\",\"line_width\":3,\"x\":{\"field\":\"x\"},\"y\":{\"field\":\"y\"}},\"id\":\"1239\",\"type\":\"Line\"},{\"attributes\":{\"line_alpha\":0.2,\"line_color\":\"#1f77b4\",\"line_width\":3,\"x\":{\"field\":\"x\"},\"y\":{\"field\":\"y\"}},\"id\":\"1240\",\"type\":\"Line\"},{\"attributes\":{\"line_alpha\":0.2,\"line_color\":\"#1f77b4\",\"line_dash\":[4,4],\"line_width\":6,\"x\":{\"field\":\"x\"},\"y\":{\"field\":\"y\"}},\"id\":\"1222\",\"type\":\"Line\"},{\"attributes\":{\"line_alpha\":0.1,\"line_color\":\"#1f77b4\",\"line_dash\":[4,4],\"line_width\":6,\"x\":{\"field\":\"x\"},\"y\":{\"field\":\"y\"}},\"id\":\"1221\",\"type\":\"Line\"},{\"attributes\":{\"coordinates\":null,\"data_source\":{\"id\":\"1237\"},\"glyph\":{\"id\":\"1238\"},\"group\":null,\"hover_glyph\":null,\"muted_glyph\":{\"id\":\"1240\"},\"nonselection_glyph\":{\"id\":\"1239\"},\"view\":{\"id\":\"1242\"}},\"id\":\"1241\",\"type\":\"GlyphRenderer\"},{\"attributes\":{},\"id\":\"1208\",\"type\":\"SaveTool\"},{\"attributes\":{},\"id\":\"1193\",\"type\":\"LinearScale\"},{\"attributes\":{\"data\":{\"x\":[0,1,2,3,4,5,6,7,8,9,10,11,12,13,14,15,16,17,18,19,20,21,22,23,24,25,26,27,28,29,30,31,32,33,34,35,36,37,38,39,40,41,42,43,44,45,46,47,48,49,50,51,52,53,54,55,56,57,58,59,60,61,62,63,64,65,66,67,68,69,70,71,72,73,74,75,76,77,78,79,80,81,82,83,84,85,86,87,88,89,90,91,92,93,94,95,96,97,98,99,100,101,102,103,104,105,106,107,108,109,110,111,112,113,114,115,116,117,118,119,120,121,122,123,124,125,126,127,128,129,130,131,132,133,134,135,136,137,138,139,140,141,142,143,144,145,146,147,148,149,150,151,152,153,154,155,156,157,158,159,160,161,162,163,164,165,166,167,168,169,170,171,172,173,174,175,176,177,178,179,180,181,182,183,184,185,186,187,188,189,190,191,192,193,194,195,196,197,198,199,200,201,202,203,204,205,206,207,208,209,210,211,212,213,214,215,216,217,218,219,220,221,222,223,224,225,226,227,228,229,230,231,232,233,234,235,236,237,238,239,240,241,242,243,244,245,246,247,248,249,250,251,252,253,254,255,256,257,258,259,260,261,262,263,264,265,266,267,268,269,270,271,272,273,274,275,276,277,278,279,280,281,282,283,284,285,286,287,288,289,290,291,292,293,294,295,296,297,298,299,300,301,302,303,304,305,306,307,308,309,310,311,312,313,314,315,316,317,318,319,320,321,322,323,324,325,326,327,328,329,330,331,332,333,334,335,336,337,338,339,340,341,342,343,344,345,346,347,348,349,350,351,352,353,354,355,356,357,358,359,360,361,362,363,364,365,366,367,368,369,370,371,372,373,374,375,376,377,378,379,380,381,382,383,384,385,386,387,388,389,390,391,392,393,394,395,396,397,398,399,400,401,402,403,404,405,406,407,408,409,410,411,412,413,414,415,416,417,418,419,420,421,422,423,424,425,426,427,428,429,430,431,432,433,434,435,436,437,438,439,440,441,442,443,444,445,446,447,448,449,450,451,452,453,454,455,456,457,458,459,460,461,462,463,464,465,466,467,468,469,470,471,472,473,474,475,476,477,478,479,480,481,482,483,484,485,486,487,488,489,490,491,492,493,494,495,496,497,498,499,500,501,502,503,504,505,506,507,508,509,510,511,512,513,514,515,516,517,518,519,520,521,522,523,524,525,526,527,528,529,530,531,532,533,534,535,536,537,538,539,540,541,542,543,544,545,546,547,548,549,550,551,552,553,554,555,556,557,558,559,560,561,562,563,564,565,566,567,568,569,570,571,572,573,574,575,576,577,578,579,580,581,582,583,584,585,586,587,588,589,590,591,592,593,594,595,596,597,598,599],\"y\":{\"__ndarray__\":\"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\",\"dtype\":\"float32\",\"order\":\"little\",\"shape\":[600]}},\"selected\":{\"id\":\"1253\"},\"selection_policy\":{\"id\":\"1252\"}},\"id\":\"1237\",\"type\":\"ColumnDataSource\"},{\"attributes\":{},\"id\":\"1205\",\"type\":\"PanTool\"},{\"attributes\":{},\"id\":\"1210\",\"type\":\"HelpTool\"},{\"attributes\":{\"source\":{\"id\":\"1237\"}},\"id\":\"1242\",\"type\":\"CDSView\"},{\"attributes\":{},\"id\":\"1233\",\"type\":\"Selection\"},{\"attributes\":{},\"id\":\"1198\",\"type\":\"BasicTicker\"},{\"attributes\":{\"overlay\":{\"id\":\"1211\"}},\"id\":\"1207\",\"type\":\"BoxZoomTool\"},{\"attributes\":{\"line_color\":\"#1f77b4\",\"line_width\":3,\"x\":{\"field\":\"x\"},\"y\":{\"field\":\"y\"}},\"id\":\"1238\",\"type\":\"Line\"},{\"attributes\":{},\"id\":\"1209\",\"type\":\"ResetTool\"},{\"attributes\":{\"axis\":{\"id\":\"1197\"},\"coordinates\":null,\"group\":null,\"ticker\":null},\"id\":\"1200\",\"type\":\"Grid\"},{\"attributes\":{},\"id\":\"1228\",\"type\":\"AllLabels\"},{\"attributes\":{\"label\":{\"value\":\"Simulation\"},\"renderers\":[{\"id\":\"1223\"}]},\"id\":\"1236\",\"type\":\"LegendItem\"},{\"attributes\":{},\"id\":\"1230\",\"type\":\"BasicTickFormatter\"},{\"attributes\":{\"bottom_units\":\"screen\",\"coordinates\":null,\"fill_alpha\":0.5,\"fill_color\":\"lightgrey\",\"group\":null,\"left_units\":\"screen\",\"level\":\"overlay\",\"line_alpha\":1.0,\"line_color\":\"black\",\"line_dash\":[4,4],\"line_width\":2,\"right_units\":\"screen\",\"syncable\":false,\"top_units\":\"screen\"},\"id\":\"1211\",\"type\":\"BoxAnnotation\"},{\"attributes\":{},\"id\":\"1231\",\"type\":\"AllLabels\"},{\"attributes\":{},\"id\":\"1227\",\"type\":\"BasicTickFormatter\"},{\"attributes\":{\"axis_label\":\"Weights\",\"coordinates\":null,\"formatter\":{\"id\":\"1227\"},\"group\":null,\"major_label_policy\":{\"id\":\"1228\"},\"ticker\":{\"id\":\"1202\"}},\"id\":\"1201\",\"type\":\"LinearAxis\"},{\"attributes\":{\"coordinates\":null,\"group\":null,\"text\":\"W\"},\"id\":\"1187\",\"type\":\"Title\"},{\"attributes\":{\"axis_label\":\"iters\",\"coordinates\":null,\"formatter\":{\"id\":\"1230\"},\"group\":null,\"major_label_policy\":{\"id\":\"1231\"},\"ticker\":{\"id\":\"1198\"}},\"id\":\"1197\",\"type\":\"LinearAxis\"},{\"attributes\":{\"source\":{\"id\":\"1219\"}},\"id\":\"1224\",\"type\":\"CDSView\"},{\"attributes\":{\"tools\":[{\"id\":\"1205\"},{\"id\":\"1206\"},{\"id\":\"1207\"},{\"id\":\"1208\"},{\"id\":\"1209\"},{\"id\":\"1210\"}]},\"id\":\"1212\",\"type\":\"Toolbar\"},{\"attributes\":{\"axis\":{\"id\":\"1201\"},\"coordinates\":null,\"dimension\":1,\"group\":null,\"ticker\":null},\"id\":\"1204\",\"type\":\"Grid\"},{\"attributes\":{},\"id\":\"1232\",\"type\":\"UnionRenderers\"},{\"attributes\":{\"data\":{\"x\":[0,20,40,60,80,100,120,140,160,180,200,220,240,260,280,300,320,340,360,380,400,420,440,460,480,500,520,540,560,580],\"y\":{\"__ndarray__\":\"U6UEO7XyJD3uN5g9zhPYPQz5CD7/AyM+PJ06PrqkTz7oi2I+tcFzPu2SgT6bcIg+z8GOPj9xlD4hspk+ajqePjiJoj7GS6Y+TbypPhqjrD42eK8+psWxPmwNtD4eHLY+YcG3PpZbuT7cvro+eAG8PhpQvT7hZ74+\",\"dtype\":\"float32\",\"order\":\"little\",\"shape\":[30]}},\"selected\":{\"id\":\"1233\"},\"selection_policy\":{\"id\":\"1232\"}},\"id\":\"1219\",\"type\":\"ColumnDataSource\"},{\"attributes\":{},\"id\":\"1195\",\"type\":\"LinearScale\"},{\"attributes\":{\"line_alpha\":0.5,\"line_color\":\"#1f77b4\",\"line_dash\":[4,4],\"line_width\":6,\"x\":{\"field\":\"x\"},\"y\":{\"field\":\"y\"}},\"id\":\"1220\",\"type\":\"Line\"},{\"attributes\":{\"label\":{\"value\":\"Equation\"},\"renderers\":[{\"id\":\"1241\"}]},\"id\":\"1255\",\"type\":\"LegendItem\"},{\"attributes\":{},\"id\":\"1189\",\"type\":\"DataRange1d\"},{\"attributes\":{},\"id\":\"1202\",\"type\":\"BasicTicker\"},{\"attributes\":{},\"id\":\"1191\",\"type\":\"DataRange1d\"}],\"root_ids\":[\"1186\"]},\"title\":\"Bokeh Application\",\"version\":\"2.4.3\"}};\n",
       "  const render_items = [{\"docid\":\"e69100b6-38fb-4a8c-b57a-3a665c722b6f\",\"root_ids\":[\"1186\"],\"roots\":{\"1186\":\"709e560e-0b52-4e22-922c-36503d22e3a3\"}}];\n",
       "  root.Bokeh.embed.embed_items_notebook(docs_json, render_items);\n",
       "  }\n",
       "  if (root.Bokeh !== undefined) {\n",
       "    embed_document(root);\n",
       "  } else {\n",
       "    let attempts = 0;\n",
       "    const timer = setInterval(function(root) {\n",
       "      if (root.Bokeh !== undefined) {\n",
       "        clearInterval(timer);\n",
       "        embed_document(root);\n",
       "      } else {\n",
       "        attempts++;\n",
       "        if (attempts > 100) {\n",
       "          clearInterval(timer);\n",
       "          console.log(\"Bokeh: ERROR: Unable to run BokehJS code because BokehJS library is missing\");\n",
       "        }\n",
       "      }\n",
       "    }, 10, root)\n",
       "  }\n",
       "})(window);"
      ],
      "application/vnd.bokehjs_exec.v0+json": ""
     },
     "metadata": {
      "application/vnd.bokehjs_exec.v0+json": {
       "id": "1186"
      }
     },
     "output_type": "display_data"
    }
   ],
   "source": [
    "weight_plot = plot_weight_ev(flat_W_t, flat_eq_W_t, iters=weights_iter, iters_set2=iters, title=\"W\")\n",
    "show(weight_plot)"
   ]
  },
  {
   "cell_type": "markdown",
   "metadata": {
    "ExecuteTime": {
     "end_time": "2022-10-11T16:47:21.704342Z",
     "start_time": "2022-10-11T16:47:21.700812Z"
    }
   },
   "source": [
    "## Optimizing control signal"
   ]
  },
  {
   "cell_type": "code",
   "execution_count": 22,
   "metadata": {
    "ExecuteTime": {
     "end_time": "2022-10-18T16:34:31.855800Z",
     "start_time": "2022-10-18T16:34:31.852910Z"
    }
   },
   "outputs": [],
   "source": [
    "iter_control = 700\n",
    "control_params[\"iters_control\"] = iter_control\n",
    "cumulated_reward = []"
   ]
  },
  {
   "cell_type": "code",
   "execution_count": 23,
   "metadata": {
    "ExecuteTime": {
     "end_time": "2022-10-18T16:37:11.352104Z",
     "start_time": "2022-10-18T16:34:31.858273Z"
    },
    "scrolled": true
   },
   "outputs": [
    {
     "name": "stderr",
     "output_type": "stream",
     "text": [
      "100%|████████████████████████████████████████████████████████████████████████████████████████████████████████████████████████████████████████████████████████████████████████████| 700/700 [02:02<00:00,  5.73it/s]\n"
     ]
    }
   ],
   "source": [
    "for i in tqdm(range(iter_control)):\n",
    "    R = control.train_step(get_numpy=True)\n",
    "    # print(\"cumulated reward:\", R)\n",
    "    cumulated_reward.append(R)\n",
    "cumulated_reward = np.array(cumulated_reward).astype(float)\n",
    "results_dict[\"cumulated_reward_opt\"] = cumulated_reward\n",
    "control_params[\"control\"] = control"
   ]
  },
  {
   "cell_type": "code",
   "execution_count": 24,
   "metadata": {
    "ExecuteTime": {
     "end_time": "2022-10-18T16:37:11.430746Z",
     "start_time": "2022-10-18T16:37:11.353022Z"
    }
   },
   "outputs": [
    {
     "data": {
      "text/html": [
       "\n",
       "  <div class=\"bk-root\" id=\"4d55b4c2-1686-46d0-9591-4d55b906cba8\" data-root-id=\"1343\"></div>\n"
      ]
     },
     "metadata": {},
     "output_type": "display_data"
    },
    {
     "data": {
      "application/javascript": [
       "(function(root) {\n",
       "  function embed_document(root) {\n",
       "  const docs_json = {\"28f0cef6-a852-4082-99f2-3ade3debbc12\":{\"defs\":[],\"roots\":{\"references\":[{\"attributes\":{\"below\":[{\"id\":\"1352\"}],\"center\":[{\"id\":\"1355\"},{\"id\":\"1359\"},{\"id\":\"1391\"}],\"height\":500,\"left\":[{\"id\":\"1356\"}],\"renderers\":[{\"id\":\"1378\"}],\"title\":{\"id\":\"1380\"},\"toolbar\":{\"id\":\"1367\"},\"width\":800,\"x_range\":{\"id\":\"1344\"},\"x_scale\":{\"id\":\"1348\"},\"y_range\":{\"id\":\"1346\"},\"y_scale\":{\"id\":\"1350\"}},\"id\":\"1343\",\"subtype\":\"Figure\",\"type\":\"Plot\"},{\"attributes\":{\"axis\":{\"id\":\"1356\"},\"coordinates\":null,\"dimension\":1,\"group\":null,\"ticker\":null},\"id\":\"1359\",\"type\":\"Grid\"},{\"attributes\":{},\"id\":\"1365\",\"type\":\"HelpTool\"},{\"attributes\":{},\"id\":\"1357\",\"type\":\"BasicTicker\"},{\"attributes\":{},\"id\":\"1361\",\"type\":\"WheelZoomTool\"},{\"attributes\":{\"axis\":{\"id\":\"1352\"},\"coordinates\":null,\"group\":null,\"ticker\":null},\"id\":\"1355\",\"type\":\"Grid\"},{\"attributes\":{\"source\":{\"id\":\"1374\"}},\"id\":\"1379\",\"type\":\"CDSView\"},{\"attributes\":{},\"id\":\"1350\",\"type\":\"LinearScale\"},{\"attributes\":{},\"id\":\"1389\",\"type\":\"Selection\"},{\"attributes\":{},\"id\":\"1346\",\"type\":\"DataRange1d\"},{\"attributes\":{\"line_color\":\"#1f77b4\",\"line_width\":3,\"x\":{\"field\":\"x\"},\"y\":{\"field\":\"y\"}},\"id\":\"1375\",\"type\":\"Line\"},{\"attributes\":{},\"id\":\"1344\",\"type\":\"DataRange1d\"},{\"attributes\":{},\"id\":\"1388\",\"type\":\"UnionRenderers\"},{\"attributes\":{\"overlay\":{\"id\":\"1366\"}},\"id\":\"1362\",\"type\":\"BoxZoomTool\"},{\"attributes\":{},\"id\":\"1360\",\"type\":\"PanTool\"},{\"attributes\":{},\"id\":\"1348\",\"type\":\"LinearScale\"},{\"attributes\":{\"axis_label\":\"gradient steps on control\",\"coordinates\":null,\"formatter\":{\"id\":\"1386\"},\"group\":null,\"major_label_policy\":{\"id\":\"1387\"},\"ticker\":{\"id\":\"1353\"}},\"id\":\"1352\",\"type\":\"LinearAxis\"},{\"attributes\":{},\"id\":\"1363\",\"type\":\"SaveTool\"},{\"attributes\":{},\"id\":\"1383\",\"type\":\"BasicTickFormatter\"},{\"attributes\":{\"bottom_units\":\"screen\",\"coordinates\":null,\"fill_alpha\":0.5,\"fill_color\":\"lightgrey\",\"group\":null,\"left_units\":\"screen\",\"level\":\"overlay\",\"line_alpha\":1.0,\"line_color\":\"black\",\"line_dash\":[4,4],\"line_width\":2,\"right_units\":\"screen\",\"syncable\":false,\"top_units\":\"screen\"},\"id\":\"1366\",\"type\":\"BoxAnnotation\"},{\"attributes\":{\"label\":{\"value\":\"\"},\"renderers\":[{\"id\":\"1378\"}]},\"id\":\"1392\",\"type\":\"LegendItem\"},{\"attributes\":{\"axis_label\":\"Cumulated reward\",\"coordinates\":null,\"formatter\":{\"id\":\"1383\"},\"group\":null,\"major_label_policy\":{\"id\":\"1384\"},\"ticker\":{\"id\":\"1357\"}},\"id\":\"1356\",\"type\":\"LinearAxis\"},{\"attributes\":{},\"id\":\"1386\",\"type\":\"BasicTickFormatter\"},{\"attributes\":{},\"id\":\"1387\",\"type\":\"AllLabels\"},{\"attributes\":{\"line_alpha\":0.2,\"line_color\":\"#1f77b4\",\"line_width\":3,\"x\":{\"field\":\"x\"},\"y\":{\"field\":\"y\"}},\"id\":\"1377\",\"type\":\"Line\"},{\"attributes\":{\"coordinates\":null,\"data_source\":{\"id\":\"1374\"},\"glyph\":{\"id\":\"1375\"},\"group\":null,\"hover_glyph\":null,\"muted_glyph\":{\"id\":\"1377\"},\"nonselection_glyph\":{\"id\":\"1376\"},\"view\":{\"id\":\"1379\"}},\"id\":\"1378\",\"type\":\"GlyphRenderer\"},{\"attributes\":{},\"id\":\"1353\",\"type\":\"BasicTicker\"},{\"attributes\":{},\"id\":\"1384\",\"type\":\"AllLabels\"},{\"attributes\":{\"line_alpha\":0.1,\"line_color\":\"#1f77b4\",\"line_width\":3,\"x\":{\"field\":\"x\"},\"y\":{\"field\":\"y\"}},\"id\":\"1376\",\"type\":\"Line\"},{\"attributes\":{\"coordinates\":null,\"group\":null,\"items\":[{\"id\":\"1392\"}]},\"id\":\"1391\",\"type\":\"Legend\"},{\"attributes\":{\"coordinates\":null,\"group\":null},\"id\":\"1380\",\"type\":\"Title\"},{\"attributes\":{\"tools\":[{\"id\":\"1360\"},{\"id\":\"1361\"},{\"id\":\"1362\"},{\"id\":\"1363\"},{\"id\":\"1364\"},{\"id\":\"1365\"}]},\"id\":\"1367\",\"type\":\"Toolbar\"},{\"attributes\":{},\"id\":\"1364\",\"type\":\"ResetTool\"},{\"attributes\":{\"data\":{\"x\":[0,1,2,3,4,5,6,7,8,9,10,11,12,13,14,15,16,17,18,19,20,21,22,23,24,25,26,27,28,29,30,31,32,33,34,35,36,37,38,39,40,41,42,43,44,45,46,47,48,49,50,51,52,53,54,55,56,57,58,59,60,61,62,63,64,65,66,67,68,69,70,71,72,73,74,75,76,77,78,79,80,81,82,83,84,85,86,87,88,89,90,91,92,93,94,95,96,97,98,99,100,101,102,103,104,105,106,107,108,109,110,111,112,113,114,115,116,117,118,119,120,121,122,123,124,125,126,127,128,129,130,131,132,133,134,135,136,137,138,139,140,141,142,143,144,145,146,147,148,149,150,151,152,153,154,155,156,157,158,159,160,161,162,163,164,165,166,167,168,169,170,171,172,173,174,175,176,177,178,179,180,181,182,183,184,185,186,187,188,189,190,191,192,193,194,195,196,197,198,199,200,201,202,203,204,205,206,207,208,209,210,211,212,213,214,215,216,217,218,219,220,221,222,223,224,225,226,227,228,229,230,231,232,233,234,235,236,237,238,239,240,241,242,243,244,245,246,247,248,249,250,251,252,253,254,255,256,257,258,259,260,261,262,263,264,265,266,267,268,269,270,271,272,273,274,275,276,277,278,279,280,281,282,283,284,285,286,287,288,289,290,291,292,293,294,295,296,297,298,299,300,301,302,303,304,305,306,307,308,309,310,311,312,313,314,315,316,317,318,319,320,321,322,323,324,325,326,327,328,329,330,331,332,333,334,335,336,337,338,339,340,341,342,343,344,345,346,347,348,349,350,351,352,353,354,355,356,357,358,359,360,361,362,363,364,365,366,367,368,369,370,371,372,373,374,375,376,377,378,379,380,381,382,383,384,385,386,387,388,389,390,391,392,393,394,395,396,397,398,399,400,401,402,403,404,405,406,407,408,409,410,411,412,413,414,415,416,417,418,419,420,421,422,423,424,425,426,427,428,429,430,431,432,433,434,435,436,437,438,439,440,441,442,443,444,445,446,447,448,449,450,451,452,453,454,455,456,457,458,459,460,461,462,463,464,465,466,467,468,469,470,471,472,473,474,475,476,477,478,479,480,481,482,483,484,485,486,487,488,489,490,491,492,493,494,495,496,497,498,499,500,501,502,503,504,505,506,507,508,509,510,511,512,513,514,515,516,517,518,519,520,521,522,523,524,525,526,527,528,529,530,531,532,533,534,535,536,537,538,539,540,541,542,543,544,545,546,547,548,549,550,551,552,553,554,555,556,557,558,559,560,561,562,563,564,565,566,567,568,569,570,571,572,573,574,575,576,577,578,579,580,581,582,583,584,585,586,587,588,589,590,591,592,593,594,595,596,597,598,599,600,601,602,603,604,605,606,607,608,609,610,611,612,613,614,615,616,617,618,619,620,621,622,623,624,625,626,627,628,629,630,631,632,633,634,635,636,637,638,639,640,641,642,643,644,645,646,647,648,649,650,651,652,653,654,655,656,657,658,659,660,661,662,663,664,665,666,667,668,669,670,671,672,673,674,675,676,677,678,679,680,681,682,683,684,685,686,687,688,689,690,691,692,693,694,695,696,697,698,699],\"y\":{\"__ndarray__\":\"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\",\"dtype\":\"float64\",\"order\":\"little\",\"shape\":[700]}},\"selected\":{\"id\":\"1389\"},\"selection_policy\":{\"id\":\"1388\"}},\"id\":\"1374\",\"type\":\"ColumnDataSource\"}],\"root_ids\":[\"1343\"]},\"title\":\"Bokeh Application\",\"version\":\"2.4.3\"}};\n",
       "  const render_items = [{\"docid\":\"28f0cef6-a852-4082-99f2-3ade3debbc12\",\"root_ids\":[\"1343\"],\"roots\":{\"1343\":\"4d55b4c2-1686-46d0-9591-4d55b906cba8\"}}];\n",
       "  root.Bokeh.embed.embed_items_notebook(docs_json, render_items);\n",
       "  }\n",
       "  if (root.Bokeh !== undefined) {\n",
       "    embed_document(root);\n",
       "  } else {\n",
       "    let attempts = 0;\n",
       "    const timer = setInterval(function(root) {\n",
       "      if (root.Bokeh !== undefined) {\n",
       "        clearInterval(timer);\n",
       "        embed_document(root);\n",
       "      } else {\n",
       "        attempts++;\n",
       "        if (attempts > 100) {\n",
       "          clearInterval(timer);\n",
       "          console.log(\"Bokeh: ERROR: Unable to run BokehJS code because BokehJS library is missing\");\n",
       "        }\n",
       "      }\n",
       "    }, 10, root)\n",
       "  }\n",
       "})(window);"
      ],
      "application/vnd.bokehjs_exec.v0+json": ""
     },
     "metadata": {
      "application/vnd.bokehjs_exec.v0+json": {
       "id": "1343"
      }
     },
     "output_type": "display_data"
    }
   ],
   "source": [
    "opt = plot_lines(np.arange(iter_control), (cumulated_reward,), x_axis_label=\"gradient steps on control\", y_axis_label=\"Cumulated reward\")\n",
    "show(opt)"
   ]
  },
  {
   "cell_type": "code",
   "execution_count": 25,
   "metadata": {
    "ExecuteTime": {
     "end_time": "2022-10-18T16:37:12.615333Z",
     "start_time": "2022-10-18T16:37:11.431665Z"
    }
   },
   "outputs": [],
   "source": [
    "W_t_opt = control.get_weights(time_span, get_numpy=True)\n",
    "Loss_t_opt = control.get_loss_function(W_t_opt, get_numpy=True)\n",
    "\n",
    "results_dict[\"W_t_control_opt\"] = W_t_opt\n",
    "results_dict[\"Loss_t_control_opt\"] = Loss_t_opt"
   ]
  },
  {
   "cell_type": "code",
   "execution_count": 26,
   "metadata": {
    "ExecuteTime": {
     "end_time": "2022-10-18T16:37:12.723992Z",
     "start_time": "2022-10-18T16:37:12.616336Z"
    }
   },
   "outputs": [
    {
     "data": {
      "text/html": [
       "\n",
       "  <div class=\"bk-root\" id=\"00779615-b893-4478-98bc-4c76808de56f\" data-root-id=\"1486\"></div>\n"
      ]
     },
     "metadata": {},
     "output_type": "display_data"
    },
    {
     "data": {
      "application/javascript": [
       "(function(root) {\n",
       "  function embed_document(root) {\n",
       "  const docs_json = {\"1b5fd29e-9f95-45c3-8ba9-3278f484bca3\":{\"defs\":[],\"roots\":{\"references\":[{\"attributes\":{\"below\":[{\"id\":\"1495\"}],\"center\":[{\"id\":\"1498\"},{\"id\":\"1502\"},{\"id\":\"1534\"}],\"height\":500,\"left\":[{\"id\":\"1499\"}],\"renderers\":[{\"id\":\"1521\"},{\"id\":\"1540\"},{\"id\":\"1560\"}],\"title\":{\"id\":\"1523\"},\"toolbar\":{\"id\":\"1510\"},\"width\":800,\"x_range\":{\"id\":\"1487\"},\"x_scale\":{\"id\":\"1491\"},\"y_range\":{\"id\":\"1489\"},\"y_scale\":{\"id\":\"1493\"}},\"id\":\"1486\",\"subtype\":\"Figure\",\"type\":\"Plot\"},{\"attributes\":{},\"id\":\"1491\",\"type\":\"LinearScale\"},{\"attributes\":{},\"id\":\"1489\",\"type\":\"DataRange1d\"},{\"attributes\":{},\"id\":\"1553\",\"type\":\"Selection\"},{\"attributes\":{\"axis\":{\"id\":\"1499\"},\"coordinates\":null,\"dimension\":1,\"group\":null,\"ticker\":null},\"id\":\"1502\",\"type\":\"Grid\"},{\"attributes\":{},\"id\":\"1493\",\"type\":\"LinearScale\"},{\"attributes\":{},\"id\":\"1529\",\"type\":\"BasicTickFormatter\"},{\"attributes\":{},\"id\":\"1496\",\"type\":\"BasicTicker\"},{\"attributes\":{\"line_alpha\":0.2,\"line_color\":\"#1f77b4\",\"line_width\":3,\"x\":{\"field\":\"x\"},\"y\":{\"field\":\"y\"}},\"id\":\"1520\",\"type\":\"Line\"},{\"attributes\":{},\"id\":\"1530\",\"type\":\"AllLabels\"},{\"attributes\":{\"source\":{\"id\":\"1517\"}},\"id\":\"1522\",\"type\":\"CDSView\"},{\"attributes\":{},\"id\":\"1504\",\"type\":\"WheelZoomTool\"},{\"attributes\":{},\"id\":\"1507\",\"type\":\"ResetTool\"},{\"attributes\":{},\"id\":\"1531\",\"type\":\"UnionRenderers\"},{\"attributes\":{\"overlay\":{\"id\":\"1509\"}},\"id\":\"1505\",\"type\":\"BoxZoomTool\"},{\"attributes\":{},\"id\":\"1532\",\"type\":\"Selection\"},{\"attributes\":{\"coordinates\":null,\"group\":null,\"items\":[{\"id\":\"1535\"},{\"id\":\"1555\"},{\"id\":\"1577\"}]},\"id\":\"1534\",\"type\":\"Legend\"},{\"attributes\":{},\"id\":\"1506\",\"type\":\"SaveTool\"},{\"attributes\":{\"tools\":[{\"id\":\"1503\"},{\"id\":\"1504\"},{\"id\":\"1505\"},{\"id\":\"1506\"},{\"id\":\"1507\"},{\"id\":\"1508\"}]},\"id\":\"1510\",\"type\":\"Toolbar\"},{\"attributes\":{},\"id\":\"1552\",\"type\":\"UnionRenderers\"},{\"attributes\":{\"bottom_units\":\"screen\",\"coordinates\":null,\"fill_alpha\":0.5,\"fill_color\":\"lightgrey\",\"group\":null,\"left_units\":\"screen\",\"level\":\"overlay\",\"line_alpha\":1.0,\"line_color\":\"black\",\"line_dash\":[4,4],\"line_width\":2,\"right_units\":\"screen\",\"syncable\":false,\"top_units\":\"screen\"},\"id\":\"1509\",\"type\":\"BoxAnnotation\"},{\"attributes\":{\"axis_label\":\"Loss\",\"coordinates\":null,\"formatter\":{\"id\":\"1526\"},\"group\":null,\"major_label_policy\":{\"id\":\"1527\"},\"ticker\":{\"id\":\"1500\"}},\"id\":\"1499\",\"type\":\"LinearAxis\"},{\"attributes\":{},\"id\":\"1500\",\"type\":\"BasicTicker\"},{\"attributes\":{},\"id\":\"1575\",\"type\":\"Selection\"},{\"attributes\":{\"line_color\":\"#1f77b4\",\"line_width\":3,\"x\":{\"field\":\"x\"},\"y\":{\"field\":\"y\"}},\"id\":\"1537\",\"type\":\"Line\"},{\"attributes\":{\"line_color\":\"#ff7f0e\",\"line_width\":3,\"x\":{\"field\":\"x\"},\"y\":{\"field\":\"y\"}},\"id\":\"1557\",\"type\":\"Line\"},{\"attributes\":{},\"id\":\"1527\",\"type\":\"AllLabels\"},{\"attributes\":{\"label\":{\"value\":\"Real Non-linear\"},\"renderers\":[{\"id\":\"1521\"}]},\"id\":\"1535\",\"type\":\"LegendItem\"},{\"attributes\":{},\"id\":\"1508\",\"type\":\"HelpTool\"},{\"attributes\":{\"source\":{\"id\":\"1536\"}},\"id\":\"1541\",\"type\":\"CDSView\"},{\"attributes\":{},\"id\":\"1487\",\"type\":\"DataRange1d\"},{\"attributes\":{\"source\":{\"id\":\"1556\"}},\"id\":\"1561\",\"type\":\"CDSView\"},{\"attributes\":{\"data\":{\"x\":[0,1,2,3,4,5,6,7,8,9,10,11,12,13,14,15,16,17,18,19,20,21,22,23,24,25,26,27,28,29,30,31,32,33,34,35,36,37,38,39,40,41,42,43,44,45,46,47,48,49,50,51,52,53,54,55,56,57,58,59,60,61,62,63,64,65,66,67,68,69,70,71,72,73,74,75,76,77,78,79,80,81,82,83,84,85,86,87,88,89,90,91,92,93,94,95,96,97,98,99,100,101,102,103,104,105,106,107,108,109,110,111,112,113,114,115,116,117,118,119,120,121,122,123,124,125,126,127,128,129,130,131,132,133,134,135,136,137,138,139,140,141,142,143,144,145,146,147,148,149,150,151,152,153,154,155,156,157,158,159,160,161,162,163,164,165,166,167,168,169,170,171,172,173,174,175,176,177,178,179,180,181,182,183,184,185,186,187,188,189,190,191,192,193,194,195,196,197,198,199,200,201,202,203,204,205,206,207,208,209,210,211,212,213,214,215,216,217,218,219,220,221,222,223,224,225,226,227,228,229,230,231,232,233,234,235,236,237,238,239,240,241,242,243,244,245,246,247,248,249,250,251,252,253,254,255,256,257,258,259,260,261,262,263,264,265,266,267,268,269,270,271,272,273,274,275,276,277,278,279,280,281,282,283,284,285,286,287,288,289,290,291,292,293,294,295,296,297,298,299,300,301,302,303,304,305,306,307,308,309,310,311,312,313,314,315,316,317,318,319,320,321,322,323,324,325,326,327,328,329,330,331,332,333,334,335,336,337,338,339,340,341,342,343,344,345,346,347,348,349,350,351,352,353,354,355,356,357,358,359,360,361,362,363,364,365,366,367,368,369,370,371,372,373,374,375,376,377,378,379,380,381,382,383,384,385,386,387,388,389,390,391,392,393,394,395,396,397,398,399,400,401,402,403,404,405,406,407,408,409,410,411,412,413,414,415,416,417,418,419,420,421,422,423,424,425,426,427,428,429,430,431,432,433,434,435,436,437,438,439,440,441,442,443,444,445,446,447,448,449,450,451,452,453,454,455,456,457,458,459,460,461,462,463,464,465,466,467,468,469,470,471,472,473,474,475,476,477,478,479,480,481,482,483,484,485,486,487,488,489,490,491,492,493,494,495,496,497,498,499,500,501,502,503,504,505,506,507,508,509,510,511,512,513,514,515,516,517,518,519,520,521,522,523,524,525,526,527,528,529,530,531,532,533,534,535,536,537,538,539,540,541,542,543,544,545,546,547,548,549,550,551,552,553,554,555,556,557,558,559,560,561,562,563,564,565,566,567,568,569,570,571,572,573,574,575,576,577,578,579,580,581,582,583,584,585,586,587,588,589,590,591,592,593,594,595,596,597,598,599],\"y\":{\"__ndarray__\":\"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\",\"dtype\":\"float32\",\"order\":\"little\",\"shape\":[600]}},\"selected\":{\"id\":\"1553\"},\"selection_policy\":{\"id\":\"1552\"}},\"id\":\"1536\",\"type\":\"ColumnDataSource\"},{\"attributes\":{\"line_alpha\":0.3,\"line_color\":\"#1f77b4\",\"line_width\":3,\"x\":{\"field\":\"x\"},\"y\":{\"field\":\"y\"}},\"id\":\"1518\",\"type\":\"Line\"},{\"attributes\":{\"data\":{\"x\":[0,1,2,3,4,5,6,7,8,9,10,11,12,13,14,15,16,17,18,19,20,21,22,23,24,25,26,27,28,29,30,31,32,33,34,35,36,37,38,39,40,41,42,43,44,45,46,47,48,49,50,51,52,53,54,55,56,57,58,59,60,61,62,63,64,65,66,67,68,69,70,71,72,73,74,75,76,77,78,79,80,81,82,83,84,85,86,87,88,89,90,91,92,93,94,95,96,97,98,99,100,101,102,103,104,105,106,107,108,109,110,111,112,113,114,115,116,117,118,119,120,121,122,123,124,125,126,127,128,129,130,131,132,133,134,135,136,137,138,139,140,141,142,143,144,145,146,147,148,149,150,151,152,153,154,155,156,157,158,159,160,161,162,163,164,165,166,167,168,169,170,171,172,173,174,175,176,177,178,179,180,181,182,183,184,185,186,187,188,189,190,191,192,193,194,195,196,197,198,199,200,201,202,203,204,205,206,207,208,209,210,211,212,213,214,215,216,217,218,219,220,221,222,223,224,225,226,227,228,229,230,231,232,233,234,235,236,237,238,239,240,241,242,243,244,245,246,247,248,249,250,251,252,253,254,255,256,257,258,259,260,261,262,263,264,265,266,267,268,269,270,271,272,273,274,275,276,277,278,279,280,281,282,283,284,285,286,287,288,289,290,291,292,293,294,295,296,297,298,299,300,301,302,303,304,305,306,307,308,309,310,311,312,313,314,315,316,317,318,319,320,321,322,323,324,325,326,327,328,329,330,331,332,333,334,335,336,337,338,339,340,341,342,343,344,345,346,347,348,349,350,351,352,353,354,355,356,357,358,359,360,361,362,363,364,365,366,367,368,369,370,371,372,373,374,375,376,377,378,379,380,381,382,383,384,385,386,387,388,389,390,391,392,393,394,395,396,397,398,399,400,401,402,403,404,405,406,407,408,409,410,411,412,413,414,415,416,417,418,419,420,421,422,423,424,425,426,427,428,429,430,431,432,433,434,435,436,437,438,439,440,441,442,443,444,445,446,447,448,449,450,451,452,453,454,455,456,457,458,459,460,461,462,463,464,465,466,467,468,469,470,471,472,473,474,475,476,477,478,479,480,481,482,483,484,485,486,487,488,489,490,491,492,493,494,495,496,497,498,499,500,501,502,503,504,505,506,507,508,509,510,511,512,513,514,515,516,517,518,519,520,521,522,523,524,525,526,527,528,529,530,531,532,533,534,535,536,537,538,539,540,541,542,543,544,545,546,547,548,549,550,551,552,553,554,555,556,557,558,559,560,561,562,563,564,565,566,567,568,569,570,571,572,573,574,575,576,577,578,579,580,581,582,583,584,585,586,587,588,589,590,591,592,593,594,595,596,597,598,599],\"y\":{\"__ndarray__\":\"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\",\"dtype\":\"float32\",\"order\":\"little\",\"shape\":[600]}},\"selected\":{\"id\":\"1575\"},\"selection_policy\":{\"id\":\"1574\"}},\"id\":\"1556\",\"type\":\"ColumnDataSource\"},{\"attributes\":{\"coordinates\":null,\"data_source\":{\"id\":\"1536\"},\"glyph\":{\"id\":\"1537\"},\"group\":null,\"hover_glyph\":null,\"muted_glyph\":{\"id\":\"1539\"},\"nonselection_glyph\":{\"id\":\"1538\"},\"view\":{\"id\":\"1541\"}},\"id\":\"1540\",\"type\":\"GlyphRenderer\"},{\"attributes\":{\"coordinates\":null,\"data_source\":{\"id\":\"1556\"},\"glyph\":{\"id\":\"1557\"},\"group\":null,\"hover_glyph\":null,\"muted_glyph\":{\"id\":\"1559\"},\"nonselection_glyph\":{\"id\":\"1558\"},\"view\":{\"id\":\"1561\"}},\"id\":\"1560\",\"type\":\"GlyphRenderer\"},{\"attributes\":{\"coordinates\":null,\"group\":null},\"id\":\"1523\",\"type\":\"Title\"},{\"attributes\":{\"data\":{\"x\":[0,1,2,3,4,5,6,7,8,9,10,11,12,13,14,15,16,17,18,19,20,21,22,23,24,25,26,27,28,29,30,31,32,33,34,35,36,37,38,39,40,41,42,43,44,45,46,47,48,49,50,51,52,53,54,55,56,57,58,59,60,61,62,63,64,65,66,67,68,69,70,71,72,73,74,75,76,77,78,79,80,81,82,83,84,85,86,87,88,89,90,91,92,93,94,95,96,97,98,99,100,101,102,103,104,105,106,107,108,109,110,111,112,113,114,115,116,117,118,119,120,121,122,123,124,125,126,127,128,129,130,131,132,133,134,135,136,137,138,139,140,141,142,143,144,145,146,147,148,149,150,151,152,153,154,155,156,157,158,159,160,161,162,163,164,165,166,167,168,169,170,171,172,173,174,175,176,177,178,179,180,181,182,183,184,185,186,187,188,189,190,191,192,193,194,195,196,197,198,199,200,201,202,203,204,205,206,207,208,209,210,211,212,213,214,215,216,217,218,219,220,221,222,223,224,225,226,227,228,229,230,231,232,233,234,235,236,237,238,239,240,241,242,243,244,245,246,247,248,249,250,251,252,253,254,255,256,257,258,259,260,261,262,263,264,265,266,267,268,269,270,271,272,273,274,275,276,277,278,279,280,281,282,283,284,285,286,287,288,289,290,291,292,293,294,295,296,297,298,299,300,301,302,303,304,305,306,307,308,309,310,311,312,313,314,315,316,317,318,319,320,321,322,323,324,325,326,327,328,329,330,331,332,333,334,335,336,337,338,339,340,341,342,343,344,345,346,347,348,349,350,351,352,353,354,355,356,357,358,359,360,361,362,363,364,365,366,367,368,369,370,371,372,373,374,375,376,377,378,379,380,381,382,383,384,385,386,387,388,389,390,391,392,393,394,395,396,397,398,399,400,401,402,403,404,405,406,407,408,409,410,411,412,413,414,415,416,417,418,419,420,421,422,423,424,425,426,427,428,429,430,431,432,433,434,435,436,437,438,439,440,441,442,443,444,445,446,447,448,449,450,451,452,453,454,455,456,457,458,459,460,461,462,463,464,465,466,467,468,469,470,471,472,473,474,475,476,477,478,479,480,481,482,483,484,485,486,487,488,489,490,491,492,493,494,495,496,497,498,499,500,501,502,503,504,505,506,507,508,509,510,511,512,513,514,515,516,517,518,519,520,521,522,523,524,525,526,527,528,529,530,531,532,533,534,535,536,537,538,539,540,541,542,543,544,545,546,547,548,549,550,551,552,553,554,555,556,557,558,559,560,561,562,563,564,565,566,567,568,569,570,571,572,573,574,575,576,577,578,579,580,581,582,583,584,585,586,587,588,589,590,591,592,593,594,595,596,597,598,599],\"y\":{\"__ndarray__\":\"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\",\"dtype\":\"float32\",\"order\":\"little\",\"shape\":[600]}},\"selected\":{\"id\":\"1532\"},\"selection_policy\":{\"id\":\"1531\"}},\"id\":\"1517\",\"type\":\"ColumnDataSource\"},{\"attributes\":{\"axis_label\":\"iters\",\"coordinates\":null,\"formatter\":{\"id\":\"1529\"},\"group\":null,\"major_label_policy\":{\"id\":\"1530\"},\"ticker\":{\"id\":\"1496\"}},\"id\":\"1495\",\"type\":\"LinearAxis\"},{\"attributes\":{\"label\":{\"value\":\"Approximation\"},\"renderers\":[{\"id\":\"1540\"}]},\"id\":\"1555\",\"type\":\"LegendItem\"},{\"attributes\":{\"line_alpha\":0.2,\"line_color\":\"#1f77b4\",\"line_width\":3,\"x\":{\"field\":\"x\"},\"y\":{\"field\":\"y\"}},\"id\":\"1539\",\"type\":\"Line\"},{\"attributes\":{\"line_alpha\":0.2,\"line_color\":\"#ff7f0e\",\"line_width\":3,\"x\":{\"field\":\"x\"},\"y\":{\"field\":\"y\"}},\"id\":\"1559\",\"type\":\"Line\"},{\"attributes\":{\"label\":{\"value\":\"Approximated Optimized Control\"},\"renderers\":[{\"id\":\"1560\"}]},\"id\":\"1577\",\"type\":\"LegendItem\"},{\"attributes\":{\"line_alpha\":0.1,\"line_color\":\"#1f77b4\",\"line_width\":3,\"x\":{\"field\":\"x\"},\"y\":{\"field\":\"y\"}},\"id\":\"1538\",\"type\":\"Line\"},{\"attributes\":{\"line_alpha\":0.1,\"line_color\":\"#ff7f0e\",\"line_width\":3,\"x\":{\"field\":\"x\"},\"y\":{\"field\":\"y\"}},\"id\":\"1558\",\"type\":\"Line\"},{\"attributes\":{},\"id\":\"1503\",\"type\":\"PanTool\"},{\"attributes\":{\"coordinates\":null,\"data_source\":{\"id\":\"1517\"},\"glyph\":{\"id\":\"1518\"},\"group\":null,\"hover_glyph\":null,\"muted_glyph\":{\"id\":\"1520\"},\"nonselection_glyph\":{\"id\":\"1519\"},\"view\":{\"id\":\"1522\"}},\"id\":\"1521\",\"type\":\"GlyphRenderer\"},{\"attributes\":{},\"id\":\"1574\",\"type\":\"UnionRenderers\"},{\"attributes\":{},\"id\":\"1526\",\"type\":\"BasicTickFormatter\"},{\"attributes\":{\"axis\":{\"id\":\"1495\"},\"coordinates\":null,\"group\":null,\"ticker\":null},\"id\":\"1498\",\"type\":\"Grid\"},{\"attributes\":{\"line_alpha\":0.1,\"line_color\":\"#1f77b4\",\"line_width\":3,\"x\":{\"field\":\"x\"},\"y\":{\"field\":\"y\"}},\"id\":\"1519\",\"type\":\"Line\"}],\"root_ids\":[\"1486\"]},\"title\":\"Bokeh Application\",\"version\":\"2.4.3\"}};\n",
       "  const render_items = [{\"docid\":\"1b5fd29e-9f95-45c3-8ba9-3278f484bca3\",\"root_ids\":[\"1486\"],\"roots\":{\"1486\":\"00779615-b893-4478-98bc-4c76808de56f\"}}];\n",
       "  root.Bokeh.embed.embed_items_notebook(docs_json, render_items);\n",
       "  }\n",
       "  if (root.Bokeh !== undefined) {\n",
       "    embed_document(root);\n",
       "  } else {\n",
       "    let attempts = 0;\n",
       "    const timer = setInterval(function(root) {\n",
       "      if (root.Bokeh !== undefined) {\n",
       "        clearInterval(timer);\n",
       "        embed_document(root);\n",
       "      } else {\n",
       "        attempts++;\n",
       "        if (attempts > 100) {\n",
       "          clearInterval(timer);\n",
       "          console.log(\"Bokeh: ERROR: Unable to run BokehJS code because BokehJS library is missing\");\n",
       "        }\n",
       "      }\n",
       "    }, 10, root)\n",
       "  }\n",
       "})(window);"
      ],
      "application/vnd.bokehjs_exec.v0+json": ""
     },
     "metadata": {
      "application/vnd.bokehjs_exec.v0+json": {
       "id": "1486"
      }
     },
     "output_type": "display_data"
    }
   ],
   "source": [
    "losses = (loss, Loss_t, Loss_t_opt)\n",
    "colors = (Category10[10][0], Category10[10][0], Category10[10][1])\n",
    "legends = (\"Real Non-linear\", \"Approximation\", \"Approximated Optimized Control\")\n",
    "alphas = (0.3, 1, 1)\n",
    "\n",
    "s = plot_lines(iters, losses, legends, alphas, colors)\n",
    "show(s)"
   ]
  },
  {
   "cell_type": "code",
   "execution_count": 27,
   "metadata": {
    "ExecuteTime": {
     "end_time": "2022-10-18T16:37:12.726990Z",
     "start_time": "2022-10-18T16:37:12.724984Z"
    }
   },
   "outputs": [],
   "source": [
    "g_tilda = control.g_tilda.detach()\n",
    "control_signal = g_tilda\n",
    "W_0 = control_params[\"init_weights\"]\n",
    "results_dict[\"control_signal\"] = control_signal"
   ]
  },
  {
   "cell_type": "code",
   "execution_count": 28,
   "metadata": {
    "ExecuteTime": {
     "end_time": "2022-10-18T16:37:12.733301Z",
     "start_time": "2022-10-18T16:37:12.731075Z"
    }
   },
   "outputs": [],
   "source": [
    "reset_model_params = model_params.copy()\n",
    "reset_model_params[\"W_0\"] = W_0\n",
    "\n",
    "reset_model = SingleLayerNet(**reset_model_params)"
   ]
  },
  {
   "cell_type": "code",
   "execution_count": 29,
   "metadata": {
    "ExecuteTime": {
     "end_time": "2022-10-18T16:37:16.745269Z",
     "start_time": "2022-10-18T16:37:12.734988Z"
    }
   },
   "outputs": [
    {
     "name": "stderr",
     "output_type": "stream",
     "text": [
      "100%|██████████████████████████████████████████████████████████████████████████████████████████████████████████████████████████████████████████████████████████████████████████| 600/600 [00:00<00:00, 1732.63it/s]\n"
     ]
    }
   ],
   "source": [
    "iters, loss_OPT, weights_iter_OPT, weights_OPT = single_layer_training(model=reset_model,\n",
    "                                                                       dataset=dataset,\n",
    "                                                                       n_steps=n_steps,\n",
    "                                                                       save_weights_every=save_weights_every,\n",
    "                                                                       control_signal=control_signal)\n",
    "results_dict[\"Loss_t_sim_OPT\"] = loss_OPT\n",
    "results_dict[\"weights_sim_OPT\"] = weights_OPT\n",
    "results_dict[\"weights_iters_sim_OPT\"] = weights_iter_OPT\n",
    "results_dict[\"iters_OPT\"] = iters"
   ]
  },
  {
   "cell_type": "code",
   "execution_count": 30,
   "metadata": {
    "ExecuteTime": {
     "end_time": "2022-10-18T16:37:16.873109Z",
     "start_time": "2022-10-18T16:37:16.746556Z"
    }
   },
   "outputs": [
    {
     "data": {
      "text/html": [
       "\n",
       "  <div class=\"bk-root\" id=\"312fdeb3-8c25-4875-a230-4bc9b6665b4e\" data-root-id=\"1706\"></div>\n"
      ]
     },
     "metadata": {},
     "output_type": "display_data"
    },
    {
     "data": {
      "application/javascript": [
       "(function(root) {\n",
       "  function embed_document(root) {\n",
       "  const docs_json = {\"fcbe30e4-d78c-4339-b91a-85c9190b90b9\":{\"defs\":[],\"roots\":{\"references\":[{\"attributes\":{\"below\":[{\"id\":\"1715\"}],\"center\":[{\"id\":\"1718\"},{\"id\":\"1722\"},{\"id\":\"1754\"}],\"height\":500,\"left\":[{\"id\":\"1719\"}],\"renderers\":[{\"id\":\"1741\"},{\"id\":\"1760\"},{\"id\":\"1780\"},{\"id\":\"1802\"}],\"title\":{\"id\":\"1743\"},\"toolbar\":{\"id\":\"1730\"},\"width\":800,\"x_range\":{\"id\":\"1707\"},\"x_scale\":{\"id\":\"1711\"},\"y_range\":{\"id\":\"1709\"},\"y_scale\":{\"id\":\"1713\"}},\"id\":\"1706\",\"subtype\":\"Figure\",\"type\":\"Plot\"},{\"attributes\":{},\"id\":\"1713\",\"type\":\"LinearScale\"},{\"attributes\":{\"axis\":{\"id\":\"1719\"},\"coordinates\":null,\"dimension\":1,\"group\":null,\"ticker\":null},\"id\":\"1722\",\"type\":\"Grid\"},{\"attributes\":{},\"id\":\"1795\",\"type\":\"Selection\"},{\"attributes\":{},\"id\":\"1728\",\"type\":\"HelpTool\"},{\"attributes\":{\"axis_label\":\"Loss\",\"coordinates\":null,\"formatter\":{\"id\":\"1746\"},\"group\":null,\"major_label_policy\":{\"id\":\"1747\"},\"ticker\":{\"id\":\"1720\"}},\"id\":\"1719\",\"type\":\"LinearAxis\"},{\"attributes\":{},\"id\":\"1794\",\"type\":\"UnionRenderers\"},{\"attributes\":{\"line_alpha\":0.3,\"line_color\":\"#1f77b4\",\"line_width\":3,\"x\":{\"field\":\"x\"},\"y\":{\"field\":\"y\"}},\"id\":\"1738\",\"type\":\"Line\"},{\"attributes\":{},\"id\":\"1727\",\"type\":\"ResetTool\"},{\"attributes\":{},\"id\":\"1724\",\"type\":\"WheelZoomTool\"},{\"attributes\":{},\"id\":\"1726\",\"type\":\"SaveTool\"},{\"attributes\":{\"line_alpha\":0.2,\"line_color\":\"#1f77b4\",\"line_width\":3,\"x\":{\"field\":\"x\"},\"y\":{\"field\":\"y\"}},\"id\":\"1740\",\"type\":\"Line\"},{\"attributes\":{},\"id\":\"1772\",\"type\":\"UnionRenderers\"},{\"attributes\":{},\"id\":\"1707\",\"type\":\"DataRange1d\"},{\"attributes\":{\"overlay\":{\"id\":\"1729\"}},\"id\":\"1725\",\"type\":\"BoxZoomTool\"},{\"attributes\":{},\"id\":\"1773\",\"type\":\"Selection\"},{\"attributes\":{},\"id\":\"1723\",\"type\":\"PanTool\"},{\"attributes\":{\"coordinates\":null,\"data_source\":{\"id\":\"1737\"},\"glyph\":{\"id\":\"1738\"},\"group\":null,\"hover_glyph\":null,\"muted_glyph\":{\"id\":\"1740\"},\"nonselection_glyph\":{\"id\":\"1739\"},\"view\":{\"id\":\"1742\"}},\"id\":\"1741\",\"type\":\"GlyphRenderer\"},{\"attributes\":{},\"id\":\"1716\",\"type\":\"BasicTicker\"},{\"attributes\":{\"axis\":{\"id\":\"1715\"},\"coordinates\":null,\"group\":null,\"ticker\":null},\"id\":\"1718\",\"type\":\"Grid\"},{\"attributes\":{},\"id\":\"1752\",\"type\":\"Selection\"},{\"attributes\":{},\"id\":\"1819\",\"type\":\"Selection\"},{\"attributes\":{\"source\":{\"id\":\"1737\"}},\"id\":\"1742\",\"type\":\"CDSView\"},{\"attributes\":{},\"id\":\"1747\",\"type\":\"AllLabels\"},{\"attributes\":{\"line_alpha\":0.1,\"line_color\":\"#ff7f0e\",\"line_width\":3,\"x\":{\"field\":\"x\"},\"y\":{\"field\":\"y\"}},\"id\":\"1778\",\"type\":\"Line\"},{\"attributes\":{\"bottom_units\":\"screen\",\"coordinates\":null,\"fill_alpha\":0.5,\"fill_color\":\"lightgrey\",\"group\":null,\"left_units\":\"screen\",\"level\":\"overlay\",\"line_alpha\":1.0,\"line_color\":\"black\",\"line_dash\":[4,4],\"line_width\":2,\"right_units\":\"screen\",\"syncable\":false,\"top_units\":\"screen\"},\"id\":\"1729\",\"type\":\"BoxAnnotation\"},{\"attributes\":{\"coordinates\":null,\"group\":null},\"id\":\"1743\",\"type\":\"Title\"},{\"attributes\":{},\"id\":\"1750\",\"type\":\"AllLabels\"},{\"attributes\":{},\"id\":\"1751\",\"type\":\"UnionRenderers\"},{\"attributes\":{\"label\":{\"value\":\"Real Non-linear\"},\"renderers\":[{\"id\":\"1741\"}]},\"id\":\"1755\",\"type\":\"LegendItem\"},{\"attributes\":{},\"id\":\"1746\",\"type\":\"BasicTickFormatter\"},{\"attributes\":{\"line_alpha\":0.3,\"line_color\":\"#ff7f0e\",\"line_width\":3,\"x\":{\"field\":\"x\"},\"y\":{\"field\":\"y\"}},\"id\":\"1799\",\"type\":\"Line\"},{\"attributes\":{\"coordinates\":null,\"data_source\":{\"id\":\"1798\"},\"glyph\":{\"id\":\"1799\"},\"group\":null,\"hover_glyph\":null,\"muted_glyph\":{\"id\":\"1801\"},\"nonselection_glyph\":{\"id\":\"1800\"},\"view\":{\"id\":\"1803\"}},\"id\":\"1802\",\"type\":\"GlyphRenderer\"},{\"attributes\":{\"line_color\":\"#1f77b4\",\"line_width\":3,\"x\":{\"field\":\"x\"},\"y\":{\"field\":\"y\"}},\"id\":\"1757\",\"type\":\"Line\"},{\"attributes\":{\"line_color\":\"#ff7f0e\",\"line_width\":3,\"x\":{\"field\":\"x\"},\"y\":{\"field\":\"y\"}},\"id\":\"1777\",\"type\":\"Line\"},{\"attributes\":{\"data\":{\"x\":[0,1,2,3,4,5,6,7,8,9,10,11,12,13,14,15,16,17,18,19,20,21,22,23,24,25,26,27,28,29,30,31,32,33,34,35,36,37,38,39,40,41,42,43,44,45,46,47,48,49,50,51,52,53,54,55,56,57,58,59,60,61,62,63,64,65,66,67,68,69,70,71,72,73,74,75,76,77,78,79,80,81,82,83,84,85,86,87,88,89,90,91,92,93,94,95,96,97,98,99,100,101,102,103,104,105,106,107,108,109,110,111,112,113,114,115,116,117,118,119,120,121,122,123,124,125,126,127,128,129,130,131,132,133,134,135,136,137,138,139,140,141,142,143,144,145,146,147,148,149,150,151,152,153,154,155,156,157,158,159,160,161,162,163,164,165,166,167,168,169,170,171,172,173,174,175,176,177,178,179,180,181,182,183,184,185,186,187,188,189,190,191,192,193,194,195,196,197,198,199,200,201,202,203,204,205,206,207,208,209,210,211,212,213,214,215,216,217,218,219,220,221,222,223,224,225,226,227,228,229,230,231,232,233,234,235,236,237,238,239,240,241,242,243,244,245,246,247,248,249,250,251,252,253,254,255,256,257,258,259,260,261,262,263,264,265,266,267,268,269,270,271,272,273,274,275,276,277,278,279,280,281,282,283,284,285,286,287,288,289,290,291,292,293,294,295,296,297,298,299,300,301,302,303,304,305,306,307,308,309,310,311,312,313,314,315,316,317,318,319,320,321,322,323,324,325,326,327,328,329,330,331,332,333,334,335,336,337,338,339,340,341,342,343,344,345,346,347,348,349,350,351,352,353,354,355,356,357,358,359,360,361,362,363,364,365,366,367,368,369,370,371,372,373,374,375,376,377,378,379,380,381,382,383,384,385,386,387,388,389,390,391,392,393,394,395,396,397,398,399,400,401,402,403,404,405,406,407,408,409,410,411,412,413,414,415,416,417,418,419,420,421,422,423,424,425,426,427,428,429,430,431,432,433,434,435,436,437,438,439,440,441,442,443,444,445,446,447,448,449,450,451,452,453,454,455,456,457,458,459,460,461,462,463,464,465,466,467,468,469,470,471,472,473,474,475,476,477,478,479,480,481,482,483,484,485,486,487,488,489,490,491,492,493,494,495,496,497,498,499,500,501,502,503,504,505,506,507,508,509,510,511,512,513,514,515,516,517,518,519,520,521,522,523,524,525,526,527,528,529,530,531,532,533,534,535,536,537,538,539,540,541,542,543,544,545,546,547,548,549,550,551,552,553,554,555,556,557,558,559,560,561,562,563,564,565,566,567,568,569,570,571,572,573,574,575,576,577,578,579,580,581,582,583,584,585,586,587,588,589,590,591,592,593,594,595,596,597,598,599],\"y\":{\"__ndarray__\":\"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\",\"dtype\":\"float32\",\"order\":\"little\",\"shape\":[600]}},\"selected\":{\"id\":\"1752\"},\"selection_policy\":{\"id\":\"1751\"}},\"id\":\"1737\",\"type\":\"ColumnDataSource\"},{\"attributes\":{},\"id\":\"1818\",\"type\":\"UnionRenderers\"},{\"attributes\":{\"source\":{\"id\":\"1756\"}},\"id\":\"1761\",\"type\":\"CDSView\"},{\"attributes\":{\"source\":{\"id\":\"1776\"}},\"id\":\"1781\",\"type\":\"CDSView\"},{\"attributes\":{\"data\":{\"x\":[0,1,2,3,4,5,6,7,8,9,10,11,12,13,14,15,16,17,18,19,20,21,22,23,24,25,26,27,28,29,30,31,32,33,34,35,36,37,38,39,40,41,42,43,44,45,46,47,48,49,50,51,52,53,54,55,56,57,58,59,60,61,62,63,64,65,66,67,68,69,70,71,72,73,74,75,76,77,78,79,80,81,82,83,84,85,86,87,88,89,90,91,92,93,94,95,96,97,98,99,100,101,102,103,104,105,106,107,108,109,110,111,112,113,114,115,116,117,118,119,120,121,122,123,124,125,126,127,128,129,130,131,132,133,134,135,136,137,138,139,140,141,142,143,144,145,146,147,148,149,150,151,152,153,154,155,156,157,158,159,160,161,162,163,164,165,166,167,168,169,170,171,172,173,174,175,176,177,178,179,180,181,182,183,184,185,186,187,188,189,190,191,192,193,194,195,196,197,198,199,200,201,202,203,204,205,206,207,208,209,210,211,212,213,214,215,216,217,218,219,220,221,222,223,224,225,226,227,228,229,230,231,232,233,234,235,236,237,238,239,240,241,242,243,244,245,246,247,248,249,250,251,252,253,254,255,256,257,258,259,260,261,262,263,264,265,266,267,268,269,270,271,272,273,274,275,276,277,278,279,280,281,282,283,284,285,286,287,288,289,290,291,292,293,294,295,296,297,298,299,300,301,302,303,304,305,306,307,308,309,310,311,312,313,314,315,316,317,318,319,320,321,322,323,324,325,326,327,328,329,330,331,332,333,334,335,336,337,338,339,340,341,342,343,344,345,346,347,348,349,350,351,352,353,354,355,356,357,358,359,360,361,362,363,364,365,366,367,368,369,370,371,372,373,374,375,376,377,378,379,380,381,382,383,384,385,386,387,388,389,390,391,392,393,394,395,396,397,398,399,400,401,402,403,404,405,406,407,408,409,410,411,412,413,414,415,416,417,418,419,420,421,422,423,424,425,426,427,428,429,430,431,432,433,434,435,436,437,438,439,440,441,442,443,444,445,446,447,448,449,450,451,452,453,454,455,456,457,458,459,460,461,462,463,464,465,466,467,468,469,470,471,472,473,474,475,476,477,478,479,480,481,482,483,484,485,486,487,488,489,490,491,492,493,494,495,496,497,498,499,500,501,502,503,504,505,506,507,508,509,510,511,512,513,514,515,516,517,518,519,520,521,522,523,524,525,526,527,528,529,530,531,532,533,534,535,536,537,538,539,540,541,542,543,544,545,546,547,548,549,550,551,552,553,554,555,556,557,558,559,560,561,562,563,564,565,566,567,568,569,570,571,572,573,574,575,576,577,578,579,580,581,582,583,584,585,586,587,588,589,590,591,592,593,594,595,596,597,598,599],\"y\":{\"__ndarray__\":\"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\",\"dtype\":\"float32\",\"order\":\"little\",\"shape\":[600]}},\"selected\":{\"id\":\"1819\"},\"selection_policy\":{\"id\":\"1818\"}},\"id\":\"1798\",\"type\":\"ColumnDataSource\"},{\"attributes\":{\"data\":{\"x\":[0,1,2,3,4,5,6,7,8,9,10,11,12,13,14,15,16,17,18,19,20,21,22,23,24,25,26,27,28,29,30,31,32,33,34,35,36,37,38,39,40,41,42,43,44,45,46,47,48,49,50,51,52,53,54,55,56,57,58,59,60,61,62,63,64,65,66,67,68,69,70,71,72,73,74,75,76,77,78,79,80,81,82,83,84,85,86,87,88,89,90,91,92,93,94,95,96,97,98,99,100,101,102,103,104,105,106,107,108,109,110,111,112,113,114,115,116,117,118,119,120,121,122,123,124,125,126,127,128,129,130,131,132,133,134,135,136,137,138,139,140,141,142,143,144,145,146,147,148,149,150,151,152,153,154,155,156,157,158,159,160,161,162,163,164,165,166,167,168,169,170,171,172,173,174,175,176,177,178,179,180,181,182,183,184,185,186,187,188,189,190,191,192,193,194,195,196,197,198,199,200,201,202,203,204,205,206,207,208,209,210,211,212,213,214,215,216,217,218,219,220,221,222,223,224,225,226,227,228,229,230,231,232,233,234,235,236,237,238,239,240,241,242,243,244,245,246,247,248,249,250,251,252,253,254,255,256,257,258,259,260,261,262,263,264,265,266,267,268,269,270,271,272,273,274,275,276,277,278,279,280,281,282,283,284,285,286,287,288,289,290,291,292,293,294,295,296,297,298,299,300,301,302,303,304,305,306,307,308,309,310,311,312,313,314,315,316,317,318,319,320,321,322,323,324,325,326,327,328,329,330,331,332,333,334,335,336,337,338,339,340,341,342,343,344,345,346,347,348,349,350,351,352,353,354,355,356,357,358,359,360,361,362,363,364,365,366,367,368,369,370,371,372,373,374,375,376,377,378,379,380,381,382,383,384,385,386,387,388,389,390,391,392,393,394,395,396,397,398,399,400,401,402,403,404,405,406,407,408,409,410,411,412,413,414,415,416,417,418,419,420,421,422,423,424,425,426,427,428,429,430,431,432,433,434,435,436,437,438,439,440,441,442,443,444,445,446,447,448,449,450,451,452,453,454,455,456,457,458,459,460,461,462,463,464,465,466,467,468,469,470,471,472,473,474,475,476,477,478,479,480,481,482,483,484,485,486,487,488,489,490,491,492,493,494,495,496,497,498,499,500,501,502,503,504,505,506,507,508,509,510,511,512,513,514,515,516,517,518,519,520,521,522,523,524,525,526,527,528,529,530,531,532,533,534,535,536,537,538,539,540,541,542,543,544,545,546,547,548,549,550,551,552,553,554,555,556,557,558,559,560,561,562,563,564,565,566,567,568,569,570,571,572,573,574,575,576,577,578,579,580,581,582,583,584,585,586,587,588,589,590,591,592,593,594,595,596,597,598,599],\"y\":{\"__ndarray__\":\"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\",\"dtype\":\"float32\",\"order\":\"little\",\"shape\":[600]}},\"selected\":{\"id\":\"1773\"},\"selection_policy\":{\"id\":\"1772\"}},\"id\":\"1756\",\"type\":\"ColumnDataSource\"},{\"attributes\":{\"data\":{\"x\":[0,1,2,3,4,5,6,7,8,9,10,11,12,13,14,15,16,17,18,19,20,21,22,23,24,25,26,27,28,29,30,31,32,33,34,35,36,37,38,39,40,41,42,43,44,45,46,47,48,49,50,51,52,53,54,55,56,57,58,59,60,61,62,63,64,65,66,67,68,69,70,71,72,73,74,75,76,77,78,79,80,81,82,83,84,85,86,87,88,89,90,91,92,93,94,95,96,97,98,99,100,101,102,103,104,105,106,107,108,109,110,111,112,113,114,115,116,117,118,119,120,121,122,123,124,125,126,127,128,129,130,131,132,133,134,135,136,137,138,139,140,141,142,143,144,145,146,147,148,149,150,151,152,153,154,155,156,157,158,159,160,161,162,163,164,165,166,167,168,169,170,171,172,173,174,175,176,177,178,179,180,181,182,183,184,185,186,187,188,189,190,191,192,193,194,195,196,197,198,199,200,201,202,203,204,205,206,207,208,209,210,211,212,213,214,215,216,217,218,219,220,221,222,223,224,225,226,227,228,229,230,231,232,233,234,235,236,237,238,239,240,241,242,243,244,245,246,247,248,249,250,251,252,253,254,255,256,257,258,259,260,261,262,263,264,265,266,267,268,269,270,271,272,273,274,275,276,277,278,279,280,281,282,283,284,285,286,287,288,289,290,291,292,293,294,295,296,297,298,299,300,301,302,303,304,305,306,307,308,309,310,311,312,313,314,315,316,317,318,319,320,321,322,323,324,325,326,327,328,329,330,331,332,333,334,335,336,337,338,339,340,341,342,343,344,345,346,347,348,349,350,351,352,353,354,355,356,357,358,359,360,361,362,363,364,365,366,367,368,369,370,371,372,373,374,375,376,377,378,379,380,381,382,383,384,385,386,387,388,389,390,391,392,393,394,395,396,397,398,399,400,401,402,403,404,405,406,407,408,409,410,411,412,413,414,415,416,417,418,419,420,421,422,423,424,425,426,427,428,429,430,431,432,433,434,435,436,437,438,439,440,441,442,443,444,445,446,447,448,449,450,451,452,453,454,455,456,457,458,459,460,461,462,463,464,465,466,467,468,469,470,471,472,473,474,475,476,477,478,479,480,481,482,483,484,485,486,487,488,489,490,491,492,493,494,495,496,497,498,499,500,501,502,503,504,505,506,507,508,509,510,511,512,513,514,515,516,517,518,519,520,521,522,523,524,525,526,527,528,529,530,531,532,533,534,535,536,537,538,539,540,541,542,543,544,545,546,547,548,549,550,551,552,553,554,555,556,557,558,559,560,561,562,563,564,565,566,567,568,569,570,571,572,573,574,575,576,577,578,579,580,581,582,583,584,585,586,587,588,589,590,591,592,593,594,595,596,597,598,599],\"y\":{\"__ndarray__\":\"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\",\"dtype\":\"float32\",\"order\":\"little\",\"shape\":[600]}},\"selected\":{\"id\":\"1795\"},\"selection_policy\":{\"id\":\"1794\"}},\"id\":\"1776\",\"type\":\"ColumnDataSource\"},{\"attributes\":{\"source\":{\"id\":\"1798\"}},\"id\":\"1803\",\"type\":\"CDSView\"},{\"attributes\":{\"coordinates\":null,\"data_source\":{\"id\":\"1756\"},\"glyph\":{\"id\":\"1757\"},\"group\":null,\"hover_glyph\":null,\"muted_glyph\":{\"id\":\"1759\"},\"nonselection_glyph\":{\"id\":\"1758\"},\"view\":{\"id\":\"1761\"}},\"id\":\"1760\",\"type\":\"GlyphRenderer\"},{\"attributes\":{\"coordinates\":null,\"data_source\":{\"id\":\"1776\"},\"glyph\":{\"id\":\"1777\"},\"group\":null,\"hover_glyph\":null,\"muted_glyph\":{\"id\":\"1779\"},\"nonselection_glyph\":{\"id\":\"1778\"},\"view\":{\"id\":\"1781\"}},\"id\":\"1780\",\"type\":\"GlyphRenderer\"},{\"attributes\":{\"line_alpha\":0.1,\"line_color\":\"#1f77b4\",\"line_width\":3,\"x\":{\"field\":\"x\"},\"y\":{\"field\":\"y\"}},\"id\":\"1739\",\"type\":\"Line\"},{\"attributes\":{},\"id\":\"1709\",\"type\":\"DataRange1d\"},{\"attributes\":{\"tools\":[{\"id\":\"1723\"},{\"id\":\"1724\"},{\"id\":\"1725\"},{\"id\":\"1726\"},{\"id\":\"1727\"},{\"id\":\"1728\"}]},\"id\":\"1730\",\"type\":\"Toolbar\"},{\"attributes\":{\"line_alpha\":0.2,\"line_color\":\"#ff7f0e\",\"line_width\":3,\"x\":{\"field\":\"x\"},\"y\":{\"field\":\"y\"}},\"id\":\"1801\",\"type\":\"Line\"},{\"attributes\":{\"line_alpha\":0.2,\"line_color\":\"#1f77b4\",\"line_width\":3,\"x\":{\"field\":\"x\"},\"y\":{\"field\":\"y\"}},\"id\":\"1759\",\"type\":\"Line\"},{\"attributes\":{\"line_alpha\":0.2,\"line_color\":\"#ff7f0e\",\"line_width\":3,\"x\":{\"field\":\"x\"},\"y\":{\"field\":\"y\"}},\"id\":\"1779\",\"type\":\"Line\"},{\"attributes\":{\"line_alpha\":0.1,\"line_color\":\"#ff7f0e\",\"line_width\":3,\"x\":{\"field\":\"x\"},\"y\":{\"field\":\"y\"}},\"id\":\"1800\",\"type\":\"Line\"},{\"attributes\":{\"coordinates\":null,\"group\":null,\"items\":[{\"id\":\"1755\"},{\"id\":\"1775\"},{\"id\":\"1797\"},{\"id\":\"1821\"}]},\"id\":\"1754\",\"type\":\"Legend\"},{\"attributes\":{\"line_alpha\":0.1,\"line_color\":\"#1f77b4\",\"line_width\":3,\"x\":{\"field\":\"x\"},\"y\":{\"field\":\"y\"}},\"id\":\"1758\",\"type\":\"Line\"},{\"attributes\":{},\"id\":\"1749\",\"type\":\"BasicTickFormatter\"},{\"attributes\":{\"label\":{\"value\":\"Approximation\"},\"renderers\":[{\"id\":\"1760\"}]},\"id\":\"1775\",\"type\":\"LegendItem\"},{\"attributes\":{\"label\":{\"value\":\"Approximated Optimized Control\"},\"renderers\":[{\"id\":\"1780\"}]},\"id\":\"1797\",\"type\":\"LegendItem\"},{\"attributes\":{\"axis_label\":\"iters\",\"coordinates\":null,\"formatter\":{\"id\":\"1749\"},\"group\":null,\"major_label_policy\":{\"id\":\"1750\"},\"ticker\":{\"id\":\"1716\"}},\"id\":\"1715\",\"type\":\"LinearAxis\"},{\"attributes\":{\"label\":{\"value\":\"Optimized Non-linear\"},\"renderers\":[{\"id\":\"1802\"}]},\"id\":\"1821\",\"type\":\"LegendItem\"},{\"attributes\":{},\"id\":\"1720\",\"type\":\"BasicTicker\"},{\"attributes\":{},\"id\":\"1711\",\"type\":\"LinearScale\"}],\"root_ids\":[\"1706\"]},\"title\":\"Bokeh Application\",\"version\":\"2.4.3\"}};\n",
       "  const render_items = [{\"docid\":\"fcbe30e4-d78c-4339-b91a-85c9190b90b9\",\"root_ids\":[\"1706\"],\"roots\":{\"1706\":\"312fdeb3-8c25-4875-a230-4bc9b6665b4e\"}}];\n",
       "  root.Bokeh.embed.embed_items_notebook(docs_json, render_items);\n",
       "  }\n",
       "  if (root.Bokeh !== undefined) {\n",
       "    embed_document(root);\n",
       "  } else {\n",
       "    let attempts = 0;\n",
       "    const timer = setInterval(function(root) {\n",
       "      if (root.Bokeh !== undefined) {\n",
       "        clearInterval(timer);\n",
       "        embed_document(root);\n",
       "      } else {\n",
       "        attempts++;\n",
       "        if (attempts > 100) {\n",
       "          clearInterval(timer);\n",
       "          console.log(\"Bokeh: ERROR: Unable to run BokehJS code because BokehJS library is missing\");\n",
       "        }\n",
       "      }\n",
       "    }, 10, root)\n",
       "  }\n",
       "})(window);"
      ],
      "application/vnd.bokehjs_exec.v0+json": ""
     },
     "metadata": {
      "application/vnd.bokehjs_exec.v0+json": {
       "id": "1706"
      }
     },
     "output_type": "display_data"
    }
   ],
   "source": [
    "losses = (loss, Loss_t, Loss_t_opt, loss_OPT)\n",
    "colors = (Category10[10][0], Category10[10][0], Category10[10][1], Category10[10][1])\n",
    "legends = (\"Real Non-linear\", \"Approximation\", \"Approximated Optimized Control\", \"Optimized Non-linear\")\n",
    "alphas = (0.3, 1, 1, 0.3)\n",
    "\n",
    "s = plot_lines(iters, losses, legends, alphas, colors)\n",
    "show(s)"
   ]
  },
  {
   "cell_type": "code",
   "execution_count": 31,
   "metadata": {},
   "outputs": [],
   "source": [
    "baseline_reward_rate = -control_params[\"reward_convertion\"]*Loss_t\n",
    "control_reward_rate = -control_params[\"reward_convertion\"]*Loss_t_opt - control.control_cost(get_numpy=True)"
   ]
  },
  {
   "cell_type": "code",
   "execution_count": 32,
   "metadata": {},
   "outputs": [
    {
     "data": {
      "text/html": [
       "\n",
       "  <div class=\"bk-root\" id=\"13243bbb-ea1f-4112-b0b6-a7e74602220f\" data-root-id=\"1977\"></div>\n"
      ]
     },
     "metadata": {},
     "output_type": "display_data"
    },
    {
     "data": {
      "application/javascript": [
       "(function(root) {\n",
       "  function embed_document(root) {\n",
       "  const docs_json = {\"38a4c973-f761-4be5-bd3b-7031c4baeac9\":{\"defs\":[],\"roots\":{\"references\":[{\"attributes\":{\"below\":[{\"id\":\"1986\"}],\"center\":[{\"id\":\"1989\"},{\"id\":\"1993\"},{\"id\":\"2025\"}],\"height\":500,\"left\":[{\"id\":\"1990\"}],\"renderers\":[{\"id\":\"2012\"},{\"id\":\"2031\"}],\"title\":{\"id\":\"2014\"},\"toolbar\":{\"id\":\"2001\"},\"width\":800,\"x_range\":{\"id\":\"1978\"},\"x_scale\":{\"id\":\"1982\"},\"y_range\":{\"id\":\"1980\"},\"y_scale\":{\"id\":\"1984\"}},\"id\":\"1977\",\"subtype\":\"Figure\",\"type\":\"Plot\"},{\"attributes\":{\"coordinates\":null,\"group\":null},\"id\":\"2014\",\"type\":\"Title\"},{\"attributes\":{},\"id\":\"2043\",\"type\":\"UnionRenderers\"},{\"attributes\":{\"coordinates\":null,\"data_source\":{\"id\":\"2008\"},\"glyph\":{\"id\":\"2009\"},\"group\":null,\"hover_glyph\":null,\"muted_glyph\":{\"id\":\"2011\"},\"nonselection_glyph\":{\"id\":\"2010\"},\"view\":{\"id\":\"2013\"}},\"id\":\"2012\",\"type\":\"GlyphRenderer\"},{\"attributes\":{\"label\":{\"value\":\"Baseline iRR\"},\"renderers\":[{\"id\":\"2012\"}]},\"id\":\"2026\",\"type\":\"LegendItem\"},{\"attributes\":{\"bottom_units\":\"screen\",\"coordinates\":null,\"fill_alpha\":0.5,\"fill_color\":\"lightgrey\",\"group\":null,\"left_units\":\"screen\",\"level\":\"overlay\",\"line_alpha\":1.0,\"line_color\":\"black\",\"line_dash\":[4,4],\"line_width\":2,\"right_units\":\"screen\",\"syncable\":false,\"top_units\":\"screen\"},\"id\":\"2000\",\"type\":\"BoxAnnotation\"},{\"attributes\":{\"line_color\":\"#ff7f0e\",\"line_width\":3,\"x\":{\"field\":\"x\"},\"y\":{\"field\":\"y\"}},\"id\":\"2028\",\"type\":\"Line\"},{\"attributes\":{\"source\":{\"id\":\"2027\"}},\"id\":\"2032\",\"type\":\"CDSView\"},{\"attributes\":{},\"id\":\"1995\",\"type\":\"WheelZoomTool\"},{\"attributes\":{\"data\":{\"x\":[0,1,2,3,4,5,6,7,8,9,10,11,12,13,14,15,16,17,18,19,20,21,22,23,24,25,26,27,28,29,30,31,32,33,34,35,36,37,38,39,40,41,42,43,44,45,46,47,48,49,50,51,52,53,54,55,56,57,58,59,60,61,62,63,64,65,66,67,68,69,70,71,72,73,74,75,76,77,78,79,80,81,82,83,84,85,86,87,88,89,90,91,92,93,94,95,96,97,98,99,100,101,102,103,104,105,106,107,108,109,110,111,112,113,114,115,116,117,118,119,120,121,122,123,124,125,126,127,128,129,130,131,132,133,134,135,136,137,138,139,140,141,142,143,144,145,146,147,148,149,150,151,152,153,154,155,156,157,158,159,160,161,162,163,164,165,166,167,168,169,170,171,172,173,174,175,176,177,178,179,180,181,182,183,184,185,186,187,188,189,190,191,192,193,194,195,196,197,198,199,200,201,202,203,204,205,206,207,208,209,210,211,212,213,214,215,216,217,218,219,220,221,222,223,224,225,226,227,228,229,230,231,232,233,234,235,236,237,238,239,240,241,242,243,244,245,246,247,248,249,250,251,252,253,254,255,256,257,258,259,260,261,262,263,264,265,266,267,268,269,270,271,272,273,274,275,276,277,278,279,280,281,282,283,284,285,286,287,288,289,290,291,292,293,294,295,296,297,298,299,300,301,302,303,304,305,306,307,308,309,310,311,312,313,314,315,316,317,318,319,320,321,322,323,324,325,326,327,328,329,330,331,332,333,334,335,336,337,338,339,340,341,342,343,344,345,346,347,348,349,350,351,352,353,354,355,356,357,358,359,360,361,362,363,364,365,366,367,368,369,370,371,372,373,374,375,376,377,378,379,380,381,382,383,384,385,386,387,388,389,390,391,392,393,394,395,396,397,398,399,400,401,402,403,404,405,406,407,408,409,410,411,412,413,414,415,416,417,418,419,420,421,422,423,424,425,426,427,428,429,430,431,432,433,434,435,436,437,438,439,440,441,442,443,444,445,446,447,448,449,450,451,452,453,454,455,456,457,458,459,460,461,462,463,464,465,466,467,468,469,470,471,472,473,474,475,476,477,478,479,480,481,482,483,484,485,486,487,488,489,490,491,492,493,494,495,496,497,498,499,500,501,502,503,504,505,506,507,508,509,510,511,512,513,514,515,516,517,518,519,520,521,522,523,524,525,526,527,528,529,530,531,532,533,534,535,536,537,538,539,540,541,542,543,544,545,546,547,548,549,550,551,552,553,554,555,556,557,558,559,560,561,562,563,564,565,566,567,568,569,570,571,572,573,574,575,576,577,578,579,580,581,582,583,584,585,586,587,588,589,590,591,592,593,594,595,596,597,598,599],\"y\":{\"__ndarray__\":\"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\",\"dtype\":\"float32\",\"order\":\"little\",\"shape\":[600]}},\"selected\":{\"id\":\"2044\"},\"selection_policy\":{\"id\":\"2043\"}},\"id\":\"2027\",\"type\":\"ColumnDataSource\"},{\"attributes\":{\"axis\":{\"id\":\"1990\"},\"coordinates\":null,\"dimension\":1,\"group\":null,\"ticker\":null},\"id\":\"1993\",\"type\":\"Grid\"},{\"attributes\":{\"coordinates\":null,\"data_source\":{\"id\":\"2027\"},\"glyph\":{\"id\":\"2028\"},\"group\":null,\"hover_glyph\":null,\"muted_glyph\":{\"id\":\"2030\"},\"nonselection_glyph\":{\"id\":\"2029\"},\"view\":{\"id\":\"2032\"}},\"id\":\"2031\",\"type\":\"GlyphRenderer\"},{\"attributes\":{},\"id\":\"2020\",\"type\":\"BasicTickFormatter\"},{\"attributes\":{\"label\":{\"value\":\"Control iRR\"},\"renderers\":[{\"id\":\"2031\"}]},\"id\":\"2046\",\"type\":\"LegendItem\"},{\"attributes\":{\"axis_label\":\"Loss\",\"coordinates\":null,\"formatter\":{\"id\":\"2017\"},\"group\":null,\"major_label_policy\":{\"id\":\"2018\"},\"ticker\":{\"id\":\"1991\"}},\"id\":\"1990\",\"type\":\"LinearAxis\"},{\"attributes\":{\"axis\":{\"id\":\"1986\"},\"coordinates\":null,\"group\":null,\"ticker\":null},\"id\":\"1989\",\"type\":\"Grid\"},{\"attributes\":{\"line_alpha\":0.1,\"line_color\":\"#1f77b4\",\"line_width\":3,\"x\":{\"field\":\"x\"},\"y\":{\"field\":\"y\"}},\"id\":\"2010\",\"type\":\"Line\"},{\"attributes\":{\"line_alpha\":0.2,\"line_color\":\"#ff7f0e\",\"line_width\":3,\"x\":{\"field\":\"x\"},\"y\":{\"field\":\"y\"}},\"id\":\"2030\",\"type\":\"Line\"},{\"attributes\":{},\"id\":\"1994\",\"type\":\"PanTool\"},{\"attributes\":{\"line_alpha\":0.1,\"line_color\":\"#ff7f0e\",\"line_width\":3,\"x\":{\"field\":\"x\"},\"y\":{\"field\":\"y\"}},\"id\":\"2029\",\"type\":\"Line\"},{\"attributes\":{},\"id\":\"1999\",\"type\":\"HelpTool\"},{\"attributes\":{},\"id\":\"1987\",\"type\":\"BasicTicker\"},{\"attributes\":{\"overlay\":{\"id\":\"2000\"}},\"id\":\"1996\",\"type\":\"BoxZoomTool\"},{\"attributes\":{},\"id\":\"1997\",\"type\":\"SaveTool\"},{\"attributes\":{},\"id\":\"1998\",\"type\":\"ResetTool\"},{\"attributes\":{},\"id\":\"2044\",\"type\":\"Selection\"},{\"attributes\":{\"line_alpha\":0.2,\"line_color\":\"#1f77b4\",\"line_width\":3,\"x\":{\"field\":\"x\"},\"y\":{\"field\":\"y\"}},\"id\":\"2011\",\"type\":\"Line\"},{\"attributes\":{},\"id\":\"1978\",\"type\":\"DataRange1d\"},{\"attributes\":{},\"id\":\"2022\",\"type\":\"UnionRenderers\"},{\"attributes\":{\"line_color\":\"#1f77b4\",\"line_width\":3,\"x\":{\"field\":\"x\"},\"y\":{\"field\":\"y\"}},\"id\":\"2009\",\"type\":\"Line\"},{\"attributes\":{\"axis_label\":\"iters\",\"coordinates\":null,\"formatter\":{\"id\":\"2020\"},\"group\":null,\"major_label_policy\":{\"id\":\"2021\"},\"ticker\":{\"id\":\"1987\"}},\"id\":\"1986\",\"type\":\"LinearAxis\"},{\"attributes\":{},\"id\":\"1984\",\"type\":\"LinearScale\"},{\"attributes\":{},\"id\":\"2017\",\"type\":\"BasicTickFormatter\"},{\"attributes\":{},\"id\":\"2018\",\"type\":\"AllLabels\"},{\"attributes\":{},\"id\":\"1982\",\"type\":\"LinearScale\"},{\"attributes\":{},\"id\":\"1980\",\"type\":\"DataRange1d\"},{\"attributes\":{\"coordinates\":null,\"group\":null,\"items\":[{\"id\":\"2026\"},{\"id\":\"2046\"}]},\"id\":\"2025\",\"type\":\"Legend\"},{\"attributes\":{\"source\":{\"id\":\"2008\"}},\"id\":\"2013\",\"type\":\"CDSView\"},{\"attributes\":{},\"id\":\"1991\",\"type\":\"BasicTicker\"},{\"attributes\":{\"data\":{\"x\":[0,1,2,3,4,5,6,7,8,9,10,11,12,13,14,15,16,17,18,19,20,21,22,23,24,25,26,27,28,29,30,31,32,33,34,35,36,37,38,39,40,41,42,43,44,45,46,47,48,49,50,51,52,53,54,55,56,57,58,59,60,61,62,63,64,65,66,67,68,69,70,71,72,73,74,75,76,77,78,79,80,81,82,83,84,85,86,87,88,89,90,91,92,93,94,95,96,97,98,99,100,101,102,103,104,105,106,107,108,109,110,111,112,113,114,115,116,117,118,119,120,121,122,123,124,125,126,127,128,129,130,131,132,133,134,135,136,137,138,139,140,141,142,143,144,145,146,147,148,149,150,151,152,153,154,155,156,157,158,159,160,161,162,163,164,165,166,167,168,169,170,171,172,173,174,175,176,177,178,179,180,181,182,183,184,185,186,187,188,189,190,191,192,193,194,195,196,197,198,199,200,201,202,203,204,205,206,207,208,209,210,211,212,213,214,215,216,217,218,219,220,221,222,223,224,225,226,227,228,229,230,231,232,233,234,235,236,237,238,239,240,241,242,243,244,245,246,247,248,249,250,251,252,253,254,255,256,257,258,259,260,261,262,263,264,265,266,267,268,269,270,271,272,273,274,275,276,277,278,279,280,281,282,283,284,285,286,287,288,289,290,291,292,293,294,295,296,297,298,299,300,301,302,303,304,305,306,307,308,309,310,311,312,313,314,315,316,317,318,319,320,321,322,323,324,325,326,327,328,329,330,331,332,333,334,335,336,337,338,339,340,341,342,343,344,345,346,347,348,349,350,351,352,353,354,355,356,357,358,359,360,361,362,363,364,365,366,367,368,369,370,371,372,373,374,375,376,377,378,379,380,381,382,383,384,385,386,387,388,389,390,391,392,393,394,395,396,397,398,399,400,401,402,403,404,405,406,407,408,409,410,411,412,413,414,415,416,417,418,419,420,421,422,423,424,425,426,427,428,429,430,431,432,433,434,435,436,437,438,439,440,441,442,443,444,445,446,447,448,449,450,451,452,453,454,455,456,457,458,459,460,461,462,463,464,465,466,467,468,469,470,471,472,473,474,475,476,477,478,479,480,481,482,483,484,485,486,487,488,489,490,491,492,493,494,495,496,497,498,499,500,501,502,503,504,505,506,507,508,509,510,511,512,513,514,515,516,517,518,519,520,521,522,523,524,525,526,527,528,529,530,531,532,533,534,535,536,537,538,539,540,541,542,543,544,545,546,547,548,549,550,551,552,553,554,555,556,557,558,559,560,561,562,563,564,565,566,567,568,569,570,571,572,573,574,575,576,577,578,579,580,581,582,583,584,585,586,587,588,589,590,591,592,593,594,595,596,597,598,599],\"y\":{\"__ndarray__\":\"yu79vjjp+77r6Pm+1O33vub39b4TB/S+Txvyvos08L67Uu6+0nXsvsGd6r6Byui+APzmvjQy5b4RbeO+iazhvpLw374eOd6+JYbcvpfX2r5rLdm+lYfXvgnm1b6+SNS+p6/Svrka0b7qic++Lv3Nvn10zL7J78q+Cm/Jvjbyx75Beca+IgTFvs+Sw749JcK+ZLvAvjlVv76z8r2+yJO8vnA4u76g4Lm+UIy4vnY7t74J7rW+AaS0vlRds776GbK+69mwvh2dr76IY66+Iy2tvuj5q77Nyaq+yZypvtVyqL7qS6e+/yemvgwHpb4J6aO+8c2ivri1ob5ZoKC+zo2fvg5+nr4QcZ2+z2acvkVfm75oWpq+M1iZvp5YmL6jW5e+PGGWvl9plb4IdJS+MoGTvtOQkr7mopG+ZbeQvkrOj76N546+KgOOvhkhjb5WQYy+2WOLvpyIir6br4m+z9iIvjIEiL6+MYe+cWGGvkCThb4px4S+Jv2Dvi81g75Db4K+WquBvm/pgL5+KYC+ANd+vuJefb6W6nu+Fnp6vlQNeb5KpHe+6j52vi7ddL4Mf3O+eiRyvm7NcL7feW++xiluvhbdbL7Lk2u+2U1qvjcLab7cy2e+w49mvuFWZb4tIWS+ou5ivjK/Yb7akmC+kGlfvk1DXr4JIF2+uv9bvlriWr7hx1m+SbBYvombV76aiVa+dHpVvhBuVL5nZFO+cl1SvitZUb6JV1C+hlhPvhpcTr5BYk2+82pMvih2S77cg0q+BpRJvqCmSL6lu0e+DtNGvtXsRb7zCEW+YydEvh5IQ74fa0K+YJBBvtq3QL6I4T++Zg0/vmo7Pr6Saz2+1508vjPSO76kCDu+H0E6vqN7Ob4puDi+rvY3vio3N76YeTa+9L01vjcENb5gTDS+Z5YzvkniMr4AMDK+hn8xvtjQML7yIzC+zXgvvmbPLr66Jy6+woEtvnndLL7cOiy+55krvpb6Kr7jXCq+y8ApvkgmKb5ZjSi++fUnviJgJ77Syya+BDkmvrWnJb7gFyW+gYkkvpX8I74ZcSO+COcivl5eIr4Y1yG+NFEhvqrMIL58SSC+oMcfvhlHH77ixx6+9Ekevk/NHb7uUR2+zdccvuxeHL5F5xu+1XAbvpz7Gr6Shxq+txQavgejGb5/Mhm+HMMYvtxUGL665xe+tXsXvskQF770pha+Mj4WvoHWFb7gbxW+SAoVvrmlFL4xQhS+qt8TviV+E76fHRO+E74SvoBfEr7kARK+OqURvoJJEb667hC+3ZQQvu07EL7i4w++vowPvns2D74a4Q6+l4wOvvA4Dr4j5g2+LpQNvg5DDb7B8gy+RqMMvphUDL64Bgy+pLkLvlltC77TIQu+EtcKvhWNCr7XQwq+WvsJvpezCb6RbAm+RCYJvqzgCL7Lmwi+nVcIviEUCL5U0Qe+No8HvsRNB777DAe+3MwGvmSNBr6RTga+YRAGvtTSBb7olQW+mVkFvugdBb7U4gS+WKgEvnRuBL4nNQS+b/wDvkrEA765jAO+uFUDvkUfA75i6QK+CrQCvj9/Ar78SgK+QBcCvg3kAb5dsQG+Mn8BvopNAb5jHAG+u+sAvpK7AL7oiwC+u1wAvgcuAL6a//+9FaT/vYFJ/73Y7/69GZf+vUE//r1N6P29PJL9vQ09/b256Py9QZX8vaRC/L3d8Pu97J/7vc5P+71+APu9/bH6vUxk+r1kF/q9Qsv5vep/+b1TNfm9guv4vWui+L0VWvi9fhL4vZ/L9717hfe9DED3vU/79r1It/a983P2vVAx9r1W7/W9Cq71vWRt9b1oLfW9Fu70vWWv9L1bcfS97jP0vST38737uvO9aH/zvXRE870dCvO9WdDyvSqX8r2VXvK9jybyvR7v8b08uPG96IHxvSZM8b3qFvG9POLwvRSu8L13evC9X0fwvc4U8L3D4u+9N7HvvSyA772cT++9kx/vvQPw7r3uwO69WJLuvTdk7r2RNu69YgnuvaTc7b1esO29iYTtvShZ7b04Lu29uwPtvanZ7L0FsOy9zIbsvQFe7L2hNey9qA3svRXm673tvuu9K5jrvcxx673US+u9NibrvQQB670s3Oq9urfqvaST6r3sb+q9j0zqvZEp6r3uBuq9puTpvbTC6b0doem93n/pvfVe6b1fPum9IB7pvTT+6L2c3ui9Vr/ovWOg6L2/gei9bmPovWlF6L2yJ+i9RwrovS7t571Z0Oe917PnvZmX572pe+e9/V/nvZxE572CKee9rw7nvST05r3Y2ea91L/mvRam5r2YjOa9XnPmvWNa5r2vQea9Nynmvf4Q5r0E+eW9TuHlvdDJ5b2RsuW9jpvlvcaE5b05buW96VflvdRB5b32K+W9UBblveYA5b2z6+S9tNbkve3B5L1ireS9Apnkvd6E5L3ucOS9MV3kvaRJ5L1QNuS9KiPkvTkQ5L14/eO95urjvYnY471XxuO9VbTjvYSi473ikOO9bH/jvSJu470IXeO9GkzjvVg7473CKuO9VRrjvRMK470B+uK9EOrivVLa4r21yuK9RLvivfur4r3bnOK93o3ivQ5/4r1icOK92mHivXtT4r1AReK9KTfivTop4r1sG+K9xg3ivTwA4r3b8uG9muXhvYLY4b2Gy+G9rr7hvfex4b1hpeG965jhvZWM4b1ggOG9S3ThvVdo4b2AXOG9yVDhvS5F4b20OeG9Wy7hvRsj4b33F+G99AzhvQkC4b0/9+C9juzgvfnh4L2C1+C9I83gveTC4L27uOC9rq7gvbqk4L3jmuC9JZHgvXuH4L3yfeC9f3TgvSRr4L3eYeC9sFjgvaRP4L2lRuC9vj3gvfU04L1BLOC9oSPgvRsb4L2lEuC9SQrgvQUC4L3T+d+9tvHfvbLp372+4d+94NnfvRjS371kyt+9wcLfvTi7372/s9+9WKzfvQql373Jnd+9mpbfvYOP3716iN+9hoHfvaR6373Sc9+9Fm3fvWdm373OX9+9QlnfvctS371dTN+9BUbfvcI/372JOd+9YTPfvUot371FJ9+9TiHfvWMb372OFd+9ww/fvQkK371gBN+9wv7evTT53r208969Ru7eveHo3r2O4969SN7evQzZ3r3h0969xM7evbDJ3r2vxN69tr/evdC63r3ztd69ILHevV6s3r2np969+KLevVye3r3Nmd69\",\"dtype\":\"float32\",\"order\":\"little\",\"shape\":[600]}},\"selected\":{\"id\":\"2023\"},\"selection_policy\":{\"id\":\"2022\"}},\"id\":\"2008\",\"type\":\"ColumnDataSource\"},{\"attributes\":{},\"id\":\"2023\",\"type\":\"Selection\"},{\"attributes\":{\"tools\":[{\"id\":\"1994\"},{\"id\":\"1995\"},{\"id\":\"1996\"},{\"id\":\"1997\"},{\"id\":\"1998\"},{\"id\":\"1999\"}]},\"id\":\"2001\",\"type\":\"Toolbar\"},{\"attributes\":{},\"id\":\"2021\",\"type\":\"AllLabels\"}],\"root_ids\":[\"1977\"]},\"title\":\"Bokeh Application\",\"version\":\"2.4.3\"}};\n",
       "  const render_items = [{\"docid\":\"38a4c973-f761-4be5-bd3b-7031c4baeac9\",\"root_ids\":[\"1977\"],\"roots\":{\"1977\":\"13243bbb-ea1f-4112-b0b6-a7e74602220f\"}}];\n",
       "  root.Bokeh.embed.embed_items_notebook(docs_json, render_items);\n",
       "  }\n",
       "  if (root.Bokeh !== undefined) {\n",
       "    embed_document(root);\n",
       "  } else {\n",
       "    let attempts = 0;\n",
       "    const timer = setInterval(function(root) {\n",
       "      if (root.Bokeh !== undefined) {\n",
       "        clearInterval(timer);\n",
       "        embed_document(root);\n",
       "      } else {\n",
       "        attempts++;\n",
       "        if (attempts > 100) {\n",
       "          clearInterval(timer);\n",
       "          console.log(\"Bokeh: ERROR: Unable to run BokehJS code because BokehJS library is missing\");\n",
       "        }\n",
       "      }\n",
       "    }, 10, root)\n",
       "  }\n",
       "})(window);"
      ],
      "application/vnd.bokehjs_exec.v0+json": ""
     },
     "metadata": {
      "application/vnd.bokehjs_exec.v0+json": {
       "id": "1977"
      }
     },
     "output_type": "display_data"
    }
   ],
   "source": [
    "results_dict[\"baseline_iRR\"] = baseline_reward_rate\n",
    "results_dict[\"control_iRR\"] = control_reward_rate\n",
    "losses = (baseline_reward_rate, control_reward_rate)\n",
    "colors = (Category10[10][0], Category10[10][1])\n",
    "legends = (\"Baseline iRR\", \"Control iRR\")\n",
    "alphas = (1, 1)\n",
    "\n",
    "s = plot_lines(iters, losses, legends, alphas, colors)\n",
    "show(s)"
   ]
  },
  {
   "cell_type": "code",
   "execution_count": 33,
   "metadata": {},
   "outputs": [
    {
     "data": {
      "text/html": [
       "\n",
       "  <div class=\"bk-root\" id=\"075384e3-c499-44fc-9206-11c52fcab7d5\" data-root-id=\"2195\"></div>\n"
      ]
     },
     "metadata": {},
     "output_type": "display_data"
    },
    {
     "data": {
      "application/javascript": [
       "(function(root) {\n",
       "  function embed_document(root) {\n",
       "  const docs_json = {\"dc4f2bcd-c7ae-44ac-bc40-91474631f7b1\":{\"defs\":[],\"roots\":{\"references\":[{\"attributes\":{\"below\":[{\"id\":\"2204\"}],\"center\":[{\"id\":\"2207\"},{\"id\":\"2211\"},{\"id\":\"2243\"}],\"height\":500,\"left\":[{\"id\":\"2208\"}],\"renderers\":[{\"id\":\"2230\"}],\"title\":{\"id\":\"2232\"},\"toolbar\":{\"id\":\"2219\"},\"width\":800,\"x_range\":{\"id\":\"2196\"},\"x_scale\":{\"id\":\"2200\"},\"y_range\":{\"id\":\"2198\"},\"y_scale\":{\"id\":\"2202\"}},\"id\":\"2195\",\"subtype\":\"Figure\",\"type\":\"Plot\"},{\"attributes\":{\"overlay\":{\"id\":\"2218\"}},\"id\":\"2214\",\"type\":\"BoxZoomTool\"},{\"attributes\":{\"label\":{\"value\":\"net diff iRR\"},\"renderers\":[{\"id\":\"2230\"}]},\"id\":\"2244\",\"type\":\"LegendItem\"},{\"attributes\":{},\"id\":\"2215\",\"type\":\"SaveTool\"},{\"attributes\":{},\"id\":\"2216\",\"type\":\"ResetTool\"},{\"attributes\":{},\"id\":\"2217\",\"type\":\"HelpTool\"},{\"attributes\":{},\"id\":\"2235\",\"type\":\"BasicTickFormatter\"},{\"attributes\":{},\"id\":\"2209\",\"type\":\"BasicTicker\"},{\"attributes\":{},\"id\":\"2212\",\"type\":\"PanTool\"},{\"attributes\":{\"axis_label\":\"Loss\",\"coordinates\":null,\"formatter\":{\"id\":\"2235\"},\"group\":null,\"major_label_policy\":{\"id\":\"2236\"},\"ticker\":{\"id\":\"2209\"}},\"id\":\"2208\",\"type\":\"LinearAxis\"},{\"attributes\":{},\"id\":\"2236\",\"type\":\"AllLabels\"},{\"attributes\":{\"axis\":{\"id\":\"2208\"},\"coordinates\":null,\"dimension\":1,\"group\":null,\"ticker\":null},\"id\":\"2211\",\"type\":\"Grid\"},{\"attributes\":{},\"id\":\"2238\",\"type\":\"BasicTickFormatter\"},{\"attributes\":{\"axis\":{\"id\":\"2204\"},\"coordinates\":null,\"group\":null,\"ticker\":null},\"id\":\"2207\",\"type\":\"Grid\"},{\"attributes\":{},\"id\":\"2213\",\"type\":\"WheelZoomTool\"},{\"attributes\":{},\"id\":\"2205\",\"type\":\"BasicTicker\"},{\"attributes\":{},\"id\":\"2239\",\"type\":\"AllLabels\"},{\"attributes\":{\"data\":{\"x\":[0,1,2,3,4,5,6,7,8,9,10,11,12,13,14,15,16,17,18,19,20,21,22,23,24,25,26,27,28,29,30,31,32,33,34,35,36,37,38,39,40,41,42,43,44,45,46,47,48,49,50,51,52,53,54,55,56,57,58,59,60,61,62,63,64,65,66,67,68,69,70,71,72,73,74,75,76,77,78,79,80,81,82,83,84,85,86,87,88,89,90,91,92,93,94,95,96,97,98,99,100,101,102,103,104,105,106,107,108,109,110,111,112,113,114,115,116,117,118,119,120,121,122,123,124,125,126,127,128,129,130,131,132,133,134,135,136,137,138,139,140,141,142,143,144,145,146,147,148,149,150,151,152,153,154,155,156,157,158,159,160,161,162,163,164,165,166,167,168,169,170,171,172,173,174,175,176,177,178,179,180,181,182,183,184,185,186,187,188,189,190,191,192,193,194,195,196,197,198,199,200,201,202,203,204,205,206,207,208,209,210,211,212,213,214,215,216,217,218,219,220,221,222,223,224,225,226,227,228,229,230,231,232,233,234,235,236,237,238,239,240,241,242,243,244,245,246,247,248,249,250,251,252,253,254,255,256,257,258,259,260,261,262,263,264,265,266,267,268,269,270,271,272,273,274,275,276,277,278,279,280,281,282,283,284,285,286,287,288,289,290,291,292,293,294,295,296,297,298,299,300,301,302,303,304,305,306,307,308,309,310,311,312,313,314,315,316,317,318,319,320,321,322,323,324,325,326,327,328,329,330,331,332,333,334,335,336,337,338,339,340,341,342,343,344,345,346,347,348,349,350,351,352,353,354,355,356,357,358,359,360,361,362,363,364,365,366,367,368,369,370,371,372,373,374,375,376,377,378,379,380,381,382,383,384,385,386,387,388,389,390,391,392,393,394,395,396,397,398,399,400,401,402,403,404,405,406,407,408,409,410,411,412,413,414,415,416,417,418,419,420,421,422,423,424,425,426,427,428,429,430,431,432,433,434,435,436,437,438,439,440,441,442,443,444,445,446,447,448,449,450,451,452,453,454,455,456,457,458,459,460,461,462,463,464,465,466,467,468,469,470,471,472,473,474,475,476,477,478,479,480,481,482,483,484,485,486,487,488,489,490,491,492,493,494,495,496,497,498,499,500,501,502,503,504,505,506,507,508,509,510,511,512,513,514,515,516,517,518,519,520,521,522,523,524,525,526,527,528,529,530,531,532,533,534,535,536,537,538,539,540,541,542,543,544,545,546,547,548,549,550,551,552,553,554,555,556,557,558,559,560,561,562,563,564,565,566,567,568,569,570,571,572,573,574,575,576,577,578,579,580,581,582,583,584,585,586,587,588,589,590,591,592,593,594,595,596,597,598,599],\"y\":{\"__ndarray__\":\"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\",\"dtype\":\"float32\",\"order\":\"little\",\"shape\":[600]}},\"selected\":{\"id\":\"2241\"},\"selection_policy\":{\"id\":\"2240\"}},\"id\":\"2226\",\"type\":\"ColumnDataSource\"},{\"attributes\":{\"line_color\":\"#1f77b4\",\"line_width\":3,\"x\":{\"field\":\"x\"},\"y\":{\"field\":\"y\"}},\"id\":\"2227\",\"type\":\"Line\"},{\"attributes\":{\"coordinates\":null,\"group\":null},\"id\":\"2232\",\"type\":\"Title\"},{\"attributes\":{},\"id\":\"2196\",\"type\":\"DataRange1d\"},{\"attributes\":{\"coordinates\":null,\"group\":null,\"items\":[{\"id\":\"2244\"}]},\"id\":\"2243\",\"type\":\"Legend\"},{\"attributes\":{},\"id\":\"2202\",\"type\":\"LinearScale\"},{\"attributes\":{\"coordinates\":null,\"data_source\":{\"id\":\"2226\"},\"glyph\":{\"id\":\"2227\"},\"group\":null,\"hover_glyph\":null,\"muted_glyph\":{\"id\":\"2229\"},\"nonselection_glyph\":{\"id\":\"2228\"},\"view\":{\"id\":\"2231\"}},\"id\":\"2230\",\"type\":\"GlyphRenderer\"},{\"attributes\":{\"bottom_units\":\"screen\",\"coordinates\":null,\"fill_alpha\":0.5,\"fill_color\":\"lightgrey\",\"group\":null,\"left_units\":\"screen\",\"level\":\"overlay\",\"line_alpha\":1.0,\"line_color\":\"black\",\"line_dash\":[4,4],\"line_width\":2,\"right_units\":\"screen\",\"syncable\":false,\"top_units\":\"screen\"},\"id\":\"2218\",\"type\":\"BoxAnnotation\"},{\"attributes\":{\"line_alpha\":0.1,\"line_color\":\"#1f77b4\",\"line_width\":3,\"x\":{\"field\":\"x\"},\"y\":{\"field\":\"y\"}},\"id\":\"2228\",\"type\":\"Line\"},{\"attributes\":{},\"id\":\"2240\",\"type\":\"UnionRenderers\"},{\"attributes\":{\"axis_label\":\"iters\",\"coordinates\":null,\"formatter\":{\"id\":\"2238\"},\"group\":null,\"major_label_policy\":{\"id\":\"2239\"},\"ticker\":{\"id\":\"2205\"}},\"id\":\"2204\",\"type\":\"LinearAxis\"},{\"attributes\":{},\"id\":\"2200\",\"type\":\"LinearScale\"},{\"attributes\":{},\"id\":\"2241\",\"type\":\"Selection\"},{\"attributes\":{},\"id\":\"2198\",\"type\":\"DataRange1d\"},{\"attributes\":{\"source\":{\"id\":\"2226\"}},\"id\":\"2231\",\"type\":\"CDSView\"},{\"attributes\":{\"line_alpha\":0.2,\"line_color\":\"#1f77b4\",\"line_width\":3,\"x\":{\"field\":\"x\"},\"y\":{\"field\":\"y\"}},\"id\":\"2229\",\"type\":\"Line\"},{\"attributes\":{\"tools\":[{\"id\":\"2212\"},{\"id\":\"2213\"},{\"id\":\"2214\"},{\"id\":\"2215\"},{\"id\":\"2216\"},{\"id\":\"2217\"}]},\"id\":\"2219\",\"type\":\"Toolbar\"}],\"root_ids\":[\"2195\"]},\"title\":\"Bokeh Application\",\"version\":\"2.4.3\"}};\n",
       "  const render_items = [{\"docid\":\"dc4f2bcd-c7ae-44ac-bc40-91474631f7b1\",\"root_ids\":[\"2195\"],\"roots\":{\"2195\":\"075384e3-c499-44fc-9206-11c52fcab7d5\"}}];\n",
       "  root.Bokeh.embed.embed_items_notebook(docs_json, render_items);\n",
       "  }\n",
       "  if (root.Bokeh !== undefined) {\n",
       "    embed_document(root);\n",
       "  } else {\n",
       "    let attempts = 0;\n",
       "    const timer = setInterval(function(root) {\n",
       "      if (root.Bokeh !== undefined) {\n",
       "        clearInterval(timer);\n",
       "        embed_document(root);\n",
       "      } else {\n",
       "        attempts++;\n",
       "        if (attempts > 100) {\n",
       "          clearInterval(timer);\n",
       "          console.log(\"Bokeh: ERROR: Unable to run BokehJS code because BokehJS library is missing\");\n",
       "        }\n",
       "      }\n",
       "    }, 10, root)\n",
       "  }\n",
       "})(window);"
      ],
      "application/vnd.bokehjs_exec.v0+json": ""
     },
     "metadata": {
      "application/vnd.bokehjs_exec.v0+json": {
       "id": "2195"
      }
     },
     "output_type": "display_data"
    }
   ],
   "source": [
    "losses = (control_reward_rate - baseline_reward_rate,)\n",
    "colors = (Category10[10][0],)\n",
    "legends = (\"net diff iRR\",)\n",
    "alphas = (1,)\n",
    "\n",
    "s = plot_lines(iters, losses, legends, alphas, colors)\n",
    "show(s)"
   ]
  },
  {
   "cell_type": "code",
   "execution_count": 34,
   "metadata": {
    "ExecuteTime": {
     "end_time": "2022-10-18T16:37:16.876743Z",
     "start_time": "2022-10-18T16:37:16.874178Z"
    }
   },
   "outputs": [
    {
     "data": {
      "text/plain": [
       "dict_keys(['iters', 'Loss_t_sim', 'weights_sim', 'weights_iters_sim', 'time_span', 'W_t_eq', 'Loss_t_eq', 'W_t_control_init', 'Loss_t_control_init', 'control_signal_init', 'cumulated_reward_opt', 'W_t_control_opt', 'Loss_t_control_opt', 'control_signal', 'Loss_t_sim_OPT', 'weights_sim_OPT', 'weights_iters_sim_OPT', 'iters_OPT', 'baseline_iRR', 'control_iRR'])"
      ]
     },
     "execution_count": 34,
     "metadata": {},
     "output_type": "execute_result"
    }
   ],
   "source": [
    "results_dict.keys()"
   ]
  },
  {
   "cell_type": "code",
   "execution_count": 35,
   "metadata": {
    "ExecuteTime": {
     "end_time": "2022-10-18T16:37:16.880110Z",
     "start_time": "2022-10-18T16:37:16.877818Z"
    }
   },
   "outputs": [],
   "source": [
    "params_dict = {\"dataset_params\": dataset_params,\n",
    "               \"model_params\": model_params,\n",
    "               \"equation_params\": equation_params,\n",
    "               \"control_params\": control_params,\n",
    "               \"reset_params\": reset_model_params}"
   ]
  },
  {
   "cell_type": "code",
   "execution_count": 36,
   "metadata": {
    "ExecuteTime": {
     "end_time": "2022-10-18T16:37:16.883114Z",
     "start_time": "2022-10-18T16:37:16.881109Z"
    }
   },
   "outputs": [],
   "source": [
    "import os\n",
    "time_str = get_date_time()\n",
    "saving_path = os.path.join(results_path, run_name+\"_\"+time_str)"
   ]
  },
  {
   "cell_type": "code",
   "execution_count": 37,
   "metadata": {
    "ExecuteTime": {
     "end_time": "2022-10-18T16:37:16.897322Z",
     "start_time": "2022-10-18T16:37:16.884072Z"
    }
   },
   "outputs": [],
   "source": [
    "save_var(results_dict, \"results.pkl\", results_path=saving_path)\n",
    "save_var(params_dict, \"params.pkl\", results_path=saving_path)"
   ]
  },
  {
   "cell_type": "code",
   "execution_count": 37,
   "metadata": {
    "ExecuteTime": {
     "end_time": "2022-10-18T16:37:16.900601Z",
     "start_time": "2022-10-18T16:37:16.898231Z"
    }
   },
   "outputs": [],
   "source": [
    "# save_var(params_dict, \"params.pkl\", results_path=saving_path)"
   ]
  },
  {
   "cell_type": "code",
   "execution_count": null,
   "metadata": {},
   "outputs": [],
   "source": []
  }
 ],
 "metadata": {
  "kernelspec": {
   "display_name": "Python 3 (ipykernel)",
   "language": "python",
   "name": "python3"
  },
  "language_info": {
   "codemirror_mode": {
    "name": "ipython",
    "version": 3
   },
   "file_extension": ".py",
   "mimetype": "text/x-python",
   "name": "python",
   "nbconvert_exporter": "python",
   "pygments_lexer": "ipython3",
   "version": "3.10.8"
  }
 },
 "nbformat": 4,
 "nbformat_minor": 4
}
