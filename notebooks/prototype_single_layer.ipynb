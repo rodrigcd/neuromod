{
 "cells": [
  {
   "cell_type": "code",
   "execution_count": 1,
   "metadata": {
    "ExecuteTime": {
     "end_time": "2022-10-18T16:34:20.905225Z",
     "start_time": "2022-10-18T16:34:20.586654Z"
    }
   },
   "outputs": [
    {
     "data": {
      "text/html": [
       "<style>.container { width:100% !important; }</style>"
      ],
      "text/plain": [
       "<IPython.core.display.HTML object>"
      ]
     },
     "metadata": {},
     "output_type": "display_data"
    },
    {
     "data": {
      "text/html": [
       "<div class=\"bk-root\">\n",
       "        <a href=\"https://bokeh.org\" target=\"_blank\" class=\"bk-logo bk-logo-small bk-logo-notebook\"></a>\n",
       "        <span id=\"1002\">Loading BokehJS ...</span>\n",
       "    </div>\n"
      ]
     },
     "metadata": {},
     "output_type": "display_data"
    },
    {
     "data": {
      "application/javascript": [
       "(function(root) {\n",
       "  function now() {\n",
       "    return new Date();\n",
       "  }\n",
       "\n",
       "  const force = true;\n",
       "\n",
       "  if (typeof root._bokeh_onload_callbacks === \"undefined\" || force === true) {\n",
       "    root._bokeh_onload_callbacks = [];\n",
       "    root._bokeh_is_loading = undefined;\n",
       "  }\n",
       "\n",
       "const JS_MIME_TYPE = 'application/javascript';\n",
       "  const HTML_MIME_TYPE = 'text/html';\n",
       "  const EXEC_MIME_TYPE = 'application/vnd.bokehjs_exec.v0+json';\n",
       "  const CLASS_NAME = 'output_bokeh rendered_html';\n",
       "\n",
       "  /**\n",
       "   * Render data to the DOM node\n",
       "   */\n",
       "  function render(props, node) {\n",
       "    const script = document.createElement(\"script\");\n",
       "    node.appendChild(script);\n",
       "  }\n",
       "\n",
       "  /**\n",
       "   * Handle when an output is cleared or removed\n",
       "   */\n",
       "  function handleClearOutput(event, handle) {\n",
       "    const cell = handle.cell;\n",
       "\n",
       "    const id = cell.output_area._bokeh_element_id;\n",
       "    const server_id = cell.output_area._bokeh_server_id;\n",
       "    // Clean up Bokeh references\n",
       "    if (id != null && id in Bokeh.index) {\n",
       "      Bokeh.index[id].model.document.clear();\n",
       "      delete Bokeh.index[id];\n",
       "    }\n",
       "\n",
       "    if (server_id !== undefined) {\n",
       "      // Clean up Bokeh references\n",
       "      const cmd_clean = \"from bokeh.io.state import curstate; print(curstate().uuid_to_server['\" + server_id + \"'].get_sessions()[0].document.roots[0]._id)\";\n",
       "      cell.notebook.kernel.execute(cmd_clean, {\n",
       "        iopub: {\n",
       "          output: function(msg) {\n",
       "            const id = msg.content.text.trim();\n",
       "            if (id in Bokeh.index) {\n",
       "              Bokeh.index[id].model.document.clear();\n",
       "              delete Bokeh.index[id];\n",
       "            }\n",
       "          }\n",
       "        }\n",
       "      });\n",
       "      // Destroy server and session\n",
       "      const cmd_destroy = \"import bokeh.io.notebook as ion; ion.destroy_server('\" + server_id + \"')\";\n",
       "      cell.notebook.kernel.execute(cmd_destroy);\n",
       "    }\n",
       "  }\n",
       "\n",
       "  /**\n",
       "   * Handle when a new output is added\n",
       "   */\n",
       "  function handleAddOutput(event, handle) {\n",
       "    const output_area = handle.output_area;\n",
       "    const output = handle.output;\n",
       "\n",
       "    // limit handleAddOutput to display_data with EXEC_MIME_TYPE content only\n",
       "    if ((output.output_type != \"display_data\") || (!Object.prototype.hasOwnProperty.call(output.data, EXEC_MIME_TYPE))) {\n",
       "      return\n",
       "    }\n",
       "\n",
       "    const toinsert = output_area.element.find(\".\" + CLASS_NAME.split(' ')[0]);\n",
       "\n",
       "    if (output.metadata[EXEC_MIME_TYPE][\"id\"] !== undefined) {\n",
       "      toinsert[toinsert.length - 1].firstChild.textContent = output.data[JS_MIME_TYPE];\n",
       "      // store reference to embed id on output_area\n",
       "      output_area._bokeh_element_id = output.metadata[EXEC_MIME_TYPE][\"id\"];\n",
       "    }\n",
       "    if (output.metadata[EXEC_MIME_TYPE][\"server_id\"] !== undefined) {\n",
       "      const bk_div = document.createElement(\"div\");\n",
       "      bk_div.innerHTML = output.data[HTML_MIME_TYPE];\n",
       "      const script_attrs = bk_div.children[0].attributes;\n",
       "      for (let i = 0; i < script_attrs.length; i++) {\n",
       "        toinsert[toinsert.length - 1].firstChild.setAttribute(script_attrs[i].name, script_attrs[i].value);\n",
       "        toinsert[toinsert.length - 1].firstChild.textContent = bk_div.children[0].textContent\n",
       "      }\n",
       "      // store reference to server id on output_area\n",
       "      output_area._bokeh_server_id = output.metadata[EXEC_MIME_TYPE][\"server_id\"];\n",
       "    }\n",
       "  }\n",
       "\n",
       "  function register_renderer(events, OutputArea) {\n",
       "\n",
       "    function append_mime(data, metadata, element) {\n",
       "      // create a DOM node to render to\n",
       "      const toinsert = this.create_output_subarea(\n",
       "        metadata,\n",
       "        CLASS_NAME,\n",
       "        EXEC_MIME_TYPE\n",
       "      );\n",
       "      this.keyboard_manager.register_events(toinsert);\n",
       "      // Render to node\n",
       "      const props = {data: data, metadata: metadata[EXEC_MIME_TYPE]};\n",
       "      render(props, toinsert[toinsert.length - 1]);\n",
       "      element.append(toinsert);\n",
       "      return toinsert\n",
       "    }\n",
       "\n",
       "    /* Handle when an output is cleared or removed */\n",
       "    events.on('clear_output.CodeCell', handleClearOutput);\n",
       "    events.on('delete.Cell', handleClearOutput);\n",
       "\n",
       "    /* Handle when a new output is added */\n",
       "    events.on('output_added.OutputArea', handleAddOutput);\n",
       "\n",
       "    /**\n",
       "     * Register the mime type and append_mime function with output_area\n",
       "     */\n",
       "    OutputArea.prototype.register_mime_type(EXEC_MIME_TYPE, append_mime, {\n",
       "      /* Is output safe? */\n",
       "      safe: true,\n",
       "      /* Index of renderer in `output_area.display_order` */\n",
       "      index: 0\n",
       "    });\n",
       "  }\n",
       "\n",
       "  // register the mime type if in Jupyter Notebook environment and previously unregistered\n",
       "  if (root.Jupyter !== undefined) {\n",
       "    const events = require('base/js/events');\n",
       "    const OutputArea = require('notebook/js/outputarea').OutputArea;\n",
       "\n",
       "    if (OutputArea.prototype.mime_types().indexOf(EXEC_MIME_TYPE) == -1) {\n",
       "      register_renderer(events, OutputArea);\n",
       "    }\n",
       "  }\n",
       "  if (typeof (root._bokeh_timeout) === \"undefined\" || force === true) {\n",
       "    root._bokeh_timeout = Date.now() + 5000;\n",
       "    root._bokeh_failed_load = false;\n",
       "  }\n",
       "\n",
       "  const NB_LOAD_WARNING = {'data': {'text/html':\n",
       "     \"<div style='background-color: #fdd'>\\n\"+\n",
       "     \"<p>\\n\"+\n",
       "     \"BokehJS does not appear to have successfully loaded. If loading BokehJS from CDN, this \\n\"+\n",
       "     \"may be due to a slow or bad network connection. Possible fixes:\\n\"+\n",
       "     \"</p>\\n\"+\n",
       "     \"<ul>\\n\"+\n",
       "     \"<li>re-rerun `output_notebook()` to attempt to load from CDN again, or</li>\\n\"+\n",
       "     \"<li>use INLINE resources instead, as so:</li>\\n\"+\n",
       "     \"</ul>\\n\"+\n",
       "     \"<code>\\n\"+\n",
       "     \"from bokeh.resources import INLINE\\n\"+\n",
       "     \"output_notebook(resources=INLINE)\\n\"+\n",
       "     \"</code>\\n\"+\n",
       "     \"</div>\"}};\n",
       "\n",
       "  function display_loaded() {\n",
       "    const el = document.getElementById(\"1002\");\n",
       "    if (el != null) {\n",
       "      el.textContent = \"BokehJS is loading...\";\n",
       "    }\n",
       "    if (root.Bokeh !== undefined) {\n",
       "      if (el != null) {\n",
       "        el.textContent = \"BokehJS \" + root.Bokeh.version + \" successfully loaded.\";\n",
       "      }\n",
       "    } else if (Date.now() < root._bokeh_timeout) {\n",
       "      setTimeout(display_loaded, 100)\n",
       "    }\n",
       "  }\n",
       "\n",
       "  function run_callbacks() {\n",
       "    try {\n",
       "      root._bokeh_onload_callbacks.forEach(function(callback) {\n",
       "        if (callback != null)\n",
       "          callback();\n",
       "      });\n",
       "    } finally {\n",
       "      delete root._bokeh_onload_callbacks\n",
       "    }\n",
       "    console.debug(\"Bokeh: all callbacks have finished\");\n",
       "  }\n",
       "\n",
       "  function load_libs(css_urls, js_urls, callback) {\n",
       "    if (css_urls == null) css_urls = [];\n",
       "    if (js_urls == null) js_urls = [];\n",
       "\n",
       "    root._bokeh_onload_callbacks.push(callback);\n",
       "    if (root._bokeh_is_loading > 0) {\n",
       "      console.debug(\"Bokeh: BokehJS is being loaded, scheduling callback at\", now());\n",
       "      return null;\n",
       "    }\n",
       "    if (js_urls == null || js_urls.length === 0) {\n",
       "      run_callbacks();\n",
       "      return null;\n",
       "    }\n",
       "    console.debug(\"Bokeh: BokehJS not loaded, scheduling load and callback at\", now());\n",
       "    root._bokeh_is_loading = css_urls.length + js_urls.length;\n",
       "\n",
       "    function on_load() {\n",
       "      root._bokeh_is_loading--;\n",
       "      if (root._bokeh_is_loading === 0) {\n",
       "        console.debug(\"Bokeh: all BokehJS libraries/stylesheets loaded\");\n",
       "        run_callbacks()\n",
       "      }\n",
       "    }\n",
       "\n",
       "    function on_error(url) {\n",
       "      console.error(\"failed to load \" + url);\n",
       "    }\n",
       "\n",
       "    for (let i = 0; i < css_urls.length; i++) {\n",
       "      const url = css_urls[i];\n",
       "      const element = document.createElement(\"link\");\n",
       "      element.onload = on_load;\n",
       "      element.onerror = on_error.bind(null, url);\n",
       "      element.rel = \"stylesheet\";\n",
       "      element.type = \"text/css\";\n",
       "      element.href = url;\n",
       "      console.debug(\"Bokeh: injecting link tag for BokehJS stylesheet: \", url);\n",
       "      document.body.appendChild(element);\n",
       "    }\n",
       "\n",
       "    for (let i = 0; i < js_urls.length; i++) {\n",
       "      const url = js_urls[i];\n",
       "      const element = document.createElement('script');\n",
       "      element.onload = on_load;\n",
       "      element.onerror = on_error.bind(null, url);\n",
       "      element.async = false;\n",
       "      element.src = url;\n",
       "      console.debug(\"Bokeh: injecting script tag for BokehJS library: \", url);\n",
       "      document.head.appendChild(element);\n",
       "    }\n",
       "  };\n",
       "\n",
       "  function inject_raw_css(css) {\n",
       "    const element = document.createElement(\"style\");\n",
       "    element.appendChild(document.createTextNode(css));\n",
       "    document.body.appendChild(element);\n",
       "  }\n",
       "\n",
       "  const js_urls = [\"https://cdn.bokeh.org/bokeh/release/bokeh-2.4.3.min.js\", \"https://cdn.bokeh.org/bokeh/release/bokeh-gl-2.4.3.min.js\", \"https://cdn.bokeh.org/bokeh/release/bokeh-widgets-2.4.3.min.js\", \"https://cdn.bokeh.org/bokeh/release/bokeh-tables-2.4.3.min.js\", \"https://cdn.bokeh.org/bokeh/release/bokeh-mathjax-2.4.3.min.js\"];\n",
       "  const css_urls = [];\n",
       "\n",
       "  const inline_js = [    function(Bokeh) {\n",
       "      Bokeh.set_log_level(\"info\");\n",
       "    },\n",
       "function(Bokeh) {\n",
       "    }\n",
       "  ];\n",
       "\n",
       "  function run_inline_js() {\n",
       "    if (root.Bokeh !== undefined || force === true) {\n",
       "          for (let i = 0; i < inline_js.length; i++) {\n",
       "      inline_js[i].call(root, root.Bokeh);\n",
       "    }\n",
       "if (force === true) {\n",
       "        display_loaded();\n",
       "      }} else if (Date.now() < root._bokeh_timeout) {\n",
       "      setTimeout(run_inline_js, 100);\n",
       "    } else if (!root._bokeh_failed_load) {\n",
       "      console.log(\"Bokeh: BokehJS failed to load within specified timeout.\");\n",
       "      root._bokeh_failed_load = true;\n",
       "    } else if (force !== true) {\n",
       "      const cell = $(document.getElementById(\"1002\")).parents('.cell').data().cell;\n",
       "      cell.output_area.append_execute_result(NB_LOAD_WARNING)\n",
       "    }\n",
       "  }\n",
       "\n",
       "  if (root._bokeh_is_loading === 0) {\n",
       "    console.debug(\"Bokeh: BokehJS loaded, going straight to plotting\");\n",
       "    run_inline_js();\n",
       "  } else {\n",
       "    load_libs(css_urls, js_urls, function() {\n",
       "      console.debug(\"Bokeh: BokehJS plotting callback run at\", now());\n",
       "      run_inline_js();\n",
       "    });\n",
       "  }\n",
       "}(window));"
      ],
      "application/vnd.bokehjs_load.v0+json": "(function(root) {\n  function now() {\n    return new Date();\n  }\n\n  const force = true;\n\n  if (typeof root._bokeh_onload_callbacks === \"undefined\" || force === true) {\n    root._bokeh_onload_callbacks = [];\n    root._bokeh_is_loading = undefined;\n  }\n\n\n  if (typeof (root._bokeh_timeout) === \"undefined\" || force === true) {\n    root._bokeh_timeout = Date.now() + 5000;\n    root._bokeh_failed_load = false;\n  }\n\n  const NB_LOAD_WARNING = {'data': {'text/html':\n     \"<div style='background-color: #fdd'>\\n\"+\n     \"<p>\\n\"+\n     \"BokehJS does not appear to have successfully loaded. If loading BokehJS from CDN, this \\n\"+\n     \"may be due to a slow or bad network connection. Possible fixes:\\n\"+\n     \"</p>\\n\"+\n     \"<ul>\\n\"+\n     \"<li>re-rerun `output_notebook()` to attempt to load from CDN again, or</li>\\n\"+\n     \"<li>use INLINE resources instead, as so:</li>\\n\"+\n     \"</ul>\\n\"+\n     \"<code>\\n\"+\n     \"from bokeh.resources import INLINE\\n\"+\n     \"output_notebook(resources=INLINE)\\n\"+\n     \"</code>\\n\"+\n     \"</div>\"}};\n\n  function display_loaded() {\n    const el = document.getElementById(\"1002\");\n    if (el != null) {\n      el.textContent = \"BokehJS is loading...\";\n    }\n    if (root.Bokeh !== undefined) {\n      if (el != null) {\n        el.textContent = \"BokehJS \" + root.Bokeh.version + \" successfully loaded.\";\n      }\n    } else if (Date.now() < root._bokeh_timeout) {\n      setTimeout(display_loaded, 100)\n    }\n  }\n\n  function run_callbacks() {\n    try {\n      root._bokeh_onload_callbacks.forEach(function(callback) {\n        if (callback != null)\n          callback();\n      });\n    } finally {\n      delete root._bokeh_onload_callbacks\n    }\n    console.debug(\"Bokeh: all callbacks have finished\");\n  }\n\n  function load_libs(css_urls, js_urls, callback) {\n    if (css_urls == null) css_urls = [];\n    if (js_urls == null) js_urls = [];\n\n    root._bokeh_onload_callbacks.push(callback);\n    if (root._bokeh_is_loading > 0) {\n      console.debug(\"Bokeh: BokehJS is being loaded, scheduling callback at\", now());\n      return null;\n    }\n    if (js_urls == null || js_urls.length === 0) {\n      run_callbacks();\n      return null;\n    }\n    console.debug(\"Bokeh: BokehJS not loaded, scheduling load and callback at\", now());\n    root._bokeh_is_loading = css_urls.length + js_urls.length;\n\n    function on_load() {\n      root._bokeh_is_loading--;\n      if (root._bokeh_is_loading === 0) {\n        console.debug(\"Bokeh: all BokehJS libraries/stylesheets loaded\");\n        run_callbacks()\n      }\n    }\n\n    function on_error(url) {\n      console.error(\"failed to load \" + url);\n    }\n\n    for (let i = 0; i < css_urls.length; i++) {\n      const url = css_urls[i];\n      const element = document.createElement(\"link\");\n      element.onload = on_load;\n      element.onerror = on_error.bind(null, url);\n      element.rel = \"stylesheet\";\n      element.type = \"text/css\";\n      element.href = url;\n      console.debug(\"Bokeh: injecting link tag for BokehJS stylesheet: \", url);\n      document.body.appendChild(element);\n    }\n\n    for (let i = 0; i < js_urls.length; i++) {\n      const url = js_urls[i];\n      const element = document.createElement('script');\n      element.onload = on_load;\n      element.onerror = on_error.bind(null, url);\n      element.async = false;\n      element.src = url;\n      console.debug(\"Bokeh: injecting script tag for BokehJS library: \", url);\n      document.head.appendChild(element);\n    }\n  };\n\n  function inject_raw_css(css) {\n    const element = document.createElement(\"style\");\n    element.appendChild(document.createTextNode(css));\n    document.body.appendChild(element);\n  }\n\n  const js_urls = [\"https://cdn.bokeh.org/bokeh/release/bokeh-2.4.3.min.js\", \"https://cdn.bokeh.org/bokeh/release/bokeh-gl-2.4.3.min.js\", \"https://cdn.bokeh.org/bokeh/release/bokeh-widgets-2.4.3.min.js\", \"https://cdn.bokeh.org/bokeh/release/bokeh-tables-2.4.3.min.js\", \"https://cdn.bokeh.org/bokeh/release/bokeh-mathjax-2.4.3.min.js\"];\n  const css_urls = [];\n\n  const inline_js = [    function(Bokeh) {\n      Bokeh.set_log_level(\"info\");\n    },\nfunction(Bokeh) {\n    }\n  ];\n\n  function run_inline_js() {\n    if (root.Bokeh !== undefined || force === true) {\n          for (let i = 0; i < inline_js.length; i++) {\n      inline_js[i].call(root, root.Bokeh);\n    }\nif (force === true) {\n        display_loaded();\n      }} else if (Date.now() < root._bokeh_timeout) {\n      setTimeout(run_inline_js, 100);\n    } else if (!root._bokeh_failed_load) {\n      console.log(\"Bokeh: BokehJS failed to load within specified timeout.\");\n      root._bokeh_failed_load = true;\n    } else if (force !== true) {\n      const cell = $(document.getElementById(\"1002\")).parents('.cell').data().cell;\n      cell.output_area.append_execute_result(NB_LOAD_WARNING)\n    }\n  }\n\n  if (root._bokeh_is_loading === 0) {\n    console.debug(\"Bokeh: BokehJS loaded, going straight to plotting\");\n    run_inline_js();\n  } else {\n    load_libs(css_urls, js_urls, function() {\n      console.debug(\"Bokeh: BokehJS plotting callback run at\", now());\n      run_inline_js();\n    });\n  }\n}(window));"
     },
     "metadata": {},
     "output_type": "display_data"
    }
   ],
   "source": [
    "from IPython.display import display, HTML\n",
    "display(HTML(\"<style>.container { width:100% !important; }</style>\"))\n",
    "\n",
    "import numpy as np\n",
    "from tqdm import tqdm\n",
    "\n",
    "from bokeh.plotting import figure, show, output_file, save\n",
    "from bokeh.layouts import gridplot\n",
    "from bokeh.io import output_notebook\n",
    "from bokeh.palettes import Viridis, Category10, Category20\n",
    "from bokeh.io import export_svg\n",
    "output_notebook()"
   ]
  },
  {
   "cell_type": "code",
   "execution_count": 2,
   "metadata": {
    "ExecuteTime": {
     "end_time": "2022-10-18T16:34:22.192897Z",
     "start_time": "2022-10-18T16:34:21.557216Z"
    }
   },
   "outputs": [],
   "source": [
    "from metamod.control import SingleLayerEq, SingleLayerControl\n",
    "from metamod.tasks import AffineCorrelatedGaussian, TwoGaussians\n",
    "from metamod.trainers import single_layer_training\n",
    "from metamod.networks import SingleLayerNet\n",
    "from metamod.utils import plot_lines, plot_weight_ev, check_dir, save_var, get_date_time"
   ]
  },
  {
   "cell_type": "code",
   "execution_count": 3,
   "metadata": {
    "ExecuteTime": {
     "end_time": "2022-10-18T16:34:22.708796Z",
     "start_time": "2022-10-18T16:34:22.701753Z"
    }
   },
   "outputs": [],
   "source": [
    "# run_name = \"testing_square_loss_single_neuron\"\n",
    "# results_path = \"../results\"\n",
    "\n",
    "run_name = \"single_neuron_cost0\"\n",
    "results_path = \"../results\""
   ]
  },
  {
   "cell_type": "code",
   "execution_count": 4,
   "metadata": {
    "ExecuteTime": {
     "end_time": "2022-10-18T16:34:23.143985Z",
     "start_time": "2022-10-18T16:34:23.141670Z"
    }
   },
   "outputs": [],
   "source": [
    "results_dict = {}"
   ]
  },
  {
   "cell_type": "code",
   "execution_count": 5,
   "metadata": {
    "ExecuteTime": {
     "end_time": "2022-10-18T16:34:23.343309Z",
     "start_time": "2022-10-18T16:34:23.341049Z"
    }
   },
   "outputs": [],
   "source": [
    "#dataset_params = {\"mu_vec\": (3.0, 1.0), \n",
    "#                  \"batch_size\": 256, \n",
    "#                  \"dependence_parameter\": 0.8, \n",
    "#                  \"sigma_vec\":(1.0, 1.0)}\n",
    "\n",
    "#dataset = AffineCorrelatedGaussian(**dataset_params)\n",
    "\n",
    "dataset_params = {\"mu\": 2.0, \n",
    "                  \"batch_size\": 128, \n",
    "                  \"std\": 1.0}\n",
    "dataset = TwoGaussians(**dataset_params)"
   ]
  },
  {
   "cell_type": "code",
   "execution_count": 6,
   "metadata": {
    "ExecuteTime": {
     "end_time": "2022-10-18T16:34:25.903442Z",
     "start_time": "2022-10-18T16:34:23.512686Z"
    }
   },
   "outputs": [],
   "source": [
    "model_params = {\"learning_rate\": 1e-3,\n",
    "                \"reg_coef\": 0.1,\n",
    "                \"intrinsic_noise\": 0.0,\n",
    "                \"input_dim\": dataset.input_dim,\n",
    "                \"output_dim\": dataset.output_dim,\n",
    "                \"W_0\": np.zeros((1, 1))}\n",
    "\n",
    "model = SingleLayerNet(**model_params)"
   ]
  },
  {
   "cell_type": "code",
   "execution_count": 7,
   "metadata": {
    "ExecuteTime": {
     "end_time": "2022-10-18T16:34:29.153628Z",
     "start_time": "2022-10-18T16:34:25.904517Z"
    }
   },
   "outputs": [
    {
     "name": "stderr",
     "output_type": "stream",
     "text": [
      "100%|███████████████████████████████████████████████████████████████████████████████████████████████████████████████████████████████████████████████████████████████████████████| 600/600 [00:00<00:00, 655.87it/s]\n"
     ]
    }
   ],
   "source": [
    "n_steps = 600\n",
    "save_weights_every = 20\n",
    "\n",
    "iters, loss, weights_iter, weights = single_layer_training(model=model, dataset=dataset, n_steps=n_steps, save_weights_every=save_weights_every)\n",
    "\n",
    "results_dict[\"iters\"] = iters\n",
    "results_dict[\"Loss_t_sim\"] = loss\n",
    "results_dict[\"weights_sim\"] = weights\n",
    "results_dict[\"weights_iters_sim\"] = weights_iter"
   ]
  },
  {
   "cell_type": "code",
   "execution_count": 8,
   "metadata": {
    "ExecuteTime": {
     "end_time": "2022-10-18T16:34:29.157446Z",
     "start_time": "2022-10-18T16:34:29.154803Z"
    }
   },
   "outputs": [
    {
     "data": {
      "text/plain": [
       "(30, 1, 1)"
      ]
     },
     "execution_count": 8,
     "metadata": {},
     "output_type": "execute_result"
    }
   ],
   "source": [
    "weights.shape"
   ]
  },
  {
   "cell_type": "code",
   "execution_count": 9,
   "metadata": {
    "ExecuteTime": {
     "end_time": "2022-10-18T16:34:29.163851Z",
     "start_time": "2022-10-18T16:34:29.158424Z"
    }
   },
   "outputs": [],
   "source": [
    "init_W = weights[0, ...]\n",
    "\n",
    "init_weights = init_W\n",
    "input_corr, output_corr, input_output_corr, expected_y, expected_x = dataset.get_correlation_matrix()\n",
    "\n",
    "time_span = np.arange(0, len(iters))*model_params[\"learning_rate\"]\n",
    "results_dict[\"time_span\"] = time_span"
   ]
  },
  {
   "cell_type": "code",
   "execution_count": 10,
   "metadata": {},
   "outputs": [
    {
     "data": {
      "text/plain": [
       "(1, 1)"
      ]
     },
     "execution_count": 10,
     "metadata": {},
     "output_type": "execute_result"
    }
   ],
   "source": [
    "init_W.shape"
   ]
  },
  {
   "cell_type": "code",
   "execution_count": 11,
   "metadata": {
    "ExecuteTime": {
     "end_time": "2022-10-18T16:34:29.166717Z",
     "start_time": "2022-10-18T16:34:29.164694Z"
    }
   },
   "outputs": [],
   "source": [
    "equation_params = {\"in_cov\": input_corr,\n",
    "                   \"out_cov\": output_corr,\n",
    "                   \"in_out_cov\": input_output_corr,\n",
    "                   # \"expected_y\": expected_y,\n",
    "                   # \"expected_x\": expected_x,\n",
    "                   \"init_weights\": init_weights,\n",
    "                   \"n_steps\": n_steps,\n",
    "                   \"reg_coef\": model_params[\"reg_coef\"],\n",
    "                   \"intrinsic_noise\": model_params[\"intrinsic_noise\"],\n",
    "                   \"learning_rate\": model_params[\"learning_rate\"],\n",
    "                   \"time_constant\": 1.0}"
   ]
  },
  {
   "cell_type": "code",
   "execution_count": 12,
   "metadata": {
    "ExecuteTime": {
     "end_time": "2022-10-18T16:34:29.169575Z",
     "start_time": "2022-10-18T16:34:29.167556Z"
    }
   },
   "outputs": [],
   "source": [
    "solver = SingleLayerEq(**equation_params)"
   ]
  },
  {
   "cell_type": "code",
   "execution_count": 13,
   "metadata": {
    "ExecuteTime": {
     "end_time": "2022-10-18T16:34:29.172237Z",
     "start_time": "2022-10-18T16:34:29.170353Z"
    }
   },
   "outputs": [],
   "source": [
    "control_params = {**equation_params,\n",
    "                  \"control_lower_bound\": -30,\n",
    "                  \"control_upper_bound\": 30,\n",
    "                  \"gamma\": 0.99,\n",
    "                  \"cost_coef\": 0.0,\n",
    "                  \"reward_convertion\": 1.0,\n",
    "                  \"init_g\": None,\n",
    "                  \"control_lr\": 10.0,\n",
    "                  \"square_control_loss\": True}"
   ]
  },
  {
   "cell_type": "code",
   "execution_count": 14,
   "metadata": {
    "ExecuteTime": {
     "end_time": "2022-10-18T16:34:29.176174Z",
     "start_time": "2022-10-18T16:34:29.173724Z"
    }
   },
   "outputs": [],
   "source": [
    "control = SingleLayerControl(**control_params)"
   ]
  },
  {
   "cell_type": "code",
   "execution_count": 15,
   "metadata": {
    "ExecuteTime": {
     "end_time": "2022-10-18T16:34:29.179835Z",
     "start_time": "2022-10-18T16:34:29.177582Z"
    }
   },
   "outputs": [
    {
     "name": "stdout",
     "output_type": "stream",
     "text": [
      "(30, 1, 1) torch.Size([600, 1, 1])\n"
     ]
    }
   ],
   "source": [
    "sim_weights = weights\n",
    "print(sim_weights.shape, control.g_tilda.shape)"
   ]
  },
  {
   "cell_type": "code",
   "execution_count": 16,
   "metadata": {
    "ExecuteTime": {
     "end_time": "2022-10-18T16:34:29.939356Z",
     "start_time": "2022-10-18T16:34:29.180732Z"
    }
   },
   "outputs": [],
   "source": [
    "W_t= solver.get_weights(time_span, get_numpy=True)\n",
    "Loss_t = solver.get_loss_function(W_t, get_numpy=True)\n",
    "\n",
    "results_dict[\"W_t_eq\"] = W_t\n",
    "results_dict[\"Loss_t_eq\"] = Loss_t"
   ]
  },
  {
   "cell_type": "code",
   "execution_count": 17,
   "metadata": {
    "ExecuteTime": {
     "end_time": "2022-10-18T16:34:31.285075Z",
     "start_time": "2022-10-18T16:34:29.940312Z"
    }
   },
   "outputs": [],
   "source": [
    "W_t_control = control.get_weights(time_span, get_numpy=True)\n",
    "Loss_t_control = control.get_loss_function(W_t_control, get_numpy=True)\n",
    "\n",
    "results_dict[\"W_t_control_init\"] = W_t_control\n",
    "results_dict[\"Loss_t_control_init\"] = Loss_t_control\n",
    "results_dict[\"control_signal_init\"] = control.g_tilda"
   ]
  },
  {
   "cell_type": "code",
   "execution_count": 18,
   "metadata": {
    "ExecuteTime": {
     "end_time": "2022-10-18T16:34:31.364595Z",
     "start_time": "2022-10-18T16:34:31.286237Z"
    }
   },
   "outputs": [
    {
     "data": {
      "text/html": [
       "\n",
       "  <div class=\"bk-root\" id=\"7f9c3213-d8aa-423b-b064-915c9361fa57\" data-root-id=\"1003\"></div>\n"
      ]
     },
     "metadata": {},
     "output_type": "display_data"
    },
    {
     "data": {
      "application/javascript": [
       "(function(root) {\n",
       "  function embed_document(root) {\n",
       "  const docs_json = {\"323b3a78-366c-4d28-b355-baf8f15d226b\":{\"defs\":[],\"roots\":{\"references\":[{\"attributes\":{\"below\":[{\"id\":\"1012\"}],\"center\":[{\"id\":\"1015\"},{\"id\":\"1019\"},{\"id\":\"1051\"}],\"height\":500,\"left\":[{\"id\":\"1016\"}],\"renderers\":[{\"id\":\"1038\"},{\"id\":\"1057\"},{\"id\":\"1077\"}],\"title\":{\"id\":\"1040\"},\"toolbar\":{\"id\":\"1027\"},\"width\":800,\"x_range\":{\"id\":\"1004\"},\"x_scale\":{\"id\":\"1008\"},\"y_range\":{\"id\":\"1006\"},\"y_scale\":{\"id\":\"1010\"}},\"id\":\"1003\",\"subtype\":\"Figure\",\"type\":\"Plot\"},{\"attributes\":{\"coordinates\":null,\"data_source\":{\"id\":\"1053\"},\"glyph\":{\"id\":\"1054\"},\"group\":null,\"hover_glyph\":null,\"muted_glyph\":{\"id\":\"1056\"},\"nonselection_glyph\":{\"id\":\"1055\"},\"view\":{\"id\":\"1058\"}},\"id\":\"1057\",\"type\":\"GlyphRenderer\"},{\"attributes\":{},\"id\":\"1049\",\"type\":\"Selection\"},{\"attributes\":{},\"id\":\"1092\",\"type\":\"Selection\"},{\"attributes\":{\"line_color\":\"#ff7f0e\",\"line_width\":3,\"x\":{\"field\":\"x\"},\"y\":{\"field\":\"y\"}},\"id\":\"1074\",\"type\":\"Line\"},{\"attributes\":{\"data\":{\"x\":[0,1,2,3,4,5,6,7,8,9,10,11,12,13,14,15,16,17,18,19,20,21,22,23,24,25,26,27,28,29,30,31,32,33,34,35,36,37,38,39,40,41,42,43,44,45,46,47,48,49,50,51,52,53,54,55,56,57,58,59,60,61,62,63,64,65,66,67,68,69,70,71,72,73,74,75,76,77,78,79,80,81,82,83,84,85,86,87,88,89,90,91,92,93,94,95,96,97,98,99,100,101,102,103,104,105,106,107,108,109,110,111,112,113,114,115,116,117,118,119,120,121,122,123,124,125,126,127,128,129,130,131,132,133,134,135,136,137,138,139,140,141,142,143,144,145,146,147,148,149,150,151,152,153,154,155,156,157,158,159,160,161,162,163,164,165,166,167,168,169,170,171,172,173,174,175,176,177,178,179,180,181,182,183,184,185,186,187,188,189,190,191,192,193,194,195,196,197,198,199,200,201,202,203,204,205,206,207,208,209,210,211,212,213,214,215,216,217,218,219,220,221,222,223,224,225,226,227,228,229,230,231,232,233,234,235,236,237,238,239,240,241,242,243,244,245,246,247,248,249,250,251,252,253,254,255,256,257,258,259,260,261,262,263,264,265,266,267,268,269,270,271,272,273,274,275,276,277,278,279,280,281,282,283,284,285,286,287,288,289,290,291,292,293,294,295,296,297,298,299,300,301,302,303,304,305,306,307,308,309,310,311,312,313,314,315,316,317,318,319,320,321,322,323,324,325,326,327,328,329,330,331,332,333,334,335,336,337,338,339,340,341,342,343,344,345,346,347,348,349,350,351,352,353,354,355,356,357,358,359,360,361,362,363,364,365,366,367,368,369,370,371,372,373,374,375,376,377,378,379,380,381,382,383,384,385,386,387,388,389,390,391,392,393,394,395,396,397,398,399,400,401,402,403,404,405,406,407,408,409,410,411,412,413,414,415,416,417,418,419,420,421,422,423,424,425,426,427,428,429,430,431,432,433,434,435,436,437,438,439,440,441,442,443,444,445,446,447,448,449,450,451,452,453,454,455,456,457,458,459,460,461,462,463,464,465,466,467,468,469,470,471,472,473,474,475,476,477,478,479,480,481,482,483,484,485,486,487,488,489,490,491,492,493,494,495,496,497,498,499,500,501,502,503,504,505,506,507,508,509,510,511,512,513,514,515,516,517,518,519,520,521,522,523,524,525,526,527,528,529,530,531,532,533,534,535,536,537,538,539,540,541,542,543,544,545,546,547,548,549,550,551,552,553,554,555,556,557,558,559,560,561,562,563,564,565,566,567,568,569,570,571,572,573,574,575,576,577,578,579,580,581,582,583,584,585,586,587,588,589,590,591,592,593,594,595,596,597,598,599],\"y\":{\"__ndarray__\":\"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\",\"dtype\":\"float32\",\"order\":\"little\",\"shape\":[600]}},\"selected\":{\"id\":\"1070\"},\"selection_policy\":{\"id\":\"1069\"}},\"id\":\"1053\",\"type\":\"ColumnDataSource\"},{\"attributes\":{\"data\":{\"x\":[0,1,2,3,4,5,6,7,8,9,10,11,12,13,14,15,16,17,18,19,20,21,22,23,24,25,26,27,28,29,30,31,32,33,34,35,36,37,38,39,40,41,42,43,44,45,46,47,48,49,50,51,52,53,54,55,56,57,58,59,60,61,62,63,64,65,66,67,68,69,70,71,72,73,74,75,76,77,78,79,80,81,82,83,84,85,86,87,88,89,90,91,92,93,94,95,96,97,98,99,100,101,102,103,104,105,106,107,108,109,110,111,112,113,114,115,116,117,118,119,120,121,122,123,124,125,126,127,128,129,130,131,132,133,134,135,136,137,138,139,140,141,142,143,144,145,146,147,148,149,150,151,152,153,154,155,156,157,158,159,160,161,162,163,164,165,166,167,168,169,170,171,172,173,174,175,176,177,178,179,180,181,182,183,184,185,186,187,188,189,190,191,192,193,194,195,196,197,198,199,200,201,202,203,204,205,206,207,208,209,210,211,212,213,214,215,216,217,218,219,220,221,222,223,224,225,226,227,228,229,230,231,232,233,234,235,236,237,238,239,240,241,242,243,244,245,246,247,248,249,250,251,252,253,254,255,256,257,258,259,260,261,262,263,264,265,266,267,268,269,270,271,272,273,274,275,276,277,278,279,280,281,282,283,284,285,286,287,288,289,290,291,292,293,294,295,296,297,298,299,300,301,302,303,304,305,306,307,308,309,310,311,312,313,314,315,316,317,318,319,320,321,322,323,324,325,326,327,328,329,330,331,332,333,334,335,336,337,338,339,340,341,342,343,344,345,346,347,348,349,350,351,352,353,354,355,356,357,358,359,360,361,362,363,364,365,366,367,368,369,370,371,372,373,374,375,376,377,378,379,380,381,382,383,384,385,386,387,388,389,390,391,392,393,394,395,396,397,398,399,400,401,402,403,404,405,406,407,408,409,410,411,412,413,414,415,416,417,418,419,420,421,422,423,424,425,426,427,428,429,430,431,432,433,434,435,436,437,438,439,440,441,442,443,444,445,446,447,448,449,450,451,452,453,454,455,456,457,458,459,460,461,462,463,464,465,466,467,468,469,470,471,472,473,474,475,476,477,478,479,480,481,482,483,484,485,486,487,488,489,490,491,492,493,494,495,496,497,498,499,500,501,502,503,504,505,506,507,508,509,510,511,512,513,514,515,516,517,518,519,520,521,522,523,524,525,526,527,528,529,530,531,532,533,534,535,536,537,538,539,540,541,542,543,544,545,546,547,548,549,550,551,552,553,554,555,556,557,558,559,560,561,562,563,564,565,566,567,568,569,570,571,572,573,574,575,576,577,578,579,580,581,582,583,584,585,586,587,588,589,590,591,592,593,594,595,596,597,598,599],\"y\":{\"__ndarray__\":\"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\",\"dtype\":\"float32\",\"order\":\"little\",\"shape\":[600]}},\"selected\":{\"id\":\"1092\"},\"selection_policy\":{\"id\":\"1091\"}},\"id\":\"1073\",\"type\":\"ColumnDataSource\"},{\"attributes\":{\"axis_label\":\"iters\",\"coordinates\":null,\"formatter\":{\"id\":\"1046\"},\"group\":null,\"major_label_policy\":{\"id\":\"1047\"},\"ticker\":{\"id\":\"1013\"}},\"id\":\"1012\",\"type\":\"LinearAxis\"},{\"attributes\":{\"source\":{\"id\":\"1073\"}},\"id\":\"1078\",\"type\":\"CDSView\"},{\"attributes\":{\"label\":{\"value\":\"Approximation\"},\"renderers\":[{\"id\":\"1057\"}]},\"id\":\"1072\",\"type\":\"LegendItem\"},{\"attributes\":{\"source\":{\"id\":\"1053\"}},\"id\":\"1058\",\"type\":\"CDSView\"},{\"attributes\":{\"label\":{\"value\":\"Init Control\"},\"renderers\":[{\"id\":\"1077\"}]},\"id\":\"1094\",\"type\":\"LegendItem\"},{\"attributes\":{\"line_alpha\":0.2,\"line_color\":\"#ff7f0e\",\"line_width\":3,\"x\":{\"field\":\"x\"},\"y\":{\"field\":\"y\"}},\"id\":\"1076\",\"type\":\"Line\"},{\"attributes\":{},\"id\":\"1043\",\"type\":\"BasicTickFormatter\"},{\"attributes\":{\"line_alpha\":0.1,\"line_color\":\"#ff7f0e\",\"line_width\":3,\"x\":{\"field\":\"x\"},\"y\":{\"field\":\"y\"}},\"id\":\"1075\",\"type\":\"Line\"},{\"attributes\":{},\"id\":\"1069\",\"type\":\"UnionRenderers\"},{\"attributes\":{\"coordinates\":null,\"data_source\":{\"id\":\"1034\"},\"glyph\":{\"id\":\"1035\"},\"group\":null,\"hover_glyph\":null,\"muted_glyph\":{\"id\":\"1037\"},\"nonselection_glyph\":{\"id\":\"1036\"},\"view\":{\"id\":\"1039\"}},\"id\":\"1038\",\"type\":\"GlyphRenderer\"},{\"attributes\":{\"axis_label\":\"Loss\",\"coordinates\":null,\"formatter\":{\"id\":\"1043\"},\"group\":null,\"major_label_policy\":{\"id\":\"1044\"},\"ticker\":{\"id\":\"1017\"}},\"id\":\"1016\",\"type\":\"LinearAxis\"},{\"attributes\":{},\"id\":\"1091\",\"type\":\"UnionRenderers\"},{\"attributes\":{\"axis\":{\"id\":\"1016\"},\"coordinates\":null,\"dimension\":1,\"group\":null,\"ticker\":null},\"id\":\"1019\",\"type\":\"Grid\"},{\"attributes\":{},\"id\":\"1017\",\"type\":\"BasicTicker\"},{\"attributes\":{},\"id\":\"1010\",\"type\":\"LinearScale\"},{\"attributes\":{},\"id\":\"1006\",\"type\":\"DataRange1d\"},{\"attributes\":{},\"id\":\"1013\",\"type\":\"BasicTicker\"},{\"attributes\":{\"line_alpha\":0.3,\"line_color\":\"#1f77b4\",\"line_width\":3,\"x\":{\"field\":\"x\"},\"y\":{\"field\":\"y\"}},\"id\":\"1035\",\"type\":\"Line\"},{\"attributes\":{\"label\":{\"value\":\"Real Non-linear\"},\"renderers\":[{\"id\":\"1038\"}]},\"id\":\"1052\",\"type\":\"LegendItem\"},{\"attributes\":{\"line_alpha\":0.2,\"line_color\":\"#1f77b4\",\"line_width\":3,\"x\":{\"field\":\"x\"},\"y\":{\"field\":\"y\"}},\"id\":\"1056\",\"type\":\"Line\"},{\"attributes\":{\"line_alpha\":0.1,\"line_color\":\"#1f77b4\",\"line_width\":3,\"x\":{\"field\":\"x\"},\"y\":{\"field\":\"y\"}},\"id\":\"1036\",\"type\":\"Line\"},{\"attributes\":{},\"id\":\"1070\",\"type\":\"Selection\"},{\"attributes\":{\"line_alpha\":0.2,\"line_color\":\"#1f77b4\",\"line_width\":3,\"x\":{\"field\":\"x\"},\"y\":{\"field\":\"y\"}},\"id\":\"1037\",\"type\":\"Line\"},{\"attributes\":{\"axis\":{\"id\":\"1012\"},\"coordinates\":null,\"group\":null,\"ticker\":null},\"id\":\"1015\",\"type\":\"Grid\"},{\"attributes\":{\"source\":{\"id\":\"1034\"}},\"id\":\"1039\",\"type\":\"CDSView\"},{\"attributes\":{\"tools\":[{\"id\":\"1020\"},{\"id\":\"1021\"},{\"id\":\"1022\"},{\"id\":\"1023\"},{\"id\":\"1024\"},{\"id\":\"1025\"}]},\"id\":\"1027\",\"type\":\"Toolbar\"},{\"attributes\":{\"data\":{\"x\":[0,1,2,3,4,5,6,7,8,9,10,11,12,13,14,15,16,17,18,19,20,21,22,23,24,25,26,27,28,29,30,31,32,33,34,35,36,37,38,39,40,41,42,43,44,45,46,47,48,49,50,51,52,53,54,55,56,57,58,59,60,61,62,63,64,65,66,67,68,69,70,71,72,73,74,75,76,77,78,79,80,81,82,83,84,85,86,87,88,89,90,91,92,93,94,95,96,97,98,99,100,101,102,103,104,105,106,107,108,109,110,111,112,113,114,115,116,117,118,119,120,121,122,123,124,125,126,127,128,129,130,131,132,133,134,135,136,137,138,139,140,141,142,143,144,145,146,147,148,149,150,151,152,153,154,155,156,157,158,159,160,161,162,163,164,165,166,167,168,169,170,171,172,173,174,175,176,177,178,179,180,181,182,183,184,185,186,187,188,189,190,191,192,193,194,195,196,197,198,199,200,201,202,203,204,205,206,207,208,209,210,211,212,213,214,215,216,217,218,219,220,221,222,223,224,225,226,227,228,229,230,231,232,233,234,235,236,237,238,239,240,241,242,243,244,245,246,247,248,249,250,251,252,253,254,255,256,257,258,259,260,261,262,263,264,265,266,267,268,269,270,271,272,273,274,275,276,277,278,279,280,281,282,283,284,285,286,287,288,289,290,291,292,293,294,295,296,297,298,299,300,301,302,303,304,305,306,307,308,309,310,311,312,313,314,315,316,317,318,319,320,321,322,323,324,325,326,327,328,329,330,331,332,333,334,335,336,337,338,339,340,341,342,343,344,345,346,347,348,349,350,351,352,353,354,355,356,357,358,359,360,361,362,363,364,365,366,367,368,369,370,371,372,373,374,375,376,377,378,379,380,381,382,383,384,385,386,387,388,389,390,391,392,393,394,395,396,397,398,399,400,401,402,403,404,405,406,407,408,409,410,411,412,413,414,415,416,417,418,419,420,421,422,423,424,425,426,427,428,429,430,431,432,433,434,435,436,437,438,439,440,441,442,443,444,445,446,447,448,449,450,451,452,453,454,455,456,457,458,459,460,461,462,463,464,465,466,467,468,469,470,471,472,473,474,475,476,477,478,479,480,481,482,483,484,485,486,487,488,489,490,491,492,493,494,495,496,497,498,499,500,501,502,503,504,505,506,507,508,509,510,511,512,513,514,515,516,517,518,519,520,521,522,523,524,525,526,527,528,529,530,531,532,533,534,535,536,537,538,539,540,541,542,543,544,545,546,547,548,549,550,551,552,553,554,555,556,557,558,559,560,561,562,563,564,565,566,567,568,569,570,571,572,573,574,575,576,577,578,579,580,581,582,583,584,585,586,587,588,589,590,591,592,593,594,595,596,597,598,599],\"y\":{\"__ndarray__\":\"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\",\"dtype\":\"float32\",\"order\":\"little\",\"shape\":[600]}},\"selected\":{\"id\":\"1049\"},\"selection_policy\":{\"id\":\"1048\"}},\"id\":\"1034\",\"type\":\"ColumnDataSource\"},{\"attributes\":{},\"id\":\"1048\",\"type\":\"UnionRenderers\"},{\"attributes\":{},\"id\":\"1004\",\"type\":\"DataRange1d\"},{\"attributes\":{\"coordinates\":null,\"group\":null,\"items\":[{\"id\":\"1052\"},{\"id\":\"1072\"},{\"id\":\"1094\"}]},\"id\":\"1051\",\"type\":\"Legend\"},{\"attributes\":{},\"id\":\"1021\",\"type\":\"WheelZoomTool\"},{\"attributes\":{},\"id\":\"1047\",\"type\":\"AllLabels\"},{\"attributes\":{\"coordinates\":null,\"group\":null},\"id\":\"1040\",\"type\":\"Title\"},{\"attributes\":{},\"id\":\"1024\",\"type\":\"ResetTool\"},{\"attributes\":{},\"id\":\"1008\",\"type\":\"LinearScale\"},{\"attributes\":{},\"id\":\"1023\",\"type\":\"SaveTool\"},{\"attributes\":{},\"id\":\"1044\",\"type\":\"AllLabels\"},{\"attributes\":{\"overlay\":{\"id\":\"1026\"}},\"id\":\"1022\",\"type\":\"BoxZoomTool\"},{\"attributes\":{},\"id\":\"1020\",\"type\":\"PanTool\"},{\"attributes\":{\"line_alpha\":0.1,\"line_color\":\"#1f77b4\",\"line_width\":3,\"x\":{\"field\":\"x\"},\"y\":{\"field\":\"y\"}},\"id\":\"1055\",\"type\":\"Line\"},{\"attributes\":{\"line_color\":\"#1f77b4\",\"line_width\":3,\"x\":{\"field\":\"x\"},\"y\":{\"field\":\"y\"}},\"id\":\"1054\",\"type\":\"Line\"},{\"attributes\":{},\"id\":\"1025\",\"type\":\"HelpTool\"},{\"attributes\":{},\"id\":\"1046\",\"type\":\"BasicTickFormatter\"},{\"attributes\":{\"bottom_units\":\"screen\",\"coordinates\":null,\"fill_alpha\":0.5,\"fill_color\":\"lightgrey\",\"group\":null,\"left_units\":\"screen\",\"level\":\"overlay\",\"line_alpha\":1.0,\"line_color\":\"black\",\"line_dash\":[4,4],\"line_width\":2,\"right_units\":\"screen\",\"syncable\":false,\"top_units\":\"screen\"},\"id\":\"1026\",\"type\":\"BoxAnnotation\"},{\"attributes\":{\"coordinates\":null,\"data_source\":{\"id\":\"1073\"},\"glyph\":{\"id\":\"1074\"},\"group\":null,\"hover_glyph\":null,\"muted_glyph\":{\"id\":\"1076\"},\"nonselection_glyph\":{\"id\":\"1075\"},\"view\":{\"id\":\"1078\"}},\"id\":\"1077\",\"type\":\"GlyphRenderer\"}],\"root_ids\":[\"1003\"]},\"title\":\"Bokeh Application\",\"version\":\"2.4.3\"}};\n",
       "  const render_items = [{\"docid\":\"323b3a78-366c-4d28-b355-baf8f15d226b\",\"root_ids\":[\"1003\"],\"roots\":{\"1003\":\"7f9c3213-d8aa-423b-b064-915c9361fa57\"}}];\n",
       "  root.Bokeh.embed.embed_items_notebook(docs_json, render_items);\n",
       "  }\n",
       "  if (root.Bokeh !== undefined) {\n",
       "    embed_document(root);\n",
       "  } else {\n",
       "    let attempts = 0;\n",
       "    const timer = setInterval(function(root) {\n",
       "      if (root.Bokeh !== undefined) {\n",
       "        clearInterval(timer);\n",
       "        embed_document(root);\n",
       "      } else {\n",
       "        attempts++;\n",
       "        if (attempts > 100) {\n",
       "          clearInterval(timer);\n",
       "          console.log(\"Bokeh: ERROR: Unable to run BokehJS code because BokehJS library is missing\");\n",
       "        }\n",
       "      }\n",
       "    }, 10, root)\n",
       "  }\n",
       "})(window);"
      ],
      "application/vnd.bokehjs_exec.v0+json": ""
     },
     "metadata": {
      "application/vnd.bokehjs_exec.v0+json": {
       "id": "1003"
      }
     },
     "output_type": "display_data"
    }
   ],
   "source": [
    "losses = (loss, Loss_t, Loss_t_control)\n",
    "colors = (Category10[10][0], Category10[10][0], Category10[10][1])\n",
    "legends = (\"Real Non-linear\", \"Approximation\", \"Init Control\")\n",
    "alphas = (0.3, 1, 1)\n",
    "\n",
    "s = plot_lines(iters, losses, legends, alphas, colors)\n",
    "show(s)"
   ]
  },
  {
   "cell_type": "code",
   "execution_count": 19,
   "metadata": {
    "ExecuteTime": {
     "end_time": "2022-10-18T16:34:31.368228Z",
     "start_time": "2022-10-18T16:34:31.365539Z"
    }
   },
   "outputs": [],
   "source": [
    "flat_W_t = np.reshape(weights, (weights.shape[0], -1))\n",
    "flat_eq_W_t = np.reshape(W_t, (W_t.shape[0], -1))\n"
   ]
  },
  {
   "cell_type": "code",
   "execution_count": 20,
   "metadata": {
    "ExecuteTime": {
     "end_time": "2022-10-18T16:34:31.851093Z",
     "start_time": "2022-10-18T16:34:31.370675Z"
    }
   },
   "outputs": [
    {
     "data": {
      "text/html": [
       "\n",
       "  <div class=\"bk-root\" id=\"5df1c647-aa19-40d6-b76f-5b9fea2616d4\" data-root-id=\"1185\"></div>\n"
      ]
     },
     "metadata": {},
     "output_type": "display_data"
    },
    {
     "data": {
      "application/javascript": [
       "(function(root) {\n",
       "  function embed_document(root) {\n",
       "  const docs_json = {\"854834b4-c362-4d87-81cd-a034cbe348e1\":{\"defs\":[],\"roots\":{\"references\":[{\"attributes\":{\"below\":[{\"id\":\"1196\"}],\"center\":[{\"id\":\"1199\"},{\"id\":\"1203\"},{\"id\":\"1234\"}],\"left\":[{\"id\":\"1200\"}],\"renderers\":[{\"id\":\"1222\"},{\"id\":\"1240\"}],\"title\":{\"id\":\"1186\"},\"toolbar\":{\"id\":\"1211\"},\"x_range\":{\"id\":\"1188\"},\"x_scale\":{\"id\":\"1192\"},\"y_range\":{\"id\":\"1190\"},\"y_scale\":{\"id\":\"1194\"}},\"id\":\"1185\",\"subtype\":\"Figure\",\"type\":\"Plot\"},{\"attributes\":{\"line_alpha\":0.2,\"line_color\":\"#1f77b4\",\"line_dash\":[4,4],\"line_width\":6,\"x\":{\"field\":\"x\"},\"y\":{\"field\":\"y\"}},\"id\":\"1221\",\"type\":\"Line\"},{\"attributes\":{},\"id\":\"1252\",\"type\":\"Selection\"},{\"attributes\":{\"line_color\":\"#1f77b4\",\"line_width\":3,\"x\":{\"field\":\"x\"},\"y\":{\"field\":\"y\"}},\"id\":\"1237\",\"type\":\"Line\"},{\"attributes\":{},\"id\":\"1208\",\"type\":\"ResetTool\"},{\"attributes\":{},\"id\":\"1230\",\"type\":\"AllLabels\"},{\"attributes\":{},\"id\":\"1205\",\"type\":\"WheelZoomTool\"},{\"attributes\":{},\"id\":\"1226\",\"type\":\"BasicTickFormatter\"},{\"attributes\":{\"axis_label\":\"iters\",\"coordinates\":null,\"formatter\":{\"id\":\"1229\"},\"group\":null,\"major_label_policy\":{\"id\":\"1230\"},\"ticker\":{\"id\":\"1197\"}},\"id\":\"1196\",\"type\":\"LinearAxis\"},{\"attributes\":{\"label\":{\"value\":\"Equation\"},\"renderers\":[{\"id\":\"1240\"}]},\"id\":\"1254\",\"type\":\"LegendItem\"},{\"attributes\":{\"coordinates\":null,\"group\":null,\"text\":\"W\"},\"id\":\"1186\",\"type\":\"Title\"},{\"attributes\":{\"overlay\":{\"id\":\"1210\"}},\"id\":\"1206\",\"type\":\"BoxZoomTool\"},{\"attributes\":{},\"id\":\"1209\",\"type\":\"HelpTool\"},{\"attributes\":{},\"id\":\"1190\",\"type\":\"DataRange1d\"},{\"attributes\":{},\"id\":\"1204\",\"type\":\"PanTool\"},{\"attributes\":{},\"id\":\"1229\",\"type\":\"BasicTickFormatter\"},{\"attributes\":{},\"id\":\"1192\",\"type\":\"LinearScale\"},{\"attributes\":{\"data\":{\"x\":[0,20,40,60,80,100,120,140,160,180,200,220,240,260,280,300,320,340,360,380,400,420,440,460,480,500,520,540,560,580],\"y\":{\"__ndarray__\":\"U6UEO7XyJD3uN5g9zhPYPQz5CD7/AyM+PJ06PrqkTz7oi2I+tcFzPu2SgT6bcIg+z8GOPj9xlD4hspk+ajqePjiJoj7GS6Y+TbypPhqjrD42eK8+psWxPmwNtD4eHLY+YcG3PpZbuT7cvro+eAG8PhpQvT7hZ74+\",\"dtype\":\"float32\",\"order\":\"little\",\"shape\":[30]}},\"selected\":{\"id\":\"1232\"},\"selection_policy\":{\"id\":\"1231\"}},\"id\":\"1218\",\"type\":\"ColumnDataSource\"},{\"attributes\":{\"axis_label\":\"Weights\",\"coordinates\":null,\"formatter\":{\"id\":\"1226\"},\"group\":null,\"major_label_policy\":{\"id\":\"1227\"},\"ticker\":{\"id\":\"1201\"}},\"id\":\"1200\",\"type\":\"LinearAxis\"},{\"attributes\":{},\"id\":\"1194\",\"type\":\"LinearScale\"},{\"attributes\":{},\"id\":\"1227\",\"type\":\"AllLabels\"},{\"attributes\":{\"coordinates\":null,\"data_source\":{\"id\":\"1218\"},\"glyph\":{\"id\":\"1219\"},\"group\":null,\"hover_glyph\":null,\"muted_glyph\":{\"id\":\"1221\"},\"nonselection_glyph\":{\"id\":\"1220\"},\"view\":{\"id\":\"1223\"}},\"id\":\"1222\",\"type\":\"GlyphRenderer\"},{\"attributes\":{},\"id\":\"1201\",\"type\":\"BasicTicker\"},{\"attributes\":{},\"id\":\"1232\",\"type\":\"Selection\"},{\"attributes\":{\"axis\":{\"id\":\"1200\"},\"coordinates\":null,\"dimension\":1,\"group\":null,\"ticker\":null},\"id\":\"1203\",\"type\":\"Grid\"},{\"attributes\":{\"source\":{\"id\":\"1236\"}},\"id\":\"1241\",\"type\":\"CDSView\"},{\"attributes\":{\"line_alpha\":0.2,\"line_color\":\"#1f77b4\",\"line_width\":3,\"x\":{\"field\":\"x\"},\"y\":{\"field\":\"y\"}},\"id\":\"1239\",\"type\":\"Line\"},{\"attributes\":{\"line_alpha\":0.5,\"line_color\":\"#1f77b4\",\"line_dash\":[4,4],\"line_width\":6,\"x\":{\"field\":\"x\"},\"y\":{\"field\":\"y\"}},\"id\":\"1219\",\"type\":\"Line\"},{\"attributes\":{},\"id\":\"1188\",\"type\":\"DataRange1d\"},{\"attributes\":{},\"id\":\"1197\",\"type\":\"BasicTicker\"},{\"attributes\":{},\"id\":\"1207\",\"type\":\"SaveTool\"},{\"attributes\":{},\"id\":\"1251\",\"type\":\"UnionRenderers\"},{\"attributes\":{\"coordinates\":null,\"data_source\":{\"id\":\"1236\"},\"glyph\":{\"id\":\"1237\"},\"group\":null,\"hover_glyph\":null,\"muted_glyph\":{\"id\":\"1239\"},\"nonselection_glyph\":{\"id\":\"1238\"},\"view\":{\"id\":\"1241\"}},\"id\":\"1240\",\"type\":\"GlyphRenderer\"},{\"attributes\":{\"label\":{\"value\":\"Simulation\"},\"renderers\":[{\"id\":\"1222\"}]},\"id\":\"1235\",\"type\":\"LegendItem\"},{\"attributes\":{\"coordinates\":null,\"group\":null,\"items\":[{\"id\":\"1235\"},{\"id\":\"1254\"}],\"location\":\"bottom_right\"},\"id\":\"1234\",\"type\":\"Legend\"},{\"attributes\":{},\"id\":\"1231\",\"type\":\"UnionRenderers\"},{\"attributes\":{\"data\":{\"x\":[0,1,2,3,4,5,6,7,8,9,10,11,12,13,14,15,16,17,18,19,20,21,22,23,24,25,26,27,28,29,30,31,32,33,34,35,36,37,38,39,40,41,42,43,44,45,46,47,48,49,50,51,52,53,54,55,56,57,58,59,60,61,62,63,64,65,66,67,68,69,70,71,72,73,74,75,76,77,78,79,80,81,82,83,84,85,86,87,88,89,90,91,92,93,94,95,96,97,98,99,100,101,102,103,104,105,106,107,108,109,110,111,112,113,114,115,116,117,118,119,120,121,122,123,124,125,126,127,128,129,130,131,132,133,134,135,136,137,138,139,140,141,142,143,144,145,146,147,148,149,150,151,152,153,154,155,156,157,158,159,160,161,162,163,164,165,166,167,168,169,170,171,172,173,174,175,176,177,178,179,180,181,182,183,184,185,186,187,188,189,190,191,192,193,194,195,196,197,198,199,200,201,202,203,204,205,206,207,208,209,210,211,212,213,214,215,216,217,218,219,220,221,222,223,224,225,226,227,228,229,230,231,232,233,234,235,236,237,238,239,240,241,242,243,244,245,246,247,248,249,250,251,252,253,254,255,256,257,258,259,260,261,262,263,264,265,266,267,268,269,270,271,272,273,274,275,276,277,278,279,280,281,282,283,284,285,286,287,288,289,290,291,292,293,294,295,296,297,298,299,300,301,302,303,304,305,306,307,308,309,310,311,312,313,314,315,316,317,318,319,320,321,322,323,324,325,326,327,328,329,330,331,332,333,334,335,336,337,338,339,340,341,342,343,344,345,346,347,348,349,350,351,352,353,354,355,356,357,358,359,360,361,362,363,364,365,366,367,368,369,370,371,372,373,374,375,376,377,378,379,380,381,382,383,384,385,386,387,388,389,390,391,392,393,394,395,396,397,398,399,400,401,402,403,404,405,406,407,408,409,410,411,412,413,414,415,416,417,418,419,420,421,422,423,424,425,426,427,428,429,430,431,432,433,434,435,436,437,438,439,440,441,442,443,444,445,446,447,448,449,450,451,452,453,454,455,456,457,458,459,460,461,462,463,464,465,466,467,468,469,470,471,472,473,474,475,476,477,478,479,480,481,482,483,484,485,486,487,488,489,490,491,492,493,494,495,496,497,498,499,500,501,502,503,504,505,506,507,508,509,510,511,512,513,514,515,516,517,518,519,520,521,522,523,524,525,526,527,528,529,530,531,532,533,534,535,536,537,538,539,540,541,542,543,544,545,546,547,548,549,550,551,552,553,554,555,556,557,558,559,560,561,562,563,564,565,566,567,568,569,570,571,572,573,574,575,576,577,578,579,580,581,582,583,584,585,586,587,588,589,590,591,592,593,594,595,596,597,598,599],\"y\":{\"__ndarray__\":\"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\",\"dtype\":\"float32\",\"order\":\"little\",\"shape\":[600]}},\"selected\":{\"id\":\"1252\"},\"selection_policy\":{\"id\":\"1251\"}},\"id\":\"1236\",\"type\":\"ColumnDataSource\"},{\"attributes\":{\"source\":{\"id\":\"1218\"}},\"id\":\"1223\",\"type\":\"CDSView\"},{\"attributes\":{\"line_alpha\":0.1,\"line_color\":\"#1f77b4\",\"line_dash\":[4,4],\"line_width\":6,\"x\":{\"field\":\"x\"},\"y\":{\"field\":\"y\"}},\"id\":\"1220\",\"type\":\"Line\"},{\"attributes\":{\"tools\":[{\"id\":\"1204\"},{\"id\":\"1205\"},{\"id\":\"1206\"},{\"id\":\"1207\"},{\"id\":\"1208\"},{\"id\":\"1209\"}]},\"id\":\"1211\",\"type\":\"Toolbar\"},{\"attributes\":{\"axis\":{\"id\":\"1196\"},\"coordinates\":null,\"group\":null,\"ticker\":null},\"id\":\"1199\",\"type\":\"Grid\"},{\"attributes\":{\"line_alpha\":0.1,\"line_color\":\"#1f77b4\",\"line_width\":3,\"x\":{\"field\":\"x\"},\"y\":{\"field\":\"y\"}},\"id\":\"1238\",\"type\":\"Line\"},{\"attributes\":{\"bottom_units\":\"screen\",\"coordinates\":null,\"fill_alpha\":0.5,\"fill_color\":\"lightgrey\",\"group\":null,\"left_units\":\"screen\",\"level\":\"overlay\",\"line_alpha\":1.0,\"line_color\":\"black\",\"line_dash\":[4,4],\"line_width\":2,\"right_units\":\"screen\",\"syncable\":false,\"top_units\":\"screen\"},\"id\":\"1210\",\"type\":\"BoxAnnotation\"}],\"root_ids\":[\"1185\"]},\"title\":\"Bokeh Application\",\"version\":\"2.4.3\"}};\n",
       "  const render_items = [{\"docid\":\"854834b4-c362-4d87-81cd-a034cbe348e1\",\"root_ids\":[\"1185\"],\"roots\":{\"1185\":\"5df1c647-aa19-40d6-b76f-5b9fea2616d4\"}}];\n",
       "  root.Bokeh.embed.embed_items_notebook(docs_json, render_items);\n",
       "  }\n",
       "  if (root.Bokeh !== undefined) {\n",
       "    embed_document(root);\n",
       "  } else {\n",
       "    let attempts = 0;\n",
       "    const timer = setInterval(function(root) {\n",
       "      if (root.Bokeh !== undefined) {\n",
       "        clearInterval(timer);\n",
       "        embed_document(root);\n",
       "      } else {\n",
       "        attempts++;\n",
       "        if (attempts > 100) {\n",
       "          clearInterval(timer);\n",
       "          console.log(\"Bokeh: ERROR: Unable to run BokehJS code because BokehJS library is missing\");\n",
       "        }\n",
       "      }\n",
       "    }, 10, root)\n",
       "  }\n",
       "})(window);"
      ],
      "application/vnd.bokehjs_exec.v0+json": ""
     },
     "metadata": {
      "application/vnd.bokehjs_exec.v0+json": {
       "id": "1185"
      }
     },
     "output_type": "display_data"
    }
   ],
   "source": [
    "weight_plot = plot_weight_ev(flat_W_t, flat_eq_W_t, iters=weights_iter, iters_set2=iters, title=\"W\")\n",
    "show(weight_plot)"
   ]
  },
  {
   "cell_type": "markdown",
   "metadata": {
    "ExecuteTime": {
     "end_time": "2022-10-11T16:47:21.704342Z",
     "start_time": "2022-10-11T16:47:21.700812Z"
    }
   },
   "source": [
    "## Optimizing control signal"
   ]
  },
  {
   "cell_type": "code",
   "execution_count": 21,
   "metadata": {
    "ExecuteTime": {
     "end_time": "2022-10-18T16:34:31.855800Z",
     "start_time": "2022-10-18T16:34:31.852910Z"
    }
   },
   "outputs": [],
   "source": [
    "iter_control = 5000\n",
    "control_params[\"iters_control\"] = iter_control\n",
    "cumulated_reward = []"
   ]
  },
  {
   "cell_type": "code",
   "execution_count": 22,
   "metadata": {
    "ExecuteTime": {
     "end_time": "2022-10-18T16:37:11.352104Z",
     "start_time": "2022-10-18T16:34:31.858273Z"
    },
    "scrolled": true
   },
   "outputs": [
    {
     "name": "stderr",
     "output_type": "stream",
     "text": [
      "100%|██████████████████████████████████████████████████████████████████████████████████████████████████████████████████████████████████████████████████████████████████████████| 5000/5000 [16:54<00:00,  4.93it/s]\n"
     ]
    }
   ],
   "source": [
    "for i in tqdm(range(iter_control)):\n",
    "    R = control.train_step(get_numpy=True)\n",
    "    # print(\"cumulated reward:\", R)\n",
    "    cumulated_reward.append(R)\n",
    "cumulated_reward = np.array(cumulated_reward).astype(float)\n",
    "results_dict[\"cumulated_reward_opt\"] = cumulated_reward\n",
    "control_params[\"control\"] = control"
   ]
  },
  {
   "cell_type": "code",
   "execution_count": 23,
   "metadata": {
    "ExecuteTime": {
     "end_time": "2022-10-18T16:37:11.430746Z",
     "start_time": "2022-10-18T16:37:11.353022Z"
    }
   },
   "outputs": [
    {
     "data": {
      "text/html": [
       "\n",
       "  <div class=\"bk-root\" id=\"d6bd0730-9459-4bf6-91d7-1670222de5d6\" data-root-id=\"1342\"></div>\n"
      ]
     },
     "metadata": {},
     "output_type": "display_data"
    },
    {
     "data": {
      "application/javascript": [
       "(function(root) {\n",
       "  function embed_document(root) {\n",
       "  const docs_json = {\"d4014150-e9e8-45c0-8644-ea5fe6a46699\":{\"defs\":[],\"roots\":{\"references\":[{\"attributes\":{\"below\":[{\"id\":\"1351\"}],\"center\":[{\"id\":\"1354\"},{\"id\":\"1358\"},{\"id\":\"1390\"}],\"height\":500,\"left\":[{\"id\":\"1355\"}],\"renderers\":[{\"id\":\"1377\"}],\"title\":{\"id\":\"1379\"},\"toolbar\":{\"id\":\"1366\"},\"width\":800,\"x_range\":{\"id\":\"1343\"},\"x_scale\":{\"id\":\"1347\"},\"y_range\":{\"id\":\"1345\"},\"y_scale\":{\"id\":\"1349\"}},\"id\":\"1342\",\"subtype\":\"Figure\",\"type\":\"Plot\"},{\"attributes\":{\"tools\":[{\"id\":\"1359\"},{\"id\":\"1360\"},{\"id\":\"1361\"},{\"id\":\"1362\"},{\"id\":\"1363\"},{\"id\":\"1364\"}]},\"id\":\"1366\",\"type\":\"Toolbar\"},{\"attributes\":{\"axis_label\":\"Cumulated reward\",\"coordinates\":null,\"formatter\":{\"id\":\"1382\"},\"group\":null,\"major_label_policy\":{\"id\":\"1383\"},\"ticker\":{\"id\":\"1356\"}},\"id\":\"1355\",\"type\":\"LinearAxis\"},{\"attributes\":{\"data\":{\"x\":[0,1,2,3,4,5,6,7,8,9,10,11,12,13,14,15,16,17,18,19,20,21,22,23,24,25,26,27,28,29,30,31,32,33,34,35,36,37,38,39,40,41,42,43,44,45,46,47,48,49,50,51,52,53,54,55,56,57,58,59,60,61,62,63,64,65,66,67,68,69,70,71,72,73,74,75,76,77,78,79,80,81,82,83,84,85,86,87,88,89,90,91,92,93,94,95,96,97,98,99,100,101,102,103,104,105,106,107,108,109,110,111,112,113,114,115,116,117,118,119,120,121,122,123,124,125,126,127,128,129,130,131,132,133,134,135,136,137,138,139,140,141,142,143,144,145,146,147,148,149,150,151,152,153,154,155,156,157,158,159,160,161,162,163,164,165,166,167,168,169,170,171,172,173,174,175,176,177,178,179,180,181,182,183,184,185,186,187,188,189,190,191,192,193,194,195,196,197,198,199,200,201,202,203,204,205,206,207,208,209,210,211,212,213,214,215,216,217,218,219,220,221,222,223,224,225,226,227,228,229,230,231,232,233,234,235,236,237,238,239,240,241,242,243,244,245,246,247,248,249,250,251,252,253,254,255,256,257,258,259,260,261,262,263,264,265,266,267,268,269,270,271,272,273,274,275,276,277,278,279,280,281,282,283,284,285,286,287,288,289,290,291,292,293,294,295,296,297,298,299,300,301,302,303,304,305,306,307,308,309,310,311,312,313,314,315,316,317,318,319,320,321,322,323,324,325,326,327,328,329,330,331,332,333,334,335,336,337,338,339,340,341,342,343,344,345,346,347,348,349,350,351,352,353,354,355,356,357,358,359,360,361,362,363,364,365,366,367,368,369,370,371,372,373,374,375,376,377,378,379,380,381,382,383,384,385,386,387,388,389,390,391,392,393,394,395,396,397,398,399,400,401,402,403,404,405,406,407,408,409,410,411,412,413,414,415,416,417,418,419,420,421,422,423,424,425,426,427,428,429,430,431,432,433,434,435,436,437,438,439,440,441,442,443,444,445,446,447,448,449,450,451,452,453,454,455,456,457,458,459,460,461,462,463,464,465,466,467,468,469,470,471,472,473,474,475,476,477,478,479,480,481,482,483,484,485,486,487,488,489,490,491,492,493,494,495,496,497,498,499,500,501,502,503,504,505,506,507,508,509,510,511,512,513,514,515,516,517,518,519,520,521,522,523,524,525,526,527,528,529,530,531,532,533,534,535,536,537,538,539,540,541,542,543,544,545,546,547,548,549,550,551,552,553,554,555,556,557,558,559,560,561,562,563,564,565,566,567,568,569,570,571,572,573,574,575,576,577,578,579,580,581,582,583,584,585,586,587,588,589,590,591,592,593,594,595,596,597,598,599,600,601,602,603,604,605,606,607,608,609,610,611,612,613,614,615,616,617,618,619,620,621,622,623,624,625,626,627,628,629,630,631,632,633,634,635,636,637,638,639,640,641,642,643,644,645,646,647,648,649,650,651,652,653,654,655,656,657,658,659,660,661,662,663,664,665,666,667,668,669,670,671,672,673,674,675,676,677,678,679,680,681,682,683,684,685,686,687,688,689,690,691,692,693,694,695,696,697,698,699,700,701,702,703,704,705,706,707,708,709,710,711,712,713,714,715,716,717,718,719,720,721,722,723,724,725,726,727,728,729,730,731,732,733,734,735,736,737,738,739,740,741,742,743,744,745,746,747,748,749,750,751,752,753,754,755,756,757,758,759,760,761,762,763,764,765,766,767,768,769,770,771,772,773,774,775,776,777,778,779,780,781,782,783,784,785,786,787,788,789,790,791,792,793,794,795,796,797,798,799,800,801,802,803,804,805,806,807,808,809,810,811,812,813,814,815,816,817,818,819,820,821,822,823,824,825,826,827,828,829,830,831,832,833,834,835,836,837,838,839,840,841,842,843,844,845,846,847,848,849,850,851,852,853,854,855,856,857,858,859,860,861,862,863,864,865,866,867,868,869,870,871,872,873,874,875,876,877,878,879,880,881,882,883,884,885,886,887,888,889,890,891,892,893,894,895,896,897,898,899,900,901,902,903,904,905,906,907,908,909,910,911,912,913,914,915,916,917,918,919,920,921,922,923,924,925,926,927,928,929,930,931,932,933,934,935,936,937,938,939,940,941,942,943,944,945,946,947,948,949,950,951,952,953,954,955,956,957,958,959,960,961,962,963,964,965,966,967,968,969,970,971,972,973,974,975,976,977,978,979,980,981,982,983,984,985,986,987,988,989,990,991,992,993,994,995,996,997,998,999,1000,1001,1002,1003,1004,1005,1006,1007,1008,1009,1010,1011,1012,1013,1014,1015,1016,1017,1018,1019,1020,1021,1022,1023,1024,1025,1026,1027,1028,1029,1030,1031,1032,1033,1034,1035,1036,1037,1038,1039,1040,1041,1042,1043,1044,1045,1046,1047,1048,1049,1050,1051,1052,1053,1054,1055,1056,1057,1058,1059,1060,1061,1062,1063,1064,1065,1066,1067,1068,1069,1070,1071,1072,1073,1074,1075,1076,1077,1078,1079,1080,1081,1082,1083,1084,1085,1086,1087,1088,1089,1090,1091,1092,1093,1094,1095,1096,1097,1098,1099,1100,1101,1102,1103,1104,1105,1106,1107,1108,1109,1110,1111,1112,1113,1114,1115,1116,1117,1118,1119,1120,1121,1122,1123,1124,1125,1126,1127,1128,1129,1130,1131,1132,1133,1134,1135,1136,1137,1138,1139,1140,1141,1142,1143,1144,1145,1146,1147,1148,1149,1150,1151,1152,1153,1154,1155,1156,1157,1158,1159,1160,1161,1162,1163,1164,1165,1166,1167,1168,1169,1170,1171,1172,1173,1174,1175,1176,1177,1178,1179,1180,1181,1182,1183,1184,1185,1186,1187,1188,1189,1190,1191,1192,1193,1194,1195,1196,1197,1198,1199,1200,1201,1202,1203,1204,1205,1206,1207,1208,1209,1210,1211,1212,1213,1214,1215,1216,1217,1218,1219,1220,1221,1222,1223,1224,1225,1226,1227,1228,1229,1230,1231,1232,1233,1234,1235,1236,1237,1238,1239,1240,1241,1242,1243,1244,1245,1246,1247,1248,1249,1250,1251,1252,1253,1254,1255,1256,1257,1258,1259,1260,1261,1262,1263,1264,1265,1266,1267,1268,1269,1270,1271,1272,1273,1274,1275,1276,1277,1278,1279,1280,1281,1282,1283,1284,1285,1286,1287,1288,1289,1290,1291,1292,1293,1294,1295,1296,1297,1298,1299,1300,1301,1302,1303,1304,1305,1306,1307,1308,1309,1310,1311,1312,1313,1314,1315,1316,1317,1318,1319,1320,1321,1322,1323,1324,1325,1326,1327,1328,1329,1330,1331,1332,1333,1334,1335,1336,1337,1338,1339,1340,1341,1342,1343,1344,1345,1346,1347,1348,1349,1350,1351,1352,1353,1354,1355,1356,1357,1358,1359,1360,1361,1362,1363,1364,1365,1366,1367,1368,1369,1370,1371,1372,1373,1374,1375,1376,1377,1378,1379,1380,1381,1382,1383,1384,1385,1386,1387,1388,1389,1390,1391,1392,1393,1394,1395,1396,1397,1398,1399,1400,1401,1402,1403,1404,1405,1406,1407,1408,1409,1410,1411,1412,1413,1414,1415,1416,1417,1418,1419,1420,1421,1422,1423,1424,1425,1426,1427,1428,1429,1430,1431,1432,1433,1434,1435,1436,1437,1438,1439,1440,1441,1442,1443,1444,1445,1446,1447,1448,1449,1450,1451,1452,1453,1454,1455,1456,1457,1458,1459,1460,1461,1462,1463,1464,1465,1466,1467,1468,1469,1470,1471,1472,1473,1474,1475,1476,1477,1478,1479,1480,1481,1482,1483,1484,1485,1486,1487,1488,1489,1490,1491,1492,1493,1494,1495,1496,1497,1498,1499,1500,1501,1502,1503,1504,1505,1506,1507,1508,1509,1510,1511,1512,1513,1514,1515,1516,1517,1518,1519,1520,1521,1522,1523,1524,1525,1526,1527,1528,1529,1530,1531,1532,1533,1534,1535,1536,1537,1538,1539,1540,1541,1542,1543,1544,1545,1546,1547,1548,1549,1550,1551,1552,1553,1554,1555,1556,1557,1558,1559,1560,1561,1562,1563,1564,1565,1566,1567,1568,1569,1570,1571,1572,1573,1574,1575,1576,1577,1578,1579,1580,1581,1582,1583,1584,1585,1586,1587,1588,1589,1590,1591,1592,1593,1594,1595,1596,1597,1598,1599,1600,1601,1602,1603,1604,1605,1606,1607,1608,1609,1610,1611,1612,1613,1614,1615,1616,1617,1618,1619,1620,1621,1622,1623,1624,1625,1626,1627,1628,1629,1630,1631,1632,1633,1634,1635,1636,1637,1638,1639,1640,1641,1642,1643,1644,1645,1646,1647,1648,1649,1650,1651,1652,1653,1654,1655,1656,1657,1658,1659,1660,1661,1662,1663,1664,1665,1666,1667,1668,1669,1670,1671,1672,1673,1674,1675,1676,1677,1678,1679,1680,1681,1682,1683,1684,1685,1686,1687,1688,1689,1690,1691,1692,1693,1694,1695,1696,1697,1698,1699,1700,1701,1702,1703,1704,1705,1706,1707,1708,1709,1710,1711,1712,1713,1714,1715,1716,1717,1718,1719,1720,1721,1722,1723,1724,1725,1726,1727,1728,1729,1730,1731,1732,1733,1734,1735,1736,1737,1738,1739,1740,1741,1742,1743,1744,1745,1746,1747,1748,1749,1750,1751,1752,1753,1754,1755,1756,1757,1758,1759,1760,1761,1762,1763,1764,1765,1766,1767,1768,1769,1770,1771,1772,1773,1774,1775,1776,1777,1778,1779,1780,1781,1782,1783,1784,1785,1786,1787,1788,1789,1790,1791,1792,1793,1794,1795,1796,1797,1798,1799,1800,1801,1802,1803,1804,1805,1806,1807,1808,1809,1810,1811,1812,1813,1814,1815,1816,1817,1818,1819,1820,1821,1822,1823,1824,1825,1826,1827,1828,1829,1830,1831,1832,1833,1834,1835,1836,1837,1838,1839,1840,1841,1842,1843,1844,1845,1846,1847,1848,1849,1850,1851,1852,1853,1854,1855,1856,1857,1858,1859,1860,1861,1862,1863,1864,1865,1866,1867,1868,1869,1870,1871,1872,1873,1874,1875,1876,1877,1878,1879,1880,1881,1882,1883,1884,1885,1886,1887,1888,1889,1890,1891,1892,1893,1894,1895,1896,1897,1898,1899,1900,1901,1902,1903,1904,1905,1906,1907,1908,1909,1910,1911,1912,1913,1914,1915,1916,1917,1918,1919,1920,1921,1922,1923,1924,1925,1926,1927,1928,1929,1930,1931,1932,1933,1934,1935,1936,1937,1938,1939,1940,1941,1942,1943,1944,1945,1946,1947,1948,1949,1950,1951,1952,1953,1954,1955,1956,1957,1958,1959,1960,1961,1962,1963,1964,1965,1966,1967,1968,1969,1970,1971,1972,1973,1974,1975,1976,1977,1978,1979,1980,1981,1982,1983,1984,1985,1986,1987,1988,1989,1990,1991,1992,1993,1994,1995,1996,1997,1998,1999,2000,2001,2002,2003,2004,2005,2006,2007,2008,2009,2010,2011,2012,2013,2014,2015,2016,2017,2018,2019,2020,2021,2022,2023,2024,2025,2026,2027,2028,2029,2030,2031,2032,2033,2034,2035,2036,2037,2038,2039,2040,2041,2042,2043,2044,2045,2046,2047,2048,2049,2050,2051,2052,2053,2054,2055,2056,2057,2058,2059,2060,2061,2062,2063,2064,2065,2066,2067,2068,2069,2070,2071,2072,2073,2074,2075,2076,2077,2078,2079,2080,2081,2082,2083,2084,2085,2086,2087,2088,2089,2090,2091,2092,2093,2094,2095,2096,2097,2098,2099,2100,2101,2102,2103,2104,2105,2106,2107,2108,2109,2110,2111,2112,2113,2114,2115,2116,2117,2118,2119,2120,2121,2122,2123,2124,2125,2126,2127,2128,2129,2130,2131,2132,2133,2134,2135,2136,2137,2138,2139,2140,2141,2142,2143,2144,2145,2146,2147,2148,2149,2150,2151,2152,2153,2154,2155,2156,2157,2158,2159,2160,2161,2162,2163,2164,2165,2166,2167,2168,2169,2170,2171,2172,2173,2174,2175,2176,2177,2178,2179,2180,2181,2182,2183,2184,2185,2186,2187,2188,2189,2190,2191,2192,2193,2194,2195,2196,2197,2198,2199,2200,2201,2202,2203,2204,2205,2206,2207,2208,2209,2210,2211,2212,2213,2214,2215,2216,2217,2218,2219,2220,2221,2222,2223,2224,2225,2226,2227,2228,2229,2230,2231,2232,2233,2234,2235,2236,2237,2238,2239,2240,2241,2242,2243,2244,2245,2246,2247,2248,2249,2250,2251,2252,2253,2254,2255,2256,2257,2258,2259,2260,2261,2262,2263,2264,2265,2266,2267,2268,2269,2270,2271,2272,2273,2274,2275,2276,2277,2278,2279,2280,2281,2282,2283,2284,2285,2286,2287,2288,2289,2290,2291,2292,2293,2294,2295,2296,2297,2298,2299,2300,2301,2302,2303,2304,2305,2306,2307,2308,2309,2310,2311,2312,2313,2314,2315,2316,2317,2318,2319,2320,2321,2322,2323,2324,2325,2326,2327,2328,2329,2330,2331,2332,2333,2334,2335,2336,2337,2338,2339,2340,2341,2342,2343,2344,2345,2346,2347,2348,2349,2350,2351,2352,2353,2354,2355,2356,2357,2358,2359,2360,2361,2362,2363,2364,2365,2366,2367,2368,2369,2370,2371,2372,2373,2374,2375,2376,2377,2378,2379,2380,2381,2382,2383,2384,2385,2386,2387,2388,2389,2390,2391,2392,2393,2394,2395,2396,2397,2398,2399,2400,2401,2402,2403,2404,2405,2406,2407,2408,2409,2410,2411,2412,2413,2414,2415,2416,2417,2418,2419,2420,2421,2422,2423,2424,2425,2426,2427,2428,2429,2430,2431,2432,2433,2434,2435,2436,2437,2438,2439,2440,2441,2442,2443,2444,2445,2446,2447,2448,2449,2450,2451,2452,2453,2454,2455,2456,2457,2458,2459,2460,2461,2462,2463,2464,2465,2466,2467,2468,2469,2470,2471,2472,2473,2474,2475,2476,2477,2478,2479,2480,2481,2482,2483,2484,2485,2486,2487,2488,2489,2490,2491,2492,2493,2494,2495,2496,2497,2498,2499,2500,2501,2502,2503,2504,2505,2506,2507,2508,2509,2510,2511,2512,2513,2514,2515,2516,2517,2518,2519,2520,2521,2522,2523,2524,2525,2526,2527,2528,2529,2530,2531,2532,2533,2534,2535,2536,2537,2538,2539,2540,2541,2542,2543,2544,2545,2546,2547,2548,2549,2550,2551,2552,2553,2554,2555,2556,2557,2558,2559,2560,2561,2562,2563,2564,2565,2566,2567,2568,2569,2570,2571,2572,2573,2574,2575,2576,2577,2578,2579,2580,2581,2582,2583,2584,2585,2586,2587,2588,2589,2590,2591,2592,2593,2594,2595,2596,2597,2598,2599,2600,2601,2602,2603,2604,2605,2606,2607,2608,2609,2610,2611,2612,2613,2614,2615,2616,2617,2618,2619,2620,2621,2622,2623,2624,2625,2626,2627,2628,2629,2630,2631,2632,2633,2634,2635,2636,2637,2638,2639,2640,2641,2642,2643,2644,2645,2646,2647,2648,2649,2650,2651,2652,2653,2654,2655,2656,2657,2658,2659,2660,2661,2662,2663,2664,2665,2666,2667,2668,2669,2670,2671,2672,2673,2674,2675,2676,2677,2678,2679,2680,2681,2682,2683,2684,2685,2686,2687,2688,2689,2690,2691,2692,2693,2694,2695,2696,2697,2698,2699,2700,2701,2702,2703,2704,2705,2706,2707,2708,2709,2710,2711,2712,2713,2714,2715,2716,2717,2718,2719,2720,2721,2722,2723,2724,2725,2726,2727,2728,2729,2730,2731,2732,2733,2734,2735,2736,2737,2738,2739,2740,2741,2742,2743,2744,2745,2746,2747,2748,2749,2750,2751,2752,2753,2754,2755,2756,2757,2758,2759,2760,2761,2762,2763,2764,2765,2766,2767,2768,2769,2770,2771,2772,2773,2774,2775,2776,2777,2778,2779,2780,2781,2782,2783,2784,2785,2786,2787,2788,2789,2790,2791,2792,2793,2794,2795,2796,2797,2798,2799,2800,2801,2802,2803,2804,2805,2806,2807,2808,2809,2810,2811,2812,2813,2814,2815,2816,2817,2818,2819,2820,2821,2822,2823,2824,2825,2826,2827,2828,2829,2830,2831,2832,2833,2834,2835,2836,2837,2838,2839,2840,2841,2842,2843,2844,2845,2846,2847,2848,2849,2850,2851,2852,2853,2854,2855,2856,2857,2858,2859,2860,2861,2862,2863,2864,2865,2866,2867,2868,2869,2870,2871,2872,2873,2874,2875,2876,2877,2878,2879,2880,2881,2882,2883,2884,2885,2886,2887,2888,2889,2890,2891,2892,2893,2894,2895,2896,2897,2898,2899,2900,2901,2902,2903,2904,2905,2906,2907,2908,2909,2910,2911,2912,2913,2914,2915,2916,2917,2918,2919,2920,2921,2922,2923,2924,2925,2926,2927,2928,2929,2930,2931,2932,2933,2934,2935,2936,2937,2938,2939,2940,2941,2942,2943,2944,2945,2946,2947,2948,2949,2950,2951,2952,2953,2954,2955,2956,2957,2958,2959,2960,2961,2962,2963,2964,2965,2966,2967,2968,2969,2970,2971,2972,2973,2974,2975,2976,2977,2978,2979,2980,2981,2982,2983,2984,2985,2986,2987,2988,2989,2990,2991,2992,2993,2994,2995,2996,2997,2998,2999,3000,3001,3002,3003,3004,3005,3006,3007,3008,3009,3010,3011,3012,3013,3014,3015,3016,3017,3018,3019,3020,3021,3022,3023,3024,3025,3026,3027,3028,3029,3030,3031,3032,3033,3034,3035,3036,3037,3038,3039,3040,3041,3042,3043,3044,3045,3046,3047,3048,3049,3050,3051,3052,3053,3054,3055,3056,3057,3058,3059,3060,3061,3062,3063,3064,3065,3066,3067,3068,3069,3070,3071,3072,3073,3074,3075,3076,3077,3078,3079,3080,3081,3082,3083,3084,3085,3086,3087,3088,3089,3090,3091,3092,3093,3094,3095,3096,3097,3098,3099,3100,3101,3102,3103,3104,3105,3106,3107,3108,3109,3110,3111,3112,3113,3114,3115,3116,3117,3118,3119,3120,3121,3122,3123,3124,3125,3126,3127,3128,3129,3130,3131,3132,3133,3134,3135,3136,3137,3138,3139,3140,3141,3142,3143,3144,3145,3146,3147,3148,3149,3150,3151,3152,3153,3154,3155,3156,3157,3158,3159,3160,3161,3162,3163,3164,3165,3166,3167,3168,3169,3170,3171,3172,3173,3174,3175,3176,3177,3178,3179,3180,3181,3182,3183,3184,3185,3186,3187,3188,3189,3190,3191,3192,3193,3194,3195,3196,3197,3198,3199,3200,3201,3202,3203,3204,3205,3206,3207,3208,3209,3210,3211,3212,3213,3214,3215,3216,3217,3218,3219,3220,3221,3222,3223,3224,3225,3226,3227,3228,3229,3230,3231,3232,3233,3234,3235,3236,3237,3238,3239,3240,3241,3242,3243,3244,3245,3246,3247,3248,3249,3250,3251,3252,3253,3254,3255,3256,3257,3258,3259,3260,3261,3262,3263,3264,3265,3266,3267,3268,3269,3270,3271,3272,3273,3274,3275,3276,3277,3278,3279,3280,3281,3282,3283,3284,3285,3286,3287,3288,3289,3290,3291,3292,3293,3294,3295,3296,3297,3298,3299,3300,3301,3302,3303,3304,3305,3306,3307,3308,3309,3310,3311,3312,3313,3314,3315,3316,3317,3318,3319,3320,3321,3322,3323,3324,3325,3326,3327,3328,3329,3330,3331,3332,3333,3334,3335,3336,3337,3338,3339,3340,3341,3342,3343,3344,3345,3346,3347,3348,3349,3350,3351,3352,3353,3354,3355,3356,3357,3358,3359,3360,3361,3362,3363,3364,3365,3366,3367,3368,3369,3370,3371,3372,3373,3374,3375,3376,3377,3378,3379,3380,3381,3382,3383,3384,3385,3386,3387,3388,3389,3390,3391,3392,3393,3394,3395,3396,3397,3398,3399,3400,3401,3402,3403,3404,3405,3406,3407,3408,3409,3410,3411,3412,3413,3414,3415,3416,3417,3418,3419,3420,3421,3422,3423,3424,3425,3426,3427,3428,3429,3430,3431,3432,3433,3434,3435,3436,3437,3438,3439,3440,3441,3442,3443,3444,3445,3446,3447,3448,3449,3450,3451,3452,3453,3454,3455,3456,3457,3458,3459,3460,3461,3462,3463,3464,3465,3466,3467,3468,3469,3470,3471,3472,3473,3474,3475,3476,3477,3478,3479,3480,3481,3482,3483,3484,3485,3486,3487,3488,3489,3490,3491,3492,3493,3494,3495,3496,3497,3498,3499,3500,3501,3502,3503,3504,3505,3506,3507,3508,3509,3510,3511,3512,3513,3514,3515,3516,3517,3518,3519,3520,3521,3522,3523,3524,3525,3526,3527,3528,3529,3530,3531,3532,3533,3534,3535,3536,3537,3538,3539,3540,3541,3542,3543,3544,3545,3546,3547,3548,3549,3550,3551,3552,3553,3554,3555,3556,3557,3558,3559,3560,3561,3562,3563,3564,3565,3566,3567,3568,3569,3570,3571,3572,3573,3574,3575,3576,3577,3578,3579,3580,3581,3582,3583,3584,3585,3586,3587,3588,3589,3590,3591,3592,3593,3594,3595,3596,3597,3598,3599,3600,3601,3602,3603,3604,3605,3606,3607,3608,3609,3610,3611,3612,3613,3614,3615,3616,3617,3618,3619,3620,3621,3622,3623,3624,3625,3626,3627,3628,3629,3630,3631,3632,3633,3634,3635,3636,3637,3638,3639,3640,3641,3642,3643,3644,3645,3646,3647,3648,3649,3650,3651,3652,3653,3654,3655,3656,3657,3658,3659,3660,3661,3662,3663,3664,3665,3666,3667,3668,3669,3670,3671,3672,3673,3674,3675,3676,3677,3678,3679,3680,3681,3682,3683,3684,3685,3686,3687,3688,3689,3690,3691,3692,3693,3694,3695,3696,3697,3698,3699,3700,3701,3702,3703,3704,3705,3706,3707,3708,3709,3710,3711,3712,3713,3714,3715,3716,3717,3718,3719,3720,3721,3722,3723,3724,3725,3726,3727,3728,3729,3730,3731,3732,3733,3734,3735,3736,3737,3738,3739,3740,3741,3742,3743,3744,3745,3746,3747,3748,3749,3750,3751,3752,3753,3754,3755,3756,3757,3758,3759,3760,3761,3762,3763,3764,3765,3766,3767,3768,3769,3770,3771,3772,3773,3774,3775,3776,3777,3778,3779,3780,3781,3782,3783,3784,3785,3786,3787,3788,3789,3790,3791,3792,3793,3794,3795,3796,3797,3798,3799,3800,3801,3802,3803,3804,3805,3806,3807,3808,3809,3810,3811,3812,3813,3814,3815,3816,3817,3818,3819,3820,3821,3822,3823,3824,3825,3826,3827,3828,3829,3830,3831,3832,3833,3834,3835,3836,3837,3838,3839,3840,3841,3842,3843,3844,3845,3846,3847,3848,3849,3850,3851,3852,3853,3854,3855,3856,3857,3858,3859,3860,3861,3862,3863,3864,3865,3866,3867,3868,3869,3870,3871,3872,3873,3874,3875,3876,3877,3878,3879,3880,3881,3882,3883,3884,3885,3886,3887,3888,3889,3890,3891,3892,3893,3894,3895,3896,3897,3898,3899,3900,3901,3902,3903,3904,3905,3906,3907,3908,3909,3910,3911,3912,3913,3914,3915,3916,3917,3918,3919,3920,3921,3922,3923,3924,3925,3926,3927,3928,3929,3930,3931,3932,3933,3934,3935,3936,3937,3938,3939,3940,3941,3942,3943,3944,3945,3946,3947,3948,3949,3950,3951,3952,3953,3954,3955,3956,3957,3958,3959,3960,3961,3962,3963,3964,3965,3966,3967,3968,3969,3970,3971,3972,3973,3974,3975,3976,3977,3978,3979,3980,3981,3982,3983,3984,3985,3986,3987,3988,3989,3990,3991,3992,3993,3994,3995,3996,3997,3998,3999,4000,4001,4002,4003,4004,4005,4006,4007,4008,4009,4010,4011,4012,4013,4014,4015,4016,4017,4018,4019,4020,4021,4022,4023,4024,4025,4026,4027,4028,4029,4030,4031,4032,4033,4034,4035,4036,4037,4038,4039,4040,4041,4042,4043,4044,4045,4046,4047,4048,4049,4050,4051,4052,4053,4054,4055,4056,4057,4058,4059,4060,4061,4062,4063,4064,4065,4066,4067,4068,4069,4070,4071,4072,4073,4074,4075,4076,4077,4078,4079,4080,4081,4082,4083,4084,4085,4086,4087,4088,4089,4090,4091,4092,4093,4094,4095,4096,4097,4098,4099,4100,4101,4102,4103,4104,4105,4106,4107,4108,4109,4110,4111,4112,4113,4114,4115,4116,4117,4118,4119,4120,4121,4122,4123,4124,4125,4126,4127,4128,4129,4130,4131,4132,4133,4134,4135,4136,4137,4138,4139,4140,4141,4142,4143,4144,4145,4146,4147,4148,4149,4150,4151,4152,4153,4154,4155,4156,4157,4158,4159,4160,4161,4162,4163,4164,4165,4166,4167,4168,4169,4170,4171,4172,4173,4174,4175,4176,4177,4178,4179,4180,4181,4182,4183,4184,4185,4186,4187,4188,4189,4190,4191,4192,4193,4194,4195,4196,4197,4198,4199,4200,4201,4202,4203,4204,4205,4206,4207,4208,4209,4210,4211,4212,4213,4214,4215,4216,4217,4218,4219,4220,4221,4222,4223,4224,4225,4226,4227,4228,4229,4230,4231,4232,4233,4234,4235,4236,4237,4238,4239,4240,4241,4242,4243,4244,4245,4246,4247,4248,4249,4250,4251,4252,4253,4254,4255,4256,4257,4258,4259,4260,4261,4262,4263,4264,4265,4266,4267,4268,4269,4270,4271,4272,4273,4274,4275,4276,4277,4278,4279,4280,4281,4282,4283,4284,4285,4286,4287,4288,4289,4290,4291,4292,4293,4294,4295,4296,4297,4298,4299,4300,4301,4302,4303,4304,4305,4306,4307,4308,4309,4310,4311,4312,4313,4314,4315,4316,4317,4318,4319,4320,4321,4322,4323,4324,4325,4326,4327,4328,4329,4330,4331,4332,4333,4334,4335,4336,4337,4338,4339,4340,4341,4342,4343,4344,4345,4346,4347,4348,4349,4350,4351,4352,4353,4354,4355,4356,4357,4358,4359,4360,4361,4362,4363,4364,4365,4366,4367,4368,4369,4370,4371,4372,4373,4374,4375,4376,4377,4378,4379,4380,4381,4382,4383,4384,4385,4386,4387,4388,4389,4390,4391,4392,4393,4394,4395,4396,4397,4398,4399,4400,4401,4402,4403,4404,4405,4406,4407,4408,4409,4410,4411,4412,4413,4414,4415,4416,4417,4418,4419,4420,4421,4422,4423,4424,4425,4426,4427,4428,4429,4430,4431,4432,4433,4434,4435,4436,4437,4438,4439,4440,4441,4442,4443,4444,4445,4446,4447,4448,4449,4450,4451,4452,4453,4454,4455,4456,4457,4458,4459,4460,4461,4462,4463,4464,4465,4466,4467,4468,4469,4470,4471,4472,4473,4474,4475,4476,4477,4478,4479,4480,4481,4482,4483,4484,4485,4486,4487,4488,4489,4490,4491,4492,4493,4494,4495,4496,4497,4498,4499,4500,4501,4502,4503,4504,4505,4506,4507,4508,4509,4510,4511,4512,4513,4514,4515,4516,4517,4518,4519,4520,4521,4522,4523,4524,4525,4526,4527,4528,4529,4530,4531,4532,4533,4534,4535,4536,4537,4538,4539,4540,4541,4542,4543,4544,4545,4546,4547,4548,4549,4550,4551,4552,4553,4554,4555,4556,4557,4558,4559,4560,4561,4562,4563,4564,4565,4566,4567,4568,4569,4570,4571,4572,4573,4574,4575,4576,4577,4578,4579,4580,4581,4582,4583,4584,4585,4586,4587,4588,4589,4590,4591,4592,4593,4594,4595,4596,4597,4598,4599,4600,4601,4602,4603,4604,4605,4606,4607,4608,4609,4610,4611,4612,4613,4614,4615,4616,4617,4618,4619,4620,4621,4622,4623,4624,4625,4626,4627,4628,4629,4630,4631,4632,4633,4634,4635,4636,4637,4638,4639,4640,4641,4642,4643,4644,4645,4646,4647,4648,4649,4650,4651,4652,4653,4654,4655,4656,4657,4658,4659,4660,4661,4662,4663,4664,4665,4666,4667,4668,4669,4670,4671,4672,4673,4674,4675,4676,4677,4678,4679,4680,4681,4682,4683,4684,4685,4686,4687,4688,4689,4690,4691,4692,4693,4694,4695,4696,4697,4698,4699,4700,4701,4702,4703,4704,4705,4706,4707,4708,4709,4710,4711,4712,4713,4714,4715,4716,4717,4718,4719,4720,4721,4722,4723,4724,4725,4726,4727,4728,4729,4730,4731,4732,4733,4734,4735,4736,4737,4738,4739,4740,4741,4742,4743,4744,4745,4746,4747,4748,4749,4750,4751,4752,4753,4754,4755,4756,4757,4758,4759,4760,4761,4762,4763,4764,4765,4766,4767,4768,4769,4770,4771,4772,4773,4774,4775,4776,4777,4778,4779,4780,4781,4782,4783,4784,4785,4786,4787,4788,4789,4790,4791,4792,4793,4794,4795,4796,4797,4798,4799,4800,4801,4802,4803,4804,4805,4806,4807,4808,4809,4810,4811,4812,4813,4814,4815,4816,4817,4818,4819,4820,4821,4822,4823,4824,4825,4826,4827,4828,4829,4830,4831,4832,4833,4834,4835,4836,4837,4838,4839,4840,4841,4842,4843,4844,4845,4846,4847,4848,4849,4850,4851,4852,4853,4854,4855,4856,4857,4858,4859,4860,4861,4862,4863,4864,4865,4866,4867,4868,4869,4870,4871,4872,4873,4874,4875,4876,4877,4878,4879,4880,4881,4882,4883,4884,4885,4886,4887,4888,4889,4890,4891,4892,4893,4894,4895,4896,4897,4898,4899,4900,4901,4902,4903,4904,4905,4906,4907,4908,4909,4910,4911,4912,4913,4914,4915,4916,4917,4918,4919,4920,4921,4922,4923,4924,4925,4926,4927,4928,4929,4930,4931,4932,4933,4934,4935,4936,4937,4938,4939,4940,4941,4942,4943,4944,4945,4946,4947,4948,4949,4950,4951,4952,4953,4954,4955,4956,4957,4958,4959,4960,4961,4962,4963,4964,4965,4966,4967,4968,4969,4970,4971,4972,4973,4974,4975,4976,4977,4978,4979,4980,4981,4982,4983,4984,4985,4986,4987,4988,4989,4990,4991,4992,4993,4994,4995,4996,4997,4998,4999],\"y\":{\"__ndarray__\":\"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\",\"dtype\":\"float64\",\"order\":\"little\",\"shape\":[5000]}},\"selected\":{\"id\":\"1388\"},\"selection_policy\":{\"id\":\"1387\"}},\"id\":\"1373\",\"type\":\"ColumnDataSource\"},{\"attributes\":{},\"id\":\"1388\",\"type\":\"Selection\"},{\"attributes\":{\"bottom_units\":\"screen\",\"coordinates\":null,\"fill_alpha\":0.5,\"fill_color\":\"lightgrey\",\"group\":null,\"left_units\":\"screen\",\"level\":\"overlay\",\"line_alpha\":1.0,\"line_color\":\"black\",\"line_dash\":[4,4],\"line_width\":2,\"right_units\":\"screen\",\"syncable\":false,\"top_units\":\"screen\"},\"id\":\"1365\",\"type\":\"BoxAnnotation\"},{\"attributes\":{\"axis\":{\"id\":\"1351\"},\"coordinates\":null,\"group\":null,\"ticker\":null},\"id\":\"1354\",\"type\":\"Grid\"},{\"attributes\":{},\"id\":\"1387\",\"type\":\"UnionRenderers\"},{\"attributes\":{\"label\":{\"value\":\"\"},\"renderers\":[{\"id\":\"1377\"}]},\"id\":\"1391\",\"type\":\"LegendItem\"},{\"attributes\":{},\"id\":\"1360\",\"type\":\"WheelZoomTool\"},{\"attributes\":{},\"id\":\"1345\",\"type\":\"DataRange1d\"},{\"attributes\":{},\"id\":\"1386\",\"type\":\"AllLabels\"},{\"attributes\":{\"coordinates\":null,\"group\":null,\"items\":[{\"id\":\"1391\"}]},\"id\":\"1390\",\"type\":\"Legend\"},{\"attributes\":{},\"id\":\"1349\",\"type\":\"LinearScale\"},{\"attributes\":{\"coordinates\":null,\"data_source\":{\"id\":\"1373\"},\"glyph\":{\"id\":\"1374\"},\"group\":null,\"hover_glyph\":null,\"muted_glyph\":{\"id\":\"1376\"},\"nonselection_glyph\":{\"id\":\"1375\"},\"view\":{\"id\":\"1378\"}},\"id\":\"1377\",\"type\":\"GlyphRenderer\"},{\"attributes\":{},\"id\":\"1359\",\"type\":\"PanTool\"},{\"attributes\":{\"axis\":{\"id\":\"1355\"},\"coordinates\":null,\"dimension\":1,\"group\":null,\"ticker\":null},\"id\":\"1358\",\"type\":\"Grid\"},{\"attributes\":{\"coordinates\":null,\"group\":null},\"id\":\"1379\",\"type\":\"Title\"},{\"attributes\":{},\"id\":\"1347\",\"type\":\"LinearScale\"},{\"attributes\":{},\"id\":\"1364\",\"type\":\"HelpTool\"},{\"attributes\":{},\"id\":\"1352\",\"type\":\"BasicTicker\"},{\"attributes\":{},\"id\":\"1362\",\"type\":\"SaveTool\"},{\"attributes\":{},\"id\":\"1363\",\"type\":\"ResetTool\"},{\"attributes\":{\"axis_label\":\"gradient steps on control\",\"coordinates\":null,\"formatter\":{\"id\":\"1385\"},\"group\":null,\"major_label_policy\":{\"id\":\"1386\"},\"ticker\":{\"id\":\"1352\"}},\"id\":\"1351\",\"type\":\"LinearAxis\"},{\"attributes\":{\"overlay\":{\"id\":\"1365\"}},\"id\":\"1361\",\"type\":\"BoxZoomTool\"},{\"attributes\":{\"source\":{\"id\":\"1373\"}},\"id\":\"1378\",\"type\":\"CDSView\"},{\"attributes\":{\"line_color\":\"#1f77b4\",\"line_width\":3,\"x\":{\"field\":\"x\"},\"y\":{\"field\":\"y\"}},\"id\":\"1374\",\"type\":\"Line\"},{\"attributes\":{},\"id\":\"1343\",\"type\":\"DataRange1d\"},{\"attributes\":{\"line_alpha\":0.2,\"line_color\":\"#1f77b4\",\"line_width\":3,\"x\":{\"field\":\"x\"},\"y\":{\"field\":\"y\"}},\"id\":\"1376\",\"type\":\"Line\"},{\"attributes\":{},\"id\":\"1385\",\"type\":\"BasicTickFormatter\"},{\"attributes\":{},\"id\":\"1356\",\"type\":\"BasicTicker\"},{\"attributes\":{\"line_alpha\":0.1,\"line_color\":\"#1f77b4\",\"line_width\":3,\"x\":{\"field\":\"x\"},\"y\":{\"field\":\"y\"}},\"id\":\"1375\",\"type\":\"Line\"},{\"attributes\":{},\"id\":\"1383\",\"type\":\"AllLabels\"},{\"attributes\":{},\"id\":\"1382\",\"type\":\"BasicTickFormatter\"}],\"root_ids\":[\"1342\"]},\"title\":\"Bokeh Application\",\"version\":\"2.4.3\"}};\n",
       "  const render_items = [{\"docid\":\"d4014150-e9e8-45c0-8644-ea5fe6a46699\",\"root_ids\":[\"1342\"],\"roots\":{\"1342\":\"d6bd0730-9459-4bf6-91d7-1670222de5d6\"}}];\n",
       "  root.Bokeh.embed.embed_items_notebook(docs_json, render_items);\n",
       "  }\n",
       "  if (root.Bokeh !== undefined) {\n",
       "    embed_document(root);\n",
       "  } else {\n",
       "    let attempts = 0;\n",
       "    const timer = setInterval(function(root) {\n",
       "      if (root.Bokeh !== undefined) {\n",
       "        clearInterval(timer);\n",
       "        embed_document(root);\n",
       "      } else {\n",
       "        attempts++;\n",
       "        if (attempts > 100) {\n",
       "          clearInterval(timer);\n",
       "          console.log(\"Bokeh: ERROR: Unable to run BokehJS code because BokehJS library is missing\");\n",
       "        }\n",
       "      }\n",
       "    }, 10, root)\n",
       "  }\n",
       "})(window);"
      ],
      "application/vnd.bokehjs_exec.v0+json": ""
     },
     "metadata": {
      "application/vnd.bokehjs_exec.v0+json": {
       "id": "1342"
      }
     },
     "output_type": "display_data"
    }
   ],
   "source": [
    "opt = plot_lines(np.arange(iter_control), (cumulated_reward,), x_axis_label=\"gradient steps on control\", y_axis_label=\"Cumulated reward\")\n",
    "show(opt)"
   ]
  },
  {
   "cell_type": "code",
   "execution_count": 24,
   "metadata": {
    "ExecuteTime": {
     "end_time": "2022-10-18T16:37:12.615333Z",
     "start_time": "2022-10-18T16:37:11.431665Z"
    }
   },
   "outputs": [],
   "source": [
    "W_t_opt = control.get_weights(time_span, get_numpy=True)\n",
    "Loss_t_opt = control.get_loss_function(W_t_opt, get_numpy=True)\n",
    "\n",
    "results_dict[\"W_t_control_opt\"] = W_t_opt\n",
    "results_dict[\"Loss_t_control_opt\"] = Loss_t_opt"
   ]
  },
  {
   "cell_type": "code",
   "execution_count": 25,
   "metadata": {
    "ExecuteTime": {
     "end_time": "2022-10-18T16:37:12.723992Z",
     "start_time": "2022-10-18T16:37:12.616336Z"
    }
   },
   "outputs": [
    {
     "data": {
      "text/html": [
       "\n",
       "  <div class=\"bk-root\" id=\"a20d8e3a-27ba-4782-97d2-4b6545812d65\" data-root-id=\"1485\"></div>\n"
      ]
     },
     "metadata": {},
     "output_type": "display_data"
    },
    {
     "data": {
      "application/javascript": [
       "(function(root) {\n",
       "  function embed_document(root) {\n",
       "  const docs_json = {\"e12759bd-a4c4-4bb9-a4a9-15467b1edc88\":{\"defs\":[],\"roots\":{\"references\":[{\"attributes\":{\"below\":[{\"id\":\"1494\"}],\"center\":[{\"id\":\"1497\"},{\"id\":\"1501\"},{\"id\":\"1533\"}],\"height\":500,\"left\":[{\"id\":\"1498\"}],\"renderers\":[{\"id\":\"1520\"},{\"id\":\"1539\"},{\"id\":\"1559\"}],\"title\":{\"id\":\"1522\"},\"toolbar\":{\"id\":\"1509\"},\"width\":800,\"x_range\":{\"id\":\"1486\"},\"x_scale\":{\"id\":\"1490\"},\"y_range\":{\"id\":\"1488\"},\"y_scale\":{\"id\":\"1492\"}},\"id\":\"1485\",\"subtype\":\"Figure\",\"type\":\"Plot\"},{\"attributes\":{\"line_color\":\"#1f77b4\",\"line_width\":3,\"x\":{\"field\":\"x\"},\"y\":{\"field\":\"y\"}},\"id\":\"1536\",\"type\":\"Line\"},{\"attributes\":{},\"id\":\"1502\",\"type\":\"PanTool\"},{\"attributes\":{\"coordinates\":null,\"group\":null},\"id\":\"1522\",\"type\":\"Title\"},{\"attributes\":{\"data\":{\"x\":[0,1,2,3,4,5,6,7,8,9,10,11,12,13,14,15,16,17,18,19,20,21,22,23,24,25,26,27,28,29,30,31,32,33,34,35,36,37,38,39,40,41,42,43,44,45,46,47,48,49,50,51,52,53,54,55,56,57,58,59,60,61,62,63,64,65,66,67,68,69,70,71,72,73,74,75,76,77,78,79,80,81,82,83,84,85,86,87,88,89,90,91,92,93,94,95,96,97,98,99,100,101,102,103,104,105,106,107,108,109,110,111,112,113,114,115,116,117,118,119,120,121,122,123,124,125,126,127,128,129,130,131,132,133,134,135,136,137,138,139,140,141,142,143,144,145,146,147,148,149,150,151,152,153,154,155,156,157,158,159,160,161,162,163,164,165,166,167,168,169,170,171,172,173,174,175,176,177,178,179,180,181,182,183,184,185,186,187,188,189,190,191,192,193,194,195,196,197,198,199,200,201,202,203,204,205,206,207,208,209,210,211,212,213,214,215,216,217,218,219,220,221,222,223,224,225,226,227,228,229,230,231,232,233,234,235,236,237,238,239,240,241,242,243,244,245,246,247,248,249,250,251,252,253,254,255,256,257,258,259,260,261,262,263,264,265,266,267,268,269,270,271,272,273,274,275,276,277,278,279,280,281,282,283,284,285,286,287,288,289,290,291,292,293,294,295,296,297,298,299,300,301,302,303,304,305,306,307,308,309,310,311,312,313,314,315,316,317,318,319,320,321,322,323,324,325,326,327,328,329,330,331,332,333,334,335,336,337,338,339,340,341,342,343,344,345,346,347,348,349,350,351,352,353,354,355,356,357,358,359,360,361,362,363,364,365,366,367,368,369,370,371,372,373,374,375,376,377,378,379,380,381,382,383,384,385,386,387,388,389,390,391,392,393,394,395,396,397,398,399,400,401,402,403,404,405,406,407,408,409,410,411,412,413,414,415,416,417,418,419,420,421,422,423,424,425,426,427,428,429,430,431,432,433,434,435,436,437,438,439,440,441,442,443,444,445,446,447,448,449,450,451,452,453,454,455,456,457,458,459,460,461,462,463,464,465,466,467,468,469,470,471,472,473,474,475,476,477,478,479,480,481,482,483,484,485,486,487,488,489,490,491,492,493,494,495,496,497,498,499,500,501,502,503,504,505,506,507,508,509,510,511,512,513,514,515,516,517,518,519,520,521,522,523,524,525,526,527,528,529,530,531,532,533,534,535,536,537,538,539,540,541,542,543,544,545,546,547,548,549,550,551,552,553,554,555,556,557,558,559,560,561,562,563,564,565,566,567,568,569,570,571,572,573,574,575,576,577,578,579,580,581,582,583,584,585,586,587,588,589,590,591,592,593,594,595,596,597,598,599],\"y\":{\"__ndarray__\":\"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\",\"dtype\":\"float32\",\"order\":\"little\",\"shape\":[600]}},\"selected\":{\"id\":\"1574\"},\"selection_policy\":{\"id\":\"1573\"}},\"id\":\"1555\",\"type\":\"ColumnDataSource\"},{\"attributes\":{\"overlay\":{\"id\":\"1508\"}},\"id\":\"1504\",\"type\":\"BoxZoomTool\"},{\"attributes\":{\"source\":{\"id\":\"1516\"}},\"id\":\"1521\",\"type\":\"CDSView\"},{\"attributes\":{\"source\":{\"id\":\"1555\"}},\"id\":\"1560\",\"type\":\"CDSView\"},{\"attributes\":{\"data\":{\"x\":[0,1,2,3,4,5,6,7,8,9,10,11,12,13,14,15,16,17,18,19,20,21,22,23,24,25,26,27,28,29,30,31,32,33,34,35,36,37,38,39,40,41,42,43,44,45,46,47,48,49,50,51,52,53,54,55,56,57,58,59,60,61,62,63,64,65,66,67,68,69,70,71,72,73,74,75,76,77,78,79,80,81,82,83,84,85,86,87,88,89,90,91,92,93,94,95,96,97,98,99,100,101,102,103,104,105,106,107,108,109,110,111,112,113,114,115,116,117,118,119,120,121,122,123,124,125,126,127,128,129,130,131,132,133,134,135,136,137,138,139,140,141,142,143,144,145,146,147,148,149,150,151,152,153,154,155,156,157,158,159,160,161,162,163,164,165,166,167,168,169,170,171,172,173,174,175,176,177,178,179,180,181,182,183,184,185,186,187,188,189,190,191,192,193,194,195,196,197,198,199,200,201,202,203,204,205,206,207,208,209,210,211,212,213,214,215,216,217,218,219,220,221,222,223,224,225,226,227,228,229,230,231,232,233,234,235,236,237,238,239,240,241,242,243,244,245,246,247,248,249,250,251,252,253,254,255,256,257,258,259,260,261,262,263,264,265,266,267,268,269,270,271,272,273,274,275,276,277,278,279,280,281,282,283,284,285,286,287,288,289,290,291,292,293,294,295,296,297,298,299,300,301,302,303,304,305,306,307,308,309,310,311,312,313,314,315,316,317,318,319,320,321,322,323,324,325,326,327,328,329,330,331,332,333,334,335,336,337,338,339,340,341,342,343,344,345,346,347,348,349,350,351,352,353,354,355,356,357,358,359,360,361,362,363,364,365,366,367,368,369,370,371,372,373,374,375,376,377,378,379,380,381,382,383,384,385,386,387,388,389,390,391,392,393,394,395,396,397,398,399,400,401,402,403,404,405,406,407,408,409,410,411,412,413,414,415,416,417,418,419,420,421,422,423,424,425,426,427,428,429,430,431,432,433,434,435,436,437,438,439,440,441,442,443,444,445,446,447,448,449,450,451,452,453,454,455,456,457,458,459,460,461,462,463,464,465,466,467,468,469,470,471,472,473,474,475,476,477,478,479,480,481,482,483,484,485,486,487,488,489,490,491,492,493,494,495,496,497,498,499,500,501,502,503,504,505,506,507,508,509,510,511,512,513,514,515,516,517,518,519,520,521,522,523,524,525,526,527,528,529,530,531,532,533,534,535,536,537,538,539,540,541,542,543,544,545,546,547,548,549,550,551,552,553,554,555,556,557,558,559,560,561,562,563,564,565,566,567,568,569,570,571,572,573,574,575,576,577,578,579,580,581,582,583,584,585,586,587,588,589,590,591,592,593,594,595,596,597,598,599],\"y\":{\"__ndarray__\":\"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\",\"dtype\":\"float32\",\"order\":\"little\",\"shape\":[600]}},\"selected\":{\"id\":\"1552\"},\"selection_policy\":{\"id\":\"1551\"}},\"id\":\"1535\",\"type\":\"ColumnDataSource\"},{\"attributes\":{\"label\":{\"value\":\"Approximated Optimized Control\"},\"renderers\":[{\"id\":\"1559\"}]},\"id\":\"1576\",\"type\":\"LegendItem\"},{\"attributes\":{},\"id\":\"1503\",\"type\":\"WheelZoomTool\"},{\"attributes\":{\"source\":{\"id\":\"1535\"}},\"id\":\"1540\",\"type\":\"CDSView\"},{\"attributes\":{\"line_alpha\":0.2,\"line_color\":\"#ff7f0e\",\"line_width\":3,\"x\":{\"field\":\"x\"},\"y\":{\"field\":\"y\"}},\"id\":\"1558\",\"type\":\"Line\"},{\"attributes\":{},\"id\":\"1505\",\"type\":\"SaveTool\"},{\"attributes\":{},\"id\":\"1490\",\"type\":\"LinearScale\"},{\"attributes\":{\"line_alpha\":0.1,\"line_color\":\"#ff7f0e\",\"line_width\":3,\"x\":{\"field\":\"x\"},\"y\":{\"field\":\"y\"}},\"id\":\"1557\",\"type\":\"Line\"},{\"attributes\":{\"line_alpha\":0.2,\"line_color\":\"#1f77b4\",\"line_width\":3,\"x\":{\"field\":\"x\"},\"y\":{\"field\":\"y\"}},\"id\":\"1538\",\"type\":\"Line\"},{\"attributes\":{},\"id\":\"1506\",\"type\":\"ResetTool\"},{\"attributes\":{},\"id\":\"1492\",\"type\":\"LinearScale\"},{\"attributes\":{\"line_alpha\":0.1,\"line_color\":\"#1f77b4\",\"line_width\":3,\"x\":{\"field\":\"x\"},\"y\":{\"field\":\"y\"}},\"id\":\"1537\",\"type\":\"Line\"},{\"attributes\":{\"label\":{\"value\":\"Approximation\"},\"renderers\":[{\"id\":\"1539\"}]},\"id\":\"1554\",\"type\":\"LegendItem\"},{\"attributes\":{},\"id\":\"1573\",\"type\":\"UnionRenderers\"},{\"attributes\":{\"axis\":{\"id\":\"1498\"},\"coordinates\":null,\"dimension\":1,\"group\":null,\"ticker\":null},\"id\":\"1501\",\"type\":\"Grid\"},{\"attributes\":{},\"id\":\"1530\",\"type\":\"UnionRenderers\"},{\"attributes\":{\"bottom_units\":\"screen\",\"coordinates\":null,\"fill_alpha\":0.5,\"fill_color\":\"lightgrey\",\"group\":null,\"left_units\":\"screen\",\"level\":\"overlay\",\"line_alpha\":1.0,\"line_color\":\"black\",\"line_dash\":[4,4],\"line_width\":2,\"right_units\":\"screen\",\"syncable\":false,\"top_units\":\"screen\"},\"id\":\"1508\",\"type\":\"BoxAnnotation\"},{\"attributes\":{},\"id\":\"1552\",\"type\":\"Selection\"},{\"attributes\":{\"coordinates\":null,\"group\":null,\"items\":[{\"id\":\"1534\"},{\"id\":\"1554\"},{\"id\":\"1576\"}]},\"id\":\"1533\",\"type\":\"Legend\"},{\"attributes\":{\"axis\":{\"id\":\"1494\"},\"coordinates\":null,\"group\":null,\"ticker\":null},\"id\":\"1497\",\"type\":\"Grid\"},{\"attributes\":{\"label\":{\"value\":\"Real Non-linear\"},\"renderers\":[{\"id\":\"1520\"}]},\"id\":\"1534\",\"type\":\"LegendItem\"},{\"attributes\":{},\"id\":\"1495\",\"type\":\"BasicTicker\"},{\"attributes\":{\"data\":{\"x\":[0,1,2,3,4,5,6,7,8,9,10,11,12,13,14,15,16,17,18,19,20,21,22,23,24,25,26,27,28,29,30,31,32,33,34,35,36,37,38,39,40,41,42,43,44,45,46,47,48,49,50,51,52,53,54,55,56,57,58,59,60,61,62,63,64,65,66,67,68,69,70,71,72,73,74,75,76,77,78,79,80,81,82,83,84,85,86,87,88,89,90,91,92,93,94,95,96,97,98,99,100,101,102,103,104,105,106,107,108,109,110,111,112,113,114,115,116,117,118,119,120,121,122,123,124,125,126,127,128,129,130,131,132,133,134,135,136,137,138,139,140,141,142,143,144,145,146,147,148,149,150,151,152,153,154,155,156,157,158,159,160,161,162,163,164,165,166,167,168,169,170,171,172,173,174,175,176,177,178,179,180,181,182,183,184,185,186,187,188,189,190,191,192,193,194,195,196,197,198,199,200,201,202,203,204,205,206,207,208,209,210,211,212,213,214,215,216,217,218,219,220,221,222,223,224,225,226,227,228,229,230,231,232,233,234,235,236,237,238,239,240,241,242,243,244,245,246,247,248,249,250,251,252,253,254,255,256,257,258,259,260,261,262,263,264,265,266,267,268,269,270,271,272,273,274,275,276,277,278,279,280,281,282,283,284,285,286,287,288,289,290,291,292,293,294,295,296,297,298,299,300,301,302,303,304,305,306,307,308,309,310,311,312,313,314,315,316,317,318,319,320,321,322,323,324,325,326,327,328,329,330,331,332,333,334,335,336,337,338,339,340,341,342,343,344,345,346,347,348,349,350,351,352,353,354,355,356,357,358,359,360,361,362,363,364,365,366,367,368,369,370,371,372,373,374,375,376,377,378,379,380,381,382,383,384,385,386,387,388,389,390,391,392,393,394,395,396,397,398,399,400,401,402,403,404,405,406,407,408,409,410,411,412,413,414,415,416,417,418,419,420,421,422,423,424,425,426,427,428,429,430,431,432,433,434,435,436,437,438,439,440,441,442,443,444,445,446,447,448,449,450,451,452,453,454,455,456,457,458,459,460,461,462,463,464,465,466,467,468,469,470,471,472,473,474,475,476,477,478,479,480,481,482,483,484,485,486,487,488,489,490,491,492,493,494,495,496,497,498,499,500,501,502,503,504,505,506,507,508,509,510,511,512,513,514,515,516,517,518,519,520,521,522,523,524,525,526,527,528,529,530,531,532,533,534,535,536,537,538,539,540,541,542,543,544,545,546,547,548,549,550,551,552,553,554,555,556,557,558,559,560,561,562,563,564,565,566,567,568,569,570,571,572,573,574,575,576,577,578,579,580,581,582,583,584,585,586,587,588,589,590,591,592,593,594,595,596,597,598,599],\"y\":{\"__ndarray__\":\"AAAAP7Xx/T6x//s+usT5PnNk9z7lkfU+QpLzPif+8D5Uk/A+mQ7tPiFQ6z40G+s+yQLpPkYD5T6rBuY+QQjjPtIt4D5HMt8+uPPePg+I2z41Itw+yp3YPuYt1z5OydM+xtLTPk5m0T57/c4+U8rSPtUbzj7xZcs+A6XJPgV8yT7Ltcg+DDjHPsziwT6VWsY+51zGPlH7vz4wHb8+XhzCPsGMuz7kTLE+rSm9PpEDuj6tYrQ+wA63Pr4xsz790a4+l92tPhQurD5YL7E+XT20PhMQrz5KBqc+mXuwPiDxqD5/Nqk+ggeoPryFoz6Cap8+d12gPvA5pz77b6A+YAOfPgkZnD7fNKI+4m2dPkaglz5rXJk+3aObPo9nkT4ilp0+CjucPpD5kD78aIo+RdyRPqnOkD6ra4Q+NKSSPqk4jj6YC44+4P2SPvnRij7L0Yg+Hz6CPnW0hz74u4c+89yMPhJXgz5pnIw++LaLPhEjfT6XbHo+LDGDPiY1ez4kb3c+PMlzPlOpgT45j4I+8GGBPjQNdT78JnE+KEJ0Pht5bT5FwF4+4a91Pj9MdT4+9mQ+qQ5mPnoQdD4aIF8+k4FpPtWcUz5QyWk+CXJqPgI+Wj4l924+yGtpPoFEVT5OAF4+G5thPmwVXD7x42I+VNdmPsPkTz6eQ1o++rtZPpdLWT6/J1g+HcRSPtlkYz5H2D8+XXNKPpu0Zj6JCVA+3Z9SPhwiUz7WmT8+V5JQPoa9PD6SAE0+V/A/Pji/ST7KmlU+p9JEPjtjQD6z9TY+pVBHPiajST7xWTw+gntMPghdND4qB08+eEtCPmpWMT5nezY+0x5MPshQRz6/QjY+SzZGPgwLMj4QUyc+8K0wPgw+Pj6jSDM+t8UvPsCANz5MqUA+sg00PgtoJT7KeiY+PBVBPsqoLj7K7C8+lEw4PjCeMj6TMSU+HyAvPnGSKD5pNiM+s1YXPj/pIz5cnCg+CtsPPrd1Ij719yU+FekiPrjuMT45kzY+6HErPrsdKT77zSc+y6g1PpYNLz72KBM+o+gwPj7EJz7OPTI+YmwbPkQlJj64xio+FJczPsiOHz5Gsjc+mP0QPhdKET6HGi8+X5QhPqWwHT6tBDU+hsMOPsggGj53sg0+ugogPrzCHz7FAA0+go8JPp+aET4PRO89iW4xPmbxCD6p/RY+H3P+PeR7IT64ZSo+YvUaPl1FED4kFxo+7xIjPoLbDj4toxY+zebwPVf0Cj7LShQ+Jk8WPvU9Lj5NfB4+H/kLPk40DT6CfxA+4scJPqo1Bz6/XxE+/HwHPkDNLj7pTSI+bh3gPW5YET6ejRA+YewVPrD8ET6apAw+QfcFPnqo2z3+tx8+4fUsPuZ9FD64HA0+l+8HPpjOCj6QmAY+Hh4mPiSBAT4E1Qc+nzYNPiR8Aj5Z5Qs+7i0MPrDD6D21rgM+mRYDPtdmBj55RPc9kabqPYMdAD6BNQA+eD7pPcuNAj5Anxc+h3QFPmWK/D0GJfs9ZufjPZPZDz6Bxvc9BwUHPppQBj6ZC+g9MzUDPt3WEz74Qg8+s3cQPuaS/T2n6RU+DmgRPlCB9z31U/E9QEjiPVDO9z3kIgM+vJz5PZQ1+D0JLRM+PVDePeKuCD7cQQI+LhD2PdJr2z3UgvE94M0QPjXECT6auQU+t5sNPlMnBj56KPc9u43jPeYjxz1qIP892bYNPgmhAj7z+/g9AkjrPQ148T0sme09apYIPtHvBT4aPeU9T50GPuCNAz5EfAU+juMLPqpDCD73TL49tXULPna89j3zUvw9iK/rPeCrBT7aGAA+zSjxPcvV4z0ANc89Fy4XPj+oyz1wjgU+ohHSPTRe4D0Vtfg9ievkPQ/P9T1myOg9csLyPRlk9D3TFAE+c9TdPUjU8j1y6uc99ejrPVX91j1bqgs+l1wBPhos+D0+2u89KGzYPW80AT4P2uU9hQPjPYGw0T2kjt49EjXbPa/q6D19Rgw+7DbRPYVH1j2rn9Q9HmryPcxDuT1FtQw+qc3ePVA76z282es9Dm37PUOU/j1Qc+A9li4FPsO9yD022fI990z0PcKZBj5HTO09qPfEPUu79D24itc9Dd/RPUuV1T3SVPg9jk/YPR432D2YofE9TursPZ62Cj7jFN49luPYPYBN5T3tNe09iJTGPQC+3T0ZGeE9+IHVPQT33j1QywE+eivtPUYm3z0S/+A9ymrtPccx8T23p9k95yvRPWPmAj5wZ+w9wC33PbO94T2+FwI+1v7SPSpW2z1vgfY9U1gCPl+q3T1CFNA9+2LxPQAi7j2ky8w9NA7fPTi42j3S+NI93Q3PPay+1j2mC8Q9OMC1PZbD2D2Ps8Y9MvPtPVkw1T1qiec963bgPfB35T1Q1eU9BksFPt0C6j2G5wE+dUYEPmPx+z22WPQ9uHjCPfXa7D3DLM09ZEbOPezQ1z3sQtA9ccTOPcWj8j2WzBE+TQXxPcs26j2zSAY+KfjYPZt33j3bTdk9mLIMPutA3D1vWOU9jzoCPoS0Az7up909FOP1PfJ51z1gCNM9kKDaPfmv2D3Eedk9IlQAPhveAT4MU8A9TjXSPRCCvT1UVuQ9hYXrPdac4D0ENc89AYrxPRDa0T1WquI9sCfjPaAE3j3r2cg9lF4HPtFP8D0mXdU9emKvPZaICj52Zsg9oby/PSo89j3s99Y95acMPm3eqT2mfuo9UZvhPTiZ3D3aA+Q9NSjbPbbhvT2u5s89Xl/5PQRu3z0WP+I913T/Pemj5z0kmNU9YL7tPSqP1z1lIdE9vaboPQ539T2BQfA9u53KPSG4/j1+KuM9tKzmPX+P5T3NR/09v5ndPW3wzz2mcdE9LnbgPVXKwT0KTOk9TfHHPZPB3z0EvcA9HDTxPZt76D1+weU9pNXsPcwKuz0NG+Q9FIXqPepJ6T36i9Y9SE7ePbeV5z3hrNE9VQr8PcBf9D1fvfM910TwPe8i4D35wdY9yiP6PVoNzz3IorQ9AE/UPcTj4j2LF7w9ZX/ePVHM8z2njfk9bQWpPcYcBD7ZOvU9wLDhPaZr4T1NidU92EHZPdqj5z0f9OA9Hl/NPSC8tD3hm+Y9UITbPUou7T1i1sA9N4PDPelpAj4aN7Y95a/7PcLjuD1mgvI9BhrwPS/98j34rdY9awAEPpwn8T1q+AI+KFcEPn4J/j0KquQ9urv+PVC57T0NNvo9\",\"dtype\":\"float32\",\"order\":\"little\",\"shape\":[600]}},\"selected\":{\"id\":\"1531\"},\"selection_policy\":{\"id\":\"1530\"}},\"id\":\"1516\",\"type\":\"ColumnDataSource\"},{\"attributes\":{\"axis_label\":\"iters\",\"coordinates\":null,\"formatter\":{\"id\":\"1528\"},\"group\":null,\"major_label_policy\":{\"id\":\"1529\"},\"ticker\":{\"id\":\"1495\"}},\"id\":\"1494\",\"type\":\"LinearAxis\"},{\"attributes\":{},\"id\":\"1525\",\"type\":\"BasicTickFormatter\"},{\"attributes\":{},\"id\":\"1486\",\"type\":\"DataRange1d\"},{\"attributes\":{\"line_alpha\":0.1,\"line_color\":\"#1f77b4\",\"line_width\":3,\"x\":{\"field\":\"x\"},\"y\":{\"field\":\"y\"}},\"id\":\"1518\",\"type\":\"Line\"},{\"attributes\":{},\"id\":\"1574\",\"type\":\"Selection\"},{\"attributes\":{},\"id\":\"1531\",\"type\":\"Selection\"},{\"attributes\":{},\"id\":\"1526\",\"type\":\"AllLabels\"},{\"attributes\":{},\"id\":\"1488\",\"type\":\"DataRange1d\"},{\"attributes\":{},\"id\":\"1499\",\"type\":\"BasicTicker\"},{\"attributes\":{},\"id\":\"1528\",\"type\":\"BasicTickFormatter\"},{\"attributes\":{\"axis_label\":\"Loss\",\"coordinates\":null,\"formatter\":{\"id\":\"1525\"},\"group\":null,\"major_label_policy\":{\"id\":\"1526\"},\"ticker\":{\"id\":\"1499\"}},\"id\":\"1498\",\"type\":\"LinearAxis\"},{\"attributes\":{},\"id\":\"1529\",\"type\":\"AllLabels\"},{\"attributes\":{\"line_alpha\":0.2,\"line_color\":\"#1f77b4\",\"line_width\":3,\"x\":{\"field\":\"x\"},\"y\":{\"field\":\"y\"}},\"id\":\"1519\",\"type\":\"Line\"},{\"attributes\":{\"coordinates\":null,\"data_source\":{\"id\":\"1516\"},\"glyph\":{\"id\":\"1517\"},\"group\":null,\"hover_glyph\":null,\"muted_glyph\":{\"id\":\"1519\"},\"nonselection_glyph\":{\"id\":\"1518\"},\"view\":{\"id\":\"1521\"}},\"id\":\"1520\",\"type\":\"GlyphRenderer\"},{\"attributes\":{\"coordinates\":null,\"data_source\":{\"id\":\"1555\"},\"glyph\":{\"id\":\"1556\"},\"group\":null,\"hover_glyph\":null,\"muted_glyph\":{\"id\":\"1558\"},\"nonselection_glyph\":{\"id\":\"1557\"},\"view\":{\"id\":\"1560\"}},\"id\":\"1559\",\"type\":\"GlyphRenderer\"},{\"attributes\":{\"tools\":[{\"id\":\"1502\"},{\"id\":\"1503\"},{\"id\":\"1504\"},{\"id\":\"1505\"},{\"id\":\"1506\"},{\"id\":\"1507\"}]},\"id\":\"1509\",\"type\":\"Toolbar\"},{\"attributes\":{\"line_alpha\":0.3,\"line_color\":\"#1f77b4\",\"line_width\":3,\"x\":{\"field\":\"x\"},\"y\":{\"field\":\"y\"}},\"id\":\"1517\",\"type\":\"Line\"},{\"attributes\":{},\"id\":\"1551\",\"type\":\"UnionRenderers\"},{\"attributes\":{\"line_color\":\"#ff7f0e\",\"line_width\":3,\"x\":{\"field\":\"x\"},\"y\":{\"field\":\"y\"}},\"id\":\"1556\",\"type\":\"Line\"},{\"attributes\":{\"coordinates\":null,\"data_source\":{\"id\":\"1535\"},\"glyph\":{\"id\":\"1536\"},\"group\":null,\"hover_glyph\":null,\"muted_glyph\":{\"id\":\"1538\"},\"nonselection_glyph\":{\"id\":\"1537\"},\"view\":{\"id\":\"1540\"}},\"id\":\"1539\",\"type\":\"GlyphRenderer\"},{\"attributes\":{},\"id\":\"1507\",\"type\":\"HelpTool\"}],\"root_ids\":[\"1485\"]},\"title\":\"Bokeh Application\",\"version\":\"2.4.3\"}};\n",
       "  const render_items = [{\"docid\":\"e12759bd-a4c4-4bb9-a4a9-15467b1edc88\",\"root_ids\":[\"1485\"],\"roots\":{\"1485\":\"a20d8e3a-27ba-4782-97d2-4b6545812d65\"}}];\n",
       "  root.Bokeh.embed.embed_items_notebook(docs_json, render_items);\n",
       "  }\n",
       "  if (root.Bokeh !== undefined) {\n",
       "    embed_document(root);\n",
       "  } else {\n",
       "    let attempts = 0;\n",
       "    const timer = setInterval(function(root) {\n",
       "      if (root.Bokeh !== undefined) {\n",
       "        clearInterval(timer);\n",
       "        embed_document(root);\n",
       "      } else {\n",
       "        attempts++;\n",
       "        if (attempts > 100) {\n",
       "          clearInterval(timer);\n",
       "          console.log(\"Bokeh: ERROR: Unable to run BokehJS code because BokehJS library is missing\");\n",
       "        }\n",
       "      }\n",
       "    }, 10, root)\n",
       "  }\n",
       "})(window);"
      ],
      "application/vnd.bokehjs_exec.v0+json": ""
     },
     "metadata": {
      "application/vnd.bokehjs_exec.v0+json": {
       "id": "1485"
      }
     },
     "output_type": "display_data"
    }
   ],
   "source": [
    "losses = (loss, Loss_t, Loss_t_opt)\n",
    "colors = (Category10[10][0], Category10[10][0], Category10[10][1])\n",
    "legends = (\"Real Non-linear\", \"Approximation\", \"Approximated Optimized Control\")\n",
    "alphas = (0.3, 1, 1)\n",
    "\n",
    "s = plot_lines(iters, losses, legends, alphas, colors)\n",
    "show(s)"
   ]
  },
  {
   "cell_type": "code",
   "execution_count": 26,
   "metadata": {
    "ExecuteTime": {
     "end_time": "2022-10-18T16:37:12.726990Z",
     "start_time": "2022-10-18T16:37:12.724984Z"
    }
   },
   "outputs": [],
   "source": [
    "g_tilda = control.g_tilda.detach()\n",
    "control_signal = g_tilda\n",
    "W_0 = control_params[\"init_weights\"]\n",
    "results_dict[\"control_signal\"] = control_signal"
   ]
  },
  {
   "cell_type": "code",
   "execution_count": 27,
   "metadata": {
    "ExecuteTime": {
     "end_time": "2022-10-18T16:37:12.733301Z",
     "start_time": "2022-10-18T16:37:12.731075Z"
    }
   },
   "outputs": [],
   "source": [
    "reset_model_params = model_params.copy()\n",
    "reset_model_params[\"W_0\"] = W_0\n",
    "\n",
    "reset_model = SingleLayerNet(**reset_model_params)"
   ]
  },
  {
   "cell_type": "code",
   "execution_count": 28,
   "metadata": {
    "ExecuteTime": {
     "end_time": "2022-10-18T16:37:16.745269Z",
     "start_time": "2022-10-18T16:37:12.734988Z"
    }
   },
   "outputs": [
    {
     "name": "stderr",
     "output_type": "stream",
     "text": [
      "100%|██████████████████████████████████████████████████████████████████████████████████████████████████████████████████████████████████████████████████████████████████████████| 600/600 [00:00<00:00, 1602.24it/s]\n"
     ]
    }
   ],
   "source": [
    "iters, loss_OPT, weights_iter_OPT, weights_OPT = single_layer_training(model=reset_model,\n",
    "                                                                       dataset=dataset,\n",
    "                                                                       n_steps=n_steps,\n",
    "                                                                       save_weights_every=save_weights_every,\n",
    "                                                                       control_signal=control_signal)\n",
    "results_dict[\"Loss_t_sim_OPT\"] = loss_OPT\n",
    "results_dict[\"weights_sim_OPT\"] = weights_OPT\n",
    "results_dict[\"weights_iters_sim_OPT\"] = weights_iter_OPT\n",
    "results_dict[\"iters_OPT\"] = iters"
   ]
  },
  {
   "cell_type": "code",
   "execution_count": 29,
   "metadata": {
    "ExecuteTime": {
     "end_time": "2022-10-18T16:37:16.873109Z",
     "start_time": "2022-10-18T16:37:16.746556Z"
    }
   },
   "outputs": [
    {
     "data": {
      "text/html": [
       "\n",
       "  <div class=\"bk-root\" id=\"469a11d5-1377-454f-8ecf-c558297c891e\" data-root-id=\"1705\"></div>\n"
      ]
     },
     "metadata": {},
     "output_type": "display_data"
    },
    {
     "data": {
      "application/javascript": [
       "(function(root) {\n",
       "  function embed_document(root) {\n",
       "  const docs_json = {\"5e8a6236-13f7-4e60-80c0-b7dbb7001202\":{\"defs\":[],\"roots\":{\"references\":[{\"attributes\":{\"below\":[{\"id\":\"1714\"}],\"center\":[{\"id\":\"1717\"},{\"id\":\"1721\"},{\"id\":\"1753\"}],\"height\":500,\"left\":[{\"id\":\"1718\"}],\"renderers\":[{\"id\":\"1740\"},{\"id\":\"1759\"},{\"id\":\"1779\"},{\"id\":\"1801\"}],\"title\":{\"id\":\"1742\"},\"toolbar\":{\"id\":\"1729\"},\"width\":800,\"x_range\":{\"id\":\"1706\"},\"x_scale\":{\"id\":\"1710\"},\"y_range\":{\"id\":\"1708\"},\"y_scale\":{\"id\":\"1712\"}},\"id\":\"1705\",\"subtype\":\"Figure\",\"type\":\"Plot\"},{\"attributes\":{},\"id\":\"1746\",\"type\":\"AllLabels\"},{\"attributes\":{},\"id\":\"1748\",\"type\":\"BasicTickFormatter\"},{\"attributes\":{},\"id\":\"1749\",\"type\":\"AllLabels\"},{\"attributes\":{\"bottom_units\":\"screen\",\"coordinates\":null,\"fill_alpha\":0.5,\"fill_color\":\"lightgrey\",\"group\":null,\"left_units\":\"screen\",\"level\":\"overlay\",\"line_alpha\":1.0,\"line_color\":\"black\",\"line_dash\":[4,4],\"line_width\":2,\"right_units\":\"screen\",\"syncable\":false,\"top_units\":\"screen\"},\"id\":\"1728\",\"type\":\"BoxAnnotation\"},{\"attributes\":{\"coordinates\":null,\"group\":null},\"id\":\"1742\",\"type\":\"Title\"},{\"attributes\":{\"line_alpha\":0.3,\"line_color\":\"#ff7f0e\",\"line_width\":3,\"x\":{\"field\":\"x\"},\"y\":{\"field\":\"y\"}},\"id\":\"1798\",\"type\":\"Line\"},{\"attributes\":{\"coordinates\":null,\"data_source\":{\"id\":\"1775\"},\"glyph\":{\"id\":\"1776\"},\"group\":null,\"hover_glyph\":null,\"muted_glyph\":{\"id\":\"1778\"},\"nonselection_glyph\":{\"id\":\"1777\"},\"view\":{\"id\":\"1780\"}},\"id\":\"1779\",\"type\":\"GlyphRenderer\"},{\"attributes\":{\"coordinates\":null,\"data_source\":{\"id\":\"1797\"},\"glyph\":{\"id\":\"1798\"},\"group\":null,\"hover_glyph\":null,\"muted_glyph\":{\"id\":\"1800\"},\"nonselection_glyph\":{\"id\":\"1799\"},\"view\":{\"id\":\"1802\"}},\"id\":\"1801\",\"type\":\"GlyphRenderer\"},{\"attributes\":{\"label\":{\"value\":\"Real Non-linear\"},\"renderers\":[{\"id\":\"1740\"}]},\"id\":\"1754\",\"type\":\"LegendItem\"},{\"attributes\":{\"coordinates\":null,\"data_source\":{\"id\":\"1755\"},\"glyph\":{\"id\":\"1756\"},\"group\":null,\"hover_glyph\":null,\"muted_glyph\":{\"id\":\"1758\"},\"nonselection_glyph\":{\"id\":\"1757\"},\"view\":{\"id\":\"1760\"}},\"id\":\"1759\",\"type\":\"GlyphRenderer\"},{\"attributes\":{\"data\":{\"x\":[0,1,2,3,4,5,6,7,8,9,10,11,12,13,14,15,16,17,18,19,20,21,22,23,24,25,26,27,28,29,30,31,32,33,34,35,36,37,38,39,40,41,42,43,44,45,46,47,48,49,50,51,52,53,54,55,56,57,58,59,60,61,62,63,64,65,66,67,68,69,70,71,72,73,74,75,76,77,78,79,80,81,82,83,84,85,86,87,88,89,90,91,92,93,94,95,96,97,98,99,100,101,102,103,104,105,106,107,108,109,110,111,112,113,114,115,116,117,118,119,120,121,122,123,124,125,126,127,128,129,130,131,132,133,134,135,136,137,138,139,140,141,142,143,144,145,146,147,148,149,150,151,152,153,154,155,156,157,158,159,160,161,162,163,164,165,166,167,168,169,170,171,172,173,174,175,176,177,178,179,180,181,182,183,184,185,186,187,188,189,190,191,192,193,194,195,196,197,198,199,200,201,202,203,204,205,206,207,208,209,210,211,212,213,214,215,216,217,218,219,220,221,222,223,224,225,226,227,228,229,230,231,232,233,234,235,236,237,238,239,240,241,242,243,244,245,246,247,248,249,250,251,252,253,254,255,256,257,258,259,260,261,262,263,264,265,266,267,268,269,270,271,272,273,274,275,276,277,278,279,280,281,282,283,284,285,286,287,288,289,290,291,292,293,294,295,296,297,298,299,300,301,302,303,304,305,306,307,308,309,310,311,312,313,314,315,316,317,318,319,320,321,322,323,324,325,326,327,328,329,330,331,332,333,334,335,336,337,338,339,340,341,342,343,344,345,346,347,348,349,350,351,352,353,354,355,356,357,358,359,360,361,362,363,364,365,366,367,368,369,370,371,372,373,374,375,376,377,378,379,380,381,382,383,384,385,386,387,388,389,390,391,392,393,394,395,396,397,398,399,400,401,402,403,404,405,406,407,408,409,410,411,412,413,414,415,416,417,418,419,420,421,422,423,424,425,426,427,428,429,430,431,432,433,434,435,436,437,438,439,440,441,442,443,444,445,446,447,448,449,450,451,452,453,454,455,456,457,458,459,460,461,462,463,464,465,466,467,468,469,470,471,472,473,474,475,476,477,478,479,480,481,482,483,484,485,486,487,488,489,490,491,492,493,494,495,496,497,498,499,500,501,502,503,504,505,506,507,508,509,510,511,512,513,514,515,516,517,518,519,520,521,522,523,524,525,526,527,528,529,530,531,532,533,534,535,536,537,538,539,540,541,542,543,544,545,546,547,548,549,550,551,552,553,554,555,556,557,558,559,560,561,562,563,564,565,566,567,568,569,570,571,572,573,574,575,576,577,578,579,580,581,582,583,584,585,586,587,588,589,590,591,592,593,594,595,596,597,598,599],\"y\":{\"__ndarray__\":\"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\",\"dtype\":\"float32\",\"order\":\"little\",\"shape\":[600]}},\"selected\":{\"id\":\"1751\"},\"selection_policy\":{\"id\":\"1750\"}},\"id\":\"1736\",\"type\":\"ColumnDataSource\"},{\"attributes\":{\"data\":{\"x\":[0,1,2,3,4,5,6,7,8,9,10,11,12,13,14,15,16,17,18,19,20,21,22,23,24,25,26,27,28,29,30,31,32,33,34,35,36,37,38,39,40,41,42,43,44,45,46,47,48,49,50,51,52,53,54,55,56,57,58,59,60,61,62,63,64,65,66,67,68,69,70,71,72,73,74,75,76,77,78,79,80,81,82,83,84,85,86,87,88,89,90,91,92,93,94,95,96,97,98,99,100,101,102,103,104,105,106,107,108,109,110,111,112,113,114,115,116,117,118,119,120,121,122,123,124,125,126,127,128,129,130,131,132,133,134,135,136,137,138,139,140,141,142,143,144,145,146,147,148,149,150,151,152,153,154,155,156,157,158,159,160,161,162,163,164,165,166,167,168,169,170,171,172,173,174,175,176,177,178,179,180,181,182,183,184,185,186,187,188,189,190,191,192,193,194,195,196,197,198,199,200,201,202,203,204,205,206,207,208,209,210,211,212,213,214,215,216,217,218,219,220,221,222,223,224,225,226,227,228,229,230,231,232,233,234,235,236,237,238,239,240,241,242,243,244,245,246,247,248,249,250,251,252,253,254,255,256,257,258,259,260,261,262,263,264,265,266,267,268,269,270,271,272,273,274,275,276,277,278,279,280,281,282,283,284,285,286,287,288,289,290,291,292,293,294,295,296,297,298,299,300,301,302,303,304,305,306,307,308,309,310,311,312,313,314,315,316,317,318,319,320,321,322,323,324,325,326,327,328,329,330,331,332,333,334,335,336,337,338,339,340,341,342,343,344,345,346,347,348,349,350,351,352,353,354,355,356,357,358,359,360,361,362,363,364,365,366,367,368,369,370,371,372,373,374,375,376,377,378,379,380,381,382,383,384,385,386,387,388,389,390,391,392,393,394,395,396,397,398,399,400,401,402,403,404,405,406,407,408,409,410,411,412,413,414,415,416,417,418,419,420,421,422,423,424,425,426,427,428,429,430,431,432,433,434,435,436,437,438,439,440,441,442,443,444,445,446,447,448,449,450,451,452,453,454,455,456,457,458,459,460,461,462,463,464,465,466,467,468,469,470,471,472,473,474,475,476,477,478,479,480,481,482,483,484,485,486,487,488,489,490,491,492,493,494,495,496,497,498,499,500,501,502,503,504,505,506,507,508,509,510,511,512,513,514,515,516,517,518,519,520,521,522,523,524,525,526,527,528,529,530,531,532,533,534,535,536,537,538,539,540,541,542,543,544,545,546,547,548,549,550,551,552,553,554,555,556,557,558,559,560,561,562,563,564,565,566,567,568,569,570,571,572,573,574,575,576,577,578,579,580,581,582,583,584,585,586,587,588,589,590,591,592,593,594,595,596,597,598,599],\"y\":{\"__ndarray__\":\"x0nyPijVrD7qrYE+C9tRPnoCNz4S0Rs+kf8pPn9ZBj7Mvgk+YZQSPu9IBD7eyug9YP4DPuYpAj7ODwI+dmEAPox9Bj5MBtc9vq/rPfJM/D1Eo/Q97hbmPZcv3T0+1AM+RyPlPXcNAD6XavA9x134PQezAj5QXNM9huTGPdQK8z3fId49EaPlPVI6BD7/qwc+Ikz/PZlO5D0odL498pfnPWg+4T1T5889YFHePb/F6j16Nuo9q23XPcOQAT7KIgM+StrOPYinyT1XCeA9qhf2PVgD9z0b+8M9IP7pPSva2z1nuOw9cBv0PZ+B6T3/v8k9FKX5PTza8D0OagQ+iXzNPf4R6z2giLM9oB7dPdoC6D0AuNA9xVe1PQMK4T0lYOo9yPLuPcyWwj2PUM09NLjaPdorsj1i2+M94xH3Pdcz4z3l2/c9PdHZPUG44T0yntk9BgngPe0N/j23rPA9HyqxPSyu0T26ivg90iLGPUAX2D2f0uM9TkrXPQcAAz5a+u8950TKPUbn4z0dicE97WXfPdYnuD2qBfo9i+DLPekuyj2DDrY9CE/gPdoAyj2g7cU95MrcPWLK6T0OOsI9MHPSPSt61T0gh/A9fCncPUqS4z2Sjd899jPtPU7gsz00Bco9EV7SPat53j1bC8U9Rfb3PWSbuj2VyPI9wYfEPRu65z1xZ9A9T/DKPefnvT2Tyvs9rRyzPaR4wj2Qv+89/2rDPSDXuD2b+OA9RI6vPU5Rvz05etI9cYTCPQaaxT2dRrA9qq7WPQ5T4j3RNOc95oXgPRRymj2ebcs97my6PZnuwz0fN8g9Li/xPdelyz2VS+M90zDEPS9R5T3uGdg9aJvGPanwvT3NHcE92r8GPgG04j1JoMs9WMrCPeFo1T1nWds95UzXPTgbwz1vyNc9gZi6PbPSyD0y48Y9m7qwPVsz1D3vP7U9MifdPaPs7j293so98VjSPWslrj3ow+U9O7K7PeIe1z3209k9O5fFPUK7wD0qicM96JGxPe6RyD16+sM9bUW2Pb6UyT3yhtI9da68PRCgvz1ZT+k9u+TKPfD70z2ny+Y9hoy9PSQx1D1yuvw91T7xPTfH4T3QHrc9s03fPckc7z3P18k9b9rOPTB7+z1agsc9fiX4PcPs3T1B0to9zfHaPZzlyz1HWro929zePQkoyD2H8r4912jZPQkeyz2bGeM9WD+tPcYA6j0ty/E9h3kAPq8r2j19KOM9RE78PSnzyj29kek9GvXXPf81uT2E8ME9cgrmPZau6j1eQ7w9CcnYPVXAwz0+98k9pqTZPd0U1z0q8989zXe8Pb0eAD5GyOI9sHndPenN2j0vNek9d6ICPl4bsT3mYfk9yf2cPUmWyz1Tb+U9BZO9PWm0sz3XVdE9/pfWPfsHyD26rts9gGjoPddowD3SauA9T3jsPRuV3z1BYt09mvzYPUOv0z3QA8g9JxraPVaf0z1U/NI9iqvSPTE9yz1mJrc9ezD4Pb2lpz0eu8Y9uTjbPbp7AD5tYNk93ZHcPaQ41T1pCdQ96FzCPXdeoz3MGb89Y5HvPT9wzD1irKY9bpjFPU1h0T1eJtA9TNbsPZcaAz678f89/nXIPcmarj3F3749bbjPPSLt5T0ZHvw9hLjxPQwjoz21u7s99EnFPStmuz1lwM09AmbhPSLNxz3ao+M9PansPYI0xj1GgdI94wrjPb8vrj1h3849Cm2uPWew8D2slsU9833rPX2Joj3NAck9AuS3PTyO/z10WLM9DkrUPS177D2W+vY9nlTHPcSHxD36DaU9jX/WPbgd3z1YTMg9j+PcPeKW2T0uitA9MhD8PVzi3T0ziKk9fk/0Pcxn7T3W1rc9oZPQPcHq4j2AdaA9ISrlPVnrzz0X3to9Grm2PXM9tj29b8g9wMfWPXsiyj0/T9M9Pou7ParZ1D3mxMc9H2HXPQyfxD3i2Lw96v/HPZdB8D0p6OU9c4uxPT/S5j2xMug9UwnMPQtHzj2mju09vyX3PfcW0j1fINI9VKDaPQEGwT3kS+I9qzC0PVNbxz13rrE9puyhPav32D3ILbc9Q3zjPbjYyz3au+w9uCzOPYJvvT2r4Mo9BjDGPRwY3z2X+8c9FM/hPdNWwz3FTvE9ooyoPeZO7j1bVqA98EfdPZ50uj0aleE9F9/SPTHatz24LMY9u5UAPsDG9T0kJ+k9oDvQPRqOzT1zRdM9lCDTPYPj+D2xYM892aLdPYm68z1K0g8+uaznPfxI1D3h5789Bf2rPWZQtD06jLM9YLe/PVKpwz0t0Mw9aZS5PTC1xj13xak9yZS/PXpjwT1kSdw956XGPSDX0j2hS8A9iEkDPk2j0z0ORdc9nGLFPWjS9D12Luo9ePnTPQlCqD2qYPU99ffDPQ2zxD0LBMA9vwbDPdGB7T3YZMw9N0rQPTCa8T0r/cc9rnLAPW+xrT3P3N49TBzDPcPdwD1tWco9j3zVPQ1d4z1/leE95SbAPa2h5j2fQt09ra7cPe0Mwz2r2gE+iSfnPe3D2z0Rx9c9xfHZPfdq9z3NGNw95MXQPQGe9j0bpMk9fnoCPsdVyD339gA+V+DFPfewxT3Ivvg9kRHHPa3P4z3iY7c9N+TbPa2s1j3fue496N7jPTPIwD3/Dew9wg3cPRkk8j1yb/Q9y9O+PVuuzz3kHOs9XEjSPXeL2T1FTd49FGDjPUjtsz1NEsk9aPfoPSV/9z3qb6g9l+LiPfTZ+D1gtPk9DRTfPdicvT1WC9I9uAXZPepm4j1MPvk9Mkq8PZLYwz2NR/A9/ie6PagkxT3lWuI9nCanPR9PET6C8NI95U3OPQQ6yT3gfcc9/6fZPSrVwz1B9+09GpLFPV2lpj1PF9Y97zvePSRgmz0qCuo94vfIPWra0j2DZNE9BX/nPU9LxD2pPuE99dS1PaJTuz1gMOk9lUDjPaC35D22BMg9lnrpPdp1yD2Hy8Y9HUqvPXy/0j0fRKc9hRXSPSL40D1G2eg9zHG4PSSfyD1Zl8492CbJPYx68D27xeM9UPPNPdypxT36C9c98gwDPjUR4D25ofo9KR32PUoAsT3DFtY9OGD+PQxvvj1bGrE9Qga8Pf8ctD3dAOU92x/CPbHbpz3PS+k9QKHcPcifAz4Nf8o9WNj4PWfmvz3PlOk93VzlPfHglj3b48E9uIyyPdDiwj3I29094c/OPY8U0z1e3ck9\",\"dtype\":\"float32\",\"order\":\"little\",\"shape\":[600]}},\"selected\":{\"id\":\"1818\"},\"selection_policy\":{\"id\":\"1817\"}},\"id\":\"1797\",\"type\":\"ColumnDataSource\"},{\"attributes\":{\"line_color\":\"#1f77b4\",\"line_width\":3,\"x\":{\"field\":\"x\"},\"y\":{\"field\":\"y\"}},\"id\":\"1756\",\"type\":\"Line\"},{\"attributes\":{},\"id\":\"1708\",\"type\":\"DataRange1d\"},{\"attributes\":{\"source\":{\"id\":\"1797\"}},\"id\":\"1802\",\"type\":\"CDSView\"},{\"attributes\":{\"tools\":[{\"id\":\"1722\"},{\"id\":\"1723\"},{\"id\":\"1724\"},{\"id\":\"1725\"},{\"id\":\"1726\"},{\"id\":\"1727\"}]},\"id\":\"1729\",\"type\":\"Toolbar\"},{\"attributes\":{},\"id\":\"1794\",\"type\":\"Selection\"},{\"attributes\":{\"line_alpha\":0.2,\"line_color\":\"#ff7f0e\",\"line_width\":3,\"x\":{\"field\":\"x\"},\"y\":{\"field\":\"y\"}},\"id\":\"1800\",\"type\":\"Line\"},{\"attributes\":{\"line_alpha\":0.1,\"line_color\":\"#1f77b4\",\"line_width\":3,\"x\":{\"field\":\"x\"},\"y\":{\"field\":\"y\"}},\"id\":\"1738\",\"type\":\"Line\"},{\"attributes\":{\"data\":{\"x\":[0,1,2,3,4,5,6,7,8,9,10,11,12,13,14,15,16,17,18,19,20,21,22,23,24,25,26,27,28,29,30,31,32,33,34,35,36,37,38,39,40,41,42,43,44,45,46,47,48,49,50,51,52,53,54,55,56,57,58,59,60,61,62,63,64,65,66,67,68,69,70,71,72,73,74,75,76,77,78,79,80,81,82,83,84,85,86,87,88,89,90,91,92,93,94,95,96,97,98,99,100,101,102,103,104,105,106,107,108,109,110,111,112,113,114,115,116,117,118,119,120,121,122,123,124,125,126,127,128,129,130,131,132,133,134,135,136,137,138,139,140,141,142,143,144,145,146,147,148,149,150,151,152,153,154,155,156,157,158,159,160,161,162,163,164,165,166,167,168,169,170,171,172,173,174,175,176,177,178,179,180,181,182,183,184,185,186,187,188,189,190,191,192,193,194,195,196,197,198,199,200,201,202,203,204,205,206,207,208,209,210,211,212,213,214,215,216,217,218,219,220,221,222,223,224,225,226,227,228,229,230,231,232,233,234,235,236,237,238,239,240,241,242,243,244,245,246,247,248,249,250,251,252,253,254,255,256,257,258,259,260,261,262,263,264,265,266,267,268,269,270,271,272,273,274,275,276,277,278,279,280,281,282,283,284,285,286,287,288,289,290,291,292,293,294,295,296,297,298,299,300,301,302,303,304,305,306,307,308,309,310,311,312,313,314,315,316,317,318,319,320,321,322,323,324,325,326,327,328,329,330,331,332,333,334,335,336,337,338,339,340,341,342,343,344,345,346,347,348,349,350,351,352,353,354,355,356,357,358,359,360,361,362,363,364,365,366,367,368,369,370,371,372,373,374,375,376,377,378,379,380,381,382,383,384,385,386,387,388,389,390,391,392,393,394,395,396,397,398,399,400,401,402,403,404,405,406,407,408,409,410,411,412,413,414,415,416,417,418,419,420,421,422,423,424,425,426,427,428,429,430,431,432,433,434,435,436,437,438,439,440,441,442,443,444,445,446,447,448,449,450,451,452,453,454,455,456,457,458,459,460,461,462,463,464,465,466,467,468,469,470,471,472,473,474,475,476,477,478,479,480,481,482,483,484,485,486,487,488,489,490,491,492,493,494,495,496,497,498,499,500,501,502,503,504,505,506,507,508,509,510,511,512,513,514,515,516,517,518,519,520,521,522,523,524,525,526,527,528,529,530,531,532,533,534,535,536,537,538,539,540,541,542,543,544,545,546,547,548,549,550,551,552,553,554,555,556,557,558,559,560,561,562,563,564,565,566,567,568,569,570,571,572,573,574,575,576,577,578,579,580,581,582,583,584,585,586,587,588,589,590,591,592,593,594,595,596,597,598,599],\"y\":{\"__ndarray__\":\"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\",\"dtype\":\"float32\",\"order\":\"little\",\"shape\":[600]}},\"selected\":{\"id\":\"1772\"},\"selection_policy\":{\"id\":\"1771\"}},\"id\":\"1755\",\"type\":\"ColumnDataSource\"},{\"attributes\":{\"line_alpha\":0.1,\"line_color\":\"#ff7f0e\",\"line_width\":3,\"x\":{\"field\":\"x\"},\"y\":{\"field\":\"y\"}},\"id\":\"1799\",\"type\":\"Line\"},{\"attributes\":{\"source\":{\"id\":\"1755\"}},\"id\":\"1760\",\"type\":\"CDSView\"},{\"attributes\":{\"label\":{\"value\":\"Optimized Non-linear\"},\"renderers\":[{\"id\":\"1801\"}]},\"id\":\"1820\",\"type\":\"LegendItem\"},{\"attributes\":{\"axis_label\":\"iters\",\"coordinates\":null,\"formatter\":{\"id\":\"1748\"},\"group\":null,\"major_label_policy\":{\"id\":\"1749\"},\"ticker\":{\"id\":\"1715\"}},\"id\":\"1714\",\"type\":\"LinearAxis\"},{\"attributes\":{\"data\":{\"x\":[0,1,2,3,4,5,6,7,8,9,10,11,12,13,14,15,16,17,18,19,20,21,22,23,24,25,26,27,28,29,30,31,32,33,34,35,36,37,38,39,40,41,42,43,44,45,46,47,48,49,50,51,52,53,54,55,56,57,58,59,60,61,62,63,64,65,66,67,68,69,70,71,72,73,74,75,76,77,78,79,80,81,82,83,84,85,86,87,88,89,90,91,92,93,94,95,96,97,98,99,100,101,102,103,104,105,106,107,108,109,110,111,112,113,114,115,116,117,118,119,120,121,122,123,124,125,126,127,128,129,130,131,132,133,134,135,136,137,138,139,140,141,142,143,144,145,146,147,148,149,150,151,152,153,154,155,156,157,158,159,160,161,162,163,164,165,166,167,168,169,170,171,172,173,174,175,176,177,178,179,180,181,182,183,184,185,186,187,188,189,190,191,192,193,194,195,196,197,198,199,200,201,202,203,204,205,206,207,208,209,210,211,212,213,214,215,216,217,218,219,220,221,222,223,224,225,226,227,228,229,230,231,232,233,234,235,236,237,238,239,240,241,242,243,244,245,246,247,248,249,250,251,252,253,254,255,256,257,258,259,260,261,262,263,264,265,266,267,268,269,270,271,272,273,274,275,276,277,278,279,280,281,282,283,284,285,286,287,288,289,290,291,292,293,294,295,296,297,298,299,300,301,302,303,304,305,306,307,308,309,310,311,312,313,314,315,316,317,318,319,320,321,322,323,324,325,326,327,328,329,330,331,332,333,334,335,336,337,338,339,340,341,342,343,344,345,346,347,348,349,350,351,352,353,354,355,356,357,358,359,360,361,362,363,364,365,366,367,368,369,370,371,372,373,374,375,376,377,378,379,380,381,382,383,384,385,386,387,388,389,390,391,392,393,394,395,396,397,398,399,400,401,402,403,404,405,406,407,408,409,410,411,412,413,414,415,416,417,418,419,420,421,422,423,424,425,426,427,428,429,430,431,432,433,434,435,436,437,438,439,440,441,442,443,444,445,446,447,448,449,450,451,452,453,454,455,456,457,458,459,460,461,462,463,464,465,466,467,468,469,470,471,472,473,474,475,476,477,478,479,480,481,482,483,484,485,486,487,488,489,490,491,492,493,494,495,496,497,498,499,500,501,502,503,504,505,506,507,508,509,510,511,512,513,514,515,516,517,518,519,520,521,522,523,524,525,526,527,528,529,530,531,532,533,534,535,536,537,538,539,540,541,542,543,544,545,546,547,548,549,550,551,552,553,554,555,556,557,558,559,560,561,562,563,564,565,566,567,568,569,570,571,572,573,574,575,576,577,578,579,580,581,582,583,584,585,586,587,588,589,590,591,592,593,594,595,596,597,598,599],\"y\":{\"__ndarray__\":\"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\",\"dtype\":\"float32\",\"order\":\"little\",\"shape\":[600]}},\"selected\":{\"id\":\"1794\"},\"selection_policy\":{\"id\":\"1793\"}},\"id\":\"1775\",\"type\":\"ColumnDataSource\"},{\"attributes\":{},\"id\":\"1719\",\"type\":\"BasicTicker\"},{\"attributes\":{},\"id\":\"1710\",\"type\":\"LinearScale\"},{\"attributes\":{\"coordinates\":null,\"group\":null,\"items\":[{\"id\":\"1754\"},{\"id\":\"1774\"},{\"id\":\"1796\"},{\"id\":\"1820\"}]},\"id\":\"1753\",\"type\":\"Legend\"},{\"attributes\":{\"line_alpha\":0.2,\"line_color\":\"#1f77b4\",\"line_width\":3,\"x\":{\"field\":\"x\"},\"y\":{\"field\":\"y\"}},\"id\":\"1758\",\"type\":\"Line\"},{\"attributes\":{},\"id\":\"1712\",\"type\":\"LinearScale\"},{\"attributes\":{\"line_alpha\":0.1,\"line_color\":\"#1f77b4\",\"line_width\":3,\"x\":{\"field\":\"x\"},\"y\":{\"field\":\"y\"}},\"id\":\"1757\",\"type\":\"Line\"},{\"attributes\":{\"source\":{\"id\":\"1775\"}},\"id\":\"1780\",\"type\":\"CDSView\"},{\"attributes\":{\"axis\":{\"id\":\"1718\"},\"coordinates\":null,\"dimension\":1,\"group\":null,\"ticker\":null},\"id\":\"1721\",\"type\":\"Grid\"},{\"attributes\":{\"line_alpha\":0.3,\"line_color\":\"#1f77b4\",\"line_width\":3,\"x\":{\"field\":\"x\"},\"y\":{\"field\":\"y\"}},\"id\":\"1737\",\"type\":\"Line\"},{\"attributes\":{\"line_color\":\"#ff7f0e\",\"line_width\":3,\"x\":{\"field\":\"x\"},\"y\":{\"field\":\"y\"}},\"id\":\"1776\",\"type\":\"Line\"},{\"attributes\":{\"axis_label\":\"Loss\",\"coordinates\":null,\"formatter\":{\"id\":\"1745\"},\"group\":null,\"major_label_policy\":{\"id\":\"1746\"},\"ticker\":{\"id\":\"1719\"}},\"id\":\"1718\",\"type\":\"LinearAxis\"},{\"attributes\":{\"line_alpha\":0.1,\"line_color\":\"#ff7f0e\",\"line_width\":3,\"x\":{\"field\":\"x\"},\"y\":{\"field\":\"y\"}},\"id\":\"1777\",\"type\":\"Line\"},{\"attributes\":{\"line_alpha\":0.2,\"line_color\":\"#ff7f0e\",\"line_width\":3,\"x\":{\"field\":\"x\"},\"y\":{\"field\":\"y\"}},\"id\":\"1778\",\"type\":\"Line\"},{\"attributes\":{},\"id\":\"1727\",\"type\":\"HelpTool\"},{\"attributes\":{},\"id\":\"1706\",\"type\":\"DataRange1d\"},{\"attributes\":{},\"id\":\"1726\",\"type\":\"ResetTool\"},{\"attributes\":{},\"id\":\"1723\",\"type\":\"WheelZoomTool\"},{\"attributes\":{},\"id\":\"1725\",\"type\":\"SaveTool\"},{\"attributes\":{\"coordinates\":null,\"data_source\":{\"id\":\"1736\"},\"glyph\":{\"id\":\"1737\"},\"group\":null,\"hover_glyph\":null,\"muted_glyph\":{\"id\":\"1739\"},\"nonselection_glyph\":{\"id\":\"1738\"},\"view\":{\"id\":\"1741\"}},\"id\":\"1740\",\"type\":\"GlyphRenderer\"},{\"attributes\":{},\"id\":\"1793\",\"type\":\"UnionRenderers\"},{\"attributes\":{\"overlay\":{\"id\":\"1728\"}},\"id\":\"1724\",\"type\":\"BoxZoomTool\"},{\"attributes\":{},\"id\":\"1722\",\"type\":\"PanTool\"},{\"attributes\":{},\"id\":\"1772\",\"type\":\"Selection\"},{\"attributes\":{\"source\":{\"id\":\"1736\"}},\"id\":\"1741\",\"type\":\"CDSView\"},{\"attributes\":{},\"id\":\"1818\",\"type\":\"Selection\"},{\"attributes\":{},\"id\":\"1715\",\"type\":\"BasicTicker\"},{\"attributes\":{},\"id\":\"1750\",\"type\":\"UnionRenderers\"},{\"attributes\":{\"axis\":{\"id\":\"1714\"},\"coordinates\":null,\"group\":null,\"ticker\":null},\"id\":\"1717\",\"type\":\"Grid\"},{\"attributes\":{},\"id\":\"1771\",\"type\":\"UnionRenderers\"},{\"attributes\":{\"line_alpha\":0.2,\"line_color\":\"#1f77b4\",\"line_width\":3,\"x\":{\"field\":\"x\"},\"y\":{\"field\":\"y\"}},\"id\":\"1739\",\"type\":\"Line\"},{\"attributes\":{},\"id\":\"1745\",\"type\":\"BasicTickFormatter\"},{\"attributes\":{},\"id\":\"1817\",\"type\":\"UnionRenderers\"},{\"attributes\":{\"label\":{\"value\":\"Approximation\"},\"renderers\":[{\"id\":\"1759\"}]},\"id\":\"1774\",\"type\":\"LegendItem\"},{\"attributes\":{\"label\":{\"value\":\"Approximated Optimized Control\"},\"renderers\":[{\"id\":\"1779\"}]},\"id\":\"1796\",\"type\":\"LegendItem\"},{\"attributes\":{},\"id\":\"1751\",\"type\":\"Selection\"}],\"root_ids\":[\"1705\"]},\"title\":\"Bokeh Application\",\"version\":\"2.4.3\"}};\n",
       "  const render_items = [{\"docid\":\"5e8a6236-13f7-4e60-80c0-b7dbb7001202\",\"root_ids\":[\"1705\"],\"roots\":{\"1705\":\"469a11d5-1377-454f-8ecf-c558297c891e\"}}];\n",
       "  root.Bokeh.embed.embed_items_notebook(docs_json, render_items);\n",
       "  }\n",
       "  if (root.Bokeh !== undefined) {\n",
       "    embed_document(root);\n",
       "  } else {\n",
       "    let attempts = 0;\n",
       "    const timer = setInterval(function(root) {\n",
       "      if (root.Bokeh !== undefined) {\n",
       "        clearInterval(timer);\n",
       "        embed_document(root);\n",
       "      } else {\n",
       "        attempts++;\n",
       "        if (attempts > 100) {\n",
       "          clearInterval(timer);\n",
       "          console.log(\"Bokeh: ERROR: Unable to run BokehJS code because BokehJS library is missing\");\n",
       "        }\n",
       "      }\n",
       "    }, 10, root)\n",
       "  }\n",
       "})(window);"
      ],
      "application/vnd.bokehjs_exec.v0+json": ""
     },
     "metadata": {
      "application/vnd.bokehjs_exec.v0+json": {
       "id": "1705"
      }
     },
     "output_type": "display_data"
    }
   ],
   "source": [
    "losses = (loss, Loss_t, Loss_t_opt, loss_OPT)\n",
    "colors = (Category10[10][0], Category10[10][0], Category10[10][1], Category10[10][1])\n",
    "legends = (\"Real Non-linear\", \"Approximation\", \"Approximated Optimized Control\", \"Optimized Non-linear\")\n",
    "alphas = (0.3, 1, 1, 0.3)\n",
    "\n",
    "s = plot_lines(iters, losses, legends, alphas, colors)\n",
    "show(s)"
   ]
  },
  {
   "cell_type": "code",
   "execution_count": 30,
   "metadata": {},
   "outputs": [],
   "source": [
    "baseline_reward_rate = -control_params[\"reward_convertion\"]*Loss_t\n",
    "control_reward_rate = -control_params[\"reward_convertion\"]*Loss_t_opt - control.control_cost(get_numpy=True)"
   ]
  },
  {
   "cell_type": "code",
   "execution_count": 31,
   "metadata": {},
   "outputs": [
    {
     "data": {
      "text/html": [
       "\n",
       "  <div class=\"bk-root\" id=\"dd3b99b9-670b-4118-ac84-60482505cfb2\" data-root-id=\"1976\"></div>\n"
      ]
     },
     "metadata": {},
     "output_type": "display_data"
    },
    {
     "data": {
      "application/javascript": [
       "(function(root) {\n",
       "  function embed_document(root) {\n",
       "  const docs_json = {\"05b938f1-e1dd-4a46-bb89-19aee890ea71\":{\"defs\":[],\"roots\":{\"references\":[{\"attributes\":{\"below\":[{\"id\":\"1985\"}],\"center\":[{\"id\":\"1988\"},{\"id\":\"1992\"},{\"id\":\"2024\"}],\"height\":500,\"left\":[{\"id\":\"1989\"}],\"renderers\":[{\"id\":\"2011\"},{\"id\":\"2030\"}],\"title\":{\"id\":\"2013\"},\"toolbar\":{\"id\":\"2000\"},\"width\":800,\"x_range\":{\"id\":\"1977\"},\"x_scale\":{\"id\":\"1981\"},\"y_range\":{\"id\":\"1979\"},\"y_scale\":{\"id\":\"1983\"}},\"id\":\"1976\",\"subtype\":\"Figure\",\"type\":\"Plot\"},{\"attributes\":{},\"id\":\"2043\",\"type\":\"Selection\"},{\"attributes\":{},\"id\":\"2021\",\"type\":\"UnionRenderers\"},{\"attributes\":{},\"id\":\"1986\",\"type\":\"BasicTicker\"},{\"attributes\":{},\"id\":\"2022\",\"type\":\"Selection\"},{\"attributes\":{\"source\":{\"id\":\"2007\"}},\"id\":\"2012\",\"type\":\"CDSView\"},{\"attributes\":{},\"id\":\"2042\",\"type\":\"UnionRenderers\"},{\"attributes\":{},\"id\":\"1979\",\"type\":\"DataRange1d\"},{\"attributes\":{\"data\":{\"x\":[0,1,2,3,4,5,6,7,8,9,10,11,12,13,14,15,16,17,18,19,20,21,22,23,24,25,26,27,28,29,30,31,32,33,34,35,36,37,38,39,40,41,42,43,44,45,46,47,48,49,50,51,52,53,54,55,56,57,58,59,60,61,62,63,64,65,66,67,68,69,70,71,72,73,74,75,76,77,78,79,80,81,82,83,84,85,86,87,88,89,90,91,92,93,94,95,96,97,98,99,100,101,102,103,104,105,106,107,108,109,110,111,112,113,114,115,116,117,118,119,120,121,122,123,124,125,126,127,128,129,130,131,132,133,134,135,136,137,138,139,140,141,142,143,144,145,146,147,148,149,150,151,152,153,154,155,156,157,158,159,160,161,162,163,164,165,166,167,168,169,170,171,172,173,174,175,176,177,178,179,180,181,182,183,184,185,186,187,188,189,190,191,192,193,194,195,196,197,198,199,200,201,202,203,204,205,206,207,208,209,210,211,212,213,214,215,216,217,218,219,220,221,222,223,224,225,226,227,228,229,230,231,232,233,234,235,236,237,238,239,240,241,242,243,244,245,246,247,248,249,250,251,252,253,254,255,256,257,258,259,260,261,262,263,264,265,266,267,268,269,270,271,272,273,274,275,276,277,278,279,280,281,282,283,284,285,286,287,288,289,290,291,292,293,294,295,296,297,298,299,300,301,302,303,304,305,306,307,308,309,310,311,312,313,314,315,316,317,318,319,320,321,322,323,324,325,326,327,328,329,330,331,332,333,334,335,336,337,338,339,340,341,342,343,344,345,346,347,348,349,350,351,352,353,354,355,356,357,358,359,360,361,362,363,364,365,366,367,368,369,370,371,372,373,374,375,376,377,378,379,380,381,382,383,384,385,386,387,388,389,390,391,392,393,394,395,396,397,398,399,400,401,402,403,404,405,406,407,408,409,410,411,412,413,414,415,416,417,418,419,420,421,422,423,424,425,426,427,428,429,430,431,432,433,434,435,436,437,438,439,440,441,442,443,444,445,446,447,448,449,450,451,452,453,454,455,456,457,458,459,460,461,462,463,464,465,466,467,468,469,470,471,472,473,474,475,476,477,478,479,480,481,482,483,484,485,486,487,488,489,490,491,492,493,494,495,496,497,498,499,500,501,502,503,504,505,506,507,508,509,510,511,512,513,514,515,516,517,518,519,520,521,522,523,524,525,526,527,528,529,530,531,532,533,534,535,536,537,538,539,540,541,542,543,544,545,546,547,548,549,550,551,552,553,554,555,556,557,558,559,560,561,562,563,564,565,566,567,568,569,570,571,572,573,574,575,576,577,578,579,580,581,582,583,584,585,586,587,588,589,590,591,592,593,594,595,596,597,598,599],\"y\":{\"__ndarray__\":\"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\",\"dtype\":\"float32\",\"order\":\"little\",\"shape\":[600]}},\"selected\":{\"id\":\"2022\"},\"selection_policy\":{\"id\":\"2021\"}},\"id\":\"2007\",\"type\":\"ColumnDataSource\"},{\"attributes\":{\"coordinates\":null,\"group\":null},\"id\":\"2013\",\"type\":\"Title\"},{\"attributes\":{},\"id\":\"2017\",\"type\":\"AllLabels\"},{\"attributes\":{},\"id\":\"2019\",\"type\":\"BasicTickFormatter\"},{\"attributes\":{},\"id\":\"2016\",\"type\":\"BasicTickFormatter\"},{\"attributes\":{\"tools\":[{\"id\":\"1993\"},{\"id\":\"1994\"},{\"id\":\"1995\"},{\"id\":\"1996\"},{\"id\":\"1997\"},{\"id\":\"1998\"}]},\"id\":\"2000\",\"type\":\"Toolbar\"},{\"attributes\":{\"coordinates\":null,\"data_source\":{\"id\":\"2007\"},\"glyph\":{\"id\":\"2008\"},\"group\":null,\"hover_glyph\":null,\"muted_glyph\":{\"id\":\"2010\"},\"nonselection_glyph\":{\"id\":\"2009\"},\"view\":{\"id\":\"2012\"}},\"id\":\"2011\",\"type\":\"GlyphRenderer\"},{\"attributes\":{},\"id\":\"1990\",\"type\":\"BasicTicker\"},{\"attributes\":{\"axis_label\":\"Loss\",\"coordinates\":null,\"formatter\":{\"id\":\"2016\"},\"group\":null,\"major_label_policy\":{\"id\":\"2017\"},\"ticker\":{\"id\":\"1990\"}},\"id\":\"1989\",\"type\":\"LinearAxis\"},{\"attributes\":{\"bottom_units\":\"screen\",\"coordinates\":null,\"fill_alpha\":0.5,\"fill_color\":\"lightgrey\",\"group\":null,\"left_units\":\"screen\",\"level\":\"overlay\",\"line_alpha\":1.0,\"line_color\":\"black\",\"line_dash\":[4,4],\"line_width\":2,\"right_units\":\"screen\",\"syncable\":false,\"top_units\":\"screen\"},\"id\":\"1999\",\"type\":\"BoxAnnotation\"},{\"attributes\":{},\"id\":\"2020\",\"type\":\"AllLabels\"},{\"attributes\":{},\"id\":\"1994\",\"type\":\"WheelZoomTool\"},{\"attributes\":{\"label\":{\"value\":\"Baseline iRR\"},\"renderers\":[{\"id\":\"2011\"}]},\"id\":\"2025\",\"type\":\"LegendItem\"},{\"attributes\":{},\"id\":\"1993\",\"type\":\"PanTool\"},{\"attributes\":{\"coordinates\":null,\"data_source\":{\"id\":\"2026\"},\"glyph\":{\"id\":\"2027\"},\"group\":null,\"hover_glyph\":null,\"muted_glyph\":{\"id\":\"2029\"},\"nonselection_glyph\":{\"id\":\"2028\"},\"view\":{\"id\":\"2031\"}},\"id\":\"2030\",\"type\":\"GlyphRenderer\"},{\"attributes\":{\"axis\":{\"id\":\"1989\"},\"coordinates\":null,\"dimension\":1,\"group\":null,\"ticker\":null},\"id\":\"1992\",\"type\":\"Grid\"},{\"attributes\":{\"line_color\":\"#ff7f0e\",\"line_width\":3,\"x\":{\"field\":\"x\"},\"y\":{\"field\":\"y\"}},\"id\":\"2027\",\"type\":\"Line\"},{\"attributes\":{\"line_alpha\":0.1,\"line_color\":\"#1f77b4\",\"line_width\":3,\"x\":{\"field\":\"x\"},\"y\":{\"field\":\"y\"}},\"id\":\"2009\",\"type\":\"Line\"},{\"attributes\":{\"line_color\":\"#1f77b4\",\"line_width\":3,\"x\":{\"field\":\"x\"},\"y\":{\"field\":\"y\"}},\"id\":\"2008\",\"type\":\"Line\"},{\"attributes\":{\"axis\":{\"id\":\"1985\"},\"coordinates\":null,\"group\":null,\"ticker\":null},\"id\":\"1988\",\"type\":\"Grid\"},{\"attributes\":{\"data\":{\"x\":[0,1,2,3,4,5,6,7,8,9,10,11,12,13,14,15,16,17,18,19,20,21,22,23,24,25,26,27,28,29,30,31,32,33,34,35,36,37,38,39,40,41,42,43,44,45,46,47,48,49,50,51,52,53,54,55,56,57,58,59,60,61,62,63,64,65,66,67,68,69,70,71,72,73,74,75,76,77,78,79,80,81,82,83,84,85,86,87,88,89,90,91,92,93,94,95,96,97,98,99,100,101,102,103,104,105,106,107,108,109,110,111,112,113,114,115,116,117,118,119,120,121,122,123,124,125,126,127,128,129,130,131,132,133,134,135,136,137,138,139,140,141,142,143,144,145,146,147,148,149,150,151,152,153,154,155,156,157,158,159,160,161,162,163,164,165,166,167,168,169,170,171,172,173,174,175,176,177,178,179,180,181,182,183,184,185,186,187,188,189,190,191,192,193,194,195,196,197,198,199,200,201,202,203,204,205,206,207,208,209,210,211,212,213,214,215,216,217,218,219,220,221,222,223,224,225,226,227,228,229,230,231,232,233,234,235,236,237,238,239,240,241,242,243,244,245,246,247,248,249,250,251,252,253,254,255,256,257,258,259,260,261,262,263,264,265,266,267,268,269,270,271,272,273,274,275,276,277,278,279,280,281,282,283,284,285,286,287,288,289,290,291,292,293,294,295,296,297,298,299,300,301,302,303,304,305,306,307,308,309,310,311,312,313,314,315,316,317,318,319,320,321,322,323,324,325,326,327,328,329,330,331,332,333,334,335,336,337,338,339,340,341,342,343,344,345,346,347,348,349,350,351,352,353,354,355,356,357,358,359,360,361,362,363,364,365,366,367,368,369,370,371,372,373,374,375,376,377,378,379,380,381,382,383,384,385,386,387,388,389,390,391,392,393,394,395,396,397,398,399,400,401,402,403,404,405,406,407,408,409,410,411,412,413,414,415,416,417,418,419,420,421,422,423,424,425,426,427,428,429,430,431,432,433,434,435,436,437,438,439,440,441,442,443,444,445,446,447,448,449,450,451,452,453,454,455,456,457,458,459,460,461,462,463,464,465,466,467,468,469,470,471,472,473,474,475,476,477,478,479,480,481,482,483,484,485,486,487,488,489,490,491,492,493,494,495,496,497,498,499,500,501,502,503,504,505,506,507,508,509,510,511,512,513,514,515,516,517,518,519,520,521,522,523,524,525,526,527,528,529,530,531,532,533,534,535,536,537,538,539,540,541,542,543,544,545,546,547,548,549,550,551,552,553,554,555,556,557,558,559,560,561,562,563,564,565,566,567,568,569,570,571,572,573,574,575,576,577,578,579,580,581,582,583,584,585,586,587,588,589,590,591,592,593,594,595,596,597,598,599],\"y\":{\"__ndarray__\":\"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\",\"dtype\":\"float32\",\"order\":\"little\",\"shape\":[600]}},\"selected\":{\"id\":\"2043\"},\"selection_policy\":{\"id\":\"2042\"}},\"id\":\"2026\",\"type\":\"ColumnDataSource\"},{\"attributes\":{\"coordinates\":null,\"group\":null,\"items\":[{\"id\":\"2025\"},{\"id\":\"2045\"}]},\"id\":\"2024\",\"type\":\"Legend\"},{\"attributes\":{\"source\":{\"id\":\"2026\"}},\"id\":\"2031\",\"type\":\"CDSView\"},{\"attributes\":{},\"id\":\"1998\",\"type\":\"HelpTool\"},{\"attributes\":{\"axis_label\":\"iters\",\"coordinates\":null,\"formatter\":{\"id\":\"2019\"},\"group\":null,\"major_label_policy\":{\"id\":\"2020\"},\"ticker\":{\"id\":\"1986\"}},\"id\":\"1985\",\"type\":\"LinearAxis\"},{\"attributes\":{\"label\":{\"value\":\"Control iRR\"},\"renderers\":[{\"id\":\"2030\"}]},\"id\":\"2045\",\"type\":\"LegendItem\"},{\"attributes\":{\"line_alpha\":0.2,\"line_color\":\"#ff7f0e\",\"line_width\":3,\"x\":{\"field\":\"x\"},\"y\":{\"field\":\"y\"}},\"id\":\"2029\",\"type\":\"Line\"},{\"attributes\":{\"overlay\":{\"id\":\"1999\"}},\"id\":\"1995\",\"type\":\"BoxZoomTool\"},{\"attributes\":{\"line_alpha\":0.1,\"line_color\":\"#ff7f0e\",\"line_width\":3,\"x\":{\"field\":\"x\"},\"y\":{\"field\":\"y\"}},\"id\":\"2028\",\"type\":\"Line\"},{\"attributes\":{},\"id\":\"1996\",\"type\":\"SaveTool\"},{\"attributes\":{},\"id\":\"1997\",\"type\":\"ResetTool\"},{\"attributes\":{},\"id\":\"1981\",\"type\":\"LinearScale\"},{\"attributes\":{},\"id\":\"1977\",\"type\":\"DataRange1d\"},{\"attributes\":{\"line_alpha\":0.2,\"line_color\":\"#1f77b4\",\"line_width\":3,\"x\":{\"field\":\"x\"},\"y\":{\"field\":\"y\"}},\"id\":\"2010\",\"type\":\"Line\"},{\"attributes\":{},\"id\":\"1983\",\"type\":\"LinearScale\"}],\"root_ids\":[\"1976\"]},\"title\":\"Bokeh Application\",\"version\":\"2.4.3\"}};\n",
       "  const render_items = [{\"docid\":\"05b938f1-e1dd-4a46-bb89-19aee890ea71\",\"root_ids\":[\"1976\"],\"roots\":{\"1976\":\"dd3b99b9-670b-4118-ac84-60482505cfb2\"}}];\n",
       "  root.Bokeh.embed.embed_items_notebook(docs_json, render_items);\n",
       "  }\n",
       "  if (root.Bokeh !== undefined) {\n",
       "    embed_document(root);\n",
       "  } else {\n",
       "    let attempts = 0;\n",
       "    const timer = setInterval(function(root) {\n",
       "      if (root.Bokeh !== undefined) {\n",
       "        clearInterval(timer);\n",
       "        embed_document(root);\n",
       "      } else {\n",
       "        attempts++;\n",
       "        if (attempts > 100) {\n",
       "          clearInterval(timer);\n",
       "          console.log(\"Bokeh: ERROR: Unable to run BokehJS code because BokehJS library is missing\");\n",
       "        }\n",
       "      }\n",
       "    }, 10, root)\n",
       "  }\n",
       "})(window);"
      ],
      "application/vnd.bokehjs_exec.v0+json": ""
     },
     "metadata": {
      "application/vnd.bokehjs_exec.v0+json": {
       "id": "1976"
      }
     },
     "output_type": "display_data"
    }
   ],
   "source": [
    "results_dict[\"baseline_iRR\"] = baseline_reward_rate\n",
    "results_dict[\"control_iRR\"] = control_reward_rate\n",
    "losses = (baseline_reward_rate, control_reward_rate)\n",
    "colors = (Category10[10][0], Category10[10][1])\n",
    "legends = (\"Baseline iRR\", \"Control iRR\")\n",
    "alphas = (1, 1)\n",
    "\n",
    "s = plot_lines(iters, losses, legends, alphas, colors)\n",
    "show(s)"
   ]
  },
  {
   "cell_type": "code",
   "execution_count": 32,
   "metadata": {},
   "outputs": [
    {
     "data": {
      "text/html": [
       "\n",
       "  <div class=\"bk-root\" id=\"3988324e-ad46-4f3e-8c49-7ad3cc6a4aa6\" data-root-id=\"2194\"></div>\n"
      ]
     },
     "metadata": {},
     "output_type": "display_data"
    },
    {
     "data": {
      "application/javascript": [
       "(function(root) {\n",
       "  function embed_document(root) {\n",
       "  const docs_json = {\"f93c15f0-7fe2-4dd2-82e1-18ef669e535b\":{\"defs\":[],\"roots\":{\"references\":[{\"attributes\":{\"below\":[{\"id\":\"2203\"}],\"center\":[{\"id\":\"2206\"},{\"id\":\"2210\"},{\"id\":\"2242\"}],\"height\":500,\"left\":[{\"id\":\"2207\"}],\"renderers\":[{\"id\":\"2229\"}],\"title\":{\"id\":\"2231\"},\"toolbar\":{\"id\":\"2218\"},\"width\":800,\"x_range\":{\"id\":\"2195\"},\"x_scale\":{\"id\":\"2199\"},\"y_range\":{\"id\":\"2197\"},\"y_scale\":{\"id\":\"2201\"}},\"id\":\"2194\",\"subtype\":\"Figure\",\"type\":\"Plot\"},{\"attributes\":{\"axis\":{\"id\":\"2203\"},\"coordinates\":null,\"group\":null,\"ticker\":null},\"id\":\"2206\",\"type\":\"Grid\"},{\"attributes\":{\"coordinates\":null,\"group\":null,\"items\":[{\"id\":\"2243\"}]},\"id\":\"2242\",\"type\":\"Legend\"},{\"attributes\":{},\"id\":\"2212\",\"type\":\"WheelZoomTool\"},{\"attributes\":{\"bottom_units\":\"screen\",\"coordinates\":null,\"fill_alpha\":0.5,\"fill_color\":\"lightgrey\",\"group\":null,\"left_units\":\"screen\",\"level\":\"overlay\",\"line_alpha\":1.0,\"line_color\":\"black\",\"line_dash\":[4,4],\"line_width\":2,\"right_units\":\"screen\",\"syncable\":false,\"top_units\":\"screen\"},\"id\":\"2217\",\"type\":\"BoxAnnotation\"},{\"attributes\":{\"coordinates\":null,\"group\":null},\"id\":\"2231\",\"type\":\"Title\"},{\"attributes\":{\"line_color\":\"#1f77b4\",\"line_width\":3,\"x\":{\"field\":\"x\"},\"y\":{\"field\":\"y\"}},\"id\":\"2226\",\"type\":\"Line\"},{\"attributes\":{},\"id\":\"2199\",\"type\":\"LinearScale\"},{\"attributes\":{},\"id\":\"2197\",\"type\":\"DataRange1d\"},{\"attributes\":{},\"id\":\"2201\",\"type\":\"LinearScale\"},{\"attributes\":{},\"id\":\"2239\",\"type\":\"UnionRenderers\"},{\"attributes\":{},\"id\":\"2240\",\"type\":\"Selection\"},{\"attributes\":{\"axis_label\":\"iters\",\"coordinates\":null,\"formatter\":{\"id\":\"2237\"},\"group\":null,\"major_label_policy\":{\"id\":\"2238\"},\"ticker\":{\"id\":\"2204\"}},\"id\":\"2203\",\"type\":\"LinearAxis\"},{\"attributes\":{\"label\":{\"value\":\"net diff iRR\"},\"renderers\":[{\"id\":\"2229\"}]},\"id\":\"2243\",\"type\":\"LegendItem\"},{\"attributes\":{\"tools\":[{\"id\":\"2211\"},{\"id\":\"2212\"},{\"id\":\"2213\"},{\"id\":\"2214\"},{\"id\":\"2215\"},{\"id\":\"2216\"}]},\"id\":\"2218\",\"type\":\"Toolbar\"},{\"attributes\":{\"coordinates\":null,\"data_source\":{\"id\":\"2225\"},\"glyph\":{\"id\":\"2226\"},\"group\":null,\"hover_glyph\":null,\"muted_glyph\":{\"id\":\"2228\"},\"nonselection_glyph\":{\"id\":\"2227\"},\"view\":{\"id\":\"2230\"}},\"id\":\"2229\",\"type\":\"GlyphRenderer\"},{\"attributes\":{\"line_alpha\":0.1,\"line_color\":\"#1f77b4\",\"line_width\":3,\"x\":{\"field\":\"x\"},\"y\":{\"field\":\"y\"}},\"id\":\"2227\",\"type\":\"Line\"},{\"attributes\":{\"overlay\":{\"id\":\"2217\"}},\"id\":\"2213\",\"type\":\"BoxZoomTool\"},{\"attributes\":{},\"id\":\"2214\",\"type\":\"SaveTool\"},{\"attributes\":{},\"id\":\"2211\",\"type\":\"PanTool\"},{\"attributes\":{},\"id\":\"2238\",\"type\":\"AllLabels\"},{\"attributes\":{},\"id\":\"2215\",\"type\":\"ResetTool\"},{\"attributes\":{\"axis\":{\"id\":\"2207\"},\"coordinates\":null,\"dimension\":1,\"group\":null,\"ticker\":null},\"id\":\"2210\",\"type\":\"Grid\"},{\"attributes\":{},\"id\":\"2234\",\"type\":\"BasicTickFormatter\"},{\"attributes\":{\"line_alpha\":0.2,\"line_color\":\"#1f77b4\",\"line_width\":3,\"x\":{\"field\":\"x\"},\"y\":{\"field\":\"y\"}},\"id\":\"2228\",\"type\":\"Line\"},{\"attributes\":{\"source\":{\"id\":\"2225\"}},\"id\":\"2230\",\"type\":\"CDSView\"},{\"attributes\":{},\"id\":\"2216\",\"type\":\"HelpTool\"},{\"attributes\":{},\"id\":\"2235\",\"type\":\"AllLabels\"},{\"attributes\":{},\"id\":\"2208\",\"type\":\"BasicTicker\"},{\"attributes\":{\"axis_label\":\"Loss\",\"coordinates\":null,\"formatter\":{\"id\":\"2234\"},\"group\":null,\"major_label_policy\":{\"id\":\"2235\"},\"ticker\":{\"id\":\"2208\"}},\"id\":\"2207\",\"type\":\"LinearAxis\"},{\"attributes\":{\"data\":{\"x\":[0,1,2,3,4,5,6,7,8,9,10,11,12,13,14,15,16,17,18,19,20,21,22,23,24,25,26,27,28,29,30,31,32,33,34,35,36,37,38,39,40,41,42,43,44,45,46,47,48,49,50,51,52,53,54,55,56,57,58,59,60,61,62,63,64,65,66,67,68,69,70,71,72,73,74,75,76,77,78,79,80,81,82,83,84,85,86,87,88,89,90,91,92,93,94,95,96,97,98,99,100,101,102,103,104,105,106,107,108,109,110,111,112,113,114,115,116,117,118,119,120,121,122,123,124,125,126,127,128,129,130,131,132,133,134,135,136,137,138,139,140,141,142,143,144,145,146,147,148,149,150,151,152,153,154,155,156,157,158,159,160,161,162,163,164,165,166,167,168,169,170,171,172,173,174,175,176,177,178,179,180,181,182,183,184,185,186,187,188,189,190,191,192,193,194,195,196,197,198,199,200,201,202,203,204,205,206,207,208,209,210,211,212,213,214,215,216,217,218,219,220,221,222,223,224,225,226,227,228,229,230,231,232,233,234,235,236,237,238,239,240,241,242,243,244,245,246,247,248,249,250,251,252,253,254,255,256,257,258,259,260,261,262,263,264,265,266,267,268,269,270,271,272,273,274,275,276,277,278,279,280,281,282,283,284,285,286,287,288,289,290,291,292,293,294,295,296,297,298,299,300,301,302,303,304,305,306,307,308,309,310,311,312,313,314,315,316,317,318,319,320,321,322,323,324,325,326,327,328,329,330,331,332,333,334,335,336,337,338,339,340,341,342,343,344,345,346,347,348,349,350,351,352,353,354,355,356,357,358,359,360,361,362,363,364,365,366,367,368,369,370,371,372,373,374,375,376,377,378,379,380,381,382,383,384,385,386,387,388,389,390,391,392,393,394,395,396,397,398,399,400,401,402,403,404,405,406,407,408,409,410,411,412,413,414,415,416,417,418,419,420,421,422,423,424,425,426,427,428,429,430,431,432,433,434,435,436,437,438,439,440,441,442,443,444,445,446,447,448,449,450,451,452,453,454,455,456,457,458,459,460,461,462,463,464,465,466,467,468,469,470,471,472,473,474,475,476,477,478,479,480,481,482,483,484,485,486,487,488,489,490,491,492,493,494,495,496,497,498,499,500,501,502,503,504,505,506,507,508,509,510,511,512,513,514,515,516,517,518,519,520,521,522,523,524,525,526,527,528,529,530,531,532,533,534,535,536,537,538,539,540,541,542,543,544,545,546,547,548,549,550,551,552,553,554,555,556,557,558,559,560,561,562,563,564,565,566,567,568,569,570,571,572,573,574,575,576,577,578,579,580,581,582,583,584,585,586,587,588,589,590,591,592,593,594,595,596,597,598,599],\"y\":{\"__ndarray__\":\"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\",\"dtype\":\"float32\",\"order\":\"little\",\"shape\":[600]}},\"selected\":{\"id\":\"2240\"},\"selection_policy\":{\"id\":\"2239\"}},\"id\":\"2225\",\"type\":\"ColumnDataSource\"},{\"attributes\":{},\"id\":\"2237\",\"type\":\"BasicTickFormatter\"},{\"attributes\":{},\"id\":\"2195\",\"type\":\"DataRange1d\"},{\"attributes\":{},\"id\":\"2204\",\"type\":\"BasicTicker\"}],\"root_ids\":[\"2194\"]},\"title\":\"Bokeh Application\",\"version\":\"2.4.3\"}};\n",
       "  const render_items = [{\"docid\":\"f93c15f0-7fe2-4dd2-82e1-18ef669e535b\",\"root_ids\":[\"2194\"],\"roots\":{\"2194\":\"3988324e-ad46-4f3e-8c49-7ad3cc6a4aa6\"}}];\n",
       "  root.Bokeh.embed.embed_items_notebook(docs_json, render_items);\n",
       "  }\n",
       "  if (root.Bokeh !== undefined) {\n",
       "    embed_document(root);\n",
       "  } else {\n",
       "    let attempts = 0;\n",
       "    const timer = setInterval(function(root) {\n",
       "      if (root.Bokeh !== undefined) {\n",
       "        clearInterval(timer);\n",
       "        embed_document(root);\n",
       "      } else {\n",
       "        attempts++;\n",
       "        if (attempts > 100) {\n",
       "          clearInterval(timer);\n",
       "          console.log(\"Bokeh: ERROR: Unable to run BokehJS code because BokehJS library is missing\");\n",
       "        }\n",
       "      }\n",
       "    }, 10, root)\n",
       "  }\n",
       "})(window);"
      ],
      "application/vnd.bokehjs_exec.v0+json": ""
     },
     "metadata": {
      "application/vnd.bokehjs_exec.v0+json": {
       "id": "2194"
      }
     },
     "output_type": "display_data"
    }
   ],
   "source": [
    "losses = (control_reward_rate - baseline_reward_rate,)\n",
    "colors = (Category10[10][0],)\n",
    "legends = (\"net diff iRR\",)\n",
    "alphas = (1,)\n",
    "\n",
    "s = plot_lines(iters, losses, legends, alphas, colors)\n",
    "show(s)"
   ]
  },
  {
   "cell_type": "code",
   "execution_count": 33,
   "metadata": {
    "ExecuteTime": {
     "end_time": "2022-10-18T16:37:16.876743Z",
     "start_time": "2022-10-18T16:37:16.874178Z"
    }
   },
   "outputs": [
    {
     "data": {
      "text/plain": [
       "dict_keys(['iters', 'Loss_t_sim', 'weights_sim', 'weights_iters_sim', 'time_span', 'W_t_eq', 'Loss_t_eq', 'W_t_control_init', 'Loss_t_control_init', 'control_signal_init', 'cumulated_reward_opt', 'W_t_control_opt', 'Loss_t_control_opt', 'control_signal', 'Loss_t_sim_OPT', 'weights_sim_OPT', 'weights_iters_sim_OPT', 'iters_OPT', 'baseline_iRR', 'control_iRR'])"
      ]
     },
     "execution_count": 33,
     "metadata": {},
     "output_type": "execute_result"
    }
   ],
   "source": [
    "results_dict.keys()"
   ]
  },
  {
   "cell_type": "code",
   "execution_count": 34,
   "metadata": {
    "ExecuteTime": {
     "end_time": "2022-10-18T16:37:16.880110Z",
     "start_time": "2022-10-18T16:37:16.877818Z"
    }
   },
   "outputs": [],
   "source": [
    "params_dict = {\"dataset_params\": dataset_params,\n",
    "               \"model_params\": model_params,\n",
    "               \"equation_params\": equation_params,\n",
    "               \"control_params\": control_params,\n",
    "               \"reset_params\": reset_model_params}"
   ]
  },
  {
   "cell_type": "code",
   "execution_count": 35,
   "metadata": {
    "ExecuteTime": {
     "end_time": "2022-10-18T16:37:16.883114Z",
     "start_time": "2022-10-18T16:37:16.881109Z"
    }
   },
   "outputs": [],
   "source": [
    "import os\n",
    "time_str = get_date_time()\n",
    "saving_path = os.path.join(results_path, run_name+\"_\"+time_str)"
   ]
  },
  {
   "cell_type": "code",
   "execution_count": 36,
   "metadata": {
    "ExecuteTime": {
     "end_time": "2022-10-18T16:37:16.897322Z",
     "start_time": "2022-10-18T16:37:16.884072Z"
    }
   },
   "outputs": [],
   "source": [
    "save_var(results_dict, \"results.pkl\", results_path=saving_path)\n",
    "save_var(params_dict, \"params.pkl\", results_path=saving_path)"
   ]
  },
  {
   "cell_type": "code",
   "execution_count": 37,
   "metadata": {
    "ExecuteTime": {
     "end_time": "2022-10-18T16:37:16.900601Z",
     "start_time": "2022-10-18T16:37:16.898231Z"
    }
   },
   "outputs": [],
   "source": [
    "# save_var(params_dict, \"params.pkl\", results_path=saving_path)"
   ]
  },
  {
   "cell_type": "code",
   "execution_count": null,
   "metadata": {},
   "outputs": [],
   "source": []
  }
 ],
 "metadata": {
  "kernelspec": {
   "display_name": "Python 3 (ipykernel)",
   "language": "python",
   "name": "python3"
  },
  "language_info": {
   "codemirror_mode": {
    "name": "ipython",
    "version": 3
   },
   "file_extension": ".py",
   "mimetype": "text/x-python",
   "name": "python",
   "nbconvert_exporter": "python",
   "pygments_lexer": "ipython3",
   "version": "3.10.8"
  }
 },
 "nbformat": 4,
 "nbformat_minor": 4
}
