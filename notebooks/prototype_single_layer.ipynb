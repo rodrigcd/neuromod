{
 "cells": [
  {
   "cell_type": "code",
   "execution_count": 1,
   "metadata": {
    "ExecuteTime": {
     "end_time": "2022-10-18T16:34:20.905225Z",
     "start_time": "2022-10-18T16:34:20.586654Z"
    }
   },
   "outputs": [
    {
     "data": {
      "text/html": [
       "<style>.container { width:100% !important; }</style>"
      ],
      "text/plain": [
       "<IPython.core.display.HTML object>"
      ]
     },
     "metadata": {},
     "output_type": "display_data"
    },
    {
     "data": {
      "text/html": [
       "<div class=\"bk-root\">\n",
       "        <a href=\"https://bokeh.org\" target=\"_blank\" class=\"bk-logo bk-logo-small bk-logo-notebook\"></a>\n",
       "        <span id=\"1002\">Loading BokehJS ...</span>\n",
       "    </div>\n"
      ]
     },
     "metadata": {},
     "output_type": "display_data"
    },
    {
     "data": {
      "application/javascript": [
       "(function(root) {\n",
       "  function now() {\n",
       "    return new Date();\n",
       "  }\n",
       "\n",
       "  const force = true;\n",
       "\n",
       "  if (typeof root._bokeh_onload_callbacks === \"undefined\" || force === true) {\n",
       "    root._bokeh_onload_callbacks = [];\n",
       "    root._bokeh_is_loading = undefined;\n",
       "  }\n",
       "\n",
       "const JS_MIME_TYPE = 'application/javascript';\n",
       "  const HTML_MIME_TYPE = 'text/html';\n",
       "  const EXEC_MIME_TYPE = 'application/vnd.bokehjs_exec.v0+json';\n",
       "  const CLASS_NAME = 'output_bokeh rendered_html';\n",
       "\n",
       "  /**\n",
       "   * Render data to the DOM node\n",
       "   */\n",
       "  function render(props, node) {\n",
       "    const script = document.createElement(\"script\");\n",
       "    node.appendChild(script);\n",
       "  }\n",
       "\n",
       "  /**\n",
       "   * Handle when an output is cleared or removed\n",
       "   */\n",
       "  function handleClearOutput(event, handle) {\n",
       "    const cell = handle.cell;\n",
       "\n",
       "    const id = cell.output_area._bokeh_element_id;\n",
       "    const server_id = cell.output_area._bokeh_server_id;\n",
       "    // Clean up Bokeh references\n",
       "    if (id != null && id in Bokeh.index) {\n",
       "      Bokeh.index[id].model.document.clear();\n",
       "      delete Bokeh.index[id];\n",
       "    }\n",
       "\n",
       "    if (server_id !== undefined) {\n",
       "      // Clean up Bokeh references\n",
       "      const cmd_clean = \"from bokeh.io.state import curstate; print(curstate().uuid_to_server['\" + server_id + \"'].get_sessions()[0].document.roots[0]._id)\";\n",
       "      cell.notebook.kernel.execute(cmd_clean, {\n",
       "        iopub: {\n",
       "          output: function(msg) {\n",
       "            const id = msg.content.text.trim();\n",
       "            if (id in Bokeh.index) {\n",
       "              Bokeh.index[id].model.document.clear();\n",
       "              delete Bokeh.index[id];\n",
       "            }\n",
       "          }\n",
       "        }\n",
       "      });\n",
       "      // Destroy server and session\n",
       "      const cmd_destroy = \"import bokeh.io.notebook as ion; ion.destroy_server('\" + server_id + \"')\";\n",
       "      cell.notebook.kernel.execute(cmd_destroy);\n",
       "    }\n",
       "  }\n",
       "\n",
       "  /**\n",
       "   * Handle when a new output is added\n",
       "   */\n",
       "  function handleAddOutput(event, handle) {\n",
       "    const output_area = handle.output_area;\n",
       "    const output = handle.output;\n",
       "\n",
       "    // limit handleAddOutput to display_data with EXEC_MIME_TYPE content only\n",
       "    if ((output.output_type != \"display_data\") || (!Object.prototype.hasOwnProperty.call(output.data, EXEC_MIME_TYPE))) {\n",
       "      return\n",
       "    }\n",
       "\n",
       "    const toinsert = output_area.element.find(\".\" + CLASS_NAME.split(' ')[0]);\n",
       "\n",
       "    if (output.metadata[EXEC_MIME_TYPE][\"id\"] !== undefined) {\n",
       "      toinsert[toinsert.length - 1].firstChild.textContent = output.data[JS_MIME_TYPE];\n",
       "      // store reference to embed id on output_area\n",
       "      output_area._bokeh_element_id = output.metadata[EXEC_MIME_TYPE][\"id\"];\n",
       "    }\n",
       "    if (output.metadata[EXEC_MIME_TYPE][\"server_id\"] !== undefined) {\n",
       "      const bk_div = document.createElement(\"div\");\n",
       "      bk_div.innerHTML = output.data[HTML_MIME_TYPE];\n",
       "      const script_attrs = bk_div.children[0].attributes;\n",
       "      for (let i = 0; i < script_attrs.length; i++) {\n",
       "        toinsert[toinsert.length - 1].firstChild.setAttribute(script_attrs[i].name, script_attrs[i].value);\n",
       "        toinsert[toinsert.length - 1].firstChild.textContent = bk_div.children[0].textContent\n",
       "      }\n",
       "      // store reference to server id on output_area\n",
       "      output_area._bokeh_server_id = output.metadata[EXEC_MIME_TYPE][\"server_id\"];\n",
       "    }\n",
       "  }\n",
       "\n",
       "  function register_renderer(events, OutputArea) {\n",
       "\n",
       "    function append_mime(data, metadata, element) {\n",
       "      // create a DOM node to render to\n",
       "      const toinsert = this.create_output_subarea(\n",
       "        metadata,\n",
       "        CLASS_NAME,\n",
       "        EXEC_MIME_TYPE\n",
       "      );\n",
       "      this.keyboard_manager.register_events(toinsert);\n",
       "      // Render to node\n",
       "      const props = {data: data, metadata: metadata[EXEC_MIME_TYPE]};\n",
       "      render(props, toinsert[toinsert.length - 1]);\n",
       "      element.append(toinsert);\n",
       "      return toinsert\n",
       "    }\n",
       "\n",
       "    /* Handle when an output is cleared or removed */\n",
       "    events.on('clear_output.CodeCell', handleClearOutput);\n",
       "    events.on('delete.Cell', handleClearOutput);\n",
       "\n",
       "    /* Handle when a new output is added */\n",
       "    events.on('output_added.OutputArea', handleAddOutput);\n",
       "\n",
       "    /**\n",
       "     * Register the mime type and append_mime function with output_area\n",
       "     */\n",
       "    OutputArea.prototype.register_mime_type(EXEC_MIME_TYPE, append_mime, {\n",
       "      /* Is output safe? */\n",
       "      safe: true,\n",
       "      /* Index of renderer in `output_area.display_order` */\n",
       "      index: 0\n",
       "    });\n",
       "  }\n",
       "\n",
       "  // register the mime type if in Jupyter Notebook environment and previously unregistered\n",
       "  if (root.Jupyter !== undefined) {\n",
       "    const events = require('base/js/events');\n",
       "    const OutputArea = require('notebook/js/outputarea').OutputArea;\n",
       "\n",
       "    if (OutputArea.prototype.mime_types().indexOf(EXEC_MIME_TYPE) == -1) {\n",
       "      register_renderer(events, OutputArea);\n",
       "    }\n",
       "  }\n",
       "  if (typeof (root._bokeh_timeout) === \"undefined\" || force === true) {\n",
       "    root._bokeh_timeout = Date.now() + 5000;\n",
       "    root._bokeh_failed_load = false;\n",
       "  }\n",
       "\n",
       "  const NB_LOAD_WARNING = {'data': {'text/html':\n",
       "     \"<div style='background-color: #fdd'>\\n\"+\n",
       "     \"<p>\\n\"+\n",
       "     \"BokehJS does not appear to have successfully loaded. If loading BokehJS from CDN, this \\n\"+\n",
       "     \"may be due to a slow or bad network connection. Possible fixes:\\n\"+\n",
       "     \"</p>\\n\"+\n",
       "     \"<ul>\\n\"+\n",
       "     \"<li>re-rerun `output_notebook()` to attempt to load from CDN again, or</li>\\n\"+\n",
       "     \"<li>use INLINE resources instead, as so:</li>\\n\"+\n",
       "     \"</ul>\\n\"+\n",
       "     \"<code>\\n\"+\n",
       "     \"from bokeh.resources import INLINE\\n\"+\n",
       "     \"output_notebook(resources=INLINE)\\n\"+\n",
       "     \"</code>\\n\"+\n",
       "     \"</div>\"}};\n",
       "\n",
       "  function display_loaded() {\n",
       "    const el = document.getElementById(\"1002\");\n",
       "    if (el != null) {\n",
       "      el.textContent = \"BokehJS is loading...\";\n",
       "    }\n",
       "    if (root.Bokeh !== undefined) {\n",
       "      if (el != null) {\n",
       "        el.textContent = \"BokehJS \" + root.Bokeh.version + \" successfully loaded.\";\n",
       "      }\n",
       "    } else if (Date.now() < root._bokeh_timeout) {\n",
       "      setTimeout(display_loaded, 100)\n",
       "    }\n",
       "  }\n",
       "\n",
       "  function run_callbacks() {\n",
       "    try {\n",
       "      root._bokeh_onload_callbacks.forEach(function(callback) {\n",
       "        if (callback != null)\n",
       "          callback();\n",
       "      });\n",
       "    } finally {\n",
       "      delete root._bokeh_onload_callbacks\n",
       "    }\n",
       "    console.debug(\"Bokeh: all callbacks have finished\");\n",
       "  }\n",
       "\n",
       "  function load_libs(css_urls, js_urls, callback) {\n",
       "    if (css_urls == null) css_urls = [];\n",
       "    if (js_urls == null) js_urls = [];\n",
       "\n",
       "    root._bokeh_onload_callbacks.push(callback);\n",
       "    if (root._bokeh_is_loading > 0) {\n",
       "      console.debug(\"Bokeh: BokehJS is being loaded, scheduling callback at\", now());\n",
       "      return null;\n",
       "    }\n",
       "    if (js_urls == null || js_urls.length === 0) {\n",
       "      run_callbacks();\n",
       "      return null;\n",
       "    }\n",
       "    console.debug(\"Bokeh: BokehJS not loaded, scheduling load and callback at\", now());\n",
       "    root._bokeh_is_loading = css_urls.length + js_urls.length;\n",
       "\n",
       "    function on_load() {\n",
       "      root._bokeh_is_loading--;\n",
       "      if (root._bokeh_is_loading === 0) {\n",
       "        console.debug(\"Bokeh: all BokehJS libraries/stylesheets loaded\");\n",
       "        run_callbacks()\n",
       "      }\n",
       "    }\n",
       "\n",
       "    function on_error(url) {\n",
       "      console.error(\"failed to load \" + url);\n",
       "    }\n",
       "\n",
       "    for (let i = 0; i < css_urls.length; i++) {\n",
       "      const url = css_urls[i];\n",
       "      const element = document.createElement(\"link\");\n",
       "      element.onload = on_load;\n",
       "      element.onerror = on_error.bind(null, url);\n",
       "      element.rel = \"stylesheet\";\n",
       "      element.type = \"text/css\";\n",
       "      element.href = url;\n",
       "      console.debug(\"Bokeh: injecting link tag for BokehJS stylesheet: \", url);\n",
       "      document.body.appendChild(element);\n",
       "    }\n",
       "\n",
       "    for (let i = 0; i < js_urls.length; i++) {\n",
       "      const url = js_urls[i];\n",
       "      const element = document.createElement('script');\n",
       "      element.onload = on_load;\n",
       "      element.onerror = on_error.bind(null, url);\n",
       "      element.async = false;\n",
       "      element.src = url;\n",
       "      console.debug(\"Bokeh: injecting script tag for BokehJS library: \", url);\n",
       "      document.head.appendChild(element);\n",
       "    }\n",
       "  };\n",
       "\n",
       "  function inject_raw_css(css) {\n",
       "    const element = document.createElement(\"style\");\n",
       "    element.appendChild(document.createTextNode(css));\n",
       "    document.body.appendChild(element);\n",
       "  }\n",
       "\n",
       "  const js_urls = [\"https://cdn.bokeh.org/bokeh/release/bokeh-2.4.3.min.js\", \"https://cdn.bokeh.org/bokeh/release/bokeh-gl-2.4.3.min.js\", \"https://cdn.bokeh.org/bokeh/release/bokeh-widgets-2.4.3.min.js\", \"https://cdn.bokeh.org/bokeh/release/bokeh-tables-2.4.3.min.js\", \"https://cdn.bokeh.org/bokeh/release/bokeh-mathjax-2.4.3.min.js\"];\n",
       "  const css_urls = [];\n",
       "\n",
       "  const inline_js = [    function(Bokeh) {\n",
       "      Bokeh.set_log_level(\"info\");\n",
       "    },\n",
       "function(Bokeh) {\n",
       "    }\n",
       "  ];\n",
       "\n",
       "  function run_inline_js() {\n",
       "    if (root.Bokeh !== undefined || force === true) {\n",
       "          for (let i = 0; i < inline_js.length; i++) {\n",
       "      inline_js[i].call(root, root.Bokeh);\n",
       "    }\n",
       "if (force === true) {\n",
       "        display_loaded();\n",
       "      }} else if (Date.now() < root._bokeh_timeout) {\n",
       "      setTimeout(run_inline_js, 100);\n",
       "    } else if (!root._bokeh_failed_load) {\n",
       "      console.log(\"Bokeh: BokehJS failed to load within specified timeout.\");\n",
       "      root._bokeh_failed_load = true;\n",
       "    } else if (force !== true) {\n",
       "      const cell = $(document.getElementById(\"1002\")).parents('.cell').data().cell;\n",
       "      cell.output_area.append_execute_result(NB_LOAD_WARNING)\n",
       "    }\n",
       "  }\n",
       "\n",
       "  if (root._bokeh_is_loading === 0) {\n",
       "    console.debug(\"Bokeh: BokehJS loaded, going straight to plotting\");\n",
       "    run_inline_js();\n",
       "  } else {\n",
       "    load_libs(css_urls, js_urls, function() {\n",
       "      console.debug(\"Bokeh: BokehJS plotting callback run at\", now());\n",
       "      run_inline_js();\n",
       "    });\n",
       "  }\n",
       "}(window));"
      ],
      "application/vnd.bokehjs_load.v0+json": "(function(root) {\n  function now() {\n    return new Date();\n  }\n\n  const force = true;\n\n  if (typeof root._bokeh_onload_callbacks === \"undefined\" || force === true) {\n    root._bokeh_onload_callbacks = [];\n    root._bokeh_is_loading = undefined;\n  }\n\n\n  if (typeof (root._bokeh_timeout) === \"undefined\" || force === true) {\n    root._bokeh_timeout = Date.now() + 5000;\n    root._bokeh_failed_load = false;\n  }\n\n  const NB_LOAD_WARNING = {'data': {'text/html':\n     \"<div style='background-color: #fdd'>\\n\"+\n     \"<p>\\n\"+\n     \"BokehJS does not appear to have successfully loaded. If loading BokehJS from CDN, this \\n\"+\n     \"may be due to a slow or bad network connection. Possible fixes:\\n\"+\n     \"</p>\\n\"+\n     \"<ul>\\n\"+\n     \"<li>re-rerun `output_notebook()` to attempt to load from CDN again, or</li>\\n\"+\n     \"<li>use INLINE resources instead, as so:</li>\\n\"+\n     \"</ul>\\n\"+\n     \"<code>\\n\"+\n     \"from bokeh.resources import INLINE\\n\"+\n     \"output_notebook(resources=INLINE)\\n\"+\n     \"</code>\\n\"+\n     \"</div>\"}};\n\n  function display_loaded() {\n    const el = document.getElementById(\"1002\");\n    if (el != null) {\n      el.textContent = \"BokehJS is loading...\";\n    }\n    if (root.Bokeh !== undefined) {\n      if (el != null) {\n        el.textContent = \"BokehJS \" + root.Bokeh.version + \" successfully loaded.\";\n      }\n    } else if (Date.now() < root._bokeh_timeout) {\n      setTimeout(display_loaded, 100)\n    }\n  }\n\n  function run_callbacks() {\n    try {\n      root._bokeh_onload_callbacks.forEach(function(callback) {\n        if (callback != null)\n          callback();\n      });\n    } finally {\n      delete root._bokeh_onload_callbacks\n    }\n    console.debug(\"Bokeh: all callbacks have finished\");\n  }\n\n  function load_libs(css_urls, js_urls, callback) {\n    if (css_urls == null) css_urls = [];\n    if (js_urls == null) js_urls = [];\n\n    root._bokeh_onload_callbacks.push(callback);\n    if (root._bokeh_is_loading > 0) {\n      console.debug(\"Bokeh: BokehJS is being loaded, scheduling callback at\", now());\n      return null;\n    }\n    if (js_urls == null || js_urls.length === 0) {\n      run_callbacks();\n      return null;\n    }\n    console.debug(\"Bokeh: BokehJS not loaded, scheduling load and callback at\", now());\n    root._bokeh_is_loading = css_urls.length + js_urls.length;\n\n    function on_load() {\n      root._bokeh_is_loading--;\n      if (root._bokeh_is_loading === 0) {\n        console.debug(\"Bokeh: all BokehJS libraries/stylesheets loaded\");\n        run_callbacks()\n      }\n    }\n\n    function on_error(url) {\n      console.error(\"failed to load \" + url);\n    }\n\n    for (let i = 0; i < css_urls.length; i++) {\n      const url = css_urls[i];\n      const element = document.createElement(\"link\");\n      element.onload = on_load;\n      element.onerror = on_error.bind(null, url);\n      element.rel = \"stylesheet\";\n      element.type = \"text/css\";\n      element.href = url;\n      console.debug(\"Bokeh: injecting link tag for BokehJS stylesheet: \", url);\n      document.body.appendChild(element);\n    }\n\n    for (let i = 0; i < js_urls.length; i++) {\n      const url = js_urls[i];\n      const element = document.createElement('script');\n      element.onload = on_load;\n      element.onerror = on_error.bind(null, url);\n      element.async = false;\n      element.src = url;\n      console.debug(\"Bokeh: injecting script tag for BokehJS library: \", url);\n      document.head.appendChild(element);\n    }\n  };\n\n  function inject_raw_css(css) {\n    const element = document.createElement(\"style\");\n    element.appendChild(document.createTextNode(css));\n    document.body.appendChild(element);\n  }\n\n  const js_urls = [\"https://cdn.bokeh.org/bokeh/release/bokeh-2.4.3.min.js\", \"https://cdn.bokeh.org/bokeh/release/bokeh-gl-2.4.3.min.js\", \"https://cdn.bokeh.org/bokeh/release/bokeh-widgets-2.4.3.min.js\", \"https://cdn.bokeh.org/bokeh/release/bokeh-tables-2.4.3.min.js\", \"https://cdn.bokeh.org/bokeh/release/bokeh-mathjax-2.4.3.min.js\"];\n  const css_urls = [];\n\n  const inline_js = [    function(Bokeh) {\n      Bokeh.set_log_level(\"info\");\n    },\nfunction(Bokeh) {\n    }\n  ];\n\n  function run_inline_js() {\n    if (root.Bokeh !== undefined || force === true) {\n          for (let i = 0; i < inline_js.length; i++) {\n      inline_js[i].call(root, root.Bokeh);\n    }\nif (force === true) {\n        display_loaded();\n      }} else if (Date.now() < root._bokeh_timeout) {\n      setTimeout(run_inline_js, 100);\n    } else if (!root._bokeh_failed_load) {\n      console.log(\"Bokeh: BokehJS failed to load within specified timeout.\");\n      root._bokeh_failed_load = true;\n    } else if (force !== true) {\n      const cell = $(document.getElementById(\"1002\")).parents('.cell').data().cell;\n      cell.output_area.append_execute_result(NB_LOAD_WARNING)\n    }\n  }\n\n  if (root._bokeh_is_loading === 0) {\n    console.debug(\"Bokeh: BokehJS loaded, going straight to plotting\");\n    run_inline_js();\n  } else {\n    load_libs(css_urls, js_urls, function() {\n      console.debug(\"Bokeh: BokehJS plotting callback run at\", now());\n      run_inline_js();\n    });\n  }\n}(window));"
     },
     "metadata": {},
     "output_type": "display_data"
    }
   ],
   "source": [
    "from IPython.display import display, HTML\n",
    "display(HTML(\"<style>.container { width:100% !important; }</style>\"))\n",
    "\n",
    "import numpy as np\n",
    "from tqdm import tqdm\n",
    "\n",
    "from bokeh.plotting import figure, show, output_file, save\n",
    "from bokeh.layouts import gridplot\n",
    "from bokeh.io import output_notebook\n",
    "from bokeh.palettes import Viridis, Category10, Category20\n",
    "from bokeh.io import export_svg\n",
    "output_notebook()"
   ]
  },
  {
   "cell_type": "code",
   "execution_count": 2,
   "metadata": {
    "ExecuteTime": {
     "end_time": "2022-10-18T16:34:22.192897Z",
     "start_time": "2022-10-18T16:34:21.557216Z"
    }
   },
   "outputs": [
    {
     "data": {
      "text/html": [
       "<div class=\"bk-root\">\n",
       "        <a href=\"https://bokeh.org\" target=\"_blank\" class=\"bk-logo bk-logo-small bk-logo-notebook\"></a>\n",
       "        <span id=\"1003\">Loading BokehJS ...</span>\n",
       "    </div>\n"
      ]
     },
     "metadata": {},
     "output_type": "display_data"
    },
    {
     "data": {
      "application/javascript": [
       "(function(root) {\n",
       "  function now() {\n",
       "    return new Date();\n",
       "  }\n",
       "\n",
       "  const force = true;\n",
       "\n",
       "  if (typeof root._bokeh_onload_callbacks === \"undefined\" || force === true) {\n",
       "    root._bokeh_onload_callbacks = [];\n",
       "    root._bokeh_is_loading = undefined;\n",
       "  }\n",
       "\n",
       "const JS_MIME_TYPE = 'application/javascript';\n",
       "  const HTML_MIME_TYPE = 'text/html';\n",
       "  const EXEC_MIME_TYPE = 'application/vnd.bokehjs_exec.v0+json';\n",
       "  const CLASS_NAME = 'output_bokeh rendered_html';\n",
       "\n",
       "  /**\n",
       "   * Render data to the DOM node\n",
       "   */\n",
       "  function render(props, node) {\n",
       "    const script = document.createElement(\"script\");\n",
       "    node.appendChild(script);\n",
       "  }\n",
       "\n",
       "  /**\n",
       "   * Handle when an output is cleared or removed\n",
       "   */\n",
       "  function handleClearOutput(event, handle) {\n",
       "    const cell = handle.cell;\n",
       "\n",
       "    const id = cell.output_area._bokeh_element_id;\n",
       "    const server_id = cell.output_area._bokeh_server_id;\n",
       "    // Clean up Bokeh references\n",
       "    if (id != null && id in Bokeh.index) {\n",
       "      Bokeh.index[id].model.document.clear();\n",
       "      delete Bokeh.index[id];\n",
       "    }\n",
       "\n",
       "    if (server_id !== undefined) {\n",
       "      // Clean up Bokeh references\n",
       "      const cmd_clean = \"from bokeh.io.state import curstate; print(curstate().uuid_to_server['\" + server_id + \"'].get_sessions()[0].document.roots[0]._id)\";\n",
       "      cell.notebook.kernel.execute(cmd_clean, {\n",
       "        iopub: {\n",
       "          output: function(msg) {\n",
       "            const id = msg.content.text.trim();\n",
       "            if (id in Bokeh.index) {\n",
       "              Bokeh.index[id].model.document.clear();\n",
       "              delete Bokeh.index[id];\n",
       "            }\n",
       "          }\n",
       "        }\n",
       "      });\n",
       "      // Destroy server and session\n",
       "      const cmd_destroy = \"import bokeh.io.notebook as ion; ion.destroy_server('\" + server_id + \"')\";\n",
       "      cell.notebook.kernel.execute(cmd_destroy);\n",
       "    }\n",
       "  }\n",
       "\n",
       "  /**\n",
       "   * Handle when a new output is added\n",
       "   */\n",
       "  function handleAddOutput(event, handle) {\n",
       "    const output_area = handle.output_area;\n",
       "    const output = handle.output;\n",
       "\n",
       "    // limit handleAddOutput to display_data with EXEC_MIME_TYPE content only\n",
       "    if ((output.output_type != \"display_data\") || (!Object.prototype.hasOwnProperty.call(output.data, EXEC_MIME_TYPE))) {\n",
       "      return\n",
       "    }\n",
       "\n",
       "    const toinsert = output_area.element.find(\".\" + CLASS_NAME.split(' ')[0]);\n",
       "\n",
       "    if (output.metadata[EXEC_MIME_TYPE][\"id\"] !== undefined) {\n",
       "      toinsert[toinsert.length - 1].firstChild.textContent = output.data[JS_MIME_TYPE];\n",
       "      // store reference to embed id on output_area\n",
       "      output_area._bokeh_element_id = output.metadata[EXEC_MIME_TYPE][\"id\"];\n",
       "    }\n",
       "    if (output.metadata[EXEC_MIME_TYPE][\"server_id\"] !== undefined) {\n",
       "      const bk_div = document.createElement(\"div\");\n",
       "      bk_div.innerHTML = output.data[HTML_MIME_TYPE];\n",
       "      const script_attrs = bk_div.children[0].attributes;\n",
       "      for (let i = 0; i < script_attrs.length; i++) {\n",
       "        toinsert[toinsert.length - 1].firstChild.setAttribute(script_attrs[i].name, script_attrs[i].value);\n",
       "        toinsert[toinsert.length - 1].firstChild.textContent = bk_div.children[0].textContent\n",
       "      }\n",
       "      // store reference to server id on output_area\n",
       "      output_area._bokeh_server_id = output.metadata[EXEC_MIME_TYPE][\"server_id\"];\n",
       "    }\n",
       "  }\n",
       "\n",
       "  function register_renderer(events, OutputArea) {\n",
       "\n",
       "    function append_mime(data, metadata, element) {\n",
       "      // create a DOM node to render to\n",
       "      const toinsert = this.create_output_subarea(\n",
       "        metadata,\n",
       "        CLASS_NAME,\n",
       "        EXEC_MIME_TYPE\n",
       "      );\n",
       "      this.keyboard_manager.register_events(toinsert);\n",
       "      // Render to node\n",
       "      const props = {data: data, metadata: metadata[EXEC_MIME_TYPE]};\n",
       "      render(props, toinsert[toinsert.length - 1]);\n",
       "      element.append(toinsert);\n",
       "      return toinsert\n",
       "    }\n",
       "\n",
       "    /* Handle when an output is cleared or removed */\n",
       "    events.on('clear_output.CodeCell', handleClearOutput);\n",
       "    events.on('delete.Cell', handleClearOutput);\n",
       "\n",
       "    /* Handle when a new output is added */\n",
       "    events.on('output_added.OutputArea', handleAddOutput);\n",
       "\n",
       "    /**\n",
       "     * Register the mime type and append_mime function with output_area\n",
       "     */\n",
       "    OutputArea.prototype.register_mime_type(EXEC_MIME_TYPE, append_mime, {\n",
       "      /* Is output safe? */\n",
       "      safe: true,\n",
       "      /* Index of renderer in `output_area.display_order` */\n",
       "      index: 0\n",
       "    });\n",
       "  }\n",
       "\n",
       "  // register the mime type if in Jupyter Notebook environment and previously unregistered\n",
       "  if (root.Jupyter !== undefined) {\n",
       "    const events = require('base/js/events');\n",
       "    const OutputArea = require('notebook/js/outputarea').OutputArea;\n",
       "\n",
       "    if (OutputArea.prototype.mime_types().indexOf(EXEC_MIME_TYPE) == -1) {\n",
       "      register_renderer(events, OutputArea);\n",
       "    }\n",
       "  }\n",
       "  if (typeof (root._bokeh_timeout) === \"undefined\" || force === true) {\n",
       "    root._bokeh_timeout = Date.now() + 5000;\n",
       "    root._bokeh_failed_load = false;\n",
       "  }\n",
       "\n",
       "  const NB_LOAD_WARNING = {'data': {'text/html':\n",
       "     \"<div style='background-color: #fdd'>\\n\"+\n",
       "     \"<p>\\n\"+\n",
       "     \"BokehJS does not appear to have successfully loaded. If loading BokehJS from CDN, this \\n\"+\n",
       "     \"may be due to a slow or bad network connection. Possible fixes:\\n\"+\n",
       "     \"</p>\\n\"+\n",
       "     \"<ul>\\n\"+\n",
       "     \"<li>re-rerun `output_notebook()` to attempt to load from CDN again, or</li>\\n\"+\n",
       "     \"<li>use INLINE resources instead, as so:</li>\\n\"+\n",
       "     \"</ul>\\n\"+\n",
       "     \"<code>\\n\"+\n",
       "     \"from bokeh.resources import INLINE\\n\"+\n",
       "     \"output_notebook(resources=INLINE)\\n\"+\n",
       "     \"</code>\\n\"+\n",
       "     \"</div>\"}};\n",
       "\n",
       "  function display_loaded() {\n",
       "    const el = document.getElementById(\"1003\");\n",
       "    if (el != null) {\n",
       "      el.textContent = \"BokehJS is loading...\";\n",
       "    }\n",
       "    if (root.Bokeh !== undefined) {\n",
       "      if (el != null) {\n",
       "        el.textContent = \"BokehJS \" + root.Bokeh.version + \" successfully loaded.\";\n",
       "      }\n",
       "    } else if (Date.now() < root._bokeh_timeout) {\n",
       "      setTimeout(display_loaded, 100)\n",
       "    }\n",
       "  }\n",
       "\n",
       "  function run_callbacks() {\n",
       "    try {\n",
       "      root._bokeh_onload_callbacks.forEach(function(callback) {\n",
       "        if (callback != null)\n",
       "          callback();\n",
       "      });\n",
       "    } finally {\n",
       "      delete root._bokeh_onload_callbacks\n",
       "    }\n",
       "    console.debug(\"Bokeh: all callbacks have finished\");\n",
       "  }\n",
       "\n",
       "  function load_libs(css_urls, js_urls, callback) {\n",
       "    if (css_urls == null) css_urls = [];\n",
       "    if (js_urls == null) js_urls = [];\n",
       "\n",
       "    root._bokeh_onload_callbacks.push(callback);\n",
       "    if (root._bokeh_is_loading > 0) {\n",
       "      console.debug(\"Bokeh: BokehJS is being loaded, scheduling callback at\", now());\n",
       "      return null;\n",
       "    }\n",
       "    if (js_urls == null || js_urls.length === 0) {\n",
       "      run_callbacks();\n",
       "      return null;\n",
       "    }\n",
       "    console.debug(\"Bokeh: BokehJS not loaded, scheduling load and callback at\", now());\n",
       "    root._bokeh_is_loading = css_urls.length + js_urls.length;\n",
       "\n",
       "    function on_load() {\n",
       "      root._bokeh_is_loading--;\n",
       "      if (root._bokeh_is_loading === 0) {\n",
       "        console.debug(\"Bokeh: all BokehJS libraries/stylesheets loaded\");\n",
       "        run_callbacks()\n",
       "      }\n",
       "    }\n",
       "\n",
       "    function on_error(url) {\n",
       "      console.error(\"failed to load \" + url);\n",
       "    }\n",
       "\n",
       "    for (let i = 0; i < css_urls.length; i++) {\n",
       "      const url = css_urls[i];\n",
       "      const element = document.createElement(\"link\");\n",
       "      element.onload = on_load;\n",
       "      element.onerror = on_error.bind(null, url);\n",
       "      element.rel = \"stylesheet\";\n",
       "      element.type = \"text/css\";\n",
       "      element.href = url;\n",
       "      console.debug(\"Bokeh: injecting link tag for BokehJS stylesheet: \", url);\n",
       "      document.body.appendChild(element);\n",
       "    }\n",
       "\n",
       "    for (let i = 0; i < js_urls.length; i++) {\n",
       "      const url = js_urls[i];\n",
       "      const element = document.createElement('script');\n",
       "      element.onload = on_load;\n",
       "      element.onerror = on_error.bind(null, url);\n",
       "      element.async = false;\n",
       "      element.src = url;\n",
       "      console.debug(\"Bokeh: injecting script tag for BokehJS library: \", url);\n",
       "      document.head.appendChild(element);\n",
       "    }\n",
       "  };\n",
       "\n",
       "  function inject_raw_css(css) {\n",
       "    const element = document.createElement(\"style\");\n",
       "    element.appendChild(document.createTextNode(css));\n",
       "    document.body.appendChild(element);\n",
       "  }\n",
       "\n",
       "  const js_urls = [\"https://cdn.bokeh.org/bokeh/release/bokeh-2.4.3.min.js\", \"https://cdn.bokeh.org/bokeh/release/bokeh-gl-2.4.3.min.js\", \"https://cdn.bokeh.org/bokeh/release/bokeh-widgets-2.4.3.min.js\", \"https://cdn.bokeh.org/bokeh/release/bokeh-tables-2.4.3.min.js\", \"https://cdn.bokeh.org/bokeh/release/bokeh-mathjax-2.4.3.min.js\"];\n",
       "  const css_urls = [];\n",
       "\n",
       "  const inline_js = [    function(Bokeh) {\n",
       "      Bokeh.set_log_level(\"info\");\n",
       "    },\n",
       "function(Bokeh) {\n",
       "    }\n",
       "  ];\n",
       "\n",
       "  function run_inline_js() {\n",
       "    if (root.Bokeh !== undefined || force === true) {\n",
       "          for (let i = 0; i < inline_js.length; i++) {\n",
       "      inline_js[i].call(root, root.Bokeh);\n",
       "    }\n",
       "if (force === true) {\n",
       "        display_loaded();\n",
       "      }} else if (Date.now() < root._bokeh_timeout) {\n",
       "      setTimeout(run_inline_js, 100);\n",
       "    } else if (!root._bokeh_failed_load) {\n",
       "      console.log(\"Bokeh: BokehJS failed to load within specified timeout.\");\n",
       "      root._bokeh_failed_load = true;\n",
       "    } else if (force !== true) {\n",
       "      const cell = $(document.getElementById(\"1003\")).parents('.cell').data().cell;\n",
       "      cell.output_area.append_execute_result(NB_LOAD_WARNING)\n",
       "    }\n",
       "  }\n",
       "\n",
       "  if (root._bokeh_is_loading === 0) {\n",
       "    console.debug(\"Bokeh: BokehJS loaded, going straight to plotting\");\n",
       "    run_inline_js();\n",
       "  } else {\n",
       "    load_libs(css_urls, js_urls, function() {\n",
       "      console.debug(\"Bokeh: BokehJS plotting callback run at\", now());\n",
       "      run_inline_js();\n",
       "    });\n",
       "  }\n",
       "}(window));"
      ],
      "application/vnd.bokehjs_load.v0+json": "(function(root) {\n  function now() {\n    return new Date();\n  }\n\n  const force = true;\n\n  if (typeof root._bokeh_onload_callbacks === \"undefined\" || force === true) {\n    root._bokeh_onload_callbacks = [];\n    root._bokeh_is_loading = undefined;\n  }\n\n\n  if (typeof (root._bokeh_timeout) === \"undefined\" || force === true) {\n    root._bokeh_timeout = Date.now() + 5000;\n    root._bokeh_failed_load = false;\n  }\n\n  const NB_LOAD_WARNING = {'data': {'text/html':\n     \"<div style='background-color: #fdd'>\\n\"+\n     \"<p>\\n\"+\n     \"BokehJS does not appear to have successfully loaded. If loading BokehJS from CDN, this \\n\"+\n     \"may be due to a slow or bad network connection. Possible fixes:\\n\"+\n     \"</p>\\n\"+\n     \"<ul>\\n\"+\n     \"<li>re-rerun `output_notebook()` to attempt to load from CDN again, or</li>\\n\"+\n     \"<li>use INLINE resources instead, as so:</li>\\n\"+\n     \"</ul>\\n\"+\n     \"<code>\\n\"+\n     \"from bokeh.resources import INLINE\\n\"+\n     \"output_notebook(resources=INLINE)\\n\"+\n     \"</code>\\n\"+\n     \"</div>\"}};\n\n  function display_loaded() {\n    const el = document.getElementById(\"1003\");\n    if (el != null) {\n      el.textContent = \"BokehJS is loading...\";\n    }\n    if (root.Bokeh !== undefined) {\n      if (el != null) {\n        el.textContent = \"BokehJS \" + root.Bokeh.version + \" successfully loaded.\";\n      }\n    } else if (Date.now() < root._bokeh_timeout) {\n      setTimeout(display_loaded, 100)\n    }\n  }\n\n  function run_callbacks() {\n    try {\n      root._bokeh_onload_callbacks.forEach(function(callback) {\n        if (callback != null)\n          callback();\n      });\n    } finally {\n      delete root._bokeh_onload_callbacks\n    }\n    console.debug(\"Bokeh: all callbacks have finished\");\n  }\n\n  function load_libs(css_urls, js_urls, callback) {\n    if (css_urls == null) css_urls = [];\n    if (js_urls == null) js_urls = [];\n\n    root._bokeh_onload_callbacks.push(callback);\n    if (root._bokeh_is_loading > 0) {\n      console.debug(\"Bokeh: BokehJS is being loaded, scheduling callback at\", now());\n      return null;\n    }\n    if (js_urls == null || js_urls.length === 0) {\n      run_callbacks();\n      return null;\n    }\n    console.debug(\"Bokeh: BokehJS not loaded, scheduling load and callback at\", now());\n    root._bokeh_is_loading = css_urls.length + js_urls.length;\n\n    function on_load() {\n      root._bokeh_is_loading--;\n      if (root._bokeh_is_loading === 0) {\n        console.debug(\"Bokeh: all BokehJS libraries/stylesheets loaded\");\n        run_callbacks()\n      }\n    }\n\n    function on_error(url) {\n      console.error(\"failed to load \" + url);\n    }\n\n    for (let i = 0; i < css_urls.length; i++) {\n      const url = css_urls[i];\n      const element = document.createElement(\"link\");\n      element.onload = on_load;\n      element.onerror = on_error.bind(null, url);\n      element.rel = \"stylesheet\";\n      element.type = \"text/css\";\n      element.href = url;\n      console.debug(\"Bokeh: injecting link tag for BokehJS stylesheet: \", url);\n      document.body.appendChild(element);\n    }\n\n    for (let i = 0; i < js_urls.length; i++) {\n      const url = js_urls[i];\n      const element = document.createElement('script');\n      element.onload = on_load;\n      element.onerror = on_error.bind(null, url);\n      element.async = false;\n      element.src = url;\n      console.debug(\"Bokeh: injecting script tag for BokehJS library: \", url);\n      document.head.appendChild(element);\n    }\n  };\n\n  function inject_raw_css(css) {\n    const element = document.createElement(\"style\");\n    element.appendChild(document.createTextNode(css));\n    document.body.appendChild(element);\n  }\n\n  const js_urls = [\"https://cdn.bokeh.org/bokeh/release/bokeh-2.4.3.min.js\", \"https://cdn.bokeh.org/bokeh/release/bokeh-gl-2.4.3.min.js\", \"https://cdn.bokeh.org/bokeh/release/bokeh-widgets-2.4.3.min.js\", \"https://cdn.bokeh.org/bokeh/release/bokeh-tables-2.4.3.min.js\", \"https://cdn.bokeh.org/bokeh/release/bokeh-mathjax-2.4.3.min.js\"];\n  const css_urls = [];\n\n  const inline_js = [    function(Bokeh) {\n      Bokeh.set_log_level(\"info\");\n    },\nfunction(Bokeh) {\n    }\n  ];\n\n  function run_inline_js() {\n    if (root.Bokeh !== undefined || force === true) {\n          for (let i = 0; i < inline_js.length; i++) {\n      inline_js[i].call(root, root.Bokeh);\n    }\nif (force === true) {\n        display_loaded();\n      }} else if (Date.now() < root._bokeh_timeout) {\n      setTimeout(run_inline_js, 100);\n    } else if (!root._bokeh_failed_load) {\n      console.log(\"Bokeh: BokehJS failed to load within specified timeout.\");\n      root._bokeh_failed_load = true;\n    } else if (force !== true) {\n      const cell = $(document.getElementById(\"1003\")).parents('.cell').data().cell;\n      cell.output_area.append_execute_result(NB_LOAD_WARNING)\n    }\n  }\n\n  if (root._bokeh_is_loading === 0) {\n    console.debug(\"Bokeh: BokehJS loaded, going straight to plotting\");\n    run_inline_js();\n  } else {\n    load_libs(css_urls, js_urls, function() {\n      console.debug(\"Bokeh: BokehJS plotting callback run at\", now());\n      run_inline_js();\n    });\n  }\n}(window));"
     },
     "metadata": {},
     "output_type": "display_data"
    }
   ],
   "source": [
    "from metamod.control import SingleLayerEq, SingleLayerControl\n",
    "from metamod.tasks import AffineCorrelatedGaussian, TwoGaussians\n",
    "from metamod.trainers import single_layer_training\n",
    "from metamod.networks import SingleLayerNet\n",
    "from metamod.utils import plot_lines, plot_weight_ev, check_dir, save_var, get_date_time"
   ]
  },
  {
   "cell_type": "code",
   "execution_count": 3,
   "metadata": {
    "ExecuteTime": {
     "end_time": "2022-10-18T16:34:22.708796Z",
     "start_time": "2022-10-18T16:34:22.701753Z"
    }
   },
   "outputs": [],
   "source": [
    "run_name = \"testing_single_layer\"\n",
    "results_path = \"../results\""
   ]
  },
  {
   "cell_type": "code",
   "execution_count": 4,
   "metadata": {
    "ExecuteTime": {
     "end_time": "2022-10-18T16:34:23.143985Z",
     "start_time": "2022-10-18T16:34:23.141670Z"
    }
   },
   "outputs": [],
   "source": [
    "results_dict = {}"
   ]
  },
  {
   "cell_type": "code",
   "execution_count": 5,
   "metadata": {
    "ExecuteTime": {
     "end_time": "2022-10-18T16:34:23.343309Z",
     "start_time": "2022-10-18T16:34:23.341049Z"
    }
   },
   "outputs": [],
   "source": [
    "#dataset_params = {\"mu_vec\": (3.0, 1.0), \n",
    "#                  \"batch_size\": 256, \n",
    "#                  \"dependence_parameter\": 0.8, \n",
    "#                  \"sigma_vec\":(1.0, 1.0)}\n",
    "\n",
    "#dataset = AffineCorrelatedGaussian(**dataset_params)\n",
    "\n",
    "dataset_params = {\"mu\": 2.0, \n",
    "                  \"batch_size\": 128, \n",
    "                  \"std\": 1.0}\n",
    "dataset = TwoGaussians(**dataset_params)"
   ]
  },
  {
   "cell_type": "code",
   "execution_count": 6,
   "metadata": {
    "ExecuteTime": {
     "end_time": "2022-10-18T16:34:25.903442Z",
     "start_time": "2022-10-18T16:34:23.512686Z"
    }
   },
   "outputs": [],
   "source": [
    "model_params = {\"learning_rate\": 1e-3,\n",
    "                \"reg_coef\": 0.1,\n",
    "                \"intrinsic_noise\": 0.0,\n",
    "                \"input_dim\": dataset.input_dim,\n",
    "                \"output_dim\": dataset.output_dim,\n",
    "                \"W_0\": np.zeros((1, 1))}\n",
    "\n",
    "model = SingleLayerNet(**model_params)"
   ]
  },
  {
   "cell_type": "code",
   "execution_count": 7,
   "metadata": {
    "ExecuteTime": {
     "end_time": "2022-10-18T16:34:29.153628Z",
     "start_time": "2022-10-18T16:34:25.904517Z"
    }
   },
   "outputs": [
    {
     "name": "stderr",
     "output_type": "stream",
     "text": [
      "100%|███████████████████████████████████████████████████████████████████████████████████████████████████████████████████████████████████████████████████████████████████████████| 600/600 [00:01<00:00, 416.66it/s]\n"
     ]
    }
   ],
   "source": [
    "n_steps = 600\n",
    "save_weights_every = 20\n",
    "\n",
    "iters, loss, weights_iter, weights = single_layer_training(model=model, dataset=dataset, n_steps=n_steps, save_weights_every=save_weights_every)\n",
    "\n",
    "results_dict[\"iters\"] = iters\n",
    "results_dict[\"Loss_t_sim\"] = loss\n",
    "results_dict[\"weights_sim\"] = weights\n",
    "results_dict[\"weights_iters_sim\"] = weights_iter"
   ]
  },
  {
   "cell_type": "code",
   "execution_count": 8,
   "metadata": {
    "ExecuteTime": {
     "end_time": "2022-10-18T16:34:29.157446Z",
     "start_time": "2022-10-18T16:34:29.154803Z"
    }
   },
   "outputs": [
    {
     "data": {
      "text/plain": [
       "(30, 1, 1)"
      ]
     },
     "execution_count": 8,
     "metadata": {},
     "output_type": "execute_result"
    }
   ],
   "source": [
    "weights.shape"
   ]
  },
  {
   "cell_type": "code",
   "execution_count": 9,
   "metadata": {
    "ExecuteTime": {
     "end_time": "2022-10-18T16:34:29.163851Z",
     "start_time": "2022-10-18T16:34:29.158424Z"
    }
   },
   "outputs": [],
   "source": [
    "init_W = weights[0, ...]\n",
    "\n",
    "init_weights = init_W\n",
    "input_corr, output_corr, input_output_corr, expected_y, expected_x = dataset.get_correlation_matrix()\n",
    "\n",
    "time_span = np.arange(0, len(iters))*model_params[\"learning_rate\"]\n",
    "results_dict[\"time_span\"] = time_span"
   ]
  },
  {
   "cell_type": "code",
   "execution_count": 10,
   "metadata": {},
   "outputs": [
    {
     "data": {
      "text/plain": [
       "(1, 1)"
      ]
     },
     "execution_count": 10,
     "metadata": {},
     "output_type": "execute_result"
    }
   ],
   "source": [
    "init_W.shape"
   ]
  },
  {
   "cell_type": "code",
   "execution_count": 11,
   "metadata": {
    "ExecuteTime": {
     "end_time": "2022-10-18T16:34:29.166717Z",
     "start_time": "2022-10-18T16:34:29.164694Z"
    }
   },
   "outputs": [],
   "source": [
    "equation_params = {\"in_cov\": input_corr,\n",
    "                   \"out_cov\": output_corr,\n",
    "                   \"in_out_cov\": input_output_corr,\n",
    "                   # \"expected_y\": expected_y,\n",
    "                   # \"expected_x\": expected_x,\n",
    "                   \"init_weights\": init_weights,\n",
    "                   \"n_steps\": n_steps,\n",
    "                   \"reg_coef\": model_params[\"reg_coef\"],\n",
    "                   \"intrinsic_noise\": model_params[\"intrinsic_noise\"],\n",
    "                   \"learning_rate\": model_params[\"learning_rate\"],\n",
    "                   \"time_constant\": 1.0}"
   ]
  },
  {
   "cell_type": "code",
   "execution_count": 12,
   "metadata": {
    "ExecuteTime": {
     "end_time": "2022-10-18T16:34:29.169575Z",
     "start_time": "2022-10-18T16:34:29.167556Z"
    }
   },
   "outputs": [],
   "source": [
    "solver = SingleLayerEq(**equation_params)"
   ]
  },
  {
   "cell_type": "code",
   "execution_count": 13,
   "metadata": {
    "ExecuteTime": {
     "end_time": "2022-10-18T16:34:29.172237Z",
     "start_time": "2022-10-18T16:34:29.170353Z"
    }
   },
   "outputs": [],
   "source": [
    "control_params = {**equation_params,\n",
    "                  \"control_lower_bound\": 0.0,\n",
    "                  \"control_upper_bound\": 0.5,\n",
    "                  \"gamma\": 0.99,\n",
    "                  \"cost_coef\": 0.3,\n",
    "                  \"reward_convertion\": 1.0,\n",
    "                  \"init_g\": None,\n",
    "                  \"control_lr\": 10.0}"
   ]
  },
  {
   "cell_type": "code",
   "execution_count": 14,
   "metadata": {
    "ExecuteTime": {
     "end_time": "2022-10-18T16:34:29.176174Z",
     "start_time": "2022-10-18T16:34:29.173724Z"
    }
   },
   "outputs": [],
   "source": [
    "control = SingleLayerControl(**control_params)"
   ]
  },
  {
   "cell_type": "code",
   "execution_count": 15,
   "metadata": {
    "ExecuteTime": {
     "end_time": "2022-10-18T16:34:29.179835Z",
     "start_time": "2022-10-18T16:34:29.177582Z"
    }
   },
   "outputs": [
    {
     "name": "stdout",
     "output_type": "stream",
     "text": [
      "(30, 1, 1) torch.Size([600, 1, 1])\n"
     ]
    }
   ],
   "source": [
    "sim_weights = weights\n",
    "print(sim_weights.shape, control.g_tilda.shape)"
   ]
  },
  {
   "cell_type": "code",
   "execution_count": 16,
   "metadata": {
    "ExecuteTime": {
     "end_time": "2022-10-18T16:34:29.939356Z",
     "start_time": "2022-10-18T16:34:29.180732Z"
    }
   },
   "outputs": [],
   "source": [
    "W_t= solver.get_weights(time_span, get_numpy=True)\n",
    "Loss_t = solver.get_loss_function(W_t, get_numpy=True)\n",
    "\n",
    "results_dict[\"W_t_eq\"] = W_t\n",
    "results_dict[\"Loss_t_eq\"] = Loss_t"
   ]
  },
  {
   "cell_type": "code",
   "execution_count": 17,
   "metadata": {
    "ExecuteTime": {
     "end_time": "2022-10-18T16:34:31.285075Z",
     "start_time": "2022-10-18T16:34:29.940312Z"
    }
   },
   "outputs": [],
   "source": [
    "W_t_control = control.get_weights(time_span, get_numpy=True)\n",
    "Loss_t_control = control.get_loss_function(W_t_control, get_numpy=True)\n",
    "\n",
    "results_dict[\"W_t_control_init\"] = W_t_control\n",
    "results_dict[\"Loss_t_control_init\"] = Loss_t_control\n",
    "results_dict[\"control_signal_init\"] = control.g_tilda"
   ]
  },
  {
   "cell_type": "code",
   "execution_count": 18,
   "metadata": {
    "ExecuteTime": {
     "end_time": "2022-10-18T16:34:31.364595Z",
     "start_time": "2022-10-18T16:34:31.286237Z"
    }
   },
   "outputs": [
    {
     "data": {
      "text/html": [
       "\n",
       "  <div class=\"bk-root\" id=\"751f374d-3bf5-4db0-a668-d608fc64acc3\" data-root-id=\"1004\"></div>\n"
      ]
     },
     "metadata": {},
     "output_type": "display_data"
    },
    {
     "data": {
      "application/javascript": [
       "(function(root) {\n",
       "  function embed_document(root) {\n",
       "  const docs_json = {\"6cb051c2-6c3c-42a2-95a3-e20b81ee8c0c\":{\"defs\":[],\"roots\":{\"references\":[{\"attributes\":{\"below\":[{\"id\":\"1013\"}],\"center\":[{\"id\":\"1016\"},{\"id\":\"1020\"},{\"id\":\"1052\"}],\"height\":500,\"left\":[{\"id\":\"1017\"}],\"renderers\":[{\"id\":\"1039\"},{\"id\":\"1058\"},{\"id\":\"1078\"}],\"title\":{\"id\":\"1041\"},\"toolbar\":{\"id\":\"1028\"},\"width\":800,\"x_range\":{\"id\":\"1005\"},\"x_scale\":{\"id\":\"1009\"},\"y_range\":{\"id\":\"1007\"},\"y_scale\":{\"id\":\"1011\"}},\"id\":\"1004\",\"subtype\":\"Figure\",\"type\":\"Plot\"},{\"attributes\":{\"line_alpha\":0.1,\"line_color\":\"#1f77b4\",\"line_width\":3,\"x\":{\"field\":\"x\"},\"y\":{\"field\":\"y\"}},\"id\":\"1037\",\"type\":\"Line\"},{\"attributes\":{\"line_alpha\":0.2,\"line_color\":\"#1f77b4\",\"line_width\":3,\"x\":{\"field\":\"x\"},\"y\":{\"field\":\"y\"}},\"id\":\"1038\",\"type\":\"Line\"},{\"attributes\":{},\"id\":\"1014\",\"type\":\"BasicTicker\"},{\"attributes\":{},\"id\":\"1022\",\"type\":\"WheelZoomTool\"},{\"attributes\":{},\"id\":\"1050\",\"type\":\"Selection\"},{\"attributes\":{},\"id\":\"1048\",\"type\":\"AllLabels\"},{\"attributes\":{\"line_alpha\":0.2,\"line_color\":\"#ff7f0e\",\"line_width\":3,\"x\":{\"field\":\"x\"},\"y\":{\"field\":\"y\"}},\"id\":\"1077\",\"type\":\"Line\"},{\"attributes\":{\"label\":{\"value\":\"Real Non-linear\"},\"renderers\":[{\"id\":\"1039\"}]},\"id\":\"1053\",\"type\":\"LegendItem\"},{\"attributes\":{\"coordinates\":null,\"data_source\":{\"id\":\"1054\"},\"glyph\":{\"id\":\"1055\"},\"group\":null,\"hover_glyph\":null,\"muted_glyph\":{\"id\":\"1057\"},\"nonselection_glyph\":{\"id\":\"1056\"},\"view\":{\"id\":\"1059\"}},\"id\":\"1058\",\"type\":\"GlyphRenderer\"},{\"attributes\":{},\"id\":\"1049\",\"type\":\"UnionRenderers\"},{\"attributes\":{\"line_alpha\":0.2,\"line_color\":\"#1f77b4\",\"line_width\":3,\"x\":{\"field\":\"x\"},\"y\":{\"field\":\"y\"}},\"id\":\"1057\",\"type\":\"Line\"},{\"attributes\":{\"axis\":{\"id\":\"1013\"},\"coordinates\":null,\"group\":null,\"ticker\":null},\"id\":\"1016\",\"type\":\"Grid\"},{\"attributes\":{},\"id\":\"1093\",\"type\":\"Selection\"},{\"attributes\":{\"data\":{\"x\":[0,1,2,3,4,5,6,7,8,9,10,11,12,13,14,15,16,17,18,19,20,21,22,23,24,25,26,27,28,29,30,31,32,33,34,35,36,37,38,39,40,41,42,43,44,45,46,47,48,49,50,51,52,53,54,55,56,57,58,59,60,61,62,63,64,65,66,67,68,69,70,71,72,73,74,75,76,77,78,79,80,81,82,83,84,85,86,87,88,89,90,91,92,93,94,95,96,97,98,99,100,101,102,103,104,105,106,107,108,109,110,111,112,113,114,115,116,117,118,119,120,121,122,123,124,125,126,127,128,129,130,131,132,133,134,135,136,137,138,139,140,141,142,143,144,145,146,147,148,149,150,151,152,153,154,155,156,157,158,159,160,161,162,163,164,165,166,167,168,169,170,171,172,173,174,175,176,177,178,179,180,181,182,183,184,185,186,187,188,189,190,191,192,193,194,195,196,197,198,199,200,201,202,203,204,205,206,207,208,209,210,211,212,213,214,215,216,217,218,219,220,221,222,223,224,225,226,227,228,229,230,231,232,233,234,235,236,237,238,239,240,241,242,243,244,245,246,247,248,249,250,251,252,253,254,255,256,257,258,259,260,261,262,263,264,265,266,267,268,269,270,271,272,273,274,275,276,277,278,279,280,281,282,283,284,285,286,287,288,289,290,291,292,293,294,295,296,297,298,299,300,301,302,303,304,305,306,307,308,309,310,311,312,313,314,315,316,317,318,319,320,321,322,323,324,325,326,327,328,329,330,331,332,333,334,335,336,337,338,339,340,341,342,343,344,345,346,347,348,349,350,351,352,353,354,355,356,357,358,359,360,361,362,363,364,365,366,367,368,369,370,371,372,373,374,375,376,377,378,379,380,381,382,383,384,385,386,387,388,389,390,391,392,393,394,395,396,397,398,399,400,401,402,403,404,405,406,407,408,409,410,411,412,413,414,415,416,417,418,419,420,421,422,423,424,425,426,427,428,429,430,431,432,433,434,435,436,437,438,439,440,441,442,443,444,445,446,447,448,449,450,451,452,453,454,455,456,457,458,459,460,461,462,463,464,465,466,467,468,469,470,471,472,473,474,475,476,477,478,479,480,481,482,483,484,485,486,487,488,489,490,491,492,493,494,495,496,497,498,499,500,501,502,503,504,505,506,507,508,509,510,511,512,513,514,515,516,517,518,519,520,521,522,523,524,525,526,527,528,529,530,531,532,533,534,535,536,537,538,539,540,541,542,543,544,545,546,547,548,549,550,551,552,553,554,555,556,557,558,559,560,561,562,563,564,565,566,567,568,569,570,571,572,573,574,575,576,577,578,579,580,581,582,583,584,585,586,587,588,589,590,591,592,593,594,595,596,597,598,599],\"y\":{\"__ndarray__\":\"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\",\"dtype\":\"float32\",\"order\":\"little\",\"shape\":[600]}},\"selected\":{\"id\":\"1093\"},\"selection_policy\":{\"id\":\"1092\"}},\"id\":\"1074\",\"type\":\"ColumnDataSource\"},{\"attributes\":{},\"id\":\"1018\",\"type\":\"BasicTicker\"},{\"attributes\":{\"coordinates\":null,\"data_source\":{\"id\":\"1074\"},\"glyph\":{\"id\":\"1075\"},\"group\":null,\"hover_glyph\":null,\"muted_glyph\":{\"id\":\"1077\"},\"nonselection_glyph\":{\"id\":\"1076\"},\"view\":{\"id\":\"1079\"}},\"id\":\"1078\",\"type\":\"GlyphRenderer\"},{\"attributes\":{\"axis\":{\"id\":\"1017\"},\"coordinates\":null,\"dimension\":1,\"group\":null,\"ticker\":null},\"id\":\"1020\",\"type\":\"Grid\"},{\"attributes\":{\"data\":{\"x\":[0,1,2,3,4,5,6,7,8,9,10,11,12,13,14,15,16,17,18,19,20,21,22,23,24,25,26,27,28,29,30,31,32,33,34,35,36,37,38,39,40,41,42,43,44,45,46,47,48,49,50,51,52,53,54,55,56,57,58,59,60,61,62,63,64,65,66,67,68,69,70,71,72,73,74,75,76,77,78,79,80,81,82,83,84,85,86,87,88,89,90,91,92,93,94,95,96,97,98,99,100,101,102,103,104,105,106,107,108,109,110,111,112,113,114,115,116,117,118,119,120,121,122,123,124,125,126,127,128,129,130,131,132,133,134,135,136,137,138,139,140,141,142,143,144,145,146,147,148,149,150,151,152,153,154,155,156,157,158,159,160,161,162,163,164,165,166,167,168,169,170,171,172,173,174,175,176,177,178,179,180,181,182,183,184,185,186,187,188,189,190,191,192,193,194,195,196,197,198,199,200,201,202,203,204,205,206,207,208,209,210,211,212,213,214,215,216,217,218,219,220,221,222,223,224,225,226,227,228,229,230,231,232,233,234,235,236,237,238,239,240,241,242,243,244,245,246,247,248,249,250,251,252,253,254,255,256,257,258,259,260,261,262,263,264,265,266,267,268,269,270,271,272,273,274,275,276,277,278,279,280,281,282,283,284,285,286,287,288,289,290,291,292,293,294,295,296,297,298,299,300,301,302,303,304,305,306,307,308,309,310,311,312,313,314,315,316,317,318,319,320,321,322,323,324,325,326,327,328,329,330,331,332,333,334,335,336,337,338,339,340,341,342,343,344,345,346,347,348,349,350,351,352,353,354,355,356,357,358,359,360,361,362,363,364,365,366,367,368,369,370,371,372,373,374,375,376,377,378,379,380,381,382,383,384,385,386,387,388,389,390,391,392,393,394,395,396,397,398,399,400,401,402,403,404,405,406,407,408,409,410,411,412,413,414,415,416,417,418,419,420,421,422,423,424,425,426,427,428,429,430,431,432,433,434,435,436,437,438,439,440,441,442,443,444,445,446,447,448,449,450,451,452,453,454,455,456,457,458,459,460,461,462,463,464,465,466,467,468,469,470,471,472,473,474,475,476,477,478,479,480,481,482,483,484,485,486,487,488,489,490,491,492,493,494,495,496,497,498,499,500,501,502,503,504,505,506,507,508,509,510,511,512,513,514,515,516,517,518,519,520,521,522,523,524,525,526,527,528,529,530,531,532,533,534,535,536,537,538,539,540,541,542,543,544,545,546,547,548,549,550,551,552,553,554,555,556,557,558,559,560,561,562,563,564,565,566,567,568,569,570,571,572,573,574,575,576,577,578,579,580,581,582,583,584,585,586,587,588,589,590,591,592,593,594,595,596,597,598,599],\"y\":{\"__ndarray__\":\"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\",\"dtype\":\"float32\",\"order\":\"little\",\"shape\":[600]}},\"selected\":{\"id\":\"1071\"},\"selection_policy\":{\"id\":\"1070\"}},\"id\":\"1054\",\"type\":\"ColumnDataSource\"},{\"attributes\":{\"tools\":[{\"id\":\"1021\"},{\"id\":\"1022\"},{\"id\":\"1023\"},{\"id\":\"1024\"},{\"id\":\"1025\"},{\"id\":\"1026\"}]},\"id\":\"1028\",\"type\":\"Toolbar\"},{\"attributes\":{\"source\":{\"id\":\"1074\"}},\"id\":\"1079\",\"type\":\"CDSView\"},{\"attributes\":{\"line_alpha\":0.1,\"line_color\":\"#ff7f0e\",\"line_width\":3,\"x\":{\"field\":\"x\"},\"y\":{\"field\":\"y\"}},\"id\":\"1076\",\"type\":\"Line\"},{\"attributes\":{\"coordinates\":null,\"group\":null},\"id\":\"1041\",\"type\":\"Title\"},{\"attributes\":{\"label\":{\"value\":\"Approximation\"},\"renderers\":[{\"id\":\"1058\"}]},\"id\":\"1073\",\"type\":\"LegendItem\"},{\"attributes\":{\"coordinates\":null,\"data_source\":{\"id\":\"1035\"},\"glyph\":{\"id\":\"1036\"},\"group\":null,\"hover_glyph\":null,\"muted_glyph\":{\"id\":\"1038\"},\"nonselection_glyph\":{\"id\":\"1037\"},\"view\":{\"id\":\"1040\"}},\"id\":\"1039\",\"type\":\"GlyphRenderer\"},{\"attributes\":{\"line_color\":\"#ff7f0e\",\"line_width\":3,\"x\":{\"field\":\"x\"},\"y\":{\"field\":\"y\"}},\"id\":\"1075\",\"type\":\"Line\"},{\"attributes\":{\"label\":{\"value\":\"Init Control\"},\"renderers\":[{\"id\":\"1078\"}]},\"id\":\"1095\",\"type\":\"LegendItem\"},{\"attributes\":{},\"id\":\"1070\",\"type\":\"UnionRenderers\"},{\"attributes\":{},\"id\":\"1092\",\"type\":\"UnionRenderers\"},{\"attributes\":{\"source\":{\"id\":\"1054\"}},\"id\":\"1059\",\"type\":\"CDSView\"},{\"attributes\":{},\"id\":\"1007\",\"type\":\"DataRange1d\"},{\"attributes\":{\"axis_label\":\"iters\",\"coordinates\":null,\"formatter\":{\"id\":\"1047\"},\"group\":null,\"major_label_policy\":{\"id\":\"1048\"},\"ticker\":{\"id\":\"1014\"}},\"id\":\"1013\",\"type\":\"LinearAxis\"},{\"attributes\":{\"line_color\":\"#1f77b4\",\"line_width\":3,\"x\":{\"field\":\"x\"},\"y\":{\"field\":\"y\"}},\"id\":\"1055\",\"type\":\"Line\"},{\"attributes\":{},\"id\":\"1024\",\"type\":\"SaveTool\"},{\"attributes\":{},\"id\":\"1047\",\"type\":\"BasicTickFormatter\"},{\"attributes\":{\"axis_label\":\"Loss\",\"coordinates\":null,\"formatter\":{\"id\":\"1044\"},\"group\":null,\"major_label_policy\":{\"id\":\"1045\"},\"ticker\":{\"id\":\"1018\"}},\"id\":\"1017\",\"type\":\"LinearAxis\"},{\"attributes\":{\"bottom_units\":\"screen\",\"coordinates\":null,\"fill_alpha\":0.5,\"fill_color\":\"lightgrey\",\"group\":null,\"left_units\":\"screen\",\"level\":\"overlay\",\"line_alpha\":1.0,\"line_color\":\"black\",\"line_dash\":[4,4],\"line_width\":2,\"right_units\":\"screen\",\"syncable\":false,\"top_units\":\"screen\"},\"id\":\"1027\",\"type\":\"BoxAnnotation\"},{\"attributes\":{\"line_alpha\":0.3,\"line_color\":\"#1f77b4\",\"line_width\":3,\"x\":{\"field\":\"x\"},\"y\":{\"field\":\"y\"}},\"id\":\"1036\",\"type\":\"Line\"},{\"attributes\":{},\"id\":\"1026\",\"type\":\"HelpTool\"},{\"attributes\":{\"data\":{\"x\":[0,1,2,3,4,5,6,7,8,9,10,11,12,13,14,15,16,17,18,19,20,21,22,23,24,25,26,27,28,29,30,31,32,33,34,35,36,37,38,39,40,41,42,43,44,45,46,47,48,49,50,51,52,53,54,55,56,57,58,59,60,61,62,63,64,65,66,67,68,69,70,71,72,73,74,75,76,77,78,79,80,81,82,83,84,85,86,87,88,89,90,91,92,93,94,95,96,97,98,99,100,101,102,103,104,105,106,107,108,109,110,111,112,113,114,115,116,117,118,119,120,121,122,123,124,125,126,127,128,129,130,131,132,133,134,135,136,137,138,139,140,141,142,143,144,145,146,147,148,149,150,151,152,153,154,155,156,157,158,159,160,161,162,163,164,165,166,167,168,169,170,171,172,173,174,175,176,177,178,179,180,181,182,183,184,185,186,187,188,189,190,191,192,193,194,195,196,197,198,199,200,201,202,203,204,205,206,207,208,209,210,211,212,213,214,215,216,217,218,219,220,221,222,223,224,225,226,227,228,229,230,231,232,233,234,235,236,237,238,239,240,241,242,243,244,245,246,247,248,249,250,251,252,253,254,255,256,257,258,259,260,261,262,263,264,265,266,267,268,269,270,271,272,273,274,275,276,277,278,279,280,281,282,283,284,285,286,287,288,289,290,291,292,293,294,295,296,297,298,299,300,301,302,303,304,305,306,307,308,309,310,311,312,313,314,315,316,317,318,319,320,321,322,323,324,325,326,327,328,329,330,331,332,333,334,335,336,337,338,339,340,341,342,343,344,345,346,347,348,349,350,351,352,353,354,355,356,357,358,359,360,361,362,363,364,365,366,367,368,369,370,371,372,373,374,375,376,377,378,379,380,381,382,383,384,385,386,387,388,389,390,391,392,393,394,395,396,397,398,399,400,401,402,403,404,405,406,407,408,409,410,411,412,413,414,415,416,417,418,419,420,421,422,423,424,425,426,427,428,429,430,431,432,433,434,435,436,437,438,439,440,441,442,443,444,445,446,447,448,449,450,451,452,453,454,455,456,457,458,459,460,461,462,463,464,465,466,467,468,469,470,471,472,473,474,475,476,477,478,479,480,481,482,483,484,485,486,487,488,489,490,491,492,493,494,495,496,497,498,499,500,501,502,503,504,505,506,507,508,509,510,511,512,513,514,515,516,517,518,519,520,521,522,523,524,525,526,527,528,529,530,531,532,533,534,535,536,537,538,539,540,541,542,543,544,545,546,547,548,549,550,551,552,553,554,555,556,557,558,559,560,561,562,563,564,565,566,567,568,569,570,571,572,573,574,575,576,577,578,579,580,581,582,583,584,585,586,587,588,589,590,591,592,593,594,595,596,597,598,599],\"y\":{\"__ndarray__\":\"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\",\"dtype\":\"float32\",\"order\":\"little\",\"shape\":[600]}},\"selected\":{\"id\":\"1050\"},\"selection_policy\":{\"id\":\"1049\"}},\"id\":\"1035\",\"type\":\"ColumnDataSource\"},{\"attributes\":{},\"id\":\"1005\",\"type\":\"DataRange1d\"},{\"attributes\":{},\"id\":\"1021\",\"type\":\"PanTool\"},{\"attributes\":{},\"id\":\"1045\",\"type\":\"AllLabels\"},{\"attributes\":{\"overlay\":{\"id\":\"1027\"}},\"id\":\"1023\",\"type\":\"BoxZoomTool\"},{\"attributes\":{},\"id\":\"1071\",\"type\":\"Selection\"},{\"attributes\":{},\"id\":\"1011\",\"type\":\"LinearScale\"},{\"attributes\":{},\"id\":\"1044\",\"type\":\"BasicTickFormatter\"},{\"attributes\":{},\"id\":\"1025\",\"type\":\"ResetTool\"},{\"attributes\":{\"line_alpha\":0.1,\"line_color\":\"#1f77b4\",\"line_width\":3,\"x\":{\"field\":\"x\"},\"y\":{\"field\":\"y\"}},\"id\":\"1056\",\"type\":\"Line\"},{\"attributes\":{\"source\":{\"id\":\"1035\"}},\"id\":\"1040\",\"type\":\"CDSView\"},{\"attributes\":{\"coordinates\":null,\"group\":null,\"items\":[{\"id\":\"1053\"},{\"id\":\"1073\"},{\"id\":\"1095\"}]},\"id\":\"1052\",\"type\":\"Legend\"},{\"attributes\":{},\"id\":\"1009\",\"type\":\"LinearScale\"}],\"root_ids\":[\"1004\"]},\"title\":\"Bokeh Application\",\"version\":\"2.4.3\"}};\n",
       "  const render_items = [{\"docid\":\"6cb051c2-6c3c-42a2-95a3-e20b81ee8c0c\",\"root_ids\":[\"1004\"],\"roots\":{\"1004\":\"751f374d-3bf5-4db0-a668-d608fc64acc3\"}}];\n",
       "  root.Bokeh.embed.embed_items_notebook(docs_json, render_items);\n",
       "  }\n",
       "  if (root.Bokeh !== undefined) {\n",
       "    embed_document(root);\n",
       "  } else {\n",
       "    let attempts = 0;\n",
       "    const timer = setInterval(function(root) {\n",
       "      if (root.Bokeh !== undefined) {\n",
       "        clearInterval(timer);\n",
       "        embed_document(root);\n",
       "      } else {\n",
       "        attempts++;\n",
       "        if (attempts > 100) {\n",
       "          clearInterval(timer);\n",
       "          console.log(\"Bokeh: ERROR: Unable to run BokehJS code because BokehJS library is missing\");\n",
       "        }\n",
       "      }\n",
       "    }, 10, root)\n",
       "  }\n",
       "})(window);"
      ],
      "application/vnd.bokehjs_exec.v0+json": ""
     },
     "metadata": {
      "application/vnd.bokehjs_exec.v0+json": {
       "id": "1004"
      }
     },
     "output_type": "display_data"
    }
   ],
   "source": [
    "losses = (loss, Loss_t, Loss_t_control)\n",
    "colors = (Category10[10][0], Category10[10][0], Category10[10][1])\n",
    "legends = (\"Real Non-linear\", \"Approximation\", \"Init Control\")\n",
    "alphas = (0.3, 1, 1)\n",
    "\n",
    "s = plot_lines(iters, losses, legends, alphas, colors)\n",
    "show(s)"
   ]
  },
  {
   "cell_type": "code",
   "execution_count": 19,
   "metadata": {
    "ExecuteTime": {
     "end_time": "2022-10-18T16:34:31.368228Z",
     "start_time": "2022-10-18T16:34:31.365539Z"
    }
   },
   "outputs": [],
   "source": [
    "flat_W_t = np.reshape(weights, (weights.shape[0], -1))\n",
    "flat_eq_W_t = np.reshape(W_t, (W_t.shape[0], -1))\n"
   ]
  },
  {
   "cell_type": "code",
   "execution_count": 20,
   "metadata": {
    "ExecuteTime": {
     "end_time": "2022-10-18T16:34:31.851093Z",
     "start_time": "2022-10-18T16:34:31.370675Z"
    }
   },
   "outputs": [
    {
     "data": {
      "text/html": [
       "\n",
       "  <div class=\"bk-root\" id=\"3c32e682-7c06-47f9-afb7-81d82a4eca97\" data-root-id=\"1186\"></div>\n"
      ]
     },
     "metadata": {},
     "output_type": "display_data"
    },
    {
     "data": {
      "application/javascript": [
       "(function(root) {\n",
       "  function embed_document(root) {\n",
       "  const docs_json = {\"5fc92614-19bc-4a60-8090-3b0a7e9bae32\":{\"defs\":[],\"roots\":{\"references\":[{\"attributes\":{\"below\":[{\"id\":\"1197\"}],\"center\":[{\"id\":\"1200\"},{\"id\":\"1204\"},{\"id\":\"1235\"}],\"left\":[{\"id\":\"1201\"}],\"renderers\":[{\"id\":\"1223\"},{\"id\":\"1241\"}],\"title\":{\"id\":\"1187\"},\"toolbar\":{\"id\":\"1212\"},\"x_range\":{\"id\":\"1189\"},\"x_scale\":{\"id\":\"1193\"},\"y_range\":{\"id\":\"1191\"},\"y_scale\":{\"id\":\"1195\"}},\"id\":\"1186\",\"subtype\":\"Figure\",\"type\":\"Plot\"},{\"attributes\":{},\"id\":\"1205\",\"type\":\"PanTool\"},{\"attributes\":{},\"id\":\"1198\",\"type\":\"BasicTicker\"},{\"attributes\":{},\"id\":\"1206\",\"type\":\"WheelZoomTool\"},{\"attributes\":{},\"id\":\"1233\",\"type\":\"Selection\"},{\"attributes\":{\"axis\":{\"id\":\"1201\"},\"coordinates\":null,\"dimension\":1,\"group\":null,\"ticker\":null},\"id\":\"1204\",\"type\":\"Grid\"},{\"attributes\":{\"coordinates\":null,\"group\":null,\"text\":\"W\"},\"id\":\"1187\",\"type\":\"Title\"},{\"attributes\":{\"source\":{\"id\":\"1219\"}},\"id\":\"1224\",\"type\":\"CDSView\"},{\"attributes\":{\"overlay\":{\"id\":\"1211\"}},\"id\":\"1207\",\"type\":\"BoxZoomTool\"},{\"attributes\":{\"label\":{\"value\":\"Simulation\"},\"renderers\":[{\"id\":\"1223\"}]},\"id\":\"1236\",\"type\":\"LegendItem\"},{\"attributes\":{\"coordinates\":null,\"group\":null,\"items\":[{\"id\":\"1236\"},{\"id\":\"1255\"}],\"location\":\"bottom_right\"},\"id\":\"1235\",\"type\":\"Legend\"},{\"attributes\":{\"data\":{\"x\":[0,20,40,60,80,100,120,140,160,180,200,220,240,260,280,300,320,340,360,380,400,420,440,460,480,500,520,540,560,580],\"y\":{\"__ndarray__\":\"u3sJOwBLJT2DnZk9T4/YPYqoCD5tUiI+sp85PsWLTj47aWE+B8pyPogLgT6q/Yc+VjWOPhngkz4WFJk+yr+dPl/ioT5OnKU+bgWpPgUNrD4L9a4+/OKxPucvtD6m67U+T7a3PvkEuT5JLLo+9YO7PjHavD4q6b0+\",\"dtype\":\"float32\",\"order\":\"little\",\"shape\":[30]}},\"selected\":{\"id\":\"1233\"},\"selection_policy\":{\"id\":\"1232\"}},\"id\":\"1219\",\"type\":\"ColumnDataSource\"},{\"attributes\":{\"source\":{\"id\":\"1237\"}},\"id\":\"1242\",\"type\":\"CDSView\"},{\"attributes\":{},\"id\":\"1209\",\"type\":\"ResetTool\"},{\"attributes\":{\"line_color\":\"#1f77b4\",\"line_width\":3,\"x\":{\"field\":\"x\"},\"y\":{\"field\":\"y\"}},\"id\":\"1238\",\"type\":\"Line\"},{\"attributes\":{\"coordinates\":null,\"data_source\":{\"id\":\"1237\"},\"glyph\":{\"id\":\"1238\"},\"group\":null,\"hover_glyph\":null,\"muted_glyph\":{\"id\":\"1240\"},\"nonselection_glyph\":{\"id\":\"1239\"},\"view\":{\"id\":\"1242\"}},\"id\":\"1241\",\"type\":\"GlyphRenderer\"},{\"attributes\":{\"coordinates\":null,\"data_source\":{\"id\":\"1219\"},\"glyph\":{\"id\":\"1220\"},\"group\":null,\"hover_glyph\":null,\"muted_glyph\":{\"id\":\"1222\"},\"nonselection_glyph\":{\"id\":\"1221\"},\"view\":{\"id\":\"1224\"}},\"id\":\"1223\",\"type\":\"GlyphRenderer\"},{\"attributes\":{},\"id\":\"1189\",\"type\":\"DataRange1d\"},{\"attributes\":{\"data\":{\"x\":[0,1,2,3,4,5,6,7,8,9,10,11,12,13,14,15,16,17,18,19,20,21,22,23,24,25,26,27,28,29,30,31,32,33,34,35,36,37,38,39,40,41,42,43,44,45,46,47,48,49,50,51,52,53,54,55,56,57,58,59,60,61,62,63,64,65,66,67,68,69,70,71,72,73,74,75,76,77,78,79,80,81,82,83,84,85,86,87,88,89,90,91,92,93,94,95,96,97,98,99,100,101,102,103,104,105,106,107,108,109,110,111,112,113,114,115,116,117,118,119,120,121,122,123,124,125,126,127,128,129,130,131,132,133,134,135,136,137,138,139,140,141,142,143,144,145,146,147,148,149,150,151,152,153,154,155,156,157,158,159,160,161,162,163,164,165,166,167,168,169,170,171,172,173,174,175,176,177,178,179,180,181,182,183,184,185,186,187,188,189,190,191,192,193,194,195,196,197,198,199,200,201,202,203,204,205,206,207,208,209,210,211,212,213,214,215,216,217,218,219,220,221,222,223,224,225,226,227,228,229,230,231,232,233,234,235,236,237,238,239,240,241,242,243,244,245,246,247,248,249,250,251,252,253,254,255,256,257,258,259,260,261,262,263,264,265,266,267,268,269,270,271,272,273,274,275,276,277,278,279,280,281,282,283,284,285,286,287,288,289,290,291,292,293,294,295,296,297,298,299,300,301,302,303,304,305,306,307,308,309,310,311,312,313,314,315,316,317,318,319,320,321,322,323,324,325,326,327,328,329,330,331,332,333,334,335,336,337,338,339,340,341,342,343,344,345,346,347,348,349,350,351,352,353,354,355,356,357,358,359,360,361,362,363,364,365,366,367,368,369,370,371,372,373,374,375,376,377,378,379,380,381,382,383,384,385,386,387,388,389,390,391,392,393,394,395,396,397,398,399,400,401,402,403,404,405,406,407,408,409,410,411,412,413,414,415,416,417,418,419,420,421,422,423,424,425,426,427,428,429,430,431,432,433,434,435,436,437,438,439,440,441,442,443,444,445,446,447,448,449,450,451,452,453,454,455,456,457,458,459,460,461,462,463,464,465,466,467,468,469,470,471,472,473,474,475,476,477,478,479,480,481,482,483,484,485,486,487,488,489,490,491,492,493,494,495,496,497,498,499,500,501,502,503,504,505,506,507,508,509,510,511,512,513,514,515,516,517,518,519,520,521,522,523,524,525,526,527,528,529,530,531,532,533,534,535,536,537,538,539,540,541,542,543,544,545,546,547,548,549,550,551,552,553,554,555,556,557,558,559,560,561,562,563,564,565,566,567,568,569,570,571,572,573,574,575,576,577,578,579,580,581,582,583,584,585,586,587,588,589,590,591,592,593,594,595,596,597,598,599],\"y\":{\"__ndarray__\":\"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\",\"dtype\":\"float32\",\"order\":\"little\",\"shape\":[600]}},\"selected\":{\"id\":\"1253\"},\"selection_policy\":{\"id\":\"1252\"}},\"id\":\"1237\",\"type\":\"ColumnDataSource\"},{\"attributes\":{},\"id\":\"1195\",\"type\":\"LinearScale\"},{\"attributes\":{\"bottom_units\":\"screen\",\"coordinates\":null,\"fill_alpha\":0.5,\"fill_color\":\"lightgrey\",\"group\":null,\"left_units\":\"screen\",\"level\":\"overlay\",\"line_alpha\":1.0,\"line_color\":\"black\",\"line_dash\":[4,4],\"line_width\":2,\"right_units\":\"screen\",\"syncable\":false,\"top_units\":\"screen\"},\"id\":\"1211\",\"type\":\"BoxAnnotation\"},{\"attributes\":{\"label\":{\"value\":\"Equation\"},\"renderers\":[{\"id\":\"1241\"}]},\"id\":\"1255\",\"type\":\"LegendItem\"},{\"attributes\":{\"line_alpha\":0.2,\"line_color\":\"#1f77b4\",\"line_width\":3,\"x\":{\"field\":\"x\"},\"y\":{\"field\":\"y\"}},\"id\":\"1240\",\"type\":\"Line\"},{\"attributes\":{},\"id\":\"1227\",\"type\":\"BasicTickFormatter\"},{\"attributes\":{\"line_alpha\":0.2,\"line_color\":\"#1f77b4\",\"line_dash\":[4,4],\"line_width\":6,\"x\":{\"field\":\"x\"},\"y\":{\"field\":\"y\"}},\"id\":\"1222\",\"type\":\"Line\"},{\"attributes\":{\"line_alpha\":0.5,\"line_color\":\"#1f77b4\",\"line_dash\":[4,4],\"line_width\":6,\"x\":{\"field\":\"x\"},\"y\":{\"field\":\"y\"}},\"id\":\"1220\",\"type\":\"Line\"},{\"attributes\":{\"line_alpha\":0.1,\"line_color\":\"#1f77b4\",\"line_width\":3,\"x\":{\"field\":\"x\"},\"y\":{\"field\":\"y\"}},\"id\":\"1239\",\"type\":\"Line\"},{\"attributes\":{\"axis\":{\"id\":\"1197\"},\"coordinates\":null,\"group\":null,\"ticker\":null},\"id\":\"1200\",\"type\":\"Grid\"},{\"attributes\":{},\"id\":\"1228\",\"type\":\"AllLabels\"},{\"attributes\":{\"axis_label\":\"iters\",\"coordinates\":null,\"formatter\":{\"id\":\"1230\"},\"group\":null,\"major_label_policy\":{\"id\":\"1231\"},\"ticker\":{\"id\":\"1198\"}},\"id\":\"1197\",\"type\":\"LinearAxis\"},{\"attributes\":{},\"id\":\"1252\",\"type\":\"UnionRenderers\"},{\"attributes\":{},\"id\":\"1230\",\"type\":\"BasicTickFormatter\"},{\"attributes\":{},\"id\":\"1210\",\"type\":\"HelpTool\"},{\"attributes\":{},\"id\":\"1253\",\"type\":\"Selection\"},{\"attributes\":{\"axis_label\":\"Weights\",\"coordinates\":null,\"formatter\":{\"id\":\"1227\"},\"group\":null,\"major_label_policy\":{\"id\":\"1228\"},\"ticker\":{\"id\":\"1202\"}},\"id\":\"1201\",\"type\":\"LinearAxis\"},{\"attributes\":{\"tools\":[{\"id\":\"1205\"},{\"id\":\"1206\"},{\"id\":\"1207\"},{\"id\":\"1208\"},{\"id\":\"1209\"},{\"id\":\"1210\"}]},\"id\":\"1212\",\"type\":\"Toolbar\"},{\"attributes\":{},\"id\":\"1202\",\"type\":\"BasicTicker\"},{\"attributes\":{},\"id\":\"1193\",\"type\":\"LinearScale\"},{\"attributes\":{\"line_alpha\":0.1,\"line_color\":\"#1f77b4\",\"line_dash\":[4,4],\"line_width\":6,\"x\":{\"field\":\"x\"},\"y\":{\"field\":\"y\"}},\"id\":\"1221\",\"type\":\"Line\"},{\"attributes\":{},\"id\":\"1231\",\"type\":\"AllLabels\"},{\"attributes\":{},\"id\":\"1208\",\"type\":\"SaveTool\"},{\"attributes\":{},\"id\":\"1232\",\"type\":\"UnionRenderers\"},{\"attributes\":{},\"id\":\"1191\",\"type\":\"DataRange1d\"}],\"root_ids\":[\"1186\"]},\"title\":\"Bokeh Application\",\"version\":\"2.4.3\"}};\n",
       "  const render_items = [{\"docid\":\"5fc92614-19bc-4a60-8090-3b0a7e9bae32\",\"root_ids\":[\"1186\"],\"roots\":{\"1186\":\"3c32e682-7c06-47f9-afb7-81d82a4eca97\"}}];\n",
       "  root.Bokeh.embed.embed_items_notebook(docs_json, render_items);\n",
       "  }\n",
       "  if (root.Bokeh !== undefined) {\n",
       "    embed_document(root);\n",
       "  } else {\n",
       "    let attempts = 0;\n",
       "    const timer = setInterval(function(root) {\n",
       "      if (root.Bokeh !== undefined) {\n",
       "        clearInterval(timer);\n",
       "        embed_document(root);\n",
       "      } else {\n",
       "        attempts++;\n",
       "        if (attempts > 100) {\n",
       "          clearInterval(timer);\n",
       "          console.log(\"Bokeh: ERROR: Unable to run BokehJS code because BokehJS library is missing\");\n",
       "        }\n",
       "      }\n",
       "    }, 10, root)\n",
       "  }\n",
       "})(window);"
      ],
      "application/vnd.bokehjs_exec.v0+json": ""
     },
     "metadata": {
      "application/vnd.bokehjs_exec.v0+json": {
       "id": "1186"
      }
     },
     "output_type": "display_data"
    }
   ],
   "source": [
    "weight_plot = plot_weight_ev(flat_W_t, flat_eq_W_t, iters=weights_iter, iters_set2=iters, title=\"W\")\n",
    "show(weight_plot)"
   ]
  },
  {
   "cell_type": "markdown",
   "metadata": {
    "ExecuteTime": {
     "end_time": "2022-10-11T16:47:21.704342Z",
     "start_time": "2022-10-11T16:47:21.700812Z"
    }
   },
   "source": [
    "## Optimizing control signal"
   ]
  },
  {
   "cell_type": "code",
   "execution_count": 21,
   "metadata": {
    "ExecuteTime": {
     "end_time": "2022-10-18T16:34:31.855800Z",
     "start_time": "2022-10-18T16:34:31.852910Z"
    }
   },
   "outputs": [],
   "source": [
    "iter_control = 700\n",
    "control_params[\"iters_control\"] = iter_control\n",
    "cumulated_reward = []"
   ]
  },
  {
   "cell_type": "code",
   "execution_count": 22,
   "metadata": {
    "ExecuteTime": {
     "end_time": "2022-10-18T16:37:11.352104Z",
     "start_time": "2022-10-18T16:34:31.858273Z"
    },
    "scrolled": true
   },
   "outputs": [
    {
     "name": "stderr",
     "output_type": "stream",
     "text": [
      "100%|████████████████████████████████████████████████████████████████████████████████████████████████████████████████████████████████████████████████████████████████████████████| 700/700 [02:02<00:00,  5.73it/s]\n"
     ]
    }
   ],
   "source": [
    "for i in tqdm(range(iter_control)):\n",
    "    R = control.train_step(get_numpy=True)\n",
    "    # print(\"cumulated reward:\", R)\n",
    "    cumulated_reward.append(R)\n",
    "cumulated_reward = np.array(cumulated_reward).astype(float)\n",
    "results_dict[\"cumulated_reward_opt\"] = cumulated_reward"
   ]
  },
  {
   "cell_type": "code",
   "execution_count": 23,
   "metadata": {
    "ExecuteTime": {
     "end_time": "2022-10-18T16:37:11.430746Z",
     "start_time": "2022-10-18T16:37:11.353022Z"
    }
   },
   "outputs": [
    {
     "data": {
      "text/html": [
       "\n",
       "  <div class=\"bk-root\" id=\"5995e392-4763-45b1-94eb-6a0534313c43\" data-root-id=\"1343\"></div>\n"
      ]
     },
     "metadata": {},
     "output_type": "display_data"
    },
    {
     "data": {
      "application/javascript": [
       "(function(root) {\n",
       "  function embed_document(root) {\n",
       "  const docs_json = {\"ee33fcd1-0332-4ad5-bdaf-17b083e29e74\":{\"defs\":[],\"roots\":{\"references\":[{\"attributes\":{\"below\":[{\"id\":\"1352\"}],\"center\":[{\"id\":\"1355\"},{\"id\":\"1359\"},{\"id\":\"1391\"}],\"height\":500,\"left\":[{\"id\":\"1356\"}],\"renderers\":[{\"id\":\"1378\"}],\"title\":{\"id\":\"1380\"},\"toolbar\":{\"id\":\"1367\"},\"width\":800,\"x_range\":{\"id\":\"1344\"},\"x_scale\":{\"id\":\"1348\"},\"y_range\":{\"id\":\"1346\"},\"y_scale\":{\"id\":\"1350\"}},\"id\":\"1343\",\"subtype\":\"Figure\",\"type\":\"Plot\"},{\"attributes\":{\"coordinates\":null,\"data_source\":{\"id\":\"1374\"},\"glyph\":{\"id\":\"1375\"},\"group\":null,\"hover_glyph\":null,\"muted_glyph\":{\"id\":\"1377\"},\"nonselection_glyph\":{\"id\":\"1376\"},\"view\":{\"id\":\"1379\"}},\"id\":\"1378\",\"type\":\"GlyphRenderer\"},{\"attributes\":{\"tools\":[{\"id\":\"1360\"},{\"id\":\"1361\"},{\"id\":\"1362\"},{\"id\":\"1363\"},{\"id\":\"1364\"},{\"id\":\"1365\"}]},\"id\":\"1367\",\"type\":\"Toolbar\"},{\"attributes\":{\"label\":{\"value\":\"\"},\"renderers\":[{\"id\":\"1378\"}]},\"id\":\"1392\",\"type\":\"LegendItem\"},{\"attributes\":{},\"id\":\"1353\",\"type\":\"BasicTicker\"},{\"attributes\":{},\"id\":\"1389\",\"type\":\"Selection\"},{\"attributes\":{\"line_alpha\":0.1,\"line_color\":\"#1f77b4\",\"line_width\":3,\"x\":{\"field\":\"x\"},\"y\":{\"field\":\"y\"}},\"id\":\"1376\",\"type\":\"Line\"},{\"attributes\":{\"coordinates\":null,\"group\":null,\"items\":[{\"id\":\"1392\"}]},\"id\":\"1391\",\"type\":\"Legend\"},{\"attributes\":{},\"id\":\"1361\",\"type\":\"WheelZoomTool\"},{\"attributes\":{\"axis\":{\"id\":\"1352\"},\"coordinates\":null,\"group\":null,\"ticker\":null},\"id\":\"1355\",\"type\":\"Grid\"},{\"attributes\":{\"line_color\":\"#1f77b4\",\"line_width\":3,\"x\":{\"field\":\"x\"},\"y\":{\"field\":\"y\"}},\"id\":\"1375\",\"type\":\"Line\"},{\"attributes\":{},\"id\":\"1350\",\"type\":\"LinearScale\"},{\"attributes\":{},\"id\":\"1344\",\"type\":\"DataRange1d\"},{\"attributes\":{\"coordinates\":null,\"group\":null},\"id\":\"1380\",\"type\":\"Title\"},{\"attributes\":{},\"id\":\"1386\",\"type\":\"BasicTickFormatter\"},{\"attributes\":{\"data\":{\"x\":[0,1,2,3,4,5,6,7,8,9,10,11,12,13,14,15,16,17,18,19,20,21,22,23,24,25,26,27,28,29,30,31,32,33,34,35,36,37,38,39,40,41,42,43,44,45,46,47,48,49,50,51,52,53,54,55,56,57,58,59,60,61,62,63,64,65,66,67,68,69,70,71,72,73,74,75,76,77,78,79,80,81,82,83,84,85,86,87,88,89,90,91,92,93,94,95,96,97,98,99,100,101,102,103,104,105,106,107,108,109,110,111,112,113,114,115,116,117,118,119,120,121,122,123,124,125,126,127,128,129,130,131,132,133,134,135,136,137,138,139,140,141,142,143,144,145,146,147,148,149,150,151,152,153,154,155,156,157,158,159,160,161,162,163,164,165,166,167,168,169,170,171,172,173,174,175,176,177,178,179,180,181,182,183,184,185,186,187,188,189,190,191,192,193,194,195,196,197,198,199,200,201,202,203,204,205,206,207,208,209,210,211,212,213,214,215,216,217,218,219,220,221,222,223,224,225,226,227,228,229,230,231,232,233,234,235,236,237,238,239,240,241,242,243,244,245,246,247,248,249,250,251,252,253,254,255,256,257,258,259,260,261,262,263,264,265,266,267,268,269,270,271,272,273,274,275,276,277,278,279,280,281,282,283,284,285,286,287,288,289,290,291,292,293,294,295,296,297,298,299,300,301,302,303,304,305,306,307,308,309,310,311,312,313,314,315,316,317,318,319,320,321,322,323,324,325,326,327,328,329,330,331,332,333,334,335,336,337,338,339,340,341,342,343,344,345,346,347,348,349,350,351,352,353,354,355,356,357,358,359,360,361,362,363,364,365,366,367,368,369,370,371,372,373,374,375,376,377,378,379,380,381,382,383,384,385,386,387,388,389,390,391,392,393,394,395,396,397,398,399,400,401,402,403,404,405,406,407,408,409,410,411,412,413,414,415,416,417,418,419,420,421,422,423,424,425,426,427,428,429,430,431,432,433,434,435,436,437,438,439,440,441,442,443,444,445,446,447,448,449,450,451,452,453,454,455,456,457,458,459,460,461,462,463,464,465,466,467,468,469,470,471,472,473,474,475,476,477,478,479,480,481,482,483,484,485,486,487,488,489,490,491,492,493,494,495,496,497,498,499,500,501,502,503,504,505,506,507,508,509,510,511,512,513,514,515,516,517,518,519,520,521,522,523,524,525,526,527,528,529,530,531,532,533,534,535,536,537,538,539,540,541,542,543,544,545,546,547,548,549,550,551,552,553,554,555,556,557,558,559,560,561,562,563,564,565,566,567,568,569,570,571,572,573,574,575,576,577,578,579,580,581,582,583,584,585,586,587,588,589,590,591,592,593,594,595,596,597,598,599,600,601,602,603,604,605,606,607,608,609,610,611,612,613,614,615,616,617,618,619,620,621,622,623,624,625,626,627,628,629,630,631,632,633,634,635,636,637,638,639,640,641,642,643,644,645,646,647,648,649,650,651,652,653,654,655,656,657,658,659,660,661,662,663,664,665,666,667,668,669,670,671,672,673,674,675,676,677,678,679,680,681,682,683,684,685,686,687,688,689,690,691,692,693,694,695,696,697,698,699],\"y\":{\"__ndarray__\":\"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\",\"dtype\":\"float64\",\"order\":\"little\",\"shape\":[700]}},\"selected\":{\"id\":\"1389\"},\"selection_policy\":{\"id\":\"1388\"}},\"id\":\"1374\",\"type\":\"ColumnDataSource\"},{\"attributes\":{},\"id\":\"1346\",\"type\":\"DataRange1d\"},{\"attributes\":{\"axis_label\":\"Cumulated reward\",\"coordinates\":null,\"formatter\":{\"id\":\"1383\"},\"group\":null,\"major_label_policy\":{\"id\":\"1384\"},\"ticker\":{\"id\":\"1357\"}},\"id\":\"1356\",\"type\":\"LinearAxis\"},{\"attributes\":{},\"id\":\"1357\",\"type\":\"BasicTicker\"},{\"attributes\":{\"axis\":{\"id\":\"1356\"},\"coordinates\":null,\"dimension\":1,\"group\":null,\"ticker\":null},\"id\":\"1359\",\"type\":\"Grid\"},{\"attributes\":{},\"id\":\"1365\",\"type\":\"HelpTool\"},{\"attributes\":{},\"id\":\"1348\",\"type\":\"LinearScale\"},{\"attributes\":{},\"id\":\"1360\",\"type\":\"PanTool\"},{\"attributes\":{},\"id\":\"1384\",\"type\":\"AllLabels\"},{\"attributes\":{\"axis_label\":\"gradient steps on control\",\"coordinates\":null,\"formatter\":{\"id\":\"1386\"},\"group\":null,\"major_label_policy\":{\"id\":\"1387\"},\"ticker\":{\"id\":\"1353\"}},\"id\":\"1352\",\"type\":\"LinearAxis\"},{\"attributes\":{\"overlay\":{\"id\":\"1366\"}},\"id\":\"1362\",\"type\":\"BoxZoomTool\"},{\"attributes\":{},\"id\":\"1363\",\"type\":\"SaveTool\"},{\"attributes\":{},\"id\":\"1364\",\"type\":\"ResetTool\"},{\"attributes\":{},\"id\":\"1387\",\"type\":\"AllLabels\"},{\"attributes\":{\"bottom_units\":\"screen\",\"coordinates\":null,\"fill_alpha\":0.5,\"fill_color\":\"lightgrey\",\"group\":null,\"left_units\":\"screen\",\"level\":\"overlay\",\"line_alpha\":1.0,\"line_color\":\"black\",\"line_dash\":[4,4],\"line_width\":2,\"right_units\":\"screen\",\"syncable\":false,\"top_units\":\"screen\"},\"id\":\"1366\",\"type\":\"BoxAnnotation\"},{\"attributes\":{\"source\":{\"id\":\"1374\"}},\"id\":\"1379\",\"type\":\"CDSView\"},{\"attributes\":{},\"id\":\"1383\",\"type\":\"BasicTickFormatter\"},{\"attributes\":{},\"id\":\"1388\",\"type\":\"UnionRenderers\"},{\"attributes\":{\"line_alpha\":0.2,\"line_color\":\"#1f77b4\",\"line_width\":3,\"x\":{\"field\":\"x\"},\"y\":{\"field\":\"y\"}},\"id\":\"1377\",\"type\":\"Line\"}],\"root_ids\":[\"1343\"]},\"title\":\"Bokeh Application\",\"version\":\"2.4.3\"}};\n",
       "  const render_items = [{\"docid\":\"ee33fcd1-0332-4ad5-bdaf-17b083e29e74\",\"root_ids\":[\"1343\"],\"roots\":{\"1343\":\"5995e392-4763-45b1-94eb-6a0534313c43\"}}];\n",
       "  root.Bokeh.embed.embed_items_notebook(docs_json, render_items);\n",
       "  }\n",
       "  if (root.Bokeh !== undefined) {\n",
       "    embed_document(root);\n",
       "  } else {\n",
       "    let attempts = 0;\n",
       "    const timer = setInterval(function(root) {\n",
       "      if (root.Bokeh !== undefined) {\n",
       "        clearInterval(timer);\n",
       "        embed_document(root);\n",
       "      } else {\n",
       "        attempts++;\n",
       "        if (attempts > 100) {\n",
       "          clearInterval(timer);\n",
       "          console.log(\"Bokeh: ERROR: Unable to run BokehJS code because BokehJS library is missing\");\n",
       "        }\n",
       "      }\n",
       "    }, 10, root)\n",
       "  }\n",
       "})(window);"
      ],
      "application/vnd.bokehjs_exec.v0+json": ""
     },
     "metadata": {
      "application/vnd.bokehjs_exec.v0+json": {
       "id": "1343"
      }
     },
     "output_type": "display_data"
    }
   ],
   "source": [
    "opt = plot_lines(np.arange(iter_control), (cumulated_reward,), x_axis_label=\"gradient steps on control\", y_axis_label=\"Cumulated reward\")\n",
    "show(opt)"
   ]
  },
  {
   "cell_type": "code",
   "execution_count": 24,
   "metadata": {
    "ExecuteTime": {
     "end_time": "2022-10-18T16:37:12.615333Z",
     "start_time": "2022-10-18T16:37:11.431665Z"
    }
   },
   "outputs": [],
   "source": [
    "W_t_opt = control.get_weights(time_span, get_numpy=True)\n",
    "Loss_t_opt = control.get_loss_function(W_t_opt, get_numpy=True)\n",
    "\n",
    "results_dict[\"W_t_control_opt\"] = W_t_opt\n",
    "results_dict[\"Loss_t_control_opt\"] = Loss_t_opt"
   ]
  },
  {
   "cell_type": "code",
   "execution_count": 25,
   "metadata": {
    "ExecuteTime": {
     "end_time": "2022-10-18T16:37:12.723992Z",
     "start_time": "2022-10-18T16:37:12.616336Z"
    }
   },
   "outputs": [
    {
     "data": {
      "text/html": [
       "\n",
       "  <div class=\"bk-root\" id=\"fdf51d12-c39f-4c64-a94d-7f0365436049\" data-root-id=\"1486\"></div>\n"
      ]
     },
     "metadata": {},
     "output_type": "display_data"
    },
    {
     "data": {
      "application/javascript": [
       "(function(root) {\n",
       "  function embed_document(root) {\n",
       "  const docs_json = {\"07075582-5a8a-47e7-859f-d047d5f1ad76\":{\"defs\":[],\"roots\":{\"references\":[{\"attributes\":{\"below\":[{\"id\":\"1495\"}],\"center\":[{\"id\":\"1498\"},{\"id\":\"1502\"},{\"id\":\"1534\"}],\"height\":500,\"left\":[{\"id\":\"1499\"}],\"renderers\":[{\"id\":\"1521\"},{\"id\":\"1540\"},{\"id\":\"1560\"}],\"title\":{\"id\":\"1523\"},\"toolbar\":{\"id\":\"1510\"},\"width\":800,\"x_range\":{\"id\":\"1487\"},\"x_scale\":{\"id\":\"1491\"},\"y_range\":{\"id\":\"1489\"},\"y_scale\":{\"id\":\"1493\"}},\"id\":\"1486\",\"subtype\":\"Figure\",\"type\":\"Plot\"},{\"attributes\":{\"axis\":{\"id\":\"1495\"},\"coordinates\":null,\"group\":null,\"ticker\":null},\"id\":\"1498\",\"type\":\"Grid\"},{\"attributes\":{},\"id\":\"1493\",\"type\":\"LinearScale\"},{\"attributes\":{},\"id\":\"1553\",\"type\":\"Selection\"},{\"attributes\":{\"data\":{\"x\":[0,1,2,3,4,5,6,7,8,9,10,11,12,13,14,15,16,17,18,19,20,21,22,23,24,25,26,27,28,29,30,31,32,33,34,35,36,37,38,39,40,41,42,43,44,45,46,47,48,49,50,51,52,53,54,55,56,57,58,59,60,61,62,63,64,65,66,67,68,69,70,71,72,73,74,75,76,77,78,79,80,81,82,83,84,85,86,87,88,89,90,91,92,93,94,95,96,97,98,99,100,101,102,103,104,105,106,107,108,109,110,111,112,113,114,115,116,117,118,119,120,121,122,123,124,125,126,127,128,129,130,131,132,133,134,135,136,137,138,139,140,141,142,143,144,145,146,147,148,149,150,151,152,153,154,155,156,157,158,159,160,161,162,163,164,165,166,167,168,169,170,171,172,173,174,175,176,177,178,179,180,181,182,183,184,185,186,187,188,189,190,191,192,193,194,195,196,197,198,199,200,201,202,203,204,205,206,207,208,209,210,211,212,213,214,215,216,217,218,219,220,221,222,223,224,225,226,227,228,229,230,231,232,233,234,235,236,237,238,239,240,241,242,243,244,245,246,247,248,249,250,251,252,253,254,255,256,257,258,259,260,261,262,263,264,265,266,267,268,269,270,271,272,273,274,275,276,277,278,279,280,281,282,283,284,285,286,287,288,289,290,291,292,293,294,295,296,297,298,299,300,301,302,303,304,305,306,307,308,309,310,311,312,313,314,315,316,317,318,319,320,321,322,323,324,325,326,327,328,329,330,331,332,333,334,335,336,337,338,339,340,341,342,343,344,345,346,347,348,349,350,351,352,353,354,355,356,357,358,359,360,361,362,363,364,365,366,367,368,369,370,371,372,373,374,375,376,377,378,379,380,381,382,383,384,385,386,387,388,389,390,391,392,393,394,395,396,397,398,399,400,401,402,403,404,405,406,407,408,409,410,411,412,413,414,415,416,417,418,419,420,421,422,423,424,425,426,427,428,429,430,431,432,433,434,435,436,437,438,439,440,441,442,443,444,445,446,447,448,449,450,451,452,453,454,455,456,457,458,459,460,461,462,463,464,465,466,467,468,469,470,471,472,473,474,475,476,477,478,479,480,481,482,483,484,485,486,487,488,489,490,491,492,493,494,495,496,497,498,499,500,501,502,503,504,505,506,507,508,509,510,511,512,513,514,515,516,517,518,519,520,521,522,523,524,525,526,527,528,529,530,531,532,533,534,535,536,537,538,539,540,541,542,543,544,545,546,547,548,549,550,551,552,553,554,555,556,557,558,559,560,561,562,563,564,565,566,567,568,569,570,571,572,573,574,575,576,577,578,579,580,581,582,583,584,585,586,587,588,589,590,591,592,593,594,595,596,597,598,599],\"y\":{\"__ndarray__\":\"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\",\"dtype\":\"float32\",\"order\":\"little\",\"shape\":[600]}},\"selected\":{\"id\":\"1532\"},\"selection_policy\":{\"id\":\"1531\"}},\"id\":\"1517\",\"type\":\"ColumnDataSource\"},{\"attributes\":{},\"id\":\"1496\",\"type\":\"BasicTicker\"},{\"attributes\":{},\"id\":\"1487\",\"type\":\"DataRange1d\"},{\"attributes\":{},\"id\":\"1530\",\"type\":\"AllLabels\"},{\"attributes\":{\"coordinates\":null,\"group\":null},\"id\":\"1523\",\"type\":\"Title\"},{\"attributes\":{\"coordinates\":null,\"group\":null,\"items\":[{\"id\":\"1535\"},{\"id\":\"1555\"},{\"id\":\"1577\"}]},\"id\":\"1534\",\"type\":\"Legend\"},{\"attributes\":{},\"id\":\"1527\",\"type\":\"AllLabels\"},{\"attributes\":{},\"id\":\"1500\",\"type\":\"BasicTicker\"},{\"attributes\":{},\"id\":\"1526\",\"type\":\"BasicTickFormatter\"},{\"attributes\":{},\"id\":\"1508\",\"type\":\"HelpTool\"},{\"attributes\":{},\"id\":\"1574\",\"type\":\"UnionRenderers\"},{\"attributes\":{},\"id\":\"1529\",\"type\":\"BasicTickFormatter\"},{\"attributes\":{},\"id\":\"1491\",\"type\":\"LinearScale\"},{\"attributes\":{\"line_alpha\":0.2,\"line_color\":\"#1f77b4\",\"line_width\":3,\"x\":{\"field\":\"x\"},\"y\":{\"field\":\"y\"}},\"id\":\"1520\",\"type\":\"Line\"},{\"attributes\":{\"tools\":[{\"id\":\"1503\"},{\"id\":\"1504\"},{\"id\":\"1505\"},{\"id\":\"1506\"},{\"id\":\"1507\"},{\"id\":\"1508\"}]},\"id\":\"1510\",\"type\":\"Toolbar\"},{\"attributes\":{},\"id\":\"1531\",\"type\":\"UnionRenderers\"},{\"attributes\":{\"bottom_units\":\"screen\",\"coordinates\":null,\"fill_alpha\":0.5,\"fill_color\":\"lightgrey\",\"group\":null,\"left_units\":\"screen\",\"level\":\"overlay\",\"line_alpha\":1.0,\"line_color\":\"black\",\"line_dash\":[4,4],\"line_width\":2,\"right_units\":\"screen\",\"syncable\":false,\"top_units\":\"screen\"},\"id\":\"1509\",\"type\":\"BoxAnnotation\"},{\"attributes\":{},\"id\":\"1532\",\"type\":\"Selection\"},{\"attributes\":{\"label\":{\"value\":\"Real Non-linear\"},\"renderers\":[{\"id\":\"1521\"}]},\"id\":\"1535\",\"type\":\"LegendItem\"},{\"attributes\":{},\"id\":\"1503\",\"type\":\"PanTool\"},{\"attributes\":{\"line_alpha\":0.1,\"line_color\":\"#1f77b4\",\"line_width\":3,\"x\":{\"field\":\"x\"},\"y\":{\"field\":\"y\"}},\"id\":\"1519\",\"type\":\"Line\"},{\"attributes\":{\"source\":{\"id\":\"1536\"}},\"id\":\"1541\",\"type\":\"CDSView\"},{\"attributes\":{},\"id\":\"1504\",\"type\":\"WheelZoomTool\"},{\"attributes\":{\"label\":{\"value\":\"Approximated Optimized Control\"},\"renderers\":[{\"id\":\"1560\"}]},\"id\":\"1577\",\"type\":\"LegendItem\"},{\"attributes\":{\"line_color\":\"#1f77b4\",\"line_width\":3,\"x\":{\"field\":\"x\"},\"y\":{\"field\":\"y\"}},\"id\":\"1537\",\"type\":\"Line\"},{\"attributes\":{\"source\":{\"id\":\"1517\"}},\"id\":\"1522\",\"type\":\"CDSView\"},{\"attributes\":{\"axis\":{\"id\":\"1499\"},\"coordinates\":null,\"dimension\":1,\"group\":null,\"ticker\":null},\"id\":\"1502\",\"type\":\"Grid\"},{\"attributes\":{},\"id\":\"1575\",\"type\":\"Selection\"},{\"attributes\":{},\"id\":\"1489\",\"type\":\"DataRange1d\"},{\"attributes\":{\"overlay\":{\"id\":\"1509\"}},\"id\":\"1505\",\"type\":\"BoxZoomTool\"},{\"attributes\":{\"coordinates\":null,\"data_source\":{\"id\":\"1536\"},\"glyph\":{\"id\":\"1537\"},\"group\":null,\"hover_glyph\":null,\"muted_glyph\":{\"id\":\"1539\"},\"nonselection_glyph\":{\"id\":\"1538\"},\"view\":{\"id\":\"1541\"}},\"id\":\"1540\",\"type\":\"GlyphRenderer\"},{\"attributes\":{\"line_alpha\":0.2,\"line_color\":\"#ff7f0e\",\"line_width\":3,\"x\":{\"field\":\"x\"},\"y\":{\"field\":\"y\"}},\"id\":\"1559\",\"type\":\"Line\"},{\"attributes\":{},\"id\":\"1506\",\"type\":\"SaveTool\"},{\"attributes\":{\"data\":{\"x\":[0,1,2,3,4,5,6,7,8,9,10,11,12,13,14,15,16,17,18,19,20,21,22,23,24,25,26,27,28,29,30,31,32,33,34,35,36,37,38,39,40,41,42,43,44,45,46,47,48,49,50,51,52,53,54,55,56,57,58,59,60,61,62,63,64,65,66,67,68,69,70,71,72,73,74,75,76,77,78,79,80,81,82,83,84,85,86,87,88,89,90,91,92,93,94,95,96,97,98,99,100,101,102,103,104,105,106,107,108,109,110,111,112,113,114,115,116,117,118,119,120,121,122,123,124,125,126,127,128,129,130,131,132,133,134,135,136,137,138,139,140,141,142,143,144,145,146,147,148,149,150,151,152,153,154,155,156,157,158,159,160,161,162,163,164,165,166,167,168,169,170,171,172,173,174,175,176,177,178,179,180,181,182,183,184,185,186,187,188,189,190,191,192,193,194,195,196,197,198,199,200,201,202,203,204,205,206,207,208,209,210,211,212,213,214,215,216,217,218,219,220,221,222,223,224,225,226,227,228,229,230,231,232,233,234,235,236,237,238,239,240,241,242,243,244,245,246,247,248,249,250,251,252,253,254,255,256,257,258,259,260,261,262,263,264,265,266,267,268,269,270,271,272,273,274,275,276,277,278,279,280,281,282,283,284,285,286,287,288,289,290,291,292,293,294,295,296,297,298,299,300,301,302,303,304,305,306,307,308,309,310,311,312,313,314,315,316,317,318,319,320,321,322,323,324,325,326,327,328,329,330,331,332,333,334,335,336,337,338,339,340,341,342,343,344,345,346,347,348,349,350,351,352,353,354,355,356,357,358,359,360,361,362,363,364,365,366,367,368,369,370,371,372,373,374,375,376,377,378,379,380,381,382,383,384,385,386,387,388,389,390,391,392,393,394,395,396,397,398,399,400,401,402,403,404,405,406,407,408,409,410,411,412,413,414,415,416,417,418,419,420,421,422,423,424,425,426,427,428,429,430,431,432,433,434,435,436,437,438,439,440,441,442,443,444,445,446,447,448,449,450,451,452,453,454,455,456,457,458,459,460,461,462,463,464,465,466,467,468,469,470,471,472,473,474,475,476,477,478,479,480,481,482,483,484,485,486,487,488,489,490,491,492,493,494,495,496,497,498,499,500,501,502,503,504,505,506,507,508,509,510,511,512,513,514,515,516,517,518,519,520,521,522,523,524,525,526,527,528,529,530,531,532,533,534,535,536,537,538,539,540,541,542,543,544,545,546,547,548,549,550,551,552,553,554,555,556,557,558,559,560,561,562,563,564,565,566,567,568,569,570,571,572,573,574,575,576,577,578,579,580,581,582,583,584,585,586,587,588,589,590,591,592,593,594,595,596,597,598,599],\"y\":{\"__ndarray__\":\"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\",\"dtype\":\"float32\",\"order\":\"little\",\"shape\":[600]}},\"selected\":{\"id\":\"1553\"},\"selection_policy\":{\"id\":\"1552\"}},\"id\":\"1536\",\"type\":\"ColumnDataSource\"},{\"attributes\":{\"line_alpha\":0.1,\"line_color\":\"#ff7f0e\",\"line_width\":3,\"x\":{\"field\":\"x\"},\"y\":{\"field\":\"y\"}},\"id\":\"1558\",\"type\":\"Line\"},{\"attributes\":{},\"id\":\"1507\",\"type\":\"ResetTool\"},{\"attributes\":{\"coordinates\":null,\"data_source\":{\"id\":\"1517\"},\"glyph\":{\"id\":\"1518\"},\"group\":null,\"hover_glyph\":null,\"muted_glyph\":{\"id\":\"1520\"},\"nonselection_glyph\":{\"id\":\"1519\"},\"view\":{\"id\":\"1522\"}},\"id\":\"1521\",\"type\":\"GlyphRenderer\"},{\"attributes\":{\"coordinates\":null,\"data_source\":{\"id\":\"1556\"},\"glyph\":{\"id\":\"1557\"},\"group\":null,\"hover_glyph\":null,\"muted_glyph\":{\"id\":\"1559\"},\"nonselection_glyph\":{\"id\":\"1558\"},\"view\":{\"id\":\"1561\"}},\"id\":\"1560\",\"type\":\"GlyphRenderer\"},{\"attributes\":{\"axis_label\":\"Loss\",\"coordinates\":null,\"formatter\":{\"id\":\"1526\"},\"group\":null,\"major_label_policy\":{\"id\":\"1527\"},\"ticker\":{\"id\":\"1500\"}},\"id\":\"1499\",\"type\":\"LinearAxis\"},{\"attributes\":{\"line_alpha\":0.3,\"line_color\":\"#1f77b4\",\"line_width\":3,\"x\":{\"field\":\"x\"},\"y\":{\"field\":\"y\"}},\"id\":\"1518\",\"type\":\"Line\"},{\"attributes\":{\"line_alpha\":0.2,\"line_color\":\"#1f77b4\",\"line_width\":3,\"x\":{\"field\":\"x\"},\"y\":{\"field\":\"y\"}},\"id\":\"1539\",\"type\":\"Line\"},{\"attributes\":{\"source\":{\"id\":\"1556\"}},\"id\":\"1561\",\"type\":\"CDSView\"},{\"attributes\":{\"line_alpha\":0.1,\"line_color\":\"#1f77b4\",\"line_width\":3,\"x\":{\"field\":\"x\"},\"y\":{\"field\":\"y\"}},\"id\":\"1538\",\"type\":\"Line\"},{\"attributes\":{\"label\":{\"value\":\"Approximation\"},\"renderers\":[{\"id\":\"1540\"}]},\"id\":\"1555\",\"type\":\"LegendItem\"},{\"attributes\":{\"line_color\":\"#ff7f0e\",\"line_width\":3,\"x\":{\"field\":\"x\"},\"y\":{\"field\":\"y\"}},\"id\":\"1557\",\"type\":\"Line\"},{\"attributes\":{\"axis_label\":\"iters\",\"coordinates\":null,\"formatter\":{\"id\":\"1529\"},\"group\":null,\"major_label_policy\":{\"id\":\"1530\"},\"ticker\":{\"id\":\"1496\"}},\"id\":\"1495\",\"type\":\"LinearAxis\"},{\"attributes\":{\"data\":{\"x\":[0,1,2,3,4,5,6,7,8,9,10,11,12,13,14,15,16,17,18,19,20,21,22,23,24,25,26,27,28,29,30,31,32,33,34,35,36,37,38,39,40,41,42,43,44,45,46,47,48,49,50,51,52,53,54,55,56,57,58,59,60,61,62,63,64,65,66,67,68,69,70,71,72,73,74,75,76,77,78,79,80,81,82,83,84,85,86,87,88,89,90,91,92,93,94,95,96,97,98,99,100,101,102,103,104,105,106,107,108,109,110,111,112,113,114,115,116,117,118,119,120,121,122,123,124,125,126,127,128,129,130,131,132,133,134,135,136,137,138,139,140,141,142,143,144,145,146,147,148,149,150,151,152,153,154,155,156,157,158,159,160,161,162,163,164,165,166,167,168,169,170,171,172,173,174,175,176,177,178,179,180,181,182,183,184,185,186,187,188,189,190,191,192,193,194,195,196,197,198,199,200,201,202,203,204,205,206,207,208,209,210,211,212,213,214,215,216,217,218,219,220,221,222,223,224,225,226,227,228,229,230,231,232,233,234,235,236,237,238,239,240,241,242,243,244,245,246,247,248,249,250,251,252,253,254,255,256,257,258,259,260,261,262,263,264,265,266,267,268,269,270,271,272,273,274,275,276,277,278,279,280,281,282,283,284,285,286,287,288,289,290,291,292,293,294,295,296,297,298,299,300,301,302,303,304,305,306,307,308,309,310,311,312,313,314,315,316,317,318,319,320,321,322,323,324,325,326,327,328,329,330,331,332,333,334,335,336,337,338,339,340,341,342,343,344,345,346,347,348,349,350,351,352,353,354,355,356,357,358,359,360,361,362,363,364,365,366,367,368,369,370,371,372,373,374,375,376,377,378,379,380,381,382,383,384,385,386,387,388,389,390,391,392,393,394,395,396,397,398,399,400,401,402,403,404,405,406,407,408,409,410,411,412,413,414,415,416,417,418,419,420,421,422,423,424,425,426,427,428,429,430,431,432,433,434,435,436,437,438,439,440,441,442,443,444,445,446,447,448,449,450,451,452,453,454,455,456,457,458,459,460,461,462,463,464,465,466,467,468,469,470,471,472,473,474,475,476,477,478,479,480,481,482,483,484,485,486,487,488,489,490,491,492,493,494,495,496,497,498,499,500,501,502,503,504,505,506,507,508,509,510,511,512,513,514,515,516,517,518,519,520,521,522,523,524,525,526,527,528,529,530,531,532,533,534,535,536,537,538,539,540,541,542,543,544,545,546,547,548,549,550,551,552,553,554,555,556,557,558,559,560,561,562,563,564,565,566,567,568,569,570,571,572,573,574,575,576,577,578,579,580,581,582,583,584,585,586,587,588,589,590,591,592,593,594,595,596,597,598,599],\"y\":{\"__ndarray__\":\"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\",\"dtype\":\"float32\",\"order\":\"little\",\"shape\":[600]}},\"selected\":{\"id\":\"1575\"},\"selection_policy\":{\"id\":\"1574\"}},\"id\":\"1556\",\"type\":\"ColumnDataSource\"},{\"attributes\":{},\"id\":\"1552\",\"type\":\"UnionRenderers\"}],\"root_ids\":[\"1486\"]},\"title\":\"Bokeh Application\",\"version\":\"2.4.3\"}};\n",
       "  const render_items = [{\"docid\":\"07075582-5a8a-47e7-859f-d047d5f1ad76\",\"root_ids\":[\"1486\"],\"roots\":{\"1486\":\"fdf51d12-c39f-4c64-a94d-7f0365436049\"}}];\n",
       "  root.Bokeh.embed.embed_items_notebook(docs_json, render_items);\n",
       "  }\n",
       "  if (root.Bokeh !== undefined) {\n",
       "    embed_document(root);\n",
       "  } else {\n",
       "    let attempts = 0;\n",
       "    const timer = setInterval(function(root) {\n",
       "      if (root.Bokeh !== undefined) {\n",
       "        clearInterval(timer);\n",
       "        embed_document(root);\n",
       "      } else {\n",
       "        attempts++;\n",
       "        if (attempts > 100) {\n",
       "          clearInterval(timer);\n",
       "          console.log(\"Bokeh: ERROR: Unable to run BokehJS code because BokehJS library is missing\");\n",
       "        }\n",
       "      }\n",
       "    }, 10, root)\n",
       "  }\n",
       "})(window);"
      ],
      "application/vnd.bokehjs_exec.v0+json": ""
     },
     "metadata": {
      "application/vnd.bokehjs_exec.v0+json": {
       "id": "1486"
      }
     },
     "output_type": "display_data"
    }
   ],
   "source": [
    "losses = (loss, Loss_t, Loss_t_opt)\n",
    "colors = (Category10[10][0], Category10[10][0], Category10[10][1])\n",
    "legends = (\"Real Non-linear\", \"Approximation\", \"Approximated Optimized Control\")\n",
    "alphas = (0.3, 1, 1)\n",
    "\n",
    "s = plot_lines(iters, losses, legends, alphas, colors)\n",
    "show(s)"
   ]
  },
  {
   "cell_type": "code",
   "execution_count": 26,
   "metadata": {
    "ExecuteTime": {
     "end_time": "2022-10-18T16:37:12.726990Z",
     "start_time": "2022-10-18T16:37:12.724984Z"
    }
   },
   "outputs": [],
   "source": [
    "g_tilda = control.g_tilda.detach()\n",
    "control_signal = g_tilda\n",
    "W_0 = control_params[\"init_weights\"]\n",
    "results_dict[\"control_signal\"] = control_signal"
   ]
  },
  {
   "cell_type": "code",
   "execution_count": 27,
   "metadata": {
    "ExecuteTime": {
     "end_time": "2022-10-18T16:37:12.733301Z",
     "start_time": "2022-10-18T16:37:12.731075Z"
    }
   },
   "outputs": [],
   "source": [
    "reset_model_params = model_params.copy()\n",
    "reset_model_params[\"W_0\"] = W_0\n",
    "\n",
    "reset_model = SingleLayerNet(**reset_model_params)"
   ]
  },
  {
   "cell_type": "code",
   "execution_count": 28,
   "metadata": {
    "ExecuteTime": {
     "end_time": "2022-10-18T16:37:16.745269Z",
     "start_time": "2022-10-18T16:37:12.734988Z"
    }
   },
   "outputs": [
    {
     "name": "stderr",
     "output_type": "stream",
     "text": [
      "100%|██████████████████████████████████████████████████████████████████████████████████████████████████████████████████████████████████████████████████████████████████████████| 600/600 [00:00<00:00, 1359.92it/s]\n"
     ]
    }
   ],
   "source": [
    "iters, loss_OPT, weights_iter_OPT, weights_OPT = single_layer_training(model=reset_model,\n",
    "                                                                       dataset=dataset,\n",
    "                                                                       n_steps=n_steps,\n",
    "                                                                       save_weights_every=save_weights_every,\n",
    "                                                                       control_signal=control_signal)\n",
    "results_dict[\"Loss_t_sim_OPT\"] = loss_OPT\n",
    "results_dict[\"weights_sim_OPT\"] = weights_OPT\n",
    "results_dict[\"weights_iters_sim_OPT\"] = weights_iter_OPT\n",
    "results_dict[\"iters_OPT\"] = iters"
   ]
  },
  {
   "cell_type": "code",
   "execution_count": 29,
   "metadata": {
    "ExecuteTime": {
     "end_time": "2022-10-18T16:37:16.873109Z",
     "start_time": "2022-10-18T16:37:16.746556Z"
    }
   },
   "outputs": [
    {
     "data": {
      "text/html": [
       "\n",
       "  <div class=\"bk-root\" id=\"4237568a-7325-47e3-9665-8382707977e4\" data-root-id=\"1706\"></div>\n"
      ]
     },
     "metadata": {},
     "output_type": "display_data"
    },
    {
     "data": {
      "application/javascript": [
       "(function(root) {\n",
       "  function embed_document(root) {\n",
       "  const docs_json = {\"b4067cc6-a81b-498b-aa5d-13c0beb7c403\":{\"defs\":[],\"roots\":{\"references\":[{\"attributes\":{\"below\":[{\"id\":\"1715\"}],\"center\":[{\"id\":\"1718\"},{\"id\":\"1722\"},{\"id\":\"1754\"}],\"height\":500,\"left\":[{\"id\":\"1719\"}],\"renderers\":[{\"id\":\"1741\"},{\"id\":\"1760\"},{\"id\":\"1780\"},{\"id\":\"1802\"}],\"title\":{\"id\":\"1743\"},\"toolbar\":{\"id\":\"1730\"},\"width\":800,\"x_range\":{\"id\":\"1707\"},\"x_scale\":{\"id\":\"1711\"},\"y_range\":{\"id\":\"1709\"},\"y_scale\":{\"id\":\"1713\"}},\"id\":\"1706\",\"subtype\":\"Figure\",\"type\":\"Plot\"},{\"attributes\":{},\"id\":\"1726\",\"type\":\"SaveTool\"},{\"attributes\":{},\"id\":\"1794\",\"type\":\"UnionRenderers\"},{\"attributes\":{},\"id\":\"1724\",\"type\":\"WheelZoomTool\"},{\"attributes\":{\"overlay\":{\"id\":\"1729\"}},\"id\":\"1725\",\"type\":\"BoxZoomTool\"},{\"attributes\":{\"coordinates\":null,\"data_source\":{\"id\":\"1737\"},\"glyph\":{\"id\":\"1738\"},\"group\":null,\"hover_glyph\":null,\"muted_glyph\":{\"id\":\"1740\"},\"nonselection_glyph\":{\"id\":\"1739\"},\"view\":{\"id\":\"1742\"}},\"id\":\"1741\",\"type\":\"GlyphRenderer\"},{\"attributes\":{\"label\":{\"value\":\"Approximated Optimized Control\"},\"renderers\":[{\"id\":\"1780\"}]},\"id\":\"1797\",\"type\":\"LegendItem\"},{\"attributes\":{},\"id\":\"1723\",\"type\":\"PanTool\"},{\"attributes\":{\"source\":{\"id\":\"1737\"}},\"id\":\"1742\",\"type\":\"CDSView\"},{\"attributes\":{},\"id\":\"1716\",\"type\":\"BasicTicker\"},{\"attributes\":{},\"id\":\"1773\",\"type\":\"Selection\"},{\"attributes\":{},\"id\":\"1709\",\"type\":\"DataRange1d\"},{\"attributes\":{\"axis\":{\"id\":\"1715\"},\"coordinates\":null,\"group\":null,\"ticker\":null},\"id\":\"1718\",\"type\":\"Grid\"},{\"attributes\":{},\"id\":\"1752\",\"type\":\"Selection\"},{\"attributes\":{},\"id\":\"1818\",\"type\":\"UnionRenderers\"},{\"attributes\":{\"line_alpha\":0.3,\"line_color\":\"#1f77b4\",\"line_width\":3,\"x\":{\"field\":\"x\"},\"y\":{\"field\":\"y\"}},\"id\":\"1738\",\"type\":\"Line\"},{\"attributes\":{\"label\":{\"value\":\"Approximation\"},\"renderers\":[{\"id\":\"1760\"}]},\"id\":\"1775\",\"type\":\"LegendItem\"},{\"attributes\":{\"line_alpha\":0.2,\"line_color\":\"#1f77b4\",\"line_width\":3,\"x\":{\"field\":\"x\"},\"y\":{\"field\":\"y\"}},\"id\":\"1740\",\"type\":\"Line\"},{\"attributes\":{\"data\":{\"x\":[0,1,2,3,4,5,6,7,8,9,10,11,12,13,14,15,16,17,18,19,20,21,22,23,24,25,26,27,28,29,30,31,32,33,34,35,36,37,38,39,40,41,42,43,44,45,46,47,48,49,50,51,52,53,54,55,56,57,58,59,60,61,62,63,64,65,66,67,68,69,70,71,72,73,74,75,76,77,78,79,80,81,82,83,84,85,86,87,88,89,90,91,92,93,94,95,96,97,98,99,100,101,102,103,104,105,106,107,108,109,110,111,112,113,114,115,116,117,118,119,120,121,122,123,124,125,126,127,128,129,130,131,132,133,134,135,136,137,138,139,140,141,142,143,144,145,146,147,148,149,150,151,152,153,154,155,156,157,158,159,160,161,162,163,164,165,166,167,168,169,170,171,172,173,174,175,176,177,178,179,180,181,182,183,184,185,186,187,188,189,190,191,192,193,194,195,196,197,198,199,200,201,202,203,204,205,206,207,208,209,210,211,212,213,214,215,216,217,218,219,220,221,222,223,224,225,226,227,228,229,230,231,232,233,234,235,236,237,238,239,240,241,242,243,244,245,246,247,248,249,250,251,252,253,254,255,256,257,258,259,260,261,262,263,264,265,266,267,268,269,270,271,272,273,274,275,276,277,278,279,280,281,282,283,284,285,286,287,288,289,290,291,292,293,294,295,296,297,298,299,300,301,302,303,304,305,306,307,308,309,310,311,312,313,314,315,316,317,318,319,320,321,322,323,324,325,326,327,328,329,330,331,332,333,334,335,336,337,338,339,340,341,342,343,344,345,346,347,348,349,350,351,352,353,354,355,356,357,358,359,360,361,362,363,364,365,366,367,368,369,370,371,372,373,374,375,376,377,378,379,380,381,382,383,384,385,386,387,388,389,390,391,392,393,394,395,396,397,398,399,400,401,402,403,404,405,406,407,408,409,410,411,412,413,414,415,416,417,418,419,420,421,422,423,424,425,426,427,428,429,430,431,432,433,434,435,436,437,438,439,440,441,442,443,444,445,446,447,448,449,450,451,452,453,454,455,456,457,458,459,460,461,462,463,464,465,466,467,468,469,470,471,472,473,474,475,476,477,478,479,480,481,482,483,484,485,486,487,488,489,490,491,492,493,494,495,496,497,498,499,500,501,502,503,504,505,506,507,508,509,510,511,512,513,514,515,516,517,518,519,520,521,522,523,524,525,526,527,528,529,530,531,532,533,534,535,536,537,538,539,540,541,542,543,544,545,546,547,548,549,550,551,552,553,554,555,556,557,558,559,560,561,562,563,564,565,566,567,568,569,570,571,572,573,574,575,576,577,578,579,580,581,582,583,584,585,586,587,588,589,590,591,592,593,594,595,596,597,598,599],\"y\":{\"__ndarray__\":\"AAAAPyD1/T43tPs+sDP6Pu9H9z4jbPY+cmTzPgXw8T6Ym/A+f6TtPuq47D4xEOs+P+znPimw5j7hReQ+nB7jPoR74D4zWd0+m+DbPr6x3T4eO9o+QgvaPtuD1z52MdY+oATYPo3p0T57r84+3m/OPkKSyj520cs+YObHPj0Axj4mBsE+8TTFPvQ3wj6Ltr8+S5vBPkYpwT7fKMI+0qS7PmHbuT6AZbc+BSa3PvF2sz4a+rk+zWi1PqdAsD6s5bM+V4auPsadsj7vbrU+BACrPrD5sz7dn6w+hDepPk1qqj5CRa0+YhSoPhfZpT47+KQ+Xi2ePlMgoj7OUp8+t1ObPlWynj67458+pBCbPnLwmD4JPJ8+FLyUPtUQmj7Ywpg+5OmYPmi1mT4zfJY+l+WVPj4hmj5y4ZE+veGKPsVrnz7v6I8+/TaNPiaLkD6YGow+BDGKPnjYjz5i2Y4+emiFPicNjD6/Z4o+htGKPiwSiz59mX8+d958Pl16fj7Ojoc+Grd+PoOYjT4HHHw+qAd4PkRCgj6ZNHM+rhV8Plx9fD7DCYI+2Zx2PvAicz4ksnk+rWVwPiUrgT5D5GQ+K0NgPl09dD6vrmc+C6ZrPlOIaT6vp2Y+i95yPoP+eD7wuV4+JmFcPhRvVz5vBWs+F5dePpmdWD6UVGw+QahqPtlAYD4Fn2A+/bJYPhXRWD6XpFU+Gl1UPi3LXz5JnEg+mhBhPjrfSD6vz0I+xkVFPk/CZT5v/FI+Ou5dPk3eSj5UIV0+R85OPrL6Rj5wIkU+rhNOPi5xTj4XOFc+O9s/PkGiSj64rkQ+XjlCPrNmTj5nL0E+ur04PpU3PD7pKVA+k8hBPnGfQT5aCzU+RyMtPtjJKj6kTC8+IiMvPiE9PT66/zg+PUAiPoaEJT59LTI+EmwaPnBLIj54cTA+PJctPvyMGj6umEY+HIcqPs5tGz4ewic+JOgVPqiCLj5AYjk+xhIdPuADMz74yi8+PUIpPnkyJD5UvhM+1BkwPmxPPD6QMhI+8C8WPprvKD57xzg+3ucbPitQLz7Piw0+4cUmPt+kJj7SChk+gOokPgoKGD7yzCI+2fcyPgy4Jz6Bry4+QhgjPk86GT4bNRw+gBckPucgFz5HYxE+2vIRPrZbIj4b3Bk+Uv0qPmogGD672RY+AfQLPtx5ID4A6wo+i0ETPu4HIj4psSQ+4nAZPqXxJj5vlxk+0rUfPlOhHj66fCU+LlUNPgwGHz4ZFiA+bmAJPmZiCD6UsQY+B+cUPrDmCD7HzBE+uKcfPlPrEz7RYyc+Fh/1PViCHz7fzik+amoaPijyEz5iFQ8+XQkLPvQgCT4Q3Rk+7knzPb8Q/T2alQA+ExARPp4gDD4Y0PY9CZD5PUL48j1uCAo+sK8JPuT1+z1M5g0+OE8RPujH+T0Oze89/a0GPvk2Bj7d1Qk+RwD7PUU3BD6fWhE+vaYGPqBmBz7jnP496VwIPmNSDD6OAN09XZb1PUIeEz56Ufg9cdkLPmdj8z0KiPg9qYDfPeXcAz5WOQ0+iEH5PXecDT44jhU+fE4JPnZqCz6ZT/Q9qwwOPsCO4z2tyPk9bkTxPd+P7D0WLgI+dqkKPhh/7D3ASgw+t/MQPvtX9z3sf/g9jHUkPu7CAz6Tdgk+ArMJPjIcDD4CC9k9RPL/PUh98T0FiPY9kHr7PYUe4z16tw0+80kAPsObCD6KGQg+zw7ZPXvX+T0ukOo9jGHcPUSVFD52xQc+jFoCPklU7z0b1A0+mv7xPfqHBz7oDO490h8DPjWS9z2W3fc9Xn/yPdqC8D1fRAw+oBkMPiF3Az64K+g9abDvPa6lBT4fF+099gzyPd5fzz1gQwk+TiL8PRnkBj5OjP89bqvvPTVS+T1tA+89FrDSPZCA0j1Vlfw9IPYTPgFL4D2fNd89qs3PPeDpET6a2ug9lizmPVW1uz2C2fU9XY0APg6c/T1rWvU9TtHbPcuy6j2rpwY+stzoPXtXAT63lAc+8Z/zPQ/k9z3RuQ0+nZTsPT3k1D0jx/g9funlPdwK3z2UK/s9pacCPtVa9z05UL49OEDaPTR77T25D+E9DQQNPr829T0D6Qg+nWHYPcG60D0piP89VP35PWmXyz3egN09g/fZPfuY3j3dP+E9LLXhPUbC4j3z+gA+6J34PRdX6T0neQI+E4LYPZmzEz5SV/I9bvPBPTpH8T3/vb09XpDsPVU5+T2ECfk91xX/PWPb1D2Jlg8+Jn3aPUfj4j0oR8o98KHtPfqm8D0Se7o9Cw7PPRC66z0z+tw9i2TsPasJBT77utw9k93wPSMC2D1CdO49wa/+PdEa3D1MjO89i+XhPcmV9j0Q3vI9jeXVPQ0f5z36bOU9qinLPZY09j3e3+o908quPeAOyD3LzMw9mEHWPQ4N4j2JaAQ+qRjlPXCi8j10VPk9dP/dPbbWyD1ujQM+5W3vPUCqBz70Kf49kI3bPeCv3j0JIdI9X7W/Pcdx1z0pAuY9B9fnPS6l7D0BNc09c8HWPTb4Az56Jec9oiPtPb4dCz446N89JLX1PevNvD3jCco9YHfnPVjK8j0K3AI+6BDqPTxJ1D1ZxcA9DMgGPvnK0z2xZQk+dC6qPW72zT3ej+M9Tm/NPZPy3j3bbeM9HCIBPllIAj536bg98avhPf2dwT10MP895TO6Pcug+T3LLOI9BKjbPfEN6j2wAAQ+lH3EPc642z1/y+E9yrEEPihu4z2W3vs92ivOPSLi2j1dRNo9xO7dPSZG7j1/pAg+NEzfPcCT9z2akPM9BkDzPTqR1D3w2NE9NLf2PZwj5T3VyPw9ELILPmgNvz3aWsk9L3q8PbN5tz1lO9M9aLTQPSBhzj1+Htc9NHTQPXRlyj2y7sE9LKrjPSo97T2Fa/Q9p9PMPWCCxT0KssI9PeK5PYR23z0xqqs9Dd3DPQzRwj1KAQE+RDPGPZK25z1YZMs9iNbqPSF+7D2SNfk9wTzrPbS2FT6b2Oo9s1DEPSpl+D1jSLU9q4vhPTXe+T1b2uI9oVHjPQaU7D3P9vg9lA7DPZ152D26lew94Z7UPSeN4T0hCfc9X7SyPe9F6z2uPeI9dqLgPdfC2j3k5u49djrEPcZF5z2cWqE9KDvePZpn9z0u5N89fQniPW+9/D1ogt89H47sPRSa0T06vJ89i4H7PTQMsz3sAds9p87kPacj4z2H3+o9\",\"dtype\":\"float32\",\"order\":\"little\",\"shape\":[600]}},\"selected\":{\"id\":\"1752\"},\"selection_policy\":{\"id\":\"1751\"}},\"id\":\"1737\",\"type\":\"ColumnDataSource\"},{\"attributes\":{},\"id\":\"1819\",\"type\":\"Selection\"},{\"attributes\":{},\"id\":\"1746\",\"type\":\"BasicTickFormatter\"},{\"attributes\":{\"label\":{\"value\":\"Optimized Non-linear\"},\"renderers\":[{\"id\":\"1802\"}]},\"id\":\"1821\",\"type\":\"LegendItem\"},{\"attributes\":{},\"id\":\"1747\",\"type\":\"AllLabels\"},{\"attributes\":{\"coordinates\":null,\"group\":null},\"id\":\"1743\",\"type\":\"Title\"},{\"attributes\":{},\"id\":\"1749\",\"type\":\"BasicTickFormatter\"},{\"attributes\":{},\"id\":\"1751\",\"type\":\"UnionRenderers\"},{\"attributes\":{\"bottom_units\":\"screen\",\"coordinates\":null,\"fill_alpha\":0.5,\"fill_color\":\"lightgrey\",\"group\":null,\"left_units\":\"screen\",\"level\":\"overlay\",\"line_alpha\":1.0,\"line_color\":\"black\",\"line_dash\":[4,4],\"line_width\":2,\"right_units\":\"screen\",\"syncable\":false,\"top_units\":\"screen\"},\"id\":\"1729\",\"type\":\"BoxAnnotation\"},{\"attributes\":{},\"id\":\"1750\",\"type\":\"AllLabels\"},{\"attributes\":{\"coordinates\":null,\"group\":null,\"items\":[{\"id\":\"1755\"},{\"id\":\"1775\"},{\"id\":\"1797\"},{\"id\":\"1821\"}]},\"id\":\"1754\",\"type\":\"Legend\"},{\"attributes\":{\"source\":{\"id\":\"1776\"}},\"id\":\"1781\",\"type\":\"CDSView\"},{\"attributes\":{},\"id\":\"1795\",\"type\":\"Selection\"},{\"attributes\":{\"line_alpha\":0.3,\"line_color\":\"#ff7f0e\",\"line_width\":3,\"x\":{\"field\":\"x\"},\"y\":{\"field\":\"y\"}},\"id\":\"1799\",\"type\":\"Line\"},{\"attributes\":{\"label\":{\"value\":\"Real Non-linear\"},\"renderers\":[{\"id\":\"1741\"}]},\"id\":\"1755\",\"type\":\"LegendItem\"},{\"attributes\":{\"line_color\":\"#1f77b4\",\"line_width\":3,\"x\":{\"field\":\"x\"},\"y\":{\"field\":\"y\"}},\"id\":\"1757\",\"type\":\"Line\"},{\"attributes\":{\"coordinates\":null,\"data_source\":{\"id\":\"1798\"},\"glyph\":{\"id\":\"1799\"},\"group\":null,\"hover_glyph\":null,\"muted_glyph\":{\"id\":\"1801\"},\"nonselection_glyph\":{\"id\":\"1800\"},\"view\":{\"id\":\"1803\"}},\"id\":\"1802\",\"type\":\"GlyphRenderer\"},{\"attributes\":{\"tools\":[{\"id\":\"1723\"},{\"id\":\"1724\"},{\"id\":\"1725\"},{\"id\":\"1726\"},{\"id\":\"1727\"},{\"id\":\"1728\"}]},\"id\":\"1730\",\"type\":\"Toolbar\"},{\"attributes\":{\"line_color\":\"#ff7f0e\",\"line_width\":3,\"x\":{\"field\":\"x\"},\"y\":{\"field\":\"y\"}},\"id\":\"1777\",\"type\":\"Line\"},{\"attributes\":{\"data\":{\"x\":[0,1,2,3,4,5,6,7,8,9,10,11,12,13,14,15,16,17,18,19,20,21,22,23,24,25,26,27,28,29,30,31,32,33,34,35,36,37,38,39,40,41,42,43,44,45,46,47,48,49,50,51,52,53,54,55,56,57,58,59,60,61,62,63,64,65,66,67,68,69,70,71,72,73,74,75,76,77,78,79,80,81,82,83,84,85,86,87,88,89,90,91,92,93,94,95,96,97,98,99,100,101,102,103,104,105,106,107,108,109,110,111,112,113,114,115,116,117,118,119,120,121,122,123,124,125,126,127,128,129,130,131,132,133,134,135,136,137,138,139,140,141,142,143,144,145,146,147,148,149,150,151,152,153,154,155,156,157,158,159,160,161,162,163,164,165,166,167,168,169,170,171,172,173,174,175,176,177,178,179,180,181,182,183,184,185,186,187,188,189,190,191,192,193,194,195,196,197,198,199,200,201,202,203,204,205,206,207,208,209,210,211,212,213,214,215,216,217,218,219,220,221,222,223,224,225,226,227,228,229,230,231,232,233,234,235,236,237,238,239,240,241,242,243,244,245,246,247,248,249,250,251,252,253,254,255,256,257,258,259,260,261,262,263,264,265,266,267,268,269,270,271,272,273,274,275,276,277,278,279,280,281,282,283,284,285,286,287,288,289,290,291,292,293,294,295,296,297,298,299,300,301,302,303,304,305,306,307,308,309,310,311,312,313,314,315,316,317,318,319,320,321,322,323,324,325,326,327,328,329,330,331,332,333,334,335,336,337,338,339,340,341,342,343,344,345,346,347,348,349,350,351,352,353,354,355,356,357,358,359,360,361,362,363,364,365,366,367,368,369,370,371,372,373,374,375,376,377,378,379,380,381,382,383,384,385,386,387,388,389,390,391,392,393,394,395,396,397,398,399,400,401,402,403,404,405,406,407,408,409,410,411,412,413,414,415,416,417,418,419,420,421,422,423,424,425,426,427,428,429,430,431,432,433,434,435,436,437,438,439,440,441,442,443,444,445,446,447,448,449,450,451,452,453,454,455,456,457,458,459,460,461,462,463,464,465,466,467,468,469,470,471,472,473,474,475,476,477,478,479,480,481,482,483,484,485,486,487,488,489,490,491,492,493,494,495,496,497,498,499,500,501,502,503,504,505,506,507,508,509,510,511,512,513,514,515,516,517,518,519,520,521,522,523,524,525,526,527,528,529,530,531,532,533,534,535,536,537,538,539,540,541,542,543,544,545,546,547,548,549,550,551,552,553,554,555,556,557,558,559,560,561,562,563,564,565,566,567,568,569,570,571,572,573,574,575,576,577,578,579,580,581,582,583,584,585,586,587,588,589,590,591,592,593,594,595,596,597,598,599],\"y\":{\"__ndarray__\":\"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\",\"dtype\":\"float32\",\"order\":\"little\",\"shape\":[600]}},\"selected\":{\"id\":\"1819\"},\"selection_policy\":{\"id\":\"1818\"}},\"id\":\"1798\",\"type\":\"ColumnDataSource\"},{\"attributes\":{\"source\":{\"id\":\"1756\"}},\"id\":\"1761\",\"type\":\"CDSView\"},{\"attributes\":{\"source\":{\"id\":\"1798\"}},\"id\":\"1803\",\"type\":\"CDSView\"},{\"attributes\":{},\"id\":\"1772\",\"type\":\"UnionRenderers\"},{\"attributes\":{\"coordinates\":null,\"data_source\":{\"id\":\"1776\"},\"glyph\":{\"id\":\"1777\"},\"group\":null,\"hover_glyph\":null,\"muted_glyph\":{\"id\":\"1779\"},\"nonselection_glyph\":{\"id\":\"1778\"},\"view\":{\"id\":\"1781\"}},\"id\":\"1780\",\"type\":\"GlyphRenderer\"},{\"attributes\":{},\"id\":\"1707\",\"type\":\"DataRange1d\"},{\"attributes\":{\"coordinates\":null,\"data_source\":{\"id\":\"1756\"},\"glyph\":{\"id\":\"1757\"},\"group\":null,\"hover_glyph\":null,\"muted_glyph\":{\"id\":\"1759\"},\"nonselection_glyph\":{\"id\":\"1758\"},\"view\":{\"id\":\"1761\"}},\"id\":\"1760\",\"type\":\"GlyphRenderer\"},{\"attributes\":{\"line_alpha\":0.1,\"line_color\":\"#1f77b4\",\"line_width\":3,\"x\":{\"field\":\"x\"},\"y\":{\"field\":\"y\"}},\"id\":\"1739\",\"type\":\"Line\"},{\"attributes\":{\"data\":{\"x\":[0,1,2,3,4,5,6,7,8,9,10,11,12,13,14,15,16,17,18,19,20,21,22,23,24,25,26,27,28,29,30,31,32,33,34,35,36,37,38,39,40,41,42,43,44,45,46,47,48,49,50,51,52,53,54,55,56,57,58,59,60,61,62,63,64,65,66,67,68,69,70,71,72,73,74,75,76,77,78,79,80,81,82,83,84,85,86,87,88,89,90,91,92,93,94,95,96,97,98,99,100,101,102,103,104,105,106,107,108,109,110,111,112,113,114,115,116,117,118,119,120,121,122,123,124,125,126,127,128,129,130,131,132,133,134,135,136,137,138,139,140,141,142,143,144,145,146,147,148,149,150,151,152,153,154,155,156,157,158,159,160,161,162,163,164,165,166,167,168,169,170,171,172,173,174,175,176,177,178,179,180,181,182,183,184,185,186,187,188,189,190,191,192,193,194,195,196,197,198,199,200,201,202,203,204,205,206,207,208,209,210,211,212,213,214,215,216,217,218,219,220,221,222,223,224,225,226,227,228,229,230,231,232,233,234,235,236,237,238,239,240,241,242,243,244,245,246,247,248,249,250,251,252,253,254,255,256,257,258,259,260,261,262,263,264,265,266,267,268,269,270,271,272,273,274,275,276,277,278,279,280,281,282,283,284,285,286,287,288,289,290,291,292,293,294,295,296,297,298,299,300,301,302,303,304,305,306,307,308,309,310,311,312,313,314,315,316,317,318,319,320,321,322,323,324,325,326,327,328,329,330,331,332,333,334,335,336,337,338,339,340,341,342,343,344,345,346,347,348,349,350,351,352,353,354,355,356,357,358,359,360,361,362,363,364,365,366,367,368,369,370,371,372,373,374,375,376,377,378,379,380,381,382,383,384,385,386,387,388,389,390,391,392,393,394,395,396,397,398,399,400,401,402,403,404,405,406,407,408,409,410,411,412,413,414,415,416,417,418,419,420,421,422,423,424,425,426,427,428,429,430,431,432,433,434,435,436,437,438,439,440,441,442,443,444,445,446,447,448,449,450,451,452,453,454,455,456,457,458,459,460,461,462,463,464,465,466,467,468,469,470,471,472,473,474,475,476,477,478,479,480,481,482,483,484,485,486,487,488,489,490,491,492,493,494,495,496,497,498,499,500,501,502,503,504,505,506,507,508,509,510,511,512,513,514,515,516,517,518,519,520,521,522,523,524,525,526,527,528,529,530,531,532,533,534,535,536,537,538,539,540,541,542,543,544,545,546,547,548,549,550,551,552,553,554,555,556,557,558,559,560,561,562,563,564,565,566,567,568,569,570,571,572,573,574,575,576,577,578,579,580,581,582,583,584,585,586,587,588,589,590,591,592,593,594,595,596,597,598,599],\"y\":{\"__ndarray__\":\"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\",\"dtype\":\"float32\",\"order\":\"little\",\"shape\":[600]}},\"selected\":{\"id\":\"1795\"},\"selection_policy\":{\"id\":\"1794\"}},\"id\":\"1776\",\"type\":\"ColumnDataSource\"},{\"attributes\":{\"data\":{\"x\":[0,1,2,3,4,5,6,7,8,9,10,11,12,13,14,15,16,17,18,19,20,21,22,23,24,25,26,27,28,29,30,31,32,33,34,35,36,37,38,39,40,41,42,43,44,45,46,47,48,49,50,51,52,53,54,55,56,57,58,59,60,61,62,63,64,65,66,67,68,69,70,71,72,73,74,75,76,77,78,79,80,81,82,83,84,85,86,87,88,89,90,91,92,93,94,95,96,97,98,99,100,101,102,103,104,105,106,107,108,109,110,111,112,113,114,115,116,117,118,119,120,121,122,123,124,125,126,127,128,129,130,131,132,133,134,135,136,137,138,139,140,141,142,143,144,145,146,147,148,149,150,151,152,153,154,155,156,157,158,159,160,161,162,163,164,165,166,167,168,169,170,171,172,173,174,175,176,177,178,179,180,181,182,183,184,185,186,187,188,189,190,191,192,193,194,195,196,197,198,199,200,201,202,203,204,205,206,207,208,209,210,211,212,213,214,215,216,217,218,219,220,221,222,223,224,225,226,227,228,229,230,231,232,233,234,235,236,237,238,239,240,241,242,243,244,245,246,247,248,249,250,251,252,253,254,255,256,257,258,259,260,261,262,263,264,265,266,267,268,269,270,271,272,273,274,275,276,277,278,279,280,281,282,283,284,285,286,287,288,289,290,291,292,293,294,295,296,297,298,299,300,301,302,303,304,305,306,307,308,309,310,311,312,313,314,315,316,317,318,319,320,321,322,323,324,325,326,327,328,329,330,331,332,333,334,335,336,337,338,339,340,341,342,343,344,345,346,347,348,349,350,351,352,353,354,355,356,357,358,359,360,361,362,363,364,365,366,367,368,369,370,371,372,373,374,375,376,377,378,379,380,381,382,383,384,385,386,387,388,389,390,391,392,393,394,395,396,397,398,399,400,401,402,403,404,405,406,407,408,409,410,411,412,413,414,415,416,417,418,419,420,421,422,423,424,425,426,427,428,429,430,431,432,433,434,435,436,437,438,439,440,441,442,443,444,445,446,447,448,449,450,451,452,453,454,455,456,457,458,459,460,461,462,463,464,465,466,467,468,469,470,471,472,473,474,475,476,477,478,479,480,481,482,483,484,485,486,487,488,489,490,491,492,493,494,495,496,497,498,499,500,501,502,503,504,505,506,507,508,509,510,511,512,513,514,515,516,517,518,519,520,521,522,523,524,525,526,527,528,529,530,531,532,533,534,535,536,537,538,539,540,541,542,543,544,545,546,547,548,549,550,551,552,553,554,555,556,557,558,559,560,561,562,563,564,565,566,567,568,569,570,571,572,573,574,575,576,577,578,579,580,581,582,583,584,585,586,587,588,589,590,591,592,593,594,595,596,597,598,599],\"y\":{\"__ndarray__\":\"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\",\"dtype\":\"float32\",\"order\":\"little\",\"shape\":[600]}},\"selected\":{\"id\":\"1773\"},\"selection_policy\":{\"id\":\"1772\"}},\"id\":\"1756\",\"type\":\"ColumnDataSource\"},{\"attributes\":{\"line_alpha\":0.2,\"line_color\":\"#ff7f0e\",\"line_width\":3,\"x\":{\"field\":\"x\"},\"y\":{\"field\":\"y\"}},\"id\":\"1801\",\"type\":\"Line\"},{\"attributes\":{\"axis_label\":\"iters\",\"coordinates\":null,\"formatter\":{\"id\":\"1749\"},\"group\":null,\"major_label_policy\":{\"id\":\"1750\"},\"ticker\":{\"id\":\"1716\"}},\"id\":\"1715\",\"type\":\"LinearAxis\"},{\"attributes\":{\"line_alpha\":0.1,\"line_color\":\"#ff7f0e\",\"line_width\":3,\"x\":{\"field\":\"x\"},\"y\":{\"field\":\"y\"}},\"id\":\"1800\",\"type\":\"Line\"},{\"attributes\":{},\"id\":\"1720\",\"type\":\"BasicTicker\"},{\"attributes\":{},\"id\":\"1711\",\"type\":\"LinearScale\"},{\"attributes\":{\"line_alpha\":0.2,\"line_color\":\"#ff7f0e\",\"line_width\":3,\"x\":{\"field\":\"x\"},\"y\":{\"field\":\"y\"}},\"id\":\"1779\",\"type\":\"Line\"},{\"attributes\":{},\"id\":\"1713\",\"type\":\"LinearScale\"},{\"attributes\":{\"line_alpha\":0.2,\"line_color\":\"#1f77b4\",\"line_width\":3,\"x\":{\"field\":\"x\"},\"y\":{\"field\":\"y\"}},\"id\":\"1759\",\"type\":\"Line\"},{\"attributes\":{\"line_alpha\":0.1,\"line_color\":\"#ff7f0e\",\"line_width\":3,\"x\":{\"field\":\"x\"},\"y\":{\"field\":\"y\"}},\"id\":\"1778\",\"type\":\"Line\"},{\"attributes\":{\"axis\":{\"id\":\"1719\"},\"coordinates\":null,\"dimension\":1,\"group\":null,\"ticker\":null},\"id\":\"1722\",\"type\":\"Grid\"},{\"attributes\":{\"line_alpha\":0.1,\"line_color\":\"#1f77b4\",\"line_width\":3,\"x\":{\"field\":\"x\"},\"y\":{\"field\":\"y\"}},\"id\":\"1758\",\"type\":\"Line\"},{\"attributes\":{},\"id\":\"1728\",\"type\":\"HelpTool\"},{\"attributes\":{\"axis_label\":\"Loss\",\"coordinates\":null,\"formatter\":{\"id\":\"1746\"},\"group\":null,\"major_label_policy\":{\"id\":\"1747\"},\"ticker\":{\"id\":\"1720\"}},\"id\":\"1719\",\"type\":\"LinearAxis\"},{\"attributes\":{},\"id\":\"1727\",\"type\":\"ResetTool\"}],\"root_ids\":[\"1706\"]},\"title\":\"Bokeh Application\",\"version\":\"2.4.3\"}};\n",
       "  const render_items = [{\"docid\":\"b4067cc6-a81b-498b-aa5d-13c0beb7c403\",\"root_ids\":[\"1706\"],\"roots\":{\"1706\":\"4237568a-7325-47e3-9665-8382707977e4\"}}];\n",
       "  root.Bokeh.embed.embed_items_notebook(docs_json, render_items);\n",
       "  }\n",
       "  if (root.Bokeh !== undefined) {\n",
       "    embed_document(root);\n",
       "  } else {\n",
       "    let attempts = 0;\n",
       "    const timer = setInterval(function(root) {\n",
       "      if (root.Bokeh !== undefined) {\n",
       "        clearInterval(timer);\n",
       "        embed_document(root);\n",
       "      } else {\n",
       "        attempts++;\n",
       "        if (attempts > 100) {\n",
       "          clearInterval(timer);\n",
       "          console.log(\"Bokeh: ERROR: Unable to run BokehJS code because BokehJS library is missing\");\n",
       "        }\n",
       "      }\n",
       "    }, 10, root)\n",
       "  }\n",
       "})(window);"
      ],
      "application/vnd.bokehjs_exec.v0+json": ""
     },
     "metadata": {
      "application/vnd.bokehjs_exec.v0+json": {
       "id": "1706"
      }
     },
     "output_type": "display_data"
    }
   ],
   "source": [
    "losses = (loss, Loss_t, Loss_t_opt, loss_OPT)\n",
    "colors = (Category10[10][0], Category10[10][0], Category10[10][1], Category10[10][1])\n",
    "legends = (\"Real Non-linear\", \"Approximation\", \"Approximated Optimized Control\", \"Optimized Non-linear\")\n",
    "alphas = (0.3, 1, 1, 0.3)\n",
    "\n",
    "s = plot_lines(iters, losses, legends, alphas, colors)\n",
    "show(s)"
   ]
  },
  {
   "cell_type": "code",
   "execution_count": 36,
   "metadata": {},
   "outputs": [],
   "source": [
    "baseline_reward_rate = -control_params[\"reward_convertion\"]*Loss_t\n",
    "control_reward_rate = -control_params[\"reward_convertion\"]*Loss_t_opt - control.control_cost(get_numpy=True)"
   ]
  },
  {
   "cell_type": "code",
   "execution_count": 37,
   "metadata": {},
   "outputs": [
    {
     "data": {
      "text/html": [
       "\n",
       "  <div class=\"bk-root\" id=\"712f5161-b8fa-475e-8d67-d3f45be79bed\" data-root-id=\"2195\"></div>\n"
      ]
     },
     "metadata": {},
     "output_type": "display_data"
    },
    {
     "data": {
      "application/javascript": [
       "(function(root) {\n",
       "  function embed_document(root) {\n",
       "  const docs_json = {\"e0049728-a0f6-473f-963e-f3fbd0123e44\":{\"defs\":[],\"roots\":{\"references\":[{\"attributes\":{\"below\":[{\"id\":\"2204\"}],\"center\":[{\"id\":\"2207\"},{\"id\":\"2211\"},{\"id\":\"2243\"}],\"height\":500,\"left\":[{\"id\":\"2208\"}],\"renderers\":[{\"id\":\"2230\"},{\"id\":\"2249\"}],\"title\":{\"id\":\"2232\"},\"toolbar\":{\"id\":\"2219\"},\"width\":800,\"x_range\":{\"id\":\"2196\"},\"x_scale\":{\"id\":\"2200\"},\"y_range\":{\"id\":\"2198\"},\"y_scale\":{\"id\":\"2202\"}},\"id\":\"2195\",\"subtype\":\"Figure\",\"type\":\"Plot\"},{\"attributes\":{\"bottom_units\":\"screen\",\"coordinates\":null,\"fill_alpha\":0.5,\"fill_color\":\"lightgrey\",\"group\":null,\"left_units\":\"screen\",\"level\":\"overlay\",\"line_alpha\":1.0,\"line_color\":\"black\",\"line_dash\":[4,4],\"line_width\":2,\"right_units\":\"screen\",\"syncable\":false,\"top_units\":\"screen\"},\"id\":\"2218\",\"type\":\"BoxAnnotation\"},{\"attributes\":{},\"id\":\"2236\",\"type\":\"AllLabels\"},{\"attributes\":{\"line_alpha\":0.2,\"line_color\":\"#1f77b4\",\"line_width\":3,\"x\":{\"field\":\"x\"},\"y\":{\"field\":\"y\"}},\"id\":\"2229\",\"type\":\"Line\"},{\"attributes\":{},\"id\":\"2212\",\"type\":\"PanTool\"},{\"attributes\":{},\"id\":\"2235\",\"type\":\"BasicTickFormatter\"},{\"attributes\":{\"data\":{\"x\":[0,1,2,3,4,5,6,7,8,9,10,11,12,13,14,15,16,17,18,19,20,21,22,23,24,25,26,27,28,29,30,31,32,33,34,35,36,37,38,39,40,41,42,43,44,45,46,47,48,49,50,51,52,53,54,55,56,57,58,59,60,61,62,63,64,65,66,67,68,69,70,71,72,73,74,75,76,77,78,79,80,81,82,83,84,85,86,87,88,89,90,91,92,93,94,95,96,97,98,99,100,101,102,103,104,105,106,107,108,109,110,111,112,113,114,115,116,117,118,119,120,121,122,123,124,125,126,127,128,129,130,131,132,133,134,135,136,137,138,139,140,141,142,143,144,145,146,147,148,149,150,151,152,153,154,155,156,157,158,159,160,161,162,163,164,165,166,167,168,169,170,171,172,173,174,175,176,177,178,179,180,181,182,183,184,185,186,187,188,189,190,191,192,193,194,195,196,197,198,199,200,201,202,203,204,205,206,207,208,209,210,211,212,213,214,215,216,217,218,219,220,221,222,223,224,225,226,227,228,229,230,231,232,233,234,235,236,237,238,239,240,241,242,243,244,245,246,247,248,249,250,251,252,253,254,255,256,257,258,259,260,261,262,263,264,265,266,267,268,269,270,271,272,273,274,275,276,277,278,279,280,281,282,283,284,285,286,287,288,289,290,291,292,293,294,295,296,297,298,299,300,301,302,303,304,305,306,307,308,309,310,311,312,313,314,315,316,317,318,319,320,321,322,323,324,325,326,327,328,329,330,331,332,333,334,335,336,337,338,339,340,341,342,343,344,345,346,347,348,349,350,351,352,353,354,355,356,357,358,359,360,361,362,363,364,365,366,367,368,369,370,371,372,373,374,375,376,377,378,379,380,381,382,383,384,385,386,387,388,389,390,391,392,393,394,395,396,397,398,399,400,401,402,403,404,405,406,407,408,409,410,411,412,413,414,415,416,417,418,419,420,421,422,423,424,425,426,427,428,429,430,431,432,433,434,435,436,437,438,439,440,441,442,443,444,445,446,447,448,449,450,451,452,453,454,455,456,457,458,459,460,461,462,463,464,465,466,467,468,469,470,471,472,473,474,475,476,477,478,479,480,481,482,483,484,485,486,487,488,489,490,491,492,493,494,495,496,497,498,499,500,501,502,503,504,505,506,507,508,509,510,511,512,513,514,515,516,517,518,519,520,521,522,523,524,525,526,527,528,529,530,531,532,533,534,535,536,537,538,539,540,541,542,543,544,545,546,547,548,549,550,551,552,553,554,555,556,557,558,559,560,561,562,563,564,565,566,567,568,569,570,571,572,573,574,575,576,577,578,579,580,581,582,583,584,585,586,587,588,589,590,591,592,593,594,595,596,597,598,599],\"y\":{\"__ndarray__\":\"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\",\"dtype\":\"float32\",\"order\":\"little\",\"shape\":[600]}},\"selected\":{\"id\":\"2241\"},\"selection_policy\":{\"id\":\"2240\"}},\"id\":\"2226\",\"type\":\"ColumnDataSource\"},{\"attributes\":{},\"id\":\"2200\",\"type\":\"LinearScale\"},{\"attributes\":{},\"id\":\"2216\",\"type\":\"ResetTool\"},{\"attributes\":{\"coordinates\":null,\"data_source\":{\"id\":\"2226\"},\"glyph\":{\"id\":\"2227\"},\"group\":null,\"hover_glyph\":null,\"muted_glyph\":{\"id\":\"2229\"},\"nonselection_glyph\":{\"id\":\"2228\"},\"view\":{\"id\":\"2231\"}},\"id\":\"2230\",\"type\":\"GlyphRenderer\"},{\"attributes\":{},\"id\":\"2198\",\"type\":\"DataRange1d\"},{\"attributes\":{\"axis\":{\"id\":\"2204\"},\"coordinates\":null,\"group\":null,\"ticker\":null},\"id\":\"2207\",\"type\":\"Grid\"},{\"attributes\":{},\"id\":\"2217\",\"type\":\"HelpTool\"},{\"attributes\":{},\"id\":\"2205\",\"type\":\"BasicTicker\"},{\"attributes\":{\"label\":{\"value\":\"Baseline iRR\"},\"renderers\":[{\"id\":\"2230\"}]},\"id\":\"2244\",\"type\":\"LegendItem\"},{\"attributes\":{\"source\":{\"id\":\"2245\"}},\"id\":\"2250\",\"type\":\"CDSView\"},{\"attributes\":{},\"id\":\"2240\",\"type\":\"UnionRenderers\"},{\"attributes\":{\"line_color\":\"#ff7f0e\",\"line_width\":3,\"x\":{\"field\":\"x\"},\"y\":{\"field\":\"y\"}},\"id\":\"2246\",\"type\":\"Line\"},{\"attributes\":{\"tools\":[{\"id\":\"2212\"},{\"id\":\"2213\"},{\"id\":\"2214\"},{\"id\":\"2215\"},{\"id\":\"2216\"},{\"id\":\"2217\"}]},\"id\":\"2219\",\"type\":\"Toolbar\"},{\"attributes\":{\"source\":{\"id\":\"2226\"}},\"id\":\"2231\",\"type\":\"CDSView\"},{\"attributes\":{\"overlay\":{\"id\":\"2218\"}},\"id\":\"2214\",\"type\":\"BoxZoomTool\"},{\"attributes\":{\"coordinates\":null,\"data_source\":{\"id\":\"2245\"},\"glyph\":{\"id\":\"2246\"},\"group\":null,\"hover_glyph\":null,\"muted_glyph\":{\"id\":\"2248\"},\"nonselection_glyph\":{\"id\":\"2247\"},\"view\":{\"id\":\"2250\"}},\"id\":\"2249\",\"type\":\"GlyphRenderer\"},{\"attributes\":{\"axis_label\":\"iters\",\"coordinates\":null,\"formatter\":{\"id\":\"2238\"},\"group\":null,\"major_label_policy\":{\"id\":\"2239\"},\"ticker\":{\"id\":\"2205\"}},\"id\":\"2204\",\"type\":\"LinearAxis\"},{\"attributes\":{},\"id\":\"2241\",\"type\":\"Selection\"},{\"attributes\":{\"data\":{\"x\":[0,1,2,3,4,5,6,7,8,9,10,11,12,13,14,15,16,17,18,19,20,21,22,23,24,25,26,27,28,29,30,31,32,33,34,35,36,37,38,39,40,41,42,43,44,45,46,47,48,49,50,51,52,53,54,55,56,57,58,59,60,61,62,63,64,65,66,67,68,69,70,71,72,73,74,75,76,77,78,79,80,81,82,83,84,85,86,87,88,89,90,91,92,93,94,95,96,97,98,99,100,101,102,103,104,105,106,107,108,109,110,111,112,113,114,115,116,117,118,119,120,121,122,123,124,125,126,127,128,129,130,131,132,133,134,135,136,137,138,139,140,141,142,143,144,145,146,147,148,149,150,151,152,153,154,155,156,157,158,159,160,161,162,163,164,165,166,167,168,169,170,171,172,173,174,175,176,177,178,179,180,181,182,183,184,185,186,187,188,189,190,191,192,193,194,195,196,197,198,199,200,201,202,203,204,205,206,207,208,209,210,211,212,213,214,215,216,217,218,219,220,221,222,223,224,225,226,227,228,229,230,231,232,233,234,235,236,237,238,239,240,241,242,243,244,245,246,247,248,249,250,251,252,253,254,255,256,257,258,259,260,261,262,263,264,265,266,267,268,269,270,271,272,273,274,275,276,277,278,279,280,281,282,283,284,285,286,287,288,289,290,291,292,293,294,295,296,297,298,299,300,301,302,303,304,305,306,307,308,309,310,311,312,313,314,315,316,317,318,319,320,321,322,323,324,325,326,327,328,329,330,331,332,333,334,335,336,337,338,339,340,341,342,343,344,345,346,347,348,349,350,351,352,353,354,355,356,357,358,359,360,361,362,363,364,365,366,367,368,369,370,371,372,373,374,375,376,377,378,379,380,381,382,383,384,385,386,387,388,389,390,391,392,393,394,395,396,397,398,399,400,401,402,403,404,405,406,407,408,409,410,411,412,413,414,415,416,417,418,419,420,421,422,423,424,425,426,427,428,429,430,431,432,433,434,435,436,437,438,439,440,441,442,443,444,445,446,447,448,449,450,451,452,453,454,455,456,457,458,459,460,461,462,463,464,465,466,467,468,469,470,471,472,473,474,475,476,477,478,479,480,481,482,483,484,485,486,487,488,489,490,491,492,493,494,495,496,497,498,499,500,501,502,503,504,505,506,507,508,509,510,511,512,513,514,515,516,517,518,519,520,521,522,523,524,525,526,527,528,529,530,531,532,533,534,535,536,537,538,539,540,541,542,543,544,545,546,547,548,549,550,551,552,553,554,555,556,557,558,559,560,561,562,563,564,565,566,567,568,569,570,571,572,573,574,575,576,577,578,579,580,581,582,583,584,585,586,587,588,589,590,591,592,593,594,595,596,597,598,599],\"y\":{\"__ndarray__\":\"kKkQv24hDr+mrAu/okoJv536Br8QvAS/uY0Cv5pvAL/Iwfy+NcL4vtTe9L4vF/G+VWrtvorW6b6uW+a+zfjivtWs3761dty+RFbZvpBK1r67UtO+Sm7QvoOczb7Y3Mq+nC7IvluRxb5aBMO+OIfAvo8Zvr6Huru+DGq5vmsnt75e8rS+bcqyvjavsL5EoK6+W52svvqlqr7ouai+zNimvk0Cpb4UNqO+93Ohvnq7n76BDJ6+vWacvujJmr7SNZm+IaqXvrAmlr5Cq5S+ozeTvpnLkb7xZpC+fQmPvgizjb5gY4y+YhqLvt/Xib6vm4i+n2WHvpg1hr5gC4W+5eaDvvTHgr54roG+PZqAvmkWf75nAn2+QPh6vrf3eL6IAHe+jhJ1vn4tc742UXG+bH1vvvqxbb687mu+bDNqvul/aL4A1Ga+ji9lvmCSY75S/GG+N21gvvHkXr5NY12+NuhbvntzWr4ABVm+npxXvj06Vr643VS+6IZTvrk1Ur4I6lC+u6NPvrRiTr7WJk2+BfBLvjC+Sr4rkUm+8WhIvmdFR75qJka+5wtFvsz1Q74E5EK+bdZBvgfNQL6nxz++T8Y+vtbIPb46zzy+Wtk7vi/nOr6r+Dm+rA05vi4mOL4fQje+cGE2vgaENb7cqTS+2dIzvgT/Mr5CLjK+emAxvqiVML7CzS++rggvvm5GLr7yhi2+K8osvgMQLL6GWCu+m6MqvinxKb47QSm+upMovqDoJ77hPye+bZkmvkz1Jb5eUyW+nrMkvhsWJL6reiO+WuEivhZKIr7WtCG+miEhvkuQIL7yACC+eXMfvuLnHr4aXh6+JtYdvv5PHb6Lyxy+30gcvtfHG76ESBu+yMoavrZOGr451Bm+U1sZvvLjGL4Tbhi+uvkXvsyGF75hFRe+YaUWvr82Fr6JyRW+q10VvirzFL77iRS+FyIUvnq7E74mVhO+DvISvjiPEr6QLRK+G80RvtVtEb60DxG+trIQvtxWEL4e/A++fqIPvupJD75n8g6+6ZsOvnVGDr4N8g2+oJ4NvjVMDb7A+gy+QKoMvrVaDL4YDAy+bL4LvqRxC768JQu+xNoKvp6QCr5YRwq+7f4Jvlm3Cb6PcAm+oyoJvnnlCL4foQi+il0IvsMaCL602Ae+cZcHvuVWB74TFwe+/NcGvo6ZBr7nWwa+6B4GvpziBb75pgW+/msFvqwxBb4C+AS+AL8EvqGGBL7WTgS+sBcEviThA744qwO+2HUDvhZBA77qDAO+TtkCvj6mAr63cwK+ykECvmAQAr6F3wG+K68BvlR/Ab7+TwG+OSEBvu7yAL4gxQC+ypcAvvpqAL6gPgC+yBIAvq7O/73SeP+9xCP/vbzP/r2KfP69Nir+vcXY/b0hiP29Yzj9vX/p/L1im/y9Hk78vaUB/L35tfu9EGv7vf0g+72w1/q9Ho/6vT1H+r0vAPq9z7n5vTZ0+b1CL/m9Gev4vY6n+L3KZPi9pCL4vTDh971noPe9SGD3vcgg973u4fa9wqP2vTFm9r1LKfa9++z1vTWx9b0edvW9mjv1vawB9b1dyPS9mI/0vVpX9L2zH/S9oujzvRmy870dfPO9oUbzva8R871E3fK9aKnyvQp28r04Q/K90BDyve/e8b2ZrfG9tXzxvUVM8b1kHPG97ezwve698L1tj/C9V2Hwvakz8L2BBvC9yNnvvW+t772Qge+9GVbvvRgr7713AO+9RdbuvXqs7r0ag+69GlruvXgx7r1OCe69d+HtvQu67b0Ck+29WWztvf9F7b0QIO29ffrsvUXV7L1YsOy94ovsvahn7L3qQ+y9ZyDsvUf9671r2uu98rfrvcyV6736c+u9bFLrvTUx671eEOu9xu/qvX3P6r2Rr+q97I/qvX5w6r1wUeq9sjLqvR8U6r309em9AdjpvWa66b0Knem97n/pvRlj6b2ERum9QCrpvT4O6b1x8ui97NbovbK76L2woOi97oXovWxr6L0qUei9HDfovWEd6L3bA+i9jOrnvXnR572juOe9CKDnvZ2H5713b+e9iFfnvck/571XKOe9ABHnvfr55r0c4+a9aczmvfO15r3Fn+a9s4nmvd1z5r1AXua91kjmvYkz5r2EHua9ownmvf/05b164OW9MszlvQ645b0fpOW9aJDlvdV85b1maeW9OFblvTZD5b1MMOW9nx3lvQ4L5b2i+OS9fubkvXbU5L2fwuS92LDkvVKf5L3wjeS9pnzkvZlr5L2xWuS93UnkvTY55L2/KOS9cBjkvUcI5L05+OO9WejjvZnY470ByeO9crnjvSiq4733muO97ovjvfZ8470mbuO9g1/jvQlR472UQuO9UzTjvScm470nGOO9TQrjvXv84r3W7uK9WuHivfLT4r2jxuK9grnivXSs4r18n+K9sZLivfaF4r1oeeK94GzivYxg4r1NVOK9IkjivRU84r05MOK9YSTivZ8Y4r0BDeK9iQHivRH24b3H6uG9md/hvXHU4b1xyeG9jr7hvbGz4b0JqeG9YZ7hvc+T4b1xieG9EX/hvdJ04b24auG9n2DhvZ9W4b3ITOG990LhvUI54b2TL+G9FSbhvaQc4b1EE+G9+QnhvcwA4b2g9+C9oe7gvZ/l4L3G3OC989PgvUnL4L2YwuC9CLrgvZax4L0lqeC90aDgvYuY4L1mkOC9PojgvTOA4L02eOC9VnDgvYho4L3XYOC9H1ngvYhR4L37SeC9gELgvRI74L29M+C9gSzgvTcl4L0bHuC9CBfgvQYQ4L0eCeC9LwLgvW37372t9N+97+3fvVLn373D4N+9PdrfvbzT371dzd+9CMffvcDA372Out+9bbTfvVKu371EqN+9PKLfvVGc3710lt+9nZDfvd+K370vhd+9hX/fveh5371UdN+9127fvWNp3738Y9+9sF7fvVhZ370bVN+9507fvb1J372tRN+9pj/fvaU6372xNd+90DDfvewr370dJ9+9aSLfvbod370JGd+9ahTfvdQP371YC9+91gbfvWYC370A/t69p/nevVz13r0f8d692+zevbro3r2O5N69fODevXjc3r1y2N69dtTevYPQ3r2izN6938jevQ7F3r1Hwd69kr3evea53r1Att69obLevRev3r2Dq969CajevaGk3r1Cod692p3evYSa3r03l9697ZPevbyQ3r2Rjd69\",\"dtype\":\"float32\",\"order\":\"little\",\"shape\":[600]}},\"selected\":{\"id\":\"2262\"},\"selection_policy\":{\"id\":\"2261\"}},\"id\":\"2245\",\"type\":\"ColumnDataSource\"},{\"attributes\":{\"coordinates\":null,\"group\":null,\"items\":[{\"id\":\"2244\"},{\"id\":\"2264\"}]},\"id\":\"2243\",\"type\":\"Legend\"},{\"attributes\":{},\"id\":\"2215\",\"type\":\"SaveTool\"},{\"attributes\":{\"line_alpha\":0.1,\"line_color\":\"#1f77b4\",\"line_width\":3,\"x\":{\"field\":\"x\"},\"y\":{\"field\":\"y\"}},\"id\":\"2228\",\"type\":\"Line\"},{\"attributes\":{},\"id\":\"2209\",\"type\":\"BasicTicker\"},{\"attributes\":{\"label\":{\"value\":\"Control iRR\"},\"renderers\":[{\"id\":\"2249\"}]},\"id\":\"2264\",\"type\":\"LegendItem\"},{\"attributes\":{},\"id\":\"2202\",\"type\":\"LinearScale\"},{\"attributes\":{\"line_alpha\":0.2,\"line_color\":\"#ff7f0e\",\"line_width\":3,\"x\":{\"field\":\"x\"},\"y\":{\"field\":\"y\"}},\"id\":\"2248\",\"type\":\"Line\"},{\"attributes\":{\"line_alpha\":0.1,\"line_color\":\"#ff7f0e\",\"line_width\":3,\"x\":{\"field\":\"x\"},\"y\":{\"field\":\"y\"}},\"id\":\"2247\",\"type\":\"Line\"},{\"attributes\":{},\"id\":\"2213\",\"type\":\"WheelZoomTool\"},{\"attributes\":{\"axis_label\":\"Loss\",\"coordinates\":null,\"formatter\":{\"id\":\"2235\"},\"group\":null,\"major_label_policy\":{\"id\":\"2236\"},\"ticker\":{\"id\":\"2209\"}},\"id\":\"2208\",\"type\":\"LinearAxis\"},{\"attributes\":{},\"id\":\"2261\",\"type\":\"UnionRenderers\"},{\"attributes\":{\"axis\":{\"id\":\"2208\"},\"coordinates\":null,\"dimension\":1,\"group\":null,\"ticker\":null},\"id\":\"2211\",\"type\":\"Grid\"},{\"attributes\":{},\"id\":\"2196\",\"type\":\"DataRange1d\"},{\"attributes\":{},\"id\":\"2262\",\"type\":\"Selection\"},{\"attributes\":{},\"id\":\"2239\",\"type\":\"AllLabels\"},{\"attributes\":{\"line_color\":\"#1f77b4\",\"line_width\":3,\"x\":{\"field\":\"x\"},\"y\":{\"field\":\"y\"}},\"id\":\"2227\",\"type\":\"Line\"},{\"attributes\":{},\"id\":\"2238\",\"type\":\"BasicTickFormatter\"},{\"attributes\":{\"coordinates\":null,\"group\":null},\"id\":\"2232\",\"type\":\"Title\"}],\"root_ids\":[\"2195\"]},\"title\":\"Bokeh Application\",\"version\":\"2.4.3\"}};\n",
       "  const render_items = [{\"docid\":\"e0049728-a0f6-473f-963e-f3fbd0123e44\",\"root_ids\":[\"2195\"],\"roots\":{\"2195\":\"712f5161-b8fa-475e-8d67-d3f45be79bed\"}}];\n",
       "  root.Bokeh.embed.embed_items_notebook(docs_json, render_items);\n",
       "  }\n",
       "  if (root.Bokeh !== undefined) {\n",
       "    embed_document(root);\n",
       "  } else {\n",
       "    let attempts = 0;\n",
       "    const timer = setInterval(function(root) {\n",
       "      if (root.Bokeh !== undefined) {\n",
       "        clearInterval(timer);\n",
       "        embed_document(root);\n",
       "      } else {\n",
       "        attempts++;\n",
       "        if (attempts > 100) {\n",
       "          clearInterval(timer);\n",
       "          console.log(\"Bokeh: ERROR: Unable to run BokehJS code because BokehJS library is missing\");\n",
       "        }\n",
       "      }\n",
       "    }, 10, root)\n",
       "  }\n",
       "})(window);"
      ],
      "application/vnd.bokehjs_exec.v0+json": ""
     },
     "metadata": {
      "application/vnd.bokehjs_exec.v0+json": {
       "id": "2195"
      }
     },
     "output_type": "display_data"
    }
   ],
   "source": [
    "losses = (baseline_reward_rate, control_reward_rate)\n",
    "colors = (Category10[10][0], Category10[10][1])\n",
    "legends = (\"Baseline iRR\", \"Control iRR\")\n",
    "alphas = (1, 1)\n",
    "\n",
    "s = plot_lines(iters, losses, legends, alphas, colors)\n",
    "show(s)"
   ]
  },
  {
   "cell_type": "code",
   "execution_count": 39,
   "metadata": {},
   "outputs": [
    {
     "data": {
      "text/html": [
       "\n",
       "  <div class=\"bk-root\" id=\"faed2a3d-c101-4b16-8e43-2b3ea19875bc\" data-root-id=\"2476\"></div>\n"
      ]
     },
     "metadata": {},
     "output_type": "display_data"
    },
    {
     "data": {
      "application/javascript": [
       "(function(root) {\n",
       "  function embed_document(root) {\n",
       "  const docs_json = {\"dcba874d-8f91-4e82-bdbb-bb2348527b60\":{\"defs\":[],\"roots\":{\"references\":[{\"attributes\":{\"below\":[{\"id\":\"2485\"}],\"center\":[{\"id\":\"2488\"},{\"id\":\"2492\"},{\"id\":\"2524\"}],\"height\":500,\"left\":[{\"id\":\"2489\"}],\"renderers\":[{\"id\":\"2511\"}],\"title\":{\"id\":\"2513\"},\"toolbar\":{\"id\":\"2500\"},\"width\":800,\"x_range\":{\"id\":\"2477\"},\"x_scale\":{\"id\":\"2481\"},\"y_range\":{\"id\":\"2479\"},\"y_scale\":{\"id\":\"2483\"}},\"id\":\"2476\",\"subtype\":\"Figure\",\"type\":\"Plot\"},{\"attributes\":{\"axis\":{\"id\":\"2485\"},\"coordinates\":null,\"group\":null,\"ticker\":null},\"id\":\"2488\",\"type\":\"Grid\"},{\"attributes\":{},\"id\":\"2483\",\"type\":\"LinearScale\"},{\"attributes\":{},\"id\":\"2481\",\"type\":\"LinearScale\"},{\"attributes\":{\"line_alpha\":0.2,\"line_color\":\"#1f77b4\",\"line_width\":3,\"x\":{\"field\":\"x\"},\"y\":{\"field\":\"y\"}},\"id\":\"2510\",\"type\":\"Line\"},{\"attributes\":{},\"id\":\"2517\",\"type\":\"AllLabels\"},{\"attributes\":{},\"id\":\"2520\",\"type\":\"AllLabels\"},{\"attributes\":{},\"id\":\"2516\",\"type\":\"BasicTickFormatter\"},{\"attributes\":{\"coordinates\":null,\"group\":null,\"items\":[{\"id\":\"2525\"}]},\"id\":\"2524\",\"type\":\"Legend\"},{\"attributes\":{\"data\":{\"x\":[0,1,2,3,4,5,6,7,8,9,10,11,12,13,14,15,16,17,18,19,20,21,22,23,24,25,26,27,28,29,30,31,32,33,34,35,36,37,38,39,40,41,42,43,44,45,46,47,48,49,50,51,52,53,54,55,56,57,58,59,60,61,62,63,64,65,66,67,68,69,70,71,72,73,74,75,76,77,78,79,80,81,82,83,84,85,86,87,88,89,90,91,92,93,94,95,96,97,98,99,100,101,102,103,104,105,106,107,108,109,110,111,112,113,114,115,116,117,118,119,120,121,122,123,124,125,126,127,128,129,130,131,132,133,134,135,136,137,138,139,140,141,142,143,144,145,146,147,148,149,150,151,152,153,154,155,156,157,158,159,160,161,162,163,164,165,166,167,168,169,170,171,172,173,174,175,176,177,178,179,180,181,182,183,184,185,186,187,188,189,190,191,192,193,194,195,196,197,198,199,200,201,202,203,204,205,206,207,208,209,210,211,212,213,214,215,216,217,218,219,220,221,222,223,224,225,226,227,228,229,230,231,232,233,234,235,236,237,238,239,240,241,242,243,244,245,246,247,248,249,250,251,252,253,254,255,256,257,258,259,260,261,262,263,264,265,266,267,268,269,270,271,272,273,274,275,276,277,278,279,280,281,282,283,284,285,286,287,288,289,290,291,292,293,294,295,296,297,298,299,300,301,302,303,304,305,306,307,308,309,310,311,312,313,314,315,316,317,318,319,320,321,322,323,324,325,326,327,328,329,330,331,332,333,334,335,336,337,338,339,340,341,342,343,344,345,346,347,348,349,350,351,352,353,354,355,356,357,358,359,360,361,362,363,364,365,366,367,368,369,370,371,372,373,374,375,376,377,378,379,380,381,382,383,384,385,386,387,388,389,390,391,392,393,394,395,396,397,398,399,400,401,402,403,404,405,406,407,408,409,410,411,412,413,414,415,416,417,418,419,420,421,422,423,424,425,426,427,428,429,430,431,432,433,434,435,436,437,438,439,440,441,442,443,444,445,446,447,448,449,450,451,452,453,454,455,456,457,458,459,460,461,462,463,464,465,466,467,468,469,470,471,472,473,474,475,476,477,478,479,480,481,482,483,484,485,486,487,488,489,490,491,492,493,494,495,496,497,498,499,500,501,502,503,504,505,506,507,508,509,510,511,512,513,514,515,516,517,518,519,520,521,522,523,524,525,526,527,528,529,530,531,532,533,534,535,536,537,538,539,540,541,542,543,544,545,546,547,548,549,550,551,552,553,554,555,556,557,558,559,560,561,562,563,564,565,566,567,568,569,570,571,572,573,574,575,576,577,578,579,580,581,582,583,584,585,586,587,588,589,590,591,592,593,594,595,596,597,598,599],\"y\":{\"__ndarray__\":\"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\",\"dtype\":\"float32\",\"order\":\"little\",\"shape\":[600]}},\"selected\":{\"id\":\"2522\"},\"selection_policy\":{\"id\":\"2521\"}},\"id\":\"2507\",\"type\":\"ColumnDataSource\"},{\"attributes\":{\"tools\":[{\"id\":\"2493\"},{\"id\":\"2494\"},{\"id\":\"2495\"},{\"id\":\"2496\"},{\"id\":\"2497\"},{\"id\":\"2498\"}]},\"id\":\"2500\",\"type\":\"Toolbar\"},{\"attributes\":{\"axis_label\":\"iters\",\"coordinates\":null,\"formatter\":{\"id\":\"2519\"},\"group\":null,\"major_label_policy\":{\"id\":\"2520\"},\"ticker\":{\"id\":\"2486\"}},\"id\":\"2485\",\"type\":\"LinearAxis\"},{\"attributes\":{},\"id\":\"2521\",\"type\":\"UnionRenderers\"},{\"attributes\":{\"line_color\":\"#1f77b4\",\"line_width\":3,\"x\":{\"field\":\"x\"},\"y\":{\"field\":\"y\"}},\"id\":\"2508\",\"type\":\"Line\"},{\"attributes\":{\"source\":{\"id\":\"2507\"}},\"id\":\"2512\",\"type\":\"CDSView\"},{\"attributes\":{},\"id\":\"2519\",\"type\":\"BasicTickFormatter\"},{\"attributes\":{\"bottom_units\":\"screen\",\"coordinates\":null,\"fill_alpha\":0.5,\"fill_color\":\"lightgrey\",\"group\":null,\"left_units\":\"screen\",\"level\":\"overlay\",\"line_alpha\":1.0,\"line_color\":\"black\",\"line_dash\":[4,4],\"line_width\":2,\"right_units\":\"screen\",\"syncable\":false,\"top_units\":\"screen\"},\"id\":\"2499\",\"type\":\"BoxAnnotation\"},{\"attributes\":{\"coordinates\":null,\"group\":null},\"id\":\"2513\",\"type\":\"Title\"},{\"attributes\":{},\"id\":\"2522\",\"type\":\"Selection\"},{\"attributes\":{\"coordinates\":null,\"data_source\":{\"id\":\"2507\"},\"glyph\":{\"id\":\"2508\"},\"group\":null,\"hover_glyph\":null,\"muted_glyph\":{\"id\":\"2510\"},\"nonselection_glyph\":{\"id\":\"2509\"},\"view\":{\"id\":\"2512\"}},\"id\":\"2511\",\"type\":\"GlyphRenderer\"},{\"attributes\":{},\"id\":\"2496\",\"type\":\"SaveTool\"},{\"attributes\":{},\"id\":\"2479\",\"type\":\"DataRange1d\"},{\"attributes\":{\"overlay\":{\"id\":\"2499\"}},\"id\":\"2495\",\"type\":\"BoxZoomTool\"},{\"attributes\":{},\"id\":\"2477\",\"type\":\"DataRange1d\"},{\"attributes\":{\"axis_label\":\"Loss\",\"coordinates\":null,\"formatter\":{\"id\":\"2516\"},\"group\":null,\"major_label_policy\":{\"id\":\"2517\"},\"ticker\":{\"id\":\"2490\"}},\"id\":\"2489\",\"type\":\"LinearAxis\"},{\"attributes\":{\"line_alpha\":0.1,\"line_color\":\"#1f77b4\",\"line_width\":3,\"x\":{\"field\":\"x\"},\"y\":{\"field\":\"y\"}},\"id\":\"2509\",\"type\":\"Line\"},{\"attributes\":{},\"id\":\"2493\",\"type\":\"PanTool\"},{\"attributes\":{},\"id\":\"2497\",\"type\":\"ResetTool\"},{\"attributes\":{},\"id\":\"2498\",\"type\":\"HelpTool\"},{\"attributes\":{},\"id\":\"2490\",\"type\":\"BasicTicker\"},{\"attributes\":{},\"id\":\"2494\",\"type\":\"WheelZoomTool\"},{\"attributes\":{},\"id\":\"2486\",\"type\":\"BasicTicker\"},{\"attributes\":{\"axis\":{\"id\":\"2489\"},\"coordinates\":null,\"dimension\":1,\"group\":null,\"ticker\":null},\"id\":\"2492\",\"type\":\"Grid\"},{\"attributes\":{\"label\":{\"value\":\"net diff iRR\"},\"renderers\":[{\"id\":\"2511\"}]},\"id\":\"2525\",\"type\":\"LegendItem\"}],\"root_ids\":[\"2476\"]},\"title\":\"Bokeh Application\",\"version\":\"2.4.3\"}};\n",
       "  const render_items = [{\"docid\":\"dcba874d-8f91-4e82-bdbb-bb2348527b60\",\"root_ids\":[\"2476\"],\"roots\":{\"2476\":\"faed2a3d-c101-4b16-8e43-2b3ea19875bc\"}}];\n",
       "  root.Bokeh.embed.embed_items_notebook(docs_json, render_items);\n",
       "  }\n",
       "  if (root.Bokeh !== undefined) {\n",
       "    embed_document(root);\n",
       "  } else {\n",
       "    let attempts = 0;\n",
       "    const timer = setInterval(function(root) {\n",
       "      if (root.Bokeh !== undefined) {\n",
       "        clearInterval(timer);\n",
       "        embed_document(root);\n",
       "      } else {\n",
       "        attempts++;\n",
       "        if (attempts > 100) {\n",
       "          clearInterval(timer);\n",
       "          console.log(\"Bokeh: ERROR: Unable to run BokehJS code because BokehJS library is missing\");\n",
       "        }\n",
       "      }\n",
       "    }, 10, root)\n",
       "  }\n",
       "})(window);"
      ],
      "application/vnd.bokehjs_exec.v0+json": ""
     },
     "metadata": {
      "application/vnd.bokehjs_exec.v0+json": {
       "id": "2476"
      }
     },
     "output_type": "display_data"
    }
   ],
   "source": [
    "losses = (control_reward_rate - baseline_reward_rate,)\n",
    "colors = (Category10[10][0],)\n",
    "legends = (\"net diff iRR\",)\n",
    "alphas = (1,)\n",
    "\n",
    "s = plot_lines(iters, losses, legends, alphas, colors)\n",
    "show(s)"
   ]
  },
  {
   "cell_type": "code",
   "execution_count": 30,
   "metadata": {
    "ExecuteTime": {
     "end_time": "2022-10-18T16:37:16.876743Z",
     "start_time": "2022-10-18T16:37:16.874178Z"
    }
   },
   "outputs": [
    {
     "data": {
      "text/plain": [
       "dict_keys(['iters', 'Loss_t_sim', 'weights_sim', 'weights_iters_sim', 'time_span', 'W_t_eq', 'Loss_t_eq', 'W_t_control_init', 'Loss_t_control_init', 'control_signal_init', 'cumulated_reward_opt', 'W_t_control_opt', 'Loss_t_control_opt', 'control_signal', 'Loss_t_sim_OPT', 'weights_sim_OPT', 'weights_iters_sim_OPT', 'iters_OPT'])"
      ]
     },
     "execution_count": 30,
     "metadata": {},
     "output_type": "execute_result"
    }
   ],
   "source": [
    "results_dict.keys()"
   ]
  },
  {
   "cell_type": "code",
   "execution_count": 31,
   "metadata": {
    "ExecuteTime": {
     "end_time": "2022-10-18T16:37:16.880110Z",
     "start_time": "2022-10-18T16:37:16.877818Z"
    }
   },
   "outputs": [],
   "source": [
    "params_dict = {\"dataset_params\": dataset_params,\n",
    "               \"model_params\": model_params,\n",
    "               \"equation_params\": equation_params,\n",
    "               \"control_params\": control_params}"
   ]
  },
  {
   "cell_type": "code",
   "execution_count": 32,
   "metadata": {
    "ExecuteTime": {
     "end_time": "2022-10-18T16:37:16.883114Z",
     "start_time": "2022-10-18T16:37:16.881109Z"
    }
   },
   "outputs": [],
   "source": [
    "import os\n",
    "time_str = get_date_time()\n",
    "saving_path = os.path.join(results_path, run_name+\"_\"+time_str)"
   ]
  },
  {
   "cell_type": "code",
   "execution_count": 33,
   "metadata": {
    "ExecuteTime": {
     "end_time": "2022-10-18T16:37:16.897322Z",
     "start_time": "2022-10-18T16:37:16.884072Z"
    }
   },
   "outputs": [],
   "source": [
    "# save_var(results_dict, \"results.pkl\", results_path=saving_path)"
   ]
  },
  {
   "cell_type": "code",
   "execution_count": 34,
   "metadata": {
    "ExecuteTime": {
     "end_time": "2022-10-18T16:37:16.900601Z",
     "start_time": "2022-10-18T16:37:16.898231Z"
    }
   },
   "outputs": [],
   "source": [
    "# save_var(params_dict, \"params.pkl\", results_path=saving_path)"
   ]
  },
  {
   "cell_type": "code",
   "execution_count": null,
   "metadata": {},
   "outputs": [],
   "source": []
  }
 ],
 "metadata": {
  "kernelspec": {
   "display_name": "Python 3 (ipykernel)",
   "language": "python",
   "name": "python3"
  },
  "language_info": {
   "codemirror_mode": {
    "name": "ipython",
    "version": 3
   },
   "file_extension": ".py",
   "mimetype": "text/x-python",
   "name": "python",
   "nbconvert_exporter": "python",
   "pygments_lexer": "ipython3",
   "version": "3.10.8"
  }
 },
 "nbformat": 4,
 "nbformat_minor": 4
}
