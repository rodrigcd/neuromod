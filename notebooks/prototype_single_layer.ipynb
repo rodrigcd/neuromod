{
 "cells": [
  {
   "cell_type": "code",
   "execution_count": 1,
   "metadata": {
    "ExecuteTime": {
     "end_time": "2022-10-18T16:34:20.905225Z",
     "start_time": "2022-10-18T16:34:20.586654Z"
    }
   },
   "outputs": [
    {
     "data": {
      "text/html": [
       "<style>.container { width:100% !important; }</style>"
      ],
      "text/plain": [
       "<IPython.core.display.HTML object>"
      ]
     },
     "metadata": {},
     "output_type": "display_data"
    },
    {
     "data": {
      "text/html": [
       "<div class=\"bk-root\">\n",
       "        <a href=\"https://bokeh.org\" target=\"_blank\" class=\"bk-logo bk-logo-small bk-logo-notebook\"></a>\n",
       "        <span id=\"1002\">Loading BokehJS ...</span>\n",
       "    </div>\n"
      ]
     },
     "metadata": {},
     "output_type": "display_data"
    },
    {
     "data": {
      "application/javascript": [
       "(function(root) {\n",
       "  function now() {\n",
       "    return new Date();\n",
       "  }\n",
       "\n",
       "  const force = true;\n",
       "\n",
       "  if (typeof root._bokeh_onload_callbacks === \"undefined\" || force === true) {\n",
       "    root._bokeh_onload_callbacks = [];\n",
       "    root._bokeh_is_loading = undefined;\n",
       "  }\n",
       "\n",
       "const JS_MIME_TYPE = 'application/javascript';\n",
       "  const HTML_MIME_TYPE = 'text/html';\n",
       "  const EXEC_MIME_TYPE = 'application/vnd.bokehjs_exec.v0+json';\n",
       "  const CLASS_NAME = 'output_bokeh rendered_html';\n",
       "\n",
       "  /**\n",
       "   * Render data to the DOM node\n",
       "   */\n",
       "  function render(props, node) {\n",
       "    const script = document.createElement(\"script\");\n",
       "    node.appendChild(script);\n",
       "  }\n",
       "\n",
       "  /**\n",
       "   * Handle when an output is cleared or removed\n",
       "   */\n",
       "  function handleClearOutput(event, handle) {\n",
       "    const cell = handle.cell;\n",
       "\n",
       "    const id = cell.output_area._bokeh_element_id;\n",
       "    const server_id = cell.output_area._bokeh_server_id;\n",
       "    // Clean up Bokeh references\n",
       "    if (id != null && id in Bokeh.index) {\n",
       "      Bokeh.index[id].model.document.clear();\n",
       "      delete Bokeh.index[id];\n",
       "    }\n",
       "\n",
       "    if (server_id !== undefined) {\n",
       "      // Clean up Bokeh references\n",
       "      const cmd_clean = \"from bokeh.io.state import curstate; print(curstate().uuid_to_server['\" + server_id + \"'].get_sessions()[0].document.roots[0]._id)\";\n",
       "      cell.notebook.kernel.execute(cmd_clean, {\n",
       "        iopub: {\n",
       "          output: function(msg) {\n",
       "            const id = msg.content.text.trim();\n",
       "            if (id in Bokeh.index) {\n",
       "              Bokeh.index[id].model.document.clear();\n",
       "              delete Bokeh.index[id];\n",
       "            }\n",
       "          }\n",
       "        }\n",
       "      });\n",
       "      // Destroy server and session\n",
       "      const cmd_destroy = \"import bokeh.io.notebook as ion; ion.destroy_server('\" + server_id + \"')\";\n",
       "      cell.notebook.kernel.execute(cmd_destroy);\n",
       "    }\n",
       "  }\n",
       "\n",
       "  /**\n",
       "   * Handle when a new output is added\n",
       "   */\n",
       "  function handleAddOutput(event, handle) {\n",
       "    const output_area = handle.output_area;\n",
       "    const output = handle.output;\n",
       "\n",
       "    // limit handleAddOutput to display_data with EXEC_MIME_TYPE content only\n",
       "    if ((output.output_type != \"display_data\") || (!Object.prototype.hasOwnProperty.call(output.data, EXEC_MIME_TYPE))) {\n",
       "      return\n",
       "    }\n",
       "\n",
       "    const toinsert = output_area.element.find(\".\" + CLASS_NAME.split(' ')[0]);\n",
       "\n",
       "    if (output.metadata[EXEC_MIME_TYPE][\"id\"] !== undefined) {\n",
       "      toinsert[toinsert.length - 1].firstChild.textContent = output.data[JS_MIME_TYPE];\n",
       "      // store reference to embed id on output_area\n",
       "      output_area._bokeh_element_id = output.metadata[EXEC_MIME_TYPE][\"id\"];\n",
       "    }\n",
       "    if (output.metadata[EXEC_MIME_TYPE][\"server_id\"] !== undefined) {\n",
       "      const bk_div = document.createElement(\"div\");\n",
       "      bk_div.innerHTML = output.data[HTML_MIME_TYPE];\n",
       "      const script_attrs = bk_div.children[0].attributes;\n",
       "      for (let i = 0; i < script_attrs.length; i++) {\n",
       "        toinsert[toinsert.length - 1].firstChild.setAttribute(script_attrs[i].name, script_attrs[i].value);\n",
       "        toinsert[toinsert.length - 1].firstChild.textContent = bk_div.children[0].textContent\n",
       "      }\n",
       "      // store reference to server id on output_area\n",
       "      output_area._bokeh_server_id = output.metadata[EXEC_MIME_TYPE][\"server_id\"];\n",
       "    }\n",
       "  }\n",
       "\n",
       "  function register_renderer(events, OutputArea) {\n",
       "\n",
       "    function append_mime(data, metadata, element) {\n",
       "      // create a DOM node to render to\n",
       "      const toinsert = this.create_output_subarea(\n",
       "        metadata,\n",
       "        CLASS_NAME,\n",
       "        EXEC_MIME_TYPE\n",
       "      );\n",
       "      this.keyboard_manager.register_events(toinsert);\n",
       "      // Render to node\n",
       "      const props = {data: data, metadata: metadata[EXEC_MIME_TYPE]};\n",
       "      render(props, toinsert[toinsert.length - 1]);\n",
       "      element.append(toinsert);\n",
       "      return toinsert\n",
       "    }\n",
       "\n",
       "    /* Handle when an output is cleared or removed */\n",
       "    events.on('clear_output.CodeCell', handleClearOutput);\n",
       "    events.on('delete.Cell', handleClearOutput);\n",
       "\n",
       "    /* Handle when a new output is added */\n",
       "    events.on('output_added.OutputArea', handleAddOutput);\n",
       "\n",
       "    /**\n",
       "     * Register the mime type and append_mime function with output_area\n",
       "     */\n",
       "    OutputArea.prototype.register_mime_type(EXEC_MIME_TYPE, append_mime, {\n",
       "      /* Is output safe? */\n",
       "      safe: true,\n",
       "      /* Index of renderer in `output_area.display_order` */\n",
       "      index: 0\n",
       "    });\n",
       "  }\n",
       "\n",
       "  // register the mime type if in Jupyter Notebook environment and previously unregistered\n",
       "  if (root.Jupyter !== undefined) {\n",
       "    const events = require('base/js/events');\n",
       "    const OutputArea = require('notebook/js/outputarea').OutputArea;\n",
       "\n",
       "    if (OutputArea.prototype.mime_types().indexOf(EXEC_MIME_TYPE) == -1) {\n",
       "      register_renderer(events, OutputArea);\n",
       "    }\n",
       "  }\n",
       "  if (typeof (root._bokeh_timeout) === \"undefined\" || force === true) {\n",
       "    root._bokeh_timeout = Date.now() + 5000;\n",
       "    root._bokeh_failed_load = false;\n",
       "  }\n",
       "\n",
       "  const NB_LOAD_WARNING = {'data': {'text/html':\n",
       "     \"<div style='background-color: #fdd'>\\n\"+\n",
       "     \"<p>\\n\"+\n",
       "     \"BokehJS does not appear to have successfully loaded. If loading BokehJS from CDN, this \\n\"+\n",
       "     \"may be due to a slow or bad network connection. Possible fixes:\\n\"+\n",
       "     \"</p>\\n\"+\n",
       "     \"<ul>\\n\"+\n",
       "     \"<li>re-rerun `output_notebook()` to attempt to load from CDN again, or</li>\\n\"+\n",
       "     \"<li>use INLINE resources instead, as so:</li>\\n\"+\n",
       "     \"</ul>\\n\"+\n",
       "     \"<code>\\n\"+\n",
       "     \"from bokeh.resources import INLINE\\n\"+\n",
       "     \"output_notebook(resources=INLINE)\\n\"+\n",
       "     \"</code>\\n\"+\n",
       "     \"</div>\"}};\n",
       "\n",
       "  function display_loaded() {\n",
       "    const el = document.getElementById(\"1002\");\n",
       "    if (el != null) {\n",
       "      el.textContent = \"BokehJS is loading...\";\n",
       "    }\n",
       "    if (root.Bokeh !== undefined) {\n",
       "      if (el != null) {\n",
       "        el.textContent = \"BokehJS \" + root.Bokeh.version + \" successfully loaded.\";\n",
       "      }\n",
       "    } else if (Date.now() < root._bokeh_timeout) {\n",
       "      setTimeout(display_loaded, 100)\n",
       "    }\n",
       "  }\n",
       "\n",
       "  function run_callbacks() {\n",
       "    try {\n",
       "      root._bokeh_onload_callbacks.forEach(function(callback) {\n",
       "        if (callback != null)\n",
       "          callback();\n",
       "      });\n",
       "    } finally {\n",
       "      delete root._bokeh_onload_callbacks\n",
       "    }\n",
       "    console.debug(\"Bokeh: all callbacks have finished\");\n",
       "  }\n",
       "\n",
       "  function load_libs(css_urls, js_urls, callback) {\n",
       "    if (css_urls == null) css_urls = [];\n",
       "    if (js_urls == null) js_urls = [];\n",
       "\n",
       "    root._bokeh_onload_callbacks.push(callback);\n",
       "    if (root._bokeh_is_loading > 0) {\n",
       "      console.debug(\"Bokeh: BokehJS is being loaded, scheduling callback at\", now());\n",
       "      return null;\n",
       "    }\n",
       "    if (js_urls == null || js_urls.length === 0) {\n",
       "      run_callbacks();\n",
       "      return null;\n",
       "    }\n",
       "    console.debug(\"Bokeh: BokehJS not loaded, scheduling load and callback at\", now());\n",
       "    root._bokeh_is_loading = css_urls.length + js_urls.length;\n",
       "\n",
       "    function on_load() {\n",
       "      root._bokeh_is_loading--;\n",
       "      if (root._bokeh_is_loading === 0) {\n",
       "        console.debug(\"Bokeh: all BokehJS libraries/stylesheets loaded\");\n",
       "        run_callbacks()\n",
       "      }\n",
       "    }\n",
       "\n",
       "    function on_error(url) {\n",
       "      console.error(\"failed to load \" + url);\n",
       "    }\n",
       "\n",
       "    for (let i = 0; i < css_urls.length; i++) {\n",
       "      const url = css_urls[i];\n",
       "      const element = document.createElement(\"link\");\n",
       "      element.onload = on_load;\n",
       "      element.onerror = on_error.bind(null, url);\n",
       "      element.rel = \"stylesheet\";\n",
       "      element.type = \"text/css\";\n",
       "      element.href = url;\n",
       "      console.debug(\"Bokeh: injecting link tag for BokehJS stylesheet: \", url);\n",
       "      document.body.appendChild(element);\n",
       "    }\n",
       "\n",
       "    for (let i = 0; i < js_urls.length; i++) {\n",
       "      const url = js_urls[i];\n",
       "      const element = document.createElement('script');\n",
       "      element.onload = on_load;\n",
       "      element.onerror = on_error.bind(null, url);\n",
       "      element.async = false;\n",
       "      element.src = url;\n",
       "      console.debug(\"Bokeh: injecting script tag for BokehJS library: \", url);\n",
       "      document.head.appendChild(element);\n",
       "    }\n",
       "  };\n",
       "\n",
       "  function inject_raw_css(css) {\n",
       "    const element = document.createElement(\"style\");\n",
       "    element.appendChild(document.createTextNode(css));\n",
       "    document.body.appendChild(element);\n",
       "  }\n",
       "\n",
       "  const js_urls = [\"https://cdn.bokeh.org/bokeh/release/bokeh-2.4.3.min.js\", \"https://cdn.bokeh.org/bokeh/release/bokeh-gl-2.4.3.min.js\", \"https://cdn.bokeh.org/bokeh/release/bokeh-widgets-2.4.3.min.js\", \"https://cdn.bokeh.org/bokeh/release/bokeh-tables-2.4.3.min.js\", \"https://cdn.bokeh.org/bokeh/release/bokeh-mathjax-2.4.3.min.js\"];\n",
       "  const css_urls = [];\n",
       "\n",
       "  const inline_js = [    function(Bokeh) {\n",
       "      Bokeh.set_log_level(\"info\");\n",
       "    },\n",
       "function(Bokeh) {\n",
       "    }\n",
       "  ];\n",
       "\n",
       "  function run_inline_js() {\n",
       "    if (root.Bokeh !== undefined || force === true) {\n",
       "          for (let i = 0; i < inline_js.length; i++) {\n",
       "      inline_js[i].call(root, root.Bokeh);\n",
       "    }\n",
       "if (force === true) {\n",
       "        display_loaded();\n",
       "      }} else if (Date.now() < root._bokeh_timeout) {\n",
       "      setTimeout(run_inline_js, 100);\n",
       "    } else if (!root._bokeh_failed_load) {\n",
       "      console.log(\"Bokeh: BokehJS failed to load within specified timeout.\");\n",
       "      root._bokeh_failed_load = true;\n",
       "    } else if (force !== true) {\n",
       "      const cell = $(document.getElementById(\"1002\")).parents('.cell').data().cell;\n",
       "      cell.output_area.append_execute_result(NB_LOAD_WARNING)\n",
       "    }\n",
       "  }\n",
       "\n",
       "  if (root._bokeh_is_loading === 0) {\n",
       "    console.debug(\"Bokeh: BokehJS loaded, going straight to plotting\");\n",
       "    run_inline_js();\n",
       "  } else {\n",
       "    load_libs(css_urls, js_urls, function() {\n",
       "      console.debug(\"Bokeh: BokehJS plotting callback run at\", now());\n",
       "      run_inline_js();\n",
       "    });\n",
       "  }\n",
       "}(window));"
      ],
      "application/vnd.bokehjs_load.v0+json": "(function(root) {\n  function now() {\n    return new Date();\n  }\n\n  const force = true;\n\n  if (typeof root._bokeh_onload_callbacks === \"undefined\" || force === true) {\n    root._bokeh_onload_callbacks = [];\n    root._bokeh_is_loading = undefined;\n  }\n\n\n  if (typeof (root._bokeh_timeout) === \"undefined\" || force === true) {\n    root._bokeh_timeout = Date.now() + 5000;\n    root._bokeh_failed_load = false;\n  }\n\n  const NB_LOAD_WARNING = {'data': {'text/html':\n     \"<div style='background-color: #fdd'>\\n\"+\n     \"<p>\\n\"+\n     \"BokehJS does not appear to have successfully loaded. If loading BokehJS from CDN, this \\n\"+\n     \"may be due to a slow or bad network connection. Possible fixes:\\n\"+\n     \"</p>\\n\"+\n     \"<ul>\\n\"+\n     \"<li>re-rerun `output_notebook()` to attempt to load from CDN again, or</li>\\n\"+\n     \"<li>use INLINE resources instead, as so:</li>\\n\"+\n     \"</ul>\\n\"+\n     \"<code>\\n\"+\n     \"from bokeh.resources import INLINE\\n\"+\n     \"output_notebook(resources=INLINE)\\n\"+\n     \"</code>\\n\"+\n     \"</div>\"}};\n\n  function display_loaded() {\n    const el = document.getElementById(\"1002\");\n    if (el != null) {\n      el.textContent = \"BokehJS is loading...\";\n    }\n    if (root.Bokeh !== undefined) {\n      if (el != null) {\n        el.textContent = \"BokehJS \" + root.Bokeh.version + \" successfully loaded.\";\n      }\n    } else if (Date.now() < root._bokeh_timeout) {\n      setTimeout(display_loaded, 100)\n    }\n  }\n\n  function run_callbacks() {\n    try {\n      root._bokeh_onload_callbacks.forEach(function(callback) {\n        if (callback != null)\n          callback();\n      });\n    } finally {\n      delete root._bokeh_onload_callbacks\n    }\n    console.debug(\"Bokeh: all callbacks have finished\");\n  }\n\n  function load_libs(css_urls, js_urls, callback) {\n    if (css_urls == null) css_urls = [];\n    if (js_urls == null) js_urls = [];\n\n    root._bokeh_onload_callbacks.push(callback);\n    if (root._bokeh_is_loading > 0) {\n      console.debug(\"Bokeh: BokehJS is being loaded, scheduling callback at\", now());\n      return null;\n    }\n    if (js_urls == null || js_urls.length === 0) {\n      run_callbacks();\n      return null;\n    }\n    console.debug(\"Bokeh: BokehJS not loaded, scheduling load and callback at\", now());\n    root._bokeh_is_loading = css_urls.length + js_urls.length;\n\n    function on_load() {\n      root._bokeh_is_loading--;\n      if (root._bokeh_is_loading === 0) {\n        console.debug(\"Bokeh: all BokehJS libraries/stylesheets loaded\");\n        run_callbacks()\n      }\n    }\n\n    function on_error(url) {\n      console.error(\"failed to load \" + url);\n    }\n\n    for (let i = 0; i < css_urls.length; i++) {\n      const url = css_urls[i];\n      const element = document.createElement(\"link\");\n      element.onload = on_load;\n      element.onerror = on_error.bind(null, url);\n      element.rel = \"stylesheet\";\n      element.type = \"text/css\";\n      element.href = url;\n      console.debug(\"Bokeh: injecting link tag for BokehJS stylesheet: \", url);\n      document.body.appendChild(element);\n    }\n\n    for (let i = 0; i < js_urls.length; i++) {\n      const url = js_urls[i];\n      const element = document.createElement('script');\n      element.onload = on_load;\n      element.onerror = on_error.bind(null, url);\n      element.async = false;\n      element.src = url;\n      console.debug(\"Bokeh: injecting script tag for BokehJS library: \", url);\n      document.head.appendChild(element);\n    }\n  };\n\n  function inject_raw_css(css) {\n    const element = document.createElement(\"style\");\n    element.appendChild(document.createTextNode(css));\n    document.body.appendChild(element);\n  }\n\n  const js_urls = [\"https://cdn.bokeh.org/bokeh/release/bokeh-2.4.3.min.js\", \"https://cdn.bokeh.org/bokeh/release/bokeh-gl-2.4.3.min.js\", \"https://cdn.bokeh.org/bokeh/release/bokeh-widgets-2.4.3.min.js\", \"https://cdn.bokeh.org/bokeh/release/bokeh-tables-2.4.3.min.js\", \"https://cdn.bokeh.org/bokeh/release/bokeh-mathjax-2.4.3.min.js\"];\n  const css_urls = [];\n\n  const inline_js = [    function(Bokeh) {\n      Bokeh.set_log_level(\"info\");\n    },\nfunction(Bokeh) {\n    }\n  ];\n\n  function run_inline_js() {\n    if (root.Bokeh !== undefined || force === true) {\n          for (let i = 0; i < inline_js.length; i++) {\n      inline_js[i].call(root, root.Bokeh);\n    }\nif (force === true) {\n        display_loaded();\n      }} else if (Date.now() < root._bokeh_timeout) {\n      setTimeout(run_inline_js, 100);\n    } else if (!root._bokeh_failed_load) {\n      console.log(\"Bokeh: BokehJS failed to load within specified timeout.\");\n      root._bokeh_failed_load = true;\n    } else if (force !== true) {\n      const cell = $(document.getElementById(\"1002\")).parents('.cell').data().cell;\n      cell.output_area.append_execute_result(NB_LOAD_WARNING)\n    }\n  }\n\n  if (root._bokeh_is_loading === 0) {\n    console.debug(\"Bokeh: BokehJS loaded, going straight to plotting\");\n    run_inline_js();\n  } else {\n    load_libs(css_urls, js_urls, function() {\n      console.debug(\"Bokeh: BokehJS plotting callback run at\", now());\n      run_inline_js();\n    });\n  }\n}(window));"
     },
     "metadata": {},
     "output_type": "display_data"
    }
   ],
   "source": [
    "from IPython.display import display, HTML\n",
    "display(HTML(\"<style>.container { width:100% !important; }</style>\"))\n",
    "\n",
    "import numpy as np\n",
    "from tqdm import tqdm\n",
    "\n",
    "from bokeh.plotting import figure, show, output_file, save\n",
    "from bokeh.layouts import gridplot\n",
    "from bokeh.io import output_notebook\n",
    "from bokeh.palettes import Viridis, Category10, Category20\n",
    "from bokeh.io import export_svg\n",
    "output_notebook()"
   ]
  },
  {
   "cell_type": "code",
   "execution_count": 2,
   "metadata": {
    "ExecuteTime": {
     "end_time": "2022-10-18T16:34:22.192897Z",
     "start_time": "2022-10-18T16:34:21.557216Z"
    }
   },
   "outputs": [
    {
     "data": {
      "text/html": [
       "<div class=\"bk-root\">\n",
       "        <a href=\"https://bokeh.org\" target=\"_blank\" class=\"bk-logo bk-logo-small bk-logo-notebook\"></a>\n",
       "        <span id=\"1003\">Loading BokehJS ...</span>\n",
       "    </div>\n"
      ]
     },
     "metadata": {},
     "output_type": "display_data"
    },
    {
     "data": {
      "application/javascript": [
       "(function(root) {\n",
       "  function now() {\n",
       "    return new Date();\n",
       "  }\n",
       "\n",
       "  const force = true;\n",
       "\n",
       "  if (typeof root._bokeh_onload_callbacks === \"undefined\" || force === true) {\n",
       "    root._bokeh_onload_callbacks = [];\n",
       "    root._bokeh_is_loading = undefined;\n",
       "  }\n",
       "\n",
       "const JS_MIME_TYPE = 'application/javascript';\n",
       "  const HTML_MIME_TYPE = 'text/html';\n",
       "  const EXEC_MIME_TYPE = 'application/vnd.bokehjs_exec.v0+json';\n",
       "  const CLASS_NAME = 'output_bokeh rendered_html';\n",
       "\n",
       "  /**\n",
       "   * Render data to the DOM node\n",
       "   */\n",
       "  function render(props, node) {\n",
       "    const script = document.createElement(\"script\");\n",
       "    node.appendChild(script);\n",
       "  }\n",
       "\n",
       "  /**\n",
       "   * Handle when an output is cleared or removed\n",
       "   */\n",
       "  function handleClearOutput(event, handle) {\n",
       "    const cell = handle.cell;\n",
       "\n",
       "    const id = cell.output_area._bokeh_element_id;\n",
       "    const server_id = cell.output_area._bokeh_server_id;\n",
       "    // Clean up Bokeh references\n",
       "    if (id != null && id in Bokeh.index) {\n",
       "      Bokeh.index[id].model.document.clear();\n",
       "      delete Bokeh.index[id];\n",
       "    }\n",
       "\n",
       "    if (server_id !== undefined) {\n",
       "      // Clean up Bokeh references\n",
       "      const cmd_clean = \"from bokeh.io.state import curstate; print(curstate().uuid_to_server['\" + server_id + \"'].get_sessions()[0].document.roots[0]._id)\";\n",
       "      cell.notebook.kernel.execute(cmd_clean, {\n",
       "        iopub: {\n",
       "          output: function(msg) {\n",
       "            const id = msg.content.text.trim();\n",
       "            if (id in Bokeh.index) {\n",
       "              Bokeh.index[id].model.document.clear();\n",
       "              delete Bokeh.index[id];\n",
       "            }\n",
       "          }\n",
       "        }\n",
       "      });\n",
       "      // Destroy server and session\n",
       "      const cmd_destroy = \"import bokeh.io.notebook as ion; ion.destroy_server('\" + server_id + \"')\";\n",
       "      cell.notebook.kernel.execute(cmd_destroy);\n",
       "    }\n",
       "  }\n",
       "\n",
       "  /**\n",
       "   * Handle when a new output is added\n",
       "   */\n",
       "  function handleAddOutput(event, handle) {\n",
       "    const output_area = handle.output_area;\n",
       "    const output = handle.output;\n",
       "\n",
       "    // limit handleAddOutput to display_data with EXEC_MIME_TYPE content only\n",
       "    if ((output.output_type != \"display_data\") || (!Object.prototype.hasOwnProperty.call(output.data, EXEC_MIME_TYPE))) {\n",
       "      return\n",
       "    }\n",
       "\n",
       "    const toinsert = output_area.element.find(\".\" + CLASS_NAME.split(' ')[0]);\n",
       "\n",
       "    if (output.metadata[EXEC_MIME_TYPE][\"id\"] !== undefined) {\n",
       "      toinsert[toinsert.length - 1].firstChild.textContent = output.data[JS_MIME_TYPE];\n",
       "      // store reference to embed id on output_area\n",
       "      output_area._bokeh_element_id = output.metadata[EXEC_MIME_TYPE][\"id\"];\n",
       "    }\n",
       "    if (output.metadata[EXEC_MIME_TYPE][\"server_id\"] !== undefined) {\n",
       "      const bk_div = document.createElement(\"div\");\n",
       "      bk_div.innerHTML = output.data[HTML_MIME_TYPE];\n",
       "      const script_attrs = bk_div.children[0].attributes;\n",
       "      for (let i = 0; i < script_attrs.length; i++) {\n",
       "        toinsert[toinsert.length - 1].firstChild.setAttribute(script_attrs[i].name, script_attrs[i].value);\n",
       "        toinsert[toinsert.length - 1].firstChild.textContent = bk_div.children[0].textContent\n",
       "      }\n",
       "      // store reference to server id on output_area\n",
       "      output_area._bokeh_server_id = output.metadata[EXEC_MIME_TYPE][\"server_id\"];\n",
       "    }\n",
       "  }\n",
       "\n",
       "  function register_renderer(events, OutputArea) {\n",
       "\n",
       "    function append_mime(data, metadata, element) {\n",
       "      // create a DOM node to render to\n",
       "      const toinsert = this.create_output_subarea(\n",
       "        metadata,\n",
       "        CLASS_NAME,\n",
       "        EXEC_MIME_TYPE\n",
       "      );\n",
       "      this.keyboard_manager.register_events(toinsert);\n",
       "      // Render to node\n",
       "      const props = {data: data, metadata: metadata[EXEC_MIME_TYPE]};\n",
       "      render(props, toinsert[toinsert.length - 1]);\n",
       "      element.append(toinsert);\n",
       "      return toinsert\n",
       "    }\n",
       "\n",
       "    /* Handle when an output is cleared or removed */\n",
       "    events.on('clear_output.CodeCell', handleClearOutput);\n",
       "    events.on('delete.Cell', handleClearOutput);\n",
       "\n",
       "    /* Handle when a new output is added */\n",
       "    events.on('output_added.OutputArea', handleAddOutput);\n",
       "\n",
       "    /**\n",
       "     * Register the mime type and append_mime function with output_area\n",
       "     */\n",
       "    OutputArea.prototype.register_mime_type(EXEC_MIME_TYPE, append_mime, {\n",
       "      /* Is output safe? */\n",
       "      safe: true,\n",
       "      /* Index of renderer in `output_area.display_order` */\n",
       "      index: 0\n",
       "    });\n",
       "  }\n",
       "\n",
       "  // register the mime type if in Jupyter Notebook environment and previously unregistered\n",
       "  if (root.Jupyter !== undefined) {\n",
       "    const events = require('base/js/events');\n",
       "    const OutputArea = require('notebook/js/outputarea').OutputArea;\n",
       "\n",
       "    if (OutputArea.prototype.mime_types().indexOf(EXEC_MIME_TYPE) == -1) {\n",
       "      register_renderer(events, OutputArea);\n",
       "    }\n",
       "  }\n",
       "  if (typeof (root._bokeh_timeout) === \"undefined\" || force === true) {\n",
       "    root._bokeh_timeout = Date.now() + 5000;\n",
       "    root._bokeh_failed_load = false;\n",
       "  }\n",
       "\n",
       "  const NB_LOAD_WARNING = {'data': {'text/html':\n",
       "     \"<div style='background-color: #fdd'>\\n\"+\n",
       "     \"<p>\\n\"+\n",
       "     \"BokehJS does not appear to have successfully loaded. If loading BokehJS from CDN, this \\n\"+\n",
       "     \"may be due to a slow or bad network connection. Possible fixes:\\n\"+\n",
       "     \"</p>\\n\"+\n",
       "     \"<ul>\\n\"+\n",
       "     \"<li>re-rerun `output_notebook()` to attempt to load from CDN again, or</li>\\n\"+\n",
       "     \"<li>use INLINE resources instead, as so:</li>\\n\"+\n",
       "     \"</ul>\\n\"+\n",
       "     \"<code>\\n\"+\n",
       "     \"from bokeh.resources import INLINE\\n\"+\n",
       "     \"output_notebook(resources=INLINE)\\n\"+\n",
       "     \"</code>\\n\"+\n",
       "     \"</div>\"}};\n",
       "\n",
       "  function display_loaded() {\n",
       "    const el = document.getElementById(\"1003\");\n",
       "    if (el != null) {\n",
       "      el.textContent = \"BokehJS is loading...\";\n",
       "    }\n",
       "    if (root.Bokeh !== undefined) {\n",
       "      if (el != null) {\n",
       "        el.textContent = \"BokehJS \" + root.Bokeh.version + \" successfully loaded.\";\n",
       "      }\n",
       "    } else if (Date.now() < root._bokeh_timeout) {\n",
       "      setTimeout(display_loaded, 100)\n",
       "    }\n",
       "  }\n",
       "\n",
       "  function run_callbacks() {\n",
       "    try {\n",
       "      root._bokeh_onload_callbacks.forEach(function(callback) {\n",
       "        if (callback != null)\n",
       "          callback();\n",
       "      });\n",
       "    } finally {\n",
       "      delete root._bokeh_onload_callbacks\n",
       "    }\n",
       "    console.debug(\"Bokeh: all callbacks have finished\");\n",
       "  }\n",
       "\n",
       "  function load_libs(css_urls, js_urls, callback) {\n",
       "    if (css_urls == null) css_urls = [];\n",
       "    if (js_urls == null) js_urls = [];\n",
       "\n",
       "    root._bokeh_onload_callbacks.push(callback);\n",
       "    if (root._bokeh_is_loading > 0) {\n",
       "      console.debug(\"Bokeh: BokehJS is being loaded, scheduling callback at\", now());\n",
       "      return null;\n",
       "    }\n",
       "    if (js_urls == null || js_urls.length === 0) {\n",
       "      run_callbacks();\n",
       "      return null;\n",
       "    }\n",
       "    console.debug(\"Bokeh: BokehJS not loaded, scheduling load and callback at\", now());\n",
       "    root._bokeh_is_loading = css_urls.length + js_urls.length;\n",
       "\n",
       "    function on_load() {\n",
       "      root._bokeh_is_loading--;\n",
       "      if (root._bokeh_is_loading === 0) {\n",
       "        console.debug(\"Bokeh: all BokehJS libraries/stylesheets loaded\");\n",
       "        run_callbacks()\n",
       "      }\n",
       "    }\n",
       "\n",
       "    function on_error(url) {\n",
       "      console.error(\"failed to load \" + url);\n",
       "    }\n",
       "\n",
       "    for (let i = 0; i < css_urls.length; i++) {\n",
       "      const url = css_urls[i];\n",
       "      const element = document.createElement(\"link\");\n",
       "      element.onload = on_load;\n",
       "      element.onerror = on_error.bind(null, url);\n",
       "      element.rel = \"stylesheet\";\n",
       "      element.type = \"text/css\";\n",
       "      element.href = url;\n",
       "      console.debug(\"Bokeh: injecting link tag for BokehJS stylesheet: \", url);\n",
       "      document.body.appendChild(element);\n",
       "    }\n",
       "\n",
       "    for (let i = 0; i < js_urls.length; i++) {\n",
       "      const url = js_urls[i];\n",
       "      const element = document.createElement('script');\n",
       "      element.onload = on_load;\n",
       "      element.onerror = on_error.bind(null, url);\n",
       "      element.async = false;\n",
       "      element.src = url;\n",
       "      console.debug(\"Bokeh: injecting script tag for BokehJS library: \", url);\n",
       "      document.head.appendChild(element);\n",
       "    }\n",
       "  };\n",
       "\n",
       "  function inject_raw_css(css) {\n",
       "    const element = document.createElement(\"style\");\n",
       "    element.appendChild(document.createTextNode(css));\n",
       "    document.body.appendChild(element);\n",
       "  }\n",
       "\n",
       "  const js_urls = [\"https://cdn.bokeh.org/bokeh/release/bokeh-2.4.3.min.js\", \"https://cdn.bokeh.org/bokeh/release/bokeh-gl-2.4.3.min.js\", \"https://cdn.bokeh.org/bokeh/release/bokeh-widgets-2.4.3.min.js\", \"https://cdn.bokeh.org/bokeh/release/bokeh-tables-2.4.3.min.js\", \"https://cdn.bokeh.org/bokeh/release/bokeh-mathjax-2.4.3.min.js\"];\n",
       "  const css_urls = [];\n",
       "\n",
       "  const inline_js = [    function(Bokeh) {\n",
       "      Bokeh.set_log_level(\"info\");\n",
       "    },\n",
       "function(Bokeh) {\n",
       "    }\n",
       "  ];\n",
       "\n",
       "  function run_inline_js() {\n",
       "    if (root.Bokeh !== undefined || force === true) {\n",
       "          for (let i = 0; i < inline_js.length; i++) {\n",
       "      inline_js[i].call(root, root.Bokeh);\n",
       "    }\n",
       "if (force === true) {\n",
       "        display_loaded();\n",
       "      }} else if (Date.now() < root._bokeh_timeout) {\n",
       "      setTimeout(run_inline_js, 100);\n",
       "    } else if (!root._bokeh_failed_load) {\n",
       "      console.log(\"Bokeh: BokehJS failed to load within specified timeout.\");\n",
       "      root._bokeh_failed_load = true;\n",
       "    } else if (force !== true) {\n",
       "      const cell = $(document.getElementById(\"1003\")).parents('.cell').data().cell;\n",
       "      cell.output_area.append_execute_result(NB_LOAD_WARNING)\n",
       "    }\n",
       "  }\n",
       "\n",
       "  if (root._bokeh_is_loading === 0) {\n",
       "    console.debug(\"Bokeh: BokehJS loaded, going straight to plotting\");\n",
       "    run_inline_js();\n",
       "  } else {\n",
       "    load_libs(css_urls, js_urls, function() {\n",
       "      console.debug(\"Bokeh: BokehJS plotting callback run at\", now());\n",
       "      run_inline_js();\n",
       "    });\n",
       "  }\n",
       "}(window));"
      ],
      "application/vnd.bokehjs_load.v0+json": "(function(root) {\n  function now() {\n    return new Date();\n  }\n\n  const force = true;\n\n  if (typeof root._bokeh_onload_callbacks === \"undefined\" || force === true) {\n    root._bokeh_onload_callbacks = [];\n    root._bokeh_is_loading = undefined;\n  }\n\n\n  if (typeof (root._bokeh_timeout) === \"undefined\" || force === true) {\n    root._bokeh_timeout = Date.now() + 5000;\n    root._bokeh_failed_load = false;\n  }\n\n  const NB_LOAD_WARNING = {'data': {'text/html':\n     \"<div style='background-color: #fdd'>\\n\"+\n     \"<p>\\n\"+\n     \"BokehJS does not appear to have successfully loaded. If loading BokehJS from CDN, this \\n\"+\n     \"may be due to a slow or bad network connection. Possible fixes:\\n\"+\n     \"</p>\\n\"+\n     \"<ul>\\n\"+\n     \"<li>re-rerun `output_notebook()` to attempt to load from CDN again, or</li>\\n\"+\n     \"<li>use INLINE resources instead, as so:</li>\\n\"+\n     \"</ul>\\n\"+\n     \"<code>\\n\"+\n     \"from bokeh.resources import INLINE\\n\"+\n     \"output_notebook(resources=INLINE)\\n\"+\n     \"</code>\\n\"+\n     \"</div>\"}};\n\n  function display_loaded() {\n    const el = document.getElementById(\"1003\");\n    if (el != null) {\n      el.textContent = \"BokehJS is loading...\";\n    }\n    if (root.Bokeh !== undefined) {\n      if (el != null) {\n        el.textContent = \"BokehJS \" + root.Bokeh.version + \" successfully loaded.\";\n      }\n    } else if (Date.now() < root._bokeh_timeout) {\n      setTimeout(display_loaded, 100)\n    }\n  }\n\n  function run_callbacks() {\n    try {\n      root._bokeh_onload_callbacks.forEach(function(callback) {\n        if (callback != null)\n          callback();\n      });\n    } finally {\n      delete root._bokeh_onload_callbacks\n    }\n    console.debug(\"Bokeh: all callbacks have finished\");\n  }\n\n  function load_libs(css_urls, js_urls, callback) {\n    if (css_urls == null) css_urls = [];\n    if (js_urls == null) js_urls = [];\n\n    root._bokeh_onload_callbacks.push(callback);\n    if (root._bokeh_is_loading > 0) {\n      console.debug(\"Bokeh: BokehJS is being loaded, scheduling callback at\", now());\n      return null;\n    }\n    if (js_urls == null || js_urls.length === 0) {\n      run_callbacks();\n      return null;\n    }\n    console.debug(\"Bokeh: BokehJS not loaded, scheduling load and callback at\", now());\n    root._bokeh_is_loading = css_urls.length + js_urls.length;\n\n    function on_load() {\n      root._bokeh_is_loading--;\n      if (root._bokeh_is_loading === 0) {\n        console.debug(\"Bokeh: all BokehJS libraries/stylesheets loaded\");\n        run_callbacks()\n      }\n    }\n\n    function on_error(url) {\n      console.error(\"failed to load \" + url);\n    }\n\n    for (let i = 0; i < css_urls.length; i++) {\n      const url = css_urls[i];\n      const element = document.createElement(\"link\");\n      element.onload = on_load;\n      element.onerror = on_error.bind(null, url);\n      element.rel = \"stylesheet\";\n      element.type = \"text/css\";\n      element.href = url;\n      console.debug(\"Bokeh: injecting link tag for BokehJS stylesheet: \", url);\n      document.body.appendChild(element);\n    }\n\n    for (let i = 0; i < js_urls.length; i++) {\n      const url = js_urls[i];\n      const element = document.createElement('script');\n      element.onload = on_load;\n      element.onerror = on_error.bind(null, url);\n      element.async = false;\n      element.src = url;\n      console.debug(\"Bokeh: injecting script tag for BokehJS library: \", url);\n      document.head.appendChild(element);\n    }\n  };\n\n  function inject_raw_css(css) {\n    const element = document.createElement(\"style\");\n    element.appendChild(document.createTextNode(css));\n    document.body.appendChild(element);\n  }\n\n  const js_urls = [\"https://cdn.bokeh.org/bokeh/release/bokeh-2.4.3.min.js\", \"https://cdn.bokeh.org/bokeh/release/bokeh-gl-2.4.3.min.js\", \"https://cdn.bokeh.org/bokeh/release/bokeh-widgets-2.4.3.min.js\", \"https://cdn.bokeh.org/bokeh/release/bokeh-tables-2.4.3.min.js\", \"https://cdn.bokeh.org/bokeh/release/bokeh-mathjax-2.4.3.min.js\"];\n  const css_urls = [];\n\n  const inline_js = [    function(Bokeh) {\n      Bokeh.set_log_level(\"info\");\n    },\nfunction(Bokeh) {\n    }\n  ];\n\n  function run_inline_js() {\n    if (root.Bokeh !== undefined || force === true) {\n          for (let i = 0; i < inline_js.length; i++) {\n      inline_js[i].call(root, root.Bokeh);\n    }\nif (force === true) {\n        display_loaded();\n      }} else if (Date.now() < root._bokeh_timeout) {\n      setTimeout(run_inline_js, 100);\n    } else if (!root._bokeh_failed_load) {\n      console.log(\"Bokeh: BokehJS failed to load within specified timeout.\");\n      root._bokeh_failed_load = true;\n    } else if (force !== true) {\n      const cell = $(document.getElementById(\"1003\")).parents('.cell').data().cell;\n      cell.output_area.append_execute_result(NB_LOAD_WARNING)\n    }\n  }\n\n  if (root._bokeh_is_loading === 0) {\n    console.debug(\"Bokeh: BokehJS loaded, going straight to plotting\");\n    run_inline_js();\n  } else {\n    load_libs(css_urls, js_urls, function() {\n      console.debug(\"Bokeh: BokehJS plotting callback run at\", now());\n      run_inline_js();\n    });\n  }\n}(window));"
     },
     "metadata": {},
     "output_type": "display_data"
    }
   ],
   "source": [
    "from metamod.control import SingleLayerEq, SingleLayerControl\n",
    "from metamod.tasks import AffineCorrelatedGaussian, TwoGaussians\n",
    "from metamod.trainers import single_layer_training\n",
    "from metamod.networks import SingleLayerNet\n",
    "from metamod.utils import plot_lines, plot_weight_ev, check_dir, save_var, get_date_time"
   ]
  },
  {
   "cell_type": "code",
   "execution_count": 3,
   "metadata": {
    "ExecuteTime": {
     "end_time": "2022-10-18T16:34:22.708796Z",
     "start_time": "2022-10-18T16:34:22.701753Z"
    }
   },
   "outputs": [],
   "source": [
    "run_name = \"testing_single_layer\"\n",
    "results_path = \"../results\""
   ]
  },
  {
   "cell_type": "code",
   "execution_count": 4,
   "metadata": {
    "ExecuteTime": {
     "end_time": "2022-10-18T16:34:23.143985Z",
     "start_time": "2022-10-18T16:34:23.141670Z"
    }
   },
   "outputs": [],
   "source": [
    "results_dict = {}"
   ]
  },
  {
   "cell_type": "code",
   "execution_count": 5,
   "metadata": {
    "ExecuteTime": {
     "end_time": "2022-10-18T16:34:23.343309Z",
     "start_time": "2022-10-18T16:34:23.341049Z"
    }
   },
   "outputs": [],
   "source": [
    "#dataset_params = {\"mu_vec\": (3.0, 1.0), \n",
    "#                  \"batch_size\": 256, \n",
    "#                  \"dependence_parameter\": 0.8, \n",
    "#                  \"sigma_vec\":(1.0, 1.0)}\n",
    "\n",
    "#dataset = AffineCorrelatedGaussian(**dataset_params)\n",
    "\n",
    "dataset_params = {\"mu\": 2.0, \n",
    "                  \"batch_size\": 128, \n",
    "                  \"std\": 1.0}\n",
    "dataset = TwoGaussians(**dataset_params)"
   ]
  },
  {
   "cell_type": "code",
   "execution_count": 6,
   "metadata": {
    "ExecuteTime": {
     "end_time": "2022-10-18T16:34:25.903442Z",
     "start_time": "2022-10-18T16:34:23.512686Z"
    }
   },
   "outputs": [],
   "source": [
    "model_params = {\"learning_rate\": 1e-3,\n",
    "                \"reg_coef\": 0.1,\n",
    "                \"intrinsic_noise\": 0.0,\n",
    "                \"input_dim\": dataset.input_dim,\n",
    "                \"output_dim\": dataset.output_dim,\n",
    "                \"W_0\": np.zeros((1, 1))}\n",
    "\n",
    "model = SingleLayerNet(**model_params)"
   ]
  },
  {
   "cell_type": "code",
   "execution_count": 7,
   "metadata": {
    "ExecuteTime": {
     "end_time": "2022-10-18T16:34:29.153628Z",
     "start_time": "2022-10-18T16:34:25.904517Z"
    }
   },
   "outputs": [
    {
     "name": "stderr",
     "output_type": "stream",
     "text": [
      "100%|███████████████████████████████████████████████████████████████████████████████████████████████████████████████████████████████████████████████████████████████████████████| 500/500 [00:00<00:00, 616.98it/s]\n"
     ]
    }
   ],
   "source": [
    "n_steps = 500\n",
    "save_weights_every = 20\n",
    "\n",
    "iters, loss, weights_iter, weights = single_layer_training(model=model, dataset=dataset, n_steps=n_steps, save_weights_every=save_weights_every)\n",
    "\n",
    "results_dict[\"iters\"] = iters\n",
    "results_dict[\"Loss_t_sim\"] = loss\n",
    "results_dict[\"weights_sim\"] = weights\n",
    "results_dict[\"weights_iters_sim\"] = weights_iter"
   ]
  },
  {
   "cell_type": "code",
   "execution_count": 8,
   "metadata": {
    "ExecuteTime": {
     "end_time": "2022-10-18T16:34:29.157446Z",
     "start_time": "2022-10-18T16:34:29.154803Z"
    }
   },
   "outputs": [
    {
     "data": {
      "text/plain": [
       "(25, 1, 1)"
      ]
     },
     "execution_count": 8,
     "metadata": {},
     "output_type": "execute_result"
    }
   ],
   "source": [
    "weights.shape"
   ]
  },
  {
   "cell_type": "code",
   "execution_count": 9,
   "metadata": {
    "ExecuteTime": {
     "end_time": "2022-10-18T16:34:29.163851Z",
     "start_time": "2022-10-18T16:34:29.158424Z"
    }
   },
   "outputs": [],
   "source": [
    "init_W = weights[0, ...]\n",
    "\n",
    "init_weights = init_W\n",
    "input_corr, output_corr, input_output_corr, expected_y, expected_x = dataset.get_correlation_matrix()\n",
    "\n",
    "time_span = np.arange(0, len(iters))*model_params[\"learning_rate\"]\n",
    "results_dict[\"time_span\"] = time_span"
   ]
  },
  {
   "cell_type": "code",
   "execution_count": 10,
   "metadata": {},
   "outputs": [
    {
     "data": {
      "text/plain": [
       "(1, 1)"
      ]
     },
     "execution_count": 10,
     "metadata": {},
     "output_type": "execute_result"
    }
   ],
   "source": [
    "init_W.shape"
   ]
  },
  {
   "cell_type": "code",
   "execution_count": 11,
   "metadata": {
    "ExecuteTime": {
     "end_time": "2022-10-18T16:34:29.166717Z",
     "start_time": "2022-10-18T16:34:29.164694Z"
    }
   },
   "outputs": [],
   "source": [
    "equation_params = {\"in_cov\": input_corr,\n",
    "                   \"out_cov\": output_corr,\n",
    "                   \"in_out_cov\": input_output_corr,\n",
    "                   # \"expected_y\": expected_y,\n",
    "                   # \"expected_x\": expected_x,\n",
    "                   \"init_weights\": init_weights,\n",
    "                   \"n_steps\": n_steps,\n",
    "                   \"reg_coef\": model_params[\"reg_coef\"],\n",
    "                   \"intrinsic_noise\": model_params[\"intrinsic_noise\"],\n",
    "                   \"learning_rate\": model_params[\"learning_rate\"],\n",
    "                   \"time_constant\": 1.0}"
   ]
  },
  {
   "cell_type": "code",
   "execution_count": 12,
   "metadata": {
    "ExecuteTime": {
     "end_time": "2022-10-18T16:34:29.169575Z",
     "start_time": "2022-10-18T16:34:29.167556Z"
    }
   },
   "outputs": [],
   "source": [
    "solver = SingleLayerEq(**equation_params)"
   ]
  },
  {
   "cell_type": "code",
   "execution_count": 13,
   "metadata": {
    "ExecuteTime": {
     "end_time": "2022-10-18T16:34:29.172237Z",
     "start_time": "2022-10-18T16:34:29.170353Z"
    }
   },
   "outputs": [],
   "source": [
    "control_params = {**equation_params,\n",
    "                  \"control_lower_bound\": 0.0,\n",
    "                  \"control_upper_bound\": None,\n",
    "                  \"gamma\": 0.99,\n",
    "                  \"cost_coef\": 0.3,\n",
    "                  \"reward_convertion\": 1.0,\n",
    "                  \"init_g\": None,\n",
    "                  \"control_lr\": 10.0}"
   ]
  },
  {
   "cell_type": "code",
   "execution_count": 14,
   "metadata": {
    "ExecuteTime": {
     "end_time": "2022-10-18T16:34:29.176174Z",
     "start_time": "2022-10-18T16:34:29.173724Z"
    }
   },
   "outputs": [],
   "source": [
    "control = SingleLayerControl(**control_params)"
   ]
  },
  {
   "cell_type": "code",
   "execution_count": 15,
   "metadata": {
    "ExecuteTime": {
     "end_time": "2022-10-18T16:34:29.179835Z",
     "start_time": "2022-10-18T16:34:29.177582Z"
    }
   },
   "outputs": [
    {
     "name": "stdout",
     "output_type": "stream",
     "text": [
      "(25, 1, 1) torch.Size([500, 1, 1])\n"
     ]
    }
   ],
   "source": [
    "sim_weights = weights\n",
    "print(sim_weights.shape, control.g_tilda.shape)"
   ]
  },
  {
   "cell_type": "code",
   "execution_count": 16,
   "metadata": {
    "ExecuteTime": {
     "end_time": "2022-10-18T16:34:29.939356Z",
     "start_time": "2022-10-18T16:34:29.180732Z"
    }
   },
   "outputs": [],
   "source": [
    "W_t= solver.get_weights(time_span, get_numpy=True)\n",
    "Loss_t = solver.get_loss_function(W_t, get_numpy=True)\n",
    "\n",
    "results_dict[\"W_t_eq\"] = W_t\n",
    "results_dict[\"Loss_t_eq\"] = Loss_t"
   ]
  },
  {
   "cell_type": "code",
   "execution_count": 17,
   "metadata": {
    "ExecuteTime": {
     "end_time": "2022-10-18T16:34:31.285075Z",
     "start_time": "2022-10-18T16:34:29.940312Z"
    }
   },
   "outputs": [],
   "source": [
    "W_t_control = control.get_weights(time_span, get_numpy=True)\n",
    "Loss_t_control = control.get_loss_function(W_t_control, get_numpy=True)\n",
    "\n",
    "results_dict[\"W_t_control_init\"] = W_t_control\n",
    "results_dict[\"Loss_t_control_init\"] = Loss_t_control\n",
    "results_dict[\"control_signal_init\"] = control.g_tilda"
   ]
  },
  {
   "cell_type": "code",
   "execution_count": 18,
   "metadata": {
    "ExecuteTime": {
     "end_time": "2022-10-18T16:34:31.364595Z",
     "start_time": "2022-10-18T16:34:31.286237Z"
    }
   },
   "outputs": [
    {
     "data": {
      "text/html": [
       "\n",
       "  <div class=\"bk-root\" id=\"f49f0a6a-216e-4493-8c8a-e042af55a0d1\" data-root-id=\"1004\"></div>\n"
      ]
     },
     "metadata": {},
     "output_type": "display_data"
    },
    {
     "data": {
      "application/javascript": [
       "(function(root) {\n",
       "  function embed_document(root) {\n",
       "  const docs_json = {\"63ac4e7b-82f5-45c1-bed5-662edac32e59\":{\"defs\":[],\"roots\":{\"references\":[{\"attributes\":{\"below\":[{\"id\":\"1013\"}],\"center\":[{\"id\":\"1016\"},{\"id\":\"1020\"},{\"id\":\"1052\"}],\"height\":500,\"left\":[{\"id\":\"1017\"}],\"renderers\":[{\"id\":\"1039\"},{\"id\":\"1058\"},{\"id\":\"1078\"}],\"title\":{\"id\":\"1041\"},\"toolbar\":{\"id\":\"1028\"},\"width\":800,\"x_range\":{\"id\":\"1005\"},\"x_scale\":{\"id\":\"1009\"},\"y_range\":{\"id\":\"1007\"},\"y_scale\":{\"id\":\"1011\"}},\"id\":\"1004\",\"subtype\":\"Figure\",\"type\":\"Plot\"},{\"attributes\":{\"tools\":[{\"id\":\"1021\"},{\"id\":\"1022\"},{\"id\":\"1023\"},{\"id\":\"1024\"},{\"id\":\"1025\"},{\"id\":\"1026\"}]},\"id\":\"1028\",\"type\":\"Toolbar\"},{\"attributes\":{\"axis_label\":\"Loss\",\"coordinates\":null,\"formatter\":{\"id\":\"1044\"},\"group\":null,\"major_label_policy\":{\"id\":\"1045\"},\"ticker\":{\"id\":\"1018\"}},\"id\":\"1017\",\"type\":\"LinearAxis\"},{\"attributes\":{},\"id\":\"1093\",\"type\":\"Selection\"},{\"attributes\":{\"axis\":{\"id\":\"1017\"},\"coordinates\":null,\"dimension\":1,\"group\":null,\"ticker\":null},\"id\":\"1020\",\"type\":\"Grid\"},{\"attributes\":{},\"id\":\"1071\",\"type\":\"Selection\"},{\"attributes\":{},\"id\":\"1018\",\"type\":\"BasicTicker\"},{\"attributes\":{},\"id\":\"1014\",\"type\":\"BasicTicker\"},{\"attributes\":{},\"id\":\"1022\",\"type\":\"WheelZoomTool\"},{\"attributes\":{\"line_alpha\":0.1,\"line_color\":\"#1f77b4\",\"line_width\":3,\"x\":{\"field\":\"x\"},\"y\":{\"field\":\"y\"}},\"id\":\"1037\",\"type\":\"Line\"},{\"attributes\":{\"line_alpha\":0.2,\"line_color\":\"#1f77b4\",\"line_width\":3,\"x\":{\"field\":\"x\"},\"y\":{\"field\":\"y\"}},\"id\":\"1038\",\"type\":\"Line\"},{\"attributes\":{\"axis\":{\"id\":\"1013\"},\"coordinates\":null,\"group\":null,\"ticker\":null},\"id\":\"1016\",\"type\":\"Grid\"},{\"attributes\":{\"source\":{\"id\":\"1035\"}},\"id\":\"1040\",\"type\":\"CDSView\"},{\"attributes\":{},\"id\":\"1050\",\"type\":\"Selection\"},{\"attributes\":{},\"id\":\"1011\",\"type\":\"LinearScale\"},{\"attributes\":{\"line_alpha\":0.3,\"line_color\":\"#1f77b4\",\"line_width\":3,\"x\":{\"field\":\"x\"},\"y\":{\"field\":\"y\"}},\"id\":\"1036\",\"type\":\"Line\"},{\"attributes\":{\"coordinates\":null,\"group\":null},\"id\":\"1041\",\"type\":\"Title\"},{\"attributes\":{\"axis_label\":\"iters\",\"coordinates\":null,\"formatter\":{\"id\":\"1047\"},\"group\":null,\"major_label_policy\":{\"id\":\"1048\"},\"ticker\":{\"id\":\"1014\"}},\"id\":\"1013\",\"type\":\"LinearAxis\"},{\"attributes\":{},\"id\":\"1049\",\"type\":\"UnionRenderers\"},{\"attributes\":{},\"id\":\"1025\",\"type\":\"ResetTool\"},{\"attributes\":{\"coordinates\":null,\"group\":null,\"items\":[{\"id\":\"1053\"},{\"id\":\"1073\"},{\"id\":\"1095\"}]},\"id\":\"1052\",\"type\":\"Legend\"},{\"attributes\":{\"coordinates\":null,\"data_source\":{\"id\":\"1035\"},\"glyph\":{\"id\":\"1036\"},\"group\":null,\"hover_glyph\":null,\"muted_glyph\":{\"id\":\"1038\"},\"nonselection_glyph\":{\"id\":\"1037\"},\"view\":{\"id\":\"1040\"}},\"id\":\"1039\",\"type\":\"GlyphRenderer\"},{\"attributes\":{\"data\":{\"x\":[0,1,2,3,4,5,6,7,8,9,10,11,12,13,14,15,16,17,18,19,20,21,22,23,24,25,26,27,28,29,30,31,32,33,34,35,36,37,38,39,40,41,42,43,44,45,46,47,48,49,50,51,52,53,54,55,56,57,58,59,60,61,62,63,64,65,66,67,68,69,70,71,72,73,74,75,76,77,78,79,80,81,82,83,84,85,86,87,88,89,90,91,92,93,94,95,96,97,98,99,100,101,102,103,104,105,106,107,108,109,110,111,112,113,114,115,116,117,118,119,120,121,122,123,124,125,126,127,128,129,130,131,132,133,134,135,136,137,138,139,140,141,142,143,144,145,146,147,148,149,150,151,152,153,154,155,156,157,158,159,160,161,162,163,164,165,166,167,168,169,170,171,172,173,174,175,176,177,178,179,180,181,182,183,184,185,186,187,188,189,190,191,192,193,194,195,196,197,198,199,200,201,202,203,204,205,206,207,208,209,210,211,212,213,214,215,216,217,218,219,220,221,222,223,224,225,226,227,228,229,230,231,232,233,234,235,236,237,238,239,240,241,242,243,244,245,246,247,248,249,250,251,252,253,254,255,256,257,258,259,260,261,262,263,264,265,266,267,268,269,270,271,272,273,274,275,276,277,278,279,280,281,282,283,284,285,286,287,288,289,290,291,292,293,294,295,296,297,298,299,300,301,302,303,304,305,306,307,308,309,310,311,312,313,314,315,316,317,318,319,320,321,322,323,324,325,326,327,328,329,330,331,332,333,334,335,336,337,338,339,340,341,342,343,344,345,346,347,348,349,350,351,352,353,354,355,356,357,358,359,360,361,362,363,364,365,366,367,368,369,370,371,372,373,374,375,376,377,378,379,380,381,382,383,384,385,386,387,388,389,390,391,392,393,394,395,396,397,398,399,400,401,402,403,404,405,406,407,408,409,410,411,412,413,414,415,416,417,418,419,420,421,422,423,424,425,426,427,428,429,430,431,432,433,434,435,436,437,438,439,440,441,442,443,444,445,446,447,448,449,450,451,452,453,454,455,456,457,458,459,460,461,462,463,464,465,466,467,468,469,470,471,472,473,474,475,476,477,478,479,480,481,482,483,484,485,486,487,488,489,490,491,492,493,494,495,496,497,498,499],\"y\":{\"__ndarray__\":\"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\",\"dtype\":\"float32\",\"order\":\"little\",\"shape\":[500]}},\"selected\":{\"id\":\"1050\"},\"selection_policy\":{\"id\":\"1049\"}},\"id\":\"1035\",\"type\":\"ColumnDataSource\"},{\"attributes\":{},\"id\":\"1045\",\"type\":\"AllLabels\"},{\"attributes\":{\"bottom_units\":\"screen\",\"coordinates\":null,\"fill_alpha\":0.5,\"fill_color\":\"lightgrey\",\"group\":null,\"left_units\":\"screen\",\"level\":\"overlay\",\"line_alpha\":1.0,\"line_color\":\"black\",\"line_dash\":[4,4],\"line_width\":2,\"right_units\":\"screen\",\"syncable\":false,\"top_units\":\"screen\"},\"id\":\"1027\",\"type\":\"BoxAnnotation\"},{\"attributes\":{},\"id\":\"1024\",\"type\":\"SaveTool\"},{\"attributes\":{\"source\":{\"id\":\"1074\"}},\"id\":\"1079\",\"type\":\"CDSView\"},{\"attributes\":{\"overlay\":{\"id\":\"1027\"}},\"id\":\"1023\",\"type\":\"BoxZoomTool\"},{\"attributes\":{},\"id\":\"1005\",\"type\":\"DataRange1d\"},{\"attributes\":{},\"id\":\"1021\",\"type\":\"PanTool\"},{\"attributes\":{\"label\":{\"value\":\"Real Non-linear\"},\"renderers\":[{\"id\":\"1039\"}]},\"id\":\"1053\",\"type\":\"LegendItem\"},{\"attributes\":{\"source\":{\"id\":\"1054\"}},\"id\":\"1059\",\"type\":\"CDSView\"},{\"attributes\":{},\"id\":\"1026\",\"type\":\"HelpTool\"},{\"attributes\":{\"line_color\":\"#1f77b4\",\"line_width\":3,\"x\":{\"field\":\"x\"},\"y\":{\"field\":\"y\"}},\"id\":\"1055\",\"type\":\"Line\"},{\"attributes\":{\"line_color\":\"#ff7f0e\",\"line_width\":3,\"x\":{\"field\":\"x\"},\"y\":{\"field\":\"y\"}},\"id\":\"1075\",\"type\":\"Line\"},{\"attributes\":{\"coordinates\":null,\"data_source\":{\"id\":\"1054\"},\"glyph\":{\"id\":\"1055\"},\"group\":null,\"hover_glyph\":null,\"muted_glyph\":{\"id\":\"1057\"},\"nonselection_glyph\":{\"id\":\"1056\"},\"view\":{\"id\":\"1059\"}},\"id\":\"1058\",\"type\":\"GlyphRenderer\"},{\"attributes\":{\"coordinates\":null,\"data_source\":{\"id\":\"1074\"},\"glyph\":{\"id\":\"1075\"},\"group\":null,\"hover_glyph\":null,\"muted_glyph\":{\"id\":\"1077\"},\"nonselection_glyph\":{\"id\":\"1076\"},\"view\":{\"id\":\"1079\"}},\"id\":\"1078\",\"type\":\"GlyphRenderer\"},{\"attributes\":{\"data\":{\"x\":[0,1,2,3,4,5,6,7,8,9,10,11,12,13,14,15,16,17,18,19,20,21,22,23,24,25,26,27,28,29,30,31,32,33,34,35,36,37,38,39,40,41,42,43,44,45,46,47,48,49,50,51,52,53,54,55,56,57,58,59,60,61,62,63,64,65,66,67,68,69,70,71,72,73,74,75,76,77,78,79,80,81,82,83,84,85,86,87,88,89,90,91,92,93,94,95,96,97,98,99,100,101,102,103,104,105,106,107,108,109,110,111,112,113,114,115,116,117,118,119,120,121,122,123,124,125,126,127,128,129,130,131,132,133,134,135,136,137,138,139,140,141,142,143,144,145,146,147,148,149,150,151,152,153,154,155,156,157,158,159,160,161,162,163,164,165,166,167,168,169,170,171,172,173,174,175,176,177,178,179,180,181,182,183,184,185,186,187,188,189,190,191,192,193,194,195,196,197,198,199,200,201,202,203,204,205,206,207,208,209,210,211,212,213,214,215,216,217,218,219,220,221,222,223,224,225,226,227,228,229,230,231,232,233,234,235,236,237,238,239,240,241,242,243,244,245,246,247,248,249,250,251,252,253,254,255,256,257,258,259,260,261,262,263,264,265,266,267,268,269,270,271,272,273,274,275,276,277,278,279,280,281,282,283,284,285,286,287,288,289,290,291,292,293,294,295,296,297,298,299,300,301,302,303,304,305,306,307,308,309,310,311,312,313,314,315,316,317,318,319,320,321,322,323,324,325,326,327,328,329,330,331,332,333,334,335,336,337,338,339,340,341,342,343,344,345,346,347,348,349,350,351,352,353,354,355,356,357,358,359,360,361,362,363,364,365,366,367,368,369,370,371,372,373,374,375,376,377,378,379,380,381,382,383,384,385,386,387,388,389,390,391,392,393,394,395,396,397,398,399,400,401,402,403,404,405,406,407,408,409,410,411,412,413,414,415,416,417,418,419,420,421,422,423,424,425,426,427,428,429,430,431,432,433,434,435,436,437,438,439,440,441,442,443,444,445,446,447,448,449,450,451,452,453,454,455,456,457,458,459,460,461,462,463,464,465,466,467,468,469,470,471,472,473,474,475,476,477,478,479,480,481,482,483,484,485,486,487,488,489,490,491,492,493,494,495,496,497,498,499],\"y\":{\"__ndarray__\":\"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\",\"dtype\":\"float32\",\"order\":\"little\",\"shape\":[500]}},\"selected\":{\"id\":\"1071\"},\"selection_policy\":{\"id\":\"1070\"}},\"id\":\"1054\",\"type\":\"ColumnDataSource\"},{\"attributes\":{\"data\":{\"x\":[0,1,2,3,4,5,6,7,8,9,10,11,12,13,14,15,16,17,18,19,20,21,22,23,24,25,26,27,28,29,30,31,32,33,34,35,36,37,38,39,40,41,42,43,44,45,46,47,48,49,50,51,52,53,54,55,56,57,58,59,60,61,62,63,64,65,66,67,68,69,70,71,72,73,74,75,76,77,78,79,80,81,82,83,84,85,86,87,88,89,90,91,92,93,94,95,96,97,98,99,100,101,102,103,104,105,106,107,108,109,110,111,112,113,114,115,116,117,118,119,120,121,122,123,124,125,126,127,128,129,130,131,132,133,134,135,136,137,138,139,140,141,142,143,144,145,146,147,148,149,150,151,152,153,154,155,156,157,158,159,160,161,162,163,164,165,166,167,168,169,170,171,172,173,174,175,176,177,178,179,180,181,182,183,184,185,186,187,188,189,190,191,192,193,194,195,196,197,198,199,200,201,202,203,204,205,206,207,208,209,210,211,212,213,214,215,216,217,218,219,220,221,222,223,224,225,226,227,228,229,230,231,232,233,234,235,236,237,238,239,240,241,242,243,244,245,246,247,248,249,250,251,252,253,254,255,256,257,258,259,260,261,262,263,264,265,266,267,268,269,270,271,272,273,274,275,276,277,278,279,280,281,282,283,284,285,286,287,288,289,290,291,292,293,294,295,296,297,298,299,300,301,302,303,304,305,306,307,308,309,310,311,312,313,314,315,316,317,318,319,320,321,322,323,324,325,326,327,328,329,330,331,332,333,334,335,336,337,338,339,340,341,342,343,344,345,346,347,348,349,350,351,352,353,354,355,356,357,358,359,360,361,362,363,364,365,366,367,368,369,370,371,372,373,374,375,376,377,378,379,380,381,382,383,384,385,386,387,388,389,390,391,392,393,394,395,396,397,398,399,400,401,402,403,404,405,406,407,408,409,410,411,412,413,414,415,416,417,418,419,420,421,422,423,424,425,426,427,428,429,430,431,432,433,434,435,436,437,438,439,440,441,442,443,444,445,446,447,448,449,450,451,452,453,454,455,456,457,458,459,460,461,462,463,464,465,466,467,468,469,470,471,472,473,474,475,476,477,478,479,480,481,482,483,484,485,486,487,488,489,490,491,492,493,494,495,496,497,498,499],\"y\":{\"__ndarray__\":\"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\",\"dtype\":\"float32\",\"order\":\"little\",\"shape\":[500]}},\"selected\":{\"id\":\"1093\"},\"selection_policy\":{\"id\":\"1092\"}},\"id\":\"1074\",\"type\":\"ColumnDataSource\"},{\"attributes\":{},\"id\":\"1070\",\"type\":\"UnionRenderers\"},{\"attributes\":{\"label\":{\"value\":\"Approximation\"},\"renderers\":[{\"id\":\"1058\"}]},\"id\":\"1073\",\"type\":\"LegendItem\"},{\"attributes\":{},\"id\":\"1047\",\"type\":\"BasicTickFormatter\"},{\"attributes\":{},\"id\":\"1044\",\"type\":\"BasicTickFormatter\"},{\"attributes\":{\"line_alpha\":0.2,\"line_color\":\"#1f77b4\",\"line_width\":3,\"x\":{\"field\":\"x\"},\"y\":{\"field\":\"y\"}},\"id\":\"1057\",\"type\":\"Line\"},{\"attributes\":{\"line_alpha\":0.2,\"line_color\":\"#ff7f0e\",\"line_width\":3,\"x\":{\"field\":\"x\"},\"y\":{\"field\":\"y\"}},\"id\":\"1077\",\"type\":\"Line\"},{\"attributes\":{\"label\":{\"value\":\"Init Control\"},\"renderers\":[{\"id\":\"1078\"}]},\"id\":\"1095\",\"type\":\"LegendItem\"},{\"attributes\":{\"line_alpha\":0.1,\"line_color\":\"#1f77b4\",\"line_width\":3,\"x\":{\"field\":\"x\"},\"y\":{\"field\":\"y\"}},\"id\":\"1056\",\"type\":\"Line\"},{\"attributes\":{\"line_alpha\":0.1,\"line_color\":\"#ff7f0e\",\"line_width\":3,\"x\":{\"field\":\"x\"},\"y\":{\"field\":\"y\"}},\"id\":\"1076\",\"type\":\"Line\"},{\"attributes\":{},\"id\":\"1048\",\"type\":\"AllLabels\"},{\"attributes\":{},\"id\":\"1007\",\"type\":\"DataRange1d\"},{\"attributes\":{},\"id\":\"1009\",\"type\":\"LinearScale\"},{\"attributes\":{},\"id\":\"1092\",\"type\":\"UnionRenderers\"}],\"root_ids\":[\"1004\"]},\"title\":\"Bokeh Application\",\"version\":\"2.4.3\"}};\n",
       "  const render_items = [{\"docid\":\"63ac4e7b-82f5-45c1-bed5-662edac32e59\",\"root_ids\":[\"1004\"],\"roots\":{\"1004\":\"f49f0a6a-216e-4493-8c8a-e042af55a0d1\"}}];\n",
       "  root.Bokeh.embed.embed_items_notebook(docs_json, render_items);\n",
       "  }\n",
       "  if (root.Bokeh !== undefined) {\n",
       "    embed_document(root);\n",
       "  } else {\n",
       "    let attempts = 0;\n",
       "    const timer = setInterval(function(root) {\n",
       "      if (root.Bokeh !== undefined) {\n",
       "        clearInterval(timer);\n",
       "        embed_document(root);\n",
       "      } else {\n",
       "        attempts++;\n",
       "        if (attempts > 100) {\n",
       "          clearInterval(timer);\n",
       "          console.log(\"Bokeh: ERROR: Unable to run BokehJS code because BokehJS library is missing\");\n",
       "        }\n",
       "      }\n",
       "    }, 10, root)\n",
       "  }\n",
       "})(window);"
      ],
      "application/vnd.bokehjs_exec.v0+json": ""
     },
     "metadata": {
      "application/vnd.bokehjs_exec.v0+json": {
       "id": "1004"
      }
     },
     "output_type": "display_data"
    }
   ],
   "source": [
    "losses = (loss, Loss_t, Loss_t_control)\n",
    "colors = (Category10[10][0], Category10[10][0], Category10[10][1])\n",
    "legends = (\"Real Non-linear\", \"Approximation\", \"Init Control\")\n",
    "alphas = (0.3, 1, 1)\n",
    "\n",
    "s = plot_lines(iters, losses, legends, alphas, colors)\n",
    "show(s)"
   ]
  },
  {
   "cell_type": "code",
   "execution_count": 19,
   "metadata": {
    "ExecuteTime": {
     "end_time": "2022-10-18T16:34:31.368228Z",
     "start_time": "2022-10-18T16:34:31.365539Z"
    }
   },
   "outputs": [],
   "source": [
    "flat_W_t = np.reshape(weights, (weights.shape[0], -1))\n",
    "flat_eq_W_t = np.reshape(W_t, (W_t.shape[0], -1))\n"
   ]
  },
  {
   "cell_type": "code",
   "execution_count": 20,
   "metadata": {
    "ExecuteTime": {
     "end_time": "2022-10-18T16:34:31.851093Z",
     "start_time": "2022-10-18T16:34:31.370675Z"
    }
   },
   "outputs": [
    {
     "data": {
      "text/html": [
       "\n",
       "  <div class=\"bk-root\" id=\"fac9395c-2ecb-4e4e-a8d4-d5926c40dfec\" data-root-id=\"1186\"></div>\n"
      ]
     },
     "metadata": {},
     "output_type": "display_data"
    },
    {
     "data": {
      "application/javascript": [
       "(function(root) {\n",
       "  function embed_document(root) {\n",
       "  const docs_json = {\"7928370e-e2ae-461d-9e98-238657d91e1b\":{\"defs\":[],\"roots\":{\"references\":[{\"attributes\":{\"below\":[{\"id\":\"1197\"}],\"center\":[{\"id\":\"1200\"},{\"id\":\"1204\"},{\"id\":\"1235\"}],\"left\":[{\"id\":\"1201\"}],\"renderers\":[{\"id\":\"1223\"},{\"id\":\"1241\"}],\"title\":{\"id\":\"1187\"},\"toolbar\":{\"id\":\"1212\"},\"x_range\":{\"id\":\"1189\"},\"x_scale\":{\"id\":\"1193\"},\"y_range\":{\"id\":\"1191\"},\"y_scale\":{\"id\":\"1195\"}},\"id\":\"1186\",\"subtype\":\"Figure\",\"type\":\"Plot\"},{\"attributes\":{\"label\":{\"value\":\"Simulation\"},\"renderers\":[{\"id\":\"1223\"}]},\"id\":\"1236\",\"type\":\"LegendItem\"},{\"attributes\":{},\"id\":\"1205\",\"type\":\"PanTool\"},{\"attributes\":{},\"id\":\"1209\",\"type\":\"ResetTool\"},{\"attributes\":{},\"id\":\"1208\",\"type\":\"SaveTool\"},{\"attributes\":{\"coordinates\":null,\"group\":null,\"text\":\"W\"},\"id\":\"1187\",\"type\":\"Title\"},{\"attributes\":{\"axis\":{\"id\":\"1197\"},\"coordinates\":null,\"group\":null,\"ticker\":null},\"id\":\"1200\",\"type\":\"Grid\"},{\"attributes\":{},\"id\":\"1210\",\"type\":\"HelpTool\"},{\"attributes\":{\"bottom_units\":\"screen\",\"coordinates\":null,\"fill_alpha\":0.5,\"fill_color\":\"lightgrey\",\"group\":null,\"left_units\":\"screen\",\"level\":\"overlay\",\"line_alpha\":1.0,\"line_color\":\"black\",\"line_dash\":[4,4],\"line_width\":2,\"right_units\":\"screen\",\"syncable\":false,\"top_units\":\"screen\"},\"id\":\"1211\",\"type\":\"BoxAnnotation\"},{\"attributes\":{},\"id\":\"1195\",\"type\":\"LinearScale\"},{\"attributes\":{},\"id\":\"1231\",\"type\":\"AllLabels\"},{\"attributes\":{\"axis_label\":\"iters\",\"coordinates\":null,\"formatter\":{\"id\":\"1230\"},\"group\":null,\"major_label_policy\":{\"id\":\"1231\"},\"ticker\":{\"id\":\"1198\"}},\"id\":\"1197\",\"type\":\"LinearAxis\"},{\"attributes\":{},\"id\":\"1233\",\"type\":\"Selection\"},{\"attributes\":{\"axis\":{\"id\":\"1201\"},\"coordinates\":null,\"dimension\":1,\"group\":null,\"ticker\":null},\"id\":\"1204\",\"type\":\"Grid\"},{\"attributes\":{},\"id\":\"1228\",\"type\":\"AllLabels\"},{\"attributes\":{\"axis_label\":\"Weights\",\"coordinates\":null,\"formatter\":{\"id\":\"1227\"},\"group\":null,\"major_label_policy\":{\"id\":\"1228\"},\"ticker\":{\"id\":\"1202\"}},\"id\":\"1201\",\"type\":\"LinearAxis\"},{\"attributes\":{},\"id\":\"1232\",\"type\":\"UnionRenderers\"},{\"attributes\":{},\"id\":\"1206\",\"type\":\"WheelZoomTool\"},{\"attributes\":{},\"id\":\"1193\",\"type\":\"LinearScale\"},{\"attributes\":{},\"id\":\"1202\",\"type\":\"BasicTicker\"},{\"attributes\":{},\"id\":\"1253\",\"type\":\"Selection\"},{\"attributes\":{},\"id\":\"1191\",\"type\":\"DataRange1d\"},{\"attributes\":{\"tools\":[{\"id\":\"1205\"},{\"id\":\"1206\"},{\"id\":\"1207\"},{\"id\":\"1208\"},{\"id\":\"1209\"},{\"id\":\"1210\"}]},\"id\":\"1212\",\"type\":\"Toolbar\"},{\"attributes\":{\"line_alpha\":0.2,\"line_color\":\"#1f77b4\",\"line_dash\":[4,4],\"line_width\":6,\"x\":{\"field\":\"x\"},\"y\":{\"field\":\"y\"}},\"id\":\"1222\",\"type\":\"Line\"},{\"attributes\":{},\"id\":\"1252\",\"type\":\"UnionRenderers\"},{\"attributes\":{\"line_alpha\":0.5,\"line_color\":\"#1f77b4\",\"line_dash\":[4,4],\"line_width\":6,\"x\":{\"field\":\"x\"},\"y\":{\"field\":\"y\"}},\"id\":\"1220\",\"type\":\"Line\"},{\"attributes\":{\"data\":{\"x\":[0,20,40,60,80,100,120,140,160,180,200,220,240,260,280,300,320,340,360,380,400,420,440,460,480],\"y\":{\"__ndarray__\":\"SjoAO8KJIj2/k5c9gt3WPVvQBz6HjiE+j+c4PtDpTT6FJ2E+HHtyPkv+gD6HA4g+EmyOPl0jlD4JSZk+T/KdPjX5oT7u6aU+sWOpPsKCrD5RI68+AqSxPsrEsz6g6LU+g+u3Pg==\",\"dtype\":\"float32\",\"order\":\"little\",\"shape\":[25]}},\"selected\":{\"id\":\"1233\"},\"selection_policy\":{\"id\":\"1232\"}},\"id\":\"1219\",\"type\":\"ColumnDataSource\"},{\"attributes\":{\"coordinates\":null,\"group\":null,\"items\":[{\"id\":\"1236\"},{\"id\":\"1255\"}],\"location\":\"bottom_right\"},\"id\":\"1235\",\"type\":\"Legend\"},{\"attributes\":{\"line_alpha\":0.1,\"line_color\":\"#1f77b4\",\"line_width\":3,\"x\":{\"field\":\"x\"},\"y\":{\"field\":\"y\"}},\"id\":\"1239\",\"type\":\"Line\"},{\"attributes\":{\"source\":{\"id\":\"1219\"}},\"id\":\"1224\",\"type\":\"CDSView\"},{\"attributes\":{\"line_alpha\":0.2,\"line_color\":\"#1f77b4\",\"line_width\":3,\"x\":{\"field\":\"x\"},\"y\":{\"field\":\"y\"}},\"id\":\"1240\",\"type\":\"Line\"},{\"attributes\":{\"overlay\":{\"id\":\"1211\"}},\"id\":\"1207\",\"type\":\"BoxZoomTool\"},{\"attributes\":{},\"id\":\"1227\",\"type\":\"BasicTickFormatter\"},{\"attributes\":{\"label\":{\"value\":\"Equation\"},\"renderers\":[{\"id\":\"1241\"}]},\"id\":\"1255\",\"type\":\"LegendItem\"},{\"attributes\":{\"line_alpha\":0.1,\"line_color\":\"#1f77b4\",\"line_dash\":[4,4],\"line_width\":6,\"x\":{\"field\":\"x\"},\"y\":{\"field\":\"y\"}},\"id\":\"1221\",\"type\":\"Line\"},{\"attributes\":{\"coordinates\":null,\"data_source\":{\"id\":\"1219\"},\"glyph\":{\"id\":\"1220\"},\"group\":null,\"hover_glyph\":null,\"muted_glyph\":{\"id\":\"1222\"},\"nonselection_glyph\":{\"id\":\"1221\"},\"view\":{\"id\":\"1224\"}},\"id\":\"1223\",\"type\":\"GlyphRenderer\"},{\"attributes\":{\"data\":{\"x\":[0,1,2,3,4,5,6,7,8,9,10,11,12,13,14,15,16,17,18,19,20,21,22,23,24,25,26,27,28,29,30,31,32,33,34,35,36,37,38,39,40,41,42,43,44,45,46,47,48,49,50,51,52,53,54,55,56,57,58,59,60,61,62,63,64,65,66,67,68,69,70,71,72,73,74,75,76,77,78,79,80,81,82,83,84,85,86,87,88,89,90,91,92,93,94,95,96,97,98,99,100,101,102,103,104,105,106,107,108,109,110,111,112,113,114,115,116,117,118,119,120,121,122,123,124,125,126,127,128,129,130,131,132,133,134,135,136,137,138,139,140,141,142,143,144,145,146,147,148,149,150,151,152,153,154,155,156,157,158,159,160,161,162,163,164,165,166,167,168,169,170,171,172,173,174,175,176,177,178,179,180,181,182,183,184,185,186,187,188,189,190,191,192,193,194,195,196,197,198,199,200,201,202,203,204,205,206,207,208,209,210,211,212,213,214,215,216,217,218,219,220,221,222,223,224,225,226,227,228,229,230,231,232,233,234,235,236,237,238,239,240,241,242,243,244,245,246,247,248,249,250,251,252,253,254,255,256,257,258,259,260,261,262,263,264,265,266,267,268,269,270,271,272,273,274,275,276,277,278,279,280,281,282,283,284,285,286,287,288,289,290,291,292,293,294,295,296,297,298,299,300,301,302,303,304,305,306,307,308,309,310,311,312,313,314,315,316,317,318,319,320,321,322,323,324,325,326,327,328,329,330,331,332,333,334,335,336,337,338,339,340,341,342,343,344,345,346,347,348,349,350,351,352,353,354,355,356,357,358,359,360,361,362,363,364,365,366,367,368,369,370,371,372,373,374,375,376,377,378,379,380,381,382,383,384,385,386,387,388,389,390,391,392,393,394,395,396,397,398,399,400,401,402,403,404,405,406,407,408,409,410,411,412,413,414,415,416,417,418,419,420,421,422,423,424,425,426,427,428,429,430,431,432,433,434,435,436,437,438,439,440,441,442,443,444,445,446,447,448,449,450,451,452,453,454,455,456,457,458,459,460,461,462,463,464,465,466,467,468,469,470,471,472,473,474,475,476,477,478,479,480,481,482,483,484,485,486,487,488,489,490,491,492,493,494,495,496,497,498,499],\"y\":{\"__ndarray__\":\"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\",\"dtype\":\"float32\",\"order\":\"little\",\"shape\":[500]}},\"selected\":{\"id\":\"1253\"},\"selection_policy\":{\"id\":\"1252\"}},\"id\":\"1237\",\"type\":\"ColumnDataSource\"},{\"attributes\":{},\"id\":\"1189\",\"type\":\"DataRange1d\"},{\"attributes\":{\"coordinates\":null,\"data_source\":{\"id\":\"1237\"},\"glyph\":{\"id\":\"1238\"},\"group\":null,\"hover_glyph\":null,\"muted_glyph\":{\"id\":\"1240\"},\"nonselection_glyph\":{\"id\":\"1239\"},\"view\":{\"id\":\"1242\"}},\"id\":\"1241\",\"type\":\"GlyphRenderer\"},{\"attributes\":{},\"id\":\"1230\",\"type\":\"BasicTickFormatter\"},{\"attributes\":{},\"id\":\"1198\",\"type\":\"BasicTicker\"},{\"attributes\":{\"line_color\":\"#1f77b4\",\"line_width\":3,\"x\":{\"field\":\"x\"},\"y\":{\"field\":\"y\"}},\"id\":\"1238\",\"type\":\"Line\"},{\"attributes\":{\"source\":{\"id\":\"1237\"}},\"id\":\"1242\",\"type\":\"CDSView\"}],\"root_ids\":[\"1186\"]},\"title\":\"Bokeh Application\",\"version\":\"2.4.3\"}};\n",
       "  const render_items = [{\"docid\":\"7928370e-e2ae-461d-9e98-238657d91e1b\",\"root_ids\":[\"1186\"],\"roots\":{\"1186\":\"fac9395c-2ecb-4e4e-a8d4-d5926c40dfec\"}}];\n",
       "  root.Bokeh.embed.embed_items_notebook(docs_json, render_items);\n",
       "  }\n",
       "  if (root.Bokeh !== undefined) {\n",
       "    embed_document(root);\n",
       "  } else {\n",
       "    let attempts = 0;\n",
       "    const timer = setInterval(function(root) {\n",
       "      if (root.Bokeh !== undefined) {\n",
       "        clearInterval(timer);\n",
       "        embed_document(root);\n",
       "      } else {\n",
       "        attempts++;\n",
       "        if (attempts > 100) {\n",
       "          clearInterval(timer);\n",
       "          console.log(\"Bokeh: ERROR: Unable to run BokehJS code because BokehJS library is missing\");\n",
       "        }\n",
       "      }\n",
       "    }, 10, root)\n",
       "  }\n",
       "})(window);"
      ],
      "application/vnd.bokehjs_exec.v0+json": ""
     },
     "metadata": {
      "application/vnd.bokehjs_exec.v0+json": {
       "id": "1186"
      }
     },
     "output_type": "display_data"
    }
   ],
   "source": [
    "weight_plot = plot_weight_ev(flat_W_t, flat_eq_W_t, iters=weights_iter, iters_set2=iters, title=\"W\")\n",
    "show(weight_plot)"
   ]
  },
  {
   "cell_type": "markdown",
   "metadata": {
    "ExecuteTime": {
     "end_time": "2022-10-11T16:47:21.704342Z",
     "start_time": "2022-10-11T16:47:21.700812Z"
    }
   },
   "source": [
    "## Optimizing control signal"
   ]
  },
  {
   "cell_type": "code",
   "execution_count": 21,
   "metadata": {
    "ExecuteTime": {
     "end_time": "2022-10-18T16:34:31.855800Z",
     "start_time": "2022-10-18T16:34:31.852910Z"
    }
   },
   "outputs": [],
   "source": [
    "iter_control = 700\n",
    "control_params[\"iters_control\"] = iter_control\n",
    "cumulated_reward = []"
   ]
  },
  {
   "cell_type": "code",
   "execution_count": 22,
   "metadata": {
    "ExecuteTime": {
     "end_time": "2022-10-18T16:37:11.352104Z",
     "start_time": "2022-10-18T16:34:31.858273Z"
    },
    "scrolled": true
   },
   "outputs": [
    {
     "name": "stderr",
     "output_type": "stream",
     "text": [
      "100%|████████████████████████████████████████████████████████████████████████████████████████████████████████████████████████████████████████████████████████████████████████████| 700/700 [01:39<00:00,  7.05it/s]\n"
     ]
    }
   ],
   "source": [
    "for i in tqdm(range(iter_control)):\n",
    "    R = control.train_step(get_numpy=True)\n",
    "    # print(\"cumulated reward:\", R)\n",
    "    cumulated_reward.append(R)\n",
    "cumulated_reward = np.array(cumulated_reward).astype(float)\n",
    "results_dict[\"cumulated_reward_opt\"] = cumulated_reward"
   ]
  },
  {
   "cell_type": "code",
   "execution_count": 23,
   "metadata": {
    "ExecuteTime": {
     "end_time": "2022-10-18T16:37:11.430746Z",
     "start_time": "2022-10-18T16:37:11.353022Z"
    }
   },
   "outputs": [
    {
     "data": {
      "text/html": [
       "\n",
       "  <div class=\"bk-root\" id=\"0f27ed5e-f4d3-4737-b351-3f9b6057ae1d\" data-root-id=\"1343\"></div>\n"
      ]
     },
     "metadata": {},
     "output_type": "display_data"
    },
    {
     "data": {
      "application/javascript": [
       "(function(root) {\n",
       "  function embed_document(root) {\n",
       "  const docs_json = {\"aeec67b4-263e-488c-bb29-028a7bbdee01\":{\"defs\":[],\"roots\":{\"references\":[{\"attributes\":{\"below\":[{\"id\":\"1352\"}],\"center\":[{\"id\":\"1355\"},{\"id\":\"1359\"},{\"id\":\"1391\"}],\"height\":500,\"left\":[{\"id\":\"1356\"}],\"renderers\":[{\"id\":\"1378\"}],\"title\":{\"id\":\"1380\"},\"toolbar\":{\"id\":\"1367\"},\"width\":800,\"x_range\":{\"id\":\"1344\"},\"x_scale\":{\"id\":\"1348\"},\"y_range\":{\"id\":\"1346\"},\"y_scale\":{\"id\":\"1350\"}},\"id\":\"1343\",\"subtype\":\"Figure\",\"type\":\"Plot\"},{\"attributes\":{},\"id\":\"1365\",\"type\":\"HelpTool\"},{\"attributes\":{},\"id\":\"1348\",\"type\":\"LinearScale\"},{\"attributes\":{},\"id\":\"1360\",\"type\":\"PanTool\"},{\"attributes\":{\"axis_label\":\"gradient steps on control\",\"coordinates\":null,\"formatter\":{\"id\":\"1386\"},\"group\":null,\"major_label_policy\":{\"id\":\"1387\"},\"ticker\":{\"id\":\"1353\"}},\"id\":\"1352\",\"type\":\"LinearAxis\"},{\"attributes\":{},\"id\":\"1363\",\"type\":\"SaveTool\"},{\"attributes\":{},\"id\":\"1364\",\"type\":\"ResetTool\"},{\"attributes\":{},\"id\":\"1387\",\"type\":\"AllLabels\"},{\"attributes\":{},\"id\":\"1384\",\"type\":\"AllLabels\"},{\"attributes\":{\"overlay\":{\"id\":\"1366\"}},\"id\":\"1362\",\"type\":\"BoxZoomTool\"},{\"attributes\":{},\"id\":\"1386\",\"type\":\"BasicTickFormatter\"},{\"attributes\":{\"axis_label\":\"Cumulated reward\",\"coordinates\":null,\"formatter\":{\"id\":\"1383\"},\"group\":null,\"major_label_policy\":{\"id\":\"1384\"},\"ticker\":{\"id\":\"1357\"}},\"id\":\"1356\",\"type\":\"LinearAxis\"},{\"attributes\":{\"bottom_units\":\"screen\",\"coordinates\":null,\"fill_alpha\":0.5,\"fill_color\":\"lightgrey\",\"group\":null,\"left_units\":\"screen\",\"level\":\"overlay\",\"line_alpha\":1.0,\"line_color\":\"black\",\"line_dash\":[4,4],\"line_width\":2,\"right_units\":\"screen\",\"syncable\":false,\"top_units\":\"screen\"},\"id\":\"1366\",\"type\":\"BoxAnnotation\"},{\"attributes\":{},\"id\":\"1383\",\"type\":\"BasicTickFormatter\"},{\"attributes\":{\"tools\":[{\"id\":\"1360\"},{\"id\":\"1361\"},{\"id\":\"1362\"},{\"id\":\"1363\"},{\"id\":\"1364\"},{\"id\":\"1365\"}]},\"id\":\"1367\",\"type\":\"Toolbar\"},{\"attributes\":{\"source\":{\"id\":\"1374\"}},\"id\":\"1379\",\"type\":\"CDSView\"},{\"attributes\":{\"coordinates\":null,\"group\":null,\"items\":[{\"id\":\"1392\"}]},\"id\":\"1391\",\"type\":\"Legend\"},{\"attributes\":{\"label\":{\"value\":\"\"},\"renderers\":[{\"id\":\"1378\"}]},\"id\":\"1392\",\"type\":\"LegendItem\"},{\"attributes\":{\"coordinates\":null,\"data_source\":{\"id\":\"1374\"},\"glyph\":{\"id\":\"1375\"},\"group\":null,\"hover_glyph\":null,\"muted_glyph\":{\"id\":\"1377\"},\"nonselection_glyph\":{\"id\":\"1376\"},\"view\":{\"id\":\"1379\"}},\"id\":\"1378\",\"type\":\"GlyphRenderer\"},{\"attributes\":{},\"id\":\"1388\",\"type\":\"UnionRenderers\"},{\"attributes\":{\"line_alpha\":0.2,\"line_color\":\"#1f77b4\",\"line_width\":3,\"x\":{\"field\":\"x\"},\"y\":{\"field\":\"y\"}},\"id\":\"1377\",\"type\":\"Line\"},{\"attributes\":{\"line_alpha\":0.1,\"line_color\":\"#1f77b4\",\"line_width\":3,\"x\":{\"field\":\"x\"},\"y\":{\"field\":\"y\"}},\"id\":\"1376\",\"type\":\"Line\"},{\"attributes\":{\"coordinates\":null,\"group\":null},\"id\":\"1380\",\"type\":\"Title\"},{\"attributes\":{},\"id\":\"1353\",\"type\":\"BasicTicker\"},{\"attributes\":{},\"id\":\"1389\",\"type\":\"Selection\"},{\"attributes\":{},\"id\":\"1361\",\"type\":\"WheelZoomTool\"},{\"attributes\":{\"axis\":{\"id\":\"1352\"},\"coordinates\":null,\"group\":null,\"ticker\":null},\"id\":\"1355\",\"type\":\"Grid\"},{\"attributes\":{\"line_color\":\"#1f77b4\",\"line_width\":3,\"x\":{\"field\":\"x\"},\"y\":{\"field\":\"y\"}},\"id\":\"1375\",\"type\":\"Line\"},{\"attributes\":{},\"id\":\"1350\",\"type\":\"LinearScale\"},{\"attributes\":{},\"id\":\"1344\",\"type\":\"DataRange1d\"},{\"attributes\":{\"data\":{\"x\":[0,1,2,3,4,5,6,7,8,9,10,11,12,13,14,15,16,17,18,19,20,21,22,23,24,25,26,27,28,29,30,31,32,33,34,35,36,37,38,39,40,41,42,43,44,45,46,47,48,49,50,51,52,53,54,55,56,57,58,59,60,61,62,63,64,65,66,67,68,69,70,71,72,73,74,75,76,77,78,79,80,81,82,83,84,85,86,87,88,89,90,91,92,93,94,95,96,97,98,99,100,101,102,103,104,105,106,107,108,109,110,111,112,113,114,115,116,117,118,119,120,121,122,123,124,125,126,127,128,129,130,131,132,133,134,135,136,137,138,139,140,141,142,143,144,145,146,147,148,149,150,151,152,153,154,155,156,157,158,159,160,161,162,163,164,165,166,167,168,169,170,171,172,173,174,175,176,177,178,179,180,181,182,183,184,185,186,187,188,189,190,191,192,193,194,195,196,197,198,199,200,201,202,203,204,205,206,207,208,209,210,211,212,213,214,215,216,217,218,219,220,221,222,223,224,225,226,227,228,229,230,231,232,233,234,235,236,237,238,239,240,241,242,243,244,245,246,247,248,249,250,251,252,253,254,255,256,257,258,259,260,261,262,263,264,265,266,267,268,269,270,271,272,273,274,275,276,277,278,279,280,281,282,283,284,285,286,287,288,289,290,291,292,293,294,295,296,297,298,299,300,301,302,303,304,305,306,307,308,309,310,311,312,313,314,315,316,317,318,319,320,321,322,323,324,325,326,327,328,329,330,331,332,333,334,335,336,337,338,339,340,341,342,343,344,345,346,347,348,349,350,351,352,353,354,355,356,357,358,359,360,361,362,363,364,365,366,367,368,369,370,371,372,373,374,375,376,377,378,379,380,381,382,383,384,385,386,387,388,389,390,391,392,393,394,395,396,397,398,399,400,401,402,403,404,405,406,407,408,409,410,411,412,413,414,415,416,417,418,419,420,421,422,423,424,425,426,427,428,429,430,431,432,433,434,435,436,437,438,439,440,441,442,443,444,445,446,447,448,449,450,451,452,453,454,455,456,457,458,459,460,461,462,463,464,465,466,467,468,469,470,471,472,473,474,475,476,477,478,479,480,481,482,483,484,485,486,487,488,489,490,491,492,493,494,495,496,497,498,499,500,501,502,503,504,505,506,507,508,509,510,511,512,513,514,515,516,517,518,519,520,521,522,523,524,525,526,527,528,529,530,531,532,533,534,535,536,537,538,539,540,541,542,543,544,545,546,547,548,549,550,551,552,553,554,555,556,557,558,559,560,561,562,563,564,565,566,567,568,569,570,571,572,573,574,575,576,577,578,579,580,581,582,583,584,585,586,587,588,589,590,591,592,593,594,595,596,597,598,599,600,601,602,603,604,605,606,607,608,609,610,611,612,613,614,615,616,617,618,619,620,621,622,623,624,625,626,627,628,629,630,631,632,633,634,635,636,637,638,639,640,641,642,643,644,645,646,647,648,649,650,651,652,653,654,655,656,657,658,659,660,661,662,663,664,665,666,667,668,669,670,671,672,673,674,675,676,677,678,679,680,681,682,683,684,685,686,687,688,689,690,691,692,693,694,695,696,697,698,699],\"y\":{\"__ndarray__\":\"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\",\"dtype\":\"float64\",\"order\":\"little\",\"shape\":[700]}},\"selected\":{\"id\":\"1389\"},\"selection_policy\":{\"id\":\"1388\"}},\"id\":\"1374\",\"type\":\"ColumnDataSource\"},{\"attributes\":{},\"id\":\"1346\",\"type\":\"DataRange1d\"},{\"attributes\":{\"axis\":{\"id\":\"1356\"},\"coordinates\":null,\"dimension\":1,\"group\":null,\"ticker\":null},\"id\":\"1359\",\"type\":\"Grid\"},{\"attributes\":{},\"id\":\"1357\",\"type\":\"BasicTicker\"}],\"root_ids\":[\"1343\"]},\"title\":\"Bokeh Application\",\"version\":\"2.4.3\"}};\n",
       "  const render_items = [{\"docid\":\"aeec67b4-263e-488c-bb29-028a7bbdee01\",\"root_ids\":[\"1343\"],\"roots\":{\"1343\":\"0f27ed5e-f4d3-4737-b351-3f9b6057ae1d\"}}];\n",
       "  root.Bokeh.embed.embed_items_notebook(docs_json, render_items);\n",
       "  }\n",
       "  if (root.Bokeh !== undefined) {\n",
       "    embed_document(root);\n",
       "  } else {\n",
       "    let attempts = 0;\n",
       "    const timer = setInterval(function(root) {\n",
       "      if (root.Bokeh !== undefined) {\n",
       "        clearInterval(timer);\n",
       "        embed_document(root);\n",
       "      } else {\n",
       "        attempts++;\n",
       "        if (attempts > 100) {\n",
       "          clearInterval(timer);\n",
       "          console.log(\"Bokeh: ERROR: Unable to run BokehJS code because BokehJS library is missing\");\n",
       "        }\n",
       "      }\n",
       "    }, 10, root)\n",
       "  }\n",
       "})(window);"
      ],
      "application/vnd.bokehjs_exec.v0+json": ""
     },
     "metadata": {
      "application/vnd.bokehjs_exec.v0+json": {
       "id": "1343"
      }
     },
     "output_type": "display_data"
    }
   ],
   "source": [
    "opt = plot_lines(np.arange(iter_control), (cumulated_reward,), x_axis_label=\"gradient steps on control\", y_axis_label=\"Cumulated reward\")\n",
    "show(opt)"
   ]
  },
  {
   "cell_type": "code",
   "execution_count": 24,
   "metadata": {
    "ExecuteTime": {
     "end_time": "2022-10-18T16:37:12.615333Z",
     "start_time": "2022-10-18T16:37:11.431665Z"
    }
   },
   "outputs": [],
   "source": [
    "W_t_opt = control.get_weights(time_span, get_numpy=True)\n",
    "Loss_t_opt = control.get_loss_function(W_t_opt, get_numpy=True)\n",
    "\n",
    "results_dict[\"W_t_control_opt\"] = W_t_opt\n",
    "results_dict[\"Loss_t_control_opt\"] = Loss_t_opt"
   ]
  },
  {
   "cell_type": "code",
   "execution_count": 25,
   "metadata": {
    "ExecuteTime": {
     "end_time": "2022-10-18T16:37:12.723992Z",
     "start_time": "2022-10-18T16:37:12.616336Z"
    }
   },
   "outputs": [
    {
     "data": {
      "text/html": [
       "\n",
       "  <div class=\"bk-root\" id=\"46933027-29ae-4dba-b509-05a343469cdb\" data-root-id=\"1486\"></div>\n"
      ]
     },
     "metadata": {},
     "output_type": "display_data"
    },
    {
     "data": {
      "application/javascript": [
       "(function(root) {\n",
       "  function embed_document(root) {\n",
       "  const docs_json = {\"ec6efcb2-035d-4bec-abab-3680df7cdec4\":{\"defs\":[],\"roots\":{\"references\":[{\"attributes\":{\"below\":[{\"id\":\"1495\"}],\"center\":[{\"id\":\"1498\"},{\"id\":\"1502\"},{\"id\":\"1534\"}],\"height\":500,\"left\":[{\"id\":\"1499\"}],\"renderers\":[{\"id\":\"1521\"},{\"id\":\"1540\"},{\"id\":\"1560\"}],\"title\":{\"id\":\"1523\"},\"toolbar\":{\"id\":\"1510\"},\"width\":800,\"x_range\":{\"id\":\"1487\"},\"x_scale\":{\"id\":\"1491\"},\"y_range\":{\"id\":\"1489\"},\"y_scale\":{\"id\":\"1493\"}},\"id\":\"1486\",\"subtype\":\"Figure\",\"type\":\"Plot\"},{\"attributes\":{},\"id\":\"1491\",\"type\":\"LinearScale\"},{\"attributes\":{},\"id\":\"1503\",\"type\":\"PanTool\"},{\"attributes\":{},\"id\":\"1529\",\"type\":\"BasicTickFormatter\"},{\"attributes\":{},\"id\":\"1530\",\"type\":\"AllLabels\"},{\"attributes\":{\"coordinates\":null,\"data_source\":{\"id\":\"1517\"},\"glyph\":{\"id\":\"1518\"},\"group\":null,\"hover_glyph\":null,\"muted_glyph\":{\"id\":\"1520\"},\"nonselection_glyph\":{\"id\":\"1519\"},\"view\":{\"id\":\"1522\"}},\"id\":\"1521\",\"type\":\"GlyphRenderer\"},{\"attributes\":{\"line_color\":\"#ff7f0e\",\"line_width\":3,\"x\":{\"field\":\"x\"},\"y\":{\"field\":\"y\"}},\"id\":\"1557\",\"type\":\"Line\"},{\"attributes\":{\"data\":{\"x\":[0,1,2,3,4,5,6,7,8,9,10,11,12,13,14,15,16,17,18,19,20,21,22,23,24,25,26,27,28,29,30,31,32,33,34,35,36,37,38,39,40,41,42,43,44,45,46,47,48,49,50,51,52,53,54,55,56,57,58,59,60,61,62,63,64,65,66,67,68,69,70,71,72,73,74,75,76,77,78,79,80,81,82,83,84,85,86,87,88,89,90,91,92,93,94,95,96,97,98,99,100,101,102,103,104,105,106,107,108,109,110,111,112,113,114,115,116,117,118,119,120,121,122,123,124,125,126,127,128,129,130,131,132,133,134,135,136,137,138,139,140,141,142,143,144,145,146,147,148,149,150,151,152,153,154,155,156,157,158,159,160,161,162,163,164,165,166,167,168,169,170,171,172,173,174,175,176,177,178,179,180,181,182,183,184,185,186,187,188,189,190,191,192,193,194,195,196,197,198,199,200,201,202,203,204,205,206,207,208,209,210,211,212,213,214,215,216,217,218,219,220,221,222,223,224,225,226,227,228,229,230,231,232,233,234,235,236,237,238,239,240,241,242,243,244,245,246,247,248,249,250,251,252,253,254,255,256,257,258,259,260,261,262,263,264,265,266,267,268,269,270,271,272,273,274,275,276,277,278,279,280,281,282,283,284,285,286,287,288,289,290,291,292,293,294,295,296,297,298,299,300,301,302,303,304,305,306,307,308,309,310,311,312,313,314,315,316,317,318,319,320,321,322,323,324,325,326,327,328,329,330,331,332,333,334,335,336,337,338,339,340,341,342,343,344,345,346,347,348,349,350,351,352,353,354,355,356,357,358,359,360,361,362,363,364,365,366,367,368,369,370,371,372,373,374,375,376,377,378,379,380,381,382,383,384,385,386,387,388,389,390,391,392,393,394,395,396,397,398,399,400,401,402,403,404,405,406,407,408,409,410,411,412,413,414,415,416,417,418,419,420,421,422,423,424,425,426,427,428,429,430,431,432,433,434,435,436,437,438,439,440,441,442,443,444,445,446,447,448,449,450,451,452,453,454,455,456,457,458,459,460,461,462,463,464,465,466,467,468,469,470,471,472,473,474,475,476,477,478,479,480,481,482,483,484,485,486,487,488,489,490,491,492,493,494,495,496,497,498,499],\"y\":{\"__ndarray__\":\"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\",\"dtype\":\"float32\",\"order\":\"little\",\"shape\":[500]}},\"selected\":{\"id\":\"1532\"},\"selection_policy\":{\"id\":\"1531\"}},\"id\":\"1517\",\"type\":\"ColumnDataSource\"},{\"attributes\":{},\"id\":\"1527\",\"type\":\"AllLabels\"},{\"attributes\":{},\"id\":\"1532\",\"type\":\"Selection\"},{\"attributes\":{\"axis\":{\"id\":\"1499\"},\"coordinates\":null,\"dimension\":1,\"group\":null,\"ticker\":null},\"id\":\"1502\",\"type\":\"Grid\"},{\"attributes\":{\"line_alpha\":0.2,\"line_color\":\"#1f77b4\",\"line_width\":3,\"x\":{\"field\":\"x\"},\"y\":{\"field\":\"y\"}},\"id\":\"1520\",\"type\":\"Line\"},{\"attributes\":{\"axis\":{\"id\":\"1495\"},\"coordinates\":null,\"group\":null,\"ticker\":null},\"id\":\"1498\",\"type\":\"Grid\"},{\"attributes\":{\"label\":{\"value\":\"Approximation\"},\"renderers\":[{\"id\":\"1540\"}]},\"id\":\"1555\",\"type\":\"LegendItem\"},{\"attributes\":{\"label\":{\"value\":\"Real Non-linear\"},\"renderers\":[{\"id\":\"1521\"}]},\"id\":\"1535\",\"type\":\"LegendItem\"},{\"attributes\":{\"bottom_units\":\"screen\",\"coordinates\":null,\"fill_alpha\":0.5,\"fill_color\":\"lightgrey\",\"group\":null,\"left_units\":\"screen\",\"level\":\"overlay\",\"line_alpha\":1.0,\"line_color\":\"black\",\"line_dash\":[4,4],\"line_width\":2,\"right_units\":\"screen\",\"syncable\":false,\"top_units\":\"screen\"},\"id\":\"1509\",\"type\":\"BoxAnnotation\"},{\"attributes\":{\"data\":{\"x\":[0,1,2,3,4,5,6,7,8,9,10,11,12,13,14,15,16,17,18,19,20,21,22,23,24,25,26,27,28,29,30,31,32,33,34,35,36,37,38,39,40,41,42,43,44,45,46,47,48,49,50,51,52,53,54,55,56,57,58,59,60,61,62,63,64,65,66,67,68,69,70,71,72,73,74,75,76,77,78,79,80,81,82,83,84,85,86,87,88,89,90,91,92,93,94,95,96,97,98,99,100,101,102,103,104,105,106,107,108,109,110,111,112,113,114,115,116,117,118,119,120,121,122,123,124,125,126,127,128,129,130,131,132,133,134,135,136,137,138,139,140,141,142,143,144,145,146,147,148,149,150,151,152,153,154,155,156,157,158,159,160,161,162,163,164,165,166,167,168,169,170,171,172,173,174,175,176,177,178,179,180,181,182,183,184,185,186,187,188,189,190,191,192,193,194,195,196,197,198,199,200,201,202,203,204,205,206,207,208,209,210,211,212,213,214,215,216,217,218,219,220,221,222,223,224,225,226,227,228,229,230,231,232,233,234,235,236,237,238,239,240,241,242,243,244,245,246,247,248,249,250,251,252,253,254,255,256,257,258,259,260,261,262,263,264,265,266,267,268,269,270,271,272,273,274,275,276,277,278,279,280,281,282,283,284,285,286,287,288,289,290,291,292,293,294,295,296,297,298,299,300,301,302,303,304,305,306,307,308,309,310,311,312,313,314,315,316,317,318,319,320,321,322,323,324,325,326,327,328,329,330,331,332,333,334,335,336,337,338,339,340,341,342,343,344,345,346,347,348,349,350,351,352,353,354,355,356,357,358,359,360,361,362,363,364,365,366,367,368,369,370,371,372,373,374,375,376,377,378,379,380,381,382,383,384,385,386,387,388,389,390,391,392,393,394,395,396,397,398,399,400,401,402,403,404,405,406,407,408,409,410,411,412,413,414,415,416,417,418,419,420,421,422,423,424,425,426,427,428,429,430,431,432,433,434,435,436,437,438,439,440,441,442,443,444,445,446,447,448,449,450,451,452,453,454,455,456,457,458,459,460,461,462,463,464,465,466,467,468,469,470,471,472,473,474,475,476,477,478,479,480,481,482,483,484,485,486,487,488,489,490,491,492,493,494,495,496,497,498,499],\"y\":{\"__ndarray__\":\"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\",\"dtype\":\"float32\",\"order\":\"little\",\"shape\":[500]}},\"selected\":{\"id\":\"1553\"},\"selection_policy\":{\"id\":\"1552\"}},\"id\":\"1536\",\"type\":\"ColumnDataSource\"},{\"attributes\":{\"source\":{\"id\":\"1517\"}},\"id\":\"1522\",\"type\":\"CDSView\"},{\"attributes\":{\"line_alpha\":0.1,\"line_color\":\"#1f77b4\",\"line_width\":3,\"x\":{\"field\":\"x\"},\"y\":{\"field\":\"y\"}},\"id\":\"1519\",\"type\":\"Line\"},{\"attributes\":{},\"id\":\"1500\",\"type\":\"BasicTicker\"},{\"attributes\":{\"line_alpha\":0.2,\"line_color\":\"#1f77b4\",\"line_width\":3,\"x\":{\"field\":\"x\"},\"y\":{\"field\":\"y\"}},\"id\":\"1539\",\"type\":\"Line\"},{\"attributes\":{\"coordinates\":null,\"group\":null,\"items\":[{\"id\":\"1535\"},{\"id\":\"1555\"},{\"id\":\"1577\"}]},\"id\":\"1534\",\"type\":\"Legend\"},{\"attributes\":{\"tools\":[{\"id\":\"1503\"},{\"id\":\"1504\"},{\"id\":\"1505\"},{\"id\":\"1506\"},{\"id\":\"1507\"},{\"id\":\"1508\"}]},\"id\":\"1510\",\"type\":\"Toolbar\"},{\"attributes\":{},\"id\":\"1531\",\"type\":\"UnionRenderers\"},{\"attributes\":{},\"id\":\"1504\",\"type\":\"WheelZoomTool\"},{\"attributes\":{\"coordinates\":null,\"group\":null},\"id\":\"1523\",\"type\":\"Title\"},{\"attributes\":{},\"id\":\"1506\",\"type\":\"SaveTool\"},{\"attributes\":{\"coordinates\":null,\"data_source\":{\"id\":\"1556\"},\"glyph\":{\"id\":\"1557\"},\"group\":null,\"hover_glyph\":null,\"muted_glyph\":{\"id\":\"1559\"},\"nonselection_glyph\":{\"id\":\"1558\"},\"view\":{\"id\":\"1561\"}},\"id\":\"1560\",\"type\":\"GlyphRenderer\"},{\"attributes\":{\"axis_label\":\"Loss\",\"coordinates\":null,\"formatter\":{\"id\":\"1526\"},\"group\":null,\"major_label_policy\":{\"id\":\"1527\"},\"ticker\":{\"id\":\"1500\"}},\"id\":\"1499\",\"type\":\"LinearAxis\"},{\"attributes\":{\"label\":{\"value\":\"Approximated Optimized Control\"},\"renderers\":[{\"id\":\"1560\"}]},\"id\":\"1577\",\"type\":\"LegendItem\"},{\"attributes\":{\"data\":{\"x\":[0,1,2,3,4,5,6,7,8,9,10,11,12,13,14,15,16,17,18,19,20,21,22,23,24,25,26,27,28,29,30,31,32,33,34,35,36,37,38,39,40,41,42,43,44,45,46,47,48,49,50,51,52,53,54,55,56,57,58,59,60,61,62,63,64,65,66,67,68,69,70,71,72,73,74,75,76,77,78,79,80,81,82,83,84,85,86,87,88,89,90,91,92,93,94,95,96,97,98,99,100,101,102,103,104,105,106,107,108,109,110,111,112,113,114,115,116,117,118,119,120,121,122,123,124,125,126,127,128,129,130,131,132,133,134,135,136,137,138,139,140,141,142,143,144,145,146,147,148,149,150,151,152,153,154,155,156,157,158,159,160,161,162,163,164,165,166,167,168,169,170,171,172,173,174,175,176,177,178,179,180,181,182,183,184,185,186,187,188,189,190,191,192,193,194,195,196,197,198,199,200,201,202,203,204,205,206,207,208,209,210,211,212,213,214,215,216,217,218,219,220,221,222,223,224,225,226,227,228,229,230,231,232,233,234,235,236,237,238,239,240,241,242,243,244,245,246,247,248,249,250,251,252,253,254,255,256,257,258,259,260,261,262,263,264,265,266,267,268,269,270,271,272,273,274,275,276,277,278,279,280,281,282,283,284,285,286,287,288,289,290,291,292,293,294,295,296,297,298,299,300,301,302,303,304,305,306,307,308,309,310,311,312,313,314,315,316,317,318,319,320,321,322,323,324,325,326,327,328,329,330,331,332,333,334,335,336,337,338,339,340,341,342,343,344,345,346,347,348,349,350,351,352,353,354,355,356,357,358,359,360,361,362,363,364,365,366,367,368,369,370,371,372,373,374,375,376,377,378,379,380,381,382,383,384,385,386,387,388,389,390,391,392,393,394,395,396,397,398,399,400,401,402,403,404,405,406,407,408,409,410,411,412,413,414,415,416,417,418,419,420,421,422,423,424,425,426,427,428,429,430,431,432,433,434,435,436,437,438,439,440,441,442,443,444,445,446,447,448,449,450,451,452,453,454,455,456,457,458,459,460,461,462,463,464,465,466,467,468,469,470,471,472,473,474,475,476,477,478,479,480,481,482,483,484,485,486,487,488,489,490,491,492,493,494,495,496,497,498,499],\"y\":{\"__ndarray__\":\"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\",\"dtype\":\"float32\",\"order\":\"little\",\"shape\":[500]}},\"selected\":{\"id\":\"1575\"},\"selection_policy\":{\"id\":\"1574\"}},\"id\":\"1556\",\"type\":\"ColumnDataSource\"},{\"attributes\":{},\"id\":\"1575\",\"type\":\"Selection\"},{\"attributes\":{},\"id\":\"1508\",\"type\":\"HelpTool\"},{\"attributes\":{\"overlay\":{\"id\":\"1509\"}},\"id\":\"1505\",\"type\":\"BoxZoomTool\"},{\"attributes\":{\"line_alpha\":0.1,\"line_color\":\"#1f77b4\",\"line_width\":3,\"x\":{\"field\":\"x\"},\"y\":{\"field\":\"y\"}},\"id\":\"1538\",\"type\":\"Line\"},{\"attributes\":{},\"id\":\"1574\",\"type\":\"UnionRenderers\"},{\"attributes\":{},\"id\":\"1487\",\"type\":\"DataRange1d\"},{\"attributes\":{\"axis_label\":\"iters\",\"coordinates\":null,\"formatter\":{\"id\":\"1529\"},\"group\":null,\"major_label_policy\":{\"id\":\"1530\"},\"ticker\":{\"id\":\"1496\"}},\"id\":\"1495\",\"type\":\"LinearAxis\"},{\"attributes\":{},\"id\":\"1553\",\"type\":\"Selection\"},{\"attributes\":{\"source\":{\"id\":\"1536\"}},\"id\":\"1541\",\"type\":\"CDSView\"},{\"attributes\":{\"source\":{\"id\":\"1556\"}},\"id\":\"1561\",\"type\":\"CDSView\"},{\"attributes\":{},\"id\":\"1552\",\"type\":\"UnionRenderers\"},{\"attributes\":{},\"id\":\"1507\",\"type\":\"ResetTool\"},{\"attributes\":{\"line_alpha\":0.3,\"line_color\":\"#1f77b4\",\"line_width\":3,\"x\":{\"field\":\"x\"},\"y\":{\"field\":\"y\"}},\"id\":\"1518\",\"type\":\"Line\"},{\"attributes\":{},\"id\":\"1489\",\"type\":\"DataRange1d\"},{\"attributes\":{\"line_color\":\"#1f77b4\",\"line_width\":3,\"x\":{\"field\":\"x\"},\"y\":{\"field\":\"y\"}},\"id\":\"1537\",\"type\":\"Line\"},{\"attributes\":{},\"id\":\"1493\",\"type\":\"LinearScale\"},{\"attributes\":{\"line_alpha\":0.2,\"line_color\":\"#ff7f0e\",\"line_width\":3,\"x\":{\"field\":\"x\"},\"y\":{\"field\":\"y\"}},\"id\":\"1559\",\"type\":\"Line\"},{\"attributes\":{\"coordinates\":null,\"data_source\":{\"id\":\"1536\"},\"glyph\":{\"id\":\"1537\"},\"group\":null,\"hover_glyph\":null,\"muted_glyph\":{\"id\":\"1539\"},\"nonselection_glyph\":{\"id\":\"1538\"},\"view\":{\"id\":\"1541\"}},\"id\":\"1540\",\"type\":\"GlyphRenderer\"},{\"attributes\":{\"line_alpha\":0.1,\"line_color\":\"#ff7f0e\",\"line_width\":3,\"x\":{\"field\":\"x\"},\"y\":{\"field\":\"y\"}},\"id\":\"1558\",\"type\":\"Line\"},{\"attributes\":{},\"id\":\"1526\",\"type\":\"BasicTickFormatter\"},{\"attributes\":{},\"id\":\"1496\",\"type\":\"BasicTicker\"}],\"root_ids\":[\"1486\"]},\"title\":\"Bokeh Application\",\"version\":\"2.4.3\"}};\n",
       "  const render_items = [{\"docid\":\"ec6efcb2-035d-4bec-abab-3680df7cdec4\",\"root_ids\":[\"1486\"],\"roots\":{\"1486\":\"46933027-29ae-4dba-b509-05a343469cdb\"}}];\n",
       "  root.Bokeh.embed.embed_items_notebook(docs_json, render_items);\n",
       "  }\n",
       "  if (root.Bokeh !== undefined) {\n",
       "    embed_document(root);\n",
       "  } else {\n",
       "    let attempts = 0;\n",
       "    const timer = setInterval(function(root) {\n",
       "      if (root.Bokeh !== undefined) {\n",
       "        clearInterval(timer);\n",
       "        embed_document(root);\n",
       "      } else {\n",
       "        attempts++;\n",
       "        if (attempts > 100) {\n",
       "          clearInterval(timer);\n",
       "          console.log(\"Bokeh: ERROR: Unable to run BokehJS code because BokehJS library is missing\");\n",
       "        }\n",
       "      }\n",
       "    }, 10, root)\n",
       "  }\n",
       "})(window);"
      ],
      "application/vnd.bokehjs_exec.v0+json": ""
     },
     "metadata": {
      "application/vnd.bokehjs_exec.v0+json": {
       "id": "1486"
      }
     },
     "output_type": "display_data"
    }
   ],
   "source": [
    "losses = (loss, Loss_t, Loss_t_opt)\n",
    "colors = (Category10[10][0], Category10[10][0], Category10[10][1])\n",
    "legends = (\"Real Non-linear\", \"Approximation\", \"Approximated Optimized Control\")\n",
    "alphas = (0.3, 1, 1)\n",
    "\n",
    "s = plot_lines(iters, losses, legends, alphas, colors)\n",
    "show(s)"
   ]
  },
  {
   "cell_type": "code",
   "execution_count": 26,
   "metadata": {
    "ExecuteTime": {
     "end_time": "2022-10-18T16:37:12.726990Z",
     "start_time": "2022-10-18T16:37:12.724984Z"
    }
   },
   "outputs": [],
   "source": [
    "g_tilda = control.g_tilda.detach()\n",
    "control_signal = g_tilda\n",
    "W_0 = control_params[\"init_weights\"]\n",
    "results_dict[\"control_signal\"] = control_signal"
   ]
  },
  {
   "cell_type": "code",
   "execution_count": 27,
   "metadata": {
    "ExecuteTime": {
     "end_time": "2022-10-18T16:37:12.733301Z",
     "start_time": "2022-10-18T16:37:12.731075Z"
    }
   },
   "outputs": [],
   "source": [
    "reset_model_params = model_params.copy()\n",
    "reset_model_params[\"W_0\"] = W_0\n",
    "\n",
    "reset_model = SingleLayerNet(**reset_model_params)"
   ]
  },
  {
   "cell_type": "code",
   "execution_count": 28,
   "metadata": {
    "ExecuteTime": {
     "end_time": "2022-10-18T16:37:16.745269Z",
     "start_time": "2022-10-18T16:37:12.734988Z"
    }
   },
   "outputs": [
    {
     "name": "stderr",
     "output_type": "stream",
     "text": [
      "100%|██████████████████████████████████████████████████████████████████████████████████████████████████████████████████████████████████████████████████████████████████████████| 500/500 [00:00<00:00, 1543.74it/s]\n"
     ]
    }
   ],
   "source": [
    "iters, loss_OPT, weights_iter_OPT, weights_OPT = single_layer_training(model=reset_model,\n",
    "                                                                       dataset=dataset,\n",
    "                                                                       n_steps=n_steps,\n",
    "                                                                       save_weights_every=save_weights_every,\n",
    "                                                                       control_signal=control_signal)\n",
    "results_dict[\"Loss_t_sim_OPT\"] = loss_OPT\n",
    "results_dict[\"weights_sim_OPT\"] = weights_OPT\n",
    "results_dict[\"weights_iters_sim_OPT\"] = weights_iter_OPT\n",
    "results_dict[\"iters_OPT\"] = iters"
   ]
  },
  {
   "cell_type": "code",
   "execution_count": 29,
   "metadata": {
    "ExecuteTime": {
     "end_time": "2022-10-18T16:37:16.873109Z",
     "start_time": "2022-10-18T16:37:16.746556Z"
    }
   },
   "outputs": [
    {
     "data": {
      "text/html": [
       "\n",
       "  <div class=\"bk-root\" id=\"ff76113b-d3d9-4909-9428-98f1ec6e54ec\" data-root-id=\"1706\"></div>\n"
      ]
     },
     "metadata": {},
     "output_type": "display_data"
    },
    {
     "data": {
      "application/javascript": [
       "(function(root) {\n",
       "  function embed_document(root) {\n",
       "  const docs_json = {\"41f15d6d-59fa-46c6-ba17-9c67c0ab802f\":{\"defs\":[],\"roots\":{\"references\":[{\"attributes\":{\"below\":[{\"id\":\"1715\"}],\"center\":[{\"id\":\"1718\"},{\"id\":\"1722\"},{\"id\":\"1754\"}],\"height\":500,\"left\":[{\"id\":\"1719\"}],\"renderers\":[{\"id\":\"1741\"},{\"id\":\"1760\"},{\"id\":\"1780\"},{\"id\":\"1802\"}],\"title\":{\"id\":\"1743\"},\"toolbar\":{\"id\":\"1730\"},\"width\":800,\"x_range\":{\"id\":\"1707\"},\"x_scale\":{\"id\":\"1711\"},\"y_range\":{\"id\":\"1709\"},\"y_scale\":{\"id\":\"1713\"}},\"id\":\"1706\",\"subtype\":\"Figure\",\"type\":\"Plot\"},{\"attributes\":{\"coordinates\":null,\"data_source\":{\"id\":\"1798\"},\"glyph\":{\"id\":\"1799\"},\"group\":null,\"hover_glyph\":null,\"muted_glyph\":{\"id\":\"1801\"},\"nonselection_glyph\":{\"id\":\"1800\"},\"view\":{\"id\":\"1803\"}},\"id\":\"1802\",\"type\":\"GlyphRenderer\"},{\"attributes\":{\"tools\":[{\"id\":\"1723\"},{\"id\":\"1724\"},{\"id\":\"1725\"},{\"id\":\"1726\"},{\"id\":\"1727\"},{\"id\":\"1728\"}]},\"id\":\"1730\",\"type\":\"Toolbar\"},{\"attributes\":{},\"id\":\"1818\",\"type\":\"UnionRenderers\"},{\"attributes\":{\"data\":{\"x\":[0,1,2,3,4,5,6,7,8,9,10,11,12,13,14,15,16,17,18,19,20,21,22,23,24,25,26,27,28,29,30,31,32,33,34,35,36,37,38,39,40,41,42,43,44,45,46,47,48,49,50,51,52,53,54,55,56,57,58,59,60,61,62,63,64,65,66,67,68,69,70,71,72,73,74,75,76,77,78,79,80,81,82,83,84,85,86,87,88,89,90,91,92,93,94,95,96,97,98,99,100,101,102,103,104,105,106,107,108,109,110,111,112,113,114,115,116,117,118,119,120,121,122,123,124,125,126,127,128,129,130,131,132,133,134,135,136,137,138,139,140,141,142,143,144,145,146,147,148,149,150,151,152,153,154,155,156,157,158,159,160,161,162,163,164,165,166,167,168,169,170,171,172,173,174,175,176,177,178,179,180,181,182,183,184,185,186,187,188,189,190,191,192,193,194,195,196,197,198,199,200,201,202,203,204,205,206,207,208,209,210,211,212,213,214,215,216,217,218,219,220,221,222,223,224,225,226,227,228,229,230,231,232,233,234,235,236,237,238,239,240,241,242,243,244,245,246,247,248,249,250,251,252,253,254,255,256,257,258,259,260,261,262,263,264,265,266,267,268,269,270,271,272,273,274,275,276,277,278,279,280,281,282,283,284,285,286,287,288,289,290,291,292,293,294,295,296,297,298,299,300,301,302,303,304,305,306,307,308,309,310,311,312,313,314,315,316,317,318,319,320,321,322,323,324,325,326,327,328,329,330,331,332,333,334,335,336,337,338,339,340,341,342,343,344,345,346,347,348,349,350,351,352,353,354,355,356,357,358,359,360,361,362,363,364,365,366,367,368,369,370,371,372,373,374,375,376,377,378,379,380,381,382,383,384,385,386,387,388,389,390,391,392,393,394,395,396,397,398,399,400,401,402,403,404,405,406,407,408,409,410,411,412,413,414,415,416,417,418,419,420,421,422,423,424,425,426,427,428,429,430,431,432,433,434,435,436,437,438,439,440,441,442,443,444,445,446,447,448,449,450,451,452,453,454,455,456,457,458,459,460,461,462,463,464,465,466,467,468,469,470,471,472,473,474,475,476,477,478,479,480,481,482,483,484,485,486,487,488,489,490,491,492,493,494,495,496,497,498,499],\"y\":{\"__ndarray__\":\"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\",\"dtype\":\"float32\",\"order\":\"little\",\"shape\":[500]}},\"selected\":{\"id\":\"1819\"},\"selection_policy\":{\"id\":\"1818\"}},\"id\":\"1798\",\"type\":\"ColumnDataSource\"},{\"attributes\":{},\"id\":\"1746\",\"type\":\"BasicTickFormatter\"},{\"attributes\":{\"line_alpha\":0.1,\"line_color\":\"#1f77b4\",\"line_width\":3,\"x\":{\"field\":\"x\"},\"y\":{\"field\":\"y\"}},\"id\":\"1739\",\"type\":\"Line\"},{\"attributes\":{\"coordinates\":null,\"group\":null,\"items\":[{\"id\":\"1755\"},{\"id\":\"1775\"},{\"id\":\"1797\"},{\"id\":\"1821\"}]},\"id\":\"1754\",\"type\":\"Legend\"},{\"attributes\":{\"coordinates\":null,\"data_source\":{\"id\":\"1756\"},\"glyph\":{\"id\":\"1757\"},\"group\":null,\"hover_glyph\":null,\"muted_glyph\":{\"id\":\"1759\"},\"nonselection_glyph\":{\"id\":\"1758\"},\"view\":{\"id\":\"1761\"}},\"id\":\"1760\",\"type\":\"GlyphRenderer\"},{\"attributes\":{\"line_color\":\"#ff7f0e\",\"line_width\":3,\"x\":{\"field\":\"x\"},\"y\":{\"field\":\"y\"}},\"id\":\"1777\",\"type\":\"Line\"},{\"attributes\":{\"source\":{\"id\":\"1798\"}},\"id\":\"1803\",\"type\":\"CDSView\"},{\"attributes\":{\"source\":{\"id\":\"1756\"}},\"id\":\"1761\",\"type\":\"CDSView\"},{\"attributes\":{\"coordinates\":null,\"data_source\":{\"id\":\"1776\"},\"glyph\":{\"id\":\"1777\"},\"group\":null,\"hover_glyph\":null,\"muted_glyph\":{\"id\":\"1779\"},\"nonselection_glyph\":{\"id\":\"1778\"},\"view\":{\"id\":\"1781\"}},\"id\":\"1780\",\"type\":\"GlyphRenderer\"},{\"attributes\":{\"axis_label\":\"iters\",\"coordinates\":null,\"formatter\":{\"id\":\"1749\"},\"group\":null,\"major_label_policy\":{\"id\":\"1750\"},\"ticker\":{\"id\":\"1716\"}},\"id\":\"1715\",\"type\":\"LinearAxis\"},{\"attributes\":{\"line_alpha\":0.2,\"line_color\":\"#ff7f0e\",\"line_width\":3,\"x\":{\"field\":\"x\"},\"y\":{\"field\":\"y\"}},\"id\":\"1801\",\"type\":\"Line\"},{\"attributes\":{},\"id\":\"1711\",\"type\":\"LinearScale\"},{\"attributes\":{\"data\":{\"x\":[0,1,2,3,4,5,6,7,8,9,10,11,12,13,14,15,16,17,18,19,20,21,22,23,24,25,26,27,28,29,30,31,32,33,34,35,36,37,38,39,40,41,42,43,44,45,46,47,48,49,50,51,52,53,54,55,56,57,58,59,60,61,62,63,64,65,66,67,68,69,70,71,72,73,74,75,76,77,78,79,80,81,82,83,84,85,86,87,88,89,90,91,92,93,94,95,96,97,98,99,100,101,102,103,104,105,106,107,108,109,110,111,112,113,114,115,116,117,118,119,120,121,122,123,124,125,126,127,128,129,130,131,132,133,134,135,136,137,138,139,140,141,142,143,144,145,146,147,148,149,150,151,152,153,154,155,156,157,158,159,160,161,162,163,164,165,166,167,168,169,170,171,172,173,174,175,176,177,178,179,180,181,182,183,184,185,186,187,188,189,190,191,192,193,194,195,196,197,198,199,200,201,202,203,204,205,206,207,208,209,210,211,212,213,214,215,216,217,218,219,220,221,222,223,224,225,226,227,228,229,230,231,232,233,234,235,236,237,238,239,240,241,242,243,244,245,246,247,248,249,250,251,252,253,254,255,256,257,258,259,260,261,262,263,264,265,266,267,268,269,270,271,272,273,274,275,276,277,278,279,280,281,282,283,284,285,286,287,288,289,290,291,292,293,294,295,296,297,298,299,300,301,302,303,304,305,306,307,308,309,310,311,312,313,314,315,316,317,318,319,320,321,322,323,324,325,326,327,328,329,330,331,332,333,334,335,336,337,338,339,340,341,342,343,344,345,346,347,348,349,350,351,352,353,354,355,356,357,358,359,360,361,362,363,364,365,366,367,368,369,370,371,372,373,374,375,376,377,378,379,380,381,382,383,384,385,386,387,388,389,390,391,392,393,394,395,396,397,398,399,400,401,402,403,404,405,406,407,408,409,410,411,412,413,414,415,416,417,418,419,420,421,422,423,424,425,426,427,428,429,430,431,432,433,434,435,436,437,438,439,440,441,442,443,444,445,446,447,448,449,450,451,452,453,454,455,456,457,458,459,460,461,462,463,464,465,466,467,468,469,470,471,472,473,474,475,476,477,478,479,480,481,482,483,484,485,486,487,488,489,490,491,492,493,494,495,496,497,498,499],\"y\":{\"__ndarray__\":\"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\",\"dtype\":\"float32\",\"order\":\"little\",\"shape\":[500]}},\"selected\":{\"id\":\"1795\"},\"selection_policy\":{\"id\":\"1794\"}},\"id\":\"1776\",\"type\":\"ColumnDataSource\"},{\"attributes\":{\"line_alpha\":0.1,\"line_color\":\"#ff7f0e\",\"line_width\":3,\"x\":{\"field\":\"x\"},\"y\":{\"field\":\"y\"}},\"id\":\"1800\",\"type\":\"Line\"},{\"attributes\":{},\"id\":\"1713\",\"type\":\"LinearScale\"},{\"attributes\":{},\"id\":\"1720\",\"type\":\"BasicTicker\"},{\"attributes\":{\"label\":{\"value\":\"Approximation\"},\"renderers\":[{\"id\":\"1760\"}]},\"id\":\"1775\",\"type\":\"LegendItem\"},{\"attributes\":{\"axis\":{\"id\":\"1719\"},\"coordinates\":null,\"dimension\":1,\"group\":null,\"ticker\":null},\"id\":\"1722\",\"type\":\"Grid\"},{\"attributes\":{\"line_alpha\":0.2,\"line_color\":\"#1f77b4\",\"line_width\":3,\"x\":{\"field\":\"x\"},\"y\":{\"field\":\"y\"}},\"id\":\"1759\",\"type\":\"Line\"},{\"attributes\":{\"axis_label\":\"Loss\",\"coordinates\":null,\"formatter\":{\"id\":\"1746\"},\"group\":null,\"major_label_policy\":{\"id\":\"1747\"},\"ticker\":{\"id\":\"1720\"}},\"id\":\"1719\",\"type\":\"LinearAxis\"},{\"attributes\":{\"line_alpha\":0.2,\"line_color\":\"#ff7f0e\",\"line_width\":3,\"x\":{\"field\":\"x\"},\"y\":{\"field\":\"y\"}},\"id\":\"1779\",\"type\":\"Line\"},{\"attributes\":{\"line_alpha\":0.1,\"line_color\":\"#1f77b4\",\"line_width\":3,\"x\":{\"field\":\"x\"},\"y\":{\"field\":\"y\"}},\"id\":\"1758\",\"type\":\"Line\"},{\"attributes\":{\"line_alpha\":0.1,\"line_color\":\"#ff7f0e\",\"line_width\":3,\"x\":{\"field\":\"x\"},\"y\":{\"field\":\"y\"}},\"id\":\"1778\",\"type\":\"Line\"},{\"attributes\":{},\"id\":\"1727\",\"type\":\"ResetTool\"},{\"attributes\":{},\"id\":\"1728\",\"type\":\"HelpTool\"},{\"attributes\":{},\"id\":\"1724\",\"type\":\"WheelZoomTool\"},{\"attributes\":{},\"id\":\"1726\",\"type\":\"SaveTool\"},{\"attributes\":{\"coordinates\":null,\"data_source\":{\"id\":\"1737\"},\"glyph\":{\"id\":\"1738\"},\"group\":null,\"hover_glyph\":null,\"muted_glyph\":{\"id\":\"1740\"},\"nonselection_glyph\":{\"id\":\"1739\"},\"view\":{\"id\":\"1742\"}},\"id\":\"1741\",\"type\":\"GlyphRenderer\"},{\"attributes\":{},\"id\":\"1794\",\"type\":\"UnionRenderers\"},{\"attributes\":{\"overlay\":{\"id\":\"1729\"}},\"id\":\"1725\",\"type\":\"BoxZoomTool\"},{\"attributes\":{\"data\":{\"x\":[0,1,2,3,4,5,6,7,8,9,10,11,12,13,14,15,16,17,18,19,20,21,22,23,24,25,26,27,28,29,30,31,32,33,34,35,36,37,38,39,40,41,42,43,44,45,46,47,48,49,50,51,52,53,54,55,56,57,58,59,60,61,62,63,64,65,66,67,68,69,70,71,72,73,74,75,76,77,78,79,80,81,82,83,84,85,86,87,88,89,90,91,92,93,94,95,96,97,98,99,100,101,102,103,104,105,106,107,108,109,110,111,112,113,114,115,116,117,118,119,120,121,122,123,124,125,126,127,128,129,130,131,132,133,134,135,136,137,138,139,140,141,142,143,144,145,146,147,148,149,150,151,152,153,154,155,156,157,158,159,160,161,162,163,164,165,166,167,168,169,170,171,172,173,174,175,176,177,178,179,180,181,182,183,184,185,186,187,188,189,190,191,192,193,194,195,196,197,198,199,200,201,202,203,204,205,206,207,208,209,210,211,212,213,214,215,216,217,218,219,220,221,222,223,224,225,226,227,228,229,230,231,232,233,234,235,236,237,238,239,240,241,242,243,244,245,246,247,248,249,250,251,252,253,254,255,256,257,258,259,260,261,262,263,264,265,266,267,268,269,270,271,272,273,274,275,276,277,278,279,280,281,282,283,284,285,286,287,288,289,290,291,292,293,294,295,296,297,298,299,300,301,302,303,304,305,306,307,308,309,310,311,312,313,314,315,316,317,318,319,320,321,322,323,324,325,326,327,328,329,330,331,332,333,334,335,336,337,338,339,340,341,342,343,344,345,346,347,348,349,350,351,352,353,354,355,356,357,358,359,360,361,362,363,364,365,366,367,368,369,370,371,372,373,374,375,376,377,378,379,380,381,382,383,384,385,386,387,388,389,390,391,392,393,394,395,396,397,398,399,400,401,402,403,404,405,406,407,408,409,410,411,412,413,414,415,416,417,418,419,420,421,422,423,424,425,426,427,428,429,430,431,432,433,434,435,436,437,438,439,440,441,442,443,444,445,446,447,448,449,450,451,452,453,454,455,456,457,458,459,460,461,462,463,464,465,466,467,468,469,470,471,472,473,474,475,476,477,478,479,480,481,482,483,484,485,486,487,488,489,490,491,492,493,494,495,496,497,498,499],\"y\":{\"__ndarray__\":\"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\",\"dtype\":\"float32\",\"order\":\"little\",\"shape\":[500]}},\"selected\":{\"id\":\"1752\"},\"selection_policy\":{\"id\":\"1751\"}},\"id\":\"1737\",\"type\":\"ColumnDataSource\"},{\"attributes\":{\"line_alpha\":0.3,\"line_color\":\"#1f77b4\",\"line_width\":3,\"x\":{\"field\":\"x\"},\"y\":{\"field\":\"y\"}},\"id\":\"1738\",\"type\":\"Line\"},{\"attributes\":{},\"id\":\"1723\",\"type\":\"PanTool\"},{\"attributes\":{},\"id\":\"1707\",\"type\":\"DataRange1d\"},{\"attributes\":{\"source\":{\"id\":\"1737\"}},\"id\":\"1742\",\"type\":\"CDSView\"},{\"attributes\":{},\"id\":\"1716\",\"type\":\"BasicTicker\"},{\"attributes\":{},\"id\":\"1709\",\"type\":\"DataRange1d\"},{\"attributes\":{\"axis\":{\"id\":\"1715\"},\"coordinates\":null,\"group\":null,\"ticker\":null},\"id\":\"1718\",\"type\":\"Grid\"},{\"attributes\":{},\"id\":\"1773\",\"type\":\"Selection\"},{\"attributes\":{},\"id\":\"1752\",\"type\":\"Selection\"},{\"attributes\":{\"line_alpha\":0.2,\"line_color\":\"#1f77b4\",\"line_width\":3,\"x\":{\"field\":\"x\"},\"y\":{\"field\":\"y\"}},\"id\":\"1740\",\"type\":\"Line\"},{\"attributes\":{\"label\":{\"value\":\"Real Non-linear\"},\"renderers\":[{\"id\":\"1741\"}]},\"id\":\"1755\",\"type\":\"LegendItem\"},{\"attributes\":{},\"id\":\"1795\",\"type\":\"Selection\"},{\"attributes\":{},\"id\":\"1819\",\"type\":\"Selection\"},{\"attributes\":{\"bottom_units\":\"screen\",\"coordinates\":null,\"fill_alpha\":0.5,\"fill_color\":\"lightgrey\",\"group\":null,\"left_units\":\"screen\",\"level\":\"overlay\",\"line_alpha\":1.0,\"line_color\":\"black\",\"line_dash\":[4,4],\"line_width\":2,\"right_units\":\"screen\",\"syncable\":false,\"top_units\":\"screen\"},\"id\":\"1729\",\"type\":\"BoxAnnotation\"},{\"attributes\":{},\"id\":\"1747\",\"type\":\"AllLabels\"},{\"attributes\":{},\"id\":\"1772\",\"type\":\"UnionRenderers\"},{\"attributes\":{\"line_color\":\"#1f77b4\",\"line_width\":3,\"x\":{\"field\":\"x\"},\"y\":{\"field\":\"y\"}},\"id\":\"1757\",\"type\":\"Line\"},{\"attributes\":{\"label\":{\"value\":\"Optimized Non-linear\"},\"renderers\":[{\"id\":\"1802\"}]},\"id\":\"1821\",\"type\":\"LegendItem\"},{\"attributes\":{},\"id\":\"1749\",\"type\":\"BasicTickFormatter\"},{\"attributes\":{},\"id\":\"1751\",\"type\":\"UnionRenderers\"},{\"attributes\":{\"label\":{\"value\":\"Approximated Optimized Control\"},\"renderers\":[{\"id\":\"1780\"}]},\"id\":\"1797\",\"type\":\"LegendItem\"},{\"attributes\":{},\"id\":\"1750\",\"type\":\"AllLabels\"},{\"attributes\":{\"coordinates\":null,\"group\":null},\"id\":\"1743\",\"type\":\"Title\"},{\"attributes\":{\"data\":{\"x\":[0,1,2,3,4,5,6,7,8,9,10,11,12,13,14,15,16,17,18,19,20,21,22,23,24,25,26,27,28,29,30,31,32,33,34,35,36,37,38,39,40,41,42,43,44,45,46,47,48,49,50,51,52,53,54,55,56,57,58,59,60,61,62,63,64,65,66,67,68,69,70,71,72,73,74,75,76,77,78,79,80,81,82,83,84,85,86,87,88,89,90,91,92,93,94,95,96,97,98,99,100,101,102,103,104,105,106,107,108,109,110,111,112,113,114,115,116,117,118,119,120,121,122,123,124,125,126,127,128,129,130,131,132,133,134,135,136,137,138,139,140,141,142,143,144,145,146,147,148,149,150,151,152,153,154,155,156,157,158,159,160,161,162,163,164,165,166,167,168,169,170,171,172,173,174,175,176,177,178,179,180,181,182,183,184,185,186,187,188,189,190,191,192,193,194,195,196,197,198,199,200,201,202,203,204,205,206,207,208,209,210,211,212,213,214,215,216,217,218,219,220,221,222,223,224,225,226,227,228,229,230,231,232,233,234,235,236,237,238,239,240,241,242,243,244,245,246,247,248,249,250,251,252,253,254,255,256,257,258,259,260,261,262,263,264,265,266,267,268,269,270,271,272,273,274,275,276,277,278,279,280,281,282,283,284,285,286,287,288,289,290,291,292,293,294,295,296,297,298,299,300,301,302,303,304,305,306,307,308,309,310,311,312,313,314,315,316,317,318,319,320,321,322,323,324,325,326,327,328,329,330,331,332,333,334,335,336,337,338,339,340,341,342,343,344,345,346,347,348,349,350,351,352,353,354,355,356,357,358,359,360,361,362,363,364,365,366,367,368,369,370,371,372,373,374,375,376,377,378,379,380,381,382,383,384,385,386,387,388,389,390,391,392,393,394,395,396,397,398,399,400,401,402,403,404,405,406,407,408,409,410,411,412,413,414,415,416,417,418,419,420,421,422,423,424,425,426,427,428,429,430,431,432,433,434,435,436,437,438,439,440,441,442,443,444,445,446,447,448,449,450,451,452,453,454,455,456,457,458,459,460,461,462,463,464,465,466,467,468,469,470,471,472,473,474,475,476,477,478,479,480,481,482,483,484,485,486,487,488,489,490,491,492,493,494,495,496,497,498,499],\"y\":{\"__ndarray__\":\"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\",\"dtype\":\"float32\",\"order\":\"little\",\"shape\":[500]}},\"selected\":{\"id\":\"1773\"},\"selection_policy\":{\"id\":\"1772\"}},\"id\":\"1756\",\"type\":\"ColumnDataSource\"},{\"attributes\":{\"source\":{\"id\":\"1776\"}},\"id\":\"1781\",\"type\":\"CDSView\"},{\"attributes\":{\"line_alpha\":0.3,\"line_color\":\"#ff7f0e\",\"line_width\":3,\"x\":{\"field\":\"x\"},\"y\":{\"field\":\"y\"}},\"id\":\"1799\",\"type\":\"Line\"}],\"root_ids\":[\"1706\"]},\"title\":\"Bokeh Application\",\"version\":\"2.4.3\"}};\n",
       "  const render_items = [{\"docid\":\"41f15d6d-59fa-46c6-ba17-9c67c0ab802f\",\"root_ids\":[\"1706\"],\"roots\":{\"1706\":\"ff76113b-d3d9-4909-9428-98f1ec6e54ec\"}}];\n",
       "  root.Bokeh.embed.embed_items_notebook(docs_json, render_items);\n",
       "  }\n",
       "  if (root.Bokeh !== undefined) {\n",
       "    embed_document(root);\n",
       "  } else {\n",
       "    let attempts = 0;\n",
       "    const timer = setInterval(function(root) {\n",
       "      if (root.Bokeh !== undefined) {\n",
       "        clearInterval(timer);\n",
       "        embed_document(root);\n",
       "      } else {\n",
       "        attempts++;\n",
       "        if (attempts > 100) {\n",
       "          clearInterval(timer);\n",
       "          console.log(\"Bokeh: ERROR: Unable to run BokehJS code because BokehJS library is missing\");\n",
       "        }\n",
       "      }\n",
       "    }, 10, root)\n",
       "  }\n",
       "})(window);"
      ],
      "application/vnd.bokehjs_exec.v0+json": ""
     },
     "metadata": {
      "application/vnd.bokehjs_exec.v0+json": {
       "id": "1706"
      }
     },
     "output_type": "display_data"
    }
   ],
   "source": [
    "losses = (loss, Loss_t, Loss_t_opt, loss_OPT)\n",
    "colors = (Category10[10][0], Category10[10][0], Category10[10][1], Category10[10][1])\n",
    "legends = (\"Real Non-linear\", \"Approximation\", \"Approximated Optimized Control\", \"Optimized Non-linear\")\n",
    "alphas = (0.3, 1, 1, 0.3)\n",
    "\n",
    "s = plot_lines(iters, losses, legends, alphas, colors)\n",
    "show(s)"
   ]
  },
  {
   "cell_type": "code",
   "execution_count": 30,
   "metadata": {
    "ExecuteTime": {
     "end_time": "2022-10-18T16:37:16.876743Z",
     "start_time": "2022-10-18T16:37:16.874178Z"
    }
   },
   "outputs": [
    {
     "data": {
      "text/plain": [
       "dict_keys(['iters', 'Loss_t_sim', 'weights_sim', 'weights_iters_sim', 'time_span', 'W_t_eq', 'Loss_t_eq', 'W_t_control_init', 'Loss_t_control_init', 'control_signal_init', 'cumulated_reward_opt', 'W_t_control_opt', 'Loss_t_control_opt', 'control_signal', 'Loss_t_sim_OPT', 'weights_sim_OPT', 'weights_iters_sim_OPT', 'iters_OPT'])"
      ]
     },
     "execution_count": 30,
     "metadata": {},
     "output_type": "execute_result"
    }
   ],
   "source": [
    "results_dict.keys()"
   ]
  },
  {
   "cell_type": "code",
   "execution_count": 31,
   "metadata": {
    "ExecuteTime": {
     "end_time": "2022-10-18T16:37:16.880110Z",
     "start_time": "2022-10-18T16:37:16.877818Z"
    }
   },
   "outputs": [],
   "source": [
    "params_dict = {\"dataset_params\": dataset_params,\n",
    "               \"model_params\": model_params,\n",
    "               \"equation_params\": equation_params,\n",
    "               \"control_params\": control_params}"
   ]
  },
  {
   "cell_type": "code",
   "execution_count": 32,
   "metadata": {
    "ExecuteTime": {
     "end_time": "2022-10-18T16:37:16.883114Z",
     "start_time": "2022-10-18T16:37:16.881109Z"
    }
   },
   "outputs": [],
   "source": [
    "import os\n",
    "time_str = get_date_time()\n",
    "saving_path = os.path.join(results_path, run_name+\"_\"+time_str)"
   ]
  },
  {
   "cell_type": "code",
   "execution_count": 33,
   "metadata": {
    "ExecuteTime": {
     "end_time": "2022-10-18T16:37:16.897322Z",
     "start_time": "2022-10-18T16:37:16.884072Z"
    }
   },
   "outputs": [],
   "source": [
    "# save_var(results_dict, \"results.pkl\", results_path=saving_path)"
   ]
  },
  {
   "cell_type": "code",
   "execution_count": 34,
   "metadata": {
    "ExecuteTime": {
     "end_time": "2022-10-18T16:37:16.900601Z",
     "start_time": "2022-10-18T16:37:16.898231Z"
    }
   },
   "outputs": [],
   "source": [
    "# save_var(params_dict, \"params.pkl\", results_path=saving_path)"
   ]
  },
  {
   "cell_type": "code",
   "execution_count": null,
   "metadata": {},
   "outputs": [],
   "source": []
  }
 ],
 "metadata": {
  "kernelspec": {
   "display_name": "Python 3 (ipykernel)",
   "language": "python",
   "name": "python3"
  },
  "language_info": {
   "codemirror_mode": {
    "name": "ipython",
    "version": 3
   },
   "file_extension": ".py",
   "mimetype": "text/x-python",
   "name": "python",
   "nbconvert_exporter": "python",
   "pygments_lexer": "ipython3",
   "version": "3.10.8"
  }
 },
 "nbformat": 4,
 "nbformat_minor": 4
}
