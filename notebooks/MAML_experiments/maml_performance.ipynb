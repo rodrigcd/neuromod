{
 "cells": [
  {
   "cell_type": "code",
   "execution_count": 4,
   "id": "39cadcaf-6935-448c-ba93-eea157b6db17",
   "metadata": {},
   "outputs": [],
   "source": [
    "import matplotlib.pyplot as plt\n",
    "from metamod.utils import maml_routine\n",
    "import torch\n",
    "import numpy as np\n",
    "import warnings\n",
    "warnings.filterwarnings(\"ignore\", category=UserWarning) "
   ]
  },
  {
   "cell_type": "code",
   "execution_count": 5,
   "id": "4e5b4748-0c97-4e90-a180-bbd3aa42deb5",
   "metadata": {},
   "outputs": [],
   "source": [
    "iter_control = 10\n",
    "eval_steps = 300\n",
    "n_steps = [2, 5, 20]"
   ]
  },
  {
   "cell_type": "code",
   "execution_count": 7,
   "id": "86ef554b-ca8c-47fa-b902-039e4f7265fa",
   "metadata": {},
   "outputs": [
    {
     "name": "stdout",
     "output_type": "stream",
     "text": [
      "2\n",
      "(0, 1)\n",
      "(7, 1)\n",
      "(8, 9)\n",
      "(3, 8)\n",
      "(5, 3)\n",
      "5\n",
      "(0, 1)\n",
      "(7, 1)\n",
      "(8, 9)\n",
      "(3, 8)\n",
      "(5, 3)\n",
      "20\n",
      "(0, 1)\n",
      "(7, 1)\n",
      "(8, 9)\n",
      "(3, 8)\n",
      "(5, 3)\n"
     ]
    }
   ],
   "source": [
    "for steps in n_steps:\n",
    "    print(steps)\n",
    "    maml_routine(n_steps=steps,\n",
    "                 eval_steps=eval_steps,\n",
    "                 iter_control=iter_control)"
   ]
  },
  {
   "cell_type": "code",
   "execution_count": null,
   "id": "3df51bbb-ed3f-4dd0-8807-4c4e173bb6ef",
   "metadata": {},
   "outputs": [],
   "source": []
  }
 ],
 "metadata": {
  "kernelspec": {
   "display_name": "Python 3 (ipykernel)",
   "language": "python",
   "name": "python3"
  },
  "language_info": {
   "codemirror_mode": {
    "name": "ipython",
    "version": 3
   },
   "file_extension": ".py",
   "mimetype": "text/x-python",
   "name": "python",
   "nbconvert_exporter": "python",
   "pygments_lexer": "ipython3",
   "version": "3.10.8"
  }
 },
 "nbformat": 4,
 "nbformat_minor": 5
}
