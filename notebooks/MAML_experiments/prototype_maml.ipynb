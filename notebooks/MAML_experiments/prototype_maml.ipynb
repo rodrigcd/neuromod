{
 "cells": [
  {
   "cell_type": "code",
   "execution_count": 1,
   "id": "b5a80915-5029-4814-a4ed-0b8fee965f6c",
   "metadata": {},
   "outputs": [
    {
     "data": {
      "text/html": [
       "<div class=\"bk-root\">\n",
       "        <a href=\"https://bokeh.org\" target=\"_blank\" class=\"bk-logo bk-logo-small bk-logo-notebook\"></a>\n",
       "        <span id=\"1002\">Loading BokehJS ...</span>\n",
       "    </div>\n"
      ]
     },
     "metadata": {},
     "output_type": "display_data"
    },
    {
     "data": {
      "application/javascript": [
       "(function(root) {\n",
       "  function now() {\n",
       "    return new Date();\n",
       "  }\n",
       "\n",
       "  const force = true;\n",
       "\n",
       "  if (typeof root._bokeh_onload_callbacks === \"undefined\" || force === true) {\n",
       "    root._bokeh_onload_callbacks = [];\n",
       "    root._bokeh_is_loading = undefined;\n",
       "  }\n",
       "\n",
       "const JS_MIME_TYPE = 'application/javascript';\n",
       "  const HTML_MIME_TYPE = 'text/html';\n",
       "  const EXEC_MIME_TYPE = 'application/vnd.bokehjs_exec.v0+json';\n",
       "  const CLASS_NAME = 'output_bokeh rendered_html';\n",
       "\n",
       "  /**\n",
       "   * Render data to the DOM node\n",
       "   */\n",
       "  function render(props, node) {\n",
       "    const script = document.createElement(\"script\");\n",
       "    node.appendChild(script);\n",
       "  }\n",
       "\n",
       "  /**\n",
       "   * Handle when an output is cleared or removed\n",
       "   */\n",
       "  function handleClearOutput(event, handle) {\n",
       "    const cell = handle.cell;\n",
       "\n",
       "    const id = cell.output_area._bokeh_element_id;\n",
       "    const server_id = cell.output_area._bokeh_server_id;\n",
       "    // Clean up Bokeh references\n",
       "    if (id != null && id in Bokeh.index) {\n",
       "      Bokeh.index[id].model.document.clear();\n",
       "      delete Bokeh.index[id];\n",
       "    }\n",
       "\n",
       "    if (server_id !== undefined) {\n",
       "      // Clean up Bokeh references\n",
       "      const cmd_clean = \"from bokeh.io.state import curstate; print(curstate().uuid_to_server['\" + server_id + \"'].get_sessions()[0].document.roots[0]._id)\";\n",
       "      cell.notebook.kernel.execute(cmd_clean, {\n",
       "        iopub: {\n",
       "          output: function(msg) {\n",
       "            const id = msg.content.text.trim();\n",
       "            if (id in Bokeh.index) {\n",
       "              Bokeh.index[id].model.document.clear();\n",
       "              delete Bokeh.index[id];\n",
       "            }\n",
       "          }\n",
       "        }\n",
       "      });\n",
       "      // Destroy server and session\n",
       "      const cmd_destroy = \"import bokeh.io.notebook as ion; ion.destroy_server('\" + server_id + \"')\";\n",
       "      cell.notebook.kernel.execute(cmd_destroy);\n",
       "    }\n",
       "  }\n",
       "\n",
       "  /**\n",
       "   * Handle when a new output is added\n",
       "   */\n",
       "  function handleAddOutput(event, handle) {\n",
       "    const output_area = handle.output_area;\n",
       "    const output = handle.output;\n",
       "\n",
       "    // limit handleAddOutput to display_data with EXEC_MIME_TYPE content only\n",
       "    if ((output.output_type != \"display_data\") || (!Object.prototype.hasOwnProperty.call(output.data, EXEC_MIME_TYPE))) {\n",
       "      return\n",
       "    }\n",
       "\n",
       "    const toinsert = output_area.element.find(\".\" + CLASS_NAME.split(' ')[0]);\n",
       "\n",
       "    if (output.metadata[EXEC_MIME_TYPE][\"id\"] !== undefined) {\n",
       "      toinsert[toinsert.length - 1].firstChild.textContent = output.data[JS_MIME_TYPE];\n",
       "      // store reference to embed id on output_area\n",
       "      output_area._bokeh_element_id = output.metadata[EXEC_MIME_TYPE][\"id\"];\n",
       "    }\n",
       "    if (output.metadata[EXEC_MIME_TYPE][\"server_id\"] !== undefined) {\n",
       "      const bk_div = document.createElement(\"div\");\n",
       "      bk_div.innerHTML = output.data[HTML_MIME_TYPE];\n",
       "      const script_attrs = bk_div.children[0].attributes;\n",
       "      for (let i = 0; i < script_attrs.length; i++) {\n",
       "        toinsert[toinsert.length - 1].firstChild.setAttribute(script_attrs[i].name, script_attrs[i].value);\n",
       "        toinsert[toinsert.length - 1].firstChild.textContent = bk_div.children[0].textContent\n",
       "      }\n",
       "      // store reference to server id on output_area\n",
       "      output_area._bokeh_server_id = output.metadata[EXEC_MIME_TYPE][\"server_id\"];\n",
       "    }\n",
       "  }\n",
       "\n",
       "  function register_renderer(events, OutputArea) {\n",
       "\n",
       "    function append_mime(data, metadata, element) {\n",
       "      // create a DOM node to render to\n",
       "      const toinsert = this.create_output_subarea(\n",
       "        metadata,\n",
       "        CLASS_NAME,\n",
       "        EXEC_MIME_TYPE\n",
       "      );\n",
       "      this.keyboard_manager.register_events(toinsert);\n",
       "      // Render to node\n",
       "      const props = {data: data, metadata: metadata[EXEC_MIME_TYPE]};\n",
       "      render(props, toinsert[toinsert.length - 1]);\n",
       "      element.append(toinsert);\n",
       "      return toinsert\n",
       "    }\n",
       "\n",
       "    /* Handle when an output is cleared or removed */\n",
       "    events.on('clear_output.CodeCell', handleClearOutput);\n",
       "    events.on('delete.Cell', handleClearOutput);\n",
       "\n",
       "    /* Handle when a new output is added */\n",
       "    events.on('output_added.OutputArea', handleAddOutput);\n",
       "\n",
       "    /**\n",
       "     * Register the mime type and append_mime function with output_area\n",
       "     */\n",
       "    OutputArea.prototype.register_mime_type(EXEC_MIME_TYPE, append_mime, {\n",
       "      /* Is output safe? */\n",
       "      safe: true,\n",
       "      /* Index of renderer in `output_area.display_order` */\n",
       "      index: 0\n",
       "    });\n",
       "  }\n",
       "\n",
       "  // register the mime type if in Jupyter Notebook environment and previously unregistered\n",
       "  if (root.Jupyter !== undefined) {\n",
       "    const events = require('base/js/events');\n",
       "    const OutputArea = require('notebook/js/outputarea').OutputArea;\n",
       "\n",
       "    if (OutputArea.prototype.mime_types().indexOf(EXEC_MIME_TYPE) == -1) {\n",
       "      register_renderer(events, OutputArea);\n",
       "    }\n",
       "  }\n",
       "  if (typeof (root._bokeh_timeout) === \"undefined\" || force === true) {\n",
       "    root._bokeh_timeout = Date.now() + 5000;\n",
       "    root._bokeh_failed_load = false;\n",
       "  }\n",
       "\n",
       "  const NB_LOAD_WARNING = {'data': {'text/html':\n",
       "     \"<div style='background-color: #fdd'>\\n\"+\n",
       "     \"<p>\\n\"+\n",
       "     \"BokehJS does not appear to have successfully loaded. If loading BokehJS from CDN, this \\n\"+\n",
       "     \"may be due to a slow or bad network connection. Possible fixes:\\n\"+\n",
       "     \"</p>\\n\"+\n",
       "     \"<ul>\\n\"+\n",
       "     \"<li>re-rerun `output_notebook()` to attempt to load from CDN again, or</li>\\n\"+\n",
       "     \"<li>use INLINE resources instead, as so:</li>\\n\"+\n",
       "     \"</ul>\\n\"+\n",
       "     \"<code>\\n\"+\n",
       "     \"from bokeh.resources import INLINE\\n\"+\n",
       "     \"output_notebook(resources=INLINE)\\n\"+\n",
       "     \"</code>\\n\"+\n",
       "     \"</div>\"}};\n",
       "\n",
       "  function display_loaded() {\n",
       "    const el = document.getElementById(\"1002\");\n",
       "    if (el != null) {\n",
       "      el.textContent = \"BokehJS is loading...\";\n",
       "    }\n",
       "    if (root.Bokeh !== undefined) {\n",
       "      if (el != null) {\n",
       "        el.textContent = \"BokehJS \" + root.Bokeh.version + \" successfully loaded.\";\n",
       "      }\n",
       "    } else if (Date.now() < root._bokeh_timeout) {\n",
       "      setTimeout(display_loaded, 100)\n",
       "    }\n",
       "  }\n",
       "\n",
       "  function run_callbacks() {\n",
       "    try {\n",
       "      root._bokeh_onload_callbacks.forEach(function(callback) {\n",
       "        if (callback != null)\n",
       "          callback();\n",
       "      });\n",
       "    } finally {\n",
       "      delete root._bokeh_onload_callbacks\n",
       "    }\n",
       "    console.debug(\"Bokeh: all callbacks have finished\");\n",
       "  }\n",
       "\n",
       "  function load_libs(css_urls, js_urls, callback) {\n",
       "    if (css_urls == null) css_urls = [];\n",
       "    if (js_urls == null) js_urls = [];\n",
       "\n",
       "    root._bokeh_onload_callbacks.push(callback);\n",
       "    if (root._bokeh_is_loading > 0) {\n",
       "      console.debug(\"Bokeh: BokehJS is being loaded, scheduling callback at\", now());\n",
       "      return null;\n",
       "    }\n",
       "    if (js_urls == null || js_urls.length === 0) {\n",
       "      run_callbacks();\n",
       "      return null;\n",
       "    }\n",
       "    console.debug(\"Bokeh: BokehJS not loaded, scheduling load and callback at\", now());\n",
       "    root._bokeh_is_loading = css_urls.length + js_urls.length;\n",
       "\n",
       "    function on_load() {\n",
       "      root._bokeh_is_loading--;\n",
       "      if (root._bokeh_is_loading === 0) {\n",
       "        console.debug(\"Bokeh: all BokehJS libraries/stylesheets loaded\");\n",
       "        run_callbacks()\n",
       "      }\n",
       "    }\n",
       "\n",
       "    function on_error(url) {\n",
       "      console.error(\"failed to load \" + url);\n",
       "    }\n",
       "\n",
       "    for (let i = 0; i < css_urls.length; i++) {\n",
       "      const url = css_urls[i];\n",
       "      const element = document.createElement(\"link\");\n",
       "      element.onload = on_load;\n",
       "      element.onerror = on_error.bind(null, url);\n",
       "      element.rel = \"stylesheet\";\n",
       "      element.type = \"text/css\";\n",
       "      element.href = url;\n",
       "      console.debug(\"Bokeh: injecting link tag for BokehJS stylesheet: \", url);\n",
       "      document.body.appendChild(element);\n",
       "    }\n",
       "\n",
       "    for (let i = 0; i < js_urls.length; i++) {\n",
       "      const url = js_urls[i];\n",
       "      const element = document.createElement('script');\n",
       "      element.onload = on_load;\n",
       "      element.onerror = on_error.bind(null, url);\n",
       "      element.async = false;\n",
       "      element.src = url;\n",
       "      console.debug(\"Bokeh: injecting script tag for BokehJS library: \", url);\n",
       "      document.head.appendChild(element);\n",
       "    }\n",
       "  };\n",
       "\n",
       "  function inject_raw_css(css) {\n",
       "    const element = document.createElement(\"style\");\n",
       "    element.appendChild(document.createTextNode(css));\n",
       "    document.body.appendChild(element);\n",
       "  }\n",
       "\n",
       "  const js_urls = [\"https://cdn.bokeh.org/bokeh/release/bokeh-2.4.3.min.js\", \"https://cdn.bokeh.org/bokeh/release/bokeh-gl-2.4.3.min.js\", \"https://cdn.bokeh.org/bokeh/release/bokeh-widgets-2.4.3.min.js\", \"https://cdn.bokeh.org/bokeh/release/bokeh-tables-2.4.3.min.js\", \"https://cdn.bokeh.org/bokeh/release/bokeh-mathjax-2.4.3.min.js\"];\n",
       "  const css_urls = [];\n",
       "\n",
       "  const inline_js = [    function(Bokeh) {\n",
       "      Bokeh.set_log_level(\"info\");\n",
       "    },\n",
       "function(Bokeh) {\n",
       "    }\n",
       "  ];\n",
       "\n",
       "  function run_inline_js() {\n",
       "    if (root.Bokeh !== undefined || force === true) {\n",
       "          for (let i = 0; i < inline_js.length; i++) {\n",
       "      inline_js[i].call(root, root.Bokeh);\n",
       "    }\n",
       "if (force === true) {\n",
       "        display_loaded();\n",
       "      }} else if (Date.now() < root._bokeh_timeout) {\n",
       "      setTimeout(run_inline_js, 100);\n",
       "    } else if (!root._bokeh_failed_load) {\n",
       "      console.log(\"Bokeh: BokehJS failed to load within specified timeout.\");\n",
       "      root._bokeh_failed_load = true;\n",
       "    } else if (force !== true) {\n",
       "      const cell = $(document.getElementById(\"1002\")).parents('.cell').data().cell;\n",
       "      cell.output_area.append_execute_result(NB_LOAD_WARNING)\n",
       "    }\n",
       "  }\n",
       "\n",
       "  if (root._bokeh_is_loading === 0) {\n",
       "    console.debug(\"Bokeh: BokehJS loaded, going straight to plotting\");\n",
       "    run_inline_js();\n",
       "  } else {\n",
       "    load_libs(css_urls, js_urls, function() {\n",
       "      console.debug(\"Bokeh: BokehJS plotting callback run at\", now());\n",
       "      run_inline_js();\n",
       "    });\n",
       "  }\n",
       "}(window));"
      ],
      "application/vnd.bokehjs_load.v0+json": "(function(root) {\n  function now() {\n    return new Date();\n  }\n\n  const force = true;\n\n  if (typeof root._bokeh_onload_callbacks === \"undefined\" || force === true) {\n    root._bokeh_onload_callbacks = [];\n    root._bokeh_is_loading = undefined;\n  }\n\n\n  if (typeof (root._bokeh_timeout) === \"undefined\" || force === true) {\n    root._bokeh_timeout = Date.now() + 5000;\n    root._bokeh_failed_load = false;\n  }\n\n  const NB_LOAD_WARNING = {'data': {'text/html':\n     \"<div style='background-color: #fdd'>\\n\"+\n     \"<p>\\n\"+\n     \"BokehJS does not appear to have successfully loaded. If loading BokehJS from CDN, this \\n\"+\n     \"may be due to a slow or bad network connection. Possible fixes:\\n\"+\n     \"</p>\\n\"+\n     \"<ul>\\n\"+\n     \"<li>re-rerun `output_notebook()` to attempt to load from CDN again, or</li>\\n\"+\n     \"<li>use INLINE resources instead, as so:</li>\\n\"+\n     \"</ul>\\n\"+\n     \"<code>\\n\"+\n     \"from bokeh.resources import INLINE\\n\"+\n     \"output_notebook(resources=INLINE)\\n\"+\n     \"</code>\\n\"+\n     \"</div>\"}};\n\n  function display_loaded() {\n    const el = document.getElementById(\"1002\");\n    if (el != null) {\n      el.textContent = \"BokehJS is loading...\";\n    }\n    if (root.Bokeh !== undefined) {\n      if (el != null) {\n        el.textContent = \"BokehJS \" + root.Bokeh.version + \" successfully loaded.\";\n      }\n    } else if (Date.now() < root._bokeh_timeout) {\n      setTimeout(display_loaded, 100)\n    }\n  }\n\n  function run_callbacks() {\n    try {\n      root._bokeh_onload_callbacks.forEach(function(callback) {\n        if (callback != null)\n          callback();\n      });\n    } finally {\n      delete root._bokeh_onload_callbacks\n    }\n    console.debug(\"Bokeh: all callbacks have finished\");\n  }\n\n  function load_libs(css_urls, js_urls, callback) {\n    if (css_urls == null) css_urls = [];\n    if (js_urls == null) js_urls = [];\n\n    root._bokeh_onload_callbacks.push(callback);\n    if (root._bokeh_is_loading > 0) {\n      console.debug(\"Bokeh: BokehJS is being loaded, scheduling callback at\", now());\n      return null;\n    }\n    if (js_urls == null || js_urls.length === 0) {\n      run_callbacks();\n      return null;\n    }\n    console.debug(\"Bokeh: BokehJS not loaded, scheduling load and callback at\", now());\n    root._bokeh_is_loading = css_urls.length + js_urls.length;\n\n    function on_load() {\n      root._bokeh_is_loading--;\n      if (root._bokeh_is_loading === 0) {\n        console.debug(\"Bokeh: all BokehJS libraries/stylesheets loaded\");\n        run_callbacks()\n      }\n    }\n\n    function on_error(url) {\n      console.error(\"failed to load \" + url);\n    }\n\n    for (let i = 0; i < css_urls.length; i++) {\n      const url = css_urls[i];\n      const element = document.createElement(\"link\");\n      element.onload = on_load;\n      element.onerror = on_error.bind(null, url);\n      element.rel = \"stylesheet\";\n      element.type = \"text/css\";\n      element.href = url;\n      console.debug(\"Bokeh: injecting link tag for BokehJS stylesheet: \", url);\n      document.body.appendChild(element);\n    }\n\n    for (let i = 0; i < js_urls.length; i++) {\n      const url = js_urls[i];\n      const element = document.createElement('script');\n      element.onload = on_load;\n      element.onerror = on_error.bind(null, url);\n      element.async = false;\n      element.src = url;\n      console.debug(\"Bokeh: injecting script tag for BokehJS library: \", url);\n      document.head.appendChild(element);\n    }\n  };\n\n  function inject_raw_css(css) {\n    const element = document.createElement(\"style\");\n    element.appendChild(document.createTextNode(css));\n    document.body.appendChild(element);\n  }\n\n  const js_urls = [\"https://cdn.bokeh.org/bokeh/release/bokeh-2.4.3.min.js\", \"https://cdn.bokeh.org/bokeh/release/bokeh-gl-2.4.3.min.js\", \"https://cdn.bokeh.org/bokeh/release/bokeh-widgets-2.4.3.min.js\", \"https://cdn.bokeh.org/bokeh/release/bokeh-tables-2.4.3.min.js\", \"https://cdn.bokeh.org/bokeh/release/bokeh-mathjax-2.4.3.min.js\"];\n  const css_urls = [];\n\n  const inline_js = [    function(Bokeh) {\n      Bokeh.set_log_level(\"info\");\n    },\nfunction(Bokeh) {\n    }\n  ];\n\n  function run_inline_js() {\n    if (root.Bokeh !== undefined || force === true) {\n          for (let i = 0; i < inline_js.length; i++) {\n      inline_js[i].call(root, root.Bokeh);\n    }\nif (force === true) {\n        display_loaded();\n      }} else if (Date.now() < root._bokeh_timeout) {\n      setTimeout(run_inline_js, 100);\n    } else if (!root._bokeh_failed_load) {\n      console.log(\"Bokeh: BokehJS failed to load within specified timeout.\");\n      root._bokeh_failed_load = true;\n    } else if (force !== true) {\n      const cell = $(document.getElementById(\"1002\")).parents('.cell').data().cell;\n      cell.output_area.append_execute_result(NB_LOAD_WARNING)\n    }\n  }\n\n  if (root._bokeh_is_loading === 0) {\n    console.debug(\"Bokeh: BokehJS loaded, going straight to plotting\");\n    run_inline_js();\n  } else {\n    load_libs(css_urls, js_urls, function() {\n      console.debug(\"Bokeh: BokehJS plotting callback run at\", now());\n      run_inline_js();\n    });\n  }\n}(window));"
     },
     "metadata": {},
     "output_type": "display_data"
    }
   ],
   "source": [
    "from metamod.tasks import MultiTask, MNIST\n",
    "from metamod.networks import NetworkSet, LinearNet\n",
    "from metamod.trainers import set_network_training\n",
    "from metamod.control import NetworkSetEq, LinearNetEq, NetworkSetControl\n",
    "import numpy as np\n",
    "import copy\n",
    "from tqdm import tqdm\n",
    "import matplotlib.pyplot as plt\n",
    "import torch\n",
    "\n",
    "from metamod.utils import plot_lines, plot_weight_ev, check_dir, save_var, get_date_time\n",
    "from bokeh.palettes import Viridis, Category10, Category20\n",
    "from bokeh.plotting import figure, show, output_file, save\n",
    "from bokeh.layouts import gridplot\n",
    "from bokeh.io import output_notebook\n",
    "from bokeh.io import export_svg\n",
    "output_notebook()"
   ]
  },
  {
   "cell_type": "markdown",
   "id": "b47265e7-a0f8-4321-8981-13b4d9c00eac",
   "metadata": {},
   "source": [
    "# I need to initialize every network in the maml class with the same set of weights"
   ]
  },
  {
   "cell_type": "code",
   "execution_count": 2,
   "id": "dfead07e-693c-448a-8361-1e6ef3031721",
   "metadata": {},
   "outputs": [],
   "source": [
    "run_name = \"deb_maml\"\n",
    "results_path = \"../results\"\n",
    "results_dict = {}\n",
    "n_steps = 200\n",
    "save_weights_every = 20\n",
    "iter_control = 500\n",
    "adam_lr = 0.005\n",
    "control_lr = adam_lr\n",
    "\n",
    "dataset_params1 = {\"batch_size\": 256,\n",
    "                   \"new_shape\": (5, 5),\n",
    "                   \"subset\": (0, 1)}\n",
    "dataset_params2 = {\"batch_size\": 256,\n",
    "                   \"new_shape\": (5, 5),\n",
    "                   \"subset\": (7, 1)}\n",
    "dataset_params3 = {\"batch_size\": 256,\n",
    "                   \"new_shape\": (5, 5),\n",
    "                   \"subset\": (8, 9)}\n",
    "dataset_params = {\"dataset_classes\": (MNIST, MNIST, MNIST),\n",
    "                  \"dataset_list_params\": (dataset_params1, dataset_params2, dataset_params3)}\n",
    "\n",
    "dataset_class = MultiTask\n",
    "optimize_test = False\n",
    "\n",
    "network_params = {\"learning_rate\": 5e-3,\n",
    "                  \"hidden_dim\": 40,\n",
    "                  \"intrinsic_noise\": 0.0,\n",
    "                  \"reg_coef\": 0.0,\n",
    "                  \"W1_0\": None,\n",
    "                  \"W2_0\": None}\n",
    "\n",
    "network_class = LinearNet\n",
    "network_copies = len(dataset_params[\"dataset_classes\"])\n",
    "\n",
    "model_params = {\"network_class\": network_class,\n",
    "                \"network_params\": network_params,\n",
    "                \"n_copies\": network_copies}\n",
    "\n",
    "control_params = {\"control_lower_bound\": -1.0,\n",
    "                  \"control_upper_bound\": 1.0,\n",
    "                  \"gamma\": 1.0,\n",
    "                  \"cost_coef\": 0,\n",
    "                  \"reward_convertion\": 1.0,\n",
    "                  \"control_lr\": control_lr}"
   ]
  },
  {
   "cell_type": "code",
   "execution_count": 3,
   "id": "e9316a57-82ff-4455-951b-71dda921ac87",
   "metadata": {},
   "outputs": [
    {
     "name": "stderr",
     "output_type": "stream",
     "text": [
      "/home/rodrigo/anaconda3/envs/metamod/lib/python3.10/site-packages/torchvision/datasets/mnist.py:75: UserWarning: train_data has been renamed data\n",
      "  warnings.warn(\"train_data has been renamed data\")\n",
      "/home/rodrigo/anaconda3/envs/metamod/lib/python3.10/site-packages/torchvision/datasets/mnist.py:65: UserWarning: train_labels has been renamed targets\n",
      "  warnings.warn(\"train_labels has been renamed targets\")\n",
      "/home/rodrigo/anaconda3/envs/metamod/lib/python3.10/site-packages/torchvision/datasets/mnist.py:80: UserWarning: test_data has been renamed data\n",
      "  warnings.warn(\"test_data has been renamed data\")\n",
      "/home/rodrigo/anaconda3/envs/metamod/lib/python3.10/site-packages/torchvision/datasets/mnist.py:70: UserWarning: test_labels has been renamed targets\n",
      "  warnings.warn(\"test_labels has been renamed targets\")\n"
     ]
    }
   ],
   "source": [
    "dataset = dataset_class(**dataset_params)\n",
    "model_params[\"network_params\"][\"input_dim\"] = dataset.input_dim\n",
    "model_params[\"network_params\"][\"output_dim\"] = dataset.output_dim\n",
    "\n",
    "# Init neural network\n",
    "model = NetworkSet(**model_params)"
   ]
  },
  {
   "cell_type": "code",
   "execution_count": 4,
   "id": "b9d97a21-47af-4b17-b9e0-2d0e1630accd",
   "metadata": {},
   "outputs": [
    {
     "name": "stdout",
     "output_type": "stream",
     "text": [
      "(0, 1)\n"
     ]
    },
    {
     "name": "stderr",
     "output_type": "stream",
     "text": [
      "100%|███████████████████████████████████████████████████████████████████████████████████████████████████████████████████████████████████████████████████████████████████████████| 200/200 [00:00<00:00, 248.26it/s]\n"
     ]
    },
    {
     "name": "stdout",
     "output_type": "stream",
     "text": [
      "(7, 1)\n"
     ]
    },
    {
     "name": "stderr",
     "output_type": "stream",
     "text": [
      "100%|███████████████████████████████████████████████████████████████████████████████████████████████████████████████████████████████████████████████████████████████████████████| 200/200 [00:00<00:00, 878.95it/s]\n"
     ]
    },
    {
     "name": "stdout",
     "output_type": "stream",
     "text": [
      "(8, 9)\n"
     ]
    },
    {
     "name": "stderr",
     "output_type": "stream",
     "text": [
      "100%|███████████████████████████████████████████████████████████████████████████████████████████████████████████████████████████████████████████████████████████████████████████| 200/200 [00:00<00:00, 838.94it/s]\n"
     ]
    }
   ],
   "source": [
    "iters, loss, test_loss, weights_iter, weights = set_network_training(model=model, dataset=dataset, n_steps=n_steps,\n",
    "                                                                     save_weights_every=save_weights_every,\n",
    "                                                                     return_test=True)"
   ]
  },
  {
   "cell_type": "code",
   "execution_count": 5,
   "id": "968d9c4d-870e-4d09-840f-442662c1848f",
   "metadata": {},
   "outputs": [
    {
     "data": {
      "image/png": "[encoded data removed]",
      "text/plain": [
       "<Figure size 640x480 with 1 Axes>"
      ]
     },
     "metadata": {},
     "output_type": "display_data"
    }
   ],
   "source": [
    "for i in range(3):\n",
    "    plt.plot(loss[i, :], label = \"set\" + str(i))\n",
    "plt.show()"
   ]
  },
  {
   "cell_type": "code",
   "execution_count": 6,
   "id": "bfaa1544-cdcc-4d3a-a231-94da75bcc611",
   "metadata": {},
   "outputs": [],
   "source": [
    "results_dict[\"iters\"] = iters\n",
    "results_dict[\"Loss_t_sim\"] = loss\n",
    "results_dict[\"weights_sim\"] = weights\n",
    "results_dict[\"weights_iters_sim\"] = weights_iter\n",
    "results_dict[\"Loss_t_sim_test\"] = test_loss\n",
    "results_dict[\"avg_Loss_t_sim\"] = np.mean(loss, axis=0)\n",
    "results_dict[\"avg_Loss_t_sim_test\"] = np.mean(test_loss, axis=0)"
   ]
  },
  {
   "cell_type": "code",
   "execution_count": 7,
   "id": "4dddb69e-cb16-48a1-85a7-4a83141072c1",
   "metadata": {},
   "outputs": [],
   "source": [
    "# Solving equation\n",
    "init_W1 = weights[0][0, 0, ...]\n",
    "init_W2 = weights[1][0, 0, ...]\n",
    "\n",
    "init_weights = [init_W1, init_W2]\n",
    "input_corr, output_corr, input_output_corr, expected_y, expected_x = dataset.get_correlation_matrix()\n",
    "input_corr_test, output_corr_test, input_output_corr_test, expected_y_test, expected_x_test = dataset.get_correlation_matrix(\n",
    "    training=False)"
   ]
  },
  {
   "cell_type": "code",
   "execution_count": 8,
   "id": "94089ccd-d532-406b-9ea0-aa10cbc41db7",
   "metadata": {},
   "outputs": [],
   "source": [
    "time_span = np.arange(0, len(iters)) * model_params[\"network_params\"][\"learning_rate\"]\n",
    "results_dict[\"time_span\"] = time_span"
   ]
  },
  {
   "cell_type": "code",
   "execution_count": 9,
   "id": "9c42fd2b-6e9c-41dc-ad46-45c11702bd9b",
   "metadata": {},
   "outputs": [],
   "source": [
    "equation_params = {\"network_class\": LinearNetEq,\n",
    "                   \"in_cov\": input_corr,\n",
    "                   \"out_cov\": output_corr,\n",
    "                   \"in_out_cov\": input_output_corr,\n",
    "                   \"init_weights\": init_weights,\n",
    "                   \"in_cov_test\": input_corr_test,\n",
    "                   \"out_cov_test\": output_corr_test,\n",
    "                   \"in_out_cov_test\": input_output_corr_test,\n",
    "                   \"n_steps\": n_steps,\n",
    "                   \"reg_coef\": model_params[\"network_params\"][\"reg_coef\"],\n",
    "                   \"intrinsic_noise\": model_params[\"network_params\"][\"intrinsic_noise\"],\n",
    "                   \"learning_rate\": model_params[\"network_params\"][\"learning_rate\"],\n",
    "                   \"time_constant\": 1.0}"
   ]
  },
  {
   "cell_type": "code",
   "execution_count": 10,
   "id": "73932628-4bc1-4776-bcb9-42a1d54d734c",
   "metadata": {},
   "outputs": [],
   "source": [
    "solver = NetworkSetEq(**equation_params)\n",
    "\n",
    "W1_t, W2_t = solver.get_weights(time_span, get_numpy=True)\n",
    "Loss_t = solver.get_loss_function(W1_t, W2_t, get_numpy=True)\n",
    "Loss_t_test = solver.get_loss_function(W1_t, W2_t, get_numpy=True, use_test=True)\n",
    "\n",
    "results_dict[\"W1_t_eq\"] = W1_t\n",
    "results_dict[\"W2_t_eq\"] = W2_t\n",
    "results_dict[\"Loss_t_eq\"] = Loss_t\n",
    "results_dict[\"Loss_t_eq_test\"] = Loss_t_test"
   ]
  },
  {
   "cell_type": "code",
   "execution_count": 11,
   "id": "2e2beabb-bf83-4cfd-81e6-4d1b88b1b381",
   "metadata": {},
   "outputs": [
    {
     "data": {
      "image/png": "[encoded data removed]",
      "text/plain": [
       "<Figure size 640x480 with 1 Axes>"
      ]
     },
     "metadata": {},
     "output_type": "display_data"
    }
   ],
   "source": [
    "for i in range(3):\n",
    "    plt.plot(Loss_t[i, :], label = \"set\" + str(i))\n",
    "plt.show()"
   ]
  },
  {
   "cell_type": "code",
   "execution_count": 12,
   "id": "8d29d869-ce6e-4a60-abde-e4e7c43986a7",
   "metadata": {},
   "outputs": [],
   "source": [
    "control_params = {**control_params, **copy.deepcopy(equation_params)}\n",
    "control = NetworkSetControl(**control_params)\n",
    "\n",
    "W1_t_control, W2_t_control = control.get_weights(time_span, get_numpy=True)\n",
    "Loss_t_control = control.get_loss_function(W1_t_control, W2_t_control, get_numpy=True)\n",
    "Loss_t_control_test = control.get_loss_function(W1_t, W2_t, get_numpy=True, use_test=True)\n",
    "\n",
    "results_dict[\"W1_t_control_init\"] = W1_t_control\n",
    "results_dict[\"W2_t_control_init\"] = W2_t_control\n",
    "results_dict[\"Loss_t_control_init\"] = Loss_t_control\n",
    "results_dict[\"Loss_t_control_init_test\"] = Loss_t_control_test\n",
    "results_dict[\"control_signal_init\"] = (control.W1_0, control.W2_0)\n"
   ]
  },
  {
   "cell_type": "code",
   "execution_count": 13,
   "id": "e1bdd54b-a23b-4875-8be8-0a8f1b586bdf",
   "metadata": {},
   "outputs": [
    {
     "data": {
      "text/html": [
       "\n",
       "  <div class=\"bk-root\" id=\"7ac2ee09-d2d8-4840-8e93-d4488b09431f\" data-root-id=\"1003\"></div>\n"
      ]
     },
     "metadata": {},
     "output_type": "display_data"
    },
    {
     "data": {
      "application/javascript": [
       "(function(root) {\n",
       "  function embed_document(root) {\n",
       "  const docs_json = {\"0a45d710-b8c3-412f-9372-9c764b99833f\":{\"defs\":[],\"roots\":{\"references\":[{\"attributes\":{\"below\":[{\"id\":\"1012\"}],\"center\":[{\"id\":\"1015\"},{\"id\":\"1019\"},{\"id\":\"1051\"}],\"height\":500,\"left\":[{\"id\":\"1016\"}],\"renderers\":[{\"id\":\"1038\"},{\"id\":\"1057\"},{\"id\":\"1077\"},{\"id\":\"1099\"},{\"id\":\"1123\"}],\"title\":{\"id\":\"1040\"},\"toolbar\":{\"id\":\"1027\"},\"width\":800,\"x_range\":{\"id\":\"1004\"},\"x_scale\":{\"id\":\"1008\"},\"y_range\":{\"id\":\"1006\"},\"y_scale\":{\"id\":\"1010\"}},\"id\":\"1003\",\"subtype\":\"Figure\",\"type\":\"Plot\"},{\"attributes\":{},\"id\":\"1010\",\"type\":\"LinearScale\"},{\"attributes\":{\"line_alpha\":0.2,\"line_color\":\"#1f77b4\",\"line_width\":3,\"x\":{\"field\":\"x\"},\"y\":{\"field\":\"y\"}},\"id\":\"1056\",\"type\":\"Line\"},{\"attributes\":{},\"id\":\"1091\",\"type\":\"UnionRenderers\"},{\"attributes\":{\"coordinates\":null,\"data_source\":{\"id\":\"1053\"},\"glyph\":{\"id\":\"1054\"},\"group\":null,\"hover_glyph\":null,\"muted_glyph\":{\"id\":\"1056\"},\"nonselection_glyph\":{\"id\":\"1055\"},\"view\":{\"id\":\"1058\"}},\"id\":\"1057\",\"type\":\"GlyphRenderer\"},{\"attributes\":{\"coordinates\":null,\"data_source\":{\"id\":\"1034\"},\"glyph\":{\"id\":\"1035\"},\"group\":null,\"hover_glyph\":null,\"muted_glyph\":{\"id\":\"1037\"},\"nonselection_glyph\":{\"id\":\"1036\"},\"view\":{\"id\":\"1039\"}},\"id\":\"1038\",\"type\":\"GlyphRenderer\"},{\"attributes\":{},\"id\":\"1013\",\"type\":\"BasicTicker\"},{\"attributes\":{},\"id\":\"1092\",\"type\":\"Selection\"},{\"attributes\":{\"line_alpha\":0.3,\"line_color\":\"#1f77b4\",\"line_width\":3,\"x\":{\"field\":\"x\"},\"y\":{\"field\":\"y\"}},\"id\":\"1035\",\"type\":\"Line\"},{\"attributes\":{},\"id\":\"1025\",\"type\":\"HelpTool\"},{\"attributes\":{\"coordinates\":null,\"data_source\":{\"id\":\"1119\"},\"glyph\":{\"id\":\"1120\"},\"group\":null,\"hover_glyph\":null,\"muted_glyph\":{\"id\":\"1122\"},\"nonselection_glyph\":{\"id\":\"1121\"},\"view\":{\"id\":\"1124\"}},\"id\":\"1123\",\"type\":\"GlyphRenderer\"},{\"attributes\":{\"line_alpha\":0.2,\"line_color\":\"#1f77b4\",\"line_width\":3,\"x\":{\"field\":\"x\"},\"y\":{\"field\":\"y\"}},\"id\":\"1037\",\"type\":\"Line\"},{\"attributes\":{\"coordinates\":null,\"data_source\":{\"id\":\"1095\"},\"glyph\":{\"id\":\"1096\"},\"group\":null,\"hover_glyph\":null,\"muted_glyph\":{\"id\":\"1098\"},\"nonselection_glyph\":{\"id\":\"1097\"},\"view\":{\"id\":\"1100\"}},\"id\":\"1099\",\"type\":\"GlyphRenderer\"},{\"attributes\":{\"coordinates\":null,\"group\":null},\"id\":\"1040\",\"type\":\"Title\"},{\"attributes\":{\"line_color\":\"#d62728\",\"line_width\":3,\"x\":{\"field\":\"x\"},\"y\":{\"field\":\"y\"}},\"id\":\"1120\",\"type\":\"Line\"},{\"attributes\":{\"axis\":{\"id\":\"1012\"},\"coordinates\":null,\"group\":null,\"ticker\":null},\"id\":\"1015\",\"type\":\"Grid\"},{\"attributes\":{\"tools\":[{\"id\":\"1020\"},{\"id\":\"1021\"},{\"id\":\"1022\"},{\"id\":\"1023\"},{\"id\":\"1024\"},{\"id\":\"1025\"}]},\"id\":\"1027\",\"type\":\"Toolbar\"},{\"attributes\":{\"line_color\":\"#2ca02c\",\"line_width\":3,\"x\":{\"field\":\"x\"},\"y\":{\"field\":\"y\"}},\"id\":\"1096\",\"type\":\"Line\"},{\"attributes\":{},\"id\":\"1004\",\"type\":\"DataRange1d\"},{\"attributes\":{\"coordinates\":null,\"data_source\":{\"id\":\"1073\"},\"glyph\":{\"id\":\"1074\"},\"group\":null,\"hover_glyph\":null,\"muted_glyph\":{\"id\":\"1076\"},\"nonselection_glyph\":{\"id\":\"1075\"},\"view\":{\"id\":\"1078\"}},\"id\":\"1077\",\"type\":\"GlyphRenderer\"},{\"attributes\":{\"data\":{\"x\":[0,1,2,3,4,5,6,7,8,9,10,11,12,13,14,15,16,17,18,19,20,21,22,23,24,25,26,27,28,29,30,31,32,33,34,35,36,37,38,39,40,41,42,43,44,45,46,47,48,49,50,51,52,53,54,55,56,57,58,59,60,61,62,63,64,65,66,67,68,69,70,71,72,73,74,75,76,77,78,79,80,81,82,83,84,85,86,87,88,89,90,91,92,93,94,95,96,97,98,99,100,101,102,103,104,105,106,107,108,109,110,111,112,113,114,115,116,117,118,119,120,121,122,123,124,125,126,127,128,129,130,131,132,133,134,135,136,137,138,139,140,141,142,143,144,145,146,147,148,149,150,151,152,153,154,155,156,157,158,159,160,161,162,163,164,165,166,167,168,169,170,171,172,173,174,175,176,177,178,179,180,181,182,183,184,185,186,187,188,189,190,191,192,193,194,195,196,197,198,199],\"y\":{\"__ndarray__\":\"KQ8AP+gMAD+nCgA/ZwgAPycGAD/oAwA/qAEAP9H+/z5T+v8+1PX/PlXx/z7V7P8+V+j/Ptjj/z5X3/8+19r/PlXW/z7T0f8+UM3/PszI/z5HxP8+wL//Pjm7/z6wtv8+J7L/Pput/z4Nqf8+faT/Puyf/z5Ym/8+xJb/PiyS/z6Tjf8+94j/PliE/z63f/8+E3v/Pmx2/z7Dcf8+F23/Pmdo/z6zY/8+/V7/PkNa/z6HVf8+xVD/PgFM/z45R/8+bUL/Pp09/z7JOP8+8TP/PhQv/z4zKv8+TSX/PmMg/z5zG/8+fxb/PoUR/z6IDP8+hAf/PnwC/z5t/f4+W/j+PkDz/j4h7v4+/ej+PtPj/j6g3v4+adn+PizU/j7ozv4+n8n+Pk3E/j71vv4+l7n+PjG0/j7Frv4+Uan+Ptej/j5Tnv4+yZj+PjiT/j6djf4+/If+PlOC/j6gfP4+53b+PiRx/j5Ya/4+hWX+Pqhf/j7EWf4+1VP+Pt1N/j7dR/4+00H+Pr87/j6hNf4+eS/+Pkgp/j4NI/4+yBz+PnkW/j4fEP4+uwn+PksD/j7Q/P0+S/b9Prvv/T4f6f0+eOL9PsXb/T4H1f0+Pc79PmfH/T6EwP0+lbn9Ppuy/T6Uq/0+gKT9PmCd/T4xlv0+9479Pq2H/T5YgP0+9Xj9PoRx/T4Fav0+eGL9Pt1a/T40U/0+fEv9PrVD/T7gO/0+/DP9Pggs/T4FJP0+8xv9PtAT/T6dC/0+XAP9Pgv7/D6o8vw+Ner8PrPh/D4d2fw+eND8PsHH/D77vvw+ILb8PjWt/D44pPw+KJv8PgiS/D7ViPw+j3/8PjR2/D7IbPw+SWP8PrdZ/D4QUPw+WEb8Pog8/D6nMvw+sCj8PqUe/D6FFPw+UQr8PggA/D6o9fs+NOv7Pqng+z4I1vs+U8v7PoXA+z6jtfs+qKr7Ppef+z5wlPs+MIn7Pth9+z5ocvs+4Wb7PkNb+z6JT/s+uEP7Ps83+z7MK/s+sB/7PngT+z4oB/s+v/r6Pjnu+j6b4fo+4NT6PgvI+j4bu/o+D676Pueg+j4=\",\"dtype\":\"float32\",\"order\":\"little\",\"shape\":[200]}},\"selected\":{\"id\":\"1142\"},\"selection_policy\":{\"id\":\"1141\"}},\"id\":\"1119\",\"type\":\"ColumnDataSource\"},{\"attributes\":{\"source\":{\"id\":\"1119\"}},\"id\":\"1124\",\"type\":\"CDSView\"},{\"attributes\":{},\"id\":\"1046\",\"type\":\"BasicTickFormatter\"},{\"attributes\":{\"data\":{\"x\":[0,1,2,3,4,5,6,7,8,9,10,11,12,13,14,15,16,17,18,19,20,21,22,23,24,25,26,27,28,29,30,31,32,33,34,35,36,37,38,39,40,41,42,43,44,45,46,47,48,49,50,51,52,53,54,55,56,57,58,59,60,61,62,63,64,65,66,67,68,69,70,71,72,73,74,75,76,77,78,79,80,81,82,83,84,85,86,87,88,89,90,91,92,93,94,95,96,97,98,99,100,101,102,103,104,105,106,107,108,109,110,111,112,113,114,115,116,117,118,119,120,121,122,123,124,125,126,127,128,129,130,131,132,133,134,135,136,137,138,139,140,141,142,143,144,145,146,147,148,149,150,151,152,153,154,155,156,157,158,159,160,161,162,163,164,165,166,167,168,169,170,171,172,173,174,175,176,177,178,179,180,181,182,183,184,185,186,187,188,189,190,191,192,193,194,195,196,197,198,199],\"y\":{\"__ndarray__\":\"KQ8AP+gMAD+nCgA/ZwgAPycGAD/oAwA/qAEAP9H+/z5T+v8+1PX/PlXx/z7V7P8+V+j/Ptjj/z5X3/8+19r/PlXW/z7T0f8+UM3/PszI/z5HxP8+wL//Pjm7/z6wtv8+J7L/Pput/z4Nqf8+faT/Puyf/z5Ym/8+xJb/PiyS/z6Tjf8+94j/PliE/z63f/8+E3v/Pmx2/z7Dcf8+F23/Pmdo/z6zY/8+/V7/PkNa/z6HVf8+xVD/PgFM/z45R/8+bUL/Pp09/z7JOP8+8TP/PhQv/z4zKv8+TSX/PmMg/z5zG/8+fxb/PoUR/z6IDP8+hAf/PnwC/z5t/f4+W/j+PkDz/j4h7v4+/ej+PtPj/j6g3v4+adn+PizU/j7ozv4+n8n+Pk3E/j71vv4+l7n+PjG0/j7Frv4+Uan+Ptej/j5Tnv4+yZj+PjiT/j6djf4+/If+PlOC/j6gfP4+53b+PiRx/j5Ya/4+hWX+Pqhf/j7EWf4+1VP+Pt1N/j7dR/4+00H+Pr87/j6hNf4+eS/+Pkgp/j4NI/4+yBz+PnkW/j4fEP4+uwn+PksD/j7Q/P0+S/b9Prvv/T4f6f0+eOL9PsXb/T4H1f0+Pc79PmfH/T6EwP0+lbn9Ppuy/T6Uq/0+gKT9PmCd/T4xlv0+9479Pq2H/T5YgP0+9Xj9PoRx/T4Fav0+eGL9Pt1a/T40U/0+fEv9PrVD/T7gO/0+/DP9Pggs/T4FJP0+8xv9PtAT/T6dC/0+XAP9Pgv7/D6o8vw+Ner8PrPh/D4d2fw+eND8PsHH/D77vvw+ILb8PjWt/D44pPw+KJv8PgiS/D7ViPw+j3/8PjR2/D7IbPw+SWP8PrdZ/D4QUPw+WEb8Pog8/D6nMvw+sCj8PqUe/D6FFPw+UQr8PggA/D6o9fs+NOv7Pqng+z4I1vs+U8v7PoXA+z6jtfs+qKr7Ppef+z5wlPs+MIn7Pth9+z5ocvs+4Wb7PkNb+z6JT/s+uEP7Ps83+z7MK/s+sB/7PngT+z4oB/s+v/r6Pjnu+j6b4fo+4NT6PgvI+j4bu/o+D676Pueg+j4=\",\"dtype\":\"float32\",\"order\":\"little\",\"shape\":[200]}},\"selected\":{\"id\":\"1116\"},\"selection_policy\":{\"id\":\"1115\"}},\"id\":\"1095\",\"type\":\"ColumnDataSource\"},{\"attributes\":{\"label\":{\"value\":\"Control test\"},\"renderers\":[{\"id\":\"1123\"}]},\"id\":\"1144\",\"type\":\"LegendItem\"},{\"attributes\":{\"source\":{\"id\":\"1095\"}},\"id\":\"1100\",\"type\":\"CDSView\"},{\"attributes\":{},\"id\":\"1142\",\"type\":\"Selection\"},{\"attributes\":{\"line_alpha\":0.1,\"line_color\":\"#1f77b4\",\"line_width\":3,\"x\":{\"field\":\"x\"},\"y\":{\"field\":\"y\"}},\"id\":\"1036\",\"type\":\"Line\"},{\"attributes\":{\"line_alpha\":0.1,\"line_color\":\"#d62728\",\"line_width\":3,\"x\":{\"field\":\"x\"},\"y\":{\"field\":\"y\"}},\"id\":\"1121\",\"type\":\"Line\"},{\"attributes\":{\"line_alpha\":0.2,\"line_color\":\"#d62728\",\"line_width\":3,\"x\":{\"field\":\"x\"},\"y\":{\"field\":\"y\"}},\"id\":\"1122\",\"type\":\"Line\"},{\"attributes\":{\"line_alpha\":0.2,\"line_color\":\"#2ca02c\",\"line_width\":3,\"x\":{\"field\":\"x\"},\"y\":{\"field\":\"y\"}},\"id\":\"1098\",\"type\":\"Line\"},{\"attributes\":{},\"id\":\"1141\",\"type\":\"UnionRenderers\"},{\"attributes\":{\"line_alpha\":0.1,\"line_color\":\"#2ca02c\",\"line_width\":3,\"x\":{\"field\":\"x\"},\"y\":{\"field\":\"y\"}},\"id\":\"1097\",\"type\":\"Line\"},{\"attributes\":{\"bottom_units\":\"screen\",\"coordinates\":null,\"fill_alpha\":0.5,\"fill_color\":\"lightgrey\",\"group\":null,\"left_units\":\"screen\",\"level\":\"overlay\",\"line_alpha\":1.0,\"line_color\":\"black\",\"line_dash\":[4,4],\"line_width\":2,\"right_units\":\"screen\",\"syncable\":false,\"top_units\":\"screen\"},\"id\":\"1026\",\"type\":\"BoxAnnotation\"},{\"attributes\":{\"label\":{\"value\":\"Equation test\"},\"renderers\":[{\"id\":\"1099\"}]},\"id\":\"1118\",\"type\":\"LegendItem\"},{\"attributes\":{},\"id\":\"1006\",\"type\":\"DataRange1d\"},{\"attributes\":{},\"id\":\"1021\",\"type\":\"WheelZoomTool\"},{\"attributes\":{\"overlay\":{\"id\":\"1026\"}},\"id\":\"1022\",\"type\":\"BoxZoomTool\"},{\"attributes\":{\"axis\":{\"id\":\"1016\"},\"coordinates\":null,\"dimension\":1,\"group\":null,\"ticker\":null},\"id\":\"1019\",\"type\":\"Grid\"},{\"attributes\":{},\"id\":\"1047\",\"type\":\"AllLabels\"},{\"attributes\":{\"axis_label\":\"iters\",\"coordinates\":null,\"formatter\":{\"id\":\"1046\"},\"group\":null,\"major_label_policy\":{\"id\":\"1047\"},\"ticker\":{\"id\":\"1013\"}},\"id\":\"1012\",\"type\":\"LinearAxis\"},{\"attributes\":{\"label\":{\"value\":\"Simulation\"},\"renderers\":[{\"id\":\"1038\"}]},\"id\":\"1052\",\"type\":\"LegendItem\"},{\"attributes\":{},\"id\":\"1070\",\"type\":\"Selection\"},{\"attributes\":{},\"id\":\"1116\",\"type\":\"Selection\"},{\"attributes\":{\"line_color\":\"#1f77b4\",\"line_width\":3,\"x\":{\"field\":\"x\"},\"y\":{\"field\":\"y\"}},\"id\":\"1054\",\"type\":\"Line\"},{\"attributes\":{},\"id\":\"1008\",\"type\":\"LinearScale\"},{\"attributes\":{\"line_color\":\"#ff7f0e\",\"line_width\":3,\"x\":{\"field\":\"x\"},\"y\":{\"field\":\"y\"}},\"id\":\"1074\",\"type\":\"Line\"},{\"attributes\":{\"axis_label\":\"Loss\",\"coordinates\":null,\"formatter\":{\"id\":\"1043\"},\"group\":null,\"major_label_policy\":{\"id\":\"1044\"},\"ticker\":{\"id\":\"1017\"}},\"id\":\"1016\",\"type\":\"LinearAxis\"},{\"attributes\":{},\"id\":\"1044\",\"type\":\"AllLabels\"},{\"attributes\":{},\"id\":\"1069\",\"type\":\"UnionRenderers\"},{\"attributes\":{},\"id\":\"1017\",\"type\":\"BasicTicker\"},{\"attributes\":{},\"id\":\"1043\",\"type\":\"BasicTickFormatter\"},{\"attributes\":{\"source\":{\"id\":\"1034\"}},\"id\":\"1039\",\"type\":\"CDSView\"},{\"attributes\":{},\"id\":\"1048\",\"type\":\"UnionRenderers\"},{\"attributes\":{\"coordinates\":null,\"group\":null,\"items\":[{\"id\":\"1052\"},{\"id\":\"1072\"},{\"id\":\"1094\"},{\"id\":\"1118\"},{\"id\":\"1144\"}]},\"id\":\"1051\",\"type\":\"Legend\"},{\"attributes\":{},\"id\":\"1024\",\"type\":\"ResetTool\"},{\"attributes\":{},\"id\":\"1049\",\"type\":\"Selection\"},{\"attributes\":{\"data\":{\"x\":[0,1,2,3,4,5,6,7,8,9,10,11,12,13,14,15,16,17,18,19,20,21,22,23,24,25,26,27,28,29,30,31,32,33,34,35,36,37,38,39,40,41,42,43,44,45,46,47,48,49,50,51,52,53,54,55,56,57,58,59,60,61,62,63,64,65,66,67,68,69,70,71,72,73,74,75,76,77,78,79,80,81,82,83,84,85,86,87,88,89,90,91,92,93,94,95,96,97,98,99,100,101,102,103,104,105,106,107,108,109,110,111,112,113,114,115,116,117,118,119,120,121,122,123,124,125,126,127,128,129,130,131,132,133,134,135,136,137,138,139,140,141,142,143,144,145,146,147,148,149,150,151,152,153,154,155,156,157,158,159,160,161,162,163,164,165,166,167,168,169,170,171,172,173,174,175,176,177,178,179,180,181,182,183,184,185,186,187,188,189,190,191,192,193,194,195,196,197,198,199],\"y\":{\"__ndarray__\":\"gw8AP0cNAD8MCwA/0QgAP5cGAD9cBAA/IgIAP9D//z5b+/8+6Pb/PnTy/z4A7v8+i+n/PhXl/z6h4P8+K9z/PrTX/z490/8+xc7/PkzK/z7Txf8+V8H/Ptu8/z5cuP8+3LP/Plyv/z7Zqv8+Vab/Ps+h/z5Hnf8+vJj/PjCU/z6hj/8+EIv/Pn2G/z7ogf8+T33/PrN4/z4VdP8+c2//PtBq/z4oZv8+fWH/Ps9c/z4dWP8+aFP/PrBO/z7zSf8+M0X/Pm9A/z6lO/8+2Tb/Pggy/z4zLf8+WSj/Pnkj/z6YHv8+rxn/PsEU/z7QD/8+2Ar/PtsF/z7ZAP8+0/v+PsX2/j6z8f4+m+z+Pnzn/j5Y4v4+Ld3+PvzX/j7F0v4+h83+PkPI/j74wv4+qL3+Pk+4/j7vsv4+iK3+Phmo/j6kov4+KJ3+PqOX/j4Xkv4+g4z+PuWG/j5Bgf4+lXv+PuB1/j4jcP4+XWr+Po9k/j63Xv4+11j+Pu1S/j77TP4+/0b+PvlA/j7pOv4+0TT+Pq0u/j6DKP4+SyL+Pgsc/j6/Ff4+aA/+PggJ/j6dAv4+KPz9PqX1/T4Z7/0+gej9Pt/h/T4w2/0+ddT9PrDN/T7dxv0+/7/9PhO5/T4dsv0+GKv9Pgik/T7rnP0+wJX9PoiO/T5Dh/0+8X/9PpF4/T4jcf0+p2n9Phxi/T6FWv0+3VL9PihL/T5lQ/0+kzv9PrAz/T6/K/0+vyP9Pq8b/T6QE/0+YAv9PiAD/T7Q+vw+cPL8PgDq/D5/4fw+7Nj8PkjQ/D6Ux/w+z778Pve1/D4Nrfw+E6T8PgWb/D7lkfw+s4j8Pm1//D4Xdvw+rGz8Pi1j/D6cWfw++E/8Pj9G/D5zPPw+kTL8Ppwo/D6RHvw+cxT8Pj8K/D71//s+mPX7PiTr+z6Z4Ps++9X7PkTL+z54wPs+lbX7Ppuq+z6Ln/s+Y5T7PiOJ+z7Lffs+XHL7PtRm+z40W/s+fE/7PqtD+z7AN/s+vSv7PqAf+z5pE/s+GQf7Pq/6+j4p7vo+iOH6Ps3U+j74x/o+B7v6Pvut+j4=\",\"dtype\":\"float32\",\"order\":\"little\",\"shape\":[200]}},\"selected\":{\"id\":\"1092\"},\"selection_policy\":{\"id\":\"1091\"}},\"id\":\"1073\",\"type\":\"ColumnDataSource\"},{\"attributes\":{},\"id\":\"1115\",\"type\":\"UnionRenderers\"},{\"attributes\":{\"line_alpha\":0.1,\"line_color\":\"#1f77b4\",\"line_width\":3,\"x\":{\"field\":\"x\"},\"y\":{\"field\":\"y\"}},\"id\":\"1055\",\"type\":\"Line\"},{\"attributes\":{\"source\":{\"id\":\"1073\"}},\"id\":\"1078\",\"type\":\"CDSView\"},{\"attributes\":{\"source\":{\"id\":\"1053\"}},\"id\":\"1058\",\"type\":\"CDSView\"},{\"attributes\":{\"label\":{\"value\":\"Init Control\"},\"renderers\":[{\"id\":\"1077\"}]},\"id\":\"1094\",\"type\":\"LegendItem\"},{\"attributes\":{},\"id\":\"1023\",\"type\":\"SaveTool\"},{\"attributes\":{\"line_alpha\":0.2,\"line_color\":\"#ff7f0e\",\"line_width\":3,\"x\":{\"field\":\"x\"},\"y\":{\"field\":\"y\"}},\"id\":\"1076\",\"type\":\"Line\"},{\"attributes\":{},\"id\":\"1020\",\"type\":\"PanTool\"},{\"attributes\":{\"data\":{\"x\":[0,1,2,3,4,5,6,7,8,9,10,11,12,13,14,15,16,17,18,19,20,21,22,23,24,25,26,27,28,29,30,31,32,33,34,35,36,37,38,39,40,41,42,43,44,45,46,47,48,49,50,51,52,53,54,55,56,57,58,59,60,61,62,63,64,65,66,67,68,69,70,71,72,73,74,75,76,77,78,79,80,81,82,83,84,85,86,87,88,89,90,91,92,93,94,95,96,97,98,99,100,101,102,103,104,105,106,107,108,109,110,111,112,113,114,115,116,117,118,119,120,121,122,123,124,125,126,127,128,129,130,131,132,133,134,135,136,137,138,139,140,141,142,143,144,145,146,147,148,149,150,151,152,153,154,155,156,157,158,159,160,161,162,163,164,165,166,167,168,169,170,171,172,173,174,175,176,177,178,179,180,181,182,183,184,185,186,187,188,189,190,191,192,193,194,195,196,197,198,199],\"y\":{\"__ndarray__\":\"jxYAP2oJAD+/CAA/oAoAPzEKAD9zDAA/sAcAP6wAAD8sAgA/g///PqHt/z6p7/8+4On/PmPk/z5P6f8+0Nz/PsvW/z7A3/8+tdj/Plm//z6VyP8+p8r/Ply5/z5xuP8+q7b/Pgi6/z5Tsv8+6LL/PhOm/z7gn/8+P6j/Pk2p/z7bmf8+UYv/PoOQ/z5LjP8+TXr/Pil//z6rdv8+4G7/PnRs/z7zXP8+5WT/Pn1n/z67aP8+22f/PtlX/z5US/8+pED/Pkg9/z71Rf8+Ty7/Phc4/z6lL/8+dyz/PmMj/z4gJf8+rx7/PnAV/z5AE/8+YBL/PigR/z64Ev8+aO7+Pqj1/j7T8v4+K+n+Ppzz/j655P4+leb+Pjfc/j6F0P4+WNf+PuzB/j5zzf4+TL/+PnDC/j7AvP4+i7T+Ptuv/j5lqv4+KJ/+Prea/j6Lmf4+/Zb+PjyM/j7ti/4+WIf+PlB4/j7Lef4+I2b+Pghx/j7NWf4+GF/+PvBi/j5EVP4+Kz/+PilI/j6HPv4+KTv+Pn0v/j6PLv4+6C/+PvAo/j7HEf4+YBX+PmMQ/j7D/v0+3Qz+PnH1/T5I+f0+8+/9PqXp/T7Z4v0+Ndj9PrXd/T6Xy/0+ncr9Pp2//T4Yuv0+kLH9Pm+s/T6Dpf0+B539Pv2a/T4bif0+EIX9PrWF/T7lfP0+eXf9Pilo/T40Wf0+k039PjhU/T4QSv0+w0D9Pg00/T5TLv0+MCb9PpUl/T58Hv0+Kxz9PhAI/T4nA/0+NPn8PmH4/D587vw+NOH8Ponb/D7J0Pw+O9T8Pu++/D6pvPw+C7P8Pl2p/D5fjvw+8Jf8Po2A/D7tiPw+yYL8Pn1j/D4MY/w+uFf8PrVK/D7cQPw+m0L8Pj8t/D4IK/w+7CL8Ps0K/D7wCvw+bQL8PmXs+z6g6/s+HNr7PtnO+z5Iv/s+JL77PvSy+z6lsfs+jaP7Ptid+z6tifs+R337PrNr+z5xafs++Vv7Pj1b+z7UPfs+GDf7PkUq+z7zJ/s+Axn7PnwF+z5j9vo+zeX6PoXg+j4t0vo+c8j6PtW/+j4=\",\"dtype\":\"float32\",\"order\":\"little\",\"shape\":[200]}},\"selected\":{\"id\":\"1049\"},\"selection_policy\":{\"id\":\"1048\"}},\"id\":\"1034\",\"type\":\"ColumnDataSource\"},{\"attributes\":{\"line_alpha\":0.1,\"line_color\":\"#ff7f0e\",\"line_width\":3,\"x\":{\"field\":\"x\"},\"y\":{\"field\":\"y\"}},\"id\":\"1075\",\"type\":\"Line\"},{\"attributes\":{\"label\":{\"value\":\"Equation\"},\"renderers\":[{\"id\":\"1057\"}]},\"id\":\"1072\",\"type\":\"LegendItem\"},{\"attributes\":{\"data\":{\"x\":[0,1,2,3,4,5,6,7,8,9,10,11,12,13,14,15,16,17,18,19,20,21,22,23,24,25,26,27,28,29,30,31,32,33,34,35,36,37,38,39,40,41,42,43,44,45,46,47,48,49,50,51,52,53,54,55,56,57,58,59,60,61,62,63,64,65,66,67,68,69,70,71,72,73,74,75,76,77,78,79,80,81,82,83,84,85,86,87,88,89,90,91,92,93,94,95,96,97,98,99,100,101,102,103,104,105,106,107,108,109,110,111,112,113,114,115,116,117,118,119,120,121,122,123,124,125,126,127,128,129,130,131,132,133,134,135,136,137,138,139,140,141,142,143,144,145,146,147,148,149,150,151,152,153,154,155,156,157,158,159,160,161,162,163,164,165,166,167,168,169,170,171,172,173,174,175,176,177,178,179,180,181,182,183,184,185,186,187,188,189,190,191,192,193,194,195,196,197,198,199],\"y\":{\"__ndarray__\":\"gw8AP0cNAD8MCwA/0QgAP5cGAD9cBAA/IgIAP9D//z5b+/8+6Pb/PnTy/z4A7v8+i+n/PhXl/z6h4P8+K9z/PrTX/z490/8+xc7/PkzK/z7Txf8+V8H/Ptu8/z5cuP8+3LP/Plyv/z7Zqv8+Vab/Ps+h/z5Hnf8+vJj/PjCU/z6hj/8+EIv/Pn2G/z7ogf8+T33/PrN4/z4VdP8+c2//PtBq/z4oZv8+fWH/Ps9c/z4dWP8+aFP/PrBO/z7zSf8+M0X/Pm9A/z6lO/8+2Tb/Pggy/z4zLf8+WSj/Pnkj/z6YHv8+rxn/PsEU/z7QD/8+2Ar/PtsF/z7ZAP8+0/v+PsX2/j6z8f4+m+z+Pnzn/j5Y4v4+Ld3+PvzX/j7F0v4+h83+PkPI/j74wv4+qL3+Pk+4/j7vsv4+iK3+Phmo/j6kov4+KJ3+PqOX/j4Xkv4+g4z+PuWG/j5Bgf4+lXv+PuB1/j4jcP4+XWr+Po9k/j63Xv4+11j+Pu1S/j77TP4+/0b+PvlA/j7pOv4+0TT+Pq0u/j6DKP4+SyL+Pgsc/j6/Ff4+aA/+PggJ/j6dAv4+KPz9PqX1/T4Z7/0+gej9Pt/h/T4w2/0+ddT9PrDN/T7dxv0+/7/9PhO5/T4dsv0+GKv9Pgik/T7rnP0+wJX9PoiO/T5Dh/0+8X/9PpF4/T4jcf0+p2n9Phxi/T6FWv0+3VL9PihL/T5lQ/0+kzv9PrAz/T6/K/0+vyP9Pq8b/T6QE/0+YAv9PiAD/T7Q+vw+cPL8PgDq/D5/4fw+7Nj8PkjQ/D6Ux/w+z778Pve1/D4Nrfw+E6T8PgWb/D7lkfw+s4j8Pm1//D4Xdvw+rGz8Pi1j/D6cWfw++E/8Pj9G/D5zPPw+kTL8Ppwo/D6RHvw+cxT8Pj8K/D71//s+mPX7PiTr+z6Z4Ps++9X7PkTL+z54wPs+lbX7Ppuq+z6Ln/s+Y5T7PiOJ+z7Lffs+XHL7PtRm+z40W/s+fE/7PqtD+z7AN/s+vSv7PqAf+z5pE/s+GQf7Pq/6+j4p7vo+iOH6Ps3U+j74x/o+B7v6Pvut+j4=\",\"dtype\":\"float32\",\"order\":\"little\",\"shape\":[200]}},\"selected\":{\"id\":\"1070\"},\"selection_policy\":{\"id\":\"1069\"}},\"id\":\"1053\",\"type\":\"ColumnDataSource\"}],\"root_ids\":[\"1003\"]},\"title\":\"Bokeh Application\",\"version\":\"2.4.3\"}};\n",
       "  const render_items = [{\"docid\":\"0a45d710-b8c3-412f-9372-9c764b99833f\",\"root_ids\":[\"1003\"],\"roots\":{\"1003\":\"7ac2ee09-d2d8-4840-8e93-d4488b09431f\"}}];\n",
       "  root.Bokeh.embed.embed_items_notebook(docs_json, render_items);\n",
       "  }\n",
       "  if (root.Bokeh !== undefined) {\n",
       "    embed_document(root);\n",
       "  } else {\n",
       "    let attempts = 0;\n",
       "    const timer = setInterval(function(root) {\n",
       "      if (root.Bokeh !== undefined) {\n",
       "        clearInterval(timer);\n",
       "        embed_document(root);\n",
       "      } else {\n",
       "        attempts++;\n",
       "        if (attempts > 100) {\n",
       "          clearInterval(timer);\n",
       "          console.log(\"Bokeh: ERROR: Unable to run BokehJS code because BokehJS library is missing\");\n",
       "        }\n",
       "      }\n",
       "    }, 10, root)\n",
       "  }\n",
       "})(window);"
      ],
      "application/vnd.bokehjs_exec.v0+json": ""
     },
     "metadata": {
      "application/vnd.bokehjs_exec.v0+json": {
       "id": "1003"
      }
     },
     "output_type": "display_data"
    }
   ],
   "source": [
    "losses = [np.mean(loss, axis=0), np.mean(Loss_t, axis=0), np.mean(Loss_t_control, axis=0), \n",
    "          np.mean(Loss_t_test, axis=0), np.mean(Loss_t_control_test, axis=0)]\n",
    "colors = (Category10[10][0], Category10[10][0], Category10[10][1], Category10[10][2], Category10[10][3])\n",
    "legends = (\"Simulation\", \"Equation\", \"Init Control\", \"Equation test\", \"Control test\")\n",
    "alphas = (0.3, 1, 1, 1, 1)\n",
    "\n",
    "s = plot_lines(iters, losses, legends, alphas, colors)\n",
    "show(s)"
   ]
  },
  {
   "cell_type": "code",
   "execution_count": null,
   "id": "c3be8f7c-f2f6-49c4-aa87-bc376ad211e4",
   "metadata": {},
   "outputs": [],
   "source": []
  },
  {
   "cell_type": "code",
   "execution_count": 14,
   "id": "649a8a06-ed30-46fa-b129-33f7d8a2afa0",
   "metadata": {},
   "outputs": [
    {
     "name": "stderr",
     "output_type": "stream",
     "text": [
      "100%|████████████████████████████████████████████████████████████████████████████████████████████████████████████████████████████████████████████████████████████████████████████| 500/500 [02:52<00:00,  2.90it/s]\n"
     ]
    }
   ],
   "source": [
    "control_params[\"iters_control\"] = iter_control\n",
    "cumulated_reward = []\n",
    "mean_grad = []\n",
    "\n",
    "for i in tqdm(range(iter_control)):\n",
    "    R, grad = control.train_step(get_numpy=True, eval_on_test=optimize_test)\n",
    "    cumulated_reward.append(R)\n",
    "    mean_grad.append(grad)\n",
    "cumulated_reward = np.array(cumulated_reward).astype(float)\n",
    "results_dict[\"cumulated_reward_opt\"] = cumulated_reward"
   ]
  },
  {
   "cell_type": "code",
   "execution_count": 15,
   "id": "f60dee89-ce71-4138-976d-4e8936a210f9",
   "metadata": {},
   "outputs": [
    {
     "data": {
      "text/html": [
       "\n",
       "  <div class=\"bk-root\" id=\"1c3cc033-f9f6-4f68-897f-e416ff5b7003\" data-root-id=\"1259\"></div>\n"
      ]
     },
     "metadata": {},
     "output_type": "display_data"
    },
    {
     "data": {
      "application/javascript": [
       "(function(root) {\n",
       "  function embed_document(root) {\n",
       "  const docs_json = {\"cce947ca-84b5-4aba-84cb-ac8b686c429b\":{\"defs\":[],\"roots\":{\"references\":[{\"attributes\":{\"below\":[{\"id\":\"1268\"}],\"center\":[{\"id\":\"1271\"},{\"id\":\"1275\"},{\"id\":\"1307\"}],\"height\":500,\"left\":[{\"id\":\"1272\"}],\"renderers\":[{\"id\":\"1294\"}],\"title\":{\"id\":\"1296\"},\"toolbar\":{\"id\":\"1283\"},\"width\":800,\"x_range\":{\"id\":\"1260\"},\"x_scale\":{\"id\":\"1264\"},\"y_range\":{\"id\":\"1262\"},\"y_scale\":{\"id\":\"1266\"}},\"id\":\"1259\",\"subtype\":\"Figure\",\"type\":\"Plot\"},{\"attributes\":{},\"id\":\"1304\",\"type\":\"UnionRenderers\"},{\"attributes\":{},\"id\":\"1299\",\"type\":\"BasicTickFormatter\"},{\"attributes\":{\"coordinates\":null,\"group\":null},\"id\":\"1296\",\"type\":\"Title\"},{\"attributes\":{\"coordinates\":null,\"data_source\":{\"id\":\"1290\"},\"glyph\":{\"id\":\"1291\"},\"group\":null,\"hover_glyph\":null,\"muted_glyph\":{\"id\":\"1293\"},\"nonselection_glyph\":{\"id\":\"1292\"},\"view\":{\"id\":\"1295\"}},\"id\":\"1294\",\"type\":\"GlyphRenderer\"},{\"attributes\":{\"axis\":{\"id\":\"1268\"},\"coordinates\":null,\"group\":null,\"ticker\":null},\"id\":\"1271\",\"type\":\"Grid\"},{\"attributes\":{\"coordinates\":null,\"group\":null,\"items\":[{\"id\":\"1308\"}]},\"id\":\"1307\",\"type\":\"Legend\"},{\"attributes\":{},\"id\":\"1266\",\"type\":\"LinearScale\"},{\"attributes\":{},\"id\":\"1264\",\"type\":\"LinearScale\"},{\"attributes\":{},\"id\":\"1262\",\"type\":\"DataRange1d\"},{\"attributes\":{},\"id\":\"1300\",\"type\":\"AllLabels\"},{\"attributes\":{\"data\":{\"x\":[0,1,2,3,4,5,6,7,8,9,10,11,12,13,14,15,16,17,18,19,20,21,22,23,24,25,26,27,28,29,30,31,32,33,34,35,36,37,38,39,40,41,42,43,44,45,46,47,48,49,50,51,52,53,54,55,56,57,58,59,60,61,62,63,64,65,66,67,68,69,70,71,72,73,74,75,76,77,78,79,80,81,82,83,84,85,86,87,88,89,90,91,92,93,94,95,96,97,98,99,100,101,102,103,104,105,106,107,108,109,110,111,112,113,114,115,116,117,118,119,120,121,122,123,124,125,126,127,128,129,130,131,132,133,134,135,136,137,138,139,140,141,142,143,144,145,146,147,148,149,150,151,152,153,154,155,156,157,158,159,160,161,162,163,164,165,166,167,168,169,170,171,172,173,174,175,176,177,178,179,180,181,182,183,184,185,186,187,188,189,190,191,192,193,194,195,196,197,198,199,200,201,202,203,204,205,206,207,208,209,210,211,212,213,214,215,216,217,218,219,220,221,222,223,224,225,226,227,228,229,230,231,232,233,234,235,236,237,238,239,240,241,242,243,244,245,246,247,248,249,250,251,252,253,254,255,256,257,258,259,260,261,262,263,264,265,266,267,268,269,270,271,272,273,274,275,276,277,278,279,280,281,282,283,284,285,286,287,288,289,290,291,292,293,294,295,296,297,298,299,300,301,302,303,304,305,306,307,308,309,310,311,312,313,314,315,316,317,318,319,320,321,322,323,324,325,326,327,328,329,330,331,332,333,334,335,336,337,338,339,340,341,342,343,344,345,346,347,348,349,350,351,352,353,354,355,356,357,358,359,360,361,362,363,364,365,366,367,368,369,370,371,372,373,374,375,376,377,378,379,380,381,382,383,384,385,386,387,388,389,390,391,392,393,394,395,396,397,398,399,400,401,402,403,404,405,406,407,408,409,410,411,412,413,414,415,416,417,418,419,420,421,422,423,424,425,426,427,428,429,430,431,432,433,434,435,436,437,438,439,440,441,442,443,444,445,446,447,448,449,450,451,452,453,454,455,456,457,458,459,460,461,462,463,464,465,466,467,468,469,470,471,472,473,474,475,476,477,478,479,480,481,482,483,484,485,486,487,488,489,490,491,492,493,494,495,496,497,498,499],\"y\":{\"__ndarray__\":\"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\",\"dtype\":\"float64\",\"order\":\"little\",\"shape\":[500]}},\"selected\":{\"id\":\"1305\"},\"selection_policy\":{\"id\":\"1304\"}},\"id\":\"1290\",\"type\":\"ColumnDataSource\"},{\"attributes\":{\"axis_label\":\"gradient steps on control\",\"coordinates\":null,\"formatter\":{\"id\":\"1302\"},\"group\":null,\"major_label_policy\":{\"id\":\"1303\"},\"ticker\":{\"id\":\"1269\"}},\"id\":\"1268\",\"type\":\"LinearAxis\"},{\"attributes\":{\"label\":{\"value\":\"\"},\"renderers\":[{\"id\":\"1294\"}]},\"id\":\"1308\",\"type\":\"LegendItem\"},{\"attributes\":{},\"id\":\"1260\",\"type\":\"DataRange1d\"},{\"attributes\":{\"line_alpha\":0.2,\"line_color\":\"#1f77b4\",\"line_width\":3,\"x\":{\"field\":\"x\"},\"y\":{\"field\":\"y\"}},\"id\":\"1293\",\"type\":\"Line\"},{\"attributes\":{},\"id\":\"1279\",\"type\":\"SaveTool\"},{\"attributes\":{\"axis\":{\"id\":\"1272\"},\"coordinates\":null,\"dimension\":1,\"group\":null,\"ticker\":null},\"id\":\"1275\",\"type\":\"Grid\"},{\"attributes\":{},\"id\":\"1276\",\"type\":\"PanTool\"},{\"attributes\":{\"axis_label\":\"Cumulated reward\",\"coordinates\":null,\"formatter\":{\"id\":\"1299\"},\"group\":null,\"major_label_policy\":{\"id\":\"1300\"},\"ticker\":{\"id\":\"1273\"}},\"id\":\"1272\",\"type\":\"LinearAxis\"},{\"attributes\":{},\"id\":\"1280\",\"type\":\"ResetTool\"},{\"attributes\":{},\"id\":\"1303\",\"type\":\"AllLabels\"},{\"attributes\":{},\"id\":\"1273\",\"type\":\"BasicTicker\"},{\"attributes\":{\"bottom_units\":\"screen\",\"coordinates\":null,\"fill_alpha\":0.5,\"fill_color\":\"lightgrey\",\"group\":null,\"left_units\":\"screen\",\"level\":\"overlay\",\"line_alpha\":1.0,\"line_color\":\"black\",\"line_dash\":[4,4],\"line_width\":2,\"right_units\":\"screen\",\"syncable\":false,\"top_units\":\"screen\"},\"id\":\"1282\",\"type\":\"BoxAnnotation\"},{\"attributes\":{\"tools\":[{\"id\":\"1276\"},{\"id\":\"1277\"},{\"id\":\"1278\"},{\"id\":\"1279\"},{\"id\":\"1280\"},{\"id\":\"1281\"}]},\"id\":\"1283\",\"type\":\"Toolbar\"},{\"attributes\":{\"overlay\":{\"id\":\"1282\"}},\"id\":\"1278\",\"type\":\"BoxZoomTool\"},{\"attributes\":{},\"id\":\"1305\",\"type\":\"Selection\"},{\"attributes\":{},\"id\":\"1277\",\"type\":\"WheelZoomTool\"},{\"attributes\":{\"line_alpha\":0.1,\"line_color\":\"#1f77b4\",\"line_width\":3,\"x\":{\"field\":\"x\"},\"y\":{\"field\":\"y\"}},\"id\":\"1292\",\"type\":\"Line\"},{\"attributes\":{},\"id\":\"1269\",\"type\":\"BasicTicker\"},{\"attributes\":{\"source\":{\"id\":\"1290\"}},\"id\":\"1295\",\"type\":\"CDSView\"},{\"attributes\":{\"line_color\":\"#1f77b4\",\"line_width\":3,\"x\":{\"field\":\"x\"},\"y\":{\"field\":\"y\"}},\"id\":\"1291\",\"type\":\"Line\"},{\"attributes\":{},\"id\":\"1281\",\"type\":\"HelpTool\"},{\"attributes\":{},\"id\":\"1302\",\"type\":\"BasicTickFormatter\"}],\"root_ids\":[\"1259\"]},\"title\":\"Bokeh Application\",\"version\":\"2.4.3\"}};\n",
       "  const render_items = [{\"docid\":\"cce947ca-84b5-4aba-84cb-ac8b686c429b\",\"root_ids\":[\"1259\"],\"roots\":{\"1259\":\"1c3cc033-f9f6-4f68-897f-e416ff5b7003\"}}];\n",
       "  root.Bokeh.embed.embed_items_notebook(docs_json, render_items);\n",
       "  }\n",
       "  if (root.Bokeh !== undefined) {\n",
       "    embed_document(root);\n",
       "  } else {\n",
       "    let attempts = 0;\n",
       "    const timer = setInterval(function(root) {\n",
       "      if (root.Bokeh !== undefined) {\n",
       "        clearInterval(timer);\n",
       "        embed_document(root);\n",
       "      } else {\n",
       "        attempts++;\n",
       "        if (attempts > 100) {\n",
       "          clearInterval(timer);\n",
       "          console.log(\"Bokeh: ERROR: Unable to run BokehJS code because BokehJS library is missing\");\n",
       "        }\n",
       "      }\n",
       "    }, 10, root)\n",
       "  }\n",
       "})(window);"
      ],
      "application/vnd.bokehjs_exec.v0+json": ""
     },
     "metadata": {
      "application/vnd.bokehjs_exec.v0+json": {
       "id": "1259"
      }
     },
     "output_type": "display_data"
    }
   ],
   "source": [
    "opt = plot_lines(np.arange(iter_control), (cumulated_reward,), x_axis_label=\"gradient steps on control\", y_axis_label=\"Cumulated reward\")\n",
    "show(opt)"
   ]
  },
  {
   "cell_type": "code",
   "execution_count": 16,
   "id": "65f52f64-4ac1-402e-9f8b-9c6ef744218e",
   "metadata": {},
   "outputs": [],
   "source": [
    "time_span = np.arange(0, 200) * model_params[\"network_params\"][\"learning_rate\"]\n",
    "\n",
    "W1_t_opt, W2_t_opt = control.get_weights(time_span, get_numpy=True)\n",
    "Loss_t_opt = control.get_loss_function(W1_t_opt, W2_t_opt, get_numpy=True)\n",
    "Loss_t_opt_test = control.get_loss_function(W1_t_opt, W2_t_opt, get_numpy=True, use_test=True)\n",
    "\n",
    "results_dict[\"W1_t_control_opt\"] = W1_t_opt\n",
    "results_dict[\"W2_t_control_opt\"] = W2_t_opt\n",
    "results_dict[\"Loss_t_control_opt\"] = Loss_t_opt"
   ]
  },
  {
   "cell_type": "code",
   "execution_count": 17,
   "id": "a3a02b28-cda1-4bed-816d-a24a920a9b00",
   "metadata": {},
   "outputs": [
    {
     "data": {
      "text/html": [
       "\n",
       "  <div class=\"bk-root\" id=\"92ad77ab-60f2-4042-aaaa-c227756727f9\" data-root-id=\"1394\"></div>\n"
      ]
     },
     "metadata": {},
     "output_type": "display_data"
    },
    {
     "data": {
      "application/javascript": [
       "(function(root) {\n",
       "  function embed_document(root) {\n",
       "  const docs_json = {\"3fdb931f-1215-4796-a598-2bd4c32fa6b5\":{\"defs\":[],\"roots\":{\"references\":[{\"attributes\":{\"below\":[{\"id\":\"1403\"}],\"center\":[{\"id\":\"1406\"},{\"id\":\"1410\"},{\"id\":\"1442\"}],\"height\":500,\"left\":[{\"id\":\"1407\"}],\"renderers\":[{\"id\":\"1429\"},{\"id\":\"1448\"},{\"id\":\"1468\"},{\"id\":\"1490\"}],\"title\":{\"id\":\"1431\"},\"toolbar\":{\"id\":\"1418\"},\"width\":800,\"x_range\":{\"id\":\"1395\"},\"x_scale\":{\"id\":\"1399\"},\"y_range\":{\"id\":\"1397\"},\"y_scale\":{\"id\":\"1401\"}},\"id\":\"1394\",\"subtype\":\"Figure\",\"type\":\"Plot\"},{\"attributes\":{},\"id\":\"1397\",\"type\":\"DataRange1d\"},{\"attributes\":{},\"id\":\"1439\",\"type\":\"UnionRenderers\"},{\"attributes\":{\"coordinates\":null,\"group\":null,\"items\":[{\"id\":\"1443\"},{\"id\":\"1463\"},{\"id\":\"1485\"},{\"id\":\"1509\"}]},\"id\":\"1442\",\"type\":\"Legend\"},{\"attributes\":{},\"id\":\"1507\",\"type\":\"Selection\"},{\"attributes\":{\"label\":{\"value\":\"test\"},\"renderers\":[{\"id\":\"1490\"}]},\"id\":\"1509\",\"type\":\"LegendItem\"},{\"attributes\":{},\"id\":\"1435\",\"type\":\"AllLabels\"},{\"attributes\":{\"source\":{\"id\":\"1464\"}},\"id\":\"1469\",\"type\":\"CDSView\"},{\"attributes\":{\"line_alpha\":0.3,\"line_color\":\"#1f77b4\",\"line_width\":3,\"x\":{\"field\":\"x\"},\"y\":{\"field\":\"y\"}},\"id\":\"1426\",\"type\":\"Line\"},{\"attributes\":{\"data\":{\"x\":[0,1,2,3,4,5,6,7,8,9,10,11,12,13,14,15,16,17,18,19,20,21,22,23,24,25,26,27,28,29,30,31,32,33,34,35,36,37,38,39,40,41,42,43,44,45,46,47,48,49,50,51,52,53,54,55,56,57,58,59,60,61,62,63,64,65,66,67,68,69,70,71,72,73,74,75,76,77,78,79,80,81,82,83,84,85,86,87,88,89,90,91,92,93,94,95,96,97,98,99,100,101,102,103,104,105,106,107,108,109,110,111,112,113,114,115,116,117,118,119,120,121,122,123,124,125,126,127,128,129,130,131,132,133,134,135,136,137,138,139,140,141,142,143,144,145,146,147,148,149,150,151,152,153,154,155,156,157,158,159,160,161,162,163,164,165,166,167,168,169,170,171,172,173,174,175,176,177,178,179,180,181,182,183,184,185,186,187,188,189,190,191,192,193,194,195,196,197,198,199],\"y\":{\"__ndarray__\":\"tHDqPXtR5z1XVOQ9MXfhPWG43j0fFtw91I7ZPR8h1z2My9Q91IzSPb9j0D0zT849HE7MPWVfyj1Pgsg9w7XGPQj5xD1bS8M9+avBPTcawD1tlb49AB29PWuwuz0FT7o9afi4PQ+stz2RabY9cDC1PVUAtD3c2LI9t7mxPXCisD3Dkq89b4quPSSJrT2Ujqw9hZqrPbmsqj3xxKk9/OKoPZ8GqD2oL6c97V2mPTSRpT1hyaQ9PwakPalHoz17jaI9k9ehPc0loT0EeKA9H86fPfknnz10hZ49jOadPQhLnT3Yspw97B2cPS2Mmz19/Zo9w3GaPfnomT0IY5k90d+YPUNfmD1Z4Zc982WXPQvtlj2QdpY9eAKWPZuQlT0MIZU9qbOUPW1IlD1F35M9J3iTPQsTkz3Yr5I9kU6SPR3vkT2JkZE9tDWRPZDbkD03g5A9eCyQPVPXjz3Lg489yzGPPVXhjj1jko4920SOPcD4jT0Pro09uWSNPbMcjT391Yw9p5CMPXRMjD2QCYw9zceLPUCHiz3fR4s9oAmLPXPMij1okIo9ZVWKPXkbij2P4ok9o6qJPa1ziT24PYk9sQiJPZXUiD1goYg9FW+IPaA9iD0RDYg9UN2HPWyuhz1PgIc9/1KHPWwmhz2t+oY9oc+GPVGlhj3He4Y95VKGPbcqhj0sA4Y9WdyFPSW2hT2ckIU9qWuFPV9HhT2wI4U9jwCFPRHehD0cvIQ9tZqEPeR5hD2YWYQ9yzmEPYsahD3T+4M9ld2DPde/gz2TooM9z4WDPXxpgz2fTYM9MDKDPTUXgz2o/II9jOKCPdjIgj2Hr4I9qJaCPSd+gj0MZoI9VE6CPfc2gj34H4I9XQmCPQjzgT0b3YE9iceBPT2ygT1RnYE9v4iBPWx0gT1vYIE9wEyBPVk5gT1MJoE9fxOBPf0AgT2/7oA9yNyAPR/LgD2ouYA9hKiAPZiXgD3rhoA9hHaAPVhmgD1oVoA9sEaAPTE3gD30J4A98RiAPSAKgD0T9389S9p/PeW9fz3loX89WIZ/PTtrfz1lUH898DV/PfMbfz0=\",\"dtype\":\"float32\",\"order\":\"little\",\"shape\":[200]}},\"selected\":{\"id\":\"1483\"},\"selection_policy\":{\"id\":\"1482\"}},\"id\":\"1464\",\"type\":\"ColumnDataSource\"},{\"attributes\":{\"coordinates\":null,\"data_source\":{\"id\":\"1486\"},\"glyph\":{\"id\":\"1487\"},\"group\":null,\"hover_glyph\":null,\"muted_glyph\":{\"id\":\"1489\"},\"nonselection_glyph\":{\"id\":\"1488\"},\"view\":{\"id\":\"1491\"}},\"id\":\"1490\",\"type\":\"GlyphRenderer\"},{\"attributes\":{},\"id\":\"1404\",\"type\":\"BasicTicker\"},{\"attributes\":{\"bottom_units\":\"screen\",\"coordinates\":null,\"fill_alpha\":0.5,\"fill_color\":\"lightgrey\",\"group\":null,\"left_units\":\"screen\",\"level\":\"overlay\",\"line_alpha\":1.0,\"line_color\":\"black\",\"line_dash\":[4,4],\"line_width\":2,\"right_units\":\"screen\",\"syncable\":false,\"top_units\":\"screen\"},\"id\":\"1417\",\"type\":\"BoxAnnotation\"},{\"attributes\":{},\"id\":\"1415\",\"type\":\"ResetTool\"},{\"attributes\":{},\"id\":\"1401\",\"type\":\"LinearScale\"},{\"attributes\":{\"coordinates\":null,\"data_source\":{\"id\":\"1464\"},\"glyph\":{\"id\":\"1465\"},\"group\":null,\"hover_glyph\":null,\"muted_glyph\":{\"id\":\"1467\"},\"nonselection_glyph\":{\"id\":\"1466\"},\"view\":{\"id\":\"1469\"}},\"id\":\"1468\",\"type\":\"GlyphRenderer\"},{\"attributes\":{\"axis\":{\"id\":\"1407\"},\"coordinates\":null,\"dimension\":1,\"group\":null,\"ticker\":null},\"id\":\"1410\",\"type\":\"Grid\"},{\"attributes\":{\"axis_label\":\"iters\",\"coordinates\":null,\"formatter\":{\"id\":\"1437\"},\"group\":null,\"major_label_policy\":{\"id\":\"1438\"},\"ticker\":{\"id\":\"1404\"}},\"id\":\"1403\",\"type\":\"LinearAxis\"},{\"attributes\":{\"label\":{\"value\":\"Real Non-linear\"},\"renderers\":[{\"id\":\"1429\"}]},\"id\":\"1443\",\"type\":\"LegendItem\"},{\"attributes\":{\"source\":{\"id\":\"1425\"}},\"id\":\"1430\",\"type\":\"CDSView\"},{\"attributes\":{\"coordinates\":null,\"data_source\":{\"id\":\"1444\"},\"glyph\":{\"id\":\"1445\"},\"group\":null,\"hover_glyph\":null,\"muted_glyph\":{\"id\":\"1447\"},\"nonselection_glyph\":{\"id\":\"1446\"},\"view\":{\"id\":\"1449\"}},\"id\":\"1448\",\"type\":\"GlyphRenderer\"},{\"attributes\":{\"line_color\":\"#1f77b4\",\"line_width\":3,\"x\":{\"field\":\"x\"},\"y\":{\"field\":\"y\"}},\"id\":\"1445\",\"type\":\"Line\"},{\"attributes\":{},\"id\":\"1411\",\"type\":\"PanTool\"},{\"attributes\":{},\"id\":\"1434\",\"type\":\"BasicTickFormatter\"},{\"attributes\":{\"axis_label\":\"Loss\",\"coordinates\":null,\"formatter\":{\"id\":\"1434\"},\"group\":null,\"major_label_policy\":{\"id\":\"1435\"},\"ticker\":{\"id\":\"1408\"}},\"id\":\"1407\",\"type\":\"LinearAxis\"},{\"attributes\":{},\"id\":\"1437\",\"type\":\"BasicTickFormatter\"},{\"attributes\":{\"line_alpha\":0.1,\"line_color\":\"#2ca02c\",\"line_width\":3,\"x\":{\"field\":\"x\"},\"y\":{\"field\":\"y\"}},\"id\":\"1488\",\"type\":\"Line\"},{\"attributes\":{},\"id\":\"1460\",\"type\":\"UnionRenderers\"},{\"attributes\":{},\"id\":\"1506\",\"type\":\"UnionRenderers\"},{\"attributes\":{\"axis\":{\"id\":\"1403\"},\"coordinates\":null,\"group\":null,\"ticker\":null},\"id\":\"1406\",\"type\":\"Grid\"},{\"attributes\":{\"line_color\":\"#2ca02c\",\"line_width\":3,\"x\":{\"field\":\"x\"},\"y\":{\"field\":\"y\"}},\"id\":\"1487\",\"type\":\"Line\"},{\"attributes\":{\"source\":{\"id\":\"1444\"}},\"id\":\"1449\",\"type\":\"CDSView\"},{\"attributes\":{},\"id\":\"1440\",\"type\":\"Selection\"},{\"attributes\":{\"coordinates\":null,\"data_source\":{\"id\":\"1425\"},\"glyph\":{\"id\":\"1426\"},\"group\":null,\"hover_glyph\":null,\"muted_glyph\":{\"id\":\"1428\"},\"nonselection_glyph\":{\"id\":\"1427\"},\"view\":{\"id\":\"1430\"}},\"id\":\"1429\",\"type\":\"GlyphRenderer\"},{\"attributes\":{},\"id\":\"1412\",\"type\":\"WheelZoomTool\"},{\"attributes\":{},\"id\":\"1438\",\"type\":\"AllLabels\"},{\"attributes\":{\"coordinates\":null,\"group\":null},\"id\":\"1431\",\"type\":\"Title\"},{\"attributes\":{\"line_color\":\"#ff7f0e\",\"line_width\":3,\"x\":{\"field\":\"x\"},\"y\":{\"field\":\"y\"}},\"id\":\"1465\",\"type\":\"Line\"},{\"attributes\":{},\"id\":\"1414\",\"type\":\"SaveTool\"},{\"attributes\":{\"label\":{\"value\":\"Approximation\"},\"renderers\":[{\"id\":\"1448\"}]},\"id\":\"1463\",\"type\":\"LegendItem\"},{\"attributes\":{\"source\":{\"id\":\"1486\"}},\"id\":\"1491\",\"type\":\"CDSView\"},{\"attributes\":{\"line_alpha\":0.2,\"line_color\":\"#1f77b4\",\"line_width\":3,\"x\":{\"field\":\"x\"},\"y\":{\"field\":\"y\"}},\"id\":\"1447\",\"type\":\"Line\"},{\"attributes\":{\"overlay\":{\"id\":\"1417\"}},\"id\":\"1413\",\"type\":\"BoxZoomTool\"},{\"attributes\":{},\"id\":\"1416\",\"type\":\"HelpTool\"},{\"attributes\":{},\"id\":\"1483\",\"type\":\"Selection\"},{\"attributes\":{\"line_alpha\":0.2,\"line_color\":\"#2ca02c\",\"line_width\":3,\"x\":{\"field\":\"x\"},\"y\":{\"field\":\"y\"}},\"id\":\"1489\",\"type\":\"Line\"},{\"attributes\":{\"data\":{\"x\":[0,1,2,3,4,5,6,7,8,9,10,11,12,13,14,15,16,17,18,19,20,21,22,23,24,25,26,27,28,29,30,31,32,33,34,35,36,37,38,39,40,41,42,43,44,45,46,47,48,49,50,51,52,53,54,55,56,57,58,59,60,61,62,63,64,65,66,67,68,69,70,71,72,73,74,75,76,77,78,79,80,81,82,83,84,85,86,87,88,89,90,91,92,93,94,95,96,97,98,99,100,101,102,103,104,105,106,107,108,109,110,111,112,113,114,115,116,117,118,119,120,121,122,123,124,125,126,127,128,129,130,131,132,133,134,135,136,137,138,139,140,141,142,143,144,145,146,147,148,149,150,151,152,153,154,155,156,157,158,159,160,161,162,163,164,165,166,167,168,169,170,171,172,173,174,175,176,177,178,179,180,181,182,183,184,185,186,187,188,189,190,191,192,193,194,195,196,197,198,199],\"y\":{\"__ndarray__\":\"gw8AP0cNAD8MCwA/0QgAP5cGAD9cBAA/IgIAP9D//z5b+/8+6Pb/PnTy/z4A7v8+i+n/PhXl/z6h4P8+K9z/PrTX/z490/8+xc7/PkzK/z7Txf8+V8H/Ptu8/z5cuP8+3LP/Plyv/z7Zqv8+Vab/Ps+h/z5Hnf8+vJj/PjCU/z6hj/8+EIv/Pn2G/z7ogf8+T33/PrN4/z4VdP8+c2//PtBq/z4oZv8+fWH/Ps9c/z4dWP8+aFP/PrBO/z7zSf8+M0X/Pm9A/z6lO/8+2Tb/Pggy/z4zLf8+WSj/Pnkj/z6YHv8+rxn/PsEU/z7QD/8+2Ar/PtsF/z7ZAP8+0/v+PsX2/j6z8f4+m+z+Pnzn/j5Y4v4+Ld3+PvzX/j7F0v4+h83+PkPI/j74wv4+qL3+Pk+4/j7vsv4+iK3+Phmo/j6kov4+KJ3+PqOX/j4Xkv4+g4z+PuWG/j5Bgf4+lXv+PuB1/j4jcP4+XWr+Po9k/j63Xv4+11j+Pu1S/j77TP4+/0b+PvlA/j7pOv4+0TT+Pq0u/j6DKP4+SyL+Pgsc/j6/Ff4+aA/+PggJ/j6dAv4+KPz9PqX1/T4Z7/0+gej9Pt/h/T4w2/0+ddT9PrDN/T7dxv0+/7/9PhO5/T4dsv0+GKv9Pgik/T7rnP0+wJX9PoiO/T5Dh/0+8X/9PpF4/T4jcf0+p2n9Phxi/T6FWv0+3VL9PihL/T5lQ/0+kzv9PrAz/T6/K/0+vyP9Pq8b/T6QE/0+YAv9PiAD/T7Q+vw+cPL8PgDq/D5/4fw+7Nj8PkjQ/D6Ux/w+z778Pve1/D4Nrfw+E6T8PgWb/D7lkfw+s4j8Pm1//D4Xdvw+rGz8Pi1j/D6cWfw++E/8Pj9G/D5zPPw+kTL8Ppwo/D6RHvw+cxT8Pj8K/D71//s+mPX7PiTr+z6Z4Ps++9X7PkTL+z54wPs+lbX7Ppuq+z6Ln/s+Y5T7PiOJ+z7Lffs+XHL7PtRm+z40W/s+fE/7PqtD+z7AN/s+vSv7PqAf+z5pE/s+GQf7Pq/6+j4p7vo+iOH6Ps3U+j74x/o+B7v6Pvut+j4=\",\"dtype\":\"float32\",\"order\":\"little\",\"shape\":[200]}},\"selected\":{\"id\":\"1461\"},\"selection_policy\":{\"id\":\"1460\"}},\"id\":\"1444\",\"type\":\"ColumnDataSource\"},{\"attributes\":{},\"id\":\"1408\",\"type\":\"BasicTicker\"},{\"attributes\":{\"tools\":[{\"id\":\"1411\"},{\"id\":\"1412\"},{\"id\":\"1413\"},{\"id\":\"1414\"},{\"id\":\"1415\"},{\"id\":\"1416\"}]},\"id\":\"1418\",\"type\":\"Toolbar\"},{\"attributes\":{},\"id\":\"1461\",\"type\":\"Selection\"},{\"attributes\":{\"label\":{\"value\":\"Approximated Optimized Control\"},\"renderers\":[{\"id\":\"1468\"}]},\"id\":\"1485\",\"type\":\"LegendItem\"},{\"attributes\":{\"data\":{\"x\":[0,1,2,3,4,5,6,7,8,9,10,11,12,13,14,15,16,17,18,19,20,21,22,23,24,25,26,27,28,29,30,31,32,33,34,35,36,37,38,39,40,41,42,43,44,45,46,47,48,49,50,51,52,53,54,55,56,57,58,59,60,61,62,63,64,65,66,67,68,69,70,71,72,73,74,75,76,77,78,79,80,81,82,83,84,85,86,87,88,89,90,91,92,93,94,95,96,97,98,99,100,101,102,103,104,105,106,107,108,109,110,111,112,113,114,115,116,117,118,119,120,121,122,123,124,125,126,127,128,129,130,131,132,133,134,135,136,137,138,139,140,141,142,143,144,145,146,147,148,149,150,151,152,153,154,155,156,157,158,159,160,161,162,163,164,165,166,167,168,169,170,171,172,173,174,175,176,177,178,179,180,181,182,183,184,185,186,187,188,189,190,191,192,193,194,195,196,197,198,199],\"y\":{\"__ndarray__\":\"kYXfPYWW3D1oyNk9RxnXPWOH1D0QEdI9u7TPPQlxzT15RMs91S3JPQEsxz27PcU9GGLDPfyXwT2d3r89FzW+PYGavD1BDrs9e4+5PagduD0HuLY9IF61PT0PtD0Iy7I95JCxPWlgsD0TOa89kxquPXwErT1v9qs9E/CqPRnxqT0x+ag9EwioPXgdpz0ZOaY9uFqlPSOCpD0Yr6M9bOGiPegYoj1XVaE9i5agPWDcnz2pJp89R3WePQTInT3NHp09cXmcPe3Xmz38OZs9mZ+aPZ0Imj3wdJk9g+SYPTVXmD3pzJc9lEWXPR3Blj1oP5Y9ZMCVPQFElT01ypQ921KUPfTdkz1oa5M9J/uSPR2Nkj1MIZI9j7eRPfRPkT1Z6pA9sIaQPQElkD0pxY89JGePPfUKjz2EsI49yVeOPbgAjj1Mq409dVeNPSkFjT1htIw9KGWMPVkXjD37yos9BICLPWA2iz0c7oo9KKeKPXRhij0EHYo9zdmJPc2XiT31Vok9TxeJPcTYiD1Ym4g9916IPawjiD1j6Yc9K7CHPet3hz23QIc9XwqHPf/Uhj2IoIY9D22GPWE6hj2PCIY9pNeFPYunhT00eIU9xEmFPRAchT0o74Q978KEPYeXhD3PbIQ900KEPYEZhD3j8IM9/8iDPbWhgz0Ue4M9FVWDPbwvgz39CoM9zeaCPUPDgj1EoII9132CPfNbgj2wOoI94RmCPaH5gT3l2YE9q7qBPeebgT2wfYE961+BPZlCgT3BJYE9ZAmBPXjtgD370YA957aAPUOcgD0AgoA9JWiAPb1OgD21NYA9Cx2APcAEgD2d2X89lap/PTt8fz2QTn89jSF/PTP1fj2LyX49mJ5+PT10fj19Sn49ayF+Pev4fT390H09oKl9PeiCfT21XH09FTd9Pf0RfT197Xw9cMl8PfulfD3rgnw9cGB8PX0+fD3jHHw9yPt7PUXbez0du3s9dZt7PTB8ez1bXXs9+z57PQUhez1tA3s9UOZ6PZDJej04rXo9K5F6PaB1ej1NWno9hT96Pf0kej3TCno9/fB5PYXXeT0=\",\"dtype\":\"float32\",\"order\":\"little\",\"shape\":[200]}},\"selected\":{\"id\":\"1507\"},\"selection_policy\":{\"id\":\"1506\"}},\"id\":\"1486\",\"type\":\"ColumnDataSource\"},{\"attributes\":{},\"id\":\"1482\",\"type\":\"UnionRenderers\"},{\"attributes\":{\"line_alpha\":0.1,\"line_color\":\"#1f77b4\",\"line_width\":3,\"x\":{\"field\":\"x\"},\"y\":{\"field\":\"y\"}},\"id\":\"1427\",\"type\":\"Line\"},{\"attributes\":{\"data\":{\"x\":[0,1,2,3,4,5,6,7,8,9,10,11,12,13,14,15,16,17,18,19,20,21,22,23,24,25,26,27,28,29,30,31,32,33,34,35,36,37,38,39,40,41,42,43,44,45,46,47,48,49,50,51,52,53,54,55,56,57,58,59,60,61,62,63,64,65,66,67,68,69,70,71,72,73,74,75,76,77,78,79,80,81,82,83,84,85,86,87,88,89,90,91,92,93,94,95,96,97,98,99,100,101,102,103,104,105,106,107,108,109,110,111,112,113,114,115,116,117,118,119,120,121,122,123,124,125,126,127,128,129,130,131,132,133,134,135,136,137,138,139,140,141,142,143,144,145,146,147,148,149,150,151,152,153,154,155,156,157,158,159,160,161,162,163,164,165,166,167,168,169,170,171,172,173,174,175,176,177,178,179,180,181,182,183,184,185,186,187,188,189,190,191,192,193,194,195,196,197,198,199],\"y\":{\"__ndarray__\":\"jxYAP2oJAD+/CAA/oAoAPzEKAD9zDAA/sAcAP6wAAD8sAgA/g///PqHt/z6p7/8+4On/PmPk/z5P6f8+0Nz/PsvW/z7A3/8+tdj/Plm//z6VyP8+p8r/Ply5/z5xuP8+q7b/Pgi6/z5Tsv8+6LL/PhOm/z7gn/8+P6j/Pk2p/z7bmf8+UYv/PoOQ/z5LjP8+TXr/Pil//z6rdv8+4G7/PnRs/z7zXP8+5WT/Pn1n/z67aP8+22f/PtlX/z5US/8+pED/Pkg9/z71Rf8+Ty7/Phc4/z6lL/8+dyz/PmMj/z4gJf8+rx7/PnAV/z5AE/8+YBL/PigR/z64Ev8+aO7+Pqj1/j7T8v4+K+n+Ppzz/j655P4+leb+Pjfc/j6F0P4+WNf+PuzB/j5zzf4+TL/+PnDC/j7AvP4+i7T+Ptuv/j5lqv4+KJ/+Prea/j6Lmf4+/Zb+PjyM/j7ti/4+WIf+PlB4/j7Lef4+I2b+Pghx/j7NWf4+GF/+PvBi/j5EVP4+Kz/+PilI/j6HPv4+KTv+Pn0v/j6PLv4+6C/+PvAo/j7HEf4+YBX+PmMQ/j7D/v0+3Qz+PnH1/T5I+f0+8+/9PqXp/T7Z4v0+Ndj9PrXd/T6Xy/0+ncr9Pp2//T4Yuv0+kLH9Pm+s/T6Dpf0+B539Pv2a/T4bif0+EIX9PrWF/T7lfP0+eXf9Pilo/T40Wf0+k039PjhU/T4QSv0+w0D9Pg00/T5TLv0+MCb9PpUl/T58Hv0+Kxz9PhAI/T4nA/0+NPn8PmH4/D587vw+NOH8Ponb/D7J0Pw+O9T8Pu++/D6pvPw+C7P8Pl2p/D5fjvw+8Jf8Po2A/D7tiPw+yYL8Pn1j/D4MY/w+uFf8PrVK/D7cQPw+m0L8Pj8t/D4IK/w+7CL8Ps0K/D7wCvw+bQL8PmXs+z6g6/s+HNr7PtnO+z5Iv/s+JL77PvSy+z6lsfs+jaP7Ptid+z6tifs+R337PrNr+z5xafs++Vv7Pj1b+z7UPfs+GDf7PkUq+z7zJ/s+Axn7PnwF+z5j9vo+zeX6PoXg+j4t0vo+c8j6PtW/+j4=\",\"dtype\":\"float32\",\"order\":\"little\",\"shape\":[200]}},\"selected\":{\"id\":\"1440\"},\"selection_policy\":{\"id\":\"1439\"}},\"id\":\"1425\",\"type\":\"ColumnDataSource\"},{\"attributes\":{\"line_alpha\":0.1,\"line_color\":\"#ff7f0e\",\"line_width\":3,\"x\":{\"field\":\"x\"},\"y\":{\"field\":\"y\"}},\"id\":\"1466\",\"type\":\"Line\"},{\"attributes\":{\"line_alpha\":0.2,\"line_color\":\"#ff7f0e\",\"line_width\":3,\"x\":{\"field\":\"x\"},\"y\":{\"field\":\"y\"}},\"id\":\"1467\",\"type\":\"Line\"},{\"attributes\":{\"line_alpha\":0.2,\"line_color\":\"#1f77b4\",\"line_width\":3,\"x\":{\"field\":\"x\"},\"y\":{\"field\":\"y\"}},\"id\":\"1428\",\"type\":\"Line\"},{\"attributes\":{\"line_alpha\":0.1,\"line_color\":\"#1f77b4\",\"line_width\":3,\"x\":{\"field\":\"x\"},\"y\":{\"field\":\"y\"}},\"id\":\"1446\",\"type\":\"Line\"},{\"attributes\":{},\"id\":\"1395\",\"type\":\"DataRange1d\"},{\"attributes\":{},\"id\":\"1399\",\"type\":\"LinearScale\"}],\"root_ids\":[\"1394\"]},\"title\":\"Bokeh Application\",\"version\":\"2.4.3\"}};\n",
       "  const render_items = [{\"docid\":\"3fdb931f-1215-4796-a598-2bd4c32fa6b5\",\"root_ids\":[\"1394\"],\"roots\":{\"1394\":\"92ad77ab-60f2-4042-aaaa-c227756727f9\"}}];\n",
       "  root.Bokeh.embed.embed_items_notebook(docs_json, render_items);\n",
       "  }\n",
       "  if (root.Bokeh !== undefined) {\n",
       "    embed_document(root);\n",
       "  } else {\n",
       "    let attempts = 0;\n",
       "    const timer = setInterval(function(root) {\n",
       "      if (root.Bokeh !== undefined) {\n",
       "        clearInterval(timer);\n",
       "        embed_document(root);\n",
       "      } else {\n",
       "        attempts++;\n",
       "        if (attempts > 100) {\n",
       "          clearInterval(timer);\n",
       "          console.log(\"Bokeh: ERROR: Unable to run BokehJS code because BokehJS library is missing\");\n",
       "        }\n",
       "      }\n",
       "    }, 10, root)\n",
       "  }\n",
       "})(window);"
      ],
      "application/vnd.bokehjs_exec.v0+json": ""
     },
     "metadata": {
      "application/vnd.bokehjs_exec.v0+json": {
       "id": "1394"
      }
     },
     "output_type": "display_data"
    }
   ],
   "source": [
    "losses = (np.mean(loss, axis=0), np.mean(Loss_t, axis=0), np.mean(Loss_t_opt, axis=0), np.mean(Loss_t_opt_test, axis=0))\n",
    "colors = (Category10[10][0], Category10[10][0], Category10[10][1], Category10[10][2])\n",
    "legends = (\"Real Non-linear\", \"Approximation\", \"Approximated Optimized Control\", \"test\")\n",
    "alphas = (0.3, 1, 1, 1)\n",
    "\n",
    "s = plot_lines(iters, losses, legends, alphas, colors)\n",
    "show(s)"
   ]
  },
  {
   "cell_type": "code",
   "execution_count": 18,
   "id": "b6d46382-67a4-416a-a0f2-5943beaee238",
   "metadata": {},
   "outputs": [
    {
     "data": {
      "text/html": [
       "\n",
       "  <div class=\"bk-root\" id=\"e0b8a8f8-52e0-416f-8abf-c05ab3cec5cb\" data-root-id=\"1642\"></div>\n"
      ]
     },
     "metadata": {},
     "output_type": "display_data"
    },
    {
     "data": {
      "application/javascript": [
       "(function(root) {\n",
       "  function embed_document(root) {\n",
       "  const docs_json = {\"6dc9f87e-47cb-41f9-b28e-c715938f7b84\":{\"defs\":[],\"roots\":{\"references\":[{\"attributes\":{\"below\":[{\"id\":\"1651\"}],\"center\":[{\"id\":\"1654\"},{\"id\":\"1658\"},{\"id\":\"1690\"}],\"height\":500,\"left\":[{\"id\":\"1655\"}],\"renderers\":[{\"id\":\"1677\"},{\"id\":\"1696\"}],\"title\":{\"id\":\"1679\"},\"toolbar\":{\"id\":\"1666\"},\"width\":800,\"x_range\":{\"id\":\"1643\"},\"x_scale\":{\"id\":\"1647\"},\"y_range\":{\"id\":\"1645\"},\"y_scale\":{\"id\":\"1649\"}},\"id\":\"1642\",\"subtype\":\"Figure\",\"type\":\"Plot\"},{\"attributes\":{\"line_color\":\"#ff7f0e\",\"line_width\":3,\"x\":{\"field\":\"x\"},\"y\":{\"field\":\"y\"}},\"id\":\"1674\",\"type\":\"Line\"},{\"attributes\":{\"bottom_units\":\"screen\",\"coordinates\":null,\"fill_alpha\":0.5,\"fill_color\":\"lightgrey\",\"group\":null,\"left_units\":\"screen\",\"level\":\"overlay\",\"line_alpha\":1.0,\"line_color\":\"black\",\"line_dash\":[4,4],\"line_width\":2,\"right_units\":\"screen\",\"syncable\":false,\"top_units\":\"screen\"},\"id\":\"1665\",\"type\":\"BoxAnnotation\"},{\"attributes\":{\"line_color\":\"#2ca02c\",\"line_width\":3,\"x\":{\"field\":\"x\"},\"y\":{\"field\":\"y\"}},\"id\":\"1693\",\"type\":\"Line\"},{\"attributes\":{},\"id\":\"1687\",\"type\":\"UnionRenderers\"},{\"attributes\":{\"coordinates\":null,\"group\":null},\"id\":\"1679\",\"type\":\"Title\"},{\"attributes\":{\"line_alpha\":0.1,\"line_color\":\"#2ca02c\",\"line_width\":3,\"x\":{\"field\":\"x\"},\"y\":{\"field\":\"y\"}},\"id\":\"1694\",\"type\":\"Line\"},{\"attributes\":{\"label\":{\"value\":\"test\"},\"renderers\":[{\"id\":\"1696\"}]},\"id\":\"1711\",\"type\":\"LegendItem\"},{\"attributes\":{},\"id\":\"1708\",\"type\":\"UnionRenderers\"},{\"attributes\":{},\"id\":\"1643\",\"type\":\"DataRange1d\"},{\"attributes\":{\"coordinates\":null,\"data_source\":{\"id\":\"1692\"},\"glyph\":{\"id\":\"1693\"},\"group\":null,\"hover_glyph\":null,\"muted_glyph\":{\"id\":\"1695\"},\"nonselection_glyph\":{\"id\":\"1694\"},\"view\":{\"id\":\"1697\"}},\"id\":\"1696\",\"type\":\"GlyphRenderer\"},{\"attributes\":{},\"id\":\"1709\",\"type\":\"Selection\"},{\"attributes\":{\"axis\":{\"id\":\"1655\"},\"coordinates\":null,\"dimension\":1,\"group\":null,\"ticker\":null},\"id\":\"1658\",\"type\":\"Grid\"},{\"attributes\":{},\"id\":\"1664\",\"type\":\"HelpTool\"},{\"attributes\":{\"source\":{\"id\":\"1673\"}},\"id\":\"1678\",\"type\":\"CDSView\"},{\"attributes\":{},\"id\":\"1645\",\"type\":\"DataRange1d\"},{\"attributes\":{},\"id\":\"1685\",\"type\":\"BasicTickFormatter\"},{\"attributes\":{\"data\":{\"x\":[0,1,2,3,4,5,6,7,8,9,10,11,12,13,14,15,16,17,18,19,20,21,22,23,24,25,26,27,28,29,30,31,32,33,34,35,36,37,38,39,40,41,42,43,44,45,46,47,48,49,50,51,52,53,54,55,56,57,58,59,60,61,62,63,64,65,66,67,68,69,70,71,72,73,74,75,76,77,78,79,80,81,82,83,84,85,86,87,88,89,90,91,92,93,94,95,96,97,98,99,100,101,102,103,104,105,106,107,108,109,110,111,112,113,114,115,116,117,118,119,120,121,122,123,124,125,126,127,128,129,130,131,132,133,134,135,136,137,138,139,140,141,142,143,144,145,146,147,148,149,150,151,152,153,154,155,156,157,158,159,160,161,162,163,164,165,166,167,168,169,170,171,172,173,174,175,176,177,178,179,180,181,182,183,184,185,186,187,188,189,190,191,192,193,194,195,196,197,198,199],\"y\":{\"__ndarray__\":\"tHDqPXtR5z1XVOQ9MXfhPWG43j0fFtw91I7ZPR8h1z2My9Q91IzSPb9j0D0zT849HE7MPWVfyj1Pgsg9w7XGPQj5xD1bS8M9+avBPTcawD1tlb49AB29PWuwuz0FT7o9afi4PQ+stz2RabY9cDC1PVUAtD3c2LI9t7mxPXCisD3Dkq89b4quPSSJrT2Ujqw9hZqrPbmsqj3xxKk9/OKoPZ8GqD2oL6c97V2mPTSRpT1hyaQ9PwakPalHoz17jaI9k9ehPc0loT0EeKA9H86fPfknnz10hZ49jOadPQhLnT3Yspw97B2cPS2Mmz19/Zo9w3GaPfnomT0IY5k90d+YPUNfmD1Z4Zc982WXPQvtlj2QdpY9eAKWPZuQlT0MIZU9qbOUPW1IlD1F35M9J3iTPQsTkz3Yr5I9kU6SPR3vkT2JkZE9tDWRPZDbkD03g5A9eCyQPVPXjz3Lg489yzGPPVXhjj1jko4920SOPcD4jT0Pro09uWSNPbMcjT391Yw9p5CMPXRMjD2QCYw9zceLPUCHiz3fR4s9oAmLPXPMij1okIo9ZVWKPXkbij2P4ok9o6qJPa1ziT24PYk9sQiJPZXUiD1goYg9FW+IPaA9iD0RDYg9UN2HPWyuhz1PgIc9/1KHPWwmhz2t+oY9oc+GPVGlhj3He4Y95VKGPbcqhj0sA4Y9WdyFPSW2hT2ckIU9qWuFPV9HhT2wI4U9jwCFPRHehD0cvIQ9tZqEPeR5hD2YWYQ9yzmEPYsahD3T+4M9ld2DPde/gz2TooM9z4WDPXxpgz2fTYM9MDKDPTUXgz2o/II9jOKCPdjIgj2Hr4I9qJaCPSd+gj0MZoI9VE6CPfc2gj34H4I9XQmCPQjzgT0b3YE9iceBPT2ygT1RnYE9v4iBPWx0gT1vYIE9wEyBPVk5gT1MJoE9fxOBPf0AgT2/7oA9yNyAPR/LgD2ouYA9hKiAPZiXgD3rhoA9hHaAPVhmgD1oVoA9sEaAPTE3gD30J4A98RiAPSAKgD0T9389S9p/PeW9fz3loX89WIZ/PTtrfz1lUH898DV/PfMbfz0=\",\"dtype\":\"float32\",\"order\":\"little\",\"shape\":[200]}},\"selected\":{\"id\":\"1688\"},\"selection_policy\":{\"id\":\"1687\"}},\"id\":\"1673\",\"type\":\"ColumnDataSource\"},{\"attributes\":{\"overlay\":{\"id\":\"1665\"}},\"id\":\"1661\",\"type\":\"BoxZoomTool\"},{\"attributes\":{\"axis_label\":\"iters\",\"coordinates\":null,\"formatter\":{\"id\":\"1685\"},\"group\":null,\"major_label_policy\":{\"id\":\"1686\"},\"ticker\":{\"id\":\"1652\"}},\"id\":\"1651\",\"type\":\"LinearAxis\"},{\"attributes\":{},\"id\":\"1662\",\"type\":\"SaveTool\"},{\"attributes\":{\"tools\":[{\"id\":\"1659\"},{\"id\":\"1660\"},{\"id\":\"1661\"},{\"id\":\"1662\"},{\"id\":\"1663\"},{\"id\":\"1664\"}]},\"id\":\"1666\",\"type\":\"Toolbar\"},{\"attributes\":{\"data\":{\"x\":[0,1,2,3,4,5,6,7,8,9,10,11,12,13,14,15,16,17,18,19,20,21,22,23,24,25,26,27,28,29,30,31,32,33,34,35,36,37,38,39,40,41,42,43,44,45,46,47,48,49,50,51,52,53,54,55,56,57,58,59,60,61,62,63,64,65,66,67,68,69,70,71,72,73,74,75,76,77,78,79,80,81,82,83,84,85,86,87,88,89,90,91,92,93,94,95,96,97,98,99,100,101,102,103,104,105,106,107,108,109,110,111,112,113,114,115,116,117,118,119,120,121,122,123,124,125,126,127,128,129,130,131,132,133,134,135,136,137,138,139,140,141,142,143,144,145,146,147,148,149,150,151,152,153,154,155,156,157,158,159,160,161,162,163,164,165,166,167,168,169,170,171,172,173,174,175,176,177,178,179,180,181,182,183,184,185,186,187,188,189,190,191,192,193,194,195,196,197,198,199],\"y\":{\"__ndarray__\":\"kYXfPYWW3D1oyNk9RxnXPWOH1D0QEdI9u7TPPQlxzT15RMs91S3JPQEsxz27PcU9GGLDPfyXwT2d3r89FzW+PYGavD1BDrs9e4+5PagduD0HuLY9IF61PT0PtD0Iy7I95JCxPWlgsD0TOa89kxquPXwErT1v9qs9E/CqPRnxqT0x+ag9EwioPXgdpz0ZOaY9uFqlPSOCpD0Yr6M9bOGiPegYoj1XVaE9i5agPWDcnz2pJp89R3WePQTInT3NHp09cXmcPe3Xmz38OZs9mZ+aPZ0Imj3wdJk9g+SYPTVXmD3pzJc9lEWXPR3Blj1oP5Y9ZMCVPQFElT01ypQ921KUPfTdkz1oa5M9J/uSPR2Nkj1MIZI9j7eRPfRPkT1Z6pA9sIaQPQElkD0pxY89JGePPfUKjz2EsI49yVeOPbgAjj1Mq409dVeNPSkFjT1htIw9KGWMPVkXjD37yos9BICLPWA2iz0c7oo9KKeKPXRhij0EHYo9zdmJPc2XiT31Vok9TxeJPcTYiD1Ym4g9916IPawjiD1j6Yc9K7CHPet3hz23QIc9XwqHPf/Uhj2IoIY9D22GPWE6hj2PCIY9pNeFPYunhT00eIU9xEmFPRAchT0o74Q978KEPYeXhD3PbIQ900KEPYEZhD3j8IM9/8iDPbWhgz0Ue4M9FVWDPbwvgz39CoM9zeaCPUPDgj1EoII9132CPfNbgj2wOoI94RmCPaH5gT3l2YE9q7qBPeebgT2wfYE961+BPZlCgT3BJYE9ZAmBPXjtgD370YA957aAPUOcgD0AgoA9JWiAPb1OgD21NYA9Cx2APcAEgD2d2X89lap/PTt8fz2QTn89jSF/PTP1fj2LyX49mJ5+PT10fj19Sn49ayF+Pev4fT390H09oKl9PeiCfT21XH09FTd9Pf0RfT197Xw9cMl8PfulfD3rgnw9cGB8PX0+fD3jHHw9yPt7PUXbez0du3s9dZt7PTB8ez1bXXs9+z57PQUhez1tA3s9UOZ6PZDJej04rXo9K5F6PaB1ej1NWno9hT96Pf0kej3TCno9/fB5PYXXeT0=\",\"dtype\":\"float32\",\"order\":\"little\",\"shape\":[200]}},\"selected\":{\"id\":\"1709\"},\"selection_policy\":{\"id\":\"1708\"}},\"id\":\"1692\",\"type\":\"ColumnDataSource\"},{\"attributes\":{},\"id\":\"1659\",\"type\":\"PanTool\"},{\"attributes\":{},\"id\":\"1686\",\"type\":\"AllLabels\"},{\"attributes\":{},\"id\":\"1663\",\"type\":\"ResetTool\"},{\"attributes\":{\"line_alpha\":0.1,\"line_color\":\"#ff7f0e\",\"line_width\":3,\"x\":{\"field\":\"x\"},\"y\":{\"field\":\"y\"}},\"id\":\"1675\",\"type\":\"Line\"},{\"attributes\":{},\"id\":\"1683\",\"type\":\"AllLabels\"},{\"attributes\":{},\"id\":\"1656\",\"type\":\"BasicTicker\"},{\"attributes\":{\"line_alpha\":0.2,\"line_color\":\"#ff7f0e\",\"line_width\":3,\"x\":{\"field\":\"x\"},\"y\":{\"field\":\"y\"}},\"id\":\"1676\",\"type\":\"Line\"},{\"attributes\":{\"axis\":{\"id\":\"1651\"},\"coordinates\":null,\"group\":null,\"ticker\":null},\"id\":\"1654\",\"type\":\"Grid\"},{\"attributes\":{\"line_alpha\":0.2,\"line_color\":\"#2ca02c\",\"line_width\":3,\"x\":{\"field\":\"x\"},\"y\":{\"field\":\"y\"}},\"id\":\"1695\",\"type\":\"Line\"},{\"attributes\":{},\"id\":\"1682\",\"type\":\"BasicTickFormatter\"},{\"attributes\":{\"axis_label\":\"Loss\",\"coordinates\":null,\"formatter\":{\"id\":\"1682\"},\"group\":null,\"major_label_policy\":{\"id\":\"1683\"},\"ticker\":{\"id\":\"1656\"}},\"id\":\"1655\",\"type\":\"LinearAxis\"},{\"attributes\":{},\"id\":\"1649\",\"type\":\"LinearScale\"},{\"attributes\":{\"coordinates\":null,\"data_source\":{\"id\":\"1673\"},\"glyph\":{\"id\":\"1674\"},\"group\":null,\"hover_glyph\":null,\"muted_glyph\":{\"id\":\"1676\"},\"nonselection_glyph\":{\"id\":\"1675\"},\"view\":{\"id\":\"1678\"}},\"id\":\"1677\",\"type\":\"GlyphRenderer\"},{\"attributes\":{},\"id\":\"1688\",\"type\":\"Selection\"},{\"attributes\":{\"coordinates\":null,\"group\":null,\"items\":[{\"id\":\"1691\"},{\"id\":\"1711\"}]},\"id\":\"1690\",\"type\":\"Legend\"},{\"attributes\":{},\"id\":\"1652\",\"type\":\"BasicTicker\"},{\"attributes\":{},\"id\":\"1660\",\"type\":\"WheelZoomTool\"},{\"attributes\":{\"source\":{\"id\":\"1692\"}},\"id\":\"1697\",\"type\":\"CDSView\"},{\"attributes\":{},\"id\":\"1647\",\"type\":\"LinearScale\"},{\"attributes\":{\"label\":{\"value\":\"Approximated Optimized Control\"},\"renderers\":[{\"id\":\"1677\"}]},\"id\":\"1691\",\"type\":\"LegendItem\"}],\"root_ids\":[\"1642\"]},\"title\":\"Bokeh Application\",\"version\":\"2.4.3\"}};\n",
       "  const render_items = [{\"docid\":\"6dc9f87e-47cb-41f9-b28e-c715938f7b84\",\"root_ids\":[\"1642\"],\"roots\":{\"1642\":\"e0b8a8f8-52e0-416f-8abf-c05ab3cec5cb\"}}];\n",
       "  root.Bokeh.embed.embed_items_notebook(docs_json, render_items);\n",
       "  }\n",
       "  if (root.Bokeh !== undefined) {\n",
       "    embed_document(root);\n",
       "  } else {\n",
       "    let attempts = 0;\n",
       "    const timer = setInterval(function(root) {\n",
       "      if (root.Bokeh !== undefined) {\n",
       "        clearInterval(timer);\n",
       "        embed_document(root);\n",
       "      } else {\n",
       "        attempts++;\n",
       "        if (attempts > 100) {\n",
       "          clearInterval(timer);\n",
       "          console.log(\"Bokeh: ERROR: Unable to run BokehJS code because BokehJS library is missing\");\n",
       "        }\n",
       "      }\n",
       "    }, 10, root)\n",
       "  }\n",
       "})(window);"
      ],
      "application/vnd.bokehjs_exec.v0+json": ""
     },
     "metadata": {
      "application/vnd.bokehjs_exec.v0+json": {
       "id": "1642"
      }
     },
     "output_type": "display_data"
    }
   ],
   "source": [
    "losses = (np.mean(Loss_t_opt, axis=0), np.mean(Loss_t_opt_test, axis=0))\n",
    "colors = (Category10[10][1], Category10[10][2])\n",
    "legends = (\"Approximated Optimized Control\", \"test\")\n",
    "alphas = (1, 1)\n",
    "\n",
    "iters = np.arange(len(time_span))\n",
    "s = plot_lines(iters, losses, legends, alphas, colors)\n",
    "show(s)"
   ]
  },
  {
   "cell_type": "code",
   "execution_count": null,
   "id": "ce986aed-b43e-4b7f-a52a-78e9cfa89f05",
   "metadata": {},
   "outputs": [],
   "source": []
  }
 ],
 "metadata": {
  "kernelspec": {
   "display_name": "Python 3 (ipykernel)",
   "language": "python",
   "name": "python3"
  },
  "language_info": {
   "codemirror_mode": {
    "name": "ipython",
    "version": 3
   },
   "file_extension": ".py",
   "mimetype": "text/x-python",
   "name": "python",
   "nbconvert_exporter": "python",
   "pygments_lexer": "ipython3",
   "version": "3.10.8"
  }
 },
 "nbformat": 4,
 "nbformat_minor": 5
}
