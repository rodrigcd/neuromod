{
 "cells": [
  {
   "cell_type": "markdown",
   "id": "c49bcc9c-45f0-4372-9368-838fbde48dd1",
   "metadata": {},
   "source": [
    "# Optimal learning rate"
   ]
  },
  {
   "cell_type": "code",
   "execution_count": 2,
   "id": "60b16794-33e0-41a0-82a0-0e47255b3087",
   "metadata": {},
   "outputs": [],
   "source": [
    "import numpy as np\n",
    "import matplotlib.pyplot as plt\n",
    "import glob\n",
    "import pandas as pd\n",
    "from metamod.utils import ResultsManager\n",
    "from metamod.utils import learning_rate_plot\n",
    "plt.rcParams['text.usetex'] = True"
   ]
  },
  {
   "cell_type": "markdown",
   "id": "6a0ca323-4ebf-46a6-a9d1-7989229f9578",
   "metadata": {},
   "source": [
    "## Semantic task "
   ]
  },
  {
   "cell_type": "code",
   "execution_count": 16,
   "id": "2ad22e1d-d592-4b1d-b28f-39092e486307",
   "metadata": {},
   "outputs": [],
   "source": [
    "results_path = \"../results/sweep_learning_rate/run_id_*_Semantic_*\"\n",
    "# results_path = \"../results/corrected_learning_rate/run_id_*_MNIST_*\"\n",
    "path_list = sorted(glob.glob(results_path))"
   ]
  },
  {
   "cell_type": "code",
   "execution_count": 17,
   "id": "666fe408-cdd7-4364-8445-edfea0a450d0",
   "metadata": {},
   "outputs": [
    {
     "data": {
      "text/plain": [
       "['../results/sweep_learning_rate/run_id_0_Semantic_14-05-2023_19-16-43-199',\n",
       " '../results/sweep_learning_rate/run_id_10_Semantic_14-05-2023_22-15-41-562',\n",
       " '../results/sweep_learning_rate/run_id_11_Semantic_14-05-2023_22-17-32-303',\n",
       " '../results/sweep_learning_rate/run_id_12_Semantic_14-05-2023_22-13-22-708',\n",
       " '../results/sweep_learning_rate/run_id_13_Semantic_14-05-2023_22-22-23-524',\n",
       " '../results/sweep_learning_rate/run_id_14_Semantic_14-05-2023_22-18-06-744',\n",
       " '../results/sweep_learning_rate/run_id_15_Semantic_14-05-2023_22-39-00-415',\n",
       " '../results/sweep_learning_rate/run_id_16_Semantic_14-05-2023_20-42-03-080',\n",
       " '../results/sweep_learning_rate/run_id_17_Semantic_14-05-2023_20-43-09-188',\n",
       " '../results/sweep_learning_rate/run_id_18_Semantic_14-05-2023_20-42-39-201',\n",
       " '../results/sweep_learning_rate/run_id_19_Semantic_14-05-2023_20-45-15-495',\n",
       " '../results/sweep_learning_rate/run_id_1_Semantic_14-05-2023_22-01-51-416',\n",
       " '../results/sweep_learning_rate/run_id_20_Semantic_14-05-2023_20-41-49-427',\n",
       " '../results/sweep_learning_rate/run_id_21_Semantic_14-05-2023_20-42-56-484',\n",
       " '../results/sweep_learning_rate/run_id_22_Semantic_14-05-2023_20-41-57-714',\n",
       " '../results/sweep_learning_rate/run_id_23_Semantic_14-05-2023_20-41-31-802',\n",
       " '../results/sweep_learning_rate/run_id_24_Semantic_14-05-2023_20-42-54-012',\n",
       " '../results/sweep_learning_rate/run_id_25_Semantic_15-05-2023_00-28-57-703',\n",
       " '../results/sweep_learning_rate/run_id_26_Semantic_14-05-2023_22-51-14-575',\n",
       " '../results/sweep_learning_rate/run_id_27_Semantic_14-05-2023_20-53-01-344',\n",
       " '../results/sweep_learning_rate/run_id_28_Semantic_14-05-2023_20-54-02-086',\n",
       " '../results/sweep_learning_rate/run_id_29_Semantic_14-05-2023_20-53-12-312',\n",
       " '../results/sweep_learning_rate/run_id_2_Semantic_15-05-2023_01-43-45-827',\n",
       " '../results/sweep_learning_rate/run_id_30_Semantic_14-05-2023_20-54-36-718',\n",
       " '../results/sweep_learning_rate/run_id_31_Semantic_14-05-2023_20-54-16-127',\n",
       " '../results/sweep_learning_rate/run_id_32_Semantic_14-05-2023_20-55-03-307',\n",
       " '../results/sweep_learning_rate/run_id_33_Semantic_14-05-2023_20-53-23-151',\n",
       " '../results/sweep_learning_rate/run_id_34_Semantic_14-05-2023_20-54-07-211',\n",
       " '../results/sweep_learning_rate/run_id_35_Semantic_14-05-2023_20-55-03-694',\n",
       " '../results/sweep_learning_rate/run_id_36_Semantic_14-05-2023_20-53-39-472',\n",
       " '../results/sweep_learning_rate/run_id_37_Semantic_14-05-2023_20-54-56-418',\n",
       " '../results/sweep_learning_rate/run_id_38_Semantic_15-05-2023_02-26-46-502',\n",
       " '../results/sweep_learning_rate/run_id_39_Semantic_14-05-2023_21-17-19-177',\n",
       " '../results/sweep_learning_rate/run_id_3_Semantic_14-05-2023_21-38-09-216',\n",
       " '../results/sweep_learning_rate/run_id_4_Semantic_14-05-2023_19-46-47-659',\n",
       " '../results/sweep_learning_rate/run_id_5_Semantic_14-05-2023_22-22-09-347',\n",
       " '../results/sweep_learning_rate/run_id_6_Semantic_14-05-2023_22-18-23-797',\n",
       " '../results/sweep_learning_rate/run_id_7_Semantic_14-05-2023_22-32-53-103',\n",
       " '../results/sweep_learning_rate/run_id_8_Semantic_14-05-2023_22-29-07-102',\n",
       " '../results/sweep_learning_rate/run_id_9_Semantic_14-05-2023_22-11-51-238']"
      ]
     },
     "execution_count": 17,
     "metadata": {},
     "output_type": "execute_result"
    }
   ],
   "source": [
    "path_list"
   ]
  },
  {
   "cell_type": "code",
   "execution_count": 26,
   "id": "7705f196-3635-495e-a8b8-9fecbf73abc2",
   "metadata": {},
   "outputs": [
    {
     "name": "stdout",
     "output_type": "stream",
     "text": [
      "### Results from ../results/sweep_learning_rate/run_id_8_Semantic_14-05-2023_22-29-07-102 ###\n",
      "### Param Keys ###\n",
      "--- dataset_params ---\n",
      "batch_size, h_levels, dataset\n",
      "--- model_params ---\n",
      "learning_rate, hidden_dim, intrinsic_noise, reg_coef, W1_0, W2_0, input_dim, output_dim, model\n",
      "--- equation_params ---\n",
      "in_cov, out_cov, in_out_cov, init_weights, in_cov_test, out_cov_test, in_out_cov_test, n_steps, reg_coef, intrinsic_noise, learning_rate, time_constant, solver\n",
      "--- control_params ---\n",
      "control_lower_bound, control_upper_bound, gamma, cost_coef, reward_convertion, init_opt_lr, cost_offset, control_lr, in_cov, out_cov, in_out_cov, init_weights, in_cov_test, out_cov_test, in_out_cov_test, n_steps, reg_coef, intrinsic_noise, learning_rate, time_constant, iters_control, control\n",
      "--- reset_model_params ---\n",
      "learning_rate, hidden_dim, intrinsic_noise, reg_coef, W1_0, W2_0, input_dim, output_dim, model\n",
      "### Results Keys ###\n",
      "dict_keys(['iters', 'Loss_t_sim', 'weights_sim', 'weights_iters_sim', 'Loss_t_sim_test', 'time_span', 'W1_t_eq', 'W2_t_eq', 'Loss_t_eq', 'Loss_t_eq_test', 'W1_t_control_init', 'W2_t_control_init', 'Loss_t_control_init', 'Loss_t_control_init_test', 'control_signal_init', 'cumulated_reward_opt', 'W1_t_control_opt', 'W2_t_control_opt', 'Loss_t_control_opt', 'Loss_t_control_opt_test', 'control_signal', 'Loss_t_sim_OPT', 'Loss_t_sim_OPT_test', 'weights_sim_OPT', 'weights_iters_sim_OPT', 'iters_OPT', 'W1_sim', 'W2_sim'])\n"
     ]
    }
   ],
   "source": [
    "results = ResultsManager(path_list[-2], verbose=True)"
   ]
  },
  {
   "cell_type": "code",
   "execution_count": 32,
   "id": "0f24269f-a25a-4192-adb3-fa60b1b4f797",
   "metadata": {},
   "outputs": [
    {
     "data": {
      "text/plain": [
       "0.12915496650148828"
      ]
     },
     "execution_count": 32,
     "metadata": {},
     "output_type": "execute_result"
    }
   ],
   "source": [
    "results.params[\"control_params\"][\"gamma\"]"
   ]
  },
  {
   "cell_type": "code",
   "execution_count": 27,
   "id": "ac71cb51-d0d5-4371-9214-959afddaf3d6",
   "metadata": {},
   "outputs": [
    {
     "data": {
      "image/png": "[encoded data removed]",
      "text/plain": [
       "<Figure size 640x480 with 1 Axes>"
      ]
     },
     "metadata": {},
     "output_type": "display_data"
    }
   ],
   "source": [
    "cumulated_reward = results.results[\"cumulated_reward_opt\"]\n",
    "plt.plot(cumulated_reward)\n",
    "plt.show()"
   ]
  },
  {
   "cell_type": "code",
   "execution_count": 28,
   "id": "91bc670a-723c-469a-b5b5-dd1ad1735579",
   "metadata": {},
   "outputs": [],
   "source": [
    "optimal_learning_rate = results.results[\"control_signal\"].detach().cpu().numpy()"
   ]
  },
  {
   "cell_type": "code",
   "execution_count": 29,
   "id": "66bb7966-3aa9-4fe4-a188-14adc35a6506",
   "metadata": {},
   "outputs": [
    {
     "data": {
      "image/png": "[encoded data removed]",
      "text/plain": [
       "<Figure size 640x480 with 1 Axes>"
      ]
     },
     "metadata": {},
     "output_type": "display_data"
    }
   ],
   "source": [
    "plt.plot(optimal_learning_rate)\n",
    "plt.axhline(y=0.0, c = \"k\")\n",
    "plt.show()"
   ]
  },
  {
   "cell_type": "code",
   "execution_count": null,
   "id": "8405a93f-8206-4678-948d-bd7c9ac31c13",
   "metadata": {},
   "outputs": [],
   "source": []
  }
 ],
 "metadata": {
  "kernelspec": {
   "display_name": "Python 3 (ipykernel)",
   "language": "python",
   "name": "python3"
  },
  "language_info": {
   "codemirror_mode": {
    "name": "ipython",
    "version": 3
   },
   "file_extension": ".py",
   "mimetype": "text/x-python",
   "name": "python",
   "nbconvert_exporter": "python",
   "pygments_lexer": "ipython3",
   "version": "3.10.8"
  }
 },
 "nbformat": 4,
 "nbformat_minor": 5
}
